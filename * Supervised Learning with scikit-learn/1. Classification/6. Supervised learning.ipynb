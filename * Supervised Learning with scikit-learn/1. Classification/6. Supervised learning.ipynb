{
 "cells": [
  {
   "cell_type": "markdown",
   "metadata": {
    "ExecuteTime": {
     "end_time": "2020-07-24T11:20:21.989524Z",
     "start_time": "2020-07-24T11:20:12.960881Z"
    }
   },
   "source": [
    "```\n",
    "#################################################\n",
    "##                                             ##\n",
    "##  Machine Learning Fundamentals with Python  ##\n",
    "##                                             ##\n",
    "#################################################\n",
    "\n",
    "§1 Supervised Learning with scikit-learn\n",
    "\n",
    "§1.1 Classification\n",
    "\n",
    "§1.1.1 Supervised learning\n",
    "```"
   ]
  },
  {
   "cell_type": "markdown",
   "metadata": {
    "ExecuteTime": {
     "end_time": "2020-07-24T11:20:21.989524Z",
     "start_time": "2020-07-24T11:20:12.960881Z"
    }
   },
   "source": [
    "**1. What is machine learning?**\n",
    "\n",
    "$\\quad$ Machine learning gives computers the ability to learn to make decisions from data without being explicitly programmed!"
   ]
  },
  {
   "cell_type": "markdown",
   "metadata": {
    "ExecuteTime": {
     "end_time": "2020-07-24T11:20:21.989524Z",
     "start_time": "2020-07-24T11:20:12.960881Z"
    }
   },
   "source": [
    "**2. What is the difference between supervised learning and unsupervised learning?**\n",
    "\n",
    "* Supervised learning $\\rightarrow$ *labeled data*\n",
    "\n",
    "* Unsupervised learning $\\rightarrow$ *unlabeled data*"
   ]
  },
  {
   "cell_type": "markdown",
   "metadata": {
    "ExecuteTime": {
     "end_time": "2020-07-24T11:20:21.989524Z",
     "start_time": "2020-07-24T11:20:12.960881Z"
    }
   },
   "source": [
    "**3. What is the aim of supervised learning?**\n",
    "\n",
    "* Predict the target variable, given the features.\n",
    "\n",
    "    * features = *predictor variables* = *independent variables*\n",
    "\n",
    "    * target variable = *dependent variable* = *response variable*"
   ]
  },
  {
   "cell_type": "markdown",
   "metadata": {
    "ExecuteTime": {
     "end_time": "2020-07-24T11:20:21.989524Z",
     "start_time": "2020-07-24T11:20:12.960881Z"
    }
   },
   "source": [
    "**4. What is the difference between classification and regression?**\n",
    "\n",
    "* Classification $\\rightarrow$ *target variable consists of categories*\n",
    "\n",
    "* Regression $\\rightarrow$ *target variable is continuous*"
   ]
  },
  {
   "cell_type": "markdown",
   "metadata": {
    "ExecuteTime": {
     "end_time": "2020-07-24T11:20:21.989524Z",
     "start_time": "2020-07-24T11:20:12.960881Z"
    }
   },
   "source": [
    "**5. What can supervised learning do?**\n",
    "\n",
    "* Automate time-consuming or expensive manual tasks.\n",
    "\n",
    "* Make predictions about the feature.\n",
    "\n",
    "* Need labeled data, such as the historical data with labels, the crowd-sourcing labeled data, or the labeled data obtained through some experiments."
   ]
  },
  {
   "cell_type": "markdown",
   "metadata": {},
   "source": [
    "**6. Practice question for a classification problem:**\n",
    "\n",
    "* Which of the 4 example applications below of machine learning is a supervised classification problem?\n",
    "\n",
    "    $\\boxtimes$ Use labeled financial data to predict whether the value of a stock will go up or go down next week.\n",
    "\n",
    "    $\\Box$ Use labeled housing price data to predict the price of a new house based on various features.\n",
    "\n",
    "    $\\Box$ Use unlabeled data to cluster the students of an online education company into different categories based on their learning styles.\n",
    "\n",
    "    $\\Box$ Use labeled financial data to predict what the value of a stock will be next week."
   ]
  }
 ],
 "metadata": {
  "kernelspec": {
   "display_name": "Python 3",
   "language": "python",
   "name": "python3"
  },
  "language_info": {
   "codemirror_mode": {
    "name": "ipython",
    "version": 3
   },
   "file_extension": ".py",
   "mimetype": "text/x-python",
   "name": "python",
   "nbconvert_exporter": "python",
   "pygments_lexer": "ipython3",
   "version": "3.7.6"
  },
  "latex_envs": {
   "LaTeX_envs_menu_present": true,
   "autoclose": true,
   "autocomplete": true,
   "bibliofile": "biblio.bib",
   "cite_by": "apalike",
   "current_citInitial": 1,
   "eqLabelWithNumbers": true,
   "eqNumInitial": 1,
   "hotkeys": {
    "equation": "Ctrl-E",
    "itemize": "Ctrl-I"
   },
   "labels_anchors": false,
   "latex_user_defs": false,
   "report_style_numbering": true,
   "user_envs_cfg": true
  },
  "nbTranslate": {
   "displayLangs": [
    "*"
   ],
   "hotkey": "alt-t",
   "langInMainMenu": true,
   "sourceLang": "en",
   "targetLang": "fr",
   "useGoogleTranslate": true
  },
  "toc": {
   "base_numbering": 1,
   "nav_menu": {},
   "number_sections": true,
   "sideBar": true,
   "skip_h1_title": false,
   "title_cell": "Table of Contents",
   "title_sidebar": "Contents",
   "toc_cell": false,
   "toc_position": {
    "height": "calc(100% - 180px)",
    "left": "10px",
    "top": "150px",
    "width": "288px"
   },
   "toc_section_display": true,
   "toc_window_display": true
  },
  "varInspector": {
   "cols": {
    "lenName": 16,
    "lenType": 16,
    "lenVar": 40
   },
   "kernels_config": {
    "python": {
     "delete_cmd_postfix": "",
     "delete_cmd_prefix": "del ",
     "library": "var_list.py",
     "varRefreshCmd": "print(var_dic_list())"
    },
    "r": {
     "delete_cmd_postfix": ") ",
     "delete_cmd_prefix": "rm(",
     "library": "var_list.r",
     "varRefreshCmd": "cat(var_dic_list()) "
    }
   },
   "types_to_exclude": [
    "module",
    "function",
    "builtin_function_or_method",
    "instance",
    "_Feature"
   ],
   "window_display": true
  }
 },
 "nbformat": 4,
 "nbformat_minor": 4
}
