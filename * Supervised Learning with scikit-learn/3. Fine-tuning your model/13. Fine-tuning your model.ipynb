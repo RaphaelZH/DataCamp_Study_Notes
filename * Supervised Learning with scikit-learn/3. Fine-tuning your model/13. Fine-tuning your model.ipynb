{
 "cells": [
  {
   "cell_type": "markdown",
   "metadata": {},
   "source": [
    "```\n",
    "§1 Machine Learning Fundamentals with Python\n",
    "\n",
    "§1.1 Supervised Learning with scikit-learn\n",
    "\n",
    "§1.1.3 Fine-tuning your model\n",
    "```"
   ]
  },
  {
   "cell_type": "markdown",
   "metadata": {},
   "source": [
    "#### How good is your model?"
   ]
  },
  {
   "cell_type": "markdown",
   "metadata": {},
   "source": [
    "**1. Why is accuracy not always a useful metric for measuring model performance?**\n",
    "\n",
    "> * The accuracy is the fraction of correctly classified samples. *It is not always a useful metric.*\n",
    "> \n",
    "> * The spam classification, a class imbalance example, could build a classifier that predicts all emails as real, with 99% accuracy. It sounds great, but it is horrible at actually classifying spam because using accuracy fails at its original purpose.\n",
    "> \n",
    "> * Thus, more nuanced metrics are in need."
   ]
  },
  {
   "cell_type": "markdown",
   "metadata": {},
   "source": [
    "**2. When diagnosing classification predictions, what is the confusion matrix in the email spam example?**\n",
    "\n",
    "> ![Confusion matrix](ref1.%20Confusion%20matrix.jpg)"
   ]
  },
  {
   "cell_type": "markdown",
   "metadata": {},
   "source": [
    "**3. What are the metrics from the confusion matrix?**\n",
    "\n",
    "> * Accuracy: $\\frac{tp + tn}{tp + tn + fp + fn}$\n",
    "> \n",
    "> * Precision: $\\frac{tp}{tp + fp}$\n",
    "> \n",
    "> * Recall: $\\frac{tp}{tp + fn}$\n",
    "> \n",
    "> * F1score: $2 \\cdot \\frac{precision \\cdot recall}{precision + recall}$\n",
    "> \n",
    "> * High precision: not many real emails predicted as spam\n",
    "> \n",
    "> * High recall: predicted most spam emails correctly"
   ]
  },
  {
   "cell_type": "markdown",
   "metadata": {},
   "source": [
    "**4. Code of confusion matrix in scikit-learn:**"
   ]
  },
  {
   "cell_type": "code",
   "execution_count": 1,
   "metadata": {
    "ExecuteTime": {
     "end_time": "2020-08-02T15:51:47.019285Z",
     "start_time": "2020-08-02T15:51:42.942103Z"
    }
   },
   "outputs": [
    {
     "name": "stdout",
     "output_type": "stream",
     "text": [
      "[[ 56   3]\n",
      " [  7 108]]\n"
     ]
    }
   ],
   "source": [
    "import pandas as pd\n",
    "from sklearn.neighbors import KNeighborsClassifier\n",
    "from sklearn.model_selection import train_test_split\n",
    "vote = pd.read_csv('ref2. US Congressional Voting Records (1984).csv',\n",
    "                   header=None)\n",
    "vote.replace(['?', 'n', 'y', 'republican', 'democrat'], [0, -1, 1, 0, 1],\n",
    "             inplace=True)\n",
    "X = vote.iloc[:, 1:]\n",
    "y = vote.iloc[:, 0]\n",
    "from sklearn.metrics import classification_report\n",
    "from sklearn.metrics import confusion_matrix\n",
    "knn = KNeighborsClassifier(n_neighbors=8)\n",
    "X_train, X_test, y_train, y_test = train_test_split(X,\n",
    "                                                    y,\n",
    "                                                    test_size=0.4,\n",
    "                                                    random_state=42)\n",
    "knn.fit(X_train, y_train)\n",
    "y_pred = knn.predict(X_test)\n",
    "print(confusion_matrix(y_test, y_pred))"
   ]
  },
  {
   "cell_type": "code",
   "execution_count": 2,
   "metadata": {
    "ExecuteTime": {
     "end_time": "2020-08-02T15:51:47.162914Z",
     "start_time": "2020-08-02T15:51:47.100881Z"
    }
   },
   "outputs": [
    {
     "name": "stdout",
     "output_type": "stream",
     "text": [
      "              precision    recall  f1-score   support\n",
      "\n",
      "           0       0.89      0.95      0.92        59\n",
      "           1       0.97      0.94      0.96       115\n",
      "\n",
      "    accuracy                           0.94       174\n",
      "   macro avg       0.93      0.94      0.94       174\n",
      "weighted avg       0.94      0.94      0.94       174\n",
      "\n"
     ]
    }
   ],
   "source": [
    "print(classification_report(y_test, y_pred))"
   ]
  },
  {
   "cell_type": "markdown",
   "metadata": {},
   "source": [
    "#### Logistic regression and the ROC curve"
   ]
  },
  {
   "cell_type": "markdown",
   "metadata": {},
   "source": [
    "**1. How does logistic regression work for binary classification?**\n",
    "\n",
    "> * Logistic regression outputs probabilities.\n",
    "> \n",
    "> * If the probability 'p' is greater than 0.5:\n",
    "> \n",
    ">     * the data is labeled '1'\n",
    "> \n",
    "> * If the probability 'p' is less than 0.5:\n",
    "> \n",
    ">     * the data is labeled '0'"
   ]
  },
  {
   "cell_type": "markdown",
   "metadata": {},
   "source": [
    "**2. Code of logistic regression in scikit-learn:**"
   ]
  },
  {
   "cell_type": "code",
   "execution_count": 3,
   "metadata": {
    "ExecuteTime": {
     "end_time": "2020-08-02T15:51:47.281810Z",
     "start_time": "2020-08-02T15:51:47.170023Z"
    }
   },
   "outputs": [
    {
     "data": {
      "text/plain": [
       "array([0, 1])"
      ]
     },
     "execution_count": 3,
     "metadata": {},
     "output_type": "execute_result"
    }
   ],
   "source": [
    "import pandas as pd\n",
    "import numpy as np\n",
    "vote = pd.read_csv('ref2. US Congressional Voting Records (1984).csv',\n",
    "                   header=None)\n",
    "vote.replace(['?', 'n', 'y', 'republican', 'democrat'], [0, -1, 1, 0, 1],\n",
    "             inplace=True)\n",
    "X = vote.iloc[:, 1:]\n",
    "y = vote.iloc[:, 0]\n",
    "from sklearn.linear_model import LogisticRegression\n",
    "from sklearn.model_selection import train_test_split\n",
    "logreg = LogisticRegression()\n",
    "X_train, X_test, y_train, y_test = train_test_split(X,\n",
    "                                                    y,\n",
    "                                                    test_size=0.4,\n",
    "                                                    random_state=42)\n",
    "logreg.fit(X_train, y_train)\n",
    "y_pred = logreg.predict(X_test)\n",
    "np.unique(y_pred)"
   ]
  },
  {
   "cell_type": "markdown",
   "metadata": {},
   "source": [
    "**3. How to set probability thresholds?**\n",
    "\n",
    "> * By default, logistic regression threshold = 0.5.\n",
    "> \n",
    "> * Probability thresholds are not specific of logistic regression, k-NN classifiers also have thresholds."
   ]
  },
  {
   "cell_type": "markdown",
   "metadata": {},
   "source": [
    "**4. Code of plotting the Receiver Operating Characteristic (ROC) curve:**"
   ]
  },
  {
   "cell_type": "code",
   "execution_count": 4,
   "metadata": {
    "ExecuteTime": {
     "end_time": "2020-08-02T15:51:48.197312Z",
     "start_time": "2020-08-02T15:51:47.302985Z"
    }
   },
   "outputs": [
    {
     "data": {
      "image/png": "[encoded data removed]",
      "text/plain": [
       "<Figure size 432x288 with 1 Axes>"
      ]
     },
     "metadata": {
      "needs_background": "light"
     },
     "output_type": "display_data"
    }
   ],
   "source": [
    "from sklearn.metrics import roc_curve\n",
    "y_pred_prob = logreg.predict_proba(X_test)[:, 1]\n",
    "fpr, tpr, thresholds = roc_curve(y_test, y_pred_prob)\n",
    "import matplotlib.pyplot as plt\n",
    "plt.plot([0, 1], [0, 1], 'k--')\n",
    "plt.plot(fpr, tpr, label='Logistic Regression')\n",
    "plt.xlabel('False Positive Rate')\n",
    "plt.ylabel('True Positive Rate')\n",
    "plt.title('Logistic Regression ROC Curve')\n",
    "plt.show()"
   ]
  },
  {
   "cell_type": "markdown",
   "metadata": {},
   "source": [
    "#### Area under the ROC curve"
   ]
  },
  {
   "cell_type": "markdown",
   "metadata": {},
   "source": [
    "**1. What does the area under the ROC curve (AUC) mean?**\n",
    "\n",
    "> * The larger area under the ROC curve = *better model*"
   ]
  },
  {
   "cell_type": "markdown",
   "metadata": {},
   "source": [
    "**2. Code of AUC in scikit-learn:**"
   ]
  },
  {
   "cell_type": "code",
   "execution_count": 5,
   "metadata": {
    "ExecuteTime": {
     "end_time": "2020-08-02T15:51:48.308962Z",
     "start_time": "2020-08-02T15:51:48.249902Z"
    }
   },
   "outputs": [
    {
     "data": {
      "text/plain": [
       "0.9967575534266765"
      ]
     },
     "execution_count": 5,
     "metadata": {},
     "output_type": "execute_result"
    }
   ],
   "source": [
    "import pandas as pd\n",
    "from sklearn.linear_model import LogisticRegression\n",
    "from sklearn.model_selection import train_test_split\n",
    "vote = pd.read_csv('ref2. US Congressional Voting Records (1984).csv',\n",
    "                   header=None)\n",
    "vote.replace(['?', 'n', 'y', 'republican', 'democrat'], [0, -1, 1, 0, 1],\n",
    "             inplace=True)\n",
    "X = vote.iloc[:, 1:]\n",
    "y = vote.iloc[:, 0]\n",
    "from sklearn.metrics import roc_auc_score\n",
    "logreg = LogisticRegression()\n",
    "X_train, X_test, y_train, y_test = train_test_split(X,\n",
    "                                                    y,\n",
    "                                                    test_size=0.4,\n",
    "                                                    random_state=42)\n",
    "logreg.fit(X_train, y_train)\n",
    "y_pred_prob = logreg.predict_proba(X_test)[:, 1]\n",
    "roc_auc_score(y_test, y_pred_prob)"
   ]
  },
  {
   "cell_type": "markdown",
   "metadata": {},
   "source": [
    "**3. Code of AUC using cross-validation:**"
   ]
  },
  {
   "cell_type": "code",
   "execution_count": 6,
   "metadata": {
    "ExecuteTime": {
     "end_time": "2020-08-02T15:51:48.441212Z",
     "start_time": "2020-08-02T15:51:48.314933Z"
    }
   },
   "outputs": [
    {
     "name": "stdout",
     "output_type": "stream",
     "text": [
      "[0.99556049 0.99556049 0.99667037 0.99719416 0.97025814]\n"
     ]
    }
   ],
   "source": [
    "from sklearn.model_selection import cross_val_score\n",
    "cv_scores = cross_val_score(logreg, X, y, cv=5, scoring='roc_auc')\n",
    "print(cv_scores)"
   ]
  },
  {
   "cell_type": "markdown",
   "metadata": {},
   "source": [
    "#### Hyperparameter tuning"
   ]
  },
  {
   "cell_type": "markdown",
   "metadata": {},
   "source": [
    "**1. What is hyperparameter tuning?**\n",
    "\n",
    "> * Hyperparameter tuning is like choosing parameters in linear regression.\n",
    "> \n",
    "> * Hyperparameter tuning in different classifiers:\n",
    "> \n",
    ">     * ridge/lasso regression: choosing *alpha*\n",
    "> \n",
    ">     * k-nearest neighbors: choosing *n_neighbors*\n",
    ">     \n",
    "> * Parameters like *alpha* and *k* are hyperparameters.\n",
    "> \n",
    "> * Hyperparameters cannot be learned by fitting the model."
   ]
  },
  {
   "cell_type": "markdown",
   "metadata": {},
   "source": [
    "**2. How to choose the correct hyperparameter?**\n",
    "\n",
    "> * Try a bunch of different hyperparameter values.\n",
    "> \n",
    "> * Fit all of them separately.\n",
    "> \n",
    "> * See how well each performs.\n",
    "> \n",
    "> * Choose the best performing one.\n",
    "> \n",
    "> * *It is essential to use cross-validation.*"
   ]
  },
  {
   "cell_type": "markdown",
   "metadata": {},
   "source": [
    "**3. Example of the grid search cross-validation:**\n",
    "\n",
    "> ![Grid search cross-validation](ref3.%20Grid%20search%20cross-validation.jpg)"
   ]
  },
  {
   "cell_type": "markdown",
   "metadata": {},
   "source": [
    "**4. Code of GridSearchCV in scikit-learn:**"
   ]
  },
  {
   "cell_type": "code",
   "execution_count": 7,
   "metadata": {
    "ExecuteTime": {
     "end_time": "2020-08-02T15:51:49.487608Z",
     "start_time": "2020-08-02T15:51:48.446126Z"
    }
   },
   "outputs": [
    {
     "data": {
      "text/plain": [
       "{'n_neighbors': 6}"
      ]
     },
     "execution_count": 7,
     "metadata": {},
     "output_type": "execute_result"
    }
   ],
   "source": [
    "import numpy as np\n",
    "from sklearn import datasets\n",
    "from sklearn.neighbors import KNeighborsClassifier\n",
    "iris = datasets.load_iris()\n",
    "X = iris.data\n",
    "y = iris.target\n",
    "from sklearn.model_selection import GridSearchCV\n",
    "param_grid = {'n_neighbors': np.arange(1, 50)}\n",
    "knn = KNeighborsClassifier()\n",
    "knn_cv = GridSearchCV(knn, param_grid, cv=5)\n",
    "knn_cv.fit(X, y)\n",
    "knn_cv.best_params_"
   ]
  },
  {
   "cell_type": "code",
   "execution_count": 8,
   "metadata": {
    "ExecuteTime": {
     "end_time": "2020-08-02T15:51:49.547610Z",
     "start_time": "2020-08-02T15:51:49.541257Z"
    }
   },
   "outputs": [
    {
     "data": {
      "text/plain": [
       "0.9800000000000001"
      ]
     },
     "execution_count": 8,
     "metadata": {},
     "output_type": "execute_result"
    }
   ],
   "source": [
    "knn_cv.best_score_"
   ]
  },
  {
   "cell_type": "markdown",
   "metadata": {},
   "source": [
    "#### Hold-out set for final evaluation"
   ]
  },
  {
   "cell_type": "markdown",
   "metadata": {},
   "source": [
    "**1. What are the reasons for the hold-out setting?**\n",
    "\n",
    "> Because using all data for cross-validation is not ideal."
   ]
  },
  {
   "cell_type": "markdown",
   "metadata": {},
   "source": [
    "**2. What is the process of setting hold-out?**\n",
    "\n",
    "> * Split data into training and hold-out set at the beginning.\n",
    "> \n",
    "> * Perform grid search cross-validation on the training set.\n",
    "> \n",
    "> * Choose the best hyperparameters and evaluate on the hold-out set."
   ]
  }
 ],
 "metadata": {
  "kernelspec": {
   "display_name": "Python 3",
   "language": "python",
   "name": "python3"
  },
  "language_info": {
   "codemirror_mode": {
    "name": "ipython",
    "version": 3
   },
   "file_extension": ".py",
   "mimetype": "text/x-python",
   "name": "python",
   "nbconvert_exporter": "python",
   "pygments_lexer": "ipython3",
   "version": "3.7.6"
  },
  "latex_envs": {
   "LaTeX_envs_menu_present": true,
   "autoclose": true,
   "autocomplete": true,
   "bibliofile": "biblio.bib",
   "cite_by": "apalike",
   "current_citInitial": 1,
   "eqLabelWithNumbers": true,
   "eqNumInitial": 1,
   "hotkeys": {
    "equation": "Ctrl-E",
    "itemize": "Ctrl-I"
   },
   "labels_anchors": false,
   "latex_user_defs": false,
   "report_style_numbering": true,
   "user_envs_cfg": true
  },
  "nbTranslate": {
   "displayLangs": [
    "*"
   ],
   "hotkey": "alt-t",
   "langInMainMenu": true,
   "sourceLang": "en",
   "targetLang": "fr",
   "useGoogleTranslate": true
  },
  "toc": {
   "base_numbering": 1,
   "nav_menu": {},
   "number_sections": true,
   "sideBar": true,
   "skip_h1_title": false,
   "title_cell": "Table of Contents",
   "title_sidebar": "Contents",
   "toc_cell": false,
   "toc_position": {
    "height": "calc(100% - 180px)",
    "left": "10px",
    "top": "150px",
    "width": "288px"
   },
   "toc_section_display": true,
   "toc_window_display": true
  },
  "varInspector": {
   "cols": {
    "lenName": 16,
    "lenType": 16,
    "lenVar": 40
   },
   "kernels_config": {
    "python": {
     "delete_cmd_postfix": "",
     "delete_cmd_prefix": "del ",
     "library": "var_list.py",
     "varRefreshCmd": "print(var_dic_list())"
    },
    "r": {
     "delete_cmd_postfix": ") ",
     "delete_cmd_prefix": "rm(",
     "library": "var_list.r",
     "varRefreshCmd": "cat(var_dic_list()) "
    }
   },
   "types_to_exclude": [
    "module",
    "function",
    "builtin_function_or_method",
    "instance",
    "_Feature"
   ],
   "window_display": true
  }
 },
 "nbformat": 4,
 "nbformat_minor": 4
}
