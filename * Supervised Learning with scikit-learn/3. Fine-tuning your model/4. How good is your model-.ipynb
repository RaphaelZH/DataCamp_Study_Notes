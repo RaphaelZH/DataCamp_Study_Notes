{
 "cells": [
  {
   "cell_type": "markdown",
   "metadata": {},
   "source": [
    "```\n",
    "§1 Machine Learning Fundamentals with Python\n",
    "\n",
    "§1.1 Supervised Learning with scikit-learn\n",
    "\n",
    "§1.1.3 Fine-tuning your model\n",
    "\n",
    "§1.1.3.1 How good is your model?\n",
    "```"
   ]
  },
  {
   "cell_type": "markdown",
   "metadata": {},
   "source": [
    "**1. Why is accuracy not always a useful metric for measuring model performance?**\n",
    "\n",
    "> * The accuracy is the fraction of correctly classified samples. *It is not always a useful metric.*\n",
    "> \n",
    "> * The spam classification, a class imbalance example, could build a classifier that predicts all emails as real, with 99% accuracy. It sounds great, but it is horrible at actually classifying spam because using accuracy fails at its original purpose.\n",
    "> \n",
    "> * Thus, more nuanced metrics are in need."
   ]
  },
  {
   "cell_type": "markdown",
   "metadata": {},
   "source": [
    "**2. When diagnosing classification predictions, what is the confusion matrix in the email spam example?**\n",
    "\n",
    "> ![Confusion matrix](ref1.%20Confusion%20matrix.jpg)"
   ]
  },
  {
   "cell_type": "markdown",
   "metadata": {},
   "source": [
    "**3. What are the metrics from the confusion matrix?**\n",
    "\n",
    "> * Accuracy: $\\frac{tp + tn}{tp + tn + fp + fn}$\n",
    "> \n",
    "> * Precision: $\\frac{tp}{tp + fp}$\n",
    "> \n",
    "> * Recall: $\\frac{tp}{tp + fn}$\n",
    "> \n",
    "> * F1score: $2 \\cdot \\frac{precision \\cdot recall}{precision + recall}$\n",
    "> \n",
    "> * High precision: not many real emails predicted as spam\n",
    "> \n",
    "> * High recall: predicted most spam emails correctly"
   ]
  },
  {
   "cell_type": "markdown",
   "metadata": {},
   "source": [
    "**4. Code of confusion matrix in scikit-learn:**"
   ]
  },
  {
   "cell_type": "code",
   "execution_count": 1,
   "metadata": {
    "ExecuteTime": {
     "end_time": "2020-08-02T15:47:45.452674Z",
     "start_time": "2020-08-02T15:47:42.305555Z"
    }
   },
   "outputs": [
    {
     "name": "stdout",
     "output_type": "stream",
     "text": [
      "[[ 56   3]\n",
      " [  7 108]]\n"
     ]
    }
   ],
   "source": [
    "import pandas as pd\n",
    "from sklearn.neighbors import KNeighborsClassifier\n",
    "from sklearn.model_selection import train_test_split\n",
    "vote = pd.read_csv('ref2. US Congressional Voting Records (1984).csv',\n",
    "                   header=None)\n",
    "vote.replace(['?', 'n', 'y', 'republican', 'democrat'], [0, -1, 1, 0, 1],\n",
    "             inplace=True)\n",
    "X = vote.iloc[:, 1:]\n",
    "y = vote.iloc[:, 0]\n",
    "from sklearn.metrics import classification_report\n",
    "from sklearn.metrics import confusion_matrix\n",
    "knn = KNeighborsClassifier(n_neighbors=8)\n",
    "X_train, X_test, y_train, y_test = train_test_split(X,\n",
    "                                                    y,\n",
    "                                                    test_size=0.4,\n",
    "                                                    random_state=42)\n",
    "knn.fit(X_train, y_train)\n",
    "y_pred = knn.predict(X_test)\n",
    "print(confusion_matrix(y_test, y_pred))"
   ]
  },
  {
   "cell_type": "code",
   "execution_count": 2,
   "metadata": {
    "ExecuteTime": {
     "end_time": "2020-08-02T15:47:45.538067Z",
     "start_time": "2020-08-02T15:47:45.485617Z"
    }
   },
   "outputs": [
    {
     "name": "stdout",
     "output_type": "stream",
     "text": [
      "              precision    recall  f1-score   support\n",
      "\n",
      "           0       0.89      0.95      0.92        59\n",
      "           1       0.97      0.94      0.96       115\n",
      "\n",
      "    accuracy                           0.94       174\n",
      "   macro avg       0.93      0.94      0.94       174\n",
      "weighted avg       0.94      0.94      0.94       174\n",
      "\n"
     ]
    }
   ],
   "source": [
    "print(classification_report(y_test, y_pred))"
   ]
  }
 ],
 "metadata": {
  "kernelspec": {
   "display_name": "Python 3",
   "language": "python",
   "name": "python3"
  },
  "language_info": {
   "codemirror_mode": {
    "name": "ipython",
    "version": 3
   },
   "file_extension": ".py",
   "mimetype": "text/x-python",
   "name": "python",
   "nbconvert_exporter": "python",
   "pygments_lexer": "ipython3",
   "version": "3.7.6"
  },
  "latex_envs": {
   "LaTeX_envs_menu_present": true,
   "autoclose": true,
   "autocomplete": true,
   "bibliofile": "biblio.bib",
   "cite_by": "apalike",
   "current_citInitial": 1,
   "eqLabelWithNumbers": true,
   "eqNumInitial": 1,
   "hotkeys": {
    "equation": "Ctrl-E",
    "itemize": "Ctrl-I"
   },
   "labels_anchors": false,
   "latex_user_defs": false,
   "report_style_numbering": true,
   "user_envs_cfg": true
  },
  "nbTranslate": {
   "displayLangs": [
    "*"
   ],
   "hotkey": "alt-t",
   "langInMainMenu": true,
   "sourceLang": "en",
   "targetLang": "fr",
   "useGoogleTranslate": true
  },
  "toc": {
   "base_numbering": 1,
   "nav_menu": {},
   "number_sections": true,
   "sideBar": true,
   "skip_h1_title": false,
   "title_cell": "Table of Contents",
   "title_sidebar": "Contents",
   "toc_cell": false,
   "toc_position": {
    "height": "calc(100% - 180px)",
    "left": "10px",
    "top": "150px",
    "width": "288px"
   },
   "toc_section_display": true,
   "toc_window_display": true
  },
  "varInspector": {
   "cols": {
    "lenName": 16,
    "lenType": 16,
    "lenVar": 40
   },
   "kernels_config": {
    "python": {
     "delete_cmd_postfix": "",
     "delete_cmd_prefix": "del ",
     "library": "var_list.py",
     "varRefreshCmd": "print(var_dic_list())"
    },
    "r": {
     "delete_cmd_postfix": ") ",
     "delete_cmd_prefix": "rm(",
     "library": "var_list.r",
     "varRefreshCmd": "cat(var_dic_list()) "
    }
   },
   "types_to_exclude": [
    "module",
    "function",
    "builtin_function_or_method",
    "instance",
    "_Feature"
   ],
   "window_display": true
  }
 },
 "nbformat": 4,
 "nbformat_minor": 4
}
