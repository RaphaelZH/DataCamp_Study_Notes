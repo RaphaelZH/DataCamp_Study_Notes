{
 "cells": [
  {
   "cell_type": "markdown",
   "metadata": {
    "toc": true
   },
   "source": [
    "<h1>Table of Contents<span class=\"tocSkip\"></span></h1>\n",
    "<div class=\"toc\"><ul class=\"toc-item\"><li><span><a href=\"#Understanding-model-optimization\" data-toc-modified-id=\"Understanding-model-optimization-1\"><span class=\"toc-item-num\">1&nbsp;&nbsp;</span>Understanding model optimization</a></span><ul class=\"toc-item\"><li><span><a href=\"#[note-1]-Why-optimization-is-hard\" data-toc-modified-id=\"[note-1]-Why-optimization-is-hard-1.1\"><span class=\"toc-item-num\">1.1&nbsp;&nbsp;</span><code>[note-1]</code> Why optimization is hard</a></span></li><li><span><a href=\"#[code-1]-Stochastic-gradient-descent\" data-toc-modified-id=\"[code-1]-Stochastic-gradient-descent-1.2\"><span class=\"toc-item-num\">1.2&nbsp;&nbsp;</span><code>[code-1]</code> Stochastic gradient descent</a></span></li><li><span><a href=\"#[note-2]-The-dying-neuron-problem\" data-toc-modified-id=\"[note-2]-The-dying-neuron-problem-1.3\"><span class=\"toc-item-num\">1.3&nbsp;&nbsp;</span><code>[note-2]</code> The dying neuron problem</a></span></li><li><span><a href=\"#[note-3]-Vanishing-gradients\" data-toc-modified-id=\"[note-3]-Vanishing-gradients-1.4\"><span class=\"toc-item-num\">1.4&nbsp;&nbsp;</span><code>[note-3]</code> Vanishing gradients</a></span></li><li><span><a href=\"#[quiz-1]-Diagnosing-optimization-problems\" data-toc-modified-id=\"[quiz-1]-Diagnosing-optimization-problems-1.5\"><span class=\"toc-item-num\">1.5&nbsp;&nbsp;</span><code>[quiz-1]</code> Diagnosing optimization problems</a></span></li><li><span><a href=\"#[task-1]-Changing-optimization-parameters\" data-toc-modified-id=\"[task-1]-Changing-optimization-parameters-1.6\"><span class=\"toc-item-num\">1.6&nbsp;&nbsp;</span><code>[task-1]</code> Changing optimization parameters</a></span></li></ul></li><li><span><a href=\"#Model-validation\" data-toc-modified-id=\"Model-validation-2\"><span class=\"toc-item-num\">2&nbsp;&nbsp;</span>Model validation</a></span><ul class=\"toc-item\"><li><span><a href=\"#[note-1]-Validation-in-deep-learning\" data-toc-modified-id=\"[note-1]-Validation-in-deep-learning-2.1\"><span class=\"toc-item-num\">2.1&nbsp;&nbsp;</span><code>[note-1]</code> Validation in deep learning</a></span></li><li><span><a href=\"#[code-1]-Model-validation\" data-toc-modified-id=\"[code-1]-Model-validation-2.2\"><span class=\"toc-item-num\">2.2&nbsp;&nbsp;</span><code>[code-1]</code> Model validation</a></span></li><li><span><a href=\"#[code-2]-Early-stopping\" data-toc-modified-id=\"[code-2]-Early-stopping-2.3\"><span class=\"toc-item-num\">2.3&nbsp;&nbsp;</span><code>[code-2]</code> Early stopping</a></span></li><li><span><a href=\"#[note-2]-Experimentation\" data-toc-modified-id=\"[note-2]-Experimentation-2.4\"><span class=\"toc-item-num\">2.4&nbsp;&nbsp;</span><code>[note-2]</code> Experimentation</a></span></li><li><span><a href=\"#[task-1]-Evaluating-model-accuracy-on-a-validation-dataset\" data-toc-modified-id=\"[task-1]-Evaluating-model-accuracy-on-a-validation-dataset-2.5\"><span class=\"toc-item-num\">2.5&nbsp;&nbsp;</span><code>[task-1]</code> Evaluating model accuracy on a validation dataset</a></span></li><li><span><a href=\"#[task-2]-Early-stopping:-optimizing-the-optimization\" data-toc-modified-id=\"[task-2]-Early-stopping:-optimizing-the-optimization-2.6\"><span class=\"toc-item-num\">2.6&nbsp;&nbsp;</span><code>[task-2]</code> Early stopping: optimizing the optimization</a></span></li><li><span><a href=\"#[task-3]-Experimenting-with-wider-networks\" data-toc-modified-id=\"[task-3]-Experimenting-with-wider-networks-2.7\"><span class=\"toc-item-num\">2.7&nbsp;&nbsp;</span><code>[task-3]</code> Experimenting with wider networks</a></span></li><li><span><a href=\"#[task-4]-Adding-layers-to-a-network\" data-toc-modified-id=\"[task-4]-Adding-layers-to-a-network-2.8\"><span class=\"toc-item-num\">2.8&nbsp;&nbsp;</span><code>[task-4]</code> Adding layers to a network</a></span></li></ul></li><li><span><a href=\"#Thinking-about-model-capacity\" data-toc-modified-id=\"Thinking-about-model-capacity-3\"><span class=\"toc-item-num\">3&nbsp;&nbsp;</span>Thinking about model capacity</a></span><ul class=\"toc-item\"><li><span><a href=\"#[note-1]-Overfitting\" data-toc-modified-id=\"[note-1]-Overfitting-3.1\"><span class=\"toc-item-num\">3.1&nbsp;&nbsp;</span><code>[note-1]</code> Overfitting</a></span></li><li><span><a href=\"#[note-2]-Workflow-for-optimizing-model-capacity\" data-toc-modified-id=\"[note-2]-Workflow-for-optimizing-model-capacity-3.2\"><span class=\"toc-item-num\">3.2&nbsp;&nbsp;</span><code>[note-2]</code> Workflow for optimizing model capacity</a></span></li><li><span><a href=\"#[note-3]-Sequential-experiments\" data-toc-modified-id=\"[note-3]-Sequential-experiments-3.3\"><span class=\"toc-item-num\">3.3&nbsp;&nbsp;</span><code>[note-3]</code> Sequential experiments</a></span></li><li><span><a href=\"#[quiz-1]-Experimenting-with-model-structures\" data-toc-modified-id=\"[quiz-1]-Experimenting-with-model-structures-3.4\"><span class=\"toc-item-num\">3.4&nbsp;&nbsp;</span><code>[quiz-1]</code> Experimenting with model structures</a></span></li></ul></li><li><span><a href=\"#Stepping-up-to-images\" data-toc-modified-id=\"Stepping-up-to-images-4\"><span class=\"toc-item-num\">4&nbsp;&nbsp;</span>Stepping up to images</a></span><ul class=\"toc-item\"><li><span><a href=\"#[note-1]-Recognizing-handwritten-digits\" data-toc-modified-id=\"[note-1]-Recognizing-handwritten-digits-4.1\"><span class=\"toc-item-num\">4.1&nbsp;&nbsp;</span><code>[note-1]</code> Recognizing handwritten digits</a></span></li><li><span><a href=\"#[task-1]-Building-an-own-digit-recognition-model\" data-toc-modified-id=\"[task-1]-Building-an-own-digit-recognition-model-4.2\"><span class=\"toc-item-num\">4.2&nbsp;&nbsp;</span><code>[task-1]</code> Building an own digit recognition model</a></span></li></ul></li><li><span><a href=\"#Final-thoughts\" data-toc-modified-id=\"Final-thoughts-5\"><span class=\"toc-item-num\">5&nbsp;&nbsp;</span>Final thoughts</a></span><ul class=\"toc-item\"><li><span><a href=\"#[note-1]-Next-steps\" data-toc-modified-id=\"[note-1]-Next-steps-5.1\"><span class=\"toc-item-num\">5.1&nbsp;&nbsp;</span><code>[note-1]</code> Next steps</a></span></li></ul></li><li><span><a href=\"#Requirements\" data-toc-modified-id=\"Requirements-6\"><span class=\"toc-item-num\">6&nbsp;&nbsp;</span>Requirements</a></span></li></ul></div>"
   ]
  },
  {
   "cell_type": "markdown",
   "metadata": {},
   "source": [
    "# Understanding model optimization"
   ]
  },
  {
   "cell_type": "markdown",
   "metadata": {
    "ExecuteTime": {
     "end_time": "2020-07-24T11:20:21.989524Z",
     "start_time": "2020-07-24T11:20:12.960881Z"
    }
   },
   "source": [
    "## `[note-1]` Why optimization is hard\n",
    "\n",
    "* Simultaneously optimizing 1000s of parameters with complex relationships.\n",
    "\n",
    "* Updates may not improve the model meaningfully.\n",
    "\n",
    "* Updates could be too small (if the learning rate is low) or too large (if the learning rate is high)."
   ]
  },
  {
   "cell_type": "markdown",
   "metadata": {},
   "source": [
    "## `[code-1]` Stochastic gradient descent"
   ]
  },
  {
   "cell_type": "code",
   "execution_count": 1,
   "metadata": {
    "ExecuteTime": {
     "end_time": "2021-05-09T11:56:17.528905Z",
     "start_time": "2021-05-09T11:55:52.517628Z"
    }
   },
   "outputs": [
    {
     "name": "stdout",
     "output_type": "stream",
     "text": [
      "4003/4003 [==============================] - 6s 1ms/step - loss: 0.8647\n",
      "4003/4003 [==============================] - 6s 1ms/step - loss: 0.6761\n",
      "4003/4003 [==============================] - 6s 1ms/step - loss: nan\n"
     ]
    }
   ],
   "source": [
    "import pandas as pd\n",
    "from tensorflow.keras.layers import Dense\n",
    "from tensorflow.keras.models import Sequential\n",
    "from tensorflow.keras.utils import to_categorical\n",
    "from tensorflow.keras.optimizers import SGD\n",
    "\n",
    "\n",
    "def data_preparation(data):\n",
    "    df = data.reindex(columns=[\n",
    "        'SHOT_CLOCK', 'DRIBBLES', 'TOUCH_TIME', 'SHOT_DIST', 'CLOSE_DEF_DIST',\n",
    "        'SHOT_RESULT'\n",
    "    ])\n",
    "    df['SHOT_CLOCK'] = df['SHOT_CLOCK'].fillna(0)\n",
    "    df['SHOT_RESULT'].replace('missed', 0, inplace=True)\n",
    "    df['SHOT_RESULT'].replace('made', 1, inplace=True)\n",
    "    df.columns = df.columns.str.lower()\n",
    "    return df\n",
    "\n",
    "\n",
    "data = pd.read_csv('../Datasets/1. Basketball shot log.csv')\n",
    "df = data_preparation(data)\n",
    "\n",
    "predictors = df.drop(['shot_result'], axis=1).to_numpy()\n",
    "n_cols = predictors.shape[1]\n",
    "target = to_categorical(df.shot_result)\n",
    "input_shape = (n_cols, )\n",
    "\n",
    "\n",
    "def get_new_model(input_shape=input_shape):\n",
    "    model = Sequential()\n",
    "    model.add(Dense(100, activation='relu', input_shape=input_shape))\n",
    "    model.add(Dense(100, activation='relu'))\n",
    "    model.add(Dense(2, activation='softmax'))\n",
    "    return (model)\n",
    "\n",
    "\n",
    "lr_to_test = [.000001, 0.01, 1]\n",
    "\n",
    "# loop over learning rates\n",
    "for lr in lr_to_test:\n",
    "    model = get_new_model()\n",
    "    my_optimizer = SGD(lr=lr)\n",
    "    model.compile(optimizer=my_optimizer, loss='categorical_crossentropy')\n",
    "    model.fit(predictors, target)"
   ]
  },
  {
   "cell_type": "markdown",
   "metadata": {},
   "source": [
    "## `[note-2]` The dying neuron problem\n",
    "\n",
    "![The dying neuron problem](../Figures/1.%20The%20dying%20neuron%20problem.jpg)"
   ]
  },
  {
   "cell_type": "markdown",
   "metadata": {},
   "source": [
    "## `[note-3]` Vanishing gradients\n",
    "\n",
    "* It occurs when many layers have very small slopes (*e.g., due to being on at part of tanh curve*).\n",
    "\n",
    "* In deep networks, updates to backpropagation were close to 0.\n",
    "\n",
    "![Vanishing gradients](../Figures/2.%20Vanishing%20gradient.jpg)"
   ]
  },
  {
   "cell_type": "markdown",
   "metadata": {},
   "source": [
    "## `[quiz-1]` Diagnosing optimization problems\n",
    "\n",
    "* Which of the following could prevent a model from showing an improved loss in its first few epochs?\n",
    "\n",
    "    $\\Box$ Learning rate too low.\n",
    "\n",
    "    $\\Box$ Learning rate too high.\n",
    "\n",
    "    $\\Box$ Poor choice of the activation function.\n",
    "\n",
    "    $\\boxtimes$ All of the above."
   ]
  },
  {
   "cell_type": "markdown",
   "metadata": {},
   "source": [
    "## `[task-1]` Changing optimization parameters\n",
    "\n",
    "$\\blacktriangleright$ **Package pre-loading**"
   ]
  },
  {
   "cell_type": "code",
   "execution_count": 2,
   "metadata": {
    "ExecuteTime": {
     "end_time": "2021-05-09T11:56:17.545567Z",
     "start_time": "2021-05-09T11:56:17.539628Z"
    }
   },
   "outputs": [],
   "source": [
    "import pandas as pd\n",
    "from tensorflow.keras.layers import Dense\n",
    "from tensorflow.keras.models import Sequential\n",
    "from tensorflow.keras.utils import to_categorical"
   ]
  },
  {
   "cell_type": "markdown",
   "metadata": {},
   "source": [
    "$\\blacktriangleright$ **Data pre-loading**"
   ]
  },
  {
   "cell_type": "code",
   "execution_count": 3,
   "metadata": {
    "ExecuteTime": {
     "end_time": "2021-05-09T11:56:17.588103Z",
     "start_time": "2021-05-09T11:56:17.560966Z"
    }
   },
   "outputs": [],
   "source": [
    "df = pd.read_csv('../Datasets/2. Titanic.csv')\n",
    "\n",
    "df.replace(False, 0, inplace=True)\n",
    "df.replace(True, 1, inplace=True)\n",
    "\n",
    "predictors = df.drop(['survived'], axis=1).to_numpy()\n",
    "n_cols = predictors.shape[1]\n",
    "target = to_categorical(df.survived)\n",
    "input_shape = (n_cols, )"
   ]
  },
  {
   "cell_type": "markdown",
   "metadata": {},
   "source": [
    "$\\blacktriangleright$ **Code pre-loading**"
   ]
  },
  {
   "cell_type": "code",
   "execution_count": 4,
   "metadata": {
    "ExecuteTime": {
     "end_time": "2021-05-09T11:56:17.602152Z",
     "start_time": "2021-05-09T11:56:17.595354Z"
    }
   },
   "outputs": [],
   "source": [
    "def get_new_model(input_shape=input_shape):\n",
    "    model = Sequential()\n",
    "    model.add(Dense(100, activation='relu', input_shape=input_shape))\n",
    "    model.add(Dense(100, activation='relu'))\n",
    "    model.add(Dense(2, activation='softmax'))\n",
    "    return (model)"
   ]
  },
  {
   "cell_type": "markdown",
   "metadata": {},
   "source": [
    "$\\blacktriangleright$ **Task practice**"
   ]
  },
  {
   "cell_type": "code",
   "execution_count": 5,
   "metadata": {
    "ExecuteTime": {
     "end_time": "2021-05-09T11:56:19.392067Z",
     "start_time": "2021-05-09T11:56:17.612218Z"
    }
   },
   "outputs": [
    {
     "name": "stdout",
     "output_type": "stream",
     "text": [
      "\n",
      "\n",
      "Testing model with learning rate: 0.000001\n",
      "\n",
      "28/28 [==============================] - 0s 1ms/step - loss: 8.1813\n",
      "\n",
      "\n",
      "Testing model with learning rate: 0.010000\n",
      "\n",
      "28/28 [==============================] - 0s 1ms/step - loss: 2.6332\n",
      "\n",
      "\n",
      "Testing model with learning rate: 1.000000\n",
      "\n",
      "28/28 [==============================] - 1s 1ms/step - loss: 7112734.1584\n"
     ]
    }
   ],
   "source": [
    "# Import the SGD optimizer\n",
    "from tensorflow.keras.optimizers import SGD\n",
    "\n",
    "# Create list of learning rates: lr_to_test\n",
    "lr_to_test = [.000001, 0.01, 1]\n",
    "\n",
    "# Loop over learning rates\n",
    "for lr in lr_to_test:\n",
    "    print('\\n\\nTesting model with learning rate: %f\\n' % lr)\n",
    "\n",
    "    # Build new model to test, unaffected by previous models\n",
    "    model = get_new_model()\n",
    "\n",
    "    # Create SGD optimizer with specified learning rate: my_optimizer\n",
    "    my_optimizer = SGD(lr=lr)\n",
    "\n",
    "    # Compile the model\n",
    "    model.compile(optimizer=my_optimizer, loss='categorical_crossentropy')\n",
    "\n",
    "    # Fit the model\n",
    "    model.fit(predictors, target)"
   ]
  },
  {
   "cell_type": "markdown",
   "metadata": {},
   "source": [
    "# Model validation"
   ]
  },
  {
   "cell_type": "markdown",
   "metadata": {
    "ExecuteTime": {
     "end_time": "2020-07-24T11:20:21.989524Z",
     "start_time": "2020-07-24T11:20:12.960881Z"
    }
   },
   "source": [
    "## `[note-1]` Validation in deep learning\n",
    "\n",
    "* Commonly use validation split rather than cross-validation.\n",
    "\n",
    "* Deep learning is widely used on large datasets.\n",
    "\n",
    "* A single validation score is based on a large amount of data and is reliable.\n",
    "\n",
    "* Repeated training from cross-validation would take a long time."
   ]
  },
  {
   "cell_type": "markdown",
   "metadata": {},
   "source": [
    "## `[code-1]` Model validation"
   ]
  },
  {
   "cell_type": "code",
   "execution_count": 6,
   "metadata": {
    "ExecuteTime": {
     "end_time": "2021-05-09T11:56:28.176631Z",
     "start_time": "2021-05-09T11:56:19.396326Z"
    }
   },
   "outputs": [
    {
     "name": "stdout",
     "output_type": "stream",
     "text": [
      "2802/2802 [==============================] - 8s 2ms/step - loss: 0.6752 - accuracy: 0.5946 - val_loss: 0.6521 - val_accuracy: 0.6168\n"
     ]
    },
    {
     "data": {
      "text/plain": [
       "<tensorflow.python.keras.callbacks.History at 0x7fdb85e19050>"
      ]
     },
     "execution_count": 6,
     "metadata": {},
     "output_type": "execute_result"
    }
   ],
   "source": [
    "import pandas as pd\n",
    "from tensorflow.keras.layers import Dense\n",
    "from tensorflow.keras.models import Sequential\n",
    "from tensorflow.keras.utils import to_categorical\n",
    "\n",
    "\n",
    "def data_preparation(data):\n",
    "    df = data.reindex(columns=[\n",
    "        'SHOT_CLOCK', 'DRIBBLES', 'TOUCH_TIME', 'SHOT_DIST', 'CLOSE_DEF_DIST',\n",
    "        'SHOT_RESULT'\n",
    "    ])\n",
    "    df['SHOT_CLOCK'] = df['SHOT_CLOCK'].fillna(0)\n",
    "    df['SHOT_RESULT'].replace('missed', 0, inplace=True)\n",
    "    df['SHOT_RESULT'].replace('made', 1, inplace=True)\n",
    "    df.columns = df.columns.str.lower()\n",
    "    return df\n",
    "\n",
    "\n",
    "data = pd.read_csv('../Datasets/1. Basketball shot log.csv')\n",
    "df = data_preparation(data)\n",
    "predictors = df.drop(['shot_result'], axis=1).to_numpy()\n",
    "n_cols = predictors.shape[1]\n",
    "input_shape = (n_cols, )\n",
    "target = to_categorical(df.shot_result)\n",
    "\n",
    "\n",
    "def get_new_model(input_shape=input_shape):\n",
    "    model = Sequential()\n",
    "    model.add(Dense(100, activation='relu', input_shape=input_shape))\n",
    "    model.add(Dense(100, activation='relu'))\n",
    "    model.add(Dense(2, activation='softmax'))\n",
    "    return (model)\n",
    "\n",
    "\n",
    "model = get_new_model()\n",
    "\n",
    "model.compile(optimizer='adam',\n",
    "              loss='categorical_crossentropy',\n",
    "              metrics=['accuracy'])\n",
    "model.fit(predictors, target, validation_split=0.3)"
   ]
  },
  {
   "cell_type": "markdown",
   "metadata": {},
   "source": [
    "## `[code-2]` Early stopping"
   ]
  },
  {
   "cell_type": "code",
   "execution_count": 7,
   "metadata": {
    "ExecuteTime": {
     "end_time": "2021-05-09T11:56:53.893075Z",
     "start_time": "2021-05-09T11:56:28.180024Z"
    }
   },
   "outputs": [
    {
     "name": "stdout",
     "output_type": "stream",
     "text": [
      "Epoch 1/20\n",
      "2802/2802 [==============================] - 6s 2ms/step - loss: 0.6535 - accuracy: 0.6180 - val_loss: 0.6527 - val_accuracy: 0.6159\n",
      "Epoch 2/20\n",
      "2802/2802 [==============================] - 6s 2ms/step - loss: 0.6521 - accuracy: 0.6173 - val_loss: 0.6503 - val_accuracy: 0.6183\n",
      "Epoch 3/20\n",
      "2802/2802 [==============================] - 6s 2ms/step - loss: 0.6514 - accuracy: 0.6190 - val_loss: 0.6514 - val_accuracy: 0.6181\n",
      "Epoch 4/20\n",
      "2802/2802 [==============================] - 6s 2ms/step - loss: 0.6507 - accuracy: 0.6198 - val_loss: 0.6503 - val_accuracy: 0.6157\n"
     ]
    },
    {
     "data": {
      "text/plain": [
       "<tensorflow.python.keras.callbacks.History at 0x7fdb6d230750>"
      ]
     },
     "execution_count": 7,
     "metadata": {},
     "output_type": "execute_result"
    }
   ],
   "source": [
    "from tensorflow.keras.callbacks import EarlyStopping\n",
    "\n",
    "early_stopping_monitor = EarlyStopping(patience=2)\n",
    "\n",
    "model.fit(predictors,\n",
    "          target,\n",
    "          validation_split=0.3,\n",
    "          epochs=20,\n",
    "          callbacks=[early_stopping_monitor])"
   ]
  },
  {
   "cell_type": "markdown",
   "metadata": {},
   "source": [
    "## `[note-2]` Experimentation\n",
    "\n",
    "* Experiment with different architectures.\n",
    "\n",
    "* More layers.\n",
    "\n",
    "* Fewer layers.\n",
    "\n",
    "* Layers with more nodes.\n",
    "\n",
    "* Layers with fewer nodes.\n",
    "\n",
    "* Creating a great model requires experimentation."
   ]
  },
  {
   "cell_type": "markdown",
   "metadata": {},
   "source": [
    "## `[task-1]` Evaluating model accuracy on a validation dataset\n",
    "\n",
    "$\\blacktriangleright$ **Package pre-loading**"
   ]
  },
  {
   "cell_type": "code",
   "execution_count": 8,
   "metadata": {
    "ExecuteTime": {
     "end_time": "2021-05-09T11:56:53.908284Z",
     "start_time": "2021-05-09T11:56:53.903603Z"
    }
   },
   "outputs": [],
   "source": [
    "import pandas as pd\n",
    "from tensorflow.keras.layers import Dense\n",
    "from tensorflow.keras.models import Sequential\n",
    "from tensorflow.keras.utils import to_categorical"
   ]
  },
  {
   "cell_type": "markdown",
   "metadata": {},
   "source": [
    "$\\blacktriangleright$ **Data pre-loading**"
   ]
  },
  {
   "cell_type": "code",
   "execution_count": 9,
   "metadata": {
    "ExecuteTime": {
     "end_time": "2021-05-09T11:56:53.934521Z",
     "start_time": "2021-05-09T11:56:53.913112Z"
    }
   },
   "outputs": [],
   "source": [
    "df = pd.read_csv('../Datasets/2. Titanic.csv')\n",
    "\n",
    "df.replace(False, 0, inplace=True)\n",
    "df.replace(True, 1, inplace=True)\n",
    "\n",
    "predictors = df.drop(['survived'], axis=1).to_numpy()\n",
    "n_cols = predictors.shape[1]\n",
    "input_shape = (n_cols, )\n",
    "target = to_categorical(df.survived)"
   ]
  },
  {
   "cell_type": "markdown",
   "metadata": {},
   "source": [
    "$\\blacktriangleright$ **Task practice**"
   ]
  },
  {
   "cell_type": "code",
   "execution_count": 10,
   "metadata": {
    "ExecuteTime": {
     "end_time": "2021-05-09T11:56:55.144875Z",
     "start_time": "2021-05-09T11:56:53.937109Z"
    }
   },
   "outputs": [
    {
     "name": "stdout",
     "output_type": "stream",
     "text": [
      "20/20 [==============================] - 1s 17ms/step - loss: 1.1009 - accuracy: 0.5816 - val_loss: 0.7950 - val_accuracy: 0.5970\n"
     ]
    }
   ],
   "source": [
    "# Save the number of columns in predictors: n_cols\n",
    "n_cols = predictors.shape[1]\n",
    "input_shape = (n_cols, )\n",
    "\n",
    "# Specify the model\n",
    "model = Sequential()\n",
    "model.add(Dense(100, activation='relu', input_shape=input_shape))\n",
    "model.add(Dense(100, activation='relu'))\n",
    "model.add(Dense(2, activation='softmax'))\n",
    "\n",
    "# Compile the model\n",
    "model.compile(optimizer='adam',\n",
    "              loss='categorical_crossentropy',\n",
    "              metrics=['accuracy'])\n",
    "\n",
    "# Fit the model\n",
    "hist = model.fit(predictors, target, validation_split=0.3)"
   ]
  },
  {
   "cell_type": "markdown",
   "metadata": {},
   "source": [
    "## `[task-2]` Early stopping: optimizing the optimization\n",
    "\n",
    "$\\blacktriangleright$ **Task practice**"
   ]
  },
  {
   "cell_type": "code",
   "execution_count": 11,
   "metadata": {
    "ExecuteTime": {
     "end_time": "2021-05-09T11:56:56.617056Z",
     "start_time": "2021-05-09T11:56:55.147537Z"
    }
   },
   "outputs": [
    {
     "name": "stdout",
     "output_type": "stream",
     "text": [
      "Epoch 1/30\n",
      "20/20 [==============================] - 1s 16ms/step - loss: 1.3916 - accuracy: 0.5616 - val_loss: 0.6246 - val_accuracy: 0.7127\n",
      "Epoch 2/30\n",
      "20/20 [==============================] - 0s 7ms/step - loss: 0.6310 - accuracy: 0.6735 - val_loss: 0.5548 - val_accuracy: 0.7575\n",
      "Epoch 3/30\n",
      "20/20 [==============================] - 0s 5ms/step - loss: 0.6037 - accuracy: 0.6822 - val_loss: 0.5451 - val_accuracy: 0.7425\n",
      "Epoch 4/30\n",
      "20/20 [==============================] - 0s 5ms/step - loss: 0.5827 - accuracy: 0.7176 - val_loss: 0.5285 - val_accuracy: 0.7388\n",
      "Epoch 5/30\n",
      "20/20 [==============================] - 0s 6ms/step - loss: 0.5831 - accuracy: 0.6843 - val_loss: 0.5862 - val_accuracy: 0.6716\n",
      "Epoch 6/30\n",
      "20/20 [==============================] - 0s 5ms/step - loss: 0.7021 - accuracy: 0.6659 - val_loss: 0.6203 - val_accuracy: 0.6866\n"
     ]
    },
    {
     "data": {
      "text/plain": [
       "<tensorflow.python.keras.callbacks.History at 0x7fdb8664a850>"
      ]
     },
     "execution_count": 11,
     "metadata": {},
     "output_type": "execute_result"
    }
   ],
   "source": [
    "# Import EarlyStopping\n",
    "from tensorflow.keras.callbacks import EarlyStopping\n",
    "\n",
    "# Save the number of columns in predictors: n_cols\n",
    "n_cols = predictors.shape[1]\n",
    "input_shape = (n_cols, )\n",
    "\n",
    "# Specify the model\n",
    "model = Sequential()\n",
    "model.add(Dense(100, activation='relu', input_shape=input_shape))\n",
    "model.add(Dense(100, activation='relu'))\n",
    "model.add(Dense(2, activation='softmax'))\n",
    "\n",
    "# Compile the model\n",
    "model.compile(optimizer='adam',\n",
    "              loss='categorical_crossentropy',\n",
    "              metrics=['accuracy'])\n",
    "\n",
    "# Define early_stopping_monitor\n",
    "early_stopping_monitor = EarlyStopping(patience=2)\n",
    "\n",
    "# Fit the model\n",
    "model.fit(predictors,\n",
    "          target,\n",
    "          validation_split=0.3,\n",
    "          epochs=30,\n",
    "          callbacks=[early_stopping_monitor])"
   ]
  },
  {
   "cell_type": "markdown",
   "metadata": {},
   "source": [
    "## `[task-3]` Experimenting with wider networks\n",
    "\n",
    "$\\blacktriangleright$ **Package pre-loading**"
   ]
  },
  {
   "cell_type": "code",
   "execution_count": 12,
   "metadata": {
    "ExecuteTime": {
     "end_time": "2021-05-09T11:56:57.215266Z",
     "start_time": "2021-05-09T11:56:56.621905Z"
    }
   },
   "outputs": [],
   "source": [
    "import matplotlib.pyplot as plt"
   ]
  },
  {
   "cell_type": "markdown",
   "metadata": {},
   "source": [
    "$\\blacktriangleright$ **Code pre-loading**"
   ]
  },
  {
   "cell_type": "code",
   "execution_count": 13,
   "metadata": {
    "ExecuteTime": {
     "end_time": "2021-05-09T11:56:57.273137Z",
     "start_time": "2021-05-09T11:56:57.217731Z"
    }
   },
   "outputs": [],
   "source": [
    "def get_new_model(input_shape=input_shape):\n",
    "    model = Sequential()\n",
    "    model.add(Dense(10, activation='relu', input_shape=input_shape))\n",
    "    model.add(Dense(10, activation='relu'))\n",
    "    model.add(Dense(2, activation='softmax'))\n",
    "    model.compile(optimizer='adam',\n",
    "                  loss='categorical_crossentropy',\n",
    "                  metrics=['accuracy'])\n",
    "    return model\n",
    "\n",
    "\n",
    "model_1 = get_new_model()"
   ]
  },
  {
   "cell_type": "markdown",
   "metadata": {},
   "source": [
    "$\\blacktriangleright$ **Task practice**"
   ]
  },
  {
   "cell_type": "code",
   "execution_count": 14,
   "metadata": {
    "ExecuteTime": {
     "end_time": "2021-05-09T11:57:00.863081Z",
     "start_time": "2021-05-09T11:56:57.277967Z"
    }
   },
   "outputs": [
    {
     "data": {
      "image/png": "[encoded data removed]",
      "text/plain": [
       "<Figure size 432x288 with 1 Axes>"
      ]
     },
     "metadata": {
      "needs_background": "light"
     },
     "output_type": "display_data"
    }
   ],
   "source": [
    "# Define early_stopping_monitor\n",
    "early_stopping_monitor = EarlyStopping(patience=2)\n",
    "\n",
    "# Create the new model: model_2\n",
    "model_2 = Sequential()\n",
    "\n",
    "# Add the first and second layers\n",
    "model_2.add(Dense(100, activation='relu', input_shape=input_shape))\n",
    "model_2.add(Dense(100, activation='relu'))\n",
    "\n",
    "# Add the output layer\n",
    "model_2.add(Dense(2, activation='softmax'))\n",
    "\n",
    "# Compile model_2\n",
    "model_2.compile(optimizer='adam',\n",
    "                loss='categorical_crossentropy',\n",
    "                metrics=['accuracy'])\n",
    "\n",
    "# Fit model_1\n",
    "model_1_training = model_1.fit(predictors,\n",
    "                               target,\n",
    "                               epochs=15,\n",
    "                               validation_split=0.2,\n",
    "                               callbacks=[early_stopping_monitor],\n",
    "                               verbose=False)\n",
    "\n",
    "# Fit model_2\n",
    "model_2_training = model_2.fit(predictors,\n",
    "                               target,\n",
    "                               epochs=15,\n",
    "                               validation_split=0.2,\n",
    "                               callbacks=[early_stopping_monitor],\n",
    "                               verbose=False)\n",
    "\n",
    "# Create the plot\n",
    "plt.plot(model_1_training.history['val_loss'], 'r',\n",
    "         model_2_training.history['val_loss'], 'b')\n",
    "plt.xlabel('Epochs')\n",
    "plt.ylabel('Validation score')\n",
    "plt.show()"
   ]
  },
  {
   "cell_type": "markdown",
   "metadata": {},
   "source": [
    "## `[task-4]` Adding layers to a network\n",
    "\n",
    "$\\blacktriangleright$ **Code pre-loading**"
   ]
  },
  {
   "cell_type": "code",
   "execution_count": 15,
   "metadata": {
    "ExecuteTime": {
     "end_time": "2021-05-09T11:57:00.925335Z",
     "start_time": "2021-05-09T11:57:00.877548Z"
    }
   },
   "outputs": [],
   "source": [
    "def get_new_model(input_shape=input_shape):\n",
    "    model = Sequential()\n",
    "    model.add(Dense(50, activation='relu', input_shape=input_shape))\n",
    "    model.add(Dense(2, activation='softmax'))\n",
    "    model.compile(optimizer='adam',\n",
    "                  loss='categorical_crossentropy',\n",
    "                  metrics=['accuracy'])\n",
    "    return model\n",
    "\n",
    "\n",
    "model_1 = get_new_model()"
   ]
  },
  {
   "cell_type": "markdown",
   "metadata": {
    "ExecuteTime": {
     "end_time": "2020-11-14T07:48:15.812784Z",
     "start_time": "2020-11-14T07:48:15.802491Z"
    }
   },
   "source": [
    "$\\blacktriangleright$ **Task practice**"
   ]
  },
  {
   "cell_type": "code",
   "execution_count": 16,
   "metadata": {
    "ExecuteTime": {
     "end_time": "2021-05-09T11:57:04.803340Z",
     "start_time": "2021-05-09T11:57:00.928823Z"
    }
   },
   "outputs": [
    {
     "data": {
      "image/png": "[encoded data removed]",
      "text/plain": [
       "<Figure size 432x288 with 1 Axes>"
      ]
     },
     "metadata": {
      "needs_background": "light"
     },
     "output_type": "display_data"
    }
   ],
   "source": [
    "# The input shape to use in the first hidden layer\n",
    "input_shape = (n_cols, )\n",
    "\n",
    "# Create the new model: model_2\n",
    "model_2 = Sequential()\n",
    "\n",
    "# Add the first, second, and third hidden layers\n",
    "model_2.add(Dense(50, activation='relu', input_shape=input_shape))\n",
    "model_2.add(Dense(50, activation='relu'))\n",
    "model_2.add(Dense(50, activation='relu'))\n",
    "\n",
    "# Add the output layer\n",
    "model_2.add(Dense(2, activation='softmax'))\n",
    "\n",
    "# Compile model_2\n",
    "model_2.compile(optimizer='adam',\n",
    "                loss='categorical_crossentropy',\n",
    "                metrics=['accuracy'])\n",
    "\n",
    "# Fit model 1\n",
    "model_1_training = model_1.fit(predictors,\n",
    "                               target,\n",
    "                               epochs=20,\n",
    "                               validation_split=0.4,\n",
    "                               callbacks=[early_stopping_monitor],\n",
    "                               verbose=False)\n",
    "\n",
    "# Fit model 2\n",
    "model_2_training = model_2.fit(predictors,\n",
    "                               target,\n",
    "                               epochs=20,\n",
    "                               validation_split=0.4,\n",
    "                               callbacks=[early_stopping_monitor],\n",
    "                               verbose=False)\n",
    "\n",
    "# Create the plot\n",
    "plt.plot(model_1_training.history['val_loss'], 'r',\n",
    "         model_2_training.history['val_loss'], 'b')\n",
    "plt.xlabel('Epochs')\n",
    "plt.ylabel('Validation score')\n",
    "plt.show()"
   ]
  },
  {
   "cell_type": "markdown",
   "metadata": {},
   "source": [
    "# Thinking about model capacity"
   ]
  },
  {
   "cell_type": "markdown",
   "metadata": {
    "ExecuteTime": {
     "end_time": "2020-07-24T11:20:21.989524Z",
     "start_time": "2020-07-24T11:20:12.960881Z"
    }
   },
   "source": [
    "## `[note-1]` Overfitting\n",
    "\n",
    "![Overfitting](../Figures/3.%20Overfitting.jpg)"
   ]
  },
  {
   "cell_type": "markdown",
   "metadata": {},
   "source": [
    "## `[note-2]` Workflow for optimizing model capacity\n",
    "\n",
    "* Start with a small network.\n",
    "\n",
    "* Gradually increase capacity.\n",
    "\n",
    "* Keep increasing capacity until the validation score is no longer improving."
   ]
  },
  {
   "cell_type": "markdown",
   "metadata": {
    "ExecuteTime": {
     "end_time": "2020-11-14T08:25:58.664966Z",
     "start_time": "2020-11-14T08:25:43.842347Z"
    }
   },
   "source": [
    "## `[note-3]` Sequential experiments\n",
    "\n",
    "![Sequential experiments](../Figures/4.%20Sequential%20experiments.jpg)"
   ]
  },
  {
   "cell_type": "markdown",
   "metadata": {
    "ExecuteTime": {
     "end_time": "2020-11-14T08:26:09.564952Z",
     "start_time": "2020-11-14T08:25:58.683149Z"
    }
   },
   "source": [
    "## `[quiz-1]` Experimenting with model structures\n",
    "\n",
    "* An experiment has run where has compared two networks that were identical except that the 2nd network had an extra hidden layer. It could be seen that this 2nd network (the deeper network) had better performance. Given that, which of the following would be a good experiment to run next for even better performance?\n",
    "\n",
    "    $\\Box$ Try a new network with fewer layers than anything you have tried yet.\n",
    "    \n",
    "    $\\boxtimes$ Use more units in each hidden layer.\n",
    "    \n",
    "    $\\Box$ Use fewer units in each hidden layer."
   ]
  },
  {
   "cell_type": "markdown",
   "metadata": {},
   "source": [
    "# Stepping up to images"
   ]
  },
  {
   "cell_type": "markdown",
   "metadata": {
    "ExecuteTime": {
     "end_time": "2020-07-24T11:20:21.989524Z",
     "start_time": "2020-07-24T11:20:12.960881Z"
    }
   },
   "source": [
    "## `[note-1]` Recognizing handwritten digits\n",
    "\n",
    "* MNIST dataset.\n",
    "\n",
    "* 28 x 28 grid flattened to 784 values for each image.\n",
    "\n",
    "* Value in each part of the array denotes the darkness of that pixel.\n",
    "\n",
    "![Recognizing handwritten digits](../Figures/5.%20Recognizing%20handwritten%20digits.jpg)"
   ]
  },
  {
   "cell_type": "markdown",
   "metadata": {},
   "source": [
    "## `[task-1]` Building an own digit recognition model\n",
    "\n",
    "$\\blacktriangleright$ **Package pre-loading**"
   ]
  },
  {
   "cell_type": "code",
   "execution_count": 17,
   "metadata": {
    "ExecuteTime": {
     "end_time": "2021-05-09T11:57:04.813556Z",
     "start_time": "2021-05-09T11:57:04.808482Z"
    }
   },
   "outputs": [],
   "source": [
    "import pandas as pd\n",
    "from tensorflow.keras.layers import Dense\n",
    "from tensorflow.keras.models import Sequential\n",
    "from tensorflow.keras.utils import to_categorical"
   ]
  },
  {
   "cell_type": "markdown",
   "metadata": {},
   "source": [
    "$\\blacktriangleright$ **Data pre-loading**"
   ]
  },
  {
   "cell_type": "code",
   "execution_count": 18,
   "metadata": {
    "ExecuteTime": {
     "end_time": "2021-05-09T11:57:05.188771Z",
     "start_time": "2021-05-09T11:57:04.818391Z"
    }
   },
   "outputs": [],
   "source": [
    "df = pd.read_csv('../Datasets/3. MNIST.csv', header=None)\n",
    "X = df.iloc[:, 1:].to_numpy()\n",
    "y = to_categorical(df.iloc[:, 0])"
   ]
  },
  {
   "cell_type": "markdown",
   "metadata": {},
   "source": [
    "$\\blacktriangleright$ **Task practice**"
   ]
  },
  {
   "cell_type": "code",
   "execution_count": 19,
   "metadata": {
    "ExecuteTime": {
     "end_time": "2021-05-09T11:57:06.283176Z",
     "start_time": "2021-05-09T11:57:05.201011Z"
    }
   },
   "outputs": [
    {
     "name": "stdout",
     "output_type": "stream",
     "text": [
      "44/44 [==============================] - 1s 9ms/step - loss: 34.6115 - accuracy: 0.2598 - val_loss: 6.7975 - val_accuracy: 0.5907\n"
     ]
    },
    {
     "data": {
      "text/plain": [
       "<tensorflow.python.keras.callbacks.History at 0x7fdb6bb54710>"
      ]
     },
     "execution_count": 19,
     "metadata": {},
     "output_type": "execute_result"
    }
   ],
   "source": [
    "# Create the model: model\n",
    "model = Sequential()\n",
    "\n",
    "# Add the first hidden layer\n",
    "model.add(Dense(50, activation='relu', input_shape=(784, )))\n",
    "\n",
    "# Add the second hidden layer\n",
    "model.add(Dense(50, activation='relu'))\n",
    "\n",
    "# Add the output layer\n",
    "model.add(Dense(10, activation='softmax'))\n",
    "\n",
    "# Compile the model\n",
    "model.compile(optimizer='adam',\n",
    "              loss='categorical_crossentropy',\n",
    "              metrics=['accuracy'])\n",
    "\n",
    "# Fit the model\n",
    "model.fit(X, y, validation_split=0.3)"
   ]
  },
  {
   "cell_type": "markdown",
   "metadata": {},
   "source": [
    "# Final thoughts"
   ]
  },
  {
   "cell_type": "markdown",
   "metadata": {
    "ExecuteTime": {
     "end_time": "2020-07-24T11:20:21.989524Z",
     "start_time": "2020-07-24T11:20:12.960881Z"
    }
   },
   "source": [
    "## `[note-1]` Next steps\n",
    "\n",
    "* Start with standard prediction problems on tables of numbers.\n",
    "\n",
    "* Images (with convolutional neural networks) are common next steps.\n",
    "\n",
    "* [keras.io](https://keras.io) for excellent documentation.\n",
    "\n",
    "* The graphical processing unit (GPU) provides dramatic speedups in model training times.\n",
    "\n",
    "* Need a CUDA-compatible GPU."
   ]
  },
  {
   "cell_type": "markdown",
   "metadata": {},
   "source": [
    "# Requirements"
   ]
  },
  {
   "cell_type": "code",
   "execution_count": 20,
   "metadata": {
    "ExecuteTime": {
     "end_time": "2021-05-09T11:57:06.306298Z",
     "start_time": "2021-05-09T11:57:06.285655Z"
    }
   },
   "outputs": [
    {
     "name": "stdout",
     "output_type": "stream",
     "text": [
      "#########################\n",
      "##                     ##\n",
      "##  python==3.7.9      ##\n",
      "##  pandas==1.2.1      ##\n",
      "##  tensorflow==2.4.1  ##\n",
      "##  matplotlib==3.3.4  ##\n",
      "##                     ##\n",
      "#########################\n"
     ]
    }
   ],
   "source": [
    "from platform import python_version\n",
    "import tensorflow as tf\n",
    "import matplotlib\n",
    "\n",
    "python_version = ('python=={}'.format(python_version()))\n",
    "pandas_version = ('pandas=={}'.format(pd.__version__))\n",
    "tensorflow_version = ('tensorflow=={}'.format(tf.__version__))\n",
    "matplotlib_version = ('matplotlib=={}'.format(matplotlib.__version__))\n",
    "\n",
    "writepath = '../../requirements.txt'\n",
    "requirements = []\n",
    "packages = [pandas_version, tensorflow_version, matplotlib_version]\n",
    "\n",
    "try:\n",
    "    with open(writepath, 'r+') as file:\n",
    "        for line in file:\n",
    "            requirements.append(line.strip('\\n'))\n",
    "except:\n",
    "    with open(writepath, 'w+') as file:\n",
    "        for line in file:\n",
    "            requirements.append(line.strip('\\n'))\n",
    "\n",
    "with open(writepath, 'a') as file:\n",
    "    for package in packages:\n",
    "        if package not in requirements:\n",
    "            file.write(package + '\\n')\n",
    "\n",
    "max_characters = len(python_version)\n",
    "for package in packages:\n",
    "    if max(max_characters, len(package)) > max_characters:\n",
    "        max_characters = max(max_characters, len(package))\n",
    "\n",
    "print('#' * (max_characters + 8))\n",
    "print('#' * 2 + ' ' * (max_characters + 4) + '#' * 2)\n",
    "print('#' * 2 + ' ' * 2 + python_version + ' ' *\n",
    "      (max_characters - len(python_version) + 2) + '#' * 2)\n",
    "for package in packages:\n",
    "    print('#' * 2 + ' ' * 2 + package + ' ' *\n",
    "          (max_characters - len(package) + 2) + '#' * 2)\n",
    "print('#' * 2 + ' ' * (max_characters + 4) + '#' * 2)\n",
    "print('#' * (max_characters + 8))"
   ]
  }
 ],
 "metadata": {
  "kernelspec": {
   "display_name": "Python 3",
   "language": "python",
   "name": "python3"
  },
  "language_info": {
   "codemirror_mode": {
    "name": "ipython",
    "version": 3
   },
   "file_extension": ".py",
   "mimetype": "text/x-python",
   "name": "python",
   "nbconvert_exporter": "python",
   "pygments_lexer": "ipython3",
   "version": "3.7.9"
  },
  "latex_envs": {
   "LaTeX_envs_menu_present": true,
   "autoclose": true,
   "autocomplete": true,
   "bibliofile": "biblio.bib",
   "cite_by": "apalike",
   "current_citInitial": 1,
   "eqLabelWithNumbers": true,
   "eqNumInitial": 1,
   "hotkeys": {
    "equation": "Ctrl-E",
    "itemize": "Ctrl-I"
   },
   "labels_anchors": false,
   "latex_user_defs": false,
   "report_style_numbering": true,
   "user_envs_cfg": true
  },
  "nbTranslate": {
   "displayLangs": [
    "*"
   ],
   "hotkey": "alt-t",
   "langInMainMenu": true,
   "sourceLang": "en",
   "targetLang": "fr",
   "useGoogleTranslate": true
  },
  "toc": {
   "base_numbering": 1,
   "nav_menu": {},
   "number_sections": true,
   "sideBar": true,
   "skip_h1_title": false,
   "title_cell": "Table of Contents",
   "title_sidebar": "Contents",
   "toc_cell": true,
   "toc_position": {
    "height": "calc(100% - 180px)",
    "left": "10px",
    "top": "150px",
    "width": "287.986px"
   },
   "toc_section_display": true,
   "toc_window_display": true
  },
  "varInspector": {
   "cols": {
    "lenName": 16,
    "lenType": 16,
    "lenVar": 40
   },
   "kernels_config": {
    "python": {
     "delete_cmd_postfix": "",
     "delete_cmd_prefix": "del ",
     "library": "var_list.py",
     "varRefreshCmd": "print(var_dic_list())"
    },
    "r": {
     "delete_cmd_postfix": ") ",
     "delete_cmd_prefix": "rm(",
     "library": "var_list.r",
     "varRefreshCmd": "cat(var_dic_list()) "
    }
   },
   "types_to_exclude": [
    "module",
    "function",
    "builtin_function_or_method",
    "instance",
    "_Feature"
   ],
   "window_display": true
  }
 },
 "nbformat": 4,
 "nbformat_minor": 4
}
