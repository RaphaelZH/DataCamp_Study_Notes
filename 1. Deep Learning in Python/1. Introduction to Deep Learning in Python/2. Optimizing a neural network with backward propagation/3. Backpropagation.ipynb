{
 "cells": [
  {
   "cell_type": "markdown",
   "metadata": {
    "ExecuteTime": {
     "end_time": "2020-07-24T11:20:21.989524Z",
     "start_time": "2020-07-24T11:20:12.960881Z"
    }
   },
   "source": [
    "```\n",
    "###############################\n",
    "##                           ##\n",
    "##  Deep Learning in Python  ##\n",
    "##                           ##\n",
    "###############################\n",
    "\n",
    "§1 Introduction to Deep Learning in Python\n",
    "\n",
    "§1.2 Optimizing a neural network with backward propagation\n",
    "\n",
    "§1.2.3 Backpropagation\n",
    "```"
   ]
  },
  {
   "cell_type": "markdown",
   "metadata": {},
   "source": [
    "**1. What is the aim of backpropagation?**\n",
    "\n",
    "Backpropagation aims to allow gradient descent to update all weights in the neural network by getting gradients for all weights. This idea comes from the chain rule of calculus. It is important to understand the process, but generally, a library is available that implements this.\n",
    "\n",
    "![Backpropagation](ref8.%20Backpropagation.jpg)"
   ]
  },
  {
   "cell_type": "markdown",
   "metadata": {},
   "source": [
    "**2. What is the process of backpropagation?**\n",
    "\n",
    "* Try to estimate the slope of the loss function with respect to each weight.\n",
    "\n",
    "* Do forward propagation to calculate predictions and errors.\n",
    "\n",
    "* Go back one layer at a time.\n",
    "\n",
    "* Gradients for weight is the product of:\n",
    "\n",
    "    1. node value feeding into that weight\n",
    "    \n",
    "    2. slope of the loss function with respect to node it feeds into\n",
    "    \n",
    "    3. slope of activation function at the node it feeds into\n",
    "\n",
    "* It is also necessary to keep track of the slopes of the loss function with respect to node values.\n",
    "\n",
    "* The slope of node values is the sum of the slopes for all weights that come out of them."
   ]
  },
  {
   "cell_type": "markdown",
   "metadata": {},
   "source": [
    "**3. Practice question for the relationship between the forward and backward propagation:**\n",
    "\n",
    "* If gone through $4$ iterations of calculating slopes (using backward propagation) and then updated weights, how many times must be done forward propagation?\n",
    "\n",
    "    $\\Box$ $0$.\n",
    "    \n",
    "    $\\Box$ $1$.\n",
    "    \n",
    "    $\\boxtimes$ $4$.\n",
    "\n",
    "    $\\Box$ $8$."
   ]
  },
  {
   "cell_type": "markdown",
   "metadata": {},
   "source": [
    "**4. Practice question for thinking about backward propagation:**\n",
    "\n",
    "* If the predictions were all exactly right, and the errors were all exactly $0$, the slope of the loss function with respect to the predictions would also be 0. In that circumstance, which of the following statements would be correct?\n",
    "\n",
    "    $\\boxtimes$ The updates to all weights in the network would also be $0$.\n",
    "    \n",
    "    $\\Box$ The updates to all weights in the network would be dependent on the activation functions.\n",
    "    \n",
    "    $\\Box$ The updates to all weights in the network would be proportional to values from the input data."
   ]
  }
 ],
 "metadata": {
  "kernelspec": {
   "display_name": "Python 3",
   "language": "python",
   "name": "python3"
  },
  "language_info": {
   "codemirror_mode": {
    "name": "ipython",
    "version": 3
   },
   "file_extension": ".py",
   "mimetype": "text/x-python",
   "name": "python",
   "nbconvert_exporter": "python",
   "pygments_lexer": "ipython3",
   "version": "3.7.6"
  },
  "latex_envs": {
   "LaTeX_envs_menu_present": true,
   "autoclose": true,
   "autocomplete": true,
   "bibliofile": "biblio.bib",
   "cite_by": "apalike",
   "current_citInitial": 1,
   "eqLabelWithNumbers": true,
   "eqNumInitial": 1,
   "hotkeys": {
    "equation": "Ctrl-E",
    "itemize": "Ctrl-I"
   },
   "labels_anchors": false,
   "latex_user_defs": false,
   "report_style_numbering": true,
   "user_envs_cfg": true
  },
  "nbTranslate": {
   "displayLangs": [
    "*"
   ],
   "hotkey": "alt-t",
   "langInMainMenu": true,
   "sourceLang": "en",
   "targetLang": "fr",
   "useGoogleTranslate": true
  },
  "toc": {
   "base_numbering": 1,
   "nav_menu": {},
   "number_sections": true,
   "sideBar": true,
   "skip_h1_title": false,
   "title_cell": "Table of Contents",
   "title_sidebar": "Contents",
   "toc_cell": false,
   "toc_position": {
    "height": "calc(100% - 180px)",
    "left": "10px",
    "top": "150px",
    "width": "288px"
   },
   "toc_section_display": true,
   "toc_window_display": true
  },
  "varInspector": {
   "cols": {
    "lenName": 16,
    "lenType": 16,
    "lenVar": 40
   },
   "kernels_config": {
    "python": {
     "delete_cmd_postfix": "",
     "delete_cmd_prefix": "del ",
     "library": "var_list.py",
     "varRefreshCmd": "print(var_dic_list())"
    },
    "r": {
     "delete_cmd_postfix": ") ",
     "delete_cmd_prefix": "rm(",
     "library": "var_list.r",
     "varRefreshCmd": "cat(var_dic_list()) "
    }
   },
   "types_to_exclude": [
    "module",
    "function",
    "builtin_function_or_method",
    "instance",
    "_Feature"
   ],
   "window_display": true
  }
 },
 "nbformat": 4,
 "nbformat_minor": 4
}
