{
 "cells": [
  {
   "cell_type": "markdown",
   "metadata": {
    "ExecuteTime": {
     "end_time": "2020-07-24T11:20:21.989524Z",
     "start_time": "2020-07-24T11:20:12.960881Z"
    }
   },
   "source": [
    "```\n",
    "###############################\n",
    "##                           ##\n",
    "##  Deep Learning in Python  ##\n",
    "##                           ##\n",
    "###############################\n",
    "\n",
    "§1 Introduction to Deep Learning in Python\n",
    "\n",
    "§1.4 Fine-tuning keras models\n",
    "```"
   ]
  },
  {
   "cell_type": "markdown",
   "metadata": {},
   "source": [
    "# Understanding model optimization"
   ]
  },
  {
   "cell_type": "markdown",
   "metadata": {
    "ExecuteTime": {
     "end_time": "2020-07-24T11:20:21.989524Z",
     "start_time": "2020-07-24T11:20:12.960881Z"
    }
   },
   "source": [
    "**1. Why is optimization hard?**\n",
    "\n",
    "* Simultaneously optimize 1000's of parameters with complex relationships.\n",
    "\n",
    "* Updates may not improve the model meaningfully.\n",
    "\n",
    "* Updates will be too small (if the learning rate is low) or too large (if the learning rate is high)."
   ]
  },
  {
   "cell_type": "markdown",
   "metadata": {},
   "source": [
    "**2. Code of stochastic gradient descent:**"
   ]
  },
  {
   "cell_type": "code",
   "execution_count": 1,
   "metadata": {
    "ExecuteTime": {
     "end_time": "2020-11-14T19:20:00.478863Z",
     "start_time": "2020-11-14T19:19:41.816323Z"
    }
   },
   "outputs": [],
   "source": [
    "import pandas as pd\n",
    "from keras.layers import Dense\n",
    "from keras.models import Sequential\n",
    "from keras.utils.np_utils import to_categorical\n",
    "from keras.optimizers import SGD\n",
    "\n",
    "\n",
    "def data_preparation(df):\n",
    "    df = df.reindex(columns=[\n",
    "        'SHOT_CLOCK', 'DRIBBLES', 'TOUCH_TIME', 'SHOT_DIST', 'CLOSE_DEF_DIST',\n",
    "        'SHOT_RESULT'\n",
    "    ])\n",
    "    df['SHOT_CLOCK'] = df['SHOT_CLOCK'].fillna(0)\n",
    "    df['SHOT_RESULT'].replace('missed', 0, inplace=True)\n",
    "    df['SHOT_RESULT'].replace('made', 1, inplace=True)\n",
    "    df.columns = df.columns.str.lower()\n",
    "    return df\n",
    "\n",
    "\n",
    "data = pd.read_csv('ref1. Basketball shot log.csv')\n",
    "data = data_preparation(data)\n",
    "\n",
    "predictors = data.drop(['shot_result'], axis=1).to_numpy()\n",
    "n_cols = predictors.shape[1]\n",
    "target = to_categorical(data.shot_result)\n",
    "input_shape = (n_cols, )"
   ]
  },
  {
   "cell_type": "code",
   "execution_count": 2,
   "metadata": {
    "ExecuteTime": {
     "end_time": "2020-11-14T19:20:38.841571Z",
     "start_time": "2020-11-14T19:20:00.489723Z"
    }
   },
   "outputs": [
    {
     "name": "stdout",
     "output_type": "stream",
     "text": [
      "4003/4003 [==============================] - 13s 3ms/step - loss: 1.3477\n",
      "4003/4003 [==============================] - 12s 3ms/step - loss: 0.6868\n",
      "4003/4003 [==============================] - 13s 3ms/step - loss: nan\n"
     ]
    }
   ],
   "source": [
    "def get_new_model(input_shape=input_shape):\n",
    "    model = Sequential()\n",
    "    model.add(Dense(100, activation='relu', input_shape=input_shape))\n",
    "    model.add(Dense(100, activation='relu'))\n",
    "    model.add(Dense(2, activation='softmax'))\n",
    "    return (model)\n",
    "\n",
    "\n",
    "lr_to_test = [.000001, 0.01, 1]\n",
    "\n",
    "# loop over learning rates\n",
    "for lr in lr_to_test:\n",
    "    model = get_new_model()\n",
    "    my_optimizer = SGD(lr=lr)\n",
    "    model.compile(optimizer=my_optimizer, loss='categorical_crossentropy')\n",
    "    model.fit(predictors, target)"
   ]
  },
  {
   "cell_type": "markdown",
   "metadata": {},
   "source": [
    "**3. What is the dying neuron problem?**\n",
    "\n",
    "![The dying neuron problem](ref2.%20The%20dying%20neuron%20problem.jpg)"
   ]
  },
  {
   "cell_type": "markdown",
   "metadata": {},
   "source": [
    "**4. What is the vanishing gradient problem?**\n",
    "\n",
    "* This occurs when many layers have very small slopes:\n",
    "\n",
    "    * e.g., *due to being on at part of the hyperbolic tangent (`tanh`) curve*\n",
    "\n",
    "* In deep networks, updates to backpropagation were close to 0.\n",
    "\n",
    "![Vanishing gradients](ref3.%20Vanishing%20gradient.jpg)"
   ]
  },
  {
   "cell_type": "markdown",
   "metadata": {},
   "source": [
    "**5. Practice question for diagnosing optimization problems:**\n",
    "\n",
    "* Which of the following could prevent a model from showing an improved loss in its first few epochs?\n",
    "\n",
    "    $\\Box$ Learning rate too low.\n",
    "\n",
    "    $\\Box$ Learning rate too high.\n",
    "\n",
    "    $\\Box$ Poor choice of the activation function.\n",
    "\n",
    "    $\\boxtimes$ All of the above."
   ]
  },
  {
   "cell_type": "markdown",
   "metadata": {},
   "source": [
    "**6. Practice exercises for understanding model optimization:**\n",
    "\n",
    "$\\blacktriangleright$ **Package pre-loading:**"
   ]
  },
  {
   "cell_type": "code",
   "execution_count": 3,
   "metadata": {
    "ExecuteTime": {
     "end_time": "2020-11-14T19:20:38.900954Z",
     "start_time": "2020-11-14T19:20:38.886132Z"
    }
   },
   "outputs": [],
   "source": [
    "import pandas as pd\n",
    "from keras.layers import Dense\n",
    "from keras.models import Sequential\n",
    "from keras.utils import to_categorical"
   ]
  },
  {
   "cell_type": "markdown",
   "metadata": {},
   "source": [
    "$\\blacktriangleright$ **Data pre-loading:**"
   ]
  },
  {
   "cell_type": "code",
   "execution_count": 4,
   "metadata": {
    "ExecuteTime": {
     "end_time": "2020-11-14T19:20:38.961521Z",
     "start_time": "2020-11-14T19:20:38.917135Z"
    }
   },
   "outputs": [],
   "source": [
    "df = pd.read_csv('ref4. Titanic.csv')\n",
    "\n",
    "df.replace(False, 0, inplace=True)\n",
    "df.replace(True, 1, inplace=True)\n",
    "\n",
    "predictors = df.drop(['survived'], axis=1).to_numpy()\n",
    "n_cols = predictors.shape[1]\n",
    "target = to_categorical(df.survived)\n",
    "input_shape = (n_cols, )"
   ]
  },
  {
   "cell_type": "markdown",
   "metadata": {},
   "source": [
    "$\\blacktriangleright$ **Code pre-loading:**"
   ]
  },
  {
   "cell_type": "code",
   "execution_count": 5,
   "metadata": {
    "ExecuteTime": {
     "end_time": "2020-11-14T19:20:38.980647Z",
     "start_time": "2020-11-14T19:20:38.967519Z"
    }
   },
   "outputs": [],
   "source": [
    "def get_new_model(input_shape=input_shape):\n",
    "    model = Sequential()\n",
    "    model.add(Dense(100, activation='relu', input_shape=input_shape))\n",
    "    model.add(Dense(100, activation='relu'))\n",
    "    model.add(Dense(2, activation='softmax'))\n",
    "    return (model)"
   ]
  },
  {
   "cell_type": "markdown",
   "metadata": {},
   "source": [
    "$\\blacktriangleright$ **Changing optimization parameters practice:**"
   ]
  },
  {
   "cell_type": "code",
   "execution_count": 6,
   "metadata": {
    "ExecuteTime": {
     "end_time": "2020-11-14T19:20:43.727719Z",
     "start_time": "2020-11-14T19:20:38.990929Z"
    }
   },
   "outputs": [
    {
     "name": "stdout",
     "output_type": "stream",
     "text": [
      "\n",
      "\n",
      "Testing model with learning rate: 0.000001\n",
      "\n",
      "28/28 [==============================] - 1s 42ms/step - loss: 1.9507\n",
      "\n",
      "\n",
      "Testing model with learning rate: 0.010000\n",
      "\n",
      "28/28 [==============================] - 1s 46ms/step - loss: 2.3604\n",
      "\n",
      "\n",
      "Testing model with learning rate: 1.000000\n",
      "\n",
      "28/28 [==============================] - 1s 43ms/step - loss: 6803292892.7938\n"
     ]
    }
   ],
   "source": [
    "# Import the SGD optimizer\n",
    "from keras.optimizers import SGD\n",
    "\n",
    "# Create list of learning rates: lr_to_test\n",
    "lr_to_test = [.000001, 0.01, 1]\n",
    "\n",
    "# Loop over learning rates\n",
    "for lr in lr_to_test:\n",
    "    print('\\n\\nTesting model with learning rate: %f\\n' % lr)\n",
    "\n",
    "    # Build new model to test, unaffected by previous models\n",
    "    model = get_new_model()\n",
    "\n",
    "    # Create SGD optimizer with specified learning rate: my_optimizer\n",
    "    my_optimizer = SGD(lr=lr)\n",
    "\n",
    "    # Compile the model\n",
    "    model.compile(optimizer=my_optimizer, loss='categorical_crossentropy')\n",
    "\n",
    "    # Fit the model\n",
    "    model.fit(predictors, target)"
   ]
  },
  {
   "cell_type": "markdown",
   "metadata": {
    "ExecuteTime": {
     "end_time": "2020-07-24T11:20:21.989524Z",
     "start_time": "2020-07-24T11:20:12.960881Z"
    }
   },
   "source": [
    "# Model validation"
   ]
  },
  {
   "cell_type": "markdown",
   "metadata": {
    "ExecuteTime": {
     "end_time": "2020-07-24T11:20:21.989524Z",
     "start_time": "2020-07-24T11:20:12.960881Z"
    }
   },
   "source": [
    "**1. Why is it important to choose validation in deep learning?**\n",
    "\n",
    "* Repeated training from cross-validation would take a long time, so it is common to use validation split rather than cross-validation. \n",
    "\n",
    "* Deep learning is widely used in large datasets because the single validation score is based on a large amount of data and is reliable."
   ]
  },
  {
   "cell_type": "markdown",
   "metadata": {},
   "source": [
    "**2. Code of model validation:**"
   ]
  },
  {
   "cell_type": "code",
   "execution_count": 7,
   "metadata": {
    "ExecuteTime": {
     "end_time": "2020-11-14T19:20:45.796855Z",
     "start_time": "2020-11-14T19:20:43.766438Z"
    }
   },
   "outputs": [],
   "source": [
    "import pandas as pd\n",
    "from keras.layers import Dense\n",
    "from keras.models import Sequential\n",
    "from keras.utils.np_utils import to_categorical\n",
    "\n",
    "\n",
    "def data_preparation(df):\n",
    "    df = df.reindex(columns=[\n",
    "        'SHOT_CLOCK', 'DRIBBLES', 'TOUCH_TIME', 'SHOT_DIST', 'CLOSE_DEF_DIST',\n",
    "        'SHOT_RESULT'\n",
    "    ])\n",
    "    df['SHOT_CLOCK'] = df['SHOT_CLOCK'].fillna(0)\n",
    "    df['SHOT_RESULT'].replace('missed', 0, inplace=True)\n",
    "    df['SHOT_RESULT'].replace('made', 1, inplace=True)\n",
    "    df.columns = df.columns.str.lower()\n",
    "    return df\n",
    "\n",
    "\n",
    "data = pd.read_csv('ref1. Basketball shot log.csv')\n",
    "data = data_preparation(data)\n",
    "\n",
    "predictors = data.drop(['shot_result'], axis=1).to_numpy()\n",
    "n_cols = predictors.shape[1]\n",
    "target = to_categorical(data.shot_result)\n",
    "input_shape = (n_cols, )\n",
    "\n",
    "\n",
    "def get_new_model(input_shape=input_shape):\n",
    "    model = Sequential()\n",
    "    model.add(Dense(100, activation='relu', input_shape=input_shape))\n",
    "    model.add(Dense(100, activation='relu'))\n",
    "    model.add(Dense(2, activation='softmax'))\n",
    "    return (model)\n",
    "\n",
    "\n",
    "model = get_new_model()"
   ]
  },
  {
   "cell_type": "code",
   "execution_count": 8,
   "metadata": {
    "ExecuteTime": {
     "end_time": "2020-11-14T19:21:05.853866Z",
     "start_time": "2020-11-14T19:20:45.839795Z"
    }
   },
   "outputs": [
    {
     "name": "stdout",
     "output_type": "stream",
     "text": [
      "2802/2802 [==============================] - 20s 7ms/step - loss: 0.6813 - accuracy: 0.5943 - val_loss: 0.6527 - val_accuracy: 0.6171\n"
     ]
    },
    {
     "data": {
      "text/plain": [
       "<tensorflow.python.keras.callbacks.History at 0x7f974cea3090>"
      ]
     },
     "execution_count": 8,
     "metadata": {},
     "output_type": "execute_result"
    }
   ],
   "source": [
    "model.compile(optimizer='adam',\n",
    "              loss='categorical_crossentropy',\n",
    "              metrics=['accuracy'])\n",
    "model.fit(predictors, target, validation_split=0.3)"
   ]
  },
  {
   "cell_type": "markdown",
   "metadata": {},
   "source": [
    "**3. Code of early stopping:**"
   ]
  },
  {
   "cell_type": "code",
   "execution_count": 9,
   "metadata": {
    "ExecuteTime": {
     "end_time": "2020-11-14T19:21:45.116188Z",
     "start_time": "2020-11-14T19:21:05.877736Z"
    }
   },
   "outputs": [
    {
     "name": "stdout",
     "output_type": "stream",
     "text": [
      "Epoch 1/20\n",
      "2802/2802 [==============================] - 15s 6ms/step - loss: 0.6538 - accuracy: 0.6176 - val_loss: 0.6507 - val_accuracy: 0.6150\n",
      "Epoch 2/20\n",
      "2802/2802 [==============================] - 12s 4ms/step - loss: 0.6517 - accuracy: 0.6188 - val_loss: 0.6512 - val_accuracy: 0.6190\n",
      "Epoch 3/20\n",
      "2802/2802 [==============================] - 12s 4ms/step - loss: 0.6510 - accuracy: 0.6201 - val_loss: 0.6531 - val_accuracy: 0.6165\n"
     ]
    },
    {
     "data": {
      "text/plain": [
       "<tensorflow.python.keras.callbacks.History at 0x7f972ec63d50>"
      ]
     },
     "execution_count": 9,
     "metadata": {},
     "output_type": "execute_result"
    }
   ],
   "source": [
    "from keras.callbacks import EarlyStopping\n",
    "\n",
    "early_stopping_monitor = EarlyStopping(patience=2)\n",
    "\n",
    "model.fit(predictors,\n",
    "          target,\n",
    "          validation_split=0.3,\n",
    "          epochs=20,\n",
    "          callbacks=[early_stopping_monitor])"
   ]
  },
  {
   "cell_type": "markdown",
   "metadata": {},
   "source": [
    "**4. What kind of experimentations could be included in deep learning?**\n",
    "\n",
    "* Experiment with different architectures.\n",
    "\n",
    "* More layers.\n",
    "\n",
    "* Fewer layers.\n",
    "\n",
    "* Layers with more nodes.\n",
    "\n",
    "* Layers with fewer nodes.\n",
    "\n",
    "* Creating a great model requires experimentation."
   ]
  },
  {
   "cell_type": "markdown",
   "metadata": {},
   "source": [
    "**5. Practice exercises for model validation:**\n",
    "\n",
    "$\\blacktriangleright$ **Package pre-loading:**"
   ]
  },
  {
   "cell_type": "code",
   "execution_count": 10,
   "metadata": {
    "ExecuteTime": {
     "end_time": "2020-11-14T19:21:45.150985Z",
     "start_time": "2020-11-14T19:21:45.134734Z"
    }
   },
   "outputs": [],
   "source": [
    "import pandas as pd\n",
    "from keras.layers import Dense\n",
    "from keras.models import Sequential\n",
    "from keras.utils import to_categorical"
   ]
  },
  {
   "cell_type": "markdown",
   "metadata": {},
   "source": [
    "$\\blacktriangleright$ **Data pre-loading:**"
   ]
  },
  {
   "cell_type": "code",
   "execution_count": 11,
   "metadata": {
    "ExecuteTime": {
     "end_time": "2020-11-14T19:21:45.200907Z",
     "start_time": "2020-11-14T19:21:45.167834Z"
    }
   },
   "outputs": [],
   "source": [
    "df = pd.read_csv('ref4. Titanic.csv')\n",
    "\n",
    "df.replace(False, 0, inplace=True)\n",
    "df.replace(True, 1, inplace=True)\n",
    "\n",
    "predictors = df.drop(['survived'], axis=1).to_numpy()\n",
    "n_cols = predictors.shape[1]\n",
    "target = to_categorical(df.survived)\n",
    "input_shape = (n_cols, )"
   ]
  },
  {
   "cell_type": "markdown",
   "metadata": {},
   "source": [
    "$\\blacktriangleright$ **Evaluating model accuracy on validation dataset practice:**"
   ]
  },
  {
   "cell_type": "code",
   "execution_count": 12,
   "metadata": {
    "ExecuteTime": {
     "end_time": "2020-11-14T19:21:47.539337Z",
     "start_time": "2020-11-14T19:21:45.207933Z"
    }
   },
   "outputs": [
    {
     "name": "stdout",
     "output_type": "stream",
     "text": [
      "20/20 [==============================] - 2s 103ms/step - loss: 1.5570 - accuracy: 0.5138 - val_loss: 0.6987 - val_accuracy: 0.5448\n"
     ]
    }
   ],
   "source": [
    "# Save the number of columns in predictors: n_cols\n",
    "n_cols = predictors.shape[1]\n",
    "input_shape = (n_cols, )\n",
    "\n",
    "# Specify the model\n",
    "model = Sequential()\n",
    "model.add(Dense(100, activation='relu', input_shape=input_shape))\n",
    "model.add(Dense(100, activation='relu'))\n",
    "model.add(Dense(2, activation='softmax'))\n",
    "\n",
    "# Compile the model\n",
    "model.compile(optimizer='adam',\n",
    "              loss='categorical_crossentropy',\n",
    "              metrics=['accuracy'])\n",
    "\n",
    "# Fit the model\n",
    "hist = model.fit(predictors, target, validation_split=0.3)"
   ]
  },
  {
   "cell_type": "markdown",
   "metadata": {},
   "source": [
    "$\\blacktriangleright$ **Early stopping optimization optimizing practice:**"
   ]
  },
  {
   "cell_type": "code",
   "execution_count": 13,
   "metadata": {
    "ExecuteTime": {
     "end_time": "2020-11-14T19:21:50.815454Z",
     "start_time": "2020-11-14T19:21:47.550376Z"
    }
   },
   "outputs": [
    {
     "name": "stdout",
     "output_type": "stream",
     "text": [
      "Epoch 1/30\n",
      "20/20 [==============================] - 2s 95ms/step - loss: 1.3317 - accuracy: 0.5471 - val_loss: 1.1424 - val_accuracy: 0.6567\n",
      "Epoch 2/30\n",
      "20/20 [==============================] - 0s 7ms/step - loss: 0.9125 - accuracy: 0.5283 - val_loss: 0.5602 - val_accuracy: 0.7201\n",
      "Epoch 3/30\n",
      "20/20 [==============================] - 0s 6ms/step - loss: 0.6633 - accuracy: 0.6457 - val_loss: 0.5328 - val_accuracy: 0.7239\n",
      "Epoch 4/30\n",
      "20/20 [==============================] - 0s 6ms/step - loss: 0.6357 - accuracy: 0.6759 - val_loss: 0.5452 - val_accuracy: 0.7201\n",
      "Epoch 5/30\n",
      "20/20 [==============================] - 0s 7ms/step - loss: 0.6449 - accuracy: 0.6718 - val_loss: 0.5073 - val_accuracy: 0.7537\n",
      "Epoch 6/30\n",
      "20/20 [==============================] - 0s 9ms/step - loss: 0.6278 - accuracy: 0.6602 - val_loss: 0.5007 - val_accuracy: 0.7687\n",
      "Epoch 7/30\n",
      "20/20 [==============================] - 0s 7ms/step - loss: 0.6064 - accuracy: 0.6842 - val_loss: 0.5123 - val_accuracy: 0.7612\n",
      "Epoch 8/30\n",
      "20/20 [==============================] - 0s 8ms/step - loss: 0.5969 - accuracy: 0.7214 - val_loss: 0.5091 - val_accuracy: 0.7500\n"
     ]
    },
    {
     "data": {
      "text/plain": [
       "<tensorflow.python.keras.callbacks.History at 0x7f972f1c4510>"
      ]
     },
     "execution_count": 13,
     "metadata": {},
     "output_type": "execute_result"
    }
   ],
   "source": [
    "# Import EarlyStopping\n",
    "from keras.callbacks import EarlyStopping\n",
    "\n",
    "# Save the number of columns in predictors: n_cols\n",
    "n_cols = predictors.shape[1]\n",
    "input_shape = (n_cols, )\n",
    "\n",
    "# Specify the model\n",
    "model = Sequential()\n",
    "model.add(Dense(100, activation='relu', input_shape=input_shape))\n",
    "model.add(Dense(100, activation='relu'))\n",
    "model.add(Dense(2, activation='softmax'))\n",
    "\n",
    "# Compile the model\n",
    "model.compile(optimizer='adam',\n",
    "              loss='categorical_crossentropy',\n",
    "              metrics=['accuracy'])\n",
    "\n",
    "# Define early_stopping_monitor\n",
    "early_stopping_monitor = EarlyStopping(patience=2)\n",
    "\n",
    "# Fit the model\n",
    "model.fit(predictors,\n",
    "          target,\n",
    "          validation_split=0.3,\n",
    "          epochs=30,\n",
    "          callbacks=[early_stopping_monitor])"
   ]
  },
  {
   "cell_type": "markdown",
   "metadata": {},
   "source": [
    "$\\blacktriangleright$ **Package re-pre-loading:**"
   ]
  },
  {
   "cell_type": "code",
   "execution_count": 14,
   "metadata": {
    "ExecuteTime": {
     "end_time": "2020-11-14T19:21:52.279993Z",
     "start_time": "2020-11-14T19:21:50.827207Z"
    }
   },
   "outputs": [],
   "source": [
    "import matplotlib.pyplot as plt"
   ]
  },
  {
   "cell_type": "markdown",
   "metadata": {},
   "source": [
    "$\\blacktriangleright$ **Code pre-loading:**"
   ]
  },
  {
   "cell_type": "code",
   "execution_count": 15,
   "metadata": {
    "ExecuteTime": {
     "end_time": "2020-11-14T19:21:52.517656Z",
     "start_time": "2020-11-14T19:21:52.291814Z"
    }
   },
   "outputs": [],
   "source": [
    "model_1 = Sequential()\n",
    "model_1.add(Dense(10, activation='relu', input_shape=input_shape))\n",
    "model_1.add(Dense(10, activation='relu'))\n",
    "model_1.add(Dense(2, activation='softmax'))\n",
    "model_1.compile(optimizer='adam',\n",
    "                loss='categorical_crossentropy',\n",
    "                metrics=['accuracy'])"
   ]
  },
  {
   "cell_type": "markdown",
   "metadata": {},
   "source": [
    "$\\blacktriangleright$ **Experimenting with wider networks practice:**"
   ]
  },
  {
   "cell_type": "code",
   "execution_count": 16,
   "metadata": {
    "ExecuteTime": {
     "end_time": "2020-11-14T19:22:00.296122Z",
     "start_time": "2020-11-14T19:21:52.529319Z"
    }
   },
   "outputs": [
    {
     "data": {
      "image/png": "[encoded data removed]",
      "text/plain": [
       "<Figure size 432x288 with 1 Axes>"
      ]
     },
     "metadata": {
      "needs_background": "light"
     },
     "output_type": "display_data"
    }
   ],
   "source": [
    "# Define early_stopping_monitor\n",
    "early_stopping_monitor = EarlyStopping(patience=2)\n",
    "\n",
    "# Create the new model: model_2\n",
    "model_2 = Sequential()\n",
    "\n",
    "# Add the first and second layers\n",
    "model_2.add(Dense(100, activation='relu', input_shape=input_shape))\n",
    "model_2.add(Dense(100, activation='relu'))\n",
    "\n",
    "# Add the output layer\n",
    "model_2.add(Dense(2, activation='softmax'))\n",
    "\n",
    "# Compile model_2\n",
    "model_2.compile(optimizer='adam',\n",
    "                loss='categorical_crossentropy',\n",
    "                metrics=['accuracy'])\n",
    "\n",
    "# Fit model_1\n",
    "model_1_training = model_1.fit(predictors,\n",
    "                               target,\n",
    "                               epochs=15,\n",
    "                               validation_split=0.2,\n",
    "                               callbacks=[early_stopping_monitor],\n",
    "                               verbose=False)\n",
    "\n",
    "# Fit model_2\n",
    "model_2_training = model_2.fit(predictors,\n",
    "                               target,\n",
    "                               epochs=15,\n",
    "                               validation_split=0.2,\n",
    "                               callbacks=[early_stopping_monitor],\n",
    "                               verbose=False)\n",
    "\n",
    "# Create the plot\n",
    "plt.plot(model_1_training.history['val_loss'], 'r',\n",
    "         model_2_training.history['val_loss'], 'b')\n",
    "plt.xlabel('Epochs')\n",
    "plt.ylabel('Validation score')\n",
    "plt.show()"
   ]
  },
  {
   "cell_type": "markdown",
   "metadata": {},
   "source": [
    "$\\blacktriangleright$ **Code re-pre-loading:**"
   ]
  },
  {
   "cell_type": "code",
   "execution_count": 17,
   "metadata": {
    "ExecuteTime": {
     "end_time": "2020-11-14T19:22:00.450658Z",
     "start_time": "2020-11-14T19:22:00.356073Z"
    }
   },
   "outputs": [],
   "source": [
    "model_1 = Sequential()\n",
    "model_1.add(Dense(50, activation='relu', input_shape=input_shape))\n",
    "model_1.add(Dense(2, activation='softmax'))\n",
    "model_1.compile(optimizer='adam',\n",
    "                loss='categorical_crossentropy',\n",
    "                metrics=['accuracy'])"
   ]
  },
  {
   "cell_type": "markdown",
   "metadata": {
    "ExecuteTime": {
     "end_time": "2020-11-14T07:48:15.812784Z",
     "start_time": "2020-11-14T07:48:15.802491Z"
    }
   },
   "source": [
    "$\\blacktriangleright$ **Network layers adding practice:**"
   ]
  },
  {
   "cell_type": "code",
   "execution_count": 18,
   "metadata": {
    "ExecuteTime": {
     "end_time": "2020-11-14T19:22:08.768434Z",
     "start_time": "2020-11-14T19:22:00.460718Z"
    }
   },
   "outputs": [
    {
     "data": {
      "image/png": "[encoded data removed]",
      "text/plain": [
       "<Figure size 432x288 with 1 Axes>"
      ]
     },
     "metadata": {
      "needs_background": "light"
     },
     "output_type": "display_data"
    }
   ],
   "source": [
    "# The input shape to use in the first hidden layer\n",
    "input_shape = (n_cols, )\n",
    "\n",
    "# Create the new model: model_2\n",
    "model_2 = Sequential()\n",
    "\n",
    "# Add the first, second, and third hidden layers\n",
    "model_2.add(Dense(50, activation='relu', input_shape=input_shape))\n",
    "model_2.add(Dense(50, activation='relu'))\n",
    "model_2.add(Dense(50, activation='relu'))\n",
    "\n",
    "# Add the output layer\n",
    "model_2.add(Dense(2, activation='softmax'))\n",
    "\n",
    "# Compile model_2\n",
    "model_2.compile(optimizer='adam',\n",
    "                loss='categorical_crossentropy',\n",
    "                metrics=['accuracy'])\n",
    "\n",
    "# Fit model 1\n",
    "model_1_training = model_1.fit(predictors,\n",
    "                               target,\n",
    "                               epochs=20,\n",
    "                               validation_split=0.4,\n",
    "                               callbacks=[early_stopping_monitor],\n",
    "                               verbose=False)\n",
    "\n",
    "# Fit model 2\n",
    "model_2_training = model_2.fit(predictors,\n",
    "                               target,\n",
    "                               epochs=20,\n",
    "                               validation_split=0.4,\n",
    "                               callbacks=[early_stopping_monitor],\n",
    "                               verbose=False)\n",
    "\n",
    "# Create the plot\n",
    "plt.plot(model_1_training.history['val_loss'], 'r',\n",
    "         model_2_training.history['val_loss'], 'b')\n",
    "plt.xlabel('Epochs')\n",
    "plt.ylabel('Validation score')\n",
    "plt.show()"
   ]
  },
  {
   "cell_type": "markdown",
   "metadata": {
    "ExecuteTime": {
     "end_time": "2020-07-24T11:20:21.989524Z",
     "start_time": "2020-07-24T11:20:12.960881Z"
    }
   },
   "source": [
    "# Thinking about model capacity"
   ]
  },
  {
   "cell_type": "markdown",
   "metadata": {
    "ExecuteTime": {
     "end_time": "2020-07-24T11:20:21.989524Z",
     "start_time": "2020-07-24T11:20:12.960881Z"
    }
   },
   "source": [
    "**1. What is the connection between overfitting and model capacity?**\n",
    "\n",
    "![Overfitting](ref5.%20Overfitting.jpg)"
   ]
  },
  {
   "cell_type": "markdown",
   "metadata": {},
   "source": [
    "**2. What is a good workflow for optimizing model capacity?**\n",
    "\n",
    "* Start with a small network.\n",
    "\n",
    "* Gradually increase capacity.\n",
    "\n",
    "* Keep increasing capacity until the validation score is no longer improving."
   ]
  },
  {
   "cell_type": "markdown",
   "metadata": {
    "ExecuteTime": {
     "end_time": "2020-11-14T08:25:58.664966Z",
     "start_time": "2020-11-14T08:25:43.842347Z"
    }
   },
   "source": [
    "**3. How do sequential experiments function?**\n",
    "\n",
    "![Sequential experiments](ref6.%20Sequential%20experiments.jpg)"
   ]
  },
  {
   "cell_type": "markdown",
   "metadata": {
    "ExecuteTime": {
     "end_time": "2020-11-14T08:26:09.564952Z",
     "start_time": "2020-11-14T08:25:58.683149Z"
    }
   },
   "source": [
    "**4. Practice question for experimenting with model structures:**\n",
    "\n",
    "* Run an experiment to compare two identical networks except that the 2nd network had an extra hidden layer. It could be seen that this 2nd network (the deeper network) had better performance. Given that, which of the following would be a good experiment to run next for even better performance?\n",
    "\n",
    "    $\\Box$ Try a new network with fewer layers than anything you have tried yet.\n",
    "    \n",
    "    $\\boxtimes$ Use more units in each hidden layer.\n",
    "    \n",
    "    $\\Box$ Use fewer units in each hidden layer."
   ]
  },
  {
   "cell_type": "markdown",
   "metadata": {
    "ExecuteTime": {
     "end_time": "2020-07-24T11:20:21.989524Z",
     "start_time": "2020-07-24T11:20:12.960881Z"
    }
   },
   "source": [
    "# Stepping up to images"
   ]
  },
  {
   "cell_type": "markdown",
   "metadata": {
    "ExecuteTime": {
     "end_time": "2020-07-24T11:20:21.989524Z",
     "start_time": "2020-07-24T11:20:12.960881Z"
    }
   },
   "source": [
    "**1. How to recognize handwritten digits?**\n",
    "\n",
    "* The MNIST dataset.\n",
    "\n",
    "* $28$ x $28$ grid flattened to $784$ values for each image.\n",
    "\n",
    "* Value in each part of the array denotes the darkness of that pixel.\n",
    "\n",
    "![Recognizing handwritten digits](ref7.%20Recognizing%20handwritten%20digits.jpg)"
   ]
  },
  {
   "cell_type": "markdown",
   "metadata": {},
   "source": [
    "**5. Practice exercises for model validation:**\n",
    "\n",
    "$\\blacktriangleright$ **Package pre-loading:**"
   ]
  },
  {
   "cell_type": "code",
   "execution_count": 19,
   "metadata": {
    "ExecuteTime": {
     "end_time": "2020-11-14T19:22:08.803025Z",
     "start_time": "2020-11-14T19:22:08.784994Z"
    }
   },
   "outputs": [],
   "source": [
    "import pandas as pd\n",
    "from keras.layers import Dense\n",
    "from keras.models import Sequential\n",
    "from keras.utils import to_categorical"
   ]
  },
  {
   "cell_type": "markdown",
   "metadata": {},
   "source": [
    "$\\blacktriangleright$ **Data pre-loading:**"
   ]
  },
  {
   "cell_type": "code",
   "execution_count": 20,
   "metadata": {
    "ExecuteTime": {
     "end_time": "2020-11-14T19:22:09.587104Z",
     "start_time": "2020-11-14T19:22:08.814219Z"
    }
   },
   "outputs": [],
   "source": [
    "df = pd.read_csv('ref8. MNIST.csv', header=None)\n",
    "X = df.iloc[:, 1:].to_numpy()\n",
    "y = to_categorical(df.iloc[:, 0])"
   ]
  },
  {
   "cell_type": "markdown",
   "metadata": {},
   "source": [
    "$\\blacktriangleright$ **Evaluating model accuracy on validation dataset practice:**"
   ]
  },
  {
   "cell_type": "code",
   "execution_count": 21,
   "metadata": {
    "ExecuteTime": {
     "end_time": "2020-11-14T19:22:11.932924Z",
     "start_time": "2020-11-14T19:22:09.595989Z"
    }
   },
   "outputs": [
    {
     "name": "stdout",
     "output_type": "stream",
     "text": [
      "44/44 [==============================] - 2s 46ms/step - loss: 30.6659 - accuracy: 0.3322 - val_loss: 5.7913 - val_accuracy: 0.5824\n"
     ]
    },
    {
     "data": {
      "text/plain": [
       "<tensorflow.python.keras.callbacks.History at 0x7f9730fb26d0>"
      ]
     },
     "execution_count": 21,
     "metadata": {},
     "output_type": "execute_result"
    }
   ],
   "source": [
    "# Create the model: model\n",
    "model = Sequential()\n",
    "\n",
    "# Add the first hidden layer\n",
    "model.add(Dense(50, activation='relu', input_shape=(784, )))\n",
    "\n",
    "# Add the second hidden layer\n",
    "model.add(Dense(50, activation='relu'))\n",
    "\n",
    "# Add the output layer\n",
    "model.add(Dense(10, activation='softmax'))\n",
    "\n",
    "# Compile the model\n",
    "model.compile(optimizer='adam',\n",
    "              loss='categorical_crossentropy',\n",
    "              metrics=['accuracy'])\n",
    "\n",
    "# Fit the model\n",
    "model.fit(X, y, validation_split=0.3)"
   ]
  },
  {
   "cell_type": "markdown",
   "metadata": {
    "ExecuteTime": {
     "end_time": "2020-07-24T11:20:21.989524Z",
     "start_time": "2020-07-24T11:20:12.960881Z"
    }
   },
   "source": [
    "# Final thoughts"
   ]
  },
  {
   "cell_type": "markdown",
   "metadata": {
    "ExecuteTime": {
     "end_time": "2020-07-24T11:20:21.989524Z",
     "start_time": "2020-07-24T11:20:12.960881Z"
    }
   },
   "source": [
    "**1. What are the next steps?**\n",
    "\n",
    "* Start with standard prediction problems on tables of numbers.\n",
    "\n",
    "* Images (with convolutional neural networks) are common next steps.\n",
    "\n",
    "* keras.io for excellent documentation.\n",
    "\n",
    "* The graphical processing unit (GPU) provides dramatic speedups in model training times.\n",
    "\n",
    "* Need a CUDA compatible GPU.\n",
    "\n",
    "* Here is a [blog post](https://www.datacamp.com/community/tutorials/deep-learning-jupyter-aws) that explains how to training on using GPUs in the cloud."
   ]
  }
 ],
 "metadata": {
  "kernelspec": {
   "display_name": "Python 3",
   "language": "python",
   "name": "python3"
  },
  "language_info": {
   "codemirror_mode": {
    "name": "ipython",
    "version": 3
   },
   "file_extension": ".py",
   "mimetype": "text/x-python",
   "name": "python",
   "nbconvert_exporter": "python",
   "pygments_lexer": "ipython3",
   "version": "3.7.6"
  },
  "latex_envs": {
   "LaTeX_envs_menu_present": true,
   "autoclose": true,
   "autocomplete": true,
   "bibliofile": "biblio.bib",
   "cite_by": "apalike",
   "current_citInitial": 1,
   "eqLabelWithNumbers": true,
   "eqNumInitial": 1,
   "hotkeys": {
    "equation": "Ctrl-E",
    "itemize": "Ctrl-I"
   },
   "labels_anchors": false,
   "latex_user_defs": false,
   "report_style_numbering": true,
   "user_envs_cfg": true
  },
  "nbTranslate": {
   "displayLangs": [
    "*"
   ],
   "hotkey": "alt-t",
   "langInMainMenu": true,
   "sourceLang": "en",
   "targetLang": "fr",
   "useGoogleTranslate": true
  },
  "toc": {
   "base_numbering": 1,
   "nav_menu": {},
   "number_sections": true,
   "sideBar": true,
   "skip_h1_title": false,
   "title_cell": "Table of Contents",
   "title_sidebar": "Contents",
   "toc_cell": false,
   "toc_position": {
    "height": "calc(100% - 180px)",
    "left": "10px",
    "top": "150px",
    "width": "288px"
   },
   "toc_section_display": true,
   "toc_window_display": true
  },
  "varInspector": {
   "cols": {
    "lenName": 16,
    "lenType": 16,
    "lenVar": 40
   },
   "kernels_config": {
    "python": {
     "delete_cmd_postfix": "",
     "delete_cmd_prefix": "del ",
     "library": "var_list.py",
     "varRefreshCmd": "print(var_dic_list())"
    },
    "r": {
     "delete_cmd_postfix": ") ",
     "delete_cmd_prefix": "rm(",
     "library": "var_list.r",
     "varRefreshCmd": "cat(var_dic_list()) "
    }
   },
   "types_to_exclude": [
    "module",
    "function",
    "builtin_function_or_method",
    "instance",
    "_Feature"
   ],
   "window_display": true
  }
 },
 "nbformat": 4,
 "nbformat_minor": 4
}
