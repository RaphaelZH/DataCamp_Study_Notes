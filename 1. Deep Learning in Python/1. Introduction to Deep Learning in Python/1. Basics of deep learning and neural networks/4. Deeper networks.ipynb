{
 "cells": [
  {
   "cell_type": "markdown",
   "metadata": {
    "ExecuteTime": {
     "end_time": "2020-07-24T11:20:21.989524Z",
     "start_time": "2020-07-24T11:20:12.960881Z"
    }
   },
   "source": [
    "```\n",
    "###############################\n",
    "##                           ##\n",
    "##  Deep Learning in Python  ##\n",
    "##                           ##\n",
    "###############################\n",
    "\n",
    "§1 Introduction to Deep Learning in Python\n",
    "\n",
    "§1.1 Basics of deep learning and neural networks\n",
    "\n",
    "§1.1.4 Deeper networks\n",
    "```"
   ]
  },
  {
   "cell_type": "markdown",
   "metadata": {
    "ExecuteTime": {
     "end_time": "2020-07-24T11:20:21.989524Z",
     "start_time": "2020-07-24T11:20:12.960881Z"
    }
   },
   "source": [
    "**1. How do multiple hidden layers function?**\n",
    "\n",
    "![Multiple hidden layers](ref7.%20Multiple%20hidden%20layers.jpg)"
   ]
  },
  {
   "cell_type": "markdown",
   "metadata": {},
   "source": [
    "**2. Why is deep learning also sometimes called representation learning?**\n",
    "\n",
    "* Deep networks internally build representations of patterns in the data; in this way, partially replace the need for feature engineering.\n",
    "\n",
    "* Subsequent layers build increasingly sophisticated representations of raw data.\n",
    "\n",
    "![Representation learning](ref8.%20Representation%20learning.jpg)"
   ]
  },
  {
   "cell_type": "markdown",
   "metadata": {},
   "source": [
    "**3. How does the deep learning process?**\n",
    "\n",
    "* The modeler doesn't need to specify the interactions.\n",
    "\n",
    "* When training the model, the neural network gets weights that find the relevant patterns to make better predictions."
   ]
  },
  {
   "cell_type": "markdown",
   "metadata": {},
   "source": [
    "**4. Practice question for the forward propagation in a deeper network:**\n",
    "\n",
    "$\\quad$ Ther is a model with two hidden layers. The values for an input data point are shown inside the input nodes. The weights are shown on the edges/lines. What prediction would this model make on this data point?\n",
    "\n",
    "$\\quad$ Assume the activation function at each node is the *identity function*. That is, each node's output will be the same as its input. So the value of the bottom node in the first hidden layer is $-1$, and not $0$, as it would be if the ReLU activation function was used.\n",
    "\n",
    "![Forward propagation in a deeper network](ref9.%20Forward%20propagation%20in%20a%20deeper%20network.png)\n",
    "\n",
    "$\\boxtimes$ $0$.\n",
    "\n",
    "$\\Box$ $7$.\n",
    "\n",
    "$\\Box$ $9$."
   ]
  },
  {
   "cell_type": "markdown",
   "metadata": {},
   "source": [
    "**5. Practice exercises for deeper networks:**\n",
    "\n",
    "$\\blacktriangleright$ **Diagram of the forward propagation:**\n",
    "\n",
    "![Multi-layer neural networks](ref10.%20Multi-layer%20neural%20networks.png)"
   ]
  },
  {
   "cell_type": "markdown",
   "metadata": {},
   "source": [
    "$\\blacktriangleright$ **Package pre-loading:**"
   ]
  },
  {
   "cell_type": "code",
   "execution_count": 1,
   "metadata": {
    "ExecuteTime": {
     "end_time": "2020-11-03T16:18:15.635338Z",
     "start_time": "2020-11-03T16:18:15.089752Z"
    }
   },
   "outputs": [],
   "source": [
    "import numpy as np"
   ]
  },
  {
   "cell_type": "markdown",
   "metadata": {},
   "source": [
    "$\\blacktriangleright$ **Data pre-loading:**"
   ]
  },
  {
   "cell_type": "code",
   "execution_count": 2,
   "metadata": {
    "ExecuteTime": {
     "end_time": "2020-11-03T16:18:15.651383Z",
     "start_time": "2020-11-03T16:18:15.640211Z"
    }
   },
   "outputs": [],
   "source": [
    "input_data = np.array([3, 5])\n",
    "\n",
    "weights = {\n",
    "    'node_0_0': np.array([2, 4]),\n",
    "    'node_0_1': np.array([4, -5]),\n",
    "    'node_1_0': np.array([-1, 2]),\n",
    "    'node_1_1': np.array([1, 2]),\n",
    "    'output': np.array([2, 7])\n",
    "}\n",
    "\n",
    "\n",
    "def relu(input):\n",
    "    output = max(0, input)\n",
    "    return (output)"
   ]
  },
  {
   "cell_type": "markdown",
   "metadata": {},
   "source": [
    "$\\blacktriangleright$ **Multi-layer neural networks practice:**"
   ]
  },
  {
   "cell_type": "code",
   "execution_count": 3,
   "metadata": {
    "ExecuteTime": {
     "end_time": "2020-11-03T16:18:15.678975Z",
     "start_time": "2020-11-03T16:18:15.655257Z"
    }
   },
   "outputs": [
    {
     "name": "stdout",
     "output_type": "stream",
     "text": [
      "182\n"
     ]
    }
   ],
   "source": [
    "def predict_with_network(input_data):\n",
    "    # Calculate node 0 in the first hidden layer\n",
    "    node_0_0_input = (input_data * weights['node_0_0']).sum()\n",
    "    node_0_0_output = relu(node_0_0_input)\n",
    "\n",
    "    # Calculate node 1 in the first hidden layer\n",
    "    node_0_1_input = (input_data * weights['node_0_1']).sum()\n",
    "    node_0_1_output = relu(node_0_1_input)\n",
    "\n",
    "    # Put node values into array: hidden_0_outputs\n",
    "    hidden_0_outputs = np.array([node_0_0_output, node_0_1_output])\n",
    "\n",
    "    # Calculate node 0 in the second hidden layer\n",
    "    node_1_0_input = (hidden_0_outputs * weights['node_1_0']).sum()\n",
    "    node_1_0_output = relu(node_1_0_input)\n",
    "\n",
    "    # Calculate node 1 in the second hidden layer\n",
    "    node_1_1_input = (hidden_0_outputs * weights['node_1_1']).sum()\n",
    "    node_1_1_output = relu(node_1_1_input)\n",
    "\n",
    "    # Put node values into array: hidden_1_outputs\n",
    "    hidden_1_outputs = np.array([node_1_0_output, node_1_1_output])\n",
    "\n",
    "    # Calculate model output: model_output\n",
    "    model_output = (hidden_1_outputs * weights['output']).sum()\n",
    "\n",
    "    # Return model_output\n",
    "    return (model_output)\n",
    "\n",
    "\n",
    "output = predict_with_network(input_data)\n",
    "print(output)"
   ]
  },
  {
   "cell_type": "markdown",
   "metadata": {
    "ExecuteTime": {
     "end_time": "2020-10-20T02:49:13.349429Z",
     "start_time": "2020-10-20T02:49:13.338788Z"
    }
   },
   "source": [
    "**6. Practice question for learned representations:**\n",
    "\n",
    "$\\quad$ How are the weights that determine the features/interactions in Neural Networks created?\n",
    "\n",
    "$\\Box$ A user chooses them when creating the model.\n",
    "\n",
    "$\\boxtimes$ The model training process sets them to optimize predictive accuracy.\n",
    "\n",
    "$\\Box$ The weights are random numbers."
   ]
  },
  {
   "cell_type": "markdown",
   "metadata": {
    "ExecuteTime": {
     "end_time": "2020-10-20T21:17:52.898595Z",
     "start_time": "2020-10-20T21:17:52.889031Z"
    }
   },
   "source": [
    "**7. Practice question for levels of representation:**\n",
    "\n",
    "$\\quad$ Which layers of a model capture more complex or \"higher level\" interactions?\n",
    "\n",
    "$\\Box$ The first layers capture the most complex interactions.\n",
    "\n",
    "$\\boxtimes$ The last layers capture the most complex interactions.\n",
    "\n",
    "$\\Box$ All layers capture interactions of similar complexity."
   ]
  }
 ],
 "metadata": {
  "kernelspec": {
   "display_name": "Python 3",
   "language": "python",
   "name": "python3"
  },
  "language_info": {
   "codemirror_mode": {
    "name": "ipython",
    "version": 3
   },
   "file_extension": ".py",
   "mimetype": "text/x-python",
   "name": "python",
   "nbconvert_exporter": "python",
   "pygments_lexer": "ipython3",
   "version": "3.7.6"
  },
  "latex_envs": {
   "LaTeX_envs_menu_present": true,
   "autoclose": true,
   "autocomplete": true,
   "bibliofile": "biblio.bib",
   "cite_by": "apalike",
   "current_citInitial": 1,
   "eqLabelWithNumbers": true,
   "eqNumInitial": 1,
   "hotkeys": {
    "equation": "Ctrl-E",
    "itemize": "Ctrl-I"
   },
   "labels_anchors": false,
   "latex_user_defs": false,
   "report_style_numbering": true,
   "user_envs_cfg": true
  },
  "nbTranslate": {
   "displayLangs": [
    "*"
   ],
   "hotkey": "alt-t",
   "langInMainMenu": true,
   "sourceLang": "en",
   "targetLang": "fr",
   "useGoogleTranslate": true
  },
  "toc": {
   "base_numbering": 1,
   "nav_menu": {},
   "number_sections": true,
   "sideBar": true,
   "skip_h1_title": false,
   "title_cell": "Table of Contents",
   "title_sidebar": "Contents",
   "toc_cell": false,
   "toc_position": {
    "height": "calc(100% - 180px)",
    "left": "10px",
    "top": "150px",
    "width": "288px"
   },
   "toc_section_display": true,
   "toc_window_display": true
  },
  "varInspector": {
   "cols": {
    "lenName": 16,
    "lenType": 16,
    "lenVar": 40
   },
   "kernels_config": {
    "python": {
     "delete_cmd_postfix": "",
     "delete_cmd_prefix": "del ",
     "library": "var_list.py",
     "varRefreshCmd": "print(var_dic_list())"
    },
    "r": {
     "delete_cmd_postfix": ") ",
     "delete_cmd_prefix": "rm(",
     "library": "var_list.r",
     "varRefreshCmd": "cat(var_dic_list()) "
    }
   },
   "types_to_exclude": [
    "module",
    "function",
    "builtin_function_or_method",
    "instance",
    "_Feature"
   ],
   "window_display": true
  }
 },
 "nbformat": 4,
 "nbformat_minor": 4
}
