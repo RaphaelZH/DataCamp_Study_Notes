{
 "cells": [
  {
   "cell_type": "markdown",
   "metadata": {
    "toc": true
   },
   "source": [
    "<h1>Table of Contents<span class=\"tocSkip\"></span></h1>\n",
    "<div class=\"toc\"><ul class=\"toc-item\"><li><span><a href=\"#Introduction-to-deep-learning\" data-toc-modified-id=\"Introduction-to-deep-learning-1\"><span class=\"toc-item-num\">1&nbsp;&nbsp;</span>Introduction to deep learning</a></span><ul class=\"toc-item\"><li><span><a href=\"#[note-1]-Example-as-seen-by-linear-regression\" data-toc-modified-id=\"[note-1]-Example-as-seen-by-linear-regression-1.1\"><span class=\"toc-item-num\">1.1&nbsp;&nbsp;</span><code>[note-1]</code> Example as seen by linear regression</a></span></li><li><span><a href=\"#[note-2]-Interactions\" data-toc-modified-id=\"[note-2]-Interactions-1.2\"><span class=\"toc-item-num\">1.2&nbsp;&nbsp;</span><code>[note-2]</code> Interactions</a></span></li><li><span><a href=\"#[note-3]-Interactions-in-neural-network\" data-toc-modified-id=\"[note-3]-Interactions-in-neural-network-1.3\"><span class=\"toc-item-num\">1.3&nbsp;&nbsp;</span><code>[note-3]</code> Interactions in neural network</a></span></li><li><span><a href=\"#[quiz-1]-Comparing-neural-network-models-to-classical-regression-models\" data-toc-modified-id=\"[quiz-1]-Comparing-neural-network-models-to-classical-regression-models-1.4\"><span class=\"toc-item-num\">1.4&nbsp;&nbsp;</span><code>[quiz-1]</code> Comparing neural network models to classical regression models</a></span></li></ul></li><li><span><a href=\"#Forward-propagation\" data-toc-modified-id=\"Forward-propagation-2\"><span class=\"toc-item-num\">2&nbsp;&nbsp;</span>Forward propagation</a></span><ul class=\"toc-item\"><li><span><a href=\"#[note-1]-Forward-propagation\" data-toc-modified-id=\"[note-1]-Forward-propagation-2.1\"><span class=\"toc-item-num\">2.1&nbsp;&nbsp;</span><code>[note-1]</code> Forward propagation</a></span></li><li><span><a href=\"#[code-1]-Forward-propagation\" data-toc-modified-id=\"[code-1]-Forward-propagation-2.2\"><span class=\"toc-item-num\">2.2&nbsp;&nbsp;</span><code>[code-1]</code> Forward propagation</a></span></li><li><span><a href=\"#[task-1]-Coding-the-forward-propagation-algorithm\" data-toc-modified-id=\"[task-1]-Coding-the-forward-propagation-algorithm-2.3\"><span class=\"toc-item-num\">2.3&nbsp;&nbsp;</span><code>[task-1]</code> Coding the forward propagation algorithm</a></span></li></ul></li><li><span><a href=\"#Activation-functions\" data-toc-modified-id=\"Activation-functions-3\"><span class=\"toc-item-num\">3&nbsp;&nbsp;</span>Activation functions</a></span><ul class=\"toc-item\"><li><span><a href=\"#[note-1]-Linear-vs.-nonlinear-functions\" data-toc-modified-id=\"[note-1]-Linear-vs.-nonlinear-functions-3.1\"><span class=\"toc-item-num\">3.1&nbsp;&nbsp;</span><code>[note-1]</code> Linear vs. nonlinear functions</a></span></li><li><span><a href=\"#[note-2]-Activation-functions\" data-toc-modified-id=\"[note-2]-Activation-functions-3.2\"><span class=\"toc-item-num\">3.2&nbsp;&nbsp;</span><code>[note-2]</code> Activation functions</a></span></li><li><span><a href=\"#[note-3]-ReLU-(Rectified-Linear-Activation)\" data-toc-modified-id=\"[note-3]-ReLU-(Rectified-Linear-Activation)-3.3\"><span class=\"toc-item-num\">3.3&nbsp;&nbsp;</span><code>[note-3]</code> ReLU (Rectified Linear Activation)</a></span></li><li><span><a href=\"#[code-1]-Activation-functions\" data-toc-modified-id=\"[code-1]-Activation-functions-3.4\"><span class=\"toc-item-num\">3.4&nbsp;&nbsp;</span><code>[code-1]</code> Activation functions</a></span></li><li><span><a href=\"#[task-1]-The-rectified-linear-activation-function\" data-toc-modified-id=\"[task-1]-The-rectified-linear-activation-function-3.5\"><span class=\"toc-item-num\">3.5&nbsp;&nbsp;</span><code>[task-1]</code> The rectified linear activation function</a></span></li><li><span><a href=\"#[task-2]-Applying-the-network-to-many-observations/rows-of-data\" data-toc-modified-id=\"[task-2]-Applying-the-network-to-many-observations/rows-of-data-3.6\"><span class=\"toc-item-num\">3.6&nbsp;&nbsp;</span><code>[task-2]</code> Applying the network to many observations/rows of data</a></span></li></ul></li><li><span><a href=\"#Deeper-networks\" data-toc-modified-id=\"Deeper-networks-4\"><span class=\"toc-item-num\">4&nbsp;&nbsp;</span>Deeper networks</a></span><ul class=\"toc-item\"><li><span><a href=\"#[note-1]-Multiple-hidden-layers\" data-toc-modified-id=\"[note-1]-Multiple-hidden-layers-4.1\"><span class=\"toc-item-num\">4.1&nbsp;&nbsp;</span><code>[note-1]</code> Multiple hidden layers</a></span></li><li><span><a href=\"#[note-2]-Representation-learning\" data-toc-modified-id=\"[note-2]-Representation-learning-4.2\"><span class=\"toc-item-num\">4.2&nbsp;&nbsp;</span><code>[note-2]</code> Representation learning</a></span></li><li><span><a href=\"#[note-3]-Deep-learning\" data-toc-modified-id=\"[note-3]-Deep-learning-4.3\"><span class=\"toc-item-num\">4.3&nbsp;&nbsp;</span><code>[note-3]</code> Deep learning</a></span></li><li><span><a href=\"#[quiz-1]-Forward-propagation-in-a-deeper-network\" data-toc-modified-id=\"[quiz-1]-Forward-propagation-in-a-deeper-network-4.4\"><span class=\"toc-item-num\">4.4&nbsp;&nbsp;</span><code>[quiz-1]</code> Forward propagation in a deeper network</a></span></li><li><span><a href=\"#[task-1]-Multi-layer-neural-networks\" data-toc-modified-id=\"[task-1]-Multi-layer-neural-networks-4.5\"><span class=\"toc-item-num\">4.5&nbsp;&nbsp;</span><code>[task-1]</code> Multi-layer neural networks</a></span></li><li><span><a href=\"#[quiz-2]-Representations-are-learned\" data-toc-modified-id=\"[quiz-2]-Representations-are-learned-4.6\"><span class=\"toc-item-num\">4.6&nbsp;&nbsp;</span><code>[quiz-2]</code> Representations are learned</a></span></li><li><span><a href=\"#[quiz-3]-Levels-of-representation\" data-toc-modified-id=\"[quiz-3]-Levels-of-representation-4.7\"><span class=\"toc-item-num\">4.7&nbsp;&nbsp;</span><code>[quiz-3]</code> Levels of representation</a></span></li></ul></li><li><span><a href=\"#Requirements\" data-toc-modified-id=\"Requirements-5\"><span class=\"toc-item-num\">5&nbsp;&nbsp;</span>Requirements</a></span></li></ul></div>"
   ]
  },
  {
   "cell_type": "markdown",
   "metadata": {},
   "source": [
    "# Introduction to deep learning"
   ]
  },
  {
   "cell_type": "markdown",
   "metadata": {},
   "source": [
    "## `[note-1]` Example as seen by linear regression\n",
    "\n",
    "![Example as seen by linear regression](ref1.%20Example%20as%20seen%20by%20linear%20regression.jpg)"
   ]
  },
  {
   "cell_type": "markdown",
   "metadata": {
    "ExecuteTime": {
     "end_time": "2020-07-24T11:20:21.989524Z",
     "start_time": "2020-07-24T11:20:12.960881Z"
    }
   },
   "source": [
    "## `[note-2]` Interactions\n",
    "\n",
    "* Neural networks account for interactions really well.\n",
    "\n",
    "* Deep learning uses especially powerful neural networks:\n",
    "\n",
    "    * Text\n",
    "    \n",
    "    * Images\n",
    "    \n",
    "    * Videos\n",
    "    \n",
    "    * Audio\n",
    "    \n",
    "    * Source code"
   ]
  },
  {
   "cell_type": "markdown",
   "metadata": {
    "ExecuteTime": {
     "end_time": "2020-07-24T11:20:21.989524Z",
     "start_time": "2020-07-24T11:20:12.960881Z"
    }
   },
   "source": [
    "## `[note-3]` Interactions in neural network\n",
    "\n",
    "![Interactions in neural network](ref2.%20Interactions%20in%20neural%20network.jpg)"
   ]
  },
  {
   "cell_type": "markdown",
   "metadata": {},
   "source": [
    "## `[quiz-1]` Comparing neural network models to classical regression models\n",
    "\n",
    "* Which of the models in the diagrams has a greater ability to account for interactions?\n",
    "\n",
    "    ![Comparing neural network models to classical regression models](ref3.%20Comparing%20neural%20network%20models%20to%20classical%20regression%20models.png)\n",
    "    \n",
    "    $\\Box$ Model 1.\n",
    "    \n",
    "    $\\boxtimes$ Model 2.\n",
    "    \n",
    "    $\\Box$ They are both the same."
   ]
  },
  {
   "cell_type": "markdown",
   "metadata": {},
   "source": [
    "# Forward propagation"
   ]
  },
  {
   "cell_type": "markdown",
   "metadata": {
    "ExecuteTime": {
     "end_time": "2020-07-24T11:20:21.989524Z",
     "start_time": "2020-07-24T11:20:12.960881Z"
    }
   },
   "source": [
    "## `[note-1]` Forward propagation\n",
    "\n",
    "* Multiply - add process.\n",
    "\n",
    "* Dot product.\n",
    "\n",
    "* Propagate forward for one data point at a time.\n",
    "\n",
    "* Output is the prediction for that data point.\n",
    "\n",
    "![Forward propagation](ref4.%20Forward%20propagation.jpg)"
   ]
  },
  {
   "cell_type": "markdown",
   "metadata": {},
   "source": [
    "## `[code-1]` Forward propagation"
   ]
  },
  {
   "cell_type": "code",
   "execution_count": 1,
   "metadata": {
    "ExecuteTime": {
     "end_time": "2021-04-20T01:41:43.181579Z",
     "start_time": "2021-04-20T01:41:42.907552Z"
    }
   },
   "outputs": [
    {
     "name": "stdout",
     "output_type": "stream",
     "text": [
      "[5 1]\n"
     ]
    }
   ],
   "source": [
    "import numpy as np\n",
    "\n",
    "input_data = np.array([2, 3])\n",
    "weights = {\n",
    "    'node_0': np.array([1, 1]),\n",
    "    'node_1': np.array([-1, 1]),\n",
    "    'output': np.array([2, -1])\n",
    "}\n",
    "node_0_value = (input_data * weights['node_0']).sum()\n",
    "node_1_value = (input_data * weights['node_1']).sum()\n",
    "\n",
    "hidden_layer_values = np.array([node_0_value, node_1_value])\n",
    "print(hidden_layer_values)"
   ]
  },
  {
   "cell_type": "code",
   "execution_count": 2,
   "metadata": {
    "ExecuteTime": {
     "end_time": "2021-04-20T01:41:43.197248Z",
     "start_time": "2021-04-20T01:41:43.191960Z"
    }
   },
   "outputs": [
    {
     "name": "stdout",
     "output_type": "stream",
     "text": [
      "9\n"
     ]
    }
   ],
   "source": [
    "output = (hidden_layer_values * weights['output']).sum()\n",
    "print(output)"
   ]
  },
  {
   "cell_type": "markdown",
   "metadata": {
    "ExecuteTime": {
     "end_time": "2020-07-24T11:20:21.989524Z",
     "start_time": "2020-07-24T11:20:12.960881Z"
    }
   },
   "source": [
    "## `[task-1]` Coding the forward propagation algorithm\n",
    "\n",
    "$\\blacktriangleright$ **Task diagram**\n",
    "\n",
    "![Coding the forward propagation algorithm](ref5.%20Coding%20the%20forward%20propagation%20algorithm.png)"
   ]
  },
  {
   "cell_type": "markdown",
   "metadata": {},
   "source": [
    "$\\blacktriangleright$ **Package pre-loading**"
   ]
  },
  {
   "cell_type": "code",
   "execution_count": 3,
   "metadata": {
    "ExecuteTime": {
     "end_time": "2021-04-20T01:41:44.538135Z",
     "start_time": "2021-04-20T01:41:44.476527Z"
    }
   },
   "outputs": [],
   "source": [
    "import numpy as np"
   ]
  },
  {
   "cell_type": "markdown",
   "metadata": {},
   "source": [
    "$\\blacktriangleright$ **Data pre-loading**"
   ]
  },
  {
   "cell_type": "code",
   "execution_count": 4,
   "metadata": {
    "ExecuteTime": {
     "end_time": "2021-04-20T01:41:45.168739Z",
     "start_time": "2021-04-20T01:41:45.164315Z"
    }
   },
   "outputs": [],
   "source": [
    "input_data = np.array([3, 5])\n",
    "\n",
    "weights = {\n",
    "    'node_0': np.array([2, 4]),\n",
    "    'node_1': np.array([4, -5]),\n",
    "    'output': np.array([2, 7])\n",
    "}"
   ]
  },
  {
   "cell_type": "markdown",
   "metadata": {},
   "source": [
    "$\\blacktriangleright$ **Task practice**"
   ]
  },
  {
   "cell_type": "code",
   "execution_count": 5,
   "metadata": {
    "ExecuteTime": {
     "end_time": "2021-04-20T01:41:46.118229Z",
     "start_time": "2021-04-20T01:41:46.112042Z"
    }
   },
   "outputs": [
    {
     "name": "stdout",
     "output_type": "stream",
     "text": [
      "-39\n"
     ]
    }
   ],
   "source": [
    "# Calculate node 0 value: node_0_value\n",
    "node_0_value = (input_data * weights['node_0']).sum()\n",
    "\n",
    "# Calculate node 1 value: node_1_value\n",
    "node_1_value = (input_data * weights['node_1']).sum()\n",
    "\n",
    "# Put node values into array: hidden_layer_outputs\n",
    "hidden_layer_outputs = np.array([node_0_value, node_1_value])\n",
    "\n",
    "# Calculate output: output\n",
    "output = (hidden_layer_outputs * weights['output']).sum()\n",
    "\n",
    "# Print output\n",
    "print(output)"
   ]
  },
  {
   "cell_type": "markdown",
   "metadata": {},
   "source": [
    "# Activation functions"
   ]
  },
  {
   "cell_type": "markdown",
   "metadata": {},
   "source": [
    "## `[note-1]` Linear vs. nonlinear functions\n",
    "\n",
    "![Linear vs. nonlinear functions](ref6.%20Linear%20vs.%20nonlinear%20functions.jpg)"
   ]
  },
  {
   "cell_type": "markdown",
   "metadata": {
    "ExecuteTime": {
     "end_time": "2020-07-24T11:20:21.989524Z",
     "start_time": "2020-07-24T11:20:12.960881Z"
    }
   },
   "source": [
    "## `[note-2]` Activation functions\n",
    "\n",
    "* Activation functions are applied to node inputs to produce node output.\n",
    "\n",
    "![Activation functions](ref7.%20Activation%20functions.jpg)"
   ]
  },
  {
   "cell_type": "markdown",
   "metadata": {},
   "source": [
    "## `[note-3]` ReLU (Rectified Linear Activation)\n",
    "\n",
    "![ReLU (Rectified Linear Activation)](ref8.%20ReLU%20(Rectified%20Linear%20Activation).jpg)\n",
    "\n",
    "\\begin{equation*}\n",
    "    RELU(x)\\ =\\\n",
    "    \\begin{cases}\n",
    "        \\begin{aligned}\n",
    "            0\\ if\\ x\\ <   \\ 0\\\\\n",
    "            x\\ if\\ x\\ \\geq\\ 0  \n",
    "        \\end{aligned}\n",
    "    \\end{cases}\n",
    "\\end{equation*}"
   ]
  },
  {
   "cell_type": "markdown",
   "metadata": {},
   "source": [
    "## `[code-1]` Activation functions"
   ]
  },
  {
   "cell_type": "code",
   "execution_count": 6,
   "metadata": {
    "ExecuteTime": {
     "end_time": "2021-04-20T01:41:50.229501Z",
     "start_time": "2021-04-20T01:41:50.221755Z"
    }
   },
   "outputs": [
    {
     "name": "stdout",
     "output_type": "stream",
     "text": [
      "0.9901095378334199\n"
     ]
    }
   ],
   "source": [
    "import numpy as np\n",
    "\n",
    "input_data = np.array([-1, 2])\n",
    "weights = {\n",
    "    'node_0': np.array([3, 3]),\n",
    "    'node_1': np.array([1, 5]),\n",
    "    'output': np.array([2, -1])\n",
    "}\n",
    "node_0_input = (input_data * weights['node_0']).sum()\n",
    "node_0_output = np.tanh(node_0_input)\n",
    "node_1_input = (input_data * weights['node_1']).sum()\n",
    "node_1_output = np.tanh(node_1_input)\n",
    "hidden_layer_outputs = np.array([node_0_output, node_1_output])\n",
    "output = (hidden_layer_outputs * weights['output']).sum()\n",
    "\n",
    "print(output)"
   ]
  },
  {
   "cell_type": "markdown",
   "metadata": {
    "ExecuteTime": {
     "end_time": "2020-10-20T03:07:31.592251Z",
     "start_time": "2020-10-20T03:07:31.583965Z"
    }
   },
   "source": [
    "## `[task-1]` The rectified linear activation function\n",
    "\n",
    "$\\blacktriangleright$ **Package pre-loading**"
   ]
  },
  {
   "cell_type": "code",
   "execution_count": 7,
   "metadata": {
    "ExecuteTime": {
     "end_time": "2021-04-20T01:41:51.025440Z",
     "start_time": "2021-04-20T01:41:51.022107Z"
    }
   },
   "outputs": [],
   "source": [
    "import numpy as np"
   ]
  },
  {
   "cell_type": "markdown",
   "metadata": {},
   "source": [
    "$\\blacktriangleright$ **Data pre-loading**"
   ]
  },
  {
   "cell_type": "code",
   "execution_count": 8,
   "metadata": {
    "ExecuteTime": {
     "end_time": "2021-04-20T01:41:51.690604Z",
     "start_time": "2021-04-20T01:41:51.686191Z"
    }
   },
   "outputs": [],
   "source": [
    "input_data = np.array([3, 5])\n",
    "\n",
    "weights = {\n",
    "    'node_0': np.array([2, 4]),\n",
    "    'node_1': np.array([4, -5]),\n",
    "    'output': np.array([2, 7])\n",
    "}"
   ]
  },
  {
   "cell_type": "markdown",
   "metadata": {},
   "source": [
    "$\\blacktriangleright$ **Task practice**"
   ]
  },
  {
   "cell_type": "code",
   "execution_count": 9,
   "metadata": {
    "ExecuteTime": {
     "end_time": "2021-04-20T01:41:52.476304Z",
     "start_time": "2021-04-20T01:41:52.468568Z"
    }
   },
   "outputs": [
    {
     "name": "stdout",
     "output_type": "stream",
     "text": [
      "52\n"
     ]
    }
   ],
   "source": [
    "def relu(input):\n",
    "    '''Define your relu activation function here'''\n",
    "    # Calculate the value for the output of the relu function: output\n",
    "    output = max(0, input)\n",
    "\n",
    "    # Return the value just calculated\n",
    "    return (output)\n",
    "\n",
    "\n",
    "# Calculate node 0 value: node_0_output\n",
    "node_0_input = (input_data * weights['node_0']).sum()\n",
    "node_0_output = relu(node_0_input)\n",
    "\n",
    "# Calculate node 1 value: node_1_output\n",
    "node_1_input = (input_data * weights['node_1']).sum()\n",
    "node_1_output = relu(node_1_input)\n",
    "\n",
    "# Put node values into array: hidden_layer_outputs\n",
    "hidden_layer_outputs = np.array([node_0_output, node_1_output])\n",
    "\n",
    "# Calculate model output (do not apply relu)\n",
    "model_output = (hidden_layer_outputs * weights['output']).sum()\n",
    "\n",
    "# Print model output\n",
    "print(model_output)"
   ]
  },
  {
   "cell_type": "markdown",
   "metadata": {},
   "source": [
    "## `[task-2]` Applying the network to many observations/rows of data"
   ]
  },
  {
   "cell_type": "markdown",
   "metadata": {
    "ExecuteTime": {
     "end_time": "2020-10-20T02:49:13.349429Z",
     "start_time": "2020-10-20T02:49:13.338788Z"
    }
   },
   "source": [
    "$\\blacktriangleright$ **Data pre-loading**"
   ]
  },
  {
   "cell_type": "code",
   "execution_count": 10,
   "metadata": {
    "ExecuteTime": {
     "end_time": "2021-04-20T01:41:53.929422Z",
     "start_time": "2021-04-20T01:41:53.925147Z"
    }
   },
   "outputs": [],
   "source": [
    "input_data = [\n",
    "    np.array([3, 5]),\n",
    "    np.array([1, -1]),\n",
    "    np.array([0, 0]),\n",
    "    np.array([8, 4])\n",
    "]"
   ]
  },
  {
   "cell_type": "markdown",
   "metadata": {},
   "source": [
    "$\\blacktriangleright$ **Task practice**"
   ]
  },
  {
   "cell_type": "code",
   "execution_count": 11,
   "metadata": {
    "ExecuteTime": {
     "end_time": "2021-04-20T01:41:54.734182Z",
     "start_time": "2021-04-20T01:41:54.709942Z"
    }
   },
   "outputs": [
    {
     "name": "stdout",
     "output_type": "stream",
     "text": [
      "[52, 63, 0, 148]\n"
     ]
    }
   ],
   "source": [
    "# Define predict_with_network()\n",
    "def predict_with_network(input_data_row, weights):\n",
    "\n",
    "    # Calculate node 0 value\n",
    "    node_0_input = (input_data_row * weights['node_0']).sum()\n",
    "    node_0_output = relu(node_0_input)\n",
    "\n",
    "    # Calculate node 1 value\n",
    "    node_1_input = (input_data_row * weights['node_1']).sum()\n",
    "    node_1_output = relu(node_1_input)\n",
    "\n",
    "    # Put node values into array: hidden_layer_outputs\n",
    "    hidden_layer_outputs = np.array([node_0_output, node_1_output])\n",
    "\n",
    "    # Calculate model output\n",
    "    input_to_final_layer = (hidden_layer_outputs * weights['output']).sum()\n",
    "    model_output = relu(input_to_final_layer)\n",
    "\n",
    "    # Return model output\n",
    "    return (model_output)\n",
    "\n",
    "\n",
    "# Create empty list to store prediction results\n",
    "results = []\n",
    "for input_data_row in input_data:\n",
    "    # Append prediction to results\n",
    "    results.append(predict_with_network(input_data_row, weights))\n",
    "\n",
    "# Print results\n",
    "print(results)"
   ]
  },
  {
   "cell_type": "markdown",
   "metadata": {},
   "source": [
    "# Deeper networks"
   ]
  },
  {
   "cell_type": "markdown",
   "metadata": {
    "ExecuteTime": {
     "end_time": "2020-07-24T11:20:21.989524Z",
     "start_time": "2020-07-24T11:20:12.960881Z"
    }
   },
   "source": [
    "## `[note-1]` Multiple hidden layers\n",
    "\n",
    "![Multiple hidden layers](ref9.%20Multiple%20hidden%20layers.jpg)"
   ]
  },
  {
   "cell_type": "markdown",
   "metadata": {},
   "source": [
    "## `[note-2]` Representation learning\n",
    "\n",
    "* Deep networks internally build representations of patterns in the data.\n",
    "\n",
    "* Partially replace the need for feature engineering.\n",
    "\n",
    "* Subsequent layers build increasingly sophisticated representations of raw data.\n",
    "\n",
    "![Representation learning](ref10.%20Representation%20learning.jpg)"
   ]
  },
  {
   "cell_type": "markdown",
   "metadata": {},
   "source": [
    "## `[note-3]` Deep learning\n",
    "\n",
    "* The modeler doesn't need to specify the interactions.\n",
    "\n",
    "* When training the model, the neural network gets weights that find the relevant patterns to make better predictions."
   ]
  },
  {
   "cell_type": "markdown",
   "metadata": {},
   "source": [
    "## `[quiz-1]` Forward propagation in a deeper network\n",
    "\n",
    "* Ther is a model with two hidden layers. The values for an input data point are shown inside the input nodes. The weights are shown on the edges/lines. What prediction would this model make on this data point?\n",
    "\n",
    "* Assume the activation function at each node is the *identity function*. That is, each node's output will be the same as its input. So the value of the bottom node in the first hidden layer is $-1$, and not $0$, as it would be if the ReLU activation function was used.\n",
    "\n",
    "    ![Forward propagation in a deeper network](ref11.%20Forward%20propagation%20in%20a%20deeper%20network.png)\n",
    "    \n",
    "    $\\boxtimes$ $0$.\n",
    "    \n",
    "    $\\Box$ $7$.\n",
    "    \n",
    "    $\\Box$ $9$."
   ]
  },
  {
   "cell_type": "markdown",
   "metadata": {},
   "source": [
    "## `[task-1]` Multi-layer neural networks\n",
    "\n",
    "$\\blacktriangleright$ **Task diagram**\n",
    "\n",
    "![Multi-layer neural networks](ref12.%20Multi-layer%20neural%20networks.png)"
   ]
  },
  {
   "cell_type": "markdown",
   "metadata": {},
   "source": [
    "$\\blacktriangleright$ **Package pre-loading**"
   ]
  },
  {
   "cell_type": "code",
   "execution_count": 12,
   "metadata": {
    "ExecuteTime": {
     "end_time": "2021-04-20T01:42:00.043192Z",
     "start_time": "2021-04-20T01:42:00.037532Z"
    }
   },
   "outputs": [],
   "source": [
    "import numpy as np"
   ]
  },
  {
   "cell_type": "markdown",
   "metadata": {},
   "source": [
    "$\\blacktriangleright$ **Data pre-loading**"
   ]
  },
  {
   "cell_type": "code",
   "execution_count": 13,
   "metadata": {
    "ExecuteTime": {
     "end_time": "2021-04-20T01:42:00.841705Z",
     "start_time": "2021-04-20T01:42:00.837020Z"
    }
   },
   "outputs": [],
   "source": [
    "input_data = np.array([3, 5])\n",
    "\n",
    "weights = {\n",
    "    'node_0_0': np.array([2, 4]),\n",
    "    'node_0_1': np.array([4, -5]),\n",
    "    'node_1_0': np.array([-1, 2]),\n",
    "    'node_1_1': np.array([1, 2]),\n",
    "    'output': np.array([2, 7])\n",
    "}"
   ]
  },
  {
   "cell_type": "markdown",
   "metadata": {},
   "source": [
    "$\\blacktriangleright$ **Code pre-loading**"
   ]
  },
  {
   "cell_type": "code",
   "execution_count": 14,
   "metadata": {
    "ExecuteTime": {
     "end_time": "2021-04-20T01:42:01.623140Z",
     "start_time": "2021-04-20T01:42:01.617699Z"
    }
   },
   "outputs": [],
   "source": [
    "def relu(input):\n",
    "    output = max(0, input)\n",
    "    return (output)"
   ]
  },
  {
   "cell_type": "markdown",
   "metadata": {},
   "source": [
    "$\\blacktriangleright$ **Task practice**"
   ]
  },
  {
   "cell_type": "code",
   "execution_count": 15,
   "metadata": {
    "ExecuteTime": {
     "end_time": "2021-04-20T01:42:02.331521Z",
     "start_time": "2021-04-20T01:42:02.321029Z"
    }
   },
   "outputs": [
    {
     "name": "stdout",
     "output_type": "stream",
     "text": [
      "182\n"
     ]
    }
   ],
   "source": [
    "def predict_with_network(input_data):\n",
    "    # Calculate node 0 in the first hidden layer\n",
    "    node_0_0_input = (input_data * weights['node_0_0']).sum()\n",
    "    node_0_0_output = relu(node_0_0_input)\n",
    "\n",
    "    # Calculate node 1 in the first hidden layer\n",
    "    node_0_1_input = (input_data * weights['node_0_1']).sum()\n",
    "    node_0_1_output = relu(node_0_1_input)\n",
    "\n",
    "    # Put node values into array: hidden_0_outputs\n",
    "    hidden_0_outputs = np.array([node_0_0_output, node_0_1_output])\n",
    "\n",
    "    # Calculate node 0 in the second hidden layer\n",
    "    node_1_0_input = (hidden_0_outputs * weights['node_1_0']).sum()\n",
    "    node_1_0_output = relu(node_1_0_input)\n",
    "\n",
    "    # Calculate node 1 in the second hidden layer\n",
    "    node_1_1_input = (hidden_0_outputs * weights['node_1_1']).sum()\n",
    "    node_1_1_output = relu(node_1_1_input)\n",
    "\n",
    "    # Put node values into array: hidden_1_outputs\n",
    "    hidden_1_outputs = np.array([node_1_0_output, node_1_1_output])\n",
    "\n",
    "    # Calculate model output: model_output\n",
    "    model_output = (hidden_1_outputs * weights['output']).sum()\n",
    "\n",
    "    # Return model_output\n",
    "    return (model_output)\n",
    "\n",
    "\n",
    "output = predict_with_network(input_data)\n",
    "print(output)"
   ]
  },
  {
   "cell_type": "markdown",
   "metadata": {
    "ExecuteTime": {
     "end_time": "2020-10-20T02:49:13.349429Z",
     "start_time": "2020-10-20T02:49:13.338788Z"
    }
   },
   "source": [
    "## `[quiz-2]` Representations are learned\n",
    "\n",
    "* How are the weights that determine the features/interactions in Neural Networks created?\n",
    "\n",
    "    $\\Box$ A user chooses them when creating the model.\n",
    "    \n",
    "    $\\boxtimes$ The model training process sets them to optimize predictive accuracy.\n",
    "    \n",
    "    $\\Box$ The weights are random numbers."
   ]
  },
  {
   "cell_type": "markdown",
   "metadata": {
    "ExecuteTime": {
     "end_time": "2020-10-20T21:17:52.898595Z",
     "start_time": "2020-10-20T21:17:52.889031Z"
    }
   },
   "source": [
    "## `[quiz-3]` Levels of representation\n",
    "\n",
    "* Which layers of a model capture more complex or \"higher level\" interactions?\n",
    "\n",
    "    $\\Box$ The first layers capture the most complex interactions.\n",
    "    \n",
    "    $\\boxtimes$ The last layers capture the most complex interactions.\n",
    "    \n",
    "    $\\Box$ All layers capture interactions of similar complexity."
   ]
  },
  {
   "cell_type": "markdown",
   "metadata": {
    "ExecuteTime": {
     "end_time": "2021-04-20T00:05:52.951098Z",
     "start_time": "2021-04-20T00:05:52.932543Z"
    }
   },
   "source": [
    "# Requirements"
   ]
  },
  {
   "cell_type": "code",
   "execution_count": 19,
   "metadata": {
    "ExecuteTime": {
     "end_time": "2021-04-20T01:44:17.699831Z",
     "start_time": "2021-04-20T01:44:17.670604Z"
    }
   },
   "outputs": [
    {
     "name": "stdout",
     "output_type": "stream",
     "text": [
      "#####################\n",
      "##                 ##\n",
      "##  python==3.7.9  ##\n",
      "##  numpy==1.19.5  ##\n",
      "##                 ##\n",
      "#####################\n"
     ]
    }
   ],
   "source": [
    "from platform import python_version\n",
    "\n",
    "python_version = ('python=={}'.format(python_version()))\n",
    "numpy_version = ('numpy=={}'.format(np.__version__))\n",
    "\n",
    "requirements = []\n",
    "with open('../5. Requirements.txt', 'r') as file:\n",
    "    for line in file:\n",
    "        requirements.append(line.strip('\\n'))\n",
    "\n",
    "packages = [numpy_version]\n",
    "\n",
    "with open('../5. Requirements.txt', 'a') as file:\n",
    "    for package in packages:\n",
    "        max_characters = max(len(python_version), len(package))\n",
    "        if package not in requirements:\n",
    "            file.write(package + '\\n')\n",
    "\n",
    "print('#' * (max_characters + 8))\n",
    "print('#' * 2 + ' ' * (max_characters + 4) + '#' * 2)\n",
    "print('#' * 2 + ' ' * 2 + python_version + ' ' * 2 + '#' * 2)\n",
    "print('#' * 2 + ' ' * 2 + numpy_version + ' ' * 2 + '#' * 2)\n",
    "print('#' * 2 + ' ' * (max_characters + 4) + '#' * 2)\n",
    "print('#' * (max_characters + 8))"
   ]
  }
 ],
 "metadata": {
  "kernelspec": {
   "display_name": "Python 3",
   "language": "python",
   "name": "python3"
  },
  "language_info": {
   "codemirror_mode": {
    "name": "ipython",
    "version": 3
   },
   "file_extension": ".py",
   "mimetype": "text/x-python",
   "name": "python",
   "nbconvert_exporter": "python",
   "pygments_lexer": "ipython3",
   "version": "3.7.9"
  },
  "latex_envs": {
   "LaTeX_envs_menu_present": true,
   "autoclose": true,
   "autocomplete": true,
   "bibliofile": "biblio.bib",
   "cite_by": "apalike",
   "current_citInitial": 1,
   "eqLabelWithNumbers": true,
   "eqNumInitial": 1,
   "hotkeys": {
    "equation": "Ctrl-E",
    "itemize": "Ctrl-I"
   },
   "labels_anchors": false,
   "latex_user_defs": false,
   "report_style_numbering": true,
   "user_envs_cfg": true
  },
  "nbTranslate": {
   "displayLangs": [
    "*"
   ],
   "hotkey": "alt-t",
   "langInMainMenu": true,
   "sourceLang": "en",
   "targetLang": "fr",
   "useGoogleTranslate": true
  },
  "toc": {
   "base_numbering": 1,
   "nav_menu": {},
   "number_sections": true,
   "sideBar": true,
   "skip_h1_title": false,
   "title_cell": "Table of Contents",
   "title_sidebar": "Contents",
   "toc_cell": true,
   "toc_position": {
    "height": "calc(100% - 180px)",
    "left": "10px",
    "top": "150px",
    "width": "313.507px"
   },
   "toc_section_display": true,
   "toc_window_display": true
  },
  "varInspector": {
   "cols": {
    "lenName": 16,
    "lenType": 16,
    "lenVar": 40
   },
   "kernels_config": {
    "python": {
     "delete_cmd_postfix": "",
     "delete_cmd_prefix": "del ",
     "library": "var_list.py",
     "varRefreshCmd": "print(var_dic_list())"
    },
    "r": {
     "delete_cmd_postfix": ") ",
     "delete_cmd_prefix": "rm(",
     "library": "var_list.r",
     "varRefreshCmd": "cat(var_dic_list()) "
    }
   },
   "position": {
    "height": "168.212px",
    "left": "1250.23px",
    "right": "20px",
    "top": "120px",
    "width": "329.774px"
   },
   "types_to_exclude": [
    "module",
    "function",
    "builtin_function_or_method",
    "instance",
    "_Feature"
   ],
   "window_display": true
  }
 },
 "nbformat": 4,
 "nbformat_minor": 4
}
