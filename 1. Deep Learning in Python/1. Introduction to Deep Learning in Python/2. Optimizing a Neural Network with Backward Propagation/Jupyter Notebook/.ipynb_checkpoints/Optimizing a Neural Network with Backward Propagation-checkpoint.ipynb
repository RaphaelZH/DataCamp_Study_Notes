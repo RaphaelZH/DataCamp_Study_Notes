{
 "cells": [
  {
   "cell_type": "markdown",
   "metadata": {
    "toc": true
   },
   "source": [
    "<h1>Table of Contents<span class=\"tocSkip\"></span></h1>\n",
    "<div class=\"toc\"><ul class=\"toc-item\"><li><span><a href=\"#The-need-for-optimization\" data-toc-modified-id=\"The-need-for-optimization-1\"><span class=\"toc-item-num\">1&nbsp;&nbsp;</span>The need for optimization</a></span><ul class=\"toc-item\"><li><span><a href=\"#[note-1]-A-baseline-neural-network\" data-toc-modified-id=\"[note-1]-A-baseline-neural-network-1.1\"><span class=\"toc-item-num\">1.1&nbsp;&nbsp;</span><code>[note-1]</code> A baseline neural network</a></span></li><li><span><a href=\"#[note-2]-Predictions-with-multiple-points\" data-toc-modified-id=\"[note-2]-Predictions-with-multiple-points-1.2\"><span class=\"toc-item-num\">1.2&nbsp;&nbsp;</span><code>[note-2]</code> Predictions with multiple points</a></span></li><li><span><a href=\"#[note-3]-Loss-function\" data-toc-modified-id=\"[note-3]-Loss-function-1.3\"><span class=\"toc-item-num\">1.3&nbsp;&nbsp;</span><code>[note-3]</code> Loss function</a></span></li><li><span><a href=\"#[note-4]-Gradient-descent\" data-toc-modified-id=\"[note-4]-Gradient-descent-1.4\"><span class=\"toc-item-num\">1.4&nbsp;&nbsp;</span><code>[note-4]</code> Gradient descent</a></span></li><li><span><a href=\"#[note-5]-Gradient-descent-steps\" data-toc-modified-id=\"[note-5]-Gradient-descent-steps-1.5\"><span class=\"toc-item-num\">1.5&nbsp;&nbsp;</span><code>[note-5]</code> Gradient descent steps</a></span></li><li><span><a href=\"#[note-6]-Optimizing-a-model-with-a-single-weight\" data-toc-modified-id=\"[note-6]-Optimizing-a-model-with-a-single-weight-1.6\"><span class=\"toc-item-num\">1.6&nbsp;&nbsp;</span><code>[note-6]</code> Optimizing a model with a single weight</a></span></li><li><span><a href=\"#[quiz-1]-Calculating-model-errors\" data-toc-modified-id=\"[quiz-1]-Calculating-model-errors-1.7\"><span class=\"toc-item-num\">1.7&nbsp;&nbsp;</span><code>[quiz-1]</code> Calculating model errors</a></span></li><li><span><a href=\"#[quiz-2]-Understanding-how-weights-change-model-accuracy\" data-toc-modified-id=\"[quiz-2]-Understanding-how-weights-change-model-accuracy-1.8\"><span class=\"toc-item-num\">1.8&nbsp;&nbsp;</span><code>[quiz-2]</code> Understanding how weights change model accuracy</a></span></li><li><span><a href=\"#[task-1]-Coding-how-weight-changes-affect-the-accuracy\" data-toc-modified-id=\"[task-1]-Coding-how-weight-changes-affect-the-accuracy-1.9\"><span class=\"toc-item-num\">1.9&nbsp;&nbsp;</span><code>[task-1]</code> Coding how weight changes affect the accuracy</a></span></li><li><span><a href=\"#[task-2]-Scaling-up-to-multiple-data-points\" data-toc-modified-id=\"[task-2]-Scaling-up-to-multiple-data-points-1.10\"><span class=\"toc-item-num\">1.10&nbsp;&nbsp;</span><code>[task-2]</code> Scaling up to multiple data points</a></span></li></ul></li><li><span><a href=\"#Gradient-descent\" data-toc-modified-id=\"Gradient-descent-2\"><span class=\"toc-item-num\">2&nbsp;&nbsp;</span>Gradient descent</a></span><ul class=\"toc-item\"><li><span><a href=\"#[note-1]-Gradient-descent\" data-toc-modified-id=\"[note-1]-Gradient-descent-2.1\"><span class=\"toc-item-num\">2.1&nbsp;&nbsp;</span><code>[note-1]</code> Gradient descent</a></span></li><li><span><a href=\"#[note-2]-Slope-calculation-example\" data-toc-modified-id=\"[note-2]-Slope-calculation-example-2.2\"><span class=\"toc-item-num\">2.2&nbsp;&nbsp;</span><code>[note-2]</code> Slope calculation example</a></span></li><li><span><a href=\"#[note-3]-Network-with-two-inputs-affecting-prediction\" data-toc-modified-id=\"[note-3]-Network-with-two-inputs-affecting-prediction-2.3\"><span class=\"toc-item-num\">2.3&nbsp;&nbsp;</span><code>[note-3]</code> Network with two inputs affecting prediction</a></span></li><li><span><a href=\"#[code-1]-Calculate-slopes-and-update-weights\" data-toc-modified-id=\"[code-1]-Calculate-slopes-and-update-weights-2.4\"><span class=\"toc-item-num\">2.4&nbsp;&nbsp;</span><code>[code-1]</code> Calculate slopes and update weights</a></span></li><li><span><a href=\"#[task-1]-Calculating-slopes\" data-toc-modified-id=\"[task-1]-Calculating-slopes-2.5\"><span class=\"toc-item-num\">2.5&nbsp;&nbsp;</span><code>[task-1]</code> Calculating slopes</a></span></li><li><span><a href=\"#[task-2]-Improving-model-weights\" data-toc-modified-id=\"[task-2]-Improving-model-weights-2.6\"><span class=\"toc-item-num\">2.6&nbsp;&nbsp;</span><code>[task-2]</code> Improving model weights</a></span></li><li><span><a href=\"#[task-3]-Making-multiple-updates-to-weights\" data-toc-modified-id=\"[task-3]-Making-multiple-updates-to-weights-2.7\"><span class=\"toc-item-num\">2.7&nbsp;&nbsp;</span><code>[task-3]</code> Making multiple updates to weights</a></span></li></ul></li><li><span><a href=\"#Backpropagation\" data-toc-modified-id=\"Backpropagation-3\"><span class=\"toc-item-num\">3&nbsp;&nbsp;</span>Backpropagation</a></span><ul class=\"toc-item\"><li><span><a href=\"#[note-1]-Backpropagation\" data-toc-modified-id=\"[note-1]-Backpropagation-3.1\"><span class=\"toc-item-num\">3.1&nbsp;&nbsp;</span><code>[note-1]</code> Backpropagation</a></span></li><li><span><a href=\"#[note-2]-Backpropagation-process\" data-toc-modified-id=\"[note-2]-Backpropagation-process-3.2\"><span class=\"toc-item-num\">3.2&nbsp;&nbsp;</span><code>[note-2]</code> Backpropagation process</a></span></li><li><span><a href=\"#[quiz-1]-The-relationship-between-the-forward-and-the-backward-propagation\" data-toc-modified-id=\"[quiz-1]-The-relationship-between-the-forward-and-the-backward-propagation-3.3\"><span class=\"toc-item-num\">3.3&nbsp;&nbsp;</span><code>[quiz-1]</code> The relationship between the forward and the backward propagation</a></span></li><li><span><a href=\"#[quiz-2]-Thinking-about-backward-propagation\" data-toc-modified-id=\"[quiz-2]-Thinking-about-backward-propagation-3.4\"><span class=\"toc-item-num\">3.4&nbsp;&nbsp;</span><code>[quiz-2]</code> Thinking about backward propagation</a></span></li></ul></li><li><span><a href=\"#Backpropagation-in-practice\" data-toc-modified-id=\"Backpropagation-in-practice-4\"><span class=\"toc-item-num\">4&nbsp;&nbsp;</span>Backpropagation in practice</a></span><ul class=\"toc-item\"><li><span><a href=\"#[note-1]-Calculating-slopes-associated-with-any-weight\" data-toc-modified-id=\"[note-1]-Calculating-slopes-associated-with-any-weight-4.1\"><span class=\"toc-item-num\">4.1&nbsp;&nbsp;</span><code>[note-1]</code> Calculating slopes associated with any weight</a></span></li><li><span><a href=\"#[note-2]-Recapitulation-of-backpropagation\" data-toc-modified-id=\"[note-2]-Recapitulation-of-backpropagation-4.2\"><span class=\"toc-item-num\">4.2&nbsp;&nbsp;</span><code>[note-2]</code> Recapitulation of backpropagation</a></span></li><li><span><a href=\"#[note-3]-Stochastic-gradient-descent\" data-toc-modified-id=\"[note-3]-Stochastic-gradient-descent-4.3\"><span class=\"toc-item-num\">4.3&nbsp;&nbsp;</span><code>[note-3]</code> Stochastic gradient descent</a></span></li><li><span><a href=\"#[quiz-1]-A-round-of-backpropagation\" data-toc-modified-id=\"[quiz-1]-A-round-of-backpropagation-4.4\"><span class=\"toc-item-num\">4.4&nbsp;&nbsp;</span><code>[quiz-1]</code> A round of backpropagation</a></span></li></ul></li><li><span><a href=\"#Requirements\" data-toc-modified-id=\"Requirements-5\"><span class=\"toc-item-num\">5&nbsp;&nbsp;</span>Requirements</a></span></li></ul></div>"
   ]
  },
  {
   "cell_type": "markdown",
   "metadata": {},
   "source": [
    "# The need for optimization"
   ]
  },
  {
   "cell_type": "markdown",
   "metadata": {
    "ExecuteTime": {
     "end_time": "2020-07-24T11:20:21.989524Z",
     "start_time": "2020-07-24T11:20:12.960881Z"
    }
   },
   "source": [
    "## `[note-1]` A baseline neural network\n",
    "\n",
    "![A baseline neural network](../Figures/1.%20A%20baseline%20neural%20network.jpg)"
   ]
  },
  {
   "cell_type": "markdown",
   "metadata": {},
   "source": [
    "## `[note-2]` Predictions with multiple points\n",
    "\n",
    "* Making accurate predictions gets harder with more points.\n",
    "\n",
    "* At any set of weights, there are many values of the error corresponding to the many points that make predictions for."
   ]
  },
  {
   "cell_type": "markdown",
   "metadata": {
    "ExecuteTime": {
     "end_time": "2020-07-24T11:20:21.989524Z",
     "start_time": "2020-07-24T11:20:12.960881Z"
    }
   },
   "source": [
    "## `[note-3]` Loss function\n",
    "\n",
    "* Aggregates errors in predictions from many data points into a single number.\n",
    "\n",
    "* The loss function is a measure of the model's predictive performance.\n",
    "\n",
    "* A lower loss function value means a better model.\n",
    "\n",
    "* Goal: find the weights that give the lowest value for the loss function.\n",
    "\n",
    "* Gradient descent.\n",
    "\n",
    "![Loss function](../Figures/2.%20Loss%20function.jpg)"
   ]
  },
  {
   "cell_type": "markdown",
   "metadata": {
    "ExecuteTime": {
     "end_time": "2020-07-24T11:20:21.989524Z",
     "start_time": "2020-07-24T11:20:12.960881Z"
    }
   },
   "source": [
    "## `[note-4]` Gradient descent\n",
    "\n",
    "* Imagine starting in a pitch dark field.\n",
    "\n",
    "* Want to find the lowest point.\n",
    "\n",
    "* Feel the ground to see how it slopes.\n",
    "\n",
    "* Take a small step downhill.\n",
    "\n",
    "* Repeat until it is uphill in every direction."
   ]
  },
  {
   "cell_type": "markdown",
   "metadata": {},
   "source": [
    "## `[note-5]` Gradient descent steps\n",
    "\n",
    "* Start at a random point.\n",
    "\n",
    "* Until arrived at somewhere flat:\n",
    "\n",
    "    * find the slope\n",
    "    \n",
    "    * take a step downhill"
   ]
  },
  {
   "cell_type": "markdown",
   "metadata": {},
   "source": [
    "## `[note-6]` Optimizing a model with a single weight\n",
    "\n",
    "![Optimizing a model with a single weight](../Figures/3.%20Optimizing%20a%20model%20with%20a%20single%20weight.jpg)"
   ]
  },
  {
   "cell_type": "markdown",
   "metadata": {},
   "source": [
    "## `[quiz-1]` Calculating model errors\n",
    "\n",
    "* Continue working with the network to predict transactions for a bank.\n",
    "\n",
    "* What is the error ($error = predicted - actual$) for the following network using the ReLU activation function when the input data is $[3, 2]$, and the actual value of the target, which tries to predict, is $5$? It may be helpful to get out a pen and piece of paper to calculate these values.\n",
    "\n",
    "    ![Calculating model errors](../Figures/4.%20Calculating%20model%20errors.png)\n",
    "    \n",
    "    $\\Box$ $5$.\n",
    "    \n",
    "    $\\Box$ $6$.\n",
    "    \n",
    "    $\\boxtimes$ $11$.\n",
    "    \n",
    "    $\\Box$ $16$."
   ]
  },
  {
   "cell_type": "markdown",
   "metadata": {},
   "source": [
    "## `[quiz-2]` Understanding how weights change model accuracy\n",
    "\n",
    "* Imagine making a prediction for a single data point. The actual value of the target is $7$. The weight going from `node_0` to the output is $2$, as shown below. If it is increased slightly, changing it to $2.01$, would the predictions become more accurate, less accurate, or stay the same?\n",
    "\n",
    "    ![Understanding how weights change model accuracy](../Figures/5.%20Understanding%20how%20weights%20change%20model%20accuracy.png)\n",
    "    \n",
    "    $\\Box$ More accurate.\n",
    "    \n",
    "    $\\boxtimes$ Less accurate.\n",
    "    \n",
    "    $\\Box$ Stay the same."
   ]
  },
  {
   "cell_type": "markdown",
   "metadata": {
    "ExecuteTime": {
     "end_time": "2020-07-24T11:20:21.989524Z",
     "start_time": "2020-07-24T11:20:12.960881Z"
    }
   },
   "source": [
    "## `[task-1]` Coding how weight changes affect the accuracy\n",
    "\n",
    "$\\blacktriangleright$ **Task diagram**\n",
    "\n",
    "![Coding how weight changes affect the accuracy](../Figures/6.%20Coding%20how%20weight%20changes%20affect%20the%20accuracy.png)"
   ]
  },
  {
   "cell_type": "markdown",
   "metadata": {},
   "source": [
    "$\\blacktriangleright$ **Package pre-loading**"
   ]
  },
  {
   "cell_type": "code",
   "execution_count": 1,
   "metadata": {
    "ExecuteTime": {
     "end_time": "2021-04-23T21:29:19.811227Z",
     "start_time": "2021-04-23T21:29:19.591254Z"
    }
   },
   "outputs": [],
   "source": [
    "import numpy as np"
   ]
  },
  {
   "cell_type": "markdown",
   "metadata": {},
   "source": [
    "$\\blacktriangleright$ **Code pre-loading**"
   ]
  },
  {
   "cell_type": "code",
   "execution_count": 2,
   "metadata": {
    "ExecuteTime": {
     "end_time": "2021-04-23T21:29:20.107769Z",
     "start_time": "2021-04-23T21:29:20.103533Z"
    }
   },
   "outputs": [],
   "source": [
    "def predict_with_network(input_data_point, weights):\n",
    "    node_0_input = (input_data_point * weights['node_0']).sum()\n",
    "    node_0_output = relu(node_0_input)\n",
    "\n",
    "    node_1_input = (input_data_point * weights['node_1']).sum()\n",
    "    node_1_output = relu(node_1_input)\n",
    "\n",
    "    hidden_layer_values = np.array([node_0_output, node_1_output])\n",
    "    input_to_final_layer = (hidden_layer_values * weights['output']).sum()\n",
    "    model_output = relu(input_to_final_layer)\n",
    "\n",
    "    return (model_output)\n",
    "\n",
    "\n",
    "def relu(my_input):\n",
    "    return (max(0, my_input))"
   ]
  },
  {
   "cell_type": "markdown",
   "metadata": {},
   "source": [
    "$\\blacktriangleright$ **Task practice**"
   ]
  },
  {
   "cell_type": "code",
   "execution_count": 3,
   "metadata": {
    "ExecuteTime": {
     "end_time": "2021-04-23T21:29:20.609554Z",
     "start_time": "2021-04-23T21:29:20.602654Z"
    }
   },
   "outputs": [
    {
     "name": "stdout",
     "output_type": "stream",
     "text": [
      "6\n",
      "0\n"
     ]
    }
   ],
   "source": [
    "# The data point you will make a prediction for\n",
    "input_data = np.array([0, 3])\n",
    "\n",
    "# Sample weights\n",
    "weights_0 = {'node_0': [2, 1], 'node_1': [1, 2], 'output': [1, 1]}\n",
    "\n",
    "# The actual target value, used to calculate the error\n",
    "target_actual = 3\n",
    "\n",
    "# Make prediction using original weights\n",
    "model_output_0 = predict_with_network(input_data, weights_0)\n",
    "\n",
    "# Calculate error: error_0\n",
    "error_0 = model_output_0 - target_actual\n",
    "\n",
    "# Create weights that cause the network to make perfect prediction (3): weights_1\n",
    "weights_1 = {'node_0': [2, 1], 'node_1': [1, 0], 'output': [1, 1]}\n",
    "\n",
    "# Make prediction using new weights: model_output_1\n",
    "model_output_1 = predict_with_network(input_data, weights_1)\n",
    "\n",
    "# Calculate error: error_1\n",
    "error_1 = model_output_1 - target_actual\n",
    "\n",
    "# Print error_0 and error_1\n",
    "print(error_0)\n",
    "print(error_1)"
   ]
  },
  {
   "cell_type": "markdown",
   "metadata": {},
   "source": [
    "## `[task-2]` Scaling up to multiple data points\n",
    "\n",
    "$\\blacktriangleright$ **Data pre-loading**"
   ]
  },
  {
   "cell_type": "code",
   "execution_count": 4,
   "metadata": {
    "ExecuteTime": {
     "end_time": "2021-04-23T21:29:21.141964Z",
     "start_time": "2021-04-23T21:29:21.136881Z"
    }
   },
   "outputs": [],
   "source": [
    "input_data = [\n",
    "    np.array([0, 3]),\n",
    "    np.array([1, 2]),\n",
    "    np.array([-1, -2]),\n",
    "    np.array([4, 0])\n",
    "]\n",
    "\n",
    "weights_0 = {\n",
    "    'node_0': np.array([2, 1]),\n",
    "    'node_1': np.array([1, 2]),\n",
    "    'output': np.array([1, 1])\n",
    "}\n",
    "\n",
    "weights_1 = {\n",
    "    'node_0': np.array([2, 1]),\n",
    "    'node_1': np.array([1., 1.5]),\n",
    "    'output': np.array([1., 1.5])\n",
    "}\n",
    "\n",
    "target_actuals = [1, 3, 5, 7]"
   ]
  },
  {
   "cell_type": "markdown",
   "metadata": {},
   "source": [
    "$\\blacktriangleright$ **Task practice**"
   ]
  },
  {
   "cell_type": "code",
   "execution_count": 5,
   "metadata": {
    "ExecuteTime": {
     "end_time": "2021-04-23T21:29:24.937364Z",
     "start_time": "2021-04-23T21:29:21.792340Z"
    }
   },
   "outputs": [
    {
     "name": "stdout",
     "output_type": "stream",
     "text": [
      "Mean squared error with weights_0: 37.500000\n",
      "Mean squared error with weights_1: 49.890625\n"
     ]
    }
   ],
   "source": [
    "from sklearn.metrics import mean_squared_error\n",
    "\n",
    "# Create model_output_0\n",
    "model_output_0 = []\n",
    "# Create model_output_1\n",
    "model_output_1 = []\n",
    "\n",
    "# Loop over input_data\n",
    "for row in input_data:\n",
    "    # Append prediction to model_output_0\n",
    "    model_output_0.append(predict_with_network(row, weights_0))\n",
    "\n",
    "    # Append prediction to model_output_1\n",
    "    model_output_1.append(predict_with_network(row, weights_1))\n",
    "\n",
    "# Calculate the mean squared error for model_output_0: mse_0\n",
    "mse_0 = mean_squared_error(target_actuals, model_output_0)\n",
    "\n",
    "# Calculate the mean squared error for model_output_1: mse_1\n",
    "mse_1 = mean_squared_error(target_actuals, model_output_1)\n",
    "\n",
    "# Print mse_0 and mse_1\n",
    "print(\"Mean squared error with weights_0: %f\" % mse_0)\n",
    "print(\"Mean squared error with weights_1: %f\" % mse_1)"
   ]
  },
  {
   "cell_type": "markdown",
   "metadata": {},
   "source": [
    "# Gradient descent"
   ]
  },
  {
   "cell_type": "markdown",
   "metadata": {
    "ExecuteTime": {
     "end_time": "2020-07-24T11:20:21.989524Z",
     "start_time": "2020-07-24T11:20:12.960881Z"
    }
   },
   "source": [
    "## `[note-1]` Gradient descent\n",
    "\n",
    "* If the slope is positive:\n",
    "\n",
    "    * going opposite the slope means moving to lower numbers\n",
    "    \n",
    "    * subtract the slope from the current value\n",
    "    \n",
    "    * too big a step might lead astray\n",
    "\n",
    "* Solution: *learning rate*\n",
    "\n",
    "    * update each weight by subtracting $learning\\ rate \\times slope$\n",
    "\n",
    "![Gradient descent](../Figures/7.%20Gradient%20descent.jpg)"
   ]
  },
  {
   "cell_type": "markdown",
   "metadata": {},
   "source": [
    "## `[note-2]` Slope calculation example\n",
    "\n",
    "* To calculate the slope for a weight, need to multiply:\n",
    "\n",
    "    * the slope of the loss function with respect to value at the node which has been feed into\n",
    "    \n",
    "    * the value of the node that feeds into the weight\n",
    "    \n",
    "    * the slope of the activation function with respect to the value which has been feed into\n",
    "\n",
    "* In this example, the slope of the mean-squared loss function with respect to prediction will be considered:    \n",
    "\n",
    "\\begin{equation*}\n",
    "    \\begin{aligned}\n",
    "        {MSE}^{\\prime}\\ &=\\ \\left({\\left(Predicted\\ Value\\ -\\ Actual\\ Value\\right)}^{2}\\right)^{\\prime}\\\\\n",
    "        &=\\ 2\\ \\cdot\\ \\left(Predicted\\ Value\\ -\\ Actual\\ Value\\right)\\\\\n",
    "        &=\\ 2\\ \\cdot\\ Error\n",
    "    \\end{aligned}\n",
    "\\end{equation*}\n",
    "\n",
    "* In this example, the slope of the mean-squared loss function will be $2 \\cdot (6 - 10) = 2 \\cdot (-4)$, the value of the node that feeds into the weight is $3$, and no activation function needs to be considered. So the final multiplied slope for the weight will be $2 \\cdot (-4) \\cdot 3 = -24$.\n",
    "\n",
    "* In this example, if the learning rate is $0.01$, the new weight would be $2 - 0.01 \\cdot (-24) = 2.24$.\n",
    "\n",
    "![Slope calculation example](../Figures/8.%20Slope%20calculation%20example.jpg)"
   ]
  },
  {
   "cell_type": "markdown",
   "metadata": {
    "ExecuteTime": {
     "end_time": "2020-07-24T11:20:21.989524Z",
     "start_time": "2020-07-24T11:20:12.960881Z"
    }
   },
   "source": [
    "## `[note-3]` Network with two inputs affecting prediction\n",
    "\n",
    "![Network with two inputs affecting prediction](../Figures/9.%20Network%20with%20two%20inputs%20affecting%20prediction.jpg)"
   ]
  },
  {
   "cell_type": "markdown",
   "metadata": {},
   "source": [
    "## `[code-1]` Calculate slopes and update weights"
   ]
  },
  {
   "cell_type": "code",
   "execution_count": 6,
   "metadata": {
    "ExecuteTime": {
     "end_time": "2021-04-23T21:29:25.451526Z",
     "start_time": "2021-04-23T21:29:25.443953Z"
    }
   },
   "outputs": [
    {
     "name": "stdout",
     "output_type": "stream",
     "text": [
      "5\n"
     ]
    }
   ],
   "source": [
    "import numpy as np\n",
    "\n",
    "weights = np.array([1, 2])\n",
    "input_data = np.array([3, 4])\n",
    "target = 6\n",
    "learning_rate = 0.01\n",
    "\n",
    "preds = (weights * input_data).sum()\n",
    "error = preds - target\n",
    "print(error)"
   ]
  },
  {
   "cell_type": "code",
   "execution_count": 7,
   "metadata": {
    "ExecuteTime": {
     "end_time": "2021-04-23T21:29:25.576770Z",
     "start_time": "2021-04-23T21:29:25.525028Z"
    }
   },
   "outputs": [
    {
     "data": {
      "text/plain": [
       "array([30, 40])"
      ]
     },
     "execution_count": 7,
     "metadata": {},
     "output_type": "execute_result"
    }
   ],
   "source": [
    "gradient = 2 * input_data * error\n",
    "gradient"
   ]
  },
  {
   "cell_type": "code",
   "execution_count": 8,
   "metadata": {
    "ExecuteTime": {
     "end_time": "2021-04-23T21:29:25.609112Z",
     "start_time": "2021-04-23T21:29:25.602563Z"
    }
   },
   "outputs": [
    {
     "name": "stdout",
     "output_type": "stream",
     "text": [
      "2.5\n"
     ]
    }
   ],
   "source": [
    "weights_updated = weights - learning_rate * gradient\n",
    "\n",
    "preds_updated = (weights_updated * input_data).sum()\n",
    "error_updated = preds_updated - target\n",
    "print(error_updated)"
   ]
  },
  {
   "cell_type": "markdown",
   "metadata": {
    "ExecuteTime": {
     "end_time": "2020-07-24T11:20:21.989524Z",
     "start_time": "2020-07-24T11:20:12.960881Z"
    }
   },
   "source": [
    "## `[task-1]` Calculating slopes\n",
    "\n",
    "$\\blacktriangleright$ **Package pre-loading**"
   ]
  },
  {
   "cell_type": "code",
   "execution_count": 9,
   "metadata": {
    "ExecuteTime": {
     "end_time": "2021-04-23T21:29:26.111052Z",
     "start_time": "2021-04-23T21:29:26.107913Z"
    }
   },
   "outputs": [],
   "source": [
    "import numpy as np"
   ]
  },
  {
   "cell_type": "markdown",
   "metadata": {},
   "source": [
    "$\\blacktriangleright$ **Data pre-loading**"
   ]
  },
  {
   "cell_type": "code",
   "execution_count": 10,
   "metadata": {
    "ExecuteTime": {
     "end_time": "2021-04-23T21:29:26.675754Z",
     "start_time": "2021-04-23T21:29:26.672448Z"
    }
   },
   "outputs": [],
   "source": [
    "input_data = np.array([1, 2, 3])\n",
    "\n",
    "weights = np.array([0, 2, 1])\n",
    "\n",
    "target = 0"
   ]
  },
  {
   "cell_type": "markdown",
   "metadata": {},
   "source": [
    "$\\blacktriangleright$ **Task practice**"
   ]
  },
  {
   "cell_type": "code",
   "execution_count": 11,
   "metadata": {
    "ExecuteTime": {
     "end_time": "2021-04-23T21:29:27.258084Z",
     "start_time": "2021-04-23T21:29:27.243473Z"
    }
   },
   "outputs": [
    {
     "name": "stdout",
     "output_type": "stream",
     "text": [
      "[14 28 42]\n"
     ]
    }
   ],
   "source": [
    "# Calculate the predictions: preds\n",
    "preds = (weights * input_data).sum()\n",
    "\n",
    "# Calculate the error: error\n",
    "error = preds - target\n",
    "\n",
    "# Calculate the slope: slope\n",
    "slope = 2 * error * input_data\n",
    "\n",
    "# Print the slope\n",
    "print(slope)"
   ]
  },
  {
   "cell_type": "markdown",
   "metadata": {},
   "source": [
    "## `[task-2]` Improving model weights\n",
    "\n",
    "$\\blacktriangleright$ **Task practice**"
   ]
  },
  {
   "cell_type": "code",
   "execution_count": 12,
   "metadata": {
    "ExecuteTime": {
     "end_time": "2021-04-23T21:29:27.789189Z",
     "start_time": "2021-04-23T21:29:27.785135Z"
    }
   },
   "outputs": [
    {
     "name": "stdout",
     "output_type": "stream",
     "text": [
      "7\n",
      "5.04\n"
     ]
    }
   ],
   "source": [
    "# Set the learning rate: learning_rate\n",
    "learning_rate = 0.01\n",
    "\n",
    "# Calculate the predictions: preds\n",
    "preds = (weights * input_data).sum()\n",
    "\n",
    "# Calculate the error: error\n",
    "error = preds - target\n",
    "\n",
    "# Calculate the slope: slope\n",
    "slope = 2 * input_data * error\n",
    "\n",
    "# Update the weights: weights_updated\n",
    "weights_updated = weights - learning_rate * slope\n",
    "\n",
    "# Get updated predictions: preds_updated\n",
    "preds_updated = (weights_updated * input_data).sum()\n",
    "\n",
    "# Calculate updated error: error_updated\n",
    "error_updated = preds_updated - target\n",
    "\n",
    "# Print the original error\n",
    "print(error)\n",
    "\n",
    "# Print the updated error\n",
    "print(error_updated)"
   ]
  },
  {
   "cell_type": "markdown",
   "metadata": {},
   "source": [
    "## `[task-3]` Making multiple updates to weights\n",
    "\n",
    "$\\blacktriangleright$ **Package pre-loading**"
   ]
  },
  {
   "cell_type": "code",
   "execution_count": 13,
   "metadata": {
    "ExecuteTime": {
     "end_time": "2021-04-23T21:29:28.859256Z",
     "start_time": "2021-04-23T21:29:28.385393Z"
    }
   },
   "outputs": [],
   "source": [
    "import matplotlib.pyplot as plt"
   ]
  },
  {
   "cell_type": "markdown",
   "metadata": {},
   "source": [
    "$\\blacktriangleright$ **Code pre-loading**"
   ]
  },
  {
   "cell_type": "code",
   "execution_count": 14,
   "metadata": {
    "ExecuteTime": {
     "end_time": "2021-04-23T21:29:28.995420Z",
     "start_time": "2021-04-23T21:29:28.983431Z"
    }
   },
   "outputs": [],
   "source": [
    "def get_error(input_data, target, weights):\n",
    "    preds = (weights * input_data).sum()\n",
    "    error = preds - target\n",
    "    return (error)\n",
    "\n",
    "\n",
    "def get_slope(input_data, target, weights):\n",
    "    error = get_error(input_data, target, weights)\n",
    "    slope = 2 * input_data * error\n",
    "    return (slope)\n",
    "\n",
    "\n",
    "def get_mse(input_data, target, weights):\n",
    "    errors = get_error(input_data, target, weights)\n",
    "    mse = np.mean(errors**2)\n",
    "    return (mse)"
   ]
  },
  {
   "cell_type": "markdown",
   "metadata": {
    "ExecuteTime": {
     "end_time": "2020-11-01T03:47:06.967951Z",
     "start_time": "2020-11-01T03:47:06.815327Z"
    }
   },
   "source": [
    "$\\blacktriangleright$ **Task practice**"
   ]
  },
  {
   "cell_type": "code",
   "execution_count": 15,
   "metadata": {
    "ExecuteTime": {
     "end_time": "2021-04-23T21:29:29.714577Z",
     "start_time": "2021-04-23T21:29:29.476845Z"
    }
   },
   "outputs": [
    {
     "data": {
      "image/png": "[encoded data removed]",
      "text/plain": [
       "<Figure size 432x288 with 1 Axes>"
      ]
     },
     "metadata": {
      "needs_background": "light"
     },
     "output_type": "display_data"
    }
   ],
   "source": [
    "n_updates = 20\n",
    "mse_hist = []\n",
    "\n",
    "# Iterate over the number of updates\n",
    "for i in range(n_updates):\n",
    "    # Calculate the slope: slope\n",
    "    slope = get_slope(input_data, target, weights)\n",
    "\n",
    "    # Update the weights: weights\n",
    "    weights = weights - 0.01 * slope\n",
    "\n",
    "    # Calculate mse with new weights: mse\n",
    "    mse = get_mse(input_data, target, weights)\n",
    "\n",
    "    # Append the mse to mse_hist\n",
    "    mse_hist.append(mse)\n",
    "\n",
    "# Plot the mse history\n",
    "plt.plot(mse_hist)\n",
    "plt.xlabel('Iterations')\n",
    "plt.ylabel('Mean Squared Error')\n",
    "plt.show()"
   ]
  },
  {
   "cell_type": "markdown",
   "metadata": {},
   "source": [
    "# Backpropagation"
   ]
  },
  {
   "cell_type": "markdown",
   "metadata": {},
   "source": [
    "## `[note-1]` Backpropagation\n",
    "\n",
    "* Allows gradient descent to update all weights in the neural network (by getting gradients for all weights).\n",
    "\n",
    "* This algorithm comes from the chain rule of calculus.\n",
    "\n",
    "* Important to understand the process, but generally, there is a library available that implements this.\n",
    "\n",
    "![Backpropagation](../Figures/10.%20Backpropagation.jpg)"
   ]
  },
  {
   "cell_type": "markdown",
   "metadata": {},
   "source": [
    "## `[note-2]` Backpropagation process\n",
    "\n",
    "* Try to estimate the slope of the loss function with respect to each weight.\n",
    "\n",
    "* Do forward propagation to calculate predictions and errors.\n",
    "\n",
    "* Go back one layer at a time.\n",
    "\n",
    "* Gradients for weight is the product of:\n",
    "\n",
    "    * node value feeding into that weight\n",
    "    \n",
    "    * the slope of the loss function with respect to node it feeds into\n",
    "    \n",
    "    * the slope of activation function at the node it feeds into\n",
    "\n",
    "* It is also necessary to keep track of the slopes of the loss function with respect to node values.\n",
    "\n",
    "* The slope of node values is the sum of the slopes for all weights that come out of them.\n",
    "\n",
    "![Backpropagation process](../Figures/11.%20Backpropagation%20process.jpg)"
   ]
  },
  {
   "cell_type": "markdown",
   "metadata": {},
   "source": [
    "## `[quiz-1]` The relationship between the forward and the backward propagation\n",
    "\n",
    "* If it has been gone through $4$ iterations of calculating slopes (using backward propagation) and then updated weights, how many times must the forward propagation have been done?\n",
    "\n",
    "    $\\Box$ $0$.\n",
    "    \n",
    "    $\\Box$ $1$.\n",
    "    \n",
    "    $\\boxtimes$ $4$.\n",
    "    \n",
    "    $\\Box$ $8$."
   ]
  },
  {
   "cell_type": "markdown",
   "metadata": {},
   "source": [
    "## `[quiz-2]` Thinking about backward propagation\n",
    "\n",
    "* If the predictions were all exactly right, and the errors were all exactly $0$, the slope of the loss function with respect to these predictions would also be $0$. In that circumstance, which of the following statements would be correct?\n",
    "\n",
    "    $\\boxtimes$ The updates to all weights in the network would also be $0$.\n",
    "    \n",
    "    $\\Box$ The updates to all weights in the network would be dependent on the activation functions.\n",
    "    \n",
    "    $\\Box$ The updates to all weights in the network would be proportional to values from the input data."
   ]
  },
  {
   "cell_type": "markdown",
   "metadata": {},
   "source": [
    "# Backpropagation in practice"
   ]
  },
  {
   "cell_type": "markdown",
   "metadata": {},
   "source": [
    "## `[note-1]` Calculating slopes associated with any weight\n",
    "\n",
    "* Gradients for weight is the product of:\n",
    "\n",
    "    * node value feeding into that weight\n",
    "    \n",
    "    * the slope of activation function for the node being fed into\n",
    "    \n",
    "    * the slope of the loss function with respect to the output node\n",
    "\n",
    "![Calculating slopes associated with any weight](../Figures/12.%20Calculating%20slopes%20associated%20with%20any%20weight.jpg)"
   ]
  },
  {
   "cell_type": "markdown",
   "metadata": {},
   "source": [
    "## `[note-2]` Recapitulation of backpropagation\n",
    "\n",
    "* Start at some random set of weights.\n",
    "\n",
    "* Use forward propagation to make a prediction.\n",
    "\n",
    "* Use backward propagation to calculate the slope of the loss function with respect to each weight.\n",
    "\n",
    "* Multiply that slope by the learning rate, and subtract from the current weights.\n",
    "\n",
    "* Keep going with that cycle until got to a flat part."
   ]
  },
  {
   "cell_type": "markdown",
   "metadata": {},
   "source": [
    "## `[note-3]` Stochastic gradient descent\n",
    "\n",
    "* It is common to calculate slopes on only a subset of the data (a batch).\n",
    "\n",
    "* Use a different batch of data to calculate the next update.\n",
    "\n",
    "* Start over from the beginning once all data is used.\n",
    "\n",
    "* Each time through the training data is called an epoch.\n",
    "\n",
    "* When slopes are calculated on one batch at a time:\n",
    "\n",
    "    * stochastic gradient descent"
   ]
  },
  {
   "cell_type": "markdown",
   "metadata": {},
   "source": [
    "## `[quiz-1]` A round of backpropagation\n",
    "\n",
    "* In the network shown below, the forward propagation has been done, and node values calculated as part of the forward propagation are shown in white. The weights are shown in black. Layers after the question mark show the slopes calculated as part of the back-prop rather than the forward-prop values. Those slope values are shown in purple.\n",
    "\n",
    "* This network again uses the ReLU activation function, so the slope of the activation function is $1$ for any node receiving a positive value as input. Assume the node being examined had a positive value (so the activation function's slope is $1$).\n",
    "\n",
    "    ![A round of backpropagation_1](../Figures/13.%20A%20round%20of%20backpropagation_1.png)\n",
    "\n",
    "* What is the slope needed to update the weight with the question mark?\n",
    "\n",
    "    ![A round of backpropagation_2](../Figures/14.%20A%20round%20of%20backpropagation_2.png)\n",
    "\n",
    "    $\\Box$ $0$.\n",
    "    \n",
    "    $\\Box$ $2$.\n",
    "    \n",
    "    $\\boxtimes$ $6$.\n",
    "\n",
    "    $\\Box$ Not enough information."
   ]
  },
  {
   "cell_type": "markdown",
   "metadata": {},
   "source": [
    "# Requirements"
   ]
  },
  {
   "cell_type": "code",
   "execution_count": 16,
   "metadata": {
    "ExecuteTime": {
     "end_time": "2021-04-23T21:29:35.463742Z",
     "start_time": "2021-04-23T21:29:35.451573Z"
    }
   },
   "outputs": [
    {
     "name": "stdout",
     "output_type": "stream",
     "text": [
      "############################\n",
      "##                        ##\n",
      "##  python==3.7.9         ##\n",
      "##  numpy==1.19.5         ##\n",
      "##  scikit-learn==0.24.1  ##\n",
      "##  matplotlib==3.3.4     ##\n",
      "##                        ##\n",
      "############################\n"
     ]
    }
   ],
   "source": [
    "from platform import python_version\n",
    "import sklearn\n",
    "import matplotlib\n",
    "\n",
    "python_version = ('python=={}'.format(python_version()))\n",
    "numpy_version = ('numpy=={}'.format(np.__version__))\n",
    "scikit_learn_version = ('scikit-learn=={}'.format(sklearn.__version__))\n",
    "matplotlib_version = ('matplotlib=={}'.format(matplotlib.__version__))\n",
    "\n",
    "writepath = '../../requirements.txt'\n",
    "requirements = []\n",
    "packages = [numpy_version, scikit_learn_version, matplotlib_version]\n",
    "\n",
    "with open(writepath, 'w+') as file:\n",
    "    for line in file:\n",
    "        requirements.append(line.strip('\\n'))\n",
    "    for package in packages:\n",
    "        if package not in requirements:\n",
    "            file.write(package + '\\n')\n",
    "\n",
    "max_characters = len(python_version)\n",
    "for package in packages:\n",
    "    if max(max_characters, len(package)) > max_characters:\n",
    "        max_characters = max(max_characters, len(package))\n",
    "\n",
    "print('#' * (max_characters + 8))\n",
    "print('#' * 2 + ' ' * (max_characters + 4) + '#' * 2)\n",
    "print('#' * 2 + ' ' * 2 + python_version + ' ' *\n",
    "      (max_characters - len(python_version) + 2) + '#' * 2)\n",
    "print('#' * 2 + ' ' * 2 + numpy_version + ' ' *\n",
    "      (max_characters - len(numpy_version) + 2) + '#' * 2)\n",
    "print('#' * 2 + ' ' * 2 + scikit_learn_version + ' ' *\n",
    "      (max_characters - len(scikit_learn_version) + 2) + '#' * 2)\n",
    "print('#' * 2 + ' ' * 2 + matplotlib_version + ' ' *\n",
    "      (max_characters - len(matplotlib_version) + 2) + '#' * 2)\n",
    "print('#' * 2 + ' ' * (max_characters + 4) + '#' * 2)\n",
    "print('#' * (max_characters + 8))"
   ]
  }
 ],
 "metadata": {
  "kernelspec": {
   "display_name": "Python 3",
   "language": "python",
   "name": "python3"
  },
  "language_info": {
   "codemirror_mode": {
    "name": "ipython",
    "version": 3
   },
   "file_extension": ".py",
   "mimetype": "text/x-python",
   "name": "python",
   "nbconvert_exporter": "python",
   "pygments_lexer": "ipython3",
   "version": "3.7.9"
  },
  "latex_envs": {
   "LaTeX_envs_menu_present": true,
   "autoclose": true,
   "autocomplete": true,
   "bibliofile": "biblio.bib",
   "cite_by": "apalike",
   "current_citInitial": 1,
   "eqLabelWithNumbers": true,
   "eqNumInitial": 1,
   "hotkeys": {
    "equation": "Ctrl-E",
    "itemize": "Ctrl-I"
   },
   "labels_anchors": false,
   "latex_user_defs": false,
   "report_style_numbering": true,
   "user_envs_cfg": true
  },
  "nbTranslate": {
   "displayLangs": [
    "*"
   ],
   "hotkey": "alt-t",
   "langInMainMenu": true,
   "sourceLang": "en",
   "targetLang": "fr",
   "useGoogleTranslate": true
  },
  "toc": {
   "base_numbering": 1,
   "nav_menu": {},
   "number_sections": true,
   "sideBar": true,
   "skip_h1_title": false,
   "title_cell": "Table of Contents",
   "title_sidebar": "Contents",
   "toc_cell": true,
   "toc_position": {
    "height": "calc(100% - 180px)",
    "left": "10px",
    "top": "150px",
    "width": "287.969px"
   },
   "toc_section_display": true,
   "toc_window_display": true
  },
  "varInspector": {
   "cols": {
    "lenName": 16,
    "lenType": 16,
    "lenVar": 40
   },
   "kernels_config": {
    "python": {
     "delete_cmd_postfix": "",
     "delete_cmd_prefix": "del ",
     "library": "var_list.py",
     "varRefreshCmd": "print(var_dic_list())"
    },
    "r": {
     "delete_cmd_postfix": ") ",
     "delete_cmd_prefix": "rm(",
     "library": "var_list.r",
     "varRefreshCmd": "cat(var_dic_list()) "
    }
   },
   "types_to_exclude": [
    "module",
    "function",
    "builtin_function_or_method",
    "instance",
    "_Feature"
   ],
   "window_display": true
  }
 },
 "nbformat": 4,
 "nbformat_minor": 4
}
