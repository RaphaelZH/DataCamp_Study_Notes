{
 "cells": [
  {
   "cell_type": "markdown",
   "metadata": {
    "toc": true
   },
   "source": [
    "<h1>Table of Contents<span class=\"tocSkip\"></span></h1>\n",
    "<div class=\"toc\"><ul class=\"toc-item\"><li><span><a href=\"#Constants-and-variables\" data-toc-modified-id=\"Constants-and-variables-1\"><span class=\"toc-item-num\">1&nbsp;&nbsp;</span>Constants and variables</a></span><ul class=\"toc-item\"><li><span><a href=\"#[note-1]-What-is-TensorFlow?\" data-toc-modified-id=\"[note-1]-What-is-TensorFlow?-1.1\"><span class=\"toc-item-num\">1.1&nbsp;&nbsp;</span><code>[note-1]</code> What is <a href=\"https://www.tensorflow.org/api_docs/python/tf\" target=\"_blank\">TensorFlow</a>?</a></span></li><li><span><a href=\"#[note-2]-What-is-a-tensor?\" data-toc-modified-id=\"[note-2]-What-is-a-tensor?-1.2\"><span class=\"toc-item-num\">1.2&nbsp;&nbsp;</span><code>[note-2]</code> What is a tensor?</a></span></li><li><span><a href=\"#[code-1]-Defining-tensors-in-TensorFlow\" data-toc-modified-id=\"[code-1]-Defining-tensors-in-TensorFlow-1.3\"><span class=\"toc-item-num\">1.3&nbsp;&nbsp;</span><code>[code-1]</code> Defining tensors in TensorFlow</a></span></li><li><span><a href=\"#[note-3]-Defining-constants-in-TensorFlow\" data-toc-modified-id=\"[note-3]-Defining-constants-in-TensorFlow-1.4\"><span class=\"toc-item-num\">1.4&nbsp;&nbsp;</span><code>[note-3]</code> Defining constants in TensorFlow</a></span></li><li><span><a href=\"#[code-2]-Defining-constants-in-TensorFlow\" data-toc-modified-id=\"[code-2]-Defining-constants-in-TensorFlow-1.5\"><span class=\"toc-item-num\">1.5&nbsp;&nbsp;</span><code>[code-2]</code> Defining constants in TensorFlow</a></span></li><li><span><a href=\"#[note-4]-Using-convenience-functions-to-define-constants\" data-toc-modified-id=\"[note-4]-Using-convenience-functions-to-define-constants-1.6\"><span class=\"toc-item-num\">1.6&nbsp;&nbsp;</span><code>[note-4]</code> Using convenience functions to define constants</a></span></li><li><span><a href=\"#[code-3]-Defining-and-initializing-variables\" data-toc-modified-id=\"[code-3]-Defining-and-initializing-variables-1.7\"><span class=\"toc-item-num\">1.7&nbsp;&nbsp;</span><code>[code-3]</code> Defining and initializing variables</a></span></li><li><span><a href=\"#[task-1]-Defining-data-as-constants\" data-toc-modified-id=\"[task-1]-Defining-data-as-constants-1.8\"><span class=\"toc-item-num\">1.8&nbsp;&nbsp;</span><code>[task-1]</code> Defining data as constants</a></span></li><li><span><a href=\"#[task-2]-Defining-variables\" data-toc-modified-id=\"[task-2]-Defining-variables-1.9\"><span class=\"toc-item-num\">1.9&nbsp;&nbsp;</span><code>[task-2]</code> Defining variables</a></span></li></ul></li><li><span><a href=\"#Basic-operations\" data-toc-modified-id=\"Basic-operations-2\"><span class=\"toc-item-num\">2&nbsp;&nbsp;</span>Basic operations</a></span><ul class=\"toc-item\"><li><span><a href=\"#[note-1]-What-is-a-TensorFlow-operation?\" data-toc-modified-id=\"[note-1]-What-is-a-TensorFlow-operation?-2.1\"><span class=\"toc-item-num\">2.1&nbsp;&nbsp;</span><code>[note-1]</code> What is a TensorFlow operation?</a></span></li><li><span><a href=\"#[code-1]-Applying-the-addition-operator\" data-toc-modified-id=\"[code-1]-Applying-the-addition-operator-2.2\"><span class=\"toc-item-num\">2.2&nbsp;&nbsp;</span><code>[code-1]</code> Applying the addition operator</a></span></li><li><span><a href=\"#[note-2]-Performing-tensor-addition\" data-toc-modified-id=\"[note-2]-Performing-tensor-addition-2.3\"><span class=\"toc-item-num\">2.3&nbsp;&nbsp;</span><code>[note-2]</code> Performing tensor addition</a></span></li><li><span><a href=\"#[note-3]-How-to-perform-multiplication-in-TensorFlow\" data-toc-modified-id=\"[note-3]-How-to-perform-multiplication-in-TensorFlow-2.4\"><span class=\"toc-item-num\">2.4&nbsp;&nbsp;</span><code>[note-3]</code> How to perform multiplication in TensorFlow</a></span></li><li><span><a href=\"#[code-2]-Applying-the-multiplication-operators\" data-toc-modified-id=\"[code-2]-Applying-the-multiplication-operators-2.5\"><span class=\"toc-item-num\">2.5&nbsp;&nbsp;</span><code>[code-2]</code> Applying the multiplication operators</a></span></li><li><span><a href=\"#[note-4]-Summing-over-tensor-dimensions\" data-toc-modified-id=\"[note-4]-Summing-over-tensor-dimensions-2.6\"><span class=\"toc-item-num\">2.6&nbsp;&nbsp;</span><code>[note-4]</code> Summing over tensor dimensions</a></span></li><li><span><a href=\"#[code-3]-Summing-over-tensor-dimensions\" data-toc-modified-id=\"[code-3]-Summing-over-tensor-dimensions-2.7\"><span class=\"toc-item-num\">2.7&nbsp;&nbsp;</span><code>[code-3]</code> Summing over tensor dimensions</a></span></li><li><span><a href=\"#[task-1]-Performing-element-wise-multiplication\" data-toc-modified-id=\"[task-1]-Performing-element-wise-multiplication-2.8\"><span class=\"toc-item-num\">2.8&nbsp;&nbsp;</span><code>[task-1]</code> Performing element-wise multiplication</a></span></li><li><span><a href=\"#[task-2]-Making-predictions-with-matrix-multiplication\" data-toc-modified-id=\"[task-2]-Making-predictions-with-matrix-multiplication-2.9\"><span class=\"toc-item-num\">2.9&nbsp;&nbsp;</span><code>[task-2]</code> Making predictions with matrix multiplication</a></span></li><li><span><a href=\"#[quiz-1]-Summing-over-tensor-dimensions\" data-toc-modified-id=\"[quiz-1]-Summing-over-tensor-dimensions-2.10\"><span class=\"toc-item-num\">2.10&nbsp;&nbsp;</span><code>[quiz-1]</code> Summing over tensor dimensions</a></span></li></ul></li><li><span><a href=\"#Advanced-operations\" data-toc-modified-id=\"Advanced-operations-3\"><span class=\"toc-item-num\">3&nbsp;&nbsp;</span>Advanced operations</a></span><ul class=\"toc-item\"><li><span><a href=\"#[note-1]-Overview-of-advanced-operations\" data-toc-modified-id=\"[note-1]-Overview-of-advanced-operations-3.1\"><span class=\"toc-item-num\">3.1&nbsp;&nbsp;</span><code>[note-1]</code> Overview of advanced operations</a></span></li><li><span><a href=\"#[note-2]-Finding-the-optimum\" data-toc-modified-id=\"[note-2]-Finding-the-optimum-3.2\"><span class=\"toc-item-num\">3.2&nbsp;&nbsp;</span><code>[note-2]</code> Finding the optimum</a></span></li><li><span><a href=\"#[note-3]-Calculating-the-gradient\" data-toc-modified-id=\"[note-3]-Calculating-the-gradient-3.3\"><span class=\"toc-item-num\">3.3&nbsp;&nbsp;</span><code>[note-3]</code> Calculating the gradient</a></span></li><li><span><a href=\"#[code-1]-Gradients-in-TensorFlow\" data-toc-modified-id=\"[code-1]-Gradients-in-TensorFlow-3.4\"><span class=\"toc-item-num\">3.4&nbsp;&nbsp;</span><code>[code-1]</code> Gradients in TensorFlow</a></span></li><li><span><a href=\"#[note-4]-Images-as-tensors\" data-toc-modified-id=\"[note-4]-Images-as-tensors-3.5\"><span class=\"toc-item-num\">3.5&nbsp;&nbsp;</span><code>[note-4]</code> Images as tensors</a></span></li><li><span><a href=\"#[note-5]-How-to-reshape-a-grayscale-image\" data-toc-modified-id=\"[note-5]-How-to-reshape-a-grayscale-image-3.6\"><span class=\"toc-item-num\">3.6&nbsp;&nbsp;</span><code>[note-5]</code> How to reshape a grayscale image</a></span></li><li><span><a href=\"#[code-2]-How-to-reshape-a-grayscale-image\" data-toc-modified-id=\"[code-2]-How-to-reshape-a-grayscale-image-3.7\"><span class=\"toc-item-num\">3.7&nbsp;&nbsp;</span><code>[code-2]</code> How to reshape a grayscale image</a></span></li><li><span><a href=\"#[note-6]-How-to-reshape-a-color-image\" data-toc-modified-id=\"[note-6]-How-to-reshape-a-color-image-3.8\"><span class=\"toc-item-num\">3.8&nbsp;&nbsp;</span><code>[note-6]</code> How to reshape a color image</a></span></li><li><span><a href=\"#[code-3]-How-to-reshape-a-color-image\" data-toc-modified-id=\"[code-3]-How-to-reshape-a-color-image-3.9\"><span class=\"toc-item-num\">3.9&nbsp;&nbsp;</span><code>[code-3]</code> How to reshape a color image</a></span></li><li><span><a href=\"#[task-1]-Reshaping-tensors\" data-toc-modified-id=\"[task-1]-Reshaping-tensors-3.10\"><span class=\"toc-item-num\">3.10&nbsp;&nbsp;</span><code>[task-1]</code> Reshaping tensors</a></span></li><li><span><a href=\"#[task-2]-Optimizing-with-gradients\" data-toc-modified-id=\"[task-2]-Optimizing-with-gradients-3.11\"><span class=\"toc-item-num\">3.11&nbsp;&nbsp;</span><code>[task-2]</code> Optimizing with gradients</a></span></li><li><span><a href=\"#[task-3]-Working-with-image-data\" data-toc-modified-id=\"[task-3]-Working-with-image-data-3.12\"><span class=\"toc-item-num\">3.12&nbsp;&nbsp;</span><code>[task-3]</code> Working with image data</a></span></li></ul></li></ul></div>"
   ]
  },
  {
   "cell_type": "markdown",
   "metadata": {},
   "source": [
    "# Constants and variables"
   ]
  },
  {
   "cell_type": "markdown",
   "metadata": {
    "ExecuteTime": {
     "end_time": "2020-07-24T11:20:21.989524Z",
     "start_time": "2020-07-24T11:20:12.960881Z"
    }
   },
   "source": [
    "## `[note-1]` What is [TensorFlow](https://www.tensorflow.org/api_docs/python/tf)?\n",
    "\n",
    "* Open-source library for graph-based numerical computation:\n",
    "\n",
    "    * developed by the [Google Brain Team](https://research.google/teams/brain)\n",
    "\n",
    "* Low-level and high-level APIs:\n",
    "\n",
    "    * addition, multiplication, differentiation\n",
    "    \n",
    "    * machine-learning models\n",
    "\n",
    "* [Important changes in TensorFlow 2.0](https://www.tensorflow.org/guide/effective_tf2):\n",
    "\n",
    "    * [eager execution](https://www.tensorflow.org/guide/eager) by default\n",
    "    \n",
    "    * model building with [Keras](https://www.tensorflow.org/api_docs/python/tf/keras) and [Estimators](https://www.tensorflow.org/api_docs/python/tf/estimator)"
   ]
  },
  {
   "cell_type": "markdown",
   "metadata": {
    "ExecuteTime": {
     "end_time": "2020-07-24T11:20:21.989524Z",
     "start_time": "2020-07-24T11:20:12.960881Z"
    }
   },
   "source": [
    "## `[note-2]` What is a tensor?\n",
    "\n",
    "* Generalization of vectors and matrices.\n",
    "\n",
    "* Collection of numbers.\n",
    "\n",
    "* Specific shape.\n",
    "\n",
    "![What is a tensor](../Figures/1.%20What%20is%20a%20tensor.jpg)"
   ]
  },
  {
   "cell_type": "markdown",
   "metadata": {},
   "source": [
    "## `[code-1]` Defining tensors in TensorFlow"
   ]
  },
  {
   "cell_type": "code",
   "execution_count": 1,
   "metadata": {
    "ExecuteTime": {
     "end_time": "2021-05-13T11:03:32.400896Z",
     "start_time": "2021-05-13T11:03:22.979943Z"
    }
   },
   "outputs": [
    {
     "data": {
      "text/plain": [
       "<tf.Tensor: shape=(1,), dtype=float32, numpy=array([1.], dtype=float32)>"
      ]
     },
     "execution_count": 1,
     "metadata": {},
     "output_type": "execute_result"
    }
   ],
   "source": [
    "import tensorflow as tf\n",
    "\n",
    "# 0D Tensor\n",
    "d0 = tf.ones((1, ))\n",
    "\n",
    "d0"
   ]
  },
  {
   "cell_type": "code",
   "execution_count": 2,
   "metadata": {
    "ExecuteTime": {
     "end_time": "2021-05-13T11:03:32.409003Z",
     "start_time": "2021-05-13T11:03:32.403389Z"
    }
   },
   "outputs": [
    {
     "data": {
      "text/plain": [
       "<tf.Tensor: shape=(2,), dtype=float32, numpy=array([1., 1.], dtype=float32)>"
      ]
     },
     "execution_count": 2,
     "metadata": {},
     "output_type": "execute_result"
    }
   ],
   "source": [
    "# 1D Tensor\n",
    "d1 = tf.ones((2, ))\n",
    "\n",
    "d1"
   ]
  },
  {
   "cell_type": "code",
   "execution_count": 3,
   "metadata": {
    "ExecuteTime": {
     "end_time": "2021-05-13T11:03:32.418299Z",
     "start_time": "2021-05-13T11:03:32.412278Z"
    }
   },
   "outputs": [
    {
     "data": {
      "text/plain": [
       "<tf.Tensor: shape=(2, 2), dtype=float32, numpy=\n",
       "array([[1., 1.],\n",
       "       [1., 1.]], dtype=float32)>"
      ]
     },
     "execution_count": 3,
     "metadata": {},
     "output_type": "execute_result"
    }
   ],
   "source": [
    "# 2D Tensor\n",
    "d2 = tf.ones((2, 2))\n",
    "\n",
    "d2"
   ]
  },
  {
   "cell_type": "code",
   "execution_count": 4,
   "metadata": {
    "ExecuteTime": {
     "end_time": "2021-05-13T11:03:32.429422Z",
     "start_time": "2021-05-13T11:03:32.421921Z"
    }
   },
   "outputs": [
    {
     "data": {
      "text/plain": [
       "<tf.Tensor: shape=(2, 2, 2), dtype=float32, numpy=\n",
       "array([[[1., 1.],\n",
       "        [1., 1.]],\n",
       "\n",
       "       [[1., 1.],\n",
       "        [1., 1.]]], dtype=float32)>"
      ]
     },
     "execution_count": 4,
     "metadata": {},
     "output_type": "execute_result"
    }
   ],
   "source": [
    "# 3D Tensor\n",
    "d3 = tf.ones((2, 2, 2))\n",
    "\n",
    "d3"
   ]
  },
  {
   "cell_type": "code",
   "execution_count": 5,
   "metadata": {
    "ExecuteTime": {
     "end_time": "2021-05-13T11:03:32.437369Z",
     "start_time": "2021-05-13T11:03:32.431863Z"
    }
   },
   "outputs": [
    {
     "name": "stdout",
     "output_type": "stream",
     "text": [
      "[[[1. 1.]\n",
      "  [1. 1.]]\n",
      "\n",
      " [[1. 1.]\n",
      "  [1. 1.]]]\n"
     ]
    }
   ],
   "source": [
    "# Print the 3D tensor\n",
    "print(d3.numpy())"
   ]
  },
  {
   "cell_type": "markdown",
   "metadata": {},
   "source": [
    "## `[note-3]` Defining constants in TensorFlow\n",
    "\n",
    "* A constant is the simplest category of tensor:\n",
    "\n",
    "    * not trainable\n",
    "    \n",
    "    * can have any dimension"
   ]
  },
  {
   "cell_type": "markdown",
   "metadata": {},
   "source": [
    "## `[code-2]` Defining constants in TensorFlow"
   ]
  },
  {
   "cell_type": "code",
   "execution_count": 6,
   "metadata": {
    "ExecuteTime": {
     "end_time": "2021-05-13T11:03:32.446932Z",
     "start_time": "2021-05-13T11:03:32.439652Z"
    }
   },
   "outputs": [
    {
     "data": {
      "text/plain": [
       "<tf.Tensor: shape=(2, 3), dtype=int32, numpy=\n",
       "array([[3, 3, 3],\n",
       "       [3, 3, 3]], dtype=int32)>"
      ]
     },
     "execution_count": 6,
     "metadata": {},
     "output_type": "execute_result"
    }
   ],
   "source": [
    "from tensorflow import constant\n",
    "\n",
    "# Define a 2x3 constant.\n",
    "a = constant(3, shape=[2, 3])\n",
    "\n",
    "a"
   ]
  },
  {
   "cell_type": "code",
   "execution_count": 7,
   "metadata": {
    "ExecuteTime": {
     "end_time": "2021-05-13T11:03:32.454867Z",
     "start_time": "2021-05-13T11:03:32.448980Z"
    }
   },
   "outputs": [
    {
     "data": {
      "text/plain": [
       "<tf.Tensor: shape=(2, 2), dtype=int32, numpy=\n",
       "array([[1, 2],\n",
       "       [3, 4]], dtype=int32)>"
      ]
     },
     "execution_count": 7,
     "metadata": {},
     "output_type": "execute_result"
    }
   ],
   "source": [
    "# Define a 2x2 constant.\n",
    "b = constant([1, 2, 3, 4], shape=[2, 2])\n",
    "\n",
    "b"
   ]
  },
  {
   "cell_type": "markdown",
   "metadata": {},
   "source": [
    "## `[note-4]` Using convenience functions to define constants\n",
    "\n",
    "![Using convenience functions to define constants](../Figures/2.%20Using%20convenience%20functions%20to%20define%20constants.jpg)"
   ]
  },
  {
   "cell_type": "markdown",
   "metadata": {},
   "source": [
    "## `[code-3]` Defining and initializing variables"
   ]
  },
  {
   "cell_type": "code",
   "execution_count": 8,
   "metadata": {
    "ExecuteTime": {
     "end_time": "2021-05-13T11:03:32.474461Z",
     "start_time": "2021-05-13T11:03:32.460087Z"
    }
   },
   "outputs": [
    {
     "data": {
      "text/plain": [
       "(<tf.Variable 'Variable:0' shape=(6,) dtype=float32, numpy=array([1., 2., 3., 4., 5., 6.], dtype=float32)>,\n",
       " <tf.Variable 'Variable:0' shape=(6,) dtype=int16, numpy=array([1, 2, 3, 4, 5, 6], dtype=int16)>)"
      ]
     },
     "execution_count": 8,
     "metadata": {},
     "output_type": "execute_result"
    }
   ],
   "source": [
    "import tensorflow as tf\n",
    "\n",
    "# Define a variable\n",
    "a0 = tf.Variable([1, 2, 3, 4, 5, 6], dtype=tf.float32)\n",
    "a1 = tf.Variable([1, 2, 3, 4, 5, 6], dtype=tf.int16)\n",
    "\n",
    "a0, a1"
   ]
  },
  {
   "cell_type": "code",
   "execution_count": 9,
   "metadata": {
    "ExecuteTime": {
     "end_time": "2021-05-13T11:03:32.484242Z",
     "start_time": "2021-05-13T11:03:32.478539Z"
    }
   },
   "outputs": [
    {
     "data": {
      "text/plain": [
       "<tf.Tensor: shape=(), dtype=float32, numpy=2.0>"
      ]
     },
     "execution_count": 9,
     "metadata": {},
     "output_type": "execute_result"
    }
   ],
   "source": [
    "# Define a constant\n",
    "b = tf.constant(2, tf.float32)\n",
    "\n",
    "b"
   ]
  },
  {
   "cell_type": "code",
   "execution_count": 10,
   "metadata": {
    "ExecuteTime": {
     "end_time": "2021-05-13T11:03:32.494425Z",
     "start_time": "2021-05-13T11:03:32.487177Z"
    }
   },
   "outputs": [
    {
     "data": {
      "text/plain": [
       "(<tf.Tensor: shape=(6,), dtype=float32, numpy=array([ 2.,  4.,  6.,  8., 10., 12.], dtype=float32)>,\n",
       " <tf.Tensor: shape=(6,), dtype=float32, numpy=array([ 2.,  4.,  6.,  8., 10., 12.], dtype=float32)>)"
      ]
     },
     "execution_count": 10,
     "metadata": {},
     "output_type": "execute_result"
    }
   ],
   "source": [
    "# Compute their product\n",
    "c0 = tf.multiply(a0, b)\n",
    "c1 = a0 * b\n",
    "\n",
    "c0, c1"
   ]
  },
  {
   "cell_type": "markdown",
   "metadata": {
    "ExecuteTime": {
     "end_time": "2020-11-04T01:16:39.510817Z",
     "start_time": "2020-11-04T01:16:38.891993Z"
    }
   },
   "source": [
    "## `[task-1]` Defining data as constants\n",
    "\n",
    "$\\blacktriangleright$ **Package pre-loading**"
   ]
  },
  {
   "cell_type": "code",
   "execution_count": 11,
   "metadata": {
    "ExecuteTime": {
     "end_time": "2021-05-13T11:03:32.500339Z",
     "start_time": "2021-05-13T11:03:32.496695Z"
    },
    "scrolled": true
   },
   "outputs": [],
   "source": [
    "import pandas as pd\n",
    "import numpy as np"
   ]
  },
  {
   "cell_type": "markdown",
   "metadata": {},
   "source": [
    "$\\blacktriangleright$ **Data pre-loading**"
   ]
  },
  {
   "cell_type": "code",
   "execution_count": 12,
   "metadata": {
    "ExecuteTime": {
     "end_time": "2021-05-13T11:03:32.600453Z",
     "start_time": "2021-05-13T11:03:32.503434Z"
    }
   },
   "outputs": [],
   "source": [
    "df = pd.read_csv('../Datasets/1. UCI - default of credit card clients.csv',\n",
    "                 dtype=np.float64)\n",
    "credit_numpy = df[['EDUCATION', 'MARRIAGE', 'AGE', 'BILL_AMT1']].to_numpy()"
   ]
  },
  {
   "cell_type": "markdown",
   "metadata": {},
   "source": [
    "$\\blacktriangleright$ **Data exploration**"
   ]
  },
  {
   "cell_type": "code",
   "execution_count": 13,
   "metadata": {
    "ExecuteTime": {
     "end_time": "2021-05-13T11:03:32.618551Z",
     "start_time": "2021-05-13T11:03:32.603063Z"
    }
   },
   "outputs": [
    {
     "data": {
      "text/html": [
       "<div>\n",
       "<style scoped>\n",
       "    .dataframe tbody tr th:only-of-type {\n",
       "        vertical-align: middle;\n",
       "    }\n",
       "\n",
       "    .dataframe tbody tr th {\n",
       "        vertical-align: top;\n",
       "    }\n",
       "\n",
       "    .dataframe thead th {\n",
       "        text-align: right;\n",
       "    }\n",
       "</style>\n",
       "<table border=\"1\" class=\"dataframe\">\n",
       "  <thead>\n",
       "    <tr style=\"text-align: right;\">\n",
       "      <th></th>\n",
       "      <th>EDUCATION</th>\n",
       "      <th>MARRIAGE</th>\n",
       "      <th>AGE</th>\n",
       "      <th>BILL_AMT1</th>\n",
       "    </tr>\n",
       "  </thead>\n",
       "  <tbody>\n",
       "    <tr>\n",
       "      <th>0</th>\n",
       "      <td>2</td>\n",
       "      <td>1</td>\n",
       "      <td>24</td>\n",
       "      <td>3913</td>\n",
       "    </tr>\n",
       "    <tr>\n",
       "      <th>1</th>\n",
       "      <td>2</td>\n",
       "      <td>2</td>\n",
       "      <td>26</td>\n",
       "      <td>2682</td>\n",
       "    </tr>\n",
       "    <tr>\n",
       "      <th>2</th>\n",
       "      <td>2</td>\n",
       "      <td>2</td>\n",
       "      <td>34</td>\n",
       "      <td>29239</td>\n",
       "    </tr>\n",
       "    <tr>\n",
       "      <th>3</th>\n",
       "      <td>2</td>\n",
       "      <td>1</td>\n",
       "      <td>37</td>\n",
       "      <td>46990</td>\n",
       "    </tr>\n",
       "    <tr>\n",
       "      <th>4</th>\n",
       "      <td>2</td>\n",
       "      <td>1</td>\n",
       "      <td>57</td>\n",
       "      <td>8617</td>\n",
       "    </tr>\n",
       "    <tr>\n",
       "      <th>5</th>\n",
       "      <td>1</td>\n",
       "      <td>2</td>\n",
       "      <td>37</td>\n",
       "      <td>64400</td>\n",
       "    </tr>\n",
       "  </tbody>\n",
       "</table>\n",
       "</div>"
      ],
      "text/plain": [
       "   EDUCATION  MARRIAGE  AGE  BILL_AMT1\n",
       "0          2         1   24       3913\n",
       "1          2         2   26       2682\n",
       "2          2         2   34      29239\n",
       "3          2         1   37      46990\n",
       "4          2         1   57       8617\n",
       "5          1         2   37      64400"
      ]
     },
     "execution_count": 13,
     "metadata": {},
     "output_type": "execute_result"
    }
   ],
   "source": [
    "df[['EDUCATION', 'MARRIAGE', 'AGE', 'BILL_AMT1']].astype(int).head(6)"
   ]
  },
  {
   "cell_type": "markdown",
   "metadata": {},
   "source": [
    "$\\blacktriangleright$ **Task practice**"
   ]
  },
  {
   "cell_type": "code",
   "execution_count": 14,
   "metadata": {
    "ExecuteTime": {
     "end_time": "2021-05-13T11:03:32.626599Z",
     "start_time": "2021-05-13T11:03:32.621934Z"
    }
   },
   "outputs": [
    {
     "name": "stdout",
     "output_type": "stream",
     "text": [
      "The datatype is: <dtype: 'float64'>\n",
      "The shape is: (30000, 4)\n"
     ]
    }
   ],
   "source": [
    "# Import constant from TensorFlow\n",
    "from tensorflow import constant\n",
    "\n",
    "# Convert the credit_numpy array into a tensorflow constant\n",
    "credit_constant = constant(credit_numpy)\n",
    "\n",
    "# Print constant datatype\n",
    "print('The datatype is:', credit_constant.dtype)\n",
    "\n",
    "# Print constant shape\n",
    "print('The shape is:', credit_constant.shape)"
   ]
  },
  {
   "cell_type": "markdown",
   "metadata": {},
   "source": [
    "## `[task-2]` Defining variables\n",
    "\n",
    "$\\blacktriangleright$ **Task practice**"
   ]
  },
  {
   "cell_type": "code",
   "execution_count": 15,
   "metadata": {
    "ExecuteTime": {
     "end_time": "2021-05-13T11:03:32.638673Z",
     "start_time": "2021-05-13T11:03:32.631594Z"
    }
   },
   "outputs": [
    {
     "name": "stdout",
     "output_type": "stream",
     "text": [
      "<tf.Variable 'Variable:0' shape=(4,) dtype=int32, numpy=array([1, 2, 3, 4], dtype=int32)>\n",
      "[1 2 3 4]\n"
     ]
    }
   ],
   "source": [
    "import tensorflow as tf\n",
    "# Define the 1-dimensional variable A1\n",
    "A1 = tf.Variable([1, 2, 3, 4])\n",
    "\n",
    "# Print the variable A1\n",
    "print(A1)\n",
    "\n",
    "# Convert A1 to a numpy array and assign it to B1\n",
    "B1 = A1.numpy()\n",
    "\n",
    "# Print B1\n",
    "print(B1)"
   ]
  },
  {
   "cell_type": "markdown",
   "metadata": {},
   "source": [
    "# Basic operations"
   ]
  },
  {
   "cell_type": "markdown",
   "metadata": {
    "ExecuteTime": {
     "end_time": "2020-07-24T11:20:21.989524Z",
     "start_time": "2020-07-24T11:20:12.960881Z"
    }
   },
   "source": [
    "## `[note-1]` What is a TensorFlow operation?\n",
    "\n",
    "![What is a TensorFlow operation](../Figures/3.%20What%20is%20a%20TensorFlow%20operation.jpg)"
   ]
  },
  {
   "cell_type": "markdown",
   "metadata": {
    "ExecuteTime": {
     "end_time": "2020-07-24T11:20:21.989524Z",
     "start_time": "2020-07-24T11:20:12.960881Z"
    }
   },
   "source": [
    "## `[code-1]` Applying the addition operator"
   ]
  },
  {
   "cell_type": "code",
   "execution_count": 16,
   "metadata": {
    "ExecuteTime": {
     "end_time": "2021-05-13T11:03:32.647145Z",
     "start_time": "2021-05-13T11:03:32.641606Z"
    }
   },
   "outputs": [
    {
     "data": {
      "text/plain": [
       "(<tf.Tensor: shape=(1,), dtype=int32, numpy=array([1], dtype=int32)>,\n",
       " <tf.Tensor: shape=(1,), dtype=int32, numpy=array([2], dtype=int32)>)"
      ]
     },
     "execution_count": 16,
     "metadata": {},
     "output_type": "execute_result"
    }
   ],
   "source": [
    "#Import constant and add from tensorflow\n",
    "from tensorflow import constant, add\n",
    "\n",
    "# Define 0-dimensional tensors\n",
    "A0 = constant([1])\n",
    "B0 = constant([2])\n",
    "\n",
    "A0, B0"
   ]
  },
  {
   "cell_type": "code",
   "execution_count": 17,
   "metadata": {
    "ExecuteTime": {
     "end_time": "2021-05-13T11:03:32.657234Z",
     "start_time": "2021-05-13T11:03:32.650602Z"
    }
   },
   "outputs": [
    {
     "data": {
      "text/plain": [
       "(<tf.Tensor: shape=(2,), dtype=int32, numpy=array([1, 2], dtype=int32)>,\n",
       " <tf.Tensor: shape=(2,), dtype=int32, numpy=array([3, 4], dtype=int32)>)"
      ]
     },
     "execution_count": 17,
     "metadata": {},
     "output_type": "execute_result"
    }
   ],
   "source": [
    "# Define 1-dimensional tensors\n",
    "A1 = constant([1, 2])\n",
    "B1 = constant([3, 4])\n",
    "\n",
    "A1, B1"
   ]
  },
  {
   "cell_type": "code",
   "execution_count": 18,
   "metadata": {
    "ExecuteTime": {
     "end_time": "2021-05-13T11:03:32.666806Z",
     "start_time": "2021-05-13T11:03:32.659325Z"
    }
   },
   "outputs": [
    {
     "data": {
      "text/plain": [
       "(<tf.Tensor: shape=(2, 2), dtype=int32, numpy=\n",
       " array([[1, 2],\n",
       "        [3, 4]], dtype=int32)>,\n",
       " <tf.Tensor: shape=(2, 2), dtype=int32, numpy=\n",
       " array([[5, 6],\n",
       "        [7, 8]], dtype=int32)>)"
      ]
     },
     "execution_count": 18,
     "metadata": {},
     "output_type": "execute_result"
    }
   ],
   "source": [
    "# Define 2-dimensional tensors\n",
    "A2 = constant([[1, 2], [3, 4]])\n",
    "B2 = constant([[5, 6], [7, 8]])\n",
    "\n",
    "A2, B2"
   ]
  },
  {
   "cell_type": "code",
   "execution_count": 19,
   "metadata": {
    "ExecuteTime": {
     "end_time": "2021-05-13T11:03:32.678664Z",
     "start_time": "2021-05-13T11:03:32.671473Z"
    }
   },
   "outputs": [
    {
     "data": {
      "text/plain": [
       "(<tf.Tensor: shape=(1,), dtype=int32, numpy=array([3], dtype=int32)>,\n",
       " <tf.Tensor: shape=(2,), dtype=int32, numpy=array([4, 6], dtype=int32)>,\n",
       " <tf.Tensor: shape=(2, 2), dtype=int32, numpy=\n",
       " array([[ 6,  8],\n",
       "        [10, 12]], dtype=int32)>)"
      ]
     },
     "execution_count": 19,
     "metadata": {},
     "output_type": "execute_result"
    }
   ],
   "source": [
    "# Perform tensor addition with add()\n",
    "C0 = add(A0, B0)\n",
    "C1 = add(A1, B1)\n",
    "C2 = add(A2, B2)\n",
    "\n",
    "C0, C1, C2"
   ]
  },
  {
   "cell_type": "markdown",
   "metadata": {},
   "source": [
    "## `[note-2]` Performing tensor addition\n",
    "\n",
    "* The `add()` operation performs **element-wise addition** with two tensors.\n",
    "\n",
    "* Element-wise addition requires both tensors to have the same shape:\n",
    "\n",
    "    * scalar addition: $1 + 2 = 3$\n",
    "    \n",
    "    * vector addition: $[1, 2] + [3, 4] = [4, 6]$\n",
    "    \n",
    "    * matrix addition: $\\begin{bmatrix}1 & 2\\\\ 3 & 4\\end{bmatrix}$ + $\\begin{bmatrix}5 & 6\\\\ 7 & 8\\end{bmatrix}$ = $\\begin{bmatrix}6 & 8\\\\ 10 & 12\\end{bmatrix}$\n",
    "\n",
    "* The `add()` operator is overloaded."
   ]
  },
  {
   "cell_type": "markdown",
   "metadata": {},
   "source": [
    "## `[note-3]` How to perform multiplication in TensorFlow\n",
    "\n",
    "* **Element-wise multiplication** performed using `multiply()` operation:\n",
    "\n",
    "    * the tensors multiplied must have the same shape\n",
    "    \n",
    "    * e.g., $[1, 2, 3]$ and $[3, 4, 5]$ or $[1, 2]$ and $[3, 4]$\n",
    "\n",
    "* **Matrix multiplication** performed with `matmul()` operator:\n",
    "\n",
    "    * the `matmul(A, B)` operation multiplies A by B\n",
    "    \n",
    "    * number of columns of A must equal the number of rows of B"
   ]
  },
  {
   "cell_type": "markdown",
   "metadata": {},
   "source": [
    "## `[code-2]` Applying the multiplication operators"
   ]
  },
  {
   "cell_type": "code",
   "execution_count": 20,
   "metadata": {
    "ExecuteTime": {
     "end_time": "2021-05-13T11:03:33.477349Z",
     "start_time": "2021-05-13T11:03:33.464560Z"
    }
   },
   "outputs": [
    {
     "data": {
      "text/plain": [
       "(<tf.Tensor: shape=(1,), dtype=float32, numpy=array([1.], dtype=float32)>,\n",
       " <tf.Tensor: shape=(3, 1), dtype=float32, numpy=\n",
       " array([[1.],\n",
       "        [1.],\n",
       "        [1.]], dtype=float32)>,\n",
       " <tf.Tensor: shape=(3, 4), dtype=float32, numpy=\n",
       " array([[1., 1., 1., 1.],\n",
       "        [1., 1., 1., 1.],\n",
       "        [1., 1., 1., 1.]], dtype=float32)>,\n",
       " <tf.Tensor: shape=(4, 3), dtype=float32, numpy=\n",
       " array([[1., 1., 1.],\n",
       "        [1., 1., 1.],\n",
       "        [1., 1., 1.],\n",
       "        [1., 1., 1.]], dtype=float32)>)"
      ]
     },
     "execution_count": 20,
     "metadata": {},
     "output_type": "execute_result"
    }
   ],
   "source": [
    "# Import operators from tensorflow\n",
    "from tensorflow import ones, matmul, multiply\n",
    "\n",
    "# Define tensors\n",
    "A0 = ones(1)\n",
    "A31 = ones([3, 1])\n",
    "A34 = ones([3, 4])\n",
    "A43 = ones([4, 3])\n",
    "\n",
    "A0, A31, A34, A43"
   ]
  },
  {
   "cell_type": "code",
   "execution_count": 21,
   "metadata": {
    "ExecuteTime": {
     "end_time": "2021-05-13T11:03:33.532291Z",
     "start_time": "2021-05-13T11:03:33.514590Z"
    }
   },
   "outputs": [
    {
     "data": {
      "text/plain": [
       "(<tf.Tensor: shape=(1,), dtype=float32, numpy=array([1.], dtype=float32)>,\n",
       " <tf.Tensor: shape=(3, 1), dtype=float32, numpy=\n",
       " array([[1.],\n",
       "        [1.],\n",
       "        [1.]], dtype=float32)>,\n",
       " <tf.Tensor: shape=(3, 4), dtype=float32, numpy=\n",
       " array([[1., 1., 1., 1.],\n",
       "        [1., 1., 1., 1.],\n",
       "        [1., 1., 1., 1.]], dtype=float32)>,\n",
       " <tf.Tensor: shape=(4, 3), dtype=float32, numpy=\n",
       " array([[1., 1., 1.],\n",
       "        [1., 1., 1.],\n",
       "        [1., 1., 1.],\n",
       "        [1., 1., 1.]], dtype=float32)>)"
      ]
     },
     "execution_count": 21,
     "metadata": {},
     "output_type": "execute_result"
    }
   ],
   "source": [
    "A0_A0 = multiply(A0, A0)\n",
    "A31_A31 = multiply(A31, A31)\n",
    "A34_A34 = multiply(A34, A34)\n",
    "A43_A43 = multiply(A43, A43)\n",
    "\n",
    "A0_A0, A31_A31, A34_A34, A43_A43"
   ]
  },
  {
   "cell_type": "code",
   "execution_count": 22,
   "metadata": {
    "ExecuteTime": {
     "end_time": "2021-05-13T11:03:33.659260Z",
     "start_time": "2021-05-13T11:03:33.563027Z"
    }
   },
   "outputs": [
    {
     "data": {
      "text/plain": [
       "(<tf.Tensor: shape=(3, 3), dtype=float32, numpy=\n",
       " array([[4., 4., 4.],\n",
       "        [4., 4., 4.],\n",
       "        [4., 4., 4.]], dtype=float32)>,\n",
       " <tf.Tensor: shape=(4, 4), dtype=float32, numpy=\n",
       " array([[3., 3., 3., 3.],\n",
       "        [3., 3., 3., 3.],\n",
       "        [3., 3., 3., 3.],\n",
       "        [3., 3., 3., 3.]], dtype=float32)>)"
      ]
     },
     "execution_count": 22,
     "metadata": {},
     "output_type": "execute_result"
    }
   ],
   "source": [
    "A34_A43 = matmul(A34, A43)\n",
    "A43_A34 = matmul(A43, A34)\n",
    "\n",
    "A34_A43, A43_A34"
   ]
  },
  {
   "cell_type": "markdown",
   "metadata": {},
   "source": [
    "## `[note-4]` Summing over tensor dimensions\n",
    "\n",
    "* The `reduce_sum()` operator sums over the dimensions of a tensor:\n",
    "\n",
    "    * `tensorreduce_sum(A)` sums over all the dimensions of A\n",
    "\n",
    "    * `reduce_sum(A, i)` sums over the dimension i"
   ]
  },
  {
   "cell_type": "markdown",
   "metadata": {},
   "source": [
    "## `[code-3]` Summing over tensor dimensions"
   ]
  },
  {
   "cell_type": "code",
   "execution_count": 23,
   "metadata": {
    "ExecuteTime": {
     "end_time": "2021-05-13T11:03:34.746413Z",
     "start_time": "2021-05-13T11:03:34.740339Z"
    }
   },
   "outputs": [
    {
     "data": {
      "text/plain": [
       "<tf.Tensor: shape=(2, 3, 4), dtype=float32, numpy=\n",
       "array([[[1., 1., 1., 1.],\n",
       "        [1., 1., 1., 1.],\n",
       "        [1., 1., 1., 1.]],\n",
       "\n",
       "       [[1., 1., 1., 1.],\n",
       "        [1., 1., 1., 1.],\n",
       "        [1., 1., 1., 1.]]], dtype=float32)>"
      ]
     },
     "execution_count": 23,
     "metadata": {},
     "output_type": "execute_result"
    }
   ],
   "source": [
    "# Import operations from tensorflow\n",
    "from tensorflow import ones, reduce_sum\n",
    "\n",
    "# Define a 2x3x4 tensor of ones\n",
    "A = ones([2, 3, 4])\n",
    "\n",
    "A"
   ]
  },
  {
   "cell_type": "code",
   "execution_count": 24,
   "metadata": {
    "ExecuteTime": {
     "end_time": "2021-05-13T11:03:34.784426Z",
     "start_time": "2021-05-13T11:03:34.778999Z"
    }
   },
   "outputs": [
    {
     "data": {
      "text/plain": [
       "<tf.Tensor: shape=(), dtype=float32, numpy=24.0>"
      ]
     },
     "execution_count": 24,
     "metadata": {},
     "output_type": "execute_result"
    }
   ],
   "source": [
    "# Sum over all dimensions\n",
    "B = reduce_sum(A)\n",
    "\n",
    "B"
   ]
  },
  {
   "cell_type": "code",
   "execution_count": 25,
   "metadata": {
    "ExecuteTime": {
     "end_time": "2021-05-13T11:03:34.824575Z",
     "start_time": "2021-05-13T11:03:34.817784Z"
    }
   },
   "outputs": [
    {
     "data": {
      "text/plain": [
       "(<tf.Tensor: shape=(3, 4), dtype=float32, numpy=\n",
       " array([[2., 2., 2., 2.],\n",
       "        [2., 2., 2., 2.],\n",
       "        [2., 2., 2., 2.]], dtype=float32)>,\n",
       " <tf.Tensor: shape=(2, 4), dtype=float32, numpy=\n",
       " array([[3., 3., 3., 3.],\n",
       "        [3., 3., 3., 3.]], dtype=float32)>,\n",
       " <tf.Tensor: shape=(2, 3), dtype=float32, numpy=\n",
       " array([[4., 4., 4.],\n",
       "        [4., 4., 4.]], dtype=float32)>)"
      ]
     },
     "execution_count": 25,
     "metadata": {},
     "output_type": "execute_result"
    }
   ],
   "source": [
    "# Sum over dimensions 0, 1, and 2\n",
    "B0 = reduce_sum(A, 0)\n",
    "B1 = reduce_sum(A, 1)\n",
    "B2 = reduce_sum(A, 2)\n",
    "\n",
    "B0, B1, B2"
   ]
  },
  {
   "cell_type": "markdown",
   "metadata": {
    "ExecuteTime": {
     "end_time": "2020-11-04T01:16:39.510817Z",
     "start_time": "2020-11-04T01:16:38.891993Z"
    }
   },
   "source": [
    "## `[task-1]` Performing element-wise multiplication\n",
    "\n",
    "$\\blacktriangleright$ **Package pre-loading**"
   ]
  },
  {
   "cell_type": "code",
   "execution_count": 26,
   "metadata": {
    "ExecuteTime": {
     "end_time": "2021-05-13T11:03:35.380198Z",
     "start_time": "2021-05-13T11:03:35.377766Z"
    }
   },
   "outputs": [],
   "source": [
    "from tensorflow import constant, ones_like, multiply"
   ]
  },
  {
   "cell_type": "markdown",
   "metadata": {
    "ExecuteTime": {
     "end_time": "2020-11-15T19:53:56.873396Z",
     "start_time": "2020-11-15T19:53:56.864286Z"
    }
   },
   "source": [
    "$\\blacktriangleright$ **Task practice**"
   ]
  },
  {
   "cell_type": "code",
   "execution_count": 27,
   "metadata": {
    "ExecuteTime": {
     "end_time": "2021-05-13T11:03:35.982773Z",
     "start_time": "2021-05-13T11:03:35.969460Z"
    }
   },
   "outputs": [
    {
     "name": "stdout",
     "output_type": "stream",
     "text": [
      "C1: [1 2 3 4]\n",
      "C23: [[1 2 3]\n",
      " [1 6 4]]\n"
     ]
    }
   ],
   "source": [
    "# Define tensors A1 and A23 as constants\n",
    "A1 = constant([1, 2, 3, 4])\n",
    "A23 = constant([[1, 2, 3], [1, 6, 4]])\n",
    "\n",
    "# Define B1 and B23 to have the correct shape\n",
    "B1 = ones_like([1, 2, 3, 4])\n",
    "B23 = ones_like([[1, 2, 3], [1, 6, 4]])\n",
    "\n",
    "# Perform element-wise multiplication\n",
    "C1 = multiply(A1, B1)\n",
    "C23 = multiply(A23, B23)\n",
    "\n",
    "# Print the tensors C1 and C23\n",
    "print('C1: {}'.format(C1.numpy()))\n",
    "print('C23: {}'.format(C23.numpy()))"
   ]
  },
  {
   "cell_type": "markdown",
   "metadata": {},
   "source": [
    "## `[task-2]` Making predictions with matrix multiplication\n",
    "\n",
    "$\\blacktriangleright$ **Package pre-loading**"
   ]
  },
  {
   "cell_type": "code",
   "execution_count": 28,
   "metadata": {
    "ExecuteTime": {
     "end_time": "2021-05-13T11:03:36.697995Z",
     "start_time": "2021-05-13T11:03:36.664921Z"
    }
   },
   "outputs": [],
   "source": [
    "from tensorflow import matmul"
   ]
  },
  {
   "cell_type": "markdown",
   "metadata": {},
   "source": [
    "$\\blacktriangleright$ **Task practice**"
   ]
  },
  {
   "cell_type": "code",
   "execution_count": 29,
   "metadata": {
    "ExecuteTime": {
     "end_time": "2021-05-13T11:03:37.344980Z",
     "start_time": "2021-05-13T11:03:37.336838Z"
    }
   },
   "outputs": [
    {
     "name": "stdout",
     "output_type": "stream",
     "text": [
      "[[-1687]\n",
      " [-3218]\n",
      " [-1933]\n",
      " [57850]]\n"
     ]
    }
   ],
   "source": [
    "# Define features, params, and bill as constants\n",
    "features = constant([[2, 24], [2, 26], [2, 57], [1, 37]])\n",
    "params = constant([[1000], [150]])\n",
    "bill = constant([[3913], [2682], [8617], [64400]])\n",
    "\n",
    "# Compute billpred using features and params\n",
    "billpred = matmul(features, params)\n",
    "\n",
    "# Compute and print the error\n",
    "error = bill - billpred\n",
    "print(error.numpy())"
   ]
  },
  {
   "cell_type": "markdown",
   "metadata": {},
   "source": [
    "## `[quiz-1]` Summing over tensor dimensions\n",
    "\n",
    "* There is a given matrix, `wealth`. This contains the value of the bond and stock wealth for five individuals in thousands of dollars.\n",
    "\n",
    "* `wealth` $= \\begin{bmatrix}11 & 50\\\\ 7 & 2\\\\ 4 & 60\\\\ 3 & 0\\\\ 25 & 10\\end{bmatrix}$\n",
    "\n",
    "* The first column corresponds to bonds, and the second corresponds to stocks. Each row gives the bond and stock wealth for a single individual. Use `wealth`, `reduce_sum()`, and `.numpy()` to determine which statements are correct about `wealth`.\n",
    "\n",
    "    $\\Box$ The individual in the first row has the highest total wealth (i.e., stocks + bonds).\n",
    "    \n",
    "    $\\Box$ Combined, the $5$ individuals hold $\\$ 50,000$ in stocks.\n",
    "    \n",
    "    $\\boxtimes$ Combined, the $5$ individuals hold $\\$ 50,000$ in bonds.\n",
    "    \n",
    "    $\\Box$ The individual in the second row has the lowest total wealth (i.e., stocks + bonds)."
   ]
  },
  {
   "cell_type": "markdown",
   "metadata": {},
   "source": [
    "$\\blacktriangleright$ **Package pre-loading**"
   ]
  },
  {
   "cell_type": "code",
   "execution_count": 30,
   "metadata": {
    "ExecuteTime": {
     "end_time": "2021-05-13T11:03:38.394694Z",
     "start_time": "2021-05-13T11:03:38.392120Z"
    }
   },
   "outputs": [],
   "source": [
    "import numpy as np\n",
    "from tensorflow import constant, reduce_sum"
   ]
  },
  {
   "cell_type": "markdown",
   "metadata": {},
   "source": [
    "$\\blacktriangleright$ **Data pre-loading**"
   ]
  },
  {
   "cell_type": "code",
   "execution_count": 31,
   "metadata": {
    "ExecuteTime": {
     "end_time": "2021-05-13T11:03:38.943703Z",
     "start_time": "2021-05-13T11:03:38.940226Z"
    }
   },
   "outputs": [],
   "source": [
    "wealth = constant([[11, 50], [7, 2], [4, 60], [3, 0], [25, 10]])"
   ]
  },
  {
   "cell_type": "markdown",
   "metadata": {},
   "source": [
    "$\\blacktriangleright$ **Quiz solution**"
   ]
  },
  {
   "cell_type": "code",
   "execution_count": 32,
   "metadata": {
    "ExecuteTime": {
     "end_time": "2021-05-13T11:03:39.527642Z",
     "start_time": "2021-05-13T11:03:39.523248Z"
    }
   },
   "outputs": [
    {
     "data": {
      "text/plain": [
       "<tf.Tensor: shape=(5, 2), dtype=int32, numpy=\n",
       "array([[11, 50],\n",
       "       [ 7,  2],\n",
       "       [ 4, 60],\n",
       "       [ 3,  0],\n",
       "       [25, 10]], dtype=int32)>"
      ]
     },
     "execution_count": 32,
     "metadata": {},
     "output_type": "execute_result"
    }
   ],
   "source": [
    "wealth"
   ]
  },
  {
   "cell_type": "code",
   "execution_count": 33,
   "metadata": {
    "ExecuteTime": {
     "end_time": "2021-05-13T11:03:39.562508Z",
     "start_time": "2021-05-13T11:03:39.557830Z"
    }
   },
   "outputs": [
    {
     "data": {
      "text/plain": [
       "array([[11, 50],\n",
       "       [ 7,  2],\n",
       "       [ 4, 60],\n",
       "       [ 3,  0],\n",
       "       [25, 10]], dtype=int32)"
      ]
     },
     "execution_count": 33,
     "metadata": {},
     "output_type": "execute_result"
    }
   ],
   "source": [
    "wealth.numpy()"
   ]
  },
  {
   "cell_type": "code",
   "execution_count": 34,
   "metadata": {
    "ExecuteTime": {
     "end_time": "2021-05-13T11:03:39.598661Z",
     "start_time": "2021-05-13T11:03:39.591986Z"
    }
   },
   "outputs": [
    {
     "data": {
      "text/plain": [
       "<tf.Tensor: shape=(), dtype=int32, numpy=172>"
      ]
     },
     "execution_count": 34,
     "metadata": {},
     "output_type": "execute_result"
    }
   ],
   "source": [
    "reduce_sum(wealth)"
   ]
  },
  {
   "cell_type": "code",
   "execution_count": 35,
   "metadata": {
    "ExecuteTime": {
     "end_time": "2021-05-13T11:03:39.629915Z",
     "start_time": "2021-05-13T11:03:39.624818Z"
    }
   },
   "outputs": [
    {
     "data": {
      "text/plain": [
       "<tf.Tensor: shape=(2,), dtype=int32, numpy=array([ 50, 122], dtype=int32)>"
      ]
     },
     "execution_count": 35,
     "metadata": {},
     "output_type": "execute_result"
    }
   ],
   "source": [
    "reduce_sum(wealth, 0)"
   ]
  },
  {
   "cell_type": "code",
   "execution_count": 36,
   "metadata": {
    "ExecuteTime": {
     "end_time": "2021-05-13T11:03:39.673069Z",
     "start_time": "2021-05-13T11:03:39.664041Z"
    }
   },
   "outputs": [
    {
     "name": "stdout",
     "output_type": "stream",
     "text": [
      "The 5 individuals hold $50,000 in bonds.\n",
      "The 5 individuals hold $122,000 in stocks.\n"
     ]
    }
   ],
   "source": [
    "sum_across_row = reduce_sum(wealth, 0)\n",
    "\n",
    "print('The 5 individuals hold ${},000 in bonds.'.format(\n",
    "    sum_across_row.numpy()[0]))\n",
    "print('The 5 individuals hold ${},000 in stocks.'.format(\n",
    "    sum_across_row.numpy()[1]))"
   ]
  },
  {
   "cell_type": "code",
   "execution_count": 37,
   "metadata": {
    "ExecuteTime": {
     "end_time": "2021-05-13T11:03:39.716631Z",
     "start_time": "2021-05-13T11:03:39.710915Z"
    }
   },
   "outputs": [
    {
     "data": {
      "text/plain": [
       "<tf.Tensor: shape=(5,), dtype=int32, numpy=array([61,  9, 64,  3, 35], dtype=int32)>"
      ]
     },
     "execution_count": 37,
     "metadata": {},
     "output_type": "execute_result"
    }
   ],
   "source": [
    "reduce_sum(wealth, 1)"
   ]
  },
  {
   "cell_type": "code",
   "execution_count": 38,
   "metadata": {
    "ExecuteTime": {
     "end_time": "2021-05-13T11:03:39.754198Z",
     "start_time": "2021-05-13T11:03:39.748250Z"
    }
   },
   "outputs": [
    {
     "name": "stdout",
     "output_type": "stream",
     "text": [
      "The individual of row 3 has the highest total wealth.\n",
      "The individual of row 4 has the lowest total wealth.\n"
     ]
    }
   ],
   "source": [
    "sum_across_column = reduce_sum(wealth, 1)\n",
    "max_value = sum_across_column.numpy().max()\n",
    "min_value = sum_across_column.numpy().min()\n",
    "\n",
    "print(\"The individual of row {} has the highest total wealth.\".format(\n",
    "    np.where(sum_across_column.numpy() == max_value)[0][0] + 1))\n",
    "print(\"The individual of row {} has the lowest total wealth.\".format(\n",
    "    np.where(sum_across_column.numpy() == min_value)[0][0] + 1))"
   ]
  },
  {
   "cell_type": "markdown",
   "metadata": {},
   "source": [
    "# Advanced operations"
   ]
  },
  {
   "cell_type": "markdown",
   "metadata": {
    "ExecuteTime": {
     "end_time": "2020-07-24T11:20:21.989524Z",
     "start_time": "2020-07-24T11:20:12.960881Z"
    }
   },
   "source": [
    "## `[note-1]` Overview of advanced operations\n",
    "\n",
    "![Overview of advanced operations](../Figures/4.%20Overview%20of%20advanced%20operations.jpg)"
   ]
  },
  {
   "cell_type": "markdown",
   "metadata": {
    "ExecuteTime": {
     "end_time": "2020-07-24T11:20:21.989524Z",
     "start_time": "2020-07-24T11:20:12.960881Z"
    }
   },
   "source": [
    "## `[note-2]` Finding the optimum\n",
    "\n",
    "* In many problems, it is in need to find the optimum of a function:\n",
    "\n",
    "    * **minimum**: the lowest value of a loss function\n",
    "    \n",
    "    * **maximum**: the highest value of the objective function\n",
    "\n",
    "* It is possible to do this by using the `gradient()` operation:\n",
    "\n",
    "    * **optimum**: find a point where gradient $= 0$\n",
    "    \n",
    "    * **minimum**: change in gradient $> 0$\n",
    "    \n",
    "    * **maximum**: change in gradient $< 0$"
   ]
  },
  {
   "cell_type": "markdown",
   "metadata": {
    "ExecuteTime": {
     "end_time": "2020-11-17T21:07:59.188932Z",
     "start_time": "2020-11-17T21:07:46.963803Z"
    }
   },
   "source": [
    "## `[note-3]` Calculating the gradient\n",
    "\n",
    "![Calculating the gradient](../Figures/5.%20Calculating%20the%20gradient.jpg)"
   ]
  },
  {
   "cell_type": "markdown",
   "metadata": {},
   "source": [
    "## `[code-1]` Gradients in TensorFlow"
   ]
  },
  {
   "cell_type": "code",
   "execution_count": 39,
   "metadata": {
    "ExecuteTime": {
     "end_time": "2021-05-13T11:03:42.476605Z",
     "start_time": "2021-05-13T11:03:42.469446Z"
    }
   },
   "outputs": [
    {
     "data": {
      "text/plain": [
       "<tf.Variable 'Variable:0' shape=() dtype=float32, numpy=-1.0>"
      ]
     },
     "execution_count": 39,
     "metadata": {},
     "output_type": "execute_result"
    }
   ],
   "source": [
    "# Import tensorflow under the alias tf\n",
    "import tensorflow as tf\n",
    "\n",
    "# Define x\n",
    "x = tf.Variable(-1.0)\n",
    "\n",
    "x"
   ]
  },
  {
   "cell_type": "code",
   "execution_count": 40,
   "metadata": {
    "ExecuteTime": {
     "end_time": "2021-05-13T11:03:42.516016Z",
     "start_time": "2021-05-13T11:03:42.507834Z"
    }
   },
   "outputs": [
    {
     "data": {
      "text/plain": [
       "<tf.Tensor: shape=(), dtype=float32, numpy=1.0>"
      ]
     },
     "execution_count": 40,
     "metadata": {},
     "output_type": "execute_result"
    }
   ],
   "source": [
    "# Define y within instance of GradientTape\n",
    "with tf.GradientTape() as tape:\n",
    "    tape.watch(x)\n",
    "    y = tf.multiply(x, x)\n",
    "\n",
    "y"
   ]
  },
  {
   "cell_type": "code",
   "execution_count": 41,
   "metadata": {
    "ExecuteTime": {
     "end_time": "2021-05-13T11:03:42.550384Z",
     "start_time": "2021-05-13T11:03:42.544593Z"
    }
   },
   "outputs": [
    {
     "name": "stdout",
     "output_type": "stream",
     "text": [
      "-2.0\n"
     ]
    }
   ],
   "source": [
    "# Evaluate the gradient of y at x = -1\n",
    "g = tape.gradient(y, x)\n",
    "print(g.numpy())"
   ]
  },
  {
   "cell_type": "markdown",
   "metadata": {
    "ExecuteTime": {
     "end_time": "2020-11-19T00:00:51.377724Z",
     "start_time": "2020-11-19T00:00:51.308111Z"
    }
   },
   "source": [
    "## `[note-4]` Images as tensors\n",
    "\n",
    "![Images as tensors](../Figures/6.%20Images%20as%20tensors.jpg)"
   ]
  },
  {
   "cell_type": "markdown",
   "metadata": {},
   "source": [
    "## `[note-5]` How to reshape a grayscale image\n",
    "\n",
    "![How to reshape a grayscale image](../Figures/7.%20How%20to%20reshape%20a%20grayscale%20image.jpg)"
   ]
  },
  {
   "cell_type": "markdown",
   "metadata": {},
   "source": [
    "## `[code-2]` How to reshape a grayscale image"
   ]
  },
  {
   "cell_type": "code",
   "execution_count": 42,
   "metadata": {
    "ExecuteTime": {
     "end_time": "2021-05-13T11:03:44.146480Z",
     "start_time": "2021-05-13T11:03:44.138484Z"
    }
   },
   "outputs": [
    {
     "data": {
      "text/plain": [
       "<tf.Tensor: shape=(2, 2), dtype=int32, numpy=\n",
       "array([[105, 201],\n",
       "       [ 69,  93]], dtype=int32)>"
      ]
     },
     "execution_count": 42,
     "metadata": {},
     "output_type": "execute_result"
    }
   ],
   "source": [
    "# Import tensorflow as alias tf\n",
    "import tensorflow as tf\n",
    "\n",
    "# Generate grayscale image\n",
    "gray = tf.random.uniform([2, 2], maxval=255, dtype='int32')\n",
    "\n",
    "gray"
   ]
  },
  {
   "cell_type": "code",
   "execution_count": 43,
   "metadata": {
    "ExecuteTime": {
     "end_time": "2021-05-13T11:03:44.184399Z",
     "start_time": "2021-05-13T11:03:44.178072Z"
    }
   },
   "outputs": [
    {
     "data": {
      "text/plain": [
       "<tf.Tensor: shape=(4, 1), dtype=int32, numpy=\n",
       "array([[105],\n",
       "       [201],\n",
       "       [ 69],\n",
       "       [ 93]], dtype=int32)>"
      ]
     },
     "execution_count": 43,
     "metadata": {},
     "output_type": "execute_result"
    }
   ],
   "source": [
    "# Reshape grayscale image\n",
    "gray = tf.reshape(gray, [2 * 2, 1])\n",
    "\n",
    "gray"
   ]
  },
  {
   "cell_type": "markdown",
   "metadata": {},
   "source": [
    "## `[note-6]` How to reshape a color image\n",
    "\n",
    "![How to reshape a color image](../Figures/8.%20How%20to%20reshape%20a%20color%20image.jpg)"
   ]
  },
  {
   "cell_type": "markdown",
   "metadata": {},
   "source": [
    "## `[code-3]` How to reshape a color image"
   ]
  },
  {
   "cell_type": "code",
   "execution_count": 44,
   "metadata": {
    "ExecuteTime": {
     "end_time": "2021-05-13T11:03:45.436996Z",
     "start_time": "2021-05-13T11:03:45.430169Z"
    }
   },
   "outputs": [
    {
     "data": {
      "text/plain": [
       "<tf.Tensor: shape=(2, 2, 3), dtype=int32, numpy=\n",
       "array([[[101, 165,  15],\n",
       "        [ 89,  69, 227]],\n",
       "\n",
       "       [[167,  39,  94],\n",
       "        [109, 216,  82]]], dtype=int32)>"
      ]
     },
     "execution_count": 44,
     "metadata": {},
     "output_type": "execute_result"
    }
   ],
   "source": [
    "# Import tensorflow as alias tf\n",
    "import tensorflow as tf\n",
    "\n",
    "# Generate color image\n",
    "color = tf.random.uniform([2, 2, 3], maxval=255, dtype='int32')\n",
    "\n",
    "color"
   ]
  },
  {
   "cell_type": "code",
   "execution_count": 45,
   "metadata": {
    "ExecuteTime": {
     "end_time": "2021-05-13T11:03:45.480612Z",
     "start_time": "2021-05-13T11:03:45.475646Z"
    }
   },
   "outputs": [
    {
     "data": {
      "text/plain": [
       "<tf.Tensor: shape=(4, 3), dtype=int32, numpy=\n",
       "array([[101, 165,  15],\n",
       "       [ 89,  69, 227],\n",
       "       [167,  39,  94],\n",
       "       [109, 216,  82]], dtype=int32)>"
      ]
     },
     "execution_count": 45,
     "metadata": {},
     "output_type": "execute_result"
    }
   ],
   "source": [
    "# Reshape color image\n",
    "color = tf.reshape(color, [2 * 2, 3])\n",
    "\n",
    "color"
   ]
  },
  {
   "cell_type": "markdown",
   "metadata": {},
   "source": [
    "## `[task-1]` Reshaping tensors\n",
    "\n",
    "$\\blacktriangleright$ **Task diagram**\n",
    "\n",
    "![Reshaping tensors](../Figures/9.%20Reshaping%20tensors.jpg)"
   ]
  },
  {
   "cell_type": "markdown",
   "metadata": {},
   "source": [
    "$\\blacktriangleright$ **Package pre-loading**"
   ]
  },
  {
   "cell_type": "code",
   "execution_count": 46,
   "metadata": {
    "ExecuteTime": {
     "end_time": "2021-05-13T11:03:46.566276Z",
     "start_time": "2021-05-13T11:03:46.564287Z"
    }
   },
   "outputs": [],
   "source": [
    "import numpy as np\n",
    "from tensorflow import reshape"
   ]
  },
  {
   "cell_type": "markdown",
   "metadata": {},
   "source": [
    "$\\blacktriangleright$ **Data pre-loading**"
   ]
  },
  {
   "cell_type": "code",
   "execution_count": 47,
   "metadata": {
    "ExecuteTime": {
     "end_time": "2021-05-13T11:03:47.127992Z",
     "start_time": "2021-05-13T11:03:47.119867Z"
    },
    "code_folding": []
   },
   "outputs": [],
   "source": [
    "gray_tensor = np.loadtxt(\"../Datasets/2. Gray tensor.csv\", delimiter=',')\n",
    "\n",
    "color_tensor = np.loadtxt(\"../Datasets/3. Color tensor.csv\", delimiter=',')\n",
    "color_tensor = color_tensor.reshape(color_tensor.shape[0],\n",
    "                                    color_tensor.shape[1] // 3, 3)"
   ]
  },
  {
   "cell_type": "markdown",
   "metadata": {
    "ExecuteTime": {
     "end_time": "2020-11-20T03:24:03.730451Z",
     "start_time": "2020-11-20T03:24:03.693589Z"
    }
   },
   "source": [
    "$\\blacktriangleright$ **Task practice**"
   ]
  },
  {
   "cell_type": "code",
   "execution_count": 48,
   "metadata": {
    "ExecuteTime": {
     "end_time": "2021-05-13T11:03:47.778437Z",
     "start_time": "2021-05-13T11:03:47.771738Z"
    }
   },
   "outputs": [],
   "source": [
    "# Reshape the grayscale image tensor into a vector\n",
    "gray_vector = reshape(gray_tensor, (-1, 1))\n",
    "\n",
    "# Reshape the color image tensor into a vector\n",
    "color_vector = reshape(color_tensor, (-1, 1))"
   ]
  },
  {
   "cell_type": "markdown",
   "metadata": {},
   "source": [
    "## `[task-2]` Optimizing with gradients"
   ]
  },
  {
   "cell_type": "markdown",
   "metadata": {},
   "source": [
    "$\\blacktriangleright$ **Task diagram**\n",
    "\n",
    "![Optimizing with gradients](../Figures/10.%20Optimizing%20with%20gradients.png)"
   ]
  },
  {
   "cell_type": "markdown",
   "metadata": {},
   "source": [
    "$\\blacktriangleright$ **Package pre-loading**"
   ]
  },
  {
   "cell_type": "code",
   "execution_count": 49,
   "metadata": {
    "ExecuteTime": {
     "end_time": "2021-05-13T11:03:49.483700Z",
     "start_time": "2021-05-13T11:03:49.480921Z"
    }
   },
   "outputs": [],
   "source": [
    "from tensorflow import Variable, GradientTape, multiply"
   ]
  },
  {
   "cell_type": "markdown",
   "metadata": {
    "ExecuteTime": {
     "end_time": "2020-11-20T01:48:44.413075Z",
     "start_time": "2020-11-20T01:48:44.399653Z"
    }
   },
   "source": [
    "$\\blacktriangleright$ **Task practice**"
   ]
  },
  {
   "cell_type": "code",
   "execution_count": 50,
   "metadata": {
    "ExecuteTime": {
     "end_time": "2021-05-13T11:03:50.071527Z",
     "start_time": "2021-05-13T11:03:50.062392Z"
    }
   },
   "outputs": [
    {
     "name": "stdout",
     "output_type": "stream",
     "text": [
      "-2.0\n",
      "2.0\n",
      "0.0\n"
     ]
    }
   ],
   "source": [
    "def compute_gradient(x0):\n",
    "    # Define x as a variable with an initial value of x0\n",
    "    x = Variable(x0)\n",
    "    with GradientTape() as tape:\n",
    "        tape.watch(x)\n",
    "        # Define y using the multiply operation\n",
    "        y = multiply(x, x)\n",
    "    # Return the gradient of y with respect to x\n",
    "    return tape.gradient(y, x).numpy()\n",
    "\n",
    "\n",
    "# Compute and print gradients at x = -1, 1, and 0\n",
    "print(compute_gradient(-1.0))\n",
    "print(compute_gradient(1.0))\n",
    "print(compute_gradient(0.0))"
   ]
  },
  {
   "cell_type": "markdown",
   "metadata": {},
   "source": [
    "## `[task-3]` Working with image data\n",
    "\n",
    "$\\blacktriangleright$ **Package pre-loading**"
   ]
  },
  {
   "cell_type": "code",
   "execution_count": 51,
   "metadata": {
    "ExecuteTime": {
     "end_time": "2021-05-13T11:03:50.628914Z",
     "start_time": "2021-05-13T11:03:50.626077Z"
    }
   },
   "outputs": [],
   "source": [
    "from tensorflow import matmul, reduce_sum"
   ]
  },
  {
   "cell_type": "markdown",
   "metadata": {},
   "source": [
    "$\\blacktriangleright$ **Data pre-loading**"
   ]
  },
  {
   "cell_type": "code",
   "execution_count": 52,
   "metadata": {
    "ExecuteTime": {
     "end_time": "2021-05-13T11:03:51.190692Z",
     "start_time": "2021-05-13T11:03:51.186641Z"
    }
   },
   "outputs": [],
   "source": [
    "letter = np.array([[1., 0., 1.], [1., 1., 0.], [1., 0., 1.]])\n",
    "\n",
    "model = np.array([[1., 0., -1.]])"
   ]
  },
  {
   "cell_type": "markdown",
   "metadata": {},
   "source": [
    "$\\blacktriangleright$ **Task practice**"
   ]
  },
  {
   "cell_type": "code",
   "execution_count": 53,
   "metadata": {
    "ExecuteTime": {
     "end_time": "2021-05-13T11:03:51.798832Z",
     "start_time": "2021-05-13T11:03:51.792598Z"
    }
   },
   "outputs": [
    {
     "name": "stdout",
     "output_type": "stream",
     "text": [
      "1.0\n"
     ]
    }
   ],
   "source": [
    "# Reshape model from a 1x3 to a 3x1 tensor\n",
    "model = reshape(model, (3, 1))\n",
    "\n",
    "# Multiply letter by model\n",
    "output = matmul(letter, model)\n",
    "\n",
    "# Sum over output and print prediction using the numpy method\n",
    "prediction = reduce_sum(output)\n",
    "print(prediction.numpy())"
   ]
  }
 ],
 "metadata": {
  "kernelspec": {
   "display_name": "Python 3",
   "language": "python",
   "name": "python3"
  },
  "language_info": {
   "codemirror_mode": {
    "name": "ipython",
    "version": 3
   },
   "file_extension": ".py",
   "mimetype": "text/x-python",
   "name": "python",
   "nbconvert_exporter": "python",
   "pygments_lexer": "ipython3",
   "version": "3.7.9"
  },
  "latex_envs": {
   "LaTeX_envs_menu_present": true,
   "autoclose": true,
   "autocomplete": true,
   "bibliofile": "biblio.bib",
   "cite_by": "apalike",
   "current_citInitial": 1,
   "eqLabelWithNumbers": true,
   "eqNumInitial": 1,
   "hotkeys": {
    "equation": "Ctrl-E",
    "itemize": "Ctrl-I"
   },
   "labels_anchors": false,
   "latex_user_defs": false,
   "report_style_numbering": true,
   "user_envs_cfg": true
  },
  "nbTranslate": {
   "displayLangs": [
    "*"
   ],
   "hotkey": "alt-t",
   "langInMainMenu": true,
   "sourceLang": "en",
   "targetLang": "fr",
   "useGoogleTranslate": true
  },
  "toc": {
   "base_numbering": 1,
   "nav_menu": {},
   "number_sections": true,
   "sideBar": true,
   "skip_h1_title": false,
   "title_cell": "Table of Contents",
   "title_sidebar": "Contents",
   "toc_cell": true,
   "toc_position": {
    "height": "calc(100% - 180px)",
    "left": "10px",
    "top": "150px",
    "width": "287.969px"
   },
   "toc_section_display": true,
   "toc_window_display": true
  },
  "varInspector": {
   "cols": {
    "lenName": 16,
    "lenType": 16,
    "lenVar": 40
   },
   "kernels_config": {
    "python": {
     "delete_cmd_postfix": "",
     "delete_cmd_prefix": "del ",
     "library": "var_list.py",
     "varRefreshCmd": "print(var_dic_list())"
    },
    "r": {
     "delete_cmd_postfix": ") ",
     "delete_cmd_prefix": "rm(",
     "library": "var_list.r",
     "varRefreshCmd": "cat(var_dic_list()) "
    }
   },
   "types_to_exclude": [
    "module",
    "function",
    "builtin_function_or_method",
    "instance",
    "_Feature"
   ],
   "window_display": true
  }
 },
 "nbformat": 4,
 "nbformat_minor": 4
}
