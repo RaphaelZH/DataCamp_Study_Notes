{
 "cells": [
  {
   "cell_type": "markdown",
   "metadata": {
    "toc": true
   },
   "source": [
    "<h1>Table of Contents<span class=\"tocSkip\"></span></h1>\n",
    "<div class=\"toc\"><ul class=\"toc-item\"><li><span><a href=\"#Defining-neural-networks-with-Keras\" data-toc-modified-id=\"Defining-neural-networks-with-Keras-1\"><span class=\"toc-item-num\">1&nbsp;&nbsp;</span>Defining neural networks with Keras</a></span><ul class=\"toc-item\"><li><span><a href=\"#[note-1]-Classifying-sign-language-letters\" data-toc-modified-id=\"[note-1]-Classifying-sign-language-letters-1.1\"><span class=\"toc-item-num\">1.1&nbsp;&nbsp;</span><code>[note-1]</code> Classifying sign language letters</a></span></li><li><span><a href=\"#[note-2]-The-sequential-API\" data-toc-modified-id=\"[note-2]-The-sequential-API-1.2\"><span class=\"toc-item-num\">1.2&nbsp;&nbsp;</span><code>[note-2]</code> The sequential API</a></span></li><li><span><a href=\"#[code-1]-Building-a-sequential-model\" data-toc-modified-id=\"[code-1]-Building-a-sequential-model-1.3\"><span class=\"toc-item-num\">1.3&nbsp;&nbsp;</span><code>[code-1]</code> Building a sequential model</a></span></li><li><span><a href=\"#[note-3]-The-functional-API\" data-toc-modified-id=\"[note-3]-The-functional-API-1.4\"><span class=\"toc-item-num\">1.4&nbsp;&nbsp;</span><code>[note-3]</code> The functional API</a></span></li><li><span><a href=\"#[code-2]-Using-the-functional-API\" data-toc-modified-id=\"[code-2]-Using-the-functional-API-1.5\"><span class=\"toc-item-num\">1.5&nbsp;&nbsp;</span><code>[code-2]</code> Using the functional API</a></span></li><li><span><a href=\"#[task-1]-The-sequential-model-in-Keras\" data-toc-modified-id=\"[task-1]-The-sequential-model-in-Keras-1.6\"><span class=\"toc-item-num\">1.6&nbsp;&nbsp;</span><code>[task-1]</code> The sequential model in Keras</a></span></li><li><span><a href=\"#[task-2]-Compiling-a-sequential-model\" data-toc-modified-id=\"[task-2]-Compiling-a-sequential-model-1.7\"><span class=\"toc-item-num\">1.7&nbsp;&nbsp;</span><code>[task-2]</code> Compiling a sequential model</a></span></li><li><span><a href=\"#[task-3]-Defining-a-multiple-input-model\" data-toc-modified-id=\"[task-3]-Defining-a-multiple-input-model-1.8\"><span class=\"toc-item-num\">1.8&nbsp;&nbsp;</span><code>[task-3]</code> Defining a multiple-input model</a></span></li></ul></li><li><span><a href=\"#Training-and-validation-with-Keras\" data-toc-modified-id=\"Training-and-validation-with-Keras-2\"><span class=\"toc-item-num\">2&nbsp;&nbsp;</span>Training and validation with Keras</a></span><ul class=\"toc-item\"><li><span><a href=\"#[note-1]-Overview-of-training-and-evaluation\" data-toc-modified-id=\"[note-1]-Overview-of-training-and-evaluation-2.1\"><span class=\"toc-item-num\">2.1&nbsp;&nbsp;</span><code>[note-1]</code> Overview of training and evaluation</a></span></li><li><span><a href=\"#[code-1]-How-to-train-a-model\" data-toc-modified-id=\"[code-1]-How-to-train-a-model-2.2\"><span class=\"toc-item-num\">2.2&nbsp;&nbsp;</span><code>[code-1]</code> How to train a model</a></span></li><li><span><a href=\"#[note-2]-The-fit()-operation\" data-toc-modified-id=\"[note-2]-The-fit()-operation-2.3\"><span class=\"toc-item-num\">2.3&nbsp;&nbsp;</span><code>[note-2]</code> The <code>fit()</code> operation</a></span></li><li><span><a href=\"#[note-3]-Batch-size-and-epochs\" data-toc-modified-id=\"[note-3]-Batch-size-and-epochs-2.4\"><span class=\"toc-item-num\">2.4&nbsp;&nbsp;</span><code>[note-3]</code> Batch size and epochs</a></span></li><li><span><a href=\"#[note-4]-Performing-validation\" data-toc-modified-id=\"[note-4]-Performing-validation-2.5\"><span class=\"toc-item-num\">2.5&nbsp;&nbsp;</span><code>[note-4]</code> Performing validation</a></span></li><li><span><a href=\"#[code-2]-Performing-validation\" data-toc-modified-id=\"[code-2]-Performing-validation-2.6\"><span class=\"toc-item-num\">2.6&nbsp;&nbsp;</span><code>[code-2]</code> Performing validation</a></span></li><li><span><a href=\"#[code-3]-Changing-the-metric\" data-toc-modified-id=\"[code-3]-Changing-the-metric-2.7\"><span class=\"toc-item-num\">2.7&nbsp;&nbsp;</span><code>[code-3]</code> Changing the metric</a></span></li><li><span><a href=\"#[note-5]-The-evaluate()-operation\" data-toc-modified-id=\"[note-5]-The-evaluate()-operation-2.8\"><span class=\"toc-item-num\">2.8&nbsp;&nbsp;</span><code>[note-5]</code> The <code>evaluate()</code> operation</a></span></li><li><span><a href=\"#[code-4]-The-evaluate()-operation\" data-toc-modified-id=\"[code-4]-The-evaluate()-operation-2.9\"><span class=\"toc-item-num\">2.9&nbsp;&nbsp;</span><code>[code-4]</code> The <code>evaluate()</code> operation</a></span></li><li><span><a href=\"#[task-1]-Training-with-Keras\" data-toc-modified-id=\"[task-1]-Training-with-Keras-2.10\"><span class=\"toc-item-num\">2.10&nbsp;&nbsp;</span><code>[task-1]</code> Training with Keras</a></span></li><li><span><a href=\"#[task-2]-Metrics-and-validation-with-Keras\" data-toc-modified-id=\"[task-2]-Metrics-and-validation-with-Keras-2.11\"><span class=\"toc-item-num\">2.11&nbsp;&nbsp;</span><code>[task-2]</code> Metrics and validation with Keras</a></span></li></ul></li><li><span><a href=\"#Training-models-with-the-Estimators-API\" data-toc-modified-id=\"Training-models-with-the-Estimators-API-3\"><span class=\"toc-item-num\">3&nbsp;&nbsp;</span>Training models with the Estimators API</a></span></li><li><span><a href=\"#Conclusion\" data-toc-modified-id=\"Conclusion-4\"><span class=\"toc-item-num\">4&nbsp;&nbsp;</span>Conclusion</a></span></li><li><span><a href=\"#Requirements\" data-toc-modified-id=\"Requirements-5\"><span class=\"toc-item-num\">5&nbsp;&nbsp;</span>Requirements</a></span></li></ul></div>"
   ]
  },
  {
   "cell_type": "markdown",
   "metadata": {},
   "source": [
    "# Defining neural networks with Keras"
   ]
  },
  {
   "cell_type": "markdown",
   "metadata": {},
   "source": [
    "## `[note-1]` Classifying sign language letters\n",
    "\n",
    "![Classifying sign language letters](../Figures/1.%20Classifying%20sign%20language%20letters.jpg)"
   ]
  },
  {
   "cell_type": "markdown",
   "metadata": {},
   "source": [
    "## `[note-2]` The sequential API\n",
    "\n",
    "* Input layer.\n",
    "\n",
    "* Hidden layers.\n",
    "\n",
    "* Output layer.\n",
    "\n",
    "* Ordered in sequence.\n",
    "\n",
    "![The sequential API](../Figures/2.%20The%20sequential%20API.jpg)"
   ]
  },
  {
   "cell_type": "markdown",
   "metadata": {},
   "source": [
    "## `[code-1]` Building a sequential model"
   ]
  },
  {
   "cell_type": "code",
   "execution_count": null,
   "metadata": {
    "ExecuteTime": {
     "end_time": "2021-05-22T21:37:14.488604Z",
     "start_time": "2021-05-22T21:37:00.643495Z"
    }
   },
   "outputs": [],
   "source": [
    "# Import tensorflow\n",
    "from tensorflow import keras\n",
    "\n",
    "# Define a sequential model\n",
    "model = keras.Sequential()"
   ]
  },
  {
   "cell_type": "code",
   "execution_count": null,
   "metadata": {
    "ExecuteTime": {
     "end_time": "2021-05-22T21:37:15.004677Z",
     "start_time": "2021-05-22T21:37:14.916112Z"
    }
   },
   "outputs": [],
   "source": [
    "# Define first hidden layer\n",
    "model.add(keras.layers.Dense(16, activation='relu', input_shape=(28 * 28, )))"
   ]
  },
  {
   "cell_type": "code",
   "execution_count": null,
   "metadata": {
    "ExecuteTime": {
     "end_time": "2021-05-22T21:37:54.189837Z",
     "start_time": "2021-05-22T21:37:54.168916Z"
    }
   },
   "outputs": [],
   "source": [
    "# Define second hidden layer\n",
    "model.add(keras.layers.Dense(8, activation='relu'))"
   ]
  },
  {
   "cell_type": "code",
   "execution_count": null,
   "metadata": {
    "ExecuteTime": {
     "end_time": "2021-05-22T21:37:56.961648Z",
     "start_time": "2021-05-22T21:37:56.946612Z"
    }
   },
   "outputs": [],
   "source": [
    "# Define output layer\n",
    "model.add(keras.layers.Dense(4, activation='softmax'))"
   ]
  },
  {
   "cell_type": "code",
   "execution_count": null,
   "metadata": {
    "ExecuteTime": {
     "end_time": "2021-05-22T21:37:59.863708Z",
     "start_time": "2021-05-22T21:37:59.850105Z"
    }
   },
   "outputs": [],
   "source": [
    "# Compile the model\n",
    "model.compile('adam', loss='categorical_crossentropy')"
   ]
  },
  {
   "cell_type": "code",
   "execution_count": null,
   "metadata": {
    "ExecuteTime": {
     "end_time": "2021-05-22T21:38:04.294377Z",
     "start_time": "2021-05-22T21:38:04.259878Z"
    }
   },
   "outputs": [],
   "source": [
    "# Summarize the model\n",
    "print(model.summary())"
   ]
  },
  {
   "cell_type": "markdown",
   "metadata": {},
   "source": [
    "## `[note-3]` The functional API\n",
    "\n",
    "![The functional API](../Figures/3.%20The%20functional%20API.jpg)"
   ]
  },
  {
   "cell_type": "markdown",
   "metadata": {},
   "source": [
    "## `[code-2]` Using the functional API"
   ]
  },
  {
   "cell_type": "code",
   "execution_count": null,
   "metadata": {
    "ExecuteTime": {
     "end_time": "2021-05-22T21:46:54.007515Z",
     "start_time": "2021-05-22T21:46:54.002664Z"
    }
   },
   "outputs": [],
   "source": [
    "# Import tensorflow\n",
    "import tensorflow as tf\n",
    "\n",
    "# Define model 1 input layer shape\n",
    "model1_inputs = tf.keras.Input(shape=(28 * 28, ))\n",
    "\n",
    "# Define model 2 input layer shape\n",
    "model2_inputs = tf.keras.Input(shape=(10, ))"
   ]
  },
  {
   "cell_type": "code",
   "execution_count": null,
   "metadata": {
    "ExecuteTime": {
     "end_time": "2021-05-22T21:49:08.041339Z",
     "start_time": "2021-05-22T21:49:08.018093Z"
    }
   },
   "outputs": [],
   "source": [
    "# Define layer 1 for model 1\n",
    "model1_layer1 = tf.keras.layers.Dense(12, activation='relu')(model1_inputs)\n",
    "\n",
    "# Define layer 2 for model 1\n",
    "model1_layer2 = tf.keras.layers.Dense(4, activation='softmax')(model1_layer1)"
   ]
  },
  {
   "cell_type": "code",
   "execution_count": null,
   "metadata": {
    "ExecuteTime": {
     "end_time": "2021-05-22T21:50:25.318117Z",
     "start_time": "2021-05-22T21:50:25.299464Z"
    }
   },
   "outputs": [],
   "source": [
    "# Define layer 1 for model 2\n",
    "model2_layer1 = tf.keras.layers.Dense(8, activation='relu')(model2_inputs)\n",
    "\n",
    "# Define layer 2 for model 2\n",
    "model2_layer2 = tf.keras.layers.Dense(4, activation='softmax')(model2_layer1)"
   ]
  },
  {
   "cell_type": "code",
   "execution_count": null,
   "metadata": {
    "ExecuteTime": {
     "end_time": "2021-05-22T21:50:26.105984Z",
     "start_time": "2021-05-22T21:50:26.095550Z"
    }
   },
   "outputs": [],
   "source": [
    "# Merge model 1 and model 2\n",
    "merged = tf.keras.layers.add([model1_layer2, model2_layer2])"
   ]
  },
  {
   "cell_type": "code",
   "execution_count": null,
   "metadata": {
    "ExecuteTime": {
     "end_time": "2021-05-22T21:51:26.302823Z",
     "start_time": "2021-05-22T21:51:26.285194Z"
    }
   },
   "outputs": [],
   "source": [
    "# Define a functional model\n",
    "model = tf.keras.Model(inputs=[model1_inputs, model2_inputs], outputs=merged)\n",
    "\n",
    "# Compile the model\n",
    "model.compile('adam', loss='categorical_crossentropy')\n",
    "\n",
    "print(model.summary())"
   ]
  },
  {
   "cell_type": "markdown",
   "metadata": {},
   "source": [
    "## `[task-1]` The sequential model in Keras\n",
    "\n",
    "$\\blacktriangleright$ **Package pre-loading**"
   ]
  },
  {
   "cell_type": "code",
   "execution_count": null,
   "metadata": {
    "ExecuteTime": {
     "end_time": "2021-05-24T01:40:52.664693Z",
     "start_time": "2021-05-24T01:40:46.041713Z"
    }
   },
   "outputs": [],
   "source": [
    "from tensorflow import keras"
   ]
  },
  {
   "cell_type": "markdown",
   "metadata": {},
   "source": [
    "$\\blacktriangleright$ **Task practice**"
   ]
  },
  {
   "cell_type": "code",
   "execution_count": null,
   "metadata": {
    "ExecuteTime": {
     "end_time": "2021-05-24T01:40:52.870204Z",
     "start_time": "2021-05-24T01:40:52.790465Z"
    }
   },
   "outputs": [],
   "source": [
    "# Define a Keras sequential model\n",
    "model = keras.Sequential()\n",
    "\n",
    "# Define the first dense layer\n",
    "model.add(keras.layers.Dense(16, activation='relu', input_shape=(784, )))\n",
    "\n",
    "# Define the second dense layer\n",
    "model.add(keras.layers.Dense(8, activation='relu'))\n",
    "\n",
    "# Define the output layer\n",
    "model.add(keras.layers.Dense(4, activation='softmax'))\n",
    "\n",
    "# Print the model architecture\n",
    "print(model.summary())"
   ]
  },
  {
   "cell_type": "markdown",
   "metadata": {},
   "source": [
    "## `[task-2]` Compiling a sequential model\n",
    "\n",
    "$\\blacktriangleright$ **Code pre-loading**"
   ]
  },
  {
   "cell_type": "code",
   "execution_count": null,
   "metadata": {
    "ExecuteTime": {
     "end_time": "2021-05-24T01:40:53.052947Z",
     "start_time": "2021-05-24T01:40:53.045091Z"
    }
   },
   "outputs": [],
   "source": [
    "model = keras.Sequential()"
   ]
  },
  {
   "cell_type": "markdown",
   "metadata": {},
   "source": [
    "$\\blacktriangleright$ **Task practice**"
   ]
  },
  {
   "cell_type": "code",
   "execution_count": null,
   "metadata": {
    "ExecuteTime": {
     "end_time": "2021-05-24T01:40:53.272369Z",
     "start_time": "2021-05-24T01:40:53.230207Z"
    }
   },
   "outputs": [],
   "source": [
    "# Define the first dense layer\n",
    "model.add(keras.layers.Dense(16, activation='sigmoid', input_shape=(784, )))\n",
    "\n",
    "# Apply dropout to the first layer's output\n",
    "model.add(keras.layers.Dropout(0.25))\n",
    "\n",
    "# Define the output layer\n",
    "model.add(keras.layers.Dense(4, activation='softmax'))\n",
    "\n",
    "# Compile the model\n",
    "model.compile('adam', loss='categorical_crossentropy')\n",
    "\n",
    "# Print a model summary\n",
    "print(model.summary())"
   ]
  },
  {
   "cell_type": "markdown",
   "metadata": {},
   "source": [
    "## `[task-3]` Defining a multiple-input model\n",
    "\n",
    "$\\blacktriangleright$ **Code pre-loading**"
   ]
  },
  {
   "cell_type": "code",
   "execution_count": null,
   "metadata": {
    "ExecuteTime": {
     "end_time": "2021-05-24T01:40:53.436513Z",
     "start_time": "2021-05-24T01:40:53.428635Z"
    }
   },
   "outputs": [],
   "source": [
    "m1_inputs = keras.Input(shape=(784))\n",
    "\n",
    "m2_inputs = keras.Input(shape=(784))"
   ]
  },
  {
   "cell_type": "markdown",
   "metadata": {},
   "source": [
    "$\\blacktriangleright$ **Task practice**"
   ]
  },
  {
   "cell_type": "code",
   "execution_count": null,
   "metadata": {
    "ExecuteTime": {
     "end_time": "2021-05-24T01:40:53.679215Z",
     "start_time": "2021-05-24T01:40:53.628678Z"
    }
   },
   "outputs": [],
   "source": [
    "# For model 1, pass the input layer to layer 1 and layer 1 to layer 2\n",
    "m1_layer1 = keras.layers.Dense(12, activation='sigmoid')(m1_inputs)\n",
    "m1_layer2 = keras.layers.Dense(4, activation='softmax')(m1_layer1)\n",
    "\n",
    "# For model 2, pass the input layer to layer 1 and layer 1 to layer 2\n",
    "m2_layer1 = keras.layers.Dense(12, activation='relu')(m2_inputs)\n",
    "m2_layer2 = keras.layers.Dense(4, activation='softmax')(m2_layer1)\n",
    "\n",
    "# Merge model outputs and define a functional model\n",
    "merged = keras.layers.add([m1_layer2, m2_layer2])\n",
    "model = keras.Model(inputs=[m1_inputs, m2_inputs], outputs=merged)\n",
    "\n",
    "# Print a model summary\n",
    "print(model.summary())"
   ]
  },
  {
   "cell_type": "markdown",
   "metadata": {},
   "source": [
    "# Training and validation with Keras"
   ]
  },
  {
   "cell_type": "markdown",
   "metadata": {},
   "source": [
    "## `[note-1]` Overview of training and evaluation\n",
    "\n",
    "1. Load and clean data.\n",
    "\n",
    "2. Define the model.\n",
    "\n",
    "3. Train and validate the model.\n",
    "\n",
    "4. Evaluate the model."
   ]
  },
  {
   "cell_type": "markdown",
   "metadata": {},
   "source": [
    "## `[code-1]` How to train a model"
   ]
  },
  {
   "cell_type": "code",
   "execution_count": null,
   "metadata": {
    "ExecuteTime": {
     "end_time": "2021-05-29T07:17:04.343780Z",
     "start_time": "2021-05-29T07:17:04.335456Z"
    }
   },
   "outputs": [],
   "source": [
    "# Import tensorflow\n",
    "import tensorflow as tf\n",
    "\n",
    "# Define a sequential model\n",
    "model = tf.keras.Sequential()"
   ]
  },
  {
   "cell_type": "code",
   "execution_count": null,
   "metadata": {
    "ExecuteTime": {
     "end_time": "2021-05-29T07:17:05.061858Z",
     "start_time": "2021-05-29T07:17:05.030489Z"
    }
   },
   "outputs": [],
   "source": [
    "# Define the hidden layer\n",
    "model.add(tf.keras.layers.Dense(16, activation='relu', input_shape=(784, )))"
   ]
  },
  {
   "cell_type": "code",
   "execution_count": null,
   "metadata": {
    "ExecuteTime": {
     "end_time": "2021-05-29T07:17:05.729902Z",
     "start_time": "2021-05-29T07:17:05.712850Z"
    }
   },
   "outputs": [],
   "source": [
    "# Define the output layer\n",
    "model.add(tf.keras.layers.Dense(4, activation='softmax'))"
   ]
  },
  {
   "cell_type": "code",
   "execution_count": null,
   "metadata": {
    "ExecuteTime": {
     "end_time": "2021-05-29T07:17:06.290759Z",
     "start_time": "2021-05-29T07:17:06.279745Z"
    }
   },
   "outputs": [],
   "source": [
    "# Compile model\n",
    "model.compile('adam', loss='categorical_crossentropy')"
   ]
  },
  {
   "cell_type": "code",
   "execution_count": null,
   "metadata": {
    "ExecuteTime": {
     "end_time": "2021-05-29T07:17:07.708569Z",
     "start_time": "2021-05-29T07:17:06.750538Z"
    }
   },
   "outputs": [],
   "source": [
    "import pandas as pd\n",
    "from tensorflow.keras.utils import to_categorical\n",
    "\n",
    "df = pd.read_csv(\"../Datasets/1. Sign language MNIST.csv\", header=None)\n",
    "image_features = df.iloc[:, 1:].to_numpy()\n",
    "image_labels = to_categorical(df.iloc[:, 0])\n",
    "\n",
    "# Train model\n",
    "model.fit(image_features, image_labels)"
   ]
  },
  {
   "cell_type": "markdown",
   "metadata": {},
   "source": [
    "## `[note-2]` The `fit()` operation\n",
    "\n",
    "* Required arguments:\n",
    "\n",
    "    * `x` (features)\n",
    "    \n",
    "    * `y` (labels)\n",
    "\n",
    "* Many optional arguments:\n",
    "\n",
    "    * `batch_size`\n",
    "    \n",
    "    * `epochs`\n",
    "    \n",
    "    * `validation_split`"
   ]
  },
  {
   "cell_type": "markdown",
   "metadata": {},
   "source": [
    "## `[note-3]` Batch size and epochs\n",
    "\n",
    "![Batch size and epochs](../Figures/4.%20Batch%20size%20and%20epochs.jpg)"
   ]
  },
  {
   "cell_type": "markdown",
   "metadata": {},
   "source": [
    "## `[note-4]` Performing validation\n",
    "\n",
    "![Performing validation](../Figures/5.%20Performing%20validation.jpg)"
   ]
  },
  {
   "cell_type": "markdown",
   "metadata": {},
   "source": [
    "## `[code-2]` Performing validation"
   ]
  },
  {
   "cell_type": "code",
   "execution_count": null,
   "metadata": {
    "ExecuteTime": {
     "end_time": "2021-05-29T07:17:13.536587Z",
     "start_time": "2021-05-29T07:17:11.363601Z"
    }
   },
   "outputs": [],
   "source": [
    "features, labels = image_features, image_labels\n",
    "\n",
    "# Train model with validation split\n",
    "model.fit(features, labels, epochs=10, validation_split=0.20)"
   ]
  },
  {
   "cell_type": "markdown",
   "metadata": {},
   "source": [
    "## `[code-3]` Changing the metric"
   ]
  },
  {
   "cell_type": "code",
   "execution_count": null,
   "metadata": {
    "ExecuteTime": {
     "end_time": "2021-05-29T07:17:14.236099Z",
     "start_time": "2021-05-29T07:17:14.209516Z"
    }
   },
   "outputs": [],
   "source": [
    "# Recomile the model with the accuracy metric\n",
    "model.compile('adam', loss='categorical_crossentropy', metrics=['accuracy'])"
   ]
  },
  {
   "cell_type": "code",
   "execution_count": null,
   "metadata": {
    "ExecuteTime": {
     "end_time": "2021-05-29T07:17:17.297217Z",
     "start_time": "2021-05-29T07:17:15.024121Z"
    }
   },
   "outputs": [],
   "source": [
    "# Train model with validation split\n",
    "model.fit(features, labels, epochs=10, validation_split=0.20)"
   ]
  },
  {
   "cell_type": "markdown",
   "metadata": {},
   "source": [
    "## `[note-5]` The `evaluate()` operation\n",
    "\n",
    "![The `evaluate()` operation](../Figures/6.%20The%20`evaluate()`%20operation.jpg)"
   ]
  },
  {
   "cell_type": "markdown",
   "metadata": {},
   "source": [
    "## `[code-4]` The `evaluate()` operation"
   ]
  },
  {
   "cell_type": "code",
   "execution_count": null,
   "metadata": {
    "ExecuteTime": {
     "end_time": "2021-05-29T07:17:19.703854Z",
     "start_time": "2021-05-29T07:17:17.783034Z"
    }
   },
   "outputs": [],
   "source": [
    "from sklearn.model_selection import train_test_split\n",
    "\n",
    "train_features, test_features, train_labels, test_labels = train_test_split(\n",
    "    features, labels, test_size=0.2, random_state=42)\n",
    "\n",
    "model.fit(features, labels, epochs=10, validation_split=0.30)\n",
    "\n",
    "# Evaluate the test set\n",
    "model.evaluate(test_features, test_labels)"
   ]
  },
  {
   "cell_type": "markdown",
   "metadata": {},
   "source": [
    "## `[task-1]` Training with Keras\n",
    "\n",
    "$\\blacktriangleright$ **Package pre-loading**"
   ]
  },
  {
   "cell_type": "code",
   "execution_count": 1,
   "metadata": {
    "ExecuteTime": {
     "end_time": "2021-05-29T22:41:07.530211Z",
     "start_time": "2021-05-29T22:40:49.793586Z"
    }
   },
   "outputs": [],
   "source": [
    "import numpy as py\n",
    "from tensorflow import keras"
   ]
  },
  {
   "cell_type": "markdown",
   "metadata": {},
   "source": [
    "$\\blacktriangleright$ **Data pre-loading**"
   ]
  },
  {
   "cell_type": "code",
   "execution_count": 2,
   "metadata": {
    "ExecuteTime": {
     "end_time": "2021-05-29T22:41:08.095942Z",
     "start_time": "2021-05-29T22:41:07.625118Z"
    }
   },
   "outputs": [],
   "source": [
    "sign_language_features = np.loadtxt('../Datasets/2. Sign language features.csv', delimiter=',')\n",
    "sign_language_labels = np.loadtxt('../Datasets/3. Sign language labels.csv', delimiter=',', dtype = np.float32)"
   ]
  },
  {
   "cell_type": "markdown",
   "metadata": {
    "ExecuteTime": {
     "end_time": "2021-05-28T21:45:54.245040Z",
     "start_time": "2021-05-28T21:45:54.215151Z"
    }
   },
   "source": [
    "$\\blacktriangleright$ **Task practice**"
   ]
  },
  {
   "cell_type": "code",
   "execution_count": 3,
   "metadata": {
    "ExecuteTime": {
     "end_time": "2021-05-29T22:41:08.714823Z",
     "start_time": "2021-05-29T22:41:08.170540Z"
    }
   },
   "outputs": [
    {
     "name": "stdout",
     "output_type": "stream",
     "text": [
      "Epoch 1/5\n",
      "32/32 [==============================] - 0s 864us/step - loss: 1.3828\n",
      "Epoch 2/5\n",
      "32/32 [==============================] - 0s 1ms/step - loss: 1.2719\n",
      "Epoch 3/5\n",
      "32/32 [==============================] - 0s 1ms/step - loss: 1.1895\n",
      "Epoch 4/5\n",
      "32/32 [==============================] - 0s 1ms/step - loss: 1.1015\n",
      "Epoch 5/5\n",
      "32/32 [==============================] - 0s 1ms/step - loss: 0.9985\n"
     ]
    },
    {
     "data": {
      "text/plain": [
       "<tensorflow.python.keras.callbacks.History at 0x7f926d80b750>"
      ]
     },
     "execution_count": 3,
     "metadata": {},
     "output_type": "execute_result"
    }
   ],
   "source": [
    "# Define a sequential model\n",
    "model = keras.Sequential()\n",
    "\n",
    "# Define a hidden layer\n",
    "model.add(keras.layers.Dense(16, activation='relu', input_shape=(784,)))\n",
    "\n",
    "# Define the output layer\n",
    "model.add(keras.layers.Dense(4, activation='softmax'))\n",
    "\n",
    "# Compile the model\n",
    "model.compile('SGD', loss='categorical_crossentropy')\n",
    "\n",
    "# Complete the fitting operation\n",
    "model.fit(sign_language_features, sign_language_labels, epochs=5)"
   ]
  },
  {
   "cell_type": "markdown",
   "metadata": {
    "ExecuteTime": {
     "end_time": "2021-05-29T22:33:09.346332Z",
     "start_time": "2021-05-29T22:33:09.337956Z"
    }
   },
   "source": [
    "## `[task-2]` Metrics and validation with Keras\n",
    "\n",
    "$\\blacktriangleright$ **Data pre-loading**"
   ]
  },
  {
   "cell_type": "code",
   "execution_count": 4,
   "metadata": {
    "ExecuteTime": {
     "end_time": "2021-05-29T22:41:08.758024Z",
     "start_time": "2021-05-29T22:41:08.754220Z"
    }
   },
   "outputs": [],
   "source": [
    "sign_language_features = sign_language_features[1 : , :]\n",
    "sign_language_labels = sign_language_labels[1 : , :]"
   ]
  },
  {
   "cell_type": "markdown",
   "metadata": {
    "ExecuteTime": {
     "end_time": "2021-05-29T22:39:26.206403Z",
     "start_time": "2021-05-29T22:39:26.198103Z"
    }
   },
   "source": [
    "$\\blacktriangleright$ **Task practice**"
   ]
  },
  {
   "cell_type": "code",
   "execution_count": 5,
   "metadata": {
    "ExecuteTime": {
     "end_time": "2021-05-29T22:41:10.691773Z",
     "start_time": "2021-05-29T22:41:08.818279Z"
    }
   },
   "outputs": [
    {
     "name": "stdout",
     "output_type": "stream",
     "text": [
      "Epoch 1/10\n",
      "29/29 [==============================] - 1s 20ms/step - loss: 1.3442 - accuracy: 0.4034 - val_loss: 1.3590 - val_accuracy: 0.2600\n",
      "Epoch 2/10\n",
      "29/29 [==============================] - 0s 3ms/step - loss: 1.0452 - accuracy: 0.6323 - val_loss: 1.0836 - val_accuracy: 0.5100\n",
      "Epoch 3/10\n",
      "29/29 [==============================] - 0s 3ms/step - loss: 0.8701 - accuracy: 0.7053 - val_loss: 0.8760 - val_accuracy: 0.5800\n",
      "Epoch 4/10\n",
      "29/29 [==============================] - 0s 2ms/step - loss: 0.7728 - accuracy: 0.7680 - val_loss: 0.8283 - val_accuracy: 0.6900\n",
      "Epoch 5/10\n",
      "29/29 [==============================] - 0s 2ms/step - loss: 0.6833 - accuracy: 0.8514 - val_loss: 0.6320 - val_accuracy: 0.7300\n",
      "Epoch 6/10\n",
      "29/29 [==============================] - 0s 3ms/step - loss: 0.5782 - accuracy: 0.8562 - val_loss: 0.7370 - val_accuracy: 0.7300\n",
      "Epoch 7/10\n",
      "29/29 [==============================] - 0s 3ms/step - loss: 0.5168 - accuracy: 0.8739 - val_loss: 0.6102 - val_accuracy: 0.7400\n",
      "Epoch 8/10\n",
      "29/29 [==============================] - 0s 3ms/step - loss: 0.4525 - accuracy: 0.9179 - val_loss: 0.4484 - val_accuracy: 0.9300\n",
      "Epoch 9/10\n",
      "29/29 [==============================] - 0s 3ms/step - loss: 0.3874 - accuracy: 0.9383 - val_loss: 0.4785 - val_accuracy: 0.8200\n",
      "Epoch 10/10\n",
      "29/29 [==============================] - 0s 5ms/step - loss: 0.3406 - accuracy: 0.9519 - val_loss: 0.6339 - val_accuracy: 0.7200\n"
     ]
    },
    {
     "data": {
      "text/plain": [
       "<tensorflow.python.keras.callbacks.History at 0x7f926da6d810>"
      ]
     },
     "execution_count": 5,
     "metadata": {},
     "output_type": "execute_result"
    }
   ],
   "source": [
    "# Define sequential model\n",
    "model = keras.Sequential()\n",
    "\n",
    "# Define the first layer\n",
    "model.add(keras.layers.Dense(32, activation = 'sigmoid', input_shape=(784, )))\n",
    "\n",
    "# Add activation function to classifier\n",
    "model.add(keras.layers.Dense(4, activation='softmax'))\n",
    "\n",
    "# Set the optimizer, loss function, and metrics\n",
    "model.compile(optimizer='RMSprop', loss='categorical_crossentropy', metrics=['accuracy'])\n",
    "\n",
    "# Add the number of epochs and the validation split\n",
    "model.fit(sign_language_features, sign_language_labels, epochs=10, validation_split=0.1)"
   ]
  },
  {
   "cell_type": "markdown",
   "metadata": {},
   "source": [
    "## `[task-3]` Overfitting detection\n",
    "\n"
   ]
  },
  {
   "cell_type": "code",
   "execution_count": 6,
   "metadata": {
    "ExecuteTime": {
     "end_time": "2021-05-30T19:48:38.019479Z",
     "start_time": "2021-05-30T19:48:37.831995Z"
    }
   },
   "outputs": [
    {
     "data": {
      "text/plain": [
       "array([[0.58506224, 0.58677686, 0.59259259, ..., 0.71372549, 0.71764706,\n",
       "        0.71764706],\n",
       "       [0.6473029 , 0.64876033, 0.65843621, ..., 0.77647059, 0.75686275,\n",
       "        0.71372549],\n",
       "       [0.26141079, 0.10743802, 0.26748971, ..., 0.7254902 , 0.7254902 ,\n",
       "        0.7254902 ],\n",
       "       ...,\n",
       "       [0.5560166 , 0.56198347, 0.55967078, ..., 0.67058824, 0.67843137,\n",
       "        0.6745098 ],\n",
       "       [0.61825726, 0.6322314 , 0.65020576, ..., 0.88627451, 0.82745098,\n",
       "        0.70980392],\n",
       "       [0.60995851, 0.62396694, 0.63786008, ..., 0.56078431, 0.81176471,\n",
       "        0.81176471]])"
      ]
     },
     "execution_count": 6,
     "metadata": {},
     "output_type": "execute_result"
    }
   ],
   "source": [
    "sign_language_features[:26, :]"
   ]
  },
  {
   "cell_type": "code",
   "execution_count": null,
   "metadata": {},
   "outputs": [],
   "source": []
  },
  {
   "cell_type": "code",
   "execution_count": null,
   "metadata": {},
   "outputs": [],
   "source": []
  },
  {
   "cell_type": "markdown",
   "metadata": {},
   "source": [
    "# Training models with the Estimators API"
   ]
  },
  {
   "cell_type": "markdown",
   "metadata": {},
   "source": [
    "# Conclusion"
   ]
  },
  {
   "cell_type": "code",
   "execution_count": null,
   "metadata": {},
   "outputs": [],
   "source": []
  },
  {
   "cell_type": "code",
   "execution_count": null,
   "metadata": {},
   "outputs": [],
   "source": []
  },
  {
   "cell_type": "code",
   "execution_count": null,
   "metadata": {},
   "outputs": [],
   "source": []
  },
  {
   "cell_type": "code",
   "execution_count": null,
   "metadata": {},
   "outputs": [],
   "source": [
    "sign"
   ]
  },
  {
   "cell_type": "code",
   "execution_count": null,
   "metadata": {},
   "outputs": [],
   "source": []
  },
  {
   "cell_type": "code",
   "execution_count": null,
   "metadata": {},
   "outputs": [],
   "source": []
  },
  {
   "cell_type": "code",
   "execution_count": null,
   "metadata": {},
   "outputs": [],
   "source": []
  },
  {
   "cell_type": "markdown",
   "metadata": {},
   "source": [
    "# Requirements"
   ]
  },
  {
   "cell_type": "code",
   "execution_count": null,
   "metadata": {
    "ExecuteTime": {
     "end_time": "2021-05-19T21:29:14.436742Z",
     "start_time": "2021-05-19T21:29:14.425513Z"
    }
   },
   "outputs": [],
   "source": [
    "from platform import python_version\n",
    "import matplotlib\n",
    "import seaborn\n",
    "\n",
    "python_version = ('python=={}'.format(python_version()))\n",
    "tensorflow_version = ('tensorflow=={}'.format(tf.__version__))\n",
    "pandas_version = ('pandas=={}'.format(pd.__version__))\n",
    "numpy_version = ('numpy=={}'.format(np.__version__))\n",
    "matplotlib_version = ('matplotlib=={}'.format(matplotlib.__version__))\n",
    "seaborn_version = ('seaborn=={}'.format(seaborn.__version__))\n",
    "\n",
    "writepath = '../../requirements.txt'\n",
    "requirements = []\n",
    "packages = [\n",
    "    tensorflow_version, pandas_version, numpy_version, matplotlib_version,\n",
    "    seaborn_version\n",
    "]\n",
    "\n",
    "try:\n",
    "    with open(writepath, 'r+') as file:\n",
    "        for line in file:\n",
    "            requirements.append(line.strip('\\n'))\n",
    "except:\n",
    "    with open(writepath, 'w+') as file:\n",
    "        for line in file:\n",
    "            requirements.append(line.strip('\\n'))\n",
    "\n",
    "with open(writepath, 'a') as file:\n",
    "    for package in packages:\n",
    "        if package not in requirements:\n",
    "            file.write(package + '\\n')\n",
    "\n",
    "max_characters = len(python_version)\n",
    "for package in packages:\n",
    "    if max(max_characters, len(package)) > max_characters:\n",
    "        max_characters = max(max_characters, len(package))\n",
    "\n",
    "print('#' * (max_characters + 8))\n",
    "print('#' * 2 + ' ' * (max_characters + 4) + '#' * 2)\n",
    "print('#' * 2 + ' ' * 2 + python_version + ' ' *\n",
    "      (max_characters - len(python_version) + 2) + '#' * 2)\n",
    "for package in packages:\n",
    "    print('#' * 2 + ' ' * 2 + package + ' ' *\n",
    "          (max_characters - len(package) + 2) + '#' * 2)\n",
    "print('#' * 2 + ' ' * (max_characters + 4) + '#' * 2)\n",
    "print('#' * (max_characters + 8))"
   ]
  }
 ],
 "metadata": {
  "kernelspec": {
   "display_name": "Python 3",
   "language": "python",
   "name": "python3"
  },
  "language_info": {
   "codemirror_mode": {
    "name": "ipython",
    "version": 3
   },
   "file_extension": ".py",
   "mimetype": "text/x-python",
   "name": "python",
   "nbconvert_exporter": "python",
   "pygments_lexer": "ipython3",
   "version": "3.7.9"
  },
  "latex_envs": {
   "LaTeX_envs_menu_present": true,
   "autoclose": true,
   "autocomplete": true,
   "bibliofile": "biblio.bib",
   "cite_by": "apalike",
   "current_citInitial": 1,
   "eqLabelWithNumbers": true,
   "eqNumInitial": 1,
   "hotkeys": {
    "equation": "Ctrl-E",
    "itemize": "Ctrl-I"
   },
   "labels_anchors": false,
   "latex_user_defs": false,
   "report_style_numbering": true,
   "user_envs_cfg": true
  },
  "nbTranslate": {
   "displayLangs": [
    "*"
   ],
   "hotkey": "alt-t",
   "langInMainMenu": true,
   "sourceLang": "en",
   "targetLang": "fr",
   "useGoogleTranslate": true
  },
  "toc": {
   "base_numbering": 1,
   "nav_menu": {},
   "number_sections": true,
   "sideBar": true,
   "skip_h1_title": false,
   "title_cell": "Table of Contents",
   "title_sidebar": "Contents",
   "toc_cell": true,
   "toc_position": {
    "height": "calc(100% - 180px)",
    "left": "10px",
    "top": "150px",
    "width": "287.969px"
   },
   "toc_section_display": true,
   "toc_window_display": true
  },
  "varInspector": {
   "cols": {
    "lenName": 16,
    "lenType": 16,
    "lenVar": 40
   },
   "kernels_config": {
    "python": {
     "delete_cmd_postfix": "",
     "delete_cmd_prefix": "del ",
     "library": "var_list.py",
     "varRefreshCmd": "print(var_dic_list())"
    },
    "r": {
     "delete_cmd_postfix": ") ",
     "delete_cmd_prefix": "rm(",
     "library": "var_list.r",
     "varRefreshCmd": "cat(var_dic_list()) "
    }
   },
   "types_to_exclude": [
    "module",
    "function",
    "builtin_function_or_method",
    "instance",
    "_Feature"
   ],
   "window_display": true
  }
 },
 "nbformat": 4,
 "nbformat_minor": 4
}
