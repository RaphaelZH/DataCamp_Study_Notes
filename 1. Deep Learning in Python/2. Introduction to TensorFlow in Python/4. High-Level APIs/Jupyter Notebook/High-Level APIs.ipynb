{
 "cells": [
  {
   "cell_type": "markdown",
   "metadata": {
    "toc": true
   },
   "source": [
    "<h1>Table of Contents<span class=\"tocSkip\"></span></h1>\n",
    "<div class=\"toc\"><ul class=\"toc-item\"><li><span><a href=\"#Defining-neural-networks-with-Keras\" data-toc-modified-id=\"Defining-neural-networks-with-Keras-1\"><span class=\"toc-item-num\">1&nbsp;&nbsp;</span>Defining neural networks with Keras</a></span><ul class=\"toc-item\"><li><span><a href=\"#[note-1]-Classifying-sign-language-letters\" data-toc-modified-id=\"[note-1]-Classifying-sign-language-letters-1.1\"><span class=\"toc-item-num\">1.1&nbsp;&nbsp;</span><code>[note-1]</code> Classifying sign language letters</a></span></li><li><span><a href=\"#[note-2]-The-sequential-API\" data-toc-modified-id=\"[note-2]-The-sequential-API-1.2\"><span class=\"toc-item-num\">1.2&nbsp;&nbsp;</span><code>[note-2]</code> The sequential API</a></span></li><li><span><a href=\"#[code-1]-Building-a-sequential-model\" data-toc-modified-id=\"[code-1]-Building-a-sequential-model-1.3\"><span class=\"toc-item-num\">1.3&nbsp;&nbsp;</span><code>[code-1]</code> Building a sequential model</a></span></li><li><span><a href=\"#[note-3]-The-functional-API\" data-toc-modified-id=\"[note-3]-The-functional-API-1.4\"><span class=\"toc-item-num\">1.4&nbsp;&nbsp;</span><code>[note-3]</code> The functional API</a></span></li><li><span><a href=\"#[code-2]-Using-the-functional-API\" data-toc-modified-id=\"[code-2]-Using-the-functional-API-1.5\"><span class=\"toc-item-num\">1.5&nbsp;&nbsp;</span><code>[code-2]</code> Using the functional API</a></span></li><li><span><a href=\"#[task-1]-The-sequential-model-in-Keras\" data-toc-modified-id=\"[task-1]-The-sequential-model-in-Keras-1.6\"><span class=\"toc-item-num\">1.6&nbsp;&nbsp;</span><code>[task-1]</code> The sequential model in Keras</a></span></li><li><span><a href=\"#[task-2]-Compiling-a-sequential-model\" data-toc-modified-id=\"[task-2]-Compiling-a-sequential-model-1.7\"><span class=\"toc-item-num\">1.7&nbsp;&nbsp;</span><code>[task-2]</code> Compiling a sequential model</a></span></li><li><span><a href=\"#[task-3]-Defining-a-multiple-input-model\" data-toc-modified-id=\"[task-3]-Defining-a-multiple-input-model-1.8\"><span class=\"toc-item-num\">1.8&nbsp;&nbsp;</span><code>[task-3]</code> Defining a multiple-input model</a></span></li></ul></li><li><span><a href=\"#Training-and-validation-with-Keras\" data-toc-modified-id=\"Training-and-validation-with-Keras-2\"><span class=\"toc-item-num\">2&nbsp;&nbsp;</span>Training and validation with Keras</a></span><ul class=\"toc-item\"><li><span><a href=\"#[note-1]-Overview-of-training-and-evaluation\" data-toc-modified-id=\"[note-1]-Overview-of-training-and-evaluation-2.1\"><span class=\"toc-item-num\">2.1&nbsp;&nbsp;</span><code>[note-1]</code> Overview of training and evaluation</a></span></li><li><span><a href=\"#[code-1]-How-to-train-a-model\" data-toc-modified-id=\"[code-1]-How-to-train-a-model-2.2\"><span class=\"toc-item-num\">2.2&nbsp;&nbsp;</span><code>[code-1]</code> How to train a model</a></span></li><li><span><a href=\"#[note-2]-The-fit()-operation\" data-toc-modified-id=\"[note-2]-The-fit()-operation-2.3\"><span class=\"toc-item-num\">2.3&nbsp;&nbsp;</span><code>[note-2]</code> The <code>fit()</code> operation</a></span></li><li><span><a href=\"#[note-3]-Batch-size-and-epochs\" data-toc-modified-id=\"[note-3]-Batch-size-and-epochs-2.4\"><span class=\"toc-item-num\">2.4&nbsp;&nbsp;</span><code>[note-3]</code> Batch size and epochs</a></span></li><li><span><a href=\"#[note-4]-Performing-validation\" data-toc-modified-id=\"[note-4]-Performing-validation-2.5\"><span class=\"toc-item-num\">2.5&nbsp;&nbsp;</span><code>[note-4]</code> Performing validation</a></span></li><li><span><a href=\"#[code-2]-Performing-validation\" data-toc-modified-id=\"[code-2]-Performing-validation-2.6\"><span class=\"toc-item-num\">2.6&nbsp;&nbsp;</span><code>[code-2]</code> Performing validation</a></span></li><li><span><a href=\"#[code-3]-Changing-the-metric\" data-toc-modified-id=\"[code-3]-Changing-the-metric-2.7\"><span class=\"toc-item-num\">2.7&nbsp;&nbsp;</span><code>[code-3]</code> Changing the metric</a></span></li><li><span><a href=\"#[note-5]-The-evaluate()-operation\" data-toc-modified-id=\"[note-5]-The-evaluate()-operation-2.8\"><span class=\"toc-item-num\">2.8&nbsp;&nbsp;</span><code>[note-5]</code> The <code>evaluate()</code> operation</a></span></li><li><span><a href=\"#[code-4]-The-evaluate()-operation\" data-toc-modified-id=\"[code-4]-The-evaluate()-operation-2.9\"><span class=\"toc-item-num\">2.9&nbsp;&nbsp;</span><code>[code-4]</code> The <code>evaluate()</code> operation</a></span></li><li><span><a href=\"#[task-1]-Training-with-Keras\" data-toc-modified-id=\"[task-1]-Training-with-Keras-2.10\"><span class=\"toc-item-num\">2.10&nbsp;&nbsp;</span><code>[task-1]</code> Training with Keras</a></span></li><li><span><a href=\"#[task-2]-Metrics-and-validation-with-Keras\" data-toc-modified-id=\"[task-2]-Metrics-and-validation-with-Keras-2.11\"><span class=\"toc-item-num\">2.11&nbsp;&nbsp;</span><code>[task-2]</code> Metrics and validation with Keras</a></span></li><li><span><a href=\"#[task-3]-Overfitting-detection\" data-toc-modified-id=\"[task-3]-Overfitting-detection-2.12\"><span class=\"toc-item-num\">2.12&nbsp;&nbsp;</span><code>[task-3]</code> Overfitting detection</a></span></li><li><span><a href=\"#[task-4]-Evaluating-models\" data-toc-modified-id=\"[task-4]-Evaluating-models-2.13\"><span class=\"toc-item-num\">2.13&nbsp;&nbsp;</span><code>[task-4]</code> Evaluating models</a></span></li></ul></li><li><span><a href=\"#Training-models-with-the-Estimators-API\" data-toc-modified-id=\"Training-models-with-the-Estimators-API-3\"><span class=\"toc-item-num\">3&nbsp;&nbsp;</span>Training models with the Estimators API</a></span></li><li><span><a href=\"#Conclusion\" data-toc-modified-id=\"Conclusion-4\"><span class=\"toc-item-num\">4&nbsp;&nbsp;</span>Conclusion</a></span></li><li><span><a href=\"#Requirements\" data-toc-modified-id=\"Requirements-5\"><span class=\"toc-item-num\">5&nbsp;&nbsp;</span>Requirements</a></span></li></ul></div>"
   ]
  },
  {
   "cell_type": "markdown",
   "metadata": {},
   "source": [
    "# Defining neural networks with Keras"
   ]
  },
  {
   "cell_type": "markdown",
   "metadata": {},
   "source": [
    "## `[note-1]` Classifying sign language letters\n",
    "\n",
    "![Classifying sign language letters](../Figures/1.%20Classifying%20sign%20language%20letters.jpg)"
   ]
  },
  {
   "cell_type": "markdown",
   "metadata": {},
   "source": [
    "## `[note-2]` The sequential API\n",
    "\n",
    "* Input layer.\n",
    "\n",
    "* Hidden layers.\n",
    "\n",
    "* Output layer.\n",
    "\n",
    "* Ordered in sequence.\n",
    "\n",
    "![The sequential API](../Figures/2.%20The%20sequential%20API.jpg)"
   ]
  },
  {
   "cell_type": "markdown",
   "metadata": {},
   "source": [
    "## `[code-1]` Building a sequential model"
   ]
  },
  {
   "cell_type": "code",
   "execution_count": null,
   "metadata": {
    "ExecuteTime": {
     "end_time": "2021-05-22T21:37:14.488604Z",
     "start_time": "2021-05-22T21:37:00.643495Z"
    }
   },
   "outputs": [],
   "source": [
    "# Import tensorflow\n",
    "from tensorflow import keras\n",
    "\n",
    "# Define a sequential model\n",
    "model = keras.Sequential()"
   ]
  },
  {
   "cell_type": "code",
   "execution_count": null,
   "metadata": {
    "ExecuteTime": {
     "end_time": "2021-05-22T21:37:15.004677Z",
     "start_time": "2021-05-22T21:37:14.916112Z"
    }
   },
   "outputs": [],
   "source": [
    "# Define first hidden layer\n",
    "model.add(keras.layers.Dense(16, activation='relu', input_shape=(28 * 28, )))"
   ]
  },
  {
   "cell_type": "code",
   "execution_count": null,
   "metadata": {
    "ExecuteTime": {
     "end_time": "2021-05-22T21:37:54.189837Z",
     "start_time": "2021-05-22T21:37:54.168916Z"
    }
   },
   "outputs": [],
   "source": [
    "# Define second hidden layer\n",
    "model.add(keras.layers.Dense(8, activation='relu'))"
   ]
  },
  {
   "cell_type": "code",
   "execution_count": null,
   "metadata": {
    "ExecuteTime": {
     "end_time": "2021-05-22T21:37:56.961648Z",
     "start_time": "2021-05-22T21:37:56.946612Z"
    }
   },
   "outputs": [],
   "source": [
    "# Define output layer\n",
    "model.add(keras.layers.Dense(4, activation='softmax'))"
   ]
  },
  {
   "cell_type": "code",
   "execution_count": null,
   "metadata": {
    "ExecuteTime": {
     "end_time": "2021-05-22T21:37:59.863708Z",
     "start_time": "2021-05-22T21:37:59.850105Z"
    }
   },
   "outputs": [],
   "source": [
    "# Compile the model\n",
    "model.compile('adam', loss='categorical_crossentropy')"
   ]
  },
  {
   "cell_type": "code",
   "execution_count": null,
   "metadata": {
    "ExecuteTime": {
     "end_time": "2021-05-22T21:38:04.294377Z",
     "start_time": "2021-05-22T21:38:04.259878Z"
    }
   },
   "outputs": [],
   "source": [
    "# Summarize the model\n",
    "print(model.summary())"
   ]
  },
  {
   "cell_type": "markdown",
   "metadata": {},
   "source": [
    "## `[note-3]` The functional API\n",
    "\n",
    "![The functional API](../Figures/3.%20The%20functional%20API.jpg)"
   ]
  },
  {
   "cell_type": "markdown",
   "metadata": {},
   "source": [
    "## `[code-2]` Using the functional API"
   ]
  },
  {
   "cell_type": "code",
   "execution_count": null,
   "metadata": {
    "ExecuteTime": {
     "end_time": "2021-05-22T21:46:54.007515Z",
     "start_time": "2021-05-22T21:46:54.002664Z"
    }
   },
   "outputs": [],
   "source": [
    "# Import tensorflow\n",
    "import tensorflow as tf\n",
    "\n",
    "# Define model 1 input layer shape\n",
    "model1_inputs = tf.keras.Input(shape=(28 * 28, ))\n",
    "\n",
    "# Define model 2 input layer shape\n",
    "model2_inputs = tf.keras.Input(shape=(10, ))"
   ]
  },
  {
   "cell_type": "code",
   "execution_count": null,
   "metadata": {
    "ExecuteTime": {
     "end_time": "2021-05-22T21:49:08.041339Z",
     "start_time": "2021-05-22T21:49:08.018093Z"
    }
   },
   "outputs": [],
   "source": [
    "# Define layer 1 for model 1\n",
    "model1_layer1 = tf.keras.layers.Dense(12, activation='relu')(model1_inputs)\n",
    "\n",
    "# Define layer 2 for model 1\n",
    "model1_layer2 = tf.keras.layers.Dense(4, activation='softmax')(model1_layer1)"
   ]
  },
  {
   "cell_type": "code",
   "execution_count": null,
   "metadata": {
    "ExecuteTime": {
     "end_time": "2021-05-22T21:50:25.318117Z",
     "start_time": "2021-05-22T21:50:25.299464Z"
    }
   },
   "outputs": [],
   "source": [
    "# Define layer 1 for model 2\n",
    "model2_layer1 = tf.keras.layers.Dense(8, activation='relu')(model2_inputs)\n",
    "\n",
    "# Define layer 2 for model 2\n",
    "model2_layer2 = tf.keras.layers.Dense(4, activation='softmax')(model2_layer1)"
   ]
  },
  {
   "cell_type": "code",
   "execution_count": null,
   "metadata": {
    "ExecuteTime": {
     "end_time": "2021-05-22T21:50:26.105984Z",
     "start_time": "2021-05-22T21:50:26.095550Z"
    }
   },
   "outputs": [],
   "source": [
    "# Merge model 1 and model 2\n",
    "merged = tf.keras.layers.add([model1_layer2, model2_layer2])"
   ]
  },
  {
   "cell_type": "code",
   "execution_count": null,
   "metadata": {
    "ExecuteTime": {
     "end_time": "2021-05-22T21:51:26.302823Z",
     "start_time": "2021-05-22T21:51:26.285194Z"
    }
   },
   "outputs": [],
   "source": [
    "# Define a functional model\n",
    "model = tf.keras.Model(inputs=[model1_inputs, model2_inputs], outputs=merged)\n",
    "\n",
    "# Compile the model\n",
    "model.compile('adam', loss='categorical_crossentropy')\n",
    "\n",
    "print(model.summary())"
   ]
  },
  {
   "cell_type": "markdown",
   "metadata": {},
   "source": [
    "## `[task-1]` The sequential model in Keras\n",
    "\n",
    "$\\blacktriangleright$ **Package pre-loading**"
   ]
  },
  {
   "cell_type": "code",
   "execution_count": null,
   "metadata": {
    "ExecuteTime": {
     "end_time": "2021-05-24T01:40:52.664693Z",
     "start_time": "2021-05-24T01:40:46.041713Z"
    }
   },
   "outputs": [],
   "source": [
    "from tensorflow import keras"
   ]
  },
  {
   "cell_type": "markdown",
   "metadata": {},
   "source": [
    "$\\blacktriangleright$ **Task practice**"
   ]
  },
  {
   "cell_type": "code",
   "execution_count": null,
   "metadata": {
    "ExecuteTime": {
     "end_time": "2021-05-24T01:40:52.870204Z",
     "start_time": "2021-05-24T01:40:52.790465Z"
    }
   },
   "outputs": [],
   "source": [
    "# Define a Keras sequential model\n",
    "model = keras.Sequential()\n",
    "\n",
    "# Define the first dense layer\n",
    "model.add(keras.layers.Dense(16, activation='relu', input_shape=(784, )))\n",
    "\n",
    "# Define the second dense layer\n",
    "model.add(keras.layers.Dense(8, activation='relu'))\n",
    "\n",
    "# Define the output layer\n",
    "model.add(keras.layers.Dense(4, activation='softmax'))\n",
    "\n",
    "# Print the model architecture\n",
    "print(model.summary())"
   ]
  },
  {
   "cell_type": "markdown",
   "metadata": {},
   "source": [
    "## `[task-2]` Compiling a sequential model\n",
    "\n",
    "$\\blacktriangleright$ **Code pre-loading**"
   ]
  },
  {
   "cell_type": "code",
   "execution_count": null,
   "metadata": {
    "ExecuteTime": {
     "end_time": "2021-05-24T01:40:53.052947Z",
     "start_time": "2021-05-24T01:40:53.045091Z"
    }
   },
   "outputs": [],
   "source": [
    "model = keras.Sequential()"
   ]
  },
  {
   "cell_type": "markdown",
   "metadata": {},
   "source": [
    "$\\blacktriangleright$ **Task practice**"
   ]
  },
  {
   "cell_type": "code",
   "execution_count": null,
   "metadata": {
    "ExecuteTime": {
     "end_time": "2021-05-24T01:40:53.272369Z",
     "start_time": "2021-05-24T01:40:53.230207Z"
    }
   },
   "outputs": [],
   "source": [
    "# Define the first dense layer\n",
    "model.add(keras.layers.Dense(16, activation='sigmoid', input_shape=(784, )))\n",
    "\n",
    "# Apply dropout to the first layer's output\n",
    "model.add(keras.layers.Dropout(0.25))\n",
    "\n",
    "# Define the output layer\n",
    "model.add(keras.layers.Dense(4, activation='softmax'))\n",
    "\n",
    "# Compile the model\n",
    "model.compile('adam', loss='categorical_crossentropy')\n",
    "\n",
    "# Print a model summary\n",
    "print(model.summary())"
   ]
  },
  {
   "cell_type": "markdown",
   "metadata": {},
   "source": [
    "## `[task-3]` Defining a multiple-input model\n",
    "\n",
    "$\\blacktriangleright$ **Code pre-loading**"
   ]
  },
  {
   "cell_type": "code",
   "execution_count": null,
   "metadata": {
    "ExecuteTime": {
     "end_time": "2021-05-24T01:40:53.436513Z",
     "start_time": "2021-05-24T01:40:53.428635Z"
    }
   },
   "outputs": [],
   "source": [
    "m1_inputs = keras.Input(shape=(784))\n",
    "\n",
    "m2_inputs = keras.Input(shape=(784))"
   ]
  },
  {
   "cell_type": "markdown",
   "metadata": {},
   "source": [
    "$\\blacktriangleright$ **Task practice**"
   ]
  },
  {
   "cell_type": "code",
   "execution_count": null,
   "metadata": {
    "ExecuteTime": {
     "end_time": "2021-05-24T01:40:53.679215Z",
     "start_time": "2021-05-24T01:40:53.628678Z"
    }
   },
   "outputs": [],
   "source": [
    "# For model 1, pass the input layer to layer 1 and layer 1 to layer 2\n",
    "m1_layer1 = keras.layers.Dense(12, activation='sigmoid')(m1_inputs)\n",
    "m1_layer2 = keras.layers.Dense(4, activation='softmax')(m1_layer1)\n",
    "\n",
    "# For model 2, pass the input layer to layer 1 and layer 1 to layer 2\n",
    "m2_layer1 = keras.layers.Dense(12, activation='relu')(m2_inputs)\n",
    "m2_layer2 = keras.layers.Dense(4, activation='softmax')(m2_layer1)\n",
    "\n",
    "# Merge model outputs and define a functional model\n",
    "merged = keras.layers.add([m1_layer2, m2_layer2])\n",
    "model = keras.Model(inputs=[m1_inputs, m2_inputs], outputs=merged)\n",
    "\n",
    "# Print a model summary\n",
    "print(model.summary())"
   ]
  },
  {
   "cell_type": "markdown",
   "metadata": {},
   "source": [
    "# Training and validation with Keras"
   ]
  },
  {
   "cell_type": "markdown",
   "metadata": {},
   "source": [
    "## `[note-1]` Overview of training and evaluation\n",
    "\n",
    "1. Load and clean data.\n",
    "\n",
    "2. Define the model.\n",
    "\n",
    "3. Train and validate the model.\n",
    "\n",
    "4. Evaluate the model."
   ]
  },
  {
   "cell_type": "markdown",
   "metadata": {},
   "source": [
    "## `[code-1]` How to train a model"
   ]
  },
  {
   "cell_type": "code",
   "execution_count": null,
   "metadata": {
    "ExecuteTime": {
     "end_time": "2021-05-31T01:07:22.224045Z",
     "start_time": "2021-05-31T01:07:22.216489Z"
    }
   },
   "outputs": [],
   "source": [
    "# Import tensorflow\n",
    "import tensorflow as tf\n",
    "\n",
    "# Define a sequential model\n",
    "model = tf.keras.Sequential()"
   ]
  },
  {
   "cell_type": "code",
   "execution_count": null,
   "metadata": {
    "ExecuteTime": {
     "end_time": "2021-05-31T01:07:22.957229Z",
     "start_time": "2021-05-31T01:07:22.943191Z"
    }
   },
   "outputs": [],
   "source": [
    "# Define the hidden layer\n",
    "model.add(tf.keras.layers.Dense(16, activation='relu', input_shape=(784, )))"
   ]
  },
  {
   "cell_type": "code",
   "execution_count": null,
   "metadata": {
    "ExecuteTime": {
     "end_time": "2021-05-31T01:07:23.398956Z",
     "start_time": "2021-05-31T01:07:23.382525Z"
    }
   },
   "outputs": [],
   "source": [
    "# Define the output layer\n",
    "model.add(tf.keras.layers.Dense(4, activation='softmax'))"
   ]
  },
  {
   "cell_type": "code",
   "execution_count": null,
   "metadata": {
    "ExecuteTime": {
     "end_time": "2021-05-31T01:07:23.807683Z",
     "start_time": "2021-05-31T01:07:23.789302Z"
    }
   },
   "outputs": [],
   "source": [
    "# Compile model\n",
    "model.compile('adam', loss='categorical_crossentropy')"
   ]
  },
  {
   "cell_type": "code",
   "execution_count": null,
   "metadata": {
    "ExecuteTime": {
     "end_time": "2021-05-31T01:07:25.204371Z",
     "start_time": "2021-05-31T01:07:24.248305Z"
    }
   },
   "outputs": [],
   "source": [
    "import pandas as pd\n",
    "from tensorflow.keras.utils import to_categorical\n",
    "\n",
    "df = pd.read_csv(\"../Datasets/1. Sign language MNIST.csv\", header=None)\n",
    "image_features = df.iloc[:, 1:].to_numpy()\n",
    "image_labels = to_categorical(df.iloc[:, 0])\n",
    "\n",
    "# Train model\n",
    "model.fit(image_features, image_labels)"
   ]
  },
  {
   "cell_type": "markdown",
   "metadata": {},
   "source": [
    "## `[note-2]` The `fit()` operation\n",
    "\n",
    "* Required arguments:\n",
    "\n",
    "    * `x` (features)\n",
    "    \n",
    "    * `y` (labels)\n",
    "\n",
    "* Many optional arguments:\n",
    "\n",
    "    * `batch_size`\n",
    "    \n",
    "    * `epochs`\n",
    "    \n",
    "    * `validation_split`"
   ]
  },
  {
   "cell_type": "markdown",
   "metadata": {},
   "source": [
    "## `[note-3]` Batch size and epochs\n",
    "\n",
    "![Batch size and epochs](../Figures/4.%20Batch%20size%20and%20epochs.jpg)"
   ]
  },
  {
   "cell_type": "markdown",
   "metadata": {},
   "source": [
    "## `[note-4]` Performing validation\n",
    "\n",
    "![Performing validation](../Figures/5.%20Performing%20validation.jpg)"
   ]
  },
  {
   "cell_type": "markdown",
   "metadata": {},
   "source": [
    "## `[code-2]` Performing validation"
   ]
  },
  {
   "cell_type": "code",
   "execution_count": null,
   "metadata": {
    "ExecuteTime": {
     "end_time": "2021-05-31T01:07:30.474243Z",
     "start_time": "2021-05-31T01:07:29.076368Z"
    }
   },
   "outputs": [],
   "source": [
    "features, labels = image_features, image_labels\n",
    "\n",
    "# Train model with validation split\n",
    "model.fit(features, labels, epochs=10, validation_split=0.20)"
   ]
  },
  {
   "cell_type": "markdown",
   "metadata": {},
   "source": [
    "## `[code-3]` Changing the metric"
   ]
  },
  {
   "cell_type": "code",
   "execution_count": null,
   "metadata": {
    "ExecuteTime": {
     "end_time": "2021-05-31T01:07:31.196982Z",
     "start_time": "2021-05-31T01:07:31.178480Z"
    }
   },
   "outputs": [],
   "source": [
    "# Recomile the model with the accuracy metric\n",
    "model.compile('adam', loss='categorical_crossentropy', metrics=['accuracy'])"
   ]
  },
  {
   "cell_type": "code",
   "execution_count": null,
   "metadata": {
    "ExecuteTime": {
     "end_time": "2021-05-31T01:07:33.924613Z",
     "start_time": "2021-05-31T01:07:32.087868Z"
    }
   },
   "outputs": [],
   "source": [
    "# Train model with validation split\n",
    "model.fit(features, labels, epochs=10, validation_split=0.20)"
   ]
  },
  {
   "cell_type": "markdown",
   "metadata": {},
   "source": [
    "## `[note-5]` The `evaluate()` operation\n",
    "\n",
    "![The `evaluate()` operation](../Figures/6.%20The%20`evaluate()`%20operation.jpg)"
   ]
  },
  {
   "cell_type": "markdown",
   "metadata": {},
   "source": [
    "## `[code-4]` The `evaluate()` operation"
   ]
  },
  {
   "cell_type": "code",
   "execution_count": null,
   "metadata": {
    "ExecuteTime": {
     "end_time": "2021-05-31T01:07:56.081310Z",
     "start_time": "2021-05-31T01:07:52.037461Z"
    }
   },
   "outputs": [],
   "source": [
    "from sklearn.model_selection import train_test_split\n",
    "\n",
    "train_features, test_features, train_labels, test_labels = train_test_split(\n",
    "    features, labels, test_size=0.2, random_state=42)\n",
    "\n",
    "model.fit(features, labels, epochs=10, validation_split=0.30)\n",
    "\n",
    "# Evaluate the test set\n",
    "model.evaluate(test_features, test_labels)"
   ]
  },
  {
   "cell_type": "markdown",
   "metadata": {},
   "source": [
    "## `[task-1]` Training with Keras\n",
    "\n",
    "$\\blacktriangleright$ **Package pre-loading**"
   ]
  },
  {
   "cell_type": "code",
   "execution_count": 1,
   "metadata": {
    "ExecuteTime": {
     "end_time": "2021-05-31T10:35:25.860824Z",
     "start_time": "2021-05-31T10:35:16.373261Z"
    }
   },
   "outputs": [],
   "source": [
    "import numpy as py\n",
    "from tensorflow import keras"
   ]
  },
  {
   "cell_type": "markdown",
   "metadata": {},
   "source": [
    "$\\blacktriangleright$ **Data pre-loading**"
   ]
  },
  {
   "cell_type": "code",
   "execution_count": 2,
   "metadata": {
    "ExecuteTime": {
     "end_time": "2021-05-31T10:35:26.639902Z",
     "start_time": "2021-05-31T10:35:25.963442Z"
    }
   },
   "outputs": [],
   "source": [
    "sign_language_features = np.loadtxt(\n",
    "    '../Datasets/2. Sign language features_1.csv', delimiter=',')\n",
    "sign_language_labels = np.loadtxt('../Datasets/3. Sign language labels_1.csv',\n",
    "                                  delimiter=',',\n",
    "                                  dtype=np.float32)"
   ]
  },
  {
   "cell_type": "markdown",
   "metadata": {
    "ExecuteTime": {
     "end_time": "2021-05-28T21:45:54.245040Z",
     "start_time": "2021-05-28T21:45:54.215151Z"
    }
   },
   "source": [
    "$\\blacktriangleright$ **Task practice**"
   ]
  },
  {
   "cell_type": "code",
   "execution_count": 3,
   "metadata": {
    "ExecuteTime": {
     "end_time": "2021-05-31T10:35:27.477287Z",
     "start_time": "2021-05-31T10:35:26.867789Z"
    }
   },
   "outputs": [
    {
     "name": "stdout",
     "output_type": "stream",
     "text": [
      "Epoch 1/5\n",
      "32/32 [==============================] - 0s 1ms/step - loss: 1.4185\n",
      "Epoch 2/5\n",
      "32/32 [==============================] - 0s 1ms/step - loss: 1.2032\n",
      "Epoch 3/5\n",
      "32/32 [==============================] - 0s 822us/step - loss: 1.0977\n",
      "Epoch 4/5\n",
      "32/32 [==============================] - 0s 1ms/step - loss: 1.0123\n",
      "Epoch 5/5\n",
      "32/32 [==============================] - 0s 1ms/step - loss: 0.8203\n"
     ]
    },
    {
     "data": {
      "text/plain": [
       "<tensorflow.python.keras.callbacks.History at 0x7fed9bed6d50>"
      ]
     },
     "execution_count": 3,
     "metadata": {},
     "output_type": "execute_result"
    }
   ],
   "source": [
    "# Define a sequential model\n",
    "model = keras.Sequential()\n",
    "\n",
    "# Define a hidden layer\n",
    "model.add(keras.layers.Dense(16, activation='relu', input_shape=(784, )))\n",
    "\n",
    "# Define the output layer\n",
    "model.add(keras.layers.Dense(4, activation='softmax'))\n",
    "\n",
    "# Compile the model\n",
    "model.compile('SGD', loss='categorical_crossentropy')\n",
    "\n",
    "# Complete the fitting operation\n",
    "model.fit(sign_language_features, sign_language_labels, epochs=5)"
   ]
  },
  {
   "cell_type": "markdown",
   "metadata": {
    "ExecuteTime": {
     "end_time": "2021-05-29T22:33:09.346332Z",
     "start_time": "2021-05-29T22:33:09.337956Z"
    }
   },
   "source": [
    "## `[task-2]` Metrics and validation with Keras\n",
    "\n",
    "$\\blacktriangleright$ **Data pre-loading**"
   ]
  },
  {
   "cell_type": "code",
   "execution_count": 4,
   "metadata": {
    "ExecuteTime": {
     "end_time": "2021-05-31T10:35:27.592477Z",
     "start_time": "2021-05-31T10:35:27.589005Z"
    }
   },
   "outputs": [],
   "source": [
    "sign_language_features = sign_language_features[1:, :]\n",
    "sign_language_labels = sign_language_labels[1:, :]"
   ]
  },
  {
   "cell_type": "markdown",
   "metadata": {
    "ExecuteTime": {
     "end_time": "2021-05-29T22:39:26.206403Z",
     "start_time": "2021-05-29T22:39:26.198103Z"
    }
   },
   "source": [
    "$\\blacktriangleright$ **Task practice**"
   ]
  },
  {
   "cell_type": "code",
   "execution_count": 5,
   "metadata": {
    "ExecuteTime": {
     "end_time": "2021-05-31T10:35:30.692080Z",
     "start_time": "2021-05-31T10:35:27.595262Z"
    }
   },
   "outputs": [
    {
     "name": "stdout",
     "output_type": "stream",
     "text": [
      "Epoch 1/10\n",
      "29/29 [==============================] - 2s 37ms/step - loss: 1.4171 - accuracy: 0.3291 - val_loss: 1.2048 - val_accuracy: 0.4300\n",
      "Epoch 2/10\n",
      "29/29 [==============================] - 0s 6ms/step - loss: 1.0957 - accuracy: 0.5912 - val_loss: 1.0274 - val_accuracy: 0.6800\n",
      "Epoch 3/10\n",
      "29/29 [==============================] - 0s 5ms/step - loss: 0.9156 - accuracy: 0.7250 - val_loss: 0.8749 - val_accuracy: 0.8500\n",
      "Epoch 4/10\n",
      "29/29 [==============================] - 0s 5ms/step - loss: 0.7724 - accuracy: 0.8395 - val_loss: 0.9154 - val_accuracy: 0.5200\n",
      "Epoch 5/10\n",
      "29/29 [==============================] - 0s 6ms/step - loss: 0.6926 - accuracy: 0.8239 - val_loss: 0.6335 - val_accuracy: 0.8700\n",
      "Epoch 6/10\n",
      "29/29 [==============================] - 0s 3ms/step - loss: 0.5805 - accuracy: 0.8744 - val_loss: 0.6768 - val_accuracy: 0.7800\n",
      "Epoch 7/10\n",
      "29/29 [==============================] - 0s 5ms/step - loss: 0.5194 - accuracy: 0.8997 - val_loss: 0.7865 - val_accuracy: 0.6000\n",
      "Epoch 8/10\n",
      "29/29 [==============================] - 0s 6ms/step - loss: 0.4818 - accuracy: 0.8644 - val_loss: 0.5110 - val_accuracy: 0.7800\n",
      "Epoch 9/10\n",
      "29/29 [==============================] - 0s 4ms/step - loss: 0.4070 - accuracy: 0.9186 - val_loss: 0.5915 - val_accuracy: 0.7200\n",
      "Epoch 10/10\n",
      "29/29 [==============================] - 0s 5ms/step - loss: 0.3748 - accuracy: 0.9437 - val_loss: 0.3134 - val_accuracy: 0.9800\n"
     ]
    },
    {
     "data": {
      "text/plain": [
       "<tensorflow.python.keras.callbacks.History at 0x7fed9c186910>"
      ]
     },
     "execution_count": 5,
     "metadata": {},
     "output_type": "execute_result"
    }
   ],
   "source": [
    "# Define sequential model\n",
    "model = keras.Sequential()\n",
    "\n",
    "# Define the first layer\n",
    "model.add(keras.layers.Dense(32, activation='sigmoid', input_shape=(784, )))\n",
    "\n",
    "# Add activation function to classifier\n",
    "model.add(keras.layers.Dense(4, activation='softmax'))\n",
    "\n",
    "# Set the optimizer, loss function, and metrics\n",
    "model.compile(optimizer='RMSprop',\n",
    "              loss='categorical_crossentropy',\n",
    "              metrics=['accuracy'])\n",
    "\n",
    "# Add the number of epochs and the validation split\n",
    "model.fit(sign_language_features,\n",
    "          sign_language_labels,\n",
    "          epochs=10,\n",
    "          validation_split=0.1)"
   ]
  },
  {
   "cell_type": "markdown",
   "metadata": {},
   "source": [
    "## `[task-3]` Overfitting detection\n",
    "\n",
    "$\\blacktriangleright$ **Data pre-loading**"
   ]
  },
  {
   "cell_type": "code",
   "execution_count": 6,
   "metadata": {
    "ExecuteTime": {
     "end_time": "2021-05-31T10:35:30.733419Z",
     "start_time": "2021-05-31T10:35:30.701728Z"
    }
   },
   "outputs": [],
   "source": [
    "sign_language_features = np.loadtxt(\n",
    "    '../Datasets/4. Sign language features_2.csv', delimiter=',')\n",
    "sign_language_labels = np.loadtxt('../Datasets/5. Sign language labels_2.csv',\n",
    "                                  delimiter=',',\n",
    "                                  dtype=np.float32)"
   ]
  },
  {
   "cell_type": "markdown",
   "metadata": {},
   "source": [
    "$\\blacktriangleright$ **Task practice**"
   ]
  },
  {
   "cell_type": "code",
   "execution_count": 7,
   "metadata": {
    "ExecuteTime": {
     "end_time": "2021-05-31T10:35:36.135234Z",
     "start_time": "2021-05-31T10:35:30.737650Z"
    }
   },
   "outputs": [
    {
     "name": "stdout",
     "output_type": "stream",
     "text": [
      "Epoch 1/50\n",
      "1/1 [==============================] - 1s 712ms/step - loss: 1.6762 - accuracy: 0.2308 - val_loss: 4.1904 - val_accuracy: 0.0769\n",
      "Epoch 2/50\n",
      "1/1 [==============================] - 0s 41ms/step - loss: 2.6906 - accuracy: 0.3077 - val_loss: 3.6241 - val_accuracy: 0.3846\n",
      "Epoch 3/50\n",
      "1/1 [==============================] - 0s 58ms/step - loss: 2.8565 - accuracy: 0.2308 - val_loss: 4.5277 - val_accuracy: 0.3077\n",
      "Epoch 4/50\n",
      "1/1 [==============================] - 0s 56ms/step - loss: 3.2621 - accuracy: 0.3846 - val_loss: 4.3548 - val_accuracy: 0.3077\n",
      "Epoch 5/50\n",
      "1/1 [==============================] - 0s 56ms/step - loss: 2.7769 - accuracy: 0.3846 - val_loss: 3.3612 - val_accuracy: 0.3846\n",
      "Epoch 6/50\n",
      "1/1 [==============================] - 0s 45ms/step - loss: 1.5616 - accuracy: 0.5385 - val_loss: 3.5577 - val_accuracy: 0.0769\n",
      "Epoch 7/50\n",
      "1/1 [==============================] - 0s 83ms/step - loss: 1.7944 - accuracy: 0.3846 - val_loss: 3.3116 - val_accuracy: 0.0769\n",
      "Epoch 8/50\n",
      "1/1 [==============================] - 0s 61ms/step - loss: 1.8975 - accuracy: 0.3077 - val_loss: 2.8246 - val_accuracy: 0.3846\n",
      "Epoch 9/50\n",
      "1/1 [==============================] - 0s 47ms/step - loss: 1.8015 - accuracy: 0.3846 - val_loss: 2.1775 - val_accuracy: 0.3846\n",
      "Epoch 10/50\n",
      "1/1 [==============================] - 0s 39ms/step - loss: 1.2759 - accuracy: 0.5385 - val_loss: 1.6772 - val_accuracy: 0.5385\n",
      "Epoch 11/50\n",
      "1/1 [==============================] - 0s 48ms/step - loss: 0.7941 - accuracy: 0.9231 - val_loss: 1.6468 - val_accuracy: 0.3846\n",
      "Epoch 12/50\n",
      "1/1 [==============================] - 0s 55ms/step - loss: 0.7889 - accuracy: 0.6923 - val_loss: 1.6737 - val_accuracy: 0.3077\n",
      "Epoch 13/50\n",
      "1/1 [==============================] - 0s 50ms/step - loss: 0.9127 - accuracy: 0.5385 - val_loss: 1.4679 - val_accuracy: 0.3077\n",
      "Epoch 14/50\n",
      "1/1 [==============================] - 0s 45ms/step - loss: 0.8788 - accuracy: 0.5385 - val_loss: 1.2008 - val_accuracy: 0.4615\n",
      "Epoch 15/50\n",
      "1/1 [==============================] - 0s 127ms/step - loss: 0.8146 - accuracy: 0.6154 - val_loss: 1.0501 - val_accuracy: 0.5385\n",
      "Epoch 16/50\n",
      "1/1 [==============================] - 0s 238ms/step - loss: 0.7796 - accuracy: 0.4615 - val_loss: 0.9011 - val_accuracy: 0.6154\n",
      "Epoch 17/50\n",
      "1/1 [==============================] - 0s 219ms/step - loss: 0.6380 - accuracy: 0.7692 - val_loss: 0.8487 - val_accuracy: 0.8462\n",
      "Epoch 18/50\n",
      "1/1 [==============================] - 0s 377ms/step - loss: 0.5305 - accuracy: 0.9231 - val_loss: 0.9571 - val_accuracy: 0.6154\n",
      "Epoch 19/50\n",
      "1/1 [==============================] - 0s 69ms/step - loss: 0.5184 - accuracy: 0.8462 - val_loss: 1.1238 - val_accuracy: 0.5385\n",
      "Epoch 20/50\n",
      "1/1 [==============================] - 0s 138ms/step - loss: 0.5244 - accuracy: 0.8462 - val_loss: 1.2738 - val_accuracy: 0.5385\n",
      "Epoch 21/50\n",
      "1/1 [==============================] - 0s 54ms/step - loss: 0.5309 - accuracy: 0.8462 - val_loss: 1.3383 - val_accuracy: 0.4615\n",
      "Epoch 22/50\n",
      "1/1 [==============================] - 0s 118ms/step - loss: 0.5206 - accuracy: 0.9231 - val_loss: 1.3151 - val_accuracy: 0.5385\n",
      "Epoch 23/50\n",
      "1/1 [==============================] - 0s 71ms/step - loss: 0.4934 - accuracy: 0.9231 - val_loss: 1.2732 - val_accuracy: 0.6154\n",
      "Epoch 24/50\n",
      "1/1 [==============================] - 0s 84ms/step - loss: 0.4770 - accuracy: 0.9231 - val_loss: 1.2470 - val_accuracy: 0.6154\n",
      "Epoch 25/50\n",
      "1/1 [==============================] - 0s 66ms/step - loss: 0.4734 - accuracy: 0.9231 - val_loss: 1.2198 - val_accuracy: 0.6154\n",
      "Epoch 26/50\n",
      "1/1 [==============================] - 0s 55ms/step - loss: 0.4604 - accuracy: 0.9231 - val_loss: 1.1708 - val_accuracy: 0.6154\n",
      "Epoch 27/50\n",
      "1/1 [==============================] - 0s 73ms/step - loss: 0.4257 - accuracy: 0.9231 - val_loss: 1.0917 - val_accuracy: 0.6154\n",
      "Epoch 28/50\n",
      "1/1 [==============================] - 0s 50ms/step - loss: 0.3766 - accuracy: 0.9231 - val_loss: 0.9895 - val_accuracy: 0.6154\n",
      "Epoch 29/50\n",
      "1/1 [==============================] - 0s 88ms/step - loss: 0.3288 - accuracy: 0.9231 - val_loss: 0.8820 - val_accuracy: 0.6154\n",
      "Epoch 30/50\n",
      "1/1 [==============================] - 0s 46ms/step - loss: 0.2957 - accuracy: 0.9231 - val_loss: 0.7966 - val_accuracy: 0.6923\n",
      "Epoch 31/50\n",
      "1/1 [==============================] - 0s 57ms/step - loss: 0.2878 - accuracy: 1.0000 - val_loss: 0.7527 - val_accuracy: 0.7692\n",
      "Epoch 32/50\n",
      "1/1 [==============================] - 0s 57ms/step - loss: 0.3040 - accuracy: 1.0000 - val_loss: 0.7366 - val_accuracy: 0.6923\n",
      "Epoch 33/50\n",
      "1/1 [==============================] - 0s 55ms/step - loss: 0.3181 - accuracy: 1.0000 - val_loss: 0.7272 - val_accuracy: 0.7692\n",
      "Epoch 34/50\n",
      "1/1 [==============================] - 0s 95ms/step - loss: 0.3055 - accuracy: 1.0000 - val_loss: 0.7298 - val_accuracy: 0.7692\n",
      "Epoch 35/50\n",
      "1/1 [==============================] - 0s 58ms/step - loss: 0.2741 - accuracy: 1.0000 - val_loss: 0.7598 - val_accuracy: 0.6923\n",
      "Epoch 36/50\n",
      "1/1 [==============================] - 0s 55ms/step - loss: 0.2477 - accuracy: 1.0000 - val_loss: 0.8097 - val_accuracy: 0.6923\n",
      "Epoch 37/50\n",
      "1/1 [==============================] - 0s 41ms/step - loss: 0.2353 - accuracy: 0.9231 - val_loss: 0.8552 - val_accuracy: 0.6923\n",
      "Epoch 38/50\n",
      "1/1 [==============================] - 0s 57ms/step - loss: 0.2317 - accuracy: 0.9231 - val_loss: 0.8784 - val_accuracy: 0.6923\n",
      "Epoch 39/50\n",
      "1/1 [==============================] - 0s 81ms/step - loss: 0.2296 - accuracy: 0.9231 - val_loss: 0.8795 - val_accuracy: 0.6154\n",
      "Epoch 40/50\n",
      "1/1 [==============================] - 0s 76ms/step - loss: 0.2265 - accuracy: 0.9231 - val_loss: 0.8669 - val_accuracy: 0.6154\n",
      "Epoch 41/50\n",
      "1/1 [==============================] - 0s 66ms/step - loss: 0.2216 - accuracy: 0.9231 - val_loss: 0.8463 - val_accuracy: 0.6923\n",
      "Epoch 42/50\n",
      "1/1 [==============================] - 0s 89ms/step - loss: 0.2134 - accuracy: 0.9231 - val_loss: 0.8211 - val_accuracy: 0.7692\n",
      "Epoch 43/50\n",
      "1/1 [==============================] - 0s 64ms/step - loss: 0.2017 - accuracy: 0.9231 - val_loss: 0.7942 - val_accuracy: 0.6923\n",
      "Epoch 44/50\n",
      "1/1 [==============================] - 0s 44ms/step - loss: 0.1892 - accuracy: 1.0000 - val_loss: 0.7687 - val_accuracy: 0.6923\n",
      "Epoch 45/50\n",
      "1/1 [==============================] - 0s 47ms/step - loss: 0.1796 - accuracy: 1.0000 - val_loss: 0.7457 - val_accuracy: 0.6923\n",
      "Epoch 46/50\n",
      "1/1 [==============================] - 0s 52ms/step - loss: 0.1745 - accuracy: 1.0000 - val_loss: 0.7242 - val_accuracy: 0.7692\n",
      "Epoch 47/50\n",
      "1/1 [==============================] - 0s 54ms/step - loss: 0.1716 - accuracy: 1.0000 - val_loss: 0.7031 - val_accuracy: 0.7692\n",
      "Epoch 48/50\n",
      "1/1 [==============================] - 0s 56ms/step - loss: 0.1676 - accuracy: 1.0000 - val_loss: 0.6845 - val_accuracy: 0.7692\n",
      "Epoch 49/50\n",
      "1/1 [==============================] - 0s 53ms/step - loss: 0.1615 - accuracy: 1.0000 - val_loss: 0.6751 - val_accuracy: 0.7692\n",
      "Epoch 50/50\n",
      "1/1 [==============================] - 0s 77ms/step - loss: 0.1547 - accuracy: 1.0000 - val_loss: 0.6798 - val_accuracy: 0.6923\n"
     ]
    },
    {
     "data": {
      "text/plain": [
       "<tensorflow.python.keras.callbacks.History at 0x7fed9d23cf90>"
      ]
     },
     "execution_count": 7,
     "metadata": {},
     "output_type": "execute_result"
    }
   ],
   "source": [
    "# Define sequential model\n",
    "model = keras.Sequential()\n",
    "\n",
    "# Define the first layer\n",
    "model.add(keras.layers.Dense(1024, activation='relu', input_shape=(784, )))\n",
    "\n",
    "# Add activation function to classifier\n",
    "model.add(keras.layers.Dense(4, activation='softmax'))\n",
    "\n",
    "# Finish the model compilation\n",
    "model.compile(optimizer=keras.optimizers.Adam(lr=0.001),\n",
    "              loss='categorical_crossentropy',\n",
    "              metrics=['accuracy'])\n",
    "\n",
    "# Complete the model fit operation\n",
    "model.fit(sign_language_features,\n",
    "          sign_language_labels,\n",
    "          epochs=50,\n",
    "          validation_split=0.5)"
   ]
  },
  {
   "cell_type": "markdown",
   "metadata": {},
   "source": [
    "## `[task-4]` Evaluating models\n",
    "\n",
    "$\\blacktriangleright$ **Data pre-loading**"
   ]
  },
  {
   "cell_type": "code",
   "execution_count": 8,
   "metadata": {
    "ExecuteTime": {
     "end_time": "2021-05-31T10:35:37.917494Z",
     "start_time": "2021-05-31T10:35:37.196499Z"
    }
   },
   "outputs": [],
   "source": [
    "sign_language_features = np.loadtxt(\n",
    "    '../Datasets/2. Sign language features_1.csv', delimiter=',')\n",
    "sign_language_labels = np.loadtxt('../Datasets/3. Sign language labels_1.csv',\n",
    "                                  delimiter=',',\n",
    "                                  dtype=np.float32)\n",
    "\n",
    "train_features = np.loadtxt('../Datasets/6. Sign language train features.csv',\n",
    "                            delimiter=',')\n",
    "train_labels = np.loadtxt('../Datasets/7. Sign language train labels.csv',\n",
    "                          delimiter=',',\n",
    "                          dtype=np.float32)\n",
    "\n",
    "test_features = np.loadtxt('../Datasets/8. Sign language test features.csv',\n",
    "                           delimiter=',')\n",
    "test_labels = np.loadtxt('../Datasets/9. Sign language test labels.csv',\n",
    "                         delimiter=',',\n",
    "                         dtype=np.float32)"
   ]
  },
  {
   "cell_type": "markdown",
   "metadata": {},
   "source": [
    "$\\blacktriangleright$ **Code pre-loading**"
   ]
  },
  {
   "cell_type": "code",
   "execution_count": 9,
   "metadata": {
    "ExecuteTime": {
     "end_time": "2021-05-31T10:35:39.362072Z",
     "start_time": "2021-05-31T10:35:38.311791Z"
    }
   },
   "outputs": [
    {
     "name": "stdout",
     "output_type": "stream",
     "text": [
      "32/32 [==============================] - 0s 758us/step - loss: 1.3418\n",
      "32/32 [==============================] - 0s 2ms/step - loss: 1.5021\n"
     ]
    },
    {
     "data": {
      "text/plain": [
       "<tensorflow.python.keras.callbacks.History at 0x7fed9be79110>"
      ]
     },
     "execution_count": 9,
     "metadata": {},
     "output_type": "execute_result"
    }
   ],
   "source": [
    "small_model = keras.Sequential()\n",
    "small_model.add(keras.layers.Dense(8, activation='relu', input_shape=(784, )))\n",
    "small_model.add(keras.layers.Dense(4, activation='softmax'))\n",
    "small_model.compile('SGD', loss='categorical_crossentropy')\n",
    "small_model.fit(sign_language_features, sign_language_labels)\n",
    "\n",
    "large_model = keras.Sequential()\n",
    "large_model.add(\n",
    "    keras.layers.Dense(64, activation='sigmoid', input_shape=(784, )))\n",
    "large_model.add(keras.layers.Dense(4, activation='softmax'))\n",
    "large_model.compile('Adam', loss='categorical_crossentropy')\n",
    "large_model.fit(sign_language_features, sign_language_labels)"
   ]
  },
  {
   "cell_type": "markdown",
   "metadata": {},
   "source": [
    "$\\blacktriangleright$ **Task practice**"
   ]
  },
  {
   "cell_type": "code",
   "execution_count": 10,
   "metadata": {
    "ExecuteTime": {
     "end_time": "2021-05-31T10:35:40.464772Z",
     "start_time": "2021-05-31T10:35:39.825363Z"
    }
   },
   "outputs": [
    {
     "name": "stdout",
     "output_type": "stream",
     "text": [
      "4/4 [==============================] - 0s 1ms/step - loss: 1.2416\n",
      "4/4 [==============================] - 0s 1ms/step - loss: 1.2888\n",
      "4/4 [==============================] - 0s 10ms/step - loss: 1.1469\n",
      "4/4 [==============================] - 0s 2ms/step - loss: 1.1236\n",
      "\n",
      " Small - Train: 1.2416434288024902, Test: 1.2888367176055908\n",
      "Large - Train: 1.1469216346740723, Test: 1.1235928535461426\n"
     ]
    }
   ],
   "source": [
    "# Evaluate the small model using the train data\n",
    "small_train = small_model.evaluate(train_features, train_labels)\n",
    "\n",
    "# Evaluate the small model using the test data\n",
    "small_test = small_model.evaluate(test_features, test_labels)\n",
    "\n",
    "# Evaluate the large model using the train data\n",
    "large_train = large_model.evaluate(train_features, train_labels)\n",
    "\n",
    "# Evaluate the large model using the test data\n",
    "large_test = large_model.evaluate(test_features, test_labels)\n",
    "\n",
    "# Print losses\n",
    "print('\\n Small - Train: {}, Test: {}'.format(small_train, small_test))\n",
    "print('Large - Train: {}, Test: {}'.format(large_train, large_test))"
   ]
  },
  {
   "cell_type": "markdown",
   "metadata": {},
   "source": [
    "# Training models with the Estimators API"
   ]
  },
  {
   "cell_type": "code",
   "execution_count": null,
   "metadata": {},
   "outputs": [],
   "source": []
  },
  {
   "cell_type": "code",
   "execution_count": null,
   "metadata": {},
   "outputs": [],
   "source": []
  },
  {
   "cell_type": "code",
   "execution_count": null,
   "metadata": {},
   "outputs": [],
   "source": []
  },
  {
   "cell_type": "code",
   "execution_count": null,
   "metadata": {},
   "outputs": [],
   "source": []
  },
  {
   "cell_type": "code",
   "execution_count": null,
   "metadata": {},
   "outputs": [],
   "source": []
  },
  {
   "cell_type": "markdown",
   "metadata": {},
   "source": [
    "# Conclusion"
   ]
  },
  {
   "cell_type": "code",
   "execution_count": null,
   "metadata": {},
   "outputs": [],
   "source": []
  },
  {
   "cell_type": "code",
   "execution_count": null,
   "metadata": {},
   "outputs": [],
   "source": []
  },
  {
   "cell_type": "code",
   "execution_count": null,
   "metadata": {},
   "outputs": [],
   "source": []
  },
  {
   "cell_type": "code",
   "execution_count": null,
   "metadata": {},
   "outputs": [],
   "source": [
    "sign"
   ]
  },
  {
   "cell_type": "code",
   "execution_count": null,
   "metadata": {},
   "outputs": [],
   "source": []
  },
  {
   "cell_type": "code",
   "execution_count": null,
   "metadata": {},
   "outputs": [],
   "source": []
  },
  {
   "cell_type": "code",
   "execution_count": null,
   "metadata": {},
   "outputs": [],
   "source": []
  },
  {
   "cell_type": "markdown",
   "metadata": {},
   "source": [
    "# Requirements"
   ]
  },
  {
   "cell_type": "code",
   "execution_count": null,
   "metadata": {
    "ExecuteTime": {
     "end_time": "2021-05-19T21:29:14.436742Z",
     "start_time": "2021-05-19T21:29:14.425513Z"
    }
   },
   "outputs": [],
   "source": [
    "from platform import python_version\n",
    "import matplotlib\n",
    "import seaborn\n",
    "\n",
    "python_version = ('python=={}'.format(python_version()))\n",
    "tensorflow_version = ('tensorflow=={}'.format(tf.__version__))\n",
    "pandas_version = ('pandas=={}'.format(pd.__version__))\n",
    "numpy_version = ('numpy=={}'.format(np.__version__))\n",
    "matplotlib_version = ('matplotlib=={}'.format(matplotlib.__version__))\n",
    "seaborn_version = ('seaborn=={}'.format(seaborn.__version__))\n",
    "\n",
    "writepath = '../../requirements.txt'\n",
    "requirements = []\n",
    "packages = [\n",
    "    tensorflow_version, pandas_version, numpy_version, matplotlib_version,\n",
    "    seaborn_version\n",
    "]\n",
    "\n",
    "try:\n",
    "    with open(writepath, 'r+') as file:\n",
    "        for line in file:\n",
    "            requirements.append(line.strip('\\n'))\n",
    "except:\n",
    "    with open(writepath, 'w+') as file:\n",
    "        for line in file:\n",
    "            requirements.append(line.strip('\\n'))\n",
    "\n",
    "with open(writepath, 'a') as file:\n",
    "    for package in packages:\n",
    "        if package not in requirements:\n",
    "            file.write(package + '\\n')\n",
    "\n",
    "max_characters = len(python_version)\n",
    "for package in packages:\n",
    "    if max(max_characters, len(package)) > max_characters:\n",
    "        max_characters = max(max_characters, len(package))\n",
    "\n",
    "print('#' * (max_characters + 8))\n",
    "print('#' * 2 + ' ' * (max_characters + 4) + '#' * 2)\n",
    "print('#' * 2 + ' ' * 2 + python_version + ' ' *\n",
    "      (max_characters - len(python_version) + 2) + '#' * 2)\n",
    "for package in packages:\n",
    "    print('#' * 2 + ' ' * 2 + package + ' ' *\n",
    "          (max_characters - len(package) + 2) + '#' * 2)\n",
    "print('#' * 2 + ' ' * (max_characters + 4) + '#' * 2)\n",
    "print('#' * (max_characters + 8))"
   ]
  }
 ],
 "metadata": {
  "kernelspec": {
   "display_name": "Python 3",
   "language": "python",
   "name": "python3"
  },
  "language_info": {
   "codemirror_mode": {
    "name": "ipython",
    "version": 3
   },
   "file_extension": ".py",
   "mimetype": "text/x-python",
   "name": "python",
   "nbconvert_exporter": "python",
   "pygments_lexer": "ipython3",
   "version": "3.7.9"
  },
  "latex_envs": {
   "LaTeX_envs_menu_present": true,
   "autoclose": true,
   "autocomplete": true,
   "bibliofile": "biblio.bib",
   "cite_by": "apalike",
   "current_citInitial": 1,
   "eqLabelWithNumbers": true,
   "eqNumInitial": 1,
   "hotkeys": {
    "equation": "Ctrl-E",
    "itemize": "Ctrl-I"
   },
   "labels_anchors": false,
   "latex_user_defs": false,
   "report_style_numbering": true,
   "user_envs_cfg": true
  },
  "nbTranslate": {
   "displayLangs": [
    "*"
   ],
   "hotkey": "alt-t",
   "langInMainMenu": true,
   "sourceLang": "en",
   "targetLang": "fr",
   "useGoogleTranslate": true
  },
  "toc": {
   "base_numbering": 1,
   "nav_menu": {},
   "number_sections": true,
   "sideBar": true,
   "skip_h1_title": false,
   "title_cell": "Table of Contents",
   "title_sidebar": "Contents",
   "toc_cell": true,
   "toc_position": {
    "height": "calc(100% - 180px)",
    "left": "10px",
    "top": "150px",
    "width": "287.969px"
   },
   "toc_section_display": true,
   "toc_window_display": true
  },
  "varInspector": {
   "cols": {
    "lenName": 16,
    "lenType": 16,
    "lenVar": 40
   },
   "kernels_config": {
    "python": {
     "delete_cmd_postfix": "",
     "delete_cmd_prefix": "del ",
     "library": "var_list.py",
     "varRefreshCmd": "print(var_dic_list())"
    },
    "r": {
     "delete_cmd_postfix": ") ",
     "delete_cmd_prefix": "rm(",
     "library": "var_list.r",
     "varRefreshCmd": "cat(var_dic_list()) "
    }
   },
   "types_to_exclude": [
    "module",
    "function",
    "builtin_function_or_method",
    "instance",
    "_Feature"
   ],
   "window_display": true
  }
 },
 "nbformat": 4,
 "nbformat_minor": 4
}
