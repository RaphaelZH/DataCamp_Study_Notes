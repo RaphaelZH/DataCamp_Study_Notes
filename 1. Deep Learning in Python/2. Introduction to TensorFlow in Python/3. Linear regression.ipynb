{
 "cells": [
  {
   "cell_type": "markdown",
   "metadata": {
    "ExecuteTime": {
     "end_time": "2020-07-24T11:20:21.989524Z",
     "start_time": "2020-07-24T11:20:12.960881Z"
    }
   },
   "source": [
    "```\n",
    "###############################\n",
    "##                           ##\n",
    "##  Deep Learning in Python  ##\n",
    "##                           ##\n",
    "###############################\n",
    "\n",
    "§2 Introduction to TensorFlow in Python\n",
    "\n",
    "§2.2 Linear models\n",
    "```"
   ]
  },
  {
   "cell_type": "markdown",
   "metadata": {},
   "source": [
    "# Linear regression"
   ]
  },
  {
   "cell_type": "markdown",
   "metadata": {},
   "source": [
    "## What is linear regression?\n",
    "\n",
    "![What is a linear regression](ref6.%20What%20is%20a%20linear%20regression.jpg)"
   ]
  },
  {
   "cell_type": "markdown",
   "metadata": {},
   "source": [
    "## How to make a linear regression model?\n",
    "\n",
    "* A linear regression model assumes a linear relationship:\n",
    "\n",
    "    * e.g., for the example of king county house sales dataset,\n",
    "\n",
    "        * $price = intercept + size \\times slope + error$\n",
    "\n",
    "* Univariate regression models have only one feature,\n",
    "\n",
    "    * e.g., for the example above, there could be only one feature, `size`\n",
    "\n",
    "* Multiple regression models have more than one feature,\n",
    "\n",
    "    * e.g., for the example above, there also could be two feature, `size` and `location`"
   ]
  },
  {
   "cell_type": "markdown",
   "metadata": {},
   "source": [
    "## Code of linear regression in TensorFlow:"
   ]
  },
  {
   "cell_type": "code",
   "execution_count": 1,
   "metadata": {
    "ExecuteTime": {
     "end_time": "2020-12-06T20:30:35.511142Z",
     "start_time": "2020-12-06T20:30:21.195380Z"
    }
   },
   "outputs": [],
   "source": [
    "import pandas as pd\n",
    "import numpy as np\n",
    "import tensorflow as tf\n",
    "\n",
    "housing = pd.read_csv('ref1. King county house sales.csv')"
   ]
  },
  {
   "cell_type": "code",
   "execution_count": 2,
   "metadata": {
    "ExecuteTime": {
     "end_time": "2020-12-06T20:30:35.852457Z",
     "start_time": "2020-12-06T20:30:35.513834Z"
    }
   },
   "outputs": [],
   "source": [
    "# Define the targets and features\n",
    "price = np.array(housing['price'], np.float32)\n",
    "size = np.array(housing['sqft_living'], np.float32)\n",
    "\n",
    "# Define the intercept and slope\n",
    "intercept = tf.Variable(0.1, np.float32)\n",
    "slope = tf.Variable(0.1, np.float32)"
   ]
  },
  {
   "cell_type": "code",
   "execution_count": 3,
   "metadata": {
    "ExecuteTime": {
     "end_time": "2020-12-06T20:30:35.935386Z",
     "start_time": "2020-12-06T20:30:35.861651Z"
    }
   },
   "outputs": [],
   "source": [
    "# Define a linear regression model\n",
    "def linear_regression(intercept, slope, features=size):\n",
    "    return intercept + features * slope"
   ]
  },
  {
   "cell_type": "code",
   "execution_count": 4,
   "metadata": {
    "ExecuteTime": {
     "end_time": "2020-12-06T20:30:35.962415Z",
     "start_time": "2020-12-06T20:30:35.947504Z"
    }
   },
   "outputs": [],
   "source": [
    "# Compute the predicted values and loss\n",
    "def loss_function(intercept, slope, targets=price, features=size):\n",
    "    predictions = linear_regression(intercept, slope)\n",
    "    return tf.keras.losses.mse(targets, predictions)"
   ]
  },
  {
   "cell_type": "code",
   "execution_count": 5,
   "metadata": {
    "ExecuteTime": {
     "end_time": "2020-12-06T20:30:35.970583Z",
     "start_time": "2020-12-06T20:30:35.966333Z"
    }
   },
   "outputs": [],
   "source": [
    "# Define an optimization operation\n",
    "opt = tf.keras.optimizers.Adam()"
   ]
  },
  {
   "cell_type": "code",
   "execution_count": 6,
   "metadata": {
    "ExecuteTime": {
     "end_time": "2020-12-06T20:30:36.223945Z",
     "start_time": "2020-12-06T20:30:35.974428Z"
    }
   },
   "outputs": [
    {
     "name": "stdout",
     "output_type": "stream",
     "text": [
      "tf.Tensor(426196570000.0, shape=(), dtype=float32)\n",
      "tf.Tensor(426193880000.0, shape=(), dtype=float32)\n",
      "tf.Tensor(426191160000.0, shape=(), dtype=float32)\n",
      "tf.Tensor(426188400000.0, shape=(), dtype=float32)\n",
      "tf.Tensor(426185700000.0, shape=(), dtype=float32)\n",
      "tf.Tensor(426182930000.0, shape=(), dtype=float32)\n",
      "tf.Tensor(426180280000.0, shape=(), dtype=float32)\n",
      "tf.Tensor(426177500000.0, shape=(), dtype=float32)\n",
      "tf.Tensor(426174800000.0, shape=(), dtype=float32)\n",
      "tf.Tensor(426172060000.0, shape=(), dtype=float32)\n",
      "tf.Tensor(426169340000.0, shape=(), dtype=float32)\n",
      "tf.Tensor(426166650000.0, shape=(), dtype=float32)\n",
      "tf.Tensor(426163930000.0, shape=(), dtype=float32)\n",
      "tf.Tensor(426161180000.0, shape=(), dtype=float32)\n",
      "tf.Tensor(426158520000.0, shape=(), dtype=float32)\n",
      "tf.Tensor(426155770000.0, shape=(), dtype=float32)\n",
      "tf.Tensor(426153050000.0, shape=(), dtype=float32)\n",
      "tf.Tensor(426150300000.0, shape=(), dtype=float32)\n",
      "tf.Tensor(426147580000.0, shape=(), dtype=float32)\n",
      "tf.Tensor(426144900000.0, shape=(), dtype=float32)\n",
      "tf.Tensor(426142170000.0, shape=(), dtype=float32)\n",
      "tf.Tensor(426139420000.0, shape=(), dtype=float32)\n",
      "tf.Tensor(426136730000.0, shape=(), dtype=float32)\n",
      "tf.Tensor(426134080000.0, shape=(), dtype=float32)\n",
      "tf.Tensor(426131300000.0, shape=(), dtype=float32)\n",
      "tf.Tensor(426128600000.0, shape=(), dtype=float32)\n",
      "tf.Tensor(426125850000.0, shape=(), dtype=float32)\n",
      "tf.Tensor(426123130000.0, shape=(), dtype=float32)\n",
      "tf.Tensor(426120400000.0, shape=(), dtype=float32)\n",
      "tf.Tensor(426117660000.0, shape=(), dtype=float32)\n",
      "tf.Tensor(426114940000.0, shape=(), dtype=float32)\n",
      "tf.Tensor(426112320000.0, shape=(), dtype=float32)\n",
      "tf.Tensor(426109530000.0, shape=(), dtype=float32)\n",
      "tf.Tensor(426106780000.0, shape=(), dtype=float32)\n",
      "tf.Tensor(426104060000.0, shape=(), dtype=float32)\n",
      "tf.Tensor(426101370000.0, shape=(), dtype=float32)\n",
      "tf.Tensor(426098600000.0, shape=(), dtype=float32)\n",
      "tf.Tensor(426095900000.0, shape=(), dtype=float32)\n",
      "tf.Tensor(426093200000.0, shape=(), dtype=float32)\n",
      "tf.Tensor(426090500000.0, shape=(), dtype=float32)\n",
      "tf.Tensor(426087780000.0, shape=(), dtype=float32)\n",
      "tf.Tensor(426085100000.0, shape=(), dtype=float32)\n",
      "tf.Tensor(426082300000.0, shape=(), dtype=float32)\n",
      "tf.Tensor(426079620000.0, shape=(), dtype=float32)\n",
      "tf.Tensor(426076900000.0, shape=(), dtype=float32)\n",
      "tf.Tensor(426074140000.0, shape=(), dtype=float32)\n",
      "tf.Tensor(426071460000.0, shape=(), dtype=float32)\n",
      "tf.Tensor(426068740000.0, shape=(), dtype=float32)\n",
      "tf.Tensor(426066020000.0, shape=(), dtype=float32)\n",
      "tf.Tensor(426063330000.0, shape=(), dtype=float32)\n"
     ]
    }
   ],
   "source": [
    "# Minimize the loss function and print the loss\n",
    "for j in range(50):\n",
    "    opt.minimize(lambda: loss_function(intercept, slope),\n",
    "                 var_list=[intercept, slope])\n",
    "    print(loss_function(intercept, slope))"
   ]
  },
  {
   "cell_type": "code",
   "execution_count": 7,
   "metadata": {
    "ExecuteTime": {
     "end_time": "2020-12-06T20:30:36.233792Z",
     "start_time": "2020-12-06T20:30:36.228778Z"
    }
   },
   "outputs": [
    {
     "name": "stdout",
     "output_type": "stream",
     "text": [
      "0.14999881 0.14999883\n"
     ]
    }
   ],
   "source": [
    "# Print the trained parameters\n",
    "print(intercept.numpy(), slope.numpy())"
   ]
  },
  {
   "cell_type": "markdown",
   "metadata": {},
   "source": [
    "## Practice exercises for linear regression:\n",
    "\n",
    "$\\blacktriangleright$ **Package pre-loading:**"
   ]
  },
  {
   "cell_type": "code",
   "execution_count": 8,
   "metadata": {
    "ExecuteTime": {
     "end_time": "2020-12-06T20:30:36.334334Z",
     "start_time": "2020-12-06T20:30:36.252766Z"
    }
   },
   "outputs": [],
   "source": [
    "import pandas as pd\n",
    "import numpy as np\n",
    "from tensorflow import add, multiply, keras"
   ]
  },
  {
   "cell_type": "markdown",
   "metadata": {},
   "source": [
    "$\\blacktriangleright$ **Data pre-loading:**"
   ]
  },
  {
   "cell_type": "code",
   "execution_count": 9,
   "metadata": {
    "ExecuteTime": {
     "end_time": "2020-12-06T20:30:36.683370Z",
     "start_time": "2020-12-06T20:30:36.355097Z"
    }
   },
   "outputs": [],
   "source": [
    "housing = pd.read_csv('ref1. King county house sales.csv')\n",
    "price_log = np.log(np.array(housing['price'], np.float32))\n",
    "size_log = np.log(np.array(housing['sqft_lot'], np.float32))"
   ]
  },
  {
   "cell_type": "markdown",
   "metadata": {},
   "source": [
    "$\\blacktriangleright$ **Linear regression set-up practice:**"
   ]
  },
  {
   "cell_type": "code",
   "execution_count": 10,
   "metadata": {
    "ExecuteTime": {
     "end_time": "2020-12-06T20:30:36.700901Z",
     "start_time": "2020-12-06T20:30:36.687799Z"
    }
   },
   "outputs": [
    {
     "name": "stdout",
     "output_type": "stream",
     "text": [
      "145.44653\n",
      "71.866\n"
     ]
    }
   ],
   "source": [
    "# Define a linear regression model\n",
    "def linear_regression(intercept, slope, features=size_log):\n",
    "    return add(intercept, multiply(features, slope))\n",
    "\n",
    "\n",
    "# Set loss_function() to take the variables as arguments\n",
    "def loss_function(intercept, slope, features=size_log, targets=price_log):\n",
    "    # Set the predicted values\n",
    "    predictions = linear_regression(intercept, slope, features)\n",
    "\n",
    "    # Return the mean squared error loss\n",
    "    return keras.losses.mse(targets, predictions)\n",
    "\n",
    "\n",
    "# Compute the loss for different slope and intercept values\n",
    "print(loss_function(0.1, 0.1).numpy())\n",
    "print(loss_function(0.1, 0.5).numpy())"
   ]
  },
  {
   "cell_type": "markdown",
   "metadata": {},
   "source": [
    "$\\blacktriangleright$ **Package re-pre-loading:**"
   ]
  },
  {
   "cell_type": "code",
   "execution_count": 11,
   "metadata": {
    "ExecuteTime": {
     "end_time": "2020-12-06T20:30:37.554319Z",
     "start_time": "2020-12-06T20:30:36.706435Z"
    }
   },
   "outputs": [],
   "source": [
    "from tensorflow import Variable\n",
    "import matplotlib.pyplot as plt"
   ]
  },
  {
   "cell_type": "markdown",
   "metadata": {},
   "source": [
    "$\\blacktriangleright$ **Data re-pre-loading:**"
   ]
  },
  {
   "cell_type": "code",
   "execution_count": 12,
   "metadata": {
    "ExecuteTime": {
     "end_time": "2020-12-06T20:30:37.565772Z",
     "start_time": "2020-12-06T20:30:37.556302Z"
    }
   },
   "outputs": [],
   "source": [
    "intercept = Variable(5, dtype=np.float32)\n",
    "slope = Variable(0.001, dtype=np.float32)"
   ]
  },
  {
   "cell_type": "markdown",
   "metadata": {},
   "source": [
    "$\\blacktriangleright$ **Code pre-loading:**"
   ]
  },
  {
   "cell_type": "code",
   "execution_count": 13,
   "metadata": {
    "ExecuteTime": {
     "end_time": "2020-12-06T20:30:37.579975Z",
     "start_time": "2020-12-06T20:30:37.572175Z"
    }
   },
   "outputs": [],
   "source": [
    "def plot_results(intercept, slope):\n",
    "    size_range = np.linspace(6, 14, 100)\n",
    "    price_pred = [intercept + slope * s for s in size_range]\n",
    "    plt.scatter(size_log, price_log, color='black')\n",
    "    plt.plot(size_range, price_pred, linewidth=3.0, color='red')\n",
    "    plt.xlabel('log(size)')\n",
    "    plt.ylabel('log(price)')\n",
    "    plt.title('Scatterplot of data and fitted regression line')\n",
    "    plt.show()"
   ]
  },
  {
   "cell_type": "markdown",
   "metadata": {},
   "source": [
    "$\\blacktriangleright$ **Linear model training practice:**"
   ]
  },
  {
   "cell_type": "code",
   "execution_count": 14,
   "metadata": {
    "ExecuteTime": {
     "end_time": "2020-12-06T20:30:38.084575Z",
     "start_time": "2020-12-06T20:30:37.581941Z"
    }
   },
   "outputs": [
    {
     "name": "stdout",
     "output_type": "stream",
     "text": [
      "9.681214\n",
      "11.737101\n",
      "1.1297756\n",
      "1.6701097\n",
      "0.80904144\n",
      "0.81259125\n",
      "0.6220206\n",
      "0.6118439\n",
      "0.5933767\n",
      "0.57028323\n"
     ]
    },
    {
     "data": {
      "image/png": "[encoded data removed]",
      "text/plain": [
       "<Figure size 432x288 with 1 Axes>"
      ]
     },
     "metadata": {
      "needs_background": "light"
     },
     "output_type": "display_data"
    }
   ],
   "source": [
    "# Initialize an adam optimizer\n",
    "opt = keras.optimizers.Adam(0.5)\n",
    "\n",
    "for j in range(100):\n",
    "    # Apply minimize, pass the loss function, and supply the variables\n",
    "    opt.minimize(lambda: loss_function(intercept, slope),\n",
    "                 var_list=[intercept, slope])\n",
    "\n",
    "    # Print every 10th value of the loss\n",
    "    if j % 10 == 0:\n",
    "        print(loss_function(intercept, slope).numpy())\n",
    "\n",
    "# Plot data and regression line\n",
    "plot_results(intercept, slope)"
   ]
  },
  {
   "cell_type": "code",
   "execution_count": null,
   "metadata": {
    "ExecuteTime": {
     "end_time": "2020-11-25T10:57:47.749349Z",
     "start_time": "2020-11-25T10:57:47.744379Z"
    }
   },
   "outputs": [],
   "source": []
  },
  {
   "cell_type": "code",
   "execution_count": null,
   "metadata": {},
   "outputs": [],
   "source": []
  },
  {
   "cell_type": "code",
   "execution_count": 15,
   "metadata": {
    "ExecuteTime": {
     "end_time": "2020-12-06T20:30:38.096295Z",
     "start_time": "2020-12-06T20:30:38.088733Z"
    }
   },
   "outputs": [
    {
     "data": {
      "text/plain": [
       "array([8.639411 , 8.887652 , 9.2103405, ..., 7.20786  , 7.7782116,\n",
       "       6.9810057], dtype=float32)"
      ]
     },
     "execution_count": 15,
     "metadata": {},
     "output_type": "execute_result"
    }
   ],
   "source": [
    "size_log"
   ]
  },
  {
   "cell_type": "markdown",
   "metadata": {},
   "source": [
    "$\\blacktriangleright$ **Multiple linear regression practice:**"
   ]
  },
  {
   "cell_type": "code",
   "execution_count": null,
   "metadata": {},
   "outputs": [],
   "source": []
  },
  {
   "cell_type": "code",
   "execution_count": null,
   "metadata": {},
   "outputs": [],
   "source": []
  },
  {
   "cell_type": "code",
   "execution_count": 16,
   "metadata": {
    "ExecuteTime": {
     "end_time": "2020-12-06T20:30:38.103880Z",
     "start_time": "2020-12-06T20:30:38.100104Z"
    }
   },
   "outputs": [],
   "source": [
    "from tensorflow import Variable, float32"
   ]
  },
  {
   "cell_type": "markdown",
   "metadata": {},
   "source": [
    "$\\blacktriangleright$ **Data re-pre-loading:**"
   ]
  },
  {
   "cell_type": "code",
   "execution_count": 17,
   "metadata": {
    "ExecuteTime": {
     "end_time": "2020-12-06T20:30:38.122580Z",
     "start_time": "2020-12-06T20:30:38.110958Z"
    }
   },
   "outputs": [],
   "source": [
    "features = Variable([1., 2., 3., 4., 5.], dtype=float32)\n",
    "targets = Variable([2., 4., 6., 8., 10.], dtype=float32)"
   ]
  },
  {
   "cell_type": "markdown",
   "metadata": {},
   "source": [
    "$\\blacktriangleright$ **Loss function modification practice:**"
   ]
  },
  {
   "cell_type": "code",
   "execution_count": 18,
   "metadata": {
    "ExecuteTime": {
     "end_time": "2020-12-06T20:30:38.140969Z",
     "start_time": "2020-12-06T20:30:38.130430Z"
    }
   },
   "outputs": [
    {
     "name": "stdout",
     "output_type": "stream",
     "text": [
      "3.0\n"
     ]
    }
   ],
   "source": [
    "# Initialize a variable named scalar\n",
    "scalar = Variable(1.0, float32)\n",
    "\n",
    "\n",
    "# Define the model\n",
    "def model(scalar, features=features):\n",
    "    return scalar * features\n",
    "\n",
    "\n",
    "# Define a loss function\n",
    "def loss_function(scalar, features=features, targets=targets):\n",
    "    # Compute the predicted values\n",
    "    predictions = model(scalar, features)\n",
    "\n",
    "    # Return the mean absolute error loss\n",
    "    return keras.losses.mae(targets, predictions)\n",
    "\n",
    "\n",
    "# Evaluate the loss function and print the loss\n",
    "print(loss_function(scalar).numpy())"
   ]
  }
 ],
 "metadata": {
  "kernelspec": {
   "display_name": "Python 3",
   "language": "python",
   "name": "python3"
  },
  "language_info": {
   "codemirror_mode": {
    "name": "ipython",
    "version": 3
   },
   "file_extension": ".py",
   "mimetype": "text/x-python",
   "name": "python",
   "nbconvert_exporter": "python",
   "pygments_lexer": "ipython3",
   "version": "3.7.6"
  },
  "latex_envs": {
   "LaTeX_envs_menu_present": true,
   "autoclose": true,
   "autocomplete": true,
   "bibliofile": "biblio.bib",
   "cite_by": "apalike",
   "current_citInitial": 1,
   "eqLabelWithNumbers": true,
   "eqNumInitial": 1,
   "hotkeys": {
    "equation": "Ctrl-E",
    "itemize": "Ctrl-I"
   },
   "labels_anchors": false,
   "latex_user_defs": false,
   "report_style_numbering": true,
   "user_envs_cfg": true
  },
  "nbTranslate": {
   "displayLangs": [
    "*"
   ],
   "hotkey": "alt-t",
   "langInMainMenu": true,
   "sourceLang": "en",
   "targetLang": "fr",
   "useGoogleTranslate": true
  },
  "toc": {
   "base_numbering": 1,
   "nav_menu": {},
   "number_sections": true,
   "sideBar": true,
   "skip_h1_title": false,
   "title_cell": "Table of Contents",
   "title_sidebar": "Contents",
   "toc_cell": false,
   "toc_position": {
    "height": "calc(100% - 180px)",
    "left": "10px",
    "top": "150px",
    "width": "288px"
   },
   "toc_section_display": true,
   "toc_window_display": true
  },
  "varInspector": {
   "cols": {
    "lenName": 16,
    "lenType": 16,
    "lenVar": 40
   },
   "kernels_config": {
    "python": {
     "delete_cmd_postfix": "",
     "delete_cmd_prefix": "del ",
     "library": "var_list.py",
     "varRefreshCmd": "print(var_dic_list())"
    },
    "r": {
     "delete_cmd_postfix": ") ",
     "delete_cmd_prefix": "rm(",
     "library": "var_list.r",
     "varRefreshCmd": "cat(var_dic_list()) "
    }
   },
   "position": {
    "height": "207px",
    "left": "1080px",
    "right": "20px",
    "top": "120px",
    "width": "340px"
   },
   "types_to_exclude": [
    "module",
    "function",
    "builtin_function_or_method",
    "instance",
    "_Feature"
   ],
   "window_display": true
  }
 },
 "nbformat": 4,
 "nbformat_minor": 4
}
