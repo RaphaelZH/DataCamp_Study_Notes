{
 "cells": [
  {
   "cell_type": "markdown",
   "metadata": {
    "toc": true
   },
   "source": [
    "<h1>Table of Contents<span class=\"tocSkip\"></span></h1>\n",
    "<div class=\"toc\"><ul class=\"toc-item\"><li><span><a href=\"#Dense-layers\" data-toc-modified-id=\"Dense-layers-1\"><span class=\"toc-item-num\">1&nbsp;&nbsp;</span>Dense layers</a></span><ul class=\"toc-item\"><li><span><a href=\"#[note-1]-The-linear-regression-model\" data-toc-modified-id=\"[note-1]-The-linear-regression-model-1.1\"><span class=\"toc-item-num\">1.1&nbsp;&nbsp;</span><code>[note-1]</code> The linear regression model</a></span></li><li><span><a href=\"#[note-2]-What-is-a-neural-network?\" data-toc-modified-id=\"[note-2]-What-is-a-neural-network?-1.2\"><span class=\"toc-item-num\">1.2&nbsp;&nbsp;</span><code>[note-2]</code> What is a neural network?</a></span></li><li><span><a href=\"#[code-1]-A-simple-dense-layer\" data-toc-modified-id=\"[code-1]-A-simple-dense-layer-1.3\"><span class=\"toc-item-num\">1.3&nbsp;&nbsp;</span><code>[code-1]</code> A simple dense layer</a></span></li><li><span><a href=\"#[code-2]-Defining-a-complete-model\" data-toc-modified-id=\"[code-2]-Defining-a-complete-model-1.4\"><span class=\"toc-item-num\">1.4&nbsp;&nbsp;</span><code>[code-2]</code> Defining a complete model</a></span></li><li><span><a href=\"#[task-1]-The-linear-algebra-of-dense-layers\" data-toc-modified-id=\"[task-1]-The-linear-algebra-of-dense-layers-1.5\"><span class=\"toc-item-num\">1.5&nbsp;&nbsp;</span><code>[task-1]</code> The linear algebra of dense layers</a></span></li><li><span><a href=\"#[task-2]-The-low-level-approach-with-multiple-examples\" data-toc-modified-id=\"[task-2]-The-low-level-approach-with-multiple-examples-1.6\"><span class=\"toc-item-num\">1.6&nbsp;&nbsp;</span><code>[task-2]</code> The low-level approach with multiple examples</a></span></li><li><span><a href=\"#[task-3]-Using-the-dense-layer-operation\" data-toc-modified-id=\"[task-3]-Using-the-dense-layer-operation-1.7\"><span class=\"toc-item-num\">1.7&nbsp;&nbsp;</span><code>[task-3]</code> Using the dense layer operation</a></span></li></ul></li><li><span><a href=\"#Requirements\" data-toc-modified-id=\"Requirements-2\"><span class=\"toc-item-num\">2&nbsp;&nbsp;</span>Requirements</a></span></li></ul></div>"
   ]
  },
  {
   "cell_type": "markdown",
   "metadata": {},
   "source": [
    "# Dense layers"
   ]
  },
  {
   "attachments": {},
   "cell_type": "markdown",
   "metadata": {},
   "source": [
    "## `[note-1]` The linear regression model\n",
    "\n",
    "![The linear regression model](../Figures/1.%20The%20linear%20regression%20model.jpg)"
   ]
  },
  {
   "cell_type": "markdown",
   "metadata": {},
   "source": [
    "## `[note-2]` What is a neural network?\n",
    "\n",
    "* A dense layer applies weights to all nodes from the previous layer.\n",
    "\n",
    "![What is a neural network](../Figures/2.%20What%20is%20a%20neural%20network.jpg)"
   ]
  },
  {
   "cell_type": "markdown",
   "metadata": {},
   "source": [
    "## `[code-1]` A simple dense layer\n",
    "\n",
    "![A simple dense layer](../Figures/3.%20A%20simple%20dense%20layer.jpg)"
   ]
  },
  {
   "cell_type": "code",
   "execution_count": null,
   "metadata": {
    "ExecuteTime": {
     "end_time": "2021-05-16T18:38:23.383667Z",
     "start_time": "2021-05-16T18:38:23.380282Z"
    }
   },
   "outputs": [],
   "source": [
    "import tensorflow as tf"
   ]
  },
  {
   "cell_type": "code",
   "execution_count": null,
   "metadata": {
    "ExecuteTime": {
     "end_time": "2021-05-16T18:38:23.777487Z",
     "start_time": "2021-05-16T18:38:23.774154Z"
    }
   },
   "outputs": [],
   "source": [
    "# Define inputs (features)\n",
    "inputs = tf.constant([[1, 35]], tf.float32)"
   ]
  },
  {
   "cell_type": "code",
   "execution_count": null,
   "metadata": {
    "ExecuteTime": {
     "end_time": "2021-05-16T18:38:24.126239Z",
     "start_time": "2021-05-16T18:38:24.122577Z"
    }
   },
   "outputs": [],
   "source": [
    "# Define weights\n",
    "weights = tf.Variable([[-0.05], [-0.01]])"
   ]
  },
  {
   "cell_type": "code",
   "execution_count": null,
   "metadata": {
    "ExecuteTime": {
     "end_time": "2021-05-16T18:38:24.444095Z",
     "start_time": "2021-05-16T18:38:24.439973Z"
    }
   },
   "outputs": [],
   "source": [
    "# Define the bias\n",
    "bias = tf.Variable([0.5])"
   ]
  },
  {
   "cell_type": "code",
   "execution_count": null,
   "metadata": {
    "ExecuteTime": {
     "end_time": "2021-05-16T18:38:24.759894Z",
     "start_time": "2021-05-16T18:38:24.755437Z"
    }
   },
   "outputs": [],
   "source": [
    "# Multiply inputs (features) by the weights\n",
    "product = tf.matmul(inputs, weights)\n",
    "\n",
    "product"
   ]
  },
  {
   "cell_type": "code",
   "execution_count": null,
   "metadata": {
    "ExecuteTime": {
     "end_time": "2021-05-16T18:38:25.221735Z",
     "start_time": "2021-05-16T18:38:25.212485Z"
    }
   },
   "outputs": [],
   "source": [
    "# Define dense layer\n",
    "dense = tf.keras.activations.sigmoid(product + bias)\n",
    "\n",
    "dense"
   ]
  },
  {
   "cell_type": "markdown",
   "metadata": {},
   "source": [
    "## `[code-2]` Defining a complete model\n",
    "\n",
    "![Defining a complete model](../Figures/4.%20Defining%20a%20complete%20model.jpg)"
   ]
  },
  {
   "cell_type": "code",
   "execution_count": null,
   "metadata": {
    "ExecuteTime": {
     "end_time": "2021-05-16T18:51:49.864862Z",
     "start_time": "2021-05-16T18:51:49.852973Z"
    }
   },
   "outputs": [],
   "source": [
    "import pandas as pd\n",
    "import tensorflow as tf\n",
    "\n",
    "c = pd.read_csv(\"../Datasets/1. Borrower features.csv\", header=None)\n",
    "c.shape\n",
    "data = pd.read_csv('../Datasets/1. UCI - default of credit card clients.csv',\n",
    "                   dtype=np.float32)"
   ]
  },
  {
   "cell_type": "code",
   "execution_count": null,
   "metadata": {
    "ExecuteTime": {
     "end_time": "2021-05-16T21:18:47.398135Z",
     "start_time": "2021-05-16T21:18:47.301898Z"
    }
   },
   "outputs": [],
   "source": [
    "# Define input (features) layer\n",
    "inputs = tf.constant(data, tf.float32)"
   ]
  },
  {
   "cell_type": "code",
   "execution_count": null,
   "metadata": {
    "ExecuteTime": {
     "end_time": "2021-05-16T21:03:02.392687Z",
     "start_time": "2021-05-16T21:03:02.149413Z"
    }
   },
   "outputs": [],
   "source": [
    "# Define first dense layer\n",
    "dense1 = tf.keras.layers.Dense(10, activation='sigmoid')(inputs)"
   ]
  },
  {
   "cell_type": "code",
   "execution_count": null,
   "metadata": {
    "ExecuteTime": {
     "end_time": "2021-05-16T21:03:02.933867Z",
     "start_time": "2021-05-16T21:03:02.924727Z"
    }
   },
   "outputs": [],
   "source": [
    "# Define second dense layer\n",
    "dense2 = tf.keras.layers.Dense(5, activation='sigmoid')(dense1)"
   ]
  },
  {
   "cell_type": "code",
   "execution_count": null,
   "metadata": {
    "ExecuteTime": {
     "end_time": "2021-05-16T21:03:17.629755Z",
     "start_time": "2021-05-16T21:03:17.618991Z"
    }
   },
   "outputs": [],
   "source": [
    "# Define output (predictions) layer\n",
    "outputs = tf.keras.layers.Dense(1, activation='sigmoid')(dense2)\n",
    "\n",
    "outputs"
   ]
  },
  {
   "cell_type": "code",
   "execution_count": null,
   "metadata": {},
   "outputs": [],
   "source": []
  },
  {
   "cell_type": "code",
   "execution_count": null,
   "metadata": {},
   "outputs": [],
   "source": []
  },
  {
   "cell_type": "code",
   "execution_count": null,
   "metadata": {},
   "outputs": [],
   "source": []
  },
  {
   "cell_type": "markdown",
   "metadata": {},
   "source": [
    "## `[task-1]` The linear algebra of dense layers\n",
    "\n",
    "$\\blacktriangleright$ **Task diagram**\n",
    "\n",
    "![The linear algebra of dense layers](../Figures/5.%20The%20linear%20algebra%20of%20dense%20layers.png)"
   ]
  },
  {
   "cell_type": "markdown",
   "metadata": {},
   "source": [
    "$\\blacktriangleright$ **Package pre-loading**"
   ]
  },
  {
   "cell_type": "code",
   "execution_count": 1,
   "metadata": {
    "ExecuteTime": {
     "end_time": "2021-05-17T14:14:17.525678Z",
     "start_time": "2021-05-17T14:14:09.023982Z"
    }
   },
   "outputs": [],
   "source": [
    "import numpy as np\n",
    "from tensorflow import Variable, ones, matmul, keras"
   ]
  },
  {
   "cell_type": "markdown",
   "metadata": {},
   "source": [
    "$\\blacktriangleright$ **Data pre-loading**"
   ]
  },
  {
   "cell_type": "code",
   "execution_count": 2,
   "metadata": {
    "ExecuteTime": {
     "end_time": "2021-05-17T14:14:23.542114Z",
     "start_time": "2021-05-17T14:14:23.538684Z"
    }
   },
   "outputs": [],
   "source": [
    "borrower_features = np.array([[2., 2., 43.]], dtype=np.float32)"
   ]
  },
  {
   "cell_type": "markdown",
   "metadata": {},
   "source": [
    "$\\blacktriangleright$ **Task practice 1/2**"
   ]
  },
  {
   "cell_type": "code",
   "execution_count": 3,
   "metadata": {
    "ExecuteTime": {
     "end_time": "2021-05-17T14:14:25.823421Z",
     "start_time": "2021-05-17T14:14:25.697748Z"
    }
   },
   "outputs": [
    {
     "name": "stdout",
     "output_type": "stream",
     "text": [
      "\n",
      " dense1's output shape: (1, 2)\n"
     ]
    }
   ],
   "source": [
    "# Initialize bias1\n",
    "bias1 = Variable(1.0)\n",
    "\n",
    "# Initialize weights1 as 3x2 variable of ones\n",
    "weights1 = Variable(ones((3, 2)))\n",
    "\n",
    "# Perform matrix multiplication of borrower_features and weights1\n",
    "product1 = matmul(borrower_features, weights1)\n",
    "\n",
    "# Apply sigmoid activation function to product1 + bias1\n",
    "dense1 = keras.activations.sigmoid(product1 + bias1)\n",
    "\n",
    "# Print shape of dense1\n",
    "print(\"\\n dense1's output shape: {}\".format(dense1.shape))"
   ]
  },
  {
   "cell_type": "markdown",
   "metadata": {
    "ExecuteTime": {
     "end_time": "2021-05-17T11:15:37.711019Z",
     "start_time": "2021-05-17T11:15:37.705711Z"
    }
   },
   "source": [
    "$\\blacktriangleright$ **Task practice 2/2**"
   ]
  },
  {
   "cell_type": "code",
   "execution_count": 4,
   "metadata": {
    "ExecuteTime": {
     "end_time": "2021-05-17T14:14:27.791136Z",
     "start_time": "2021-05-17T14:14:27.779592Z"
    }
   },
   "outputs": [
    {
     "name": "stdout",
     "output_type": "stream",
     "text": [
      "\n",
      " prediction: 0.9525741338729858\n",
      "\n",
      " actual: 1\n"
     ]
    }
   ],
   "source": [
    "# From previous step\n",
    "bias1 = Variable(1.0)\n",
    "weights1 = Variable(ones((3, 2)))\n",
    "product1 = matmul(borrower_features, weights1)\n",
    "dense1 = keras.activations.sigmoid(product1 + bias1)\n",
    "\n",
    "# Initialize bias2 and weights2\n",
    "bias2 = Variable(1.0)\n",
    "weights2 = Variable(ones((2, 1)))\n",
    "\n",
    "# Perform matrix multiplication of dense1 and weights2\n",
    "product2 = matmul(dense1, weights2)\n",
    "\n",
    "# Apply activation to product2 + bias2 and print the prediction\n",
    "prediction = keras.activations.sigmoid(product2 + bias2)\n",
    "print('\\n prediction: {}'.format(prediction.numpy()[0, 0]))\n",
    "print('\\n actual: 1')"
   ]
  },
  {
   "cell_type": "markdown",
   "metadata": {},
   "source": [
    "## `[task-2]` The low-level approach with multiple examples\n",
    "\n",
    "$\\blacktriangleright$ **Task instruction**\n",
    "\n",
    "\\begin{equation*}products1\\ =\\ \\begin{bmatrix}\\ 3 & 3 & 23 \\\\ 2 & 1 & 24 \\\\ 1 & 1 &   49 \\\\ 1 & 1 & 49 \\\\ 2 & 1 & 29\\ \\end{bmatrix}\\ \\begin{bmatrix}\\ -0.6 & 0.6 \\\\ 0.8 & -0.3 \\\\ -0.09 & -0.08\\ \\end{bmatrix}\\end{equation*}"
   ]
  },
  {
   "cell_type": "markdown",
   "metadata": {
    "ExecuteTime": {
     "end_time": "2021-05-16T21:22:45.269760Z",
     "start_time": "2021-05-16T21:22:45.260425Z"
    }
   },
   "source": [
    "$\\blacktriangleright$ **Package pre-loading**"
   ]
  },
  {
   "cell_type": "code",
   "execution_count": 5,
   "metadata": {
    "ExecuteTime": {
     "end_time": "2021-05-17T14:14:31.834083Z",
     "start_time": "2021-05-17T14:14:31.831308Z"
    }
   },
   "outputs": [],
   "source": [
    "from tensorflow import constant, float32"
   ]
  },
  {
   "cell_type": "markdown",
   "metadata": {},
   "source": [
    "$\\blacktriangleright$ **Data pre-loading**"
   ]
  },
  {
   "cell_type": "code",
   "execution_count": 6,
   "metadata": {
    "ExecuteTime": {
     "end_time": "2021-05-17T14:14:36.662636Z",
     "start_time": "2021-05-17T14:14:36.646539Z"
    }
   },
   "outputs": [],
   "source": [
    "borrower_features = constant([[3., 3., 23.], [2., 1., 24.], [1., 1., 49.],\n",
    "                              [1., 1., 49.], [2., 1., 29.]],\n",
    "                             dtype=float32)\n",
    "bias1 = constant([0.1], dtype=float32)"
   ]
  },
  {
   "cell_type": "markdown",
   "metadata": {},
   "source": [
    "$\\blacktriangleright$ **Task practice**"
   ]
  },
  {
   "cell_type": "code",
   "execution_count": 7,
   "metadata": {
    "ExecuteTime": {
     "end_time": "2021-05-17T14:14:46.194092Z",
     "start_time": "2021-05-17T14:14:46.025463Z"
    }
   },
   "outputs": [
    {
     "name": "stdout",
     "output_type": "stream",
     "text": [
      "\n",
      " shape of borrower_features:  (5, 3)\n",
      "\n",
      " shape of weights1:  (3, 2)\n",
      "\n",
      " shape of bias1:  (1,)\n",
      "\n",
      " shape of dense1:  (5, 2)\n"
     ]
    }
   ],
   "source": [
    "# Compute the product of borrower_features and weights1\n",
    "products1 = matmul(borrower_features, weights1)\n",
    "\n",
    "# Apply a sigmoid activation function to products1 + bias1\n",
    "dense1 = keras.activations.sigmoid(products1 + bias1)\n",
    "\n",
    "# Print the shapes of borrower_features, weights1, bias1, and dense1\n",
    "print('\\n shape of borrower_features: ', borrower_features.shape)\n",
    "print('\\n shape of weights1: ', weights1.shape)\n",
    "print('\\n shape of bias1: ', bias1.shape)\n",
    "print('\\n shape of dense1: ', dense1.shape)"
   ]
  },
  {
   "cell_type": "markdown",
   "metadata": {},
   "source": [
    "## `[task-3]` Using the dense layer operation\n",
    "\n",
    "$\\blacktriangleright$ **Task diagram**\n",
    "\n",
    "![Using the dense layer operation](../Figures/6.%20Using%20the%20dense%20layer%20operation.png)"
   ]
  },
  {
   "cell_type": "markdown",
   "metadata": {},
   "source": [
    "$\\blacktriangleright$ **Package pre-loading**"
   ]
  },
  {
   "cell_type": "code",
   "execution_count": 14,
   "metadata": {
    "ExecuteTime": {
     "end_time": "2021-05-17T14:21:29.364417Z",
     "start_time": "2021-05-17T14:21:29.354024Z"
    }
   },
   "outputs": [],
   "source": [
    "import pandas as pd"
   ]
  },
  {
   "cell_type": "markdown",
   "metadata": {},
   "source": [
    "$\\blacktriangleright$ **Data pre-loading**"
   ]
  },
  {
   "cell_type": "code",
   "execution_count": 15,
   "metadata": {
    "ExecuteTime": {
     "end_time": "2021-05-17T14:21:31.608889Z",
     "start_time": "2021-05-17T14:21:31.591349Z"
    }
   },
   "outputs": [],
   "source": [
    "df = pd.read_csv(\"../Datasets/1. Borrower features.csv\", header=None)\n",
    "borrower_features = constant(df, dtype=float32)"
   ]
  },
  {
   "cell_type": "markdown",
   "metadata": {},
   "source": [
    "$\\blacktriangleright$ **Task practice**"
   ]
  },
  {
   "cell_type": "code",
   "execution_count": 16,
   "metadata": {
    "ExecuteTime": {
     "end_time": "2021-05-17T14:21:33.521200Z",
     "start_time": "2021-05-17T14:21:33.433572Z"
    }
   },
   "outputs": [
    {
     "name": "stdout",
     "output_type": "stream",
     "text": [
      "\n",
      " shape of dense1:  (100, 7)\n",
      "\n",
      " shape of dense2:  (100, 3)\n",
      "\n",
      " shape of predictions:  (100, 1)\n"
     ]
    }
   ],
   "source": [
    "# Define the first dense layer\n",
    "dense1 = keras.layers.Dense(7, activation='sigmoid')(borrower_features)\n",
    "\n",
    "# Define a dense layer with 3 output nodes\n",
    "dense2 = keras.layers.Dense(3, activation='sigmoid')(dense1)\n",
    "\n",
    "# Define a dense layer with 1 output node\n",
    "predictions = keras.layers.Dense(1, activation='sigmoid')(dense2)\n",
    "\n",
    "# Print the shapes of dense1, dense2, and predictions\n",
    "print('\\n shape of dense1: ', dense1.shape)\n",
    "print('\\n shape of dense2: ', dense2.shape)\n",
    "print('\\n shape of predictions: ', predictions.shape)"
   ]
  },
  {
   "cell_type": "code",
   "execution_count": null,
   "metadata": {
    "ExecuteTime": {
     "end_time": "2021-05-16T22:42:18.879035Z",
     "start_time": "2021-05-16T22:42:18.871213Z"
    }
   },
   "outputs": [],
   "source": []
  },
  {
   "cell_type": "code",
   "execution_count": null,
   "metadata": {},
   "outputs": [],
   "source": []
  },
  {
   "cell_type": "code",
   "execution_count": null,
   "metadata": {},
   "outputs": [],
   "source": []
  },
  {
   "cell_type": "code",
   "execution_count": null,
   "metadata": {},
   "outputs": [],
   "source": []
  },
  {
   "cell_type": "code",
   "execution_count": null,
   "metadata": {},
   "outputs": [],
   "source": []
  },
  {
   "cell_type": "code",
   "execution_count": null,
   "metadata": {},
   "outputs": [],
   "source": []
  },
  {
   "cell_type": "code",
   "execution_count": null,
   "metadata": {},
   "outputs": [],
   "source": []
  },
  {
   "cell_type": "code",
   "execution_count": null,
   "metadata": {},
   "outputs": [],
   "source": []
  },
  {
   "cell_type": "code",
   "execution_count": null,
   "metadata": {},
   "outputs": [],
   "source": []
  },
  {
   "cell_type": "code",
   "execution_count": null,
   "metadata": {},
   "outputs": [],
   "source": []
  },
  {
   "cell_type": "markdown",
   "metadata": {},
   "source": [
    "# Requirements"
   ]
  },
  {
   "cell_type": "code",
   "execution_count": null,
   "metadata": {
    "ExecuteTime": {
     "end_time": "2021-05-15T22:04:15.909782Z",
     "start_time": "2021-05-15T22:04:15.890234Z"
    }
   },
   "outputs": [],
   "source": [
    "from platform import python_version\n",
    "import sklearn\n",
    "\n",
    "python_version = ('python=={}'.format(python_version()))\n",
    "numpy_version = ('numpy=={}'.format(np.__version__))\n",
    "pandas_version = ('pandas=={}'.format(pd.__version__))\n",
    "tensorflow_version = ('tensorflow=={}'.format(tf.__version__))\n",
    "scikit_learn_version = ('scikit-learn=={}'.format(sklearn.__version__))\n",
    "\n",
    "writepath = '../../requirements.txt'\n",
    "requirements = []\n",
    "packages = [\n",
    "    numpy_version, pandas_version, tensorflow_version, scikit_learn_version\n",
    "]\n",
    "\n",
    "try:\n",
    "    with open(writepath, 'r+') as file:\n",
    "        for line in file:\n",
    "            requirements.append(line.strip('\\n'))\n",
    "except:\n",
    "    with open(writepath, 'w+') as file:\n",
    "        for line in file:\n",
    "            requirements.append(line.strip('\\n'))\n",
    "\n",
    "with open(writepath, 'a') as file:\n",
    "    for package in packages:\n",
    "        if package not in requirements:\n",
    "            file.write(package + '\\n')\n",
    "\n",
    "max_characters = len(python_version)\n",
    "for package in packages:\n",
    "    if max(max_characters, len(package)) > max_characters:\n",
    "        max_characters = max(max_characters, len(package))\n",
    "\n",
    "print('#' * (max_characters + 8))\n",
    "print('#' * 2 + ' ' * (max_characters + 4) + '#' * 2)\n",
    "print('#' * 2 + ' ' * 2 + python_version + ' ' *\n",
    "      (max_characters - len(python_version) + 2) + '#' * 2)\n",
    "for package in packages:\n",
    "    print('#' * 2 + ' ' * 2 + package + ' ' *\n",
    "          (max_characters - len(package) + 2) + '#' * 2)\n",
    "print('#' * 2 + ' ' * (max_characters + 4) + '#' * 2)\n",
    "print('#' * (max_characters + 8))"
   ]
  }
 ],
 "metadata": {
  "kernelspec": {
   "display_name": "Python 3",
   "language": "python",
   "name": "python3"
  },
  "language_info": {
   "codemirror_mode": {
    "name": "ipython",
    "version": 3
   },
   "file_extension": ".py",
   "mimetype": "text/x-python",
   "name": "python",
   "nbconvert_exporter": "python",
   "pygments_lexer": "ipython3",
   "version": "3.7.9"
  },
  "latex_envs": {
   "LaTeX_envs_menu_present": true,
   "autoclose": true,
   "autocomplete": true,
   "bibliofile": "biblio.bib",
   "cite_by": "apalike",
   "current_citInitial": 1,
   "eqLabelWithNumbers": true,
   "eqNumInitial": 1,
   "hotkeys": {
    "equation": "Ctrl-E",
    "itemize": "Ctrl-I"
   },
   "labels_anchors": false,
   "latex_user_defs": false,
   "report_style_numbering": true,
   "user_envs_cfg": true
  },
  "nbTranslate": {
   "displayLangs": [
    "*"
   ],
   "hotkey": "alt-t",
   "langInMainMenu": true,
   "sourceLang": "en",
   "targetLang": "fr",
   "useGoogleTranslate": true
  },
  "toc": {
   "base_numbering": 1,
   "nav_menu": {},
   "number_sections": true,
   "sideBar": true,
   "skip_h1_title": false,
   "title_cell": "Table of Contents",
   "title_sidebar": "Contents",
   "toc_cell": true,
   "toc_position": {
    "height": "calc(100% - 180px)",
    "left": "10px",
    "top": "150px",
    "width": "287.986px"
   },
   "toc_section_display": true,
   "toc_window_display": true
  },
  "varInspector": {
   "cols": {
    "lenName": 16,
    "lenType": 16,
    "lenVar": 40
   },
   "kernels_config": {
    "python": {
     "delete_cmd_postfix": "",
     "delete_cmd_prefix": "del ",
     "library": "var_list.py",
     "varRefreshCmd": "print(var_dic_list())"
    },
    "r": {
     "delete_cmd_postfix": ") ",
     "delete_cmd_prefix": "rm(",
     "library": "var_list.r",
     "varRefreshCmd": "cat(var_dic_list()) "
    }
   },
   "types_to_exclude": [
    "module",
    "function",
    "builtin_function_or_method",
    "instance",
    "_Feature"
   ],
   "window_display": true
  }
 },
 "nbformat": 4,
 "nbformat_minor": 4
}
