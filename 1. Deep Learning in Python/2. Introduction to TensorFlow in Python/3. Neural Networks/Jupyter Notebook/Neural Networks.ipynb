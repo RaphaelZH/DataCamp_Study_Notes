{
 "cells": [
  {
   "cell_type": "markdown",
   "metadata": {
    "toc": true
   },
   "source": [
    "<h1>Table of Contents<span class=\"tocSkip\"></span></h1>\n",
    "<div class=\"toc\"><ul class=\"toc-item\"><li><span><a href=\"#Dense-layers\" data-toc-modified-id=\"Dense-layers-1\"><span class=\"toc-item-num\">1&nbsp;&nbsp;</span>Dense layers</a></span><ul class=\"toc-item\"><li><span><a href=\"#[note-1]-The-linear-regression-model\" data-toc-modified-id=\"[note-1]-The-linear-regression-model-1.1\"><span class=\"toc-item-num\">1.1&nbsp;&nbsp;</span><code>[note-1]</code> The linear regression model</a></span></li><li><span><a href=\"#[note-2]-What-is-a-neural-network?\" data-toc-modified-id=\"[note-2]-What-is-a-neural-network?-1.2\"><span class=\"toc-item-num\">1.2&nbsp;&nbsp;</span><code>[note-2]</code> What is a neural network?</a></span></li><li><span><a href=\"#[code-1]-A-simple-dense-layer\" data-toc-modified-id=\"[code-1]-A-simple-dense-layer-1.3\"><span class=\"toc-item-num\">1.3&nbsp;&nbsp;</span><code>[code-1]</code> A simple dense layer</a></span></li><li><span><a href=\"#[code-2]-Defining-a-complete-model\" data-toc-modified-id=\"[code-2]-Defining-a-complete-model-1.4\"><span class=\"toc-item-num\">1.4&nbsp;&nbsp;</span><code>[code-2]</code> Defining a complete model</a></span></li><li><span><a href=\"#[note-3]-High-level-versus-low-level-approach\" data-toc-modified-id=\"[note-3]-High-level-versus-low-level-approach-1.5\"><span class=\"toc-item-num\">1.5&nbsp;&nbsp;</span><code>[note-3]</code> High-level versus low-level approach</a></span></li><li><span><a href=\"#[task-1]-The-linear-algebra-of-dense-layers\" data-toc-modified-id=\"[task-1]-The-linear-algebra-of-dense-layers-1.6\"><span class=\"toc-item-num\">1.6&nbsp;&nbsp;</span><code>[task-1]</code> The linear algebra of dense layers</a></span></li><li><span><a href=\"#[task-2]-The-low-level-approach-with-multiple-examples\" data-toc-modified-id=\"[task-2]-The-low-level-approach-with-multiple-examples-1.7\"><span class=\"toc-item-num\">1.7&nbsp;&nbsp;</span><code>[task-2]</code> The low-level approach with multiple examples</a></span></li><li><span><a href=\"#[task-3]-Using-the-dense-layer-operation\" data-toc-modified-id=\"[task-3]-Using-the-dense-layer-operation-1.8\"><span class=\"toc-item-num\">1.8&nbsp;&nbsp;</span><code>[task-3]</code> Using the dense layer operation</a></span></li></ul></li><li><span><a href=\"#Activation-functions\" data-toc-modified-id=\"Activation-functions-2\"><span class=\"toc-item-num\">2&nbsp;&nbsp;</span>Activation functions</a></span><ul class=\"toc-item\"><li><span><a href=\"#[note-1]-What-is-an-activation-function?\" data-toc-modified-id=\"[note-1]-What-is-an-activation-function?-2.1\"><span class=\"toc-item-num\">2.1&nbsp;&nbsp;</span><code>[note-1]</code> What is an activation function?</a></span></li><li><span><a href=\"#[note-2]-Why-nonlinearities-are-important\" data-toc-modified-id=\"[note-2]-Why-nonlinearities-are-important-2.2\"><span class=\"toc-item-num\">2.2&nbsp;&nbsp;</span><code>[note-2]</code> Why nonlinearities are important</a></span></li><li><span><a href=\"#[code-1]-A-simple-example\" data-toc-modified-id=\"[code-1]-A-simple-example-2.3\"><span class=\"toc-item-num\">2.3&nbsp;&nbsp;</span><code>[code-1]</code> A simple example</a></span></li><li><span><a href=\"#[note-3]-The-sigmoid-activation-function\" data-toc-modified-id=\"[note-3]-The-sigmoid-activation-function-2.4\"><span class=\"toc-item-num\">2.4&nbsp;&nbsp;</span><code>[note-3]</code> The sigmoid activation function</a></span></li><li><span><a href=\"#[note-4]-The-relu-activation-function\" data-toc-modified-id=\"[note-4]-The-relu-activation-function-2.5\"><span class=\"toc-item-num\">2.5&nbsp;&nbsp;</span><code>[note-4]</code> The relu activation function</a></span></li><li><span><a href=\"#[note-5]-The-softmax-activation-function\" data-toc-modified-id=\"[note-5]-The-softmax-activation-function-2.6\"><span class=\"toc-item-num\">2.6&nbsp;&nbsp;</span><code>[note-5]</code> The softmax activation function</a></span></li><li><span><a href=\"#[code-2]-Activation-functions-in-neural-networks\" data-toc-modified-id=\"[code-2]-Activation-functions-in-neural-networks-2.7\"><span class=\"toc-item-num\">2.7&nbsp;&nbsp;</span><code>[code-2]</code> Activation functions in neural networks</a></span></li><li><span><a href=\"#[task-1]-Binary-classification-problems\" data-toc-modified-id=\"[task-1]-Binary-classification-problems-2.8\"><span class=\"toc-item-num\">2.8&nbsp;&nbsp;</span><code>[task-1]</code> Binary classification problems</a></span></li><li><span><a href=\"#[task-2]-Multiclass-classification-problems\" data-toc-modified-id=\"[task-2]-Multiclass-classification-problems-2.9\"><span class=\"toc-item-num\">2.9&nbsp;&nbsp;</span><code>[task-2]</code> Multiclass classification problems</a></span></li></ul></li><li><span><a href=\"#Optimizers\" data-toc-modified-id=\"Optimizers-3\"><span class=\"toc-item-num\">3&nbsp;&nbsp;</span>Optimizers</a></span><ul class=\"toc-item\"><li><span><a href=\"#[note-1]-How-to-find-a-minimum\" data-toc-modified-id=\"[note-1]-How-to-find-a-minimum-3.1\"><span class=\"toc-item-num\">3.1&nbsp;&nbsp;</span><code>[note-1]</code> How to find a minimum</a></span></li><li><span><a href=\"#[note-2]-The-gradient-descent-optimizer\" data-toc-modified-id=\"[note-2]-The-gradient-descent-optimizer-3.2\"><span class=\"toc-item-num\">3.2&nbsp;&nbsp;</span><code>[note-2]</code> The gradient descent optimizer</a></span></li><li><span><a href=\"#[note-3]-The-RMSprop-optimizer\" data-toc-modified-id=\"[note-3]-The-RMSprop-optimizer-3.3\"><span class=\"toc-item-num\">3.3&nbsp;&nbsp;</span><code>[note-3]</code> The RMSprop optimizer</a></span></li><li><span><a href=\"#[note-4]-The-adam-optimizer\" data-toc-modified-id=\"[note-4]-The-adam-optimizer-3.4\"><span class=\"toc-item-num\">3.4&nbsp;&nbsp;</span><code>[note-4]</code> The adam optimizer</a></span></li><li><span><a href=\"#[code-1]-A-complete-example\" data-toc-modified-id=\"[code-1]-A-complete-example-3.5\"><span class=\"toc-item-num\">3.5&nbsp;&nbsp;</span><code>[code-1]</code> A complete example</a></span></li><li><span><a href=\"#[task-1]-The-dangers-of-local-minima\" data-toc-modified-id=\"[task-1]-The-dangers-of-local-minima-3.6\"><span class=\"toc-item-num\">3.6&nbsp;&nbsp;</span><code>[task-1]</code> The dangers of local minima</a></span></li><li><span><a href=\"#[task-2]-Avoiding-local-minima\" data-toc-modified-id=\"[task-2]-Avoiding-local-minima-3.7\"><span class=\"toc-item-num\">3.7&nbsp;&nbsp;</span><code>[task-2]</code> Avoiding local minima</a></span></li></ul></li><li><span><a href=\"#Training-a-network-in-TensorFlow\" data-toc-modified-id=\"Training-a-network-in-TensorFlow-4\"><span class=\"toc-item-num\">4&nbsp;&nbsp;</span>Training a network in TensorFlow</a></span><ul class=\"toc-item\"><li><span><a href=\"#[note-1]-Random-initializers\" data-toc-modified-id=\"[note-1]-Random-initializers-4.1\"><span class=\"toc-item-num\">4.1&nbsp;&nbsp;</span><code>[note-1]</code> Random initializers</a></span></li><li><span><a href=\"#[code-1]-Initializing-variables-in-TensorFlow\" data-toc-modified-id=\"[code-1]-Initializing-variables-in-TensorFlow-4.2\"><span class=\"toc-item-num\">4.2&nbsp;&nbsp;</span><code>[code-1]</code> Initializing variables in TensorFlow</a></span></li><li><span><a href=\"#[note-2]-Neural-networks-and-overfitting\" data-toc-modified-id=\"[note-2]-Neural-networks-and-overfitting-4.3\"><span class=\"toc-item-num\">4.3&nbsp;&nbsp;</span><code>[note-2]</code> Neural networks and overfitting</a></span></li><li><span><a href=\"#[note-3]-Applying-dropout\" data-toc-modified-id=\"[note-3]-Applying-dropout-4.4\"><span class=\"toc-item-num\">4.4&nbsp;&nbsp;</span><code>[note-3]</code> Applying dropout</a></span></li><li><span><a href=\"#[code-2]-Implementing-dropout-in-a-network\" data-toc-modified-id=\"[code-2]-Implementing-dropout-in-a-network-4.5\"><span class=\"toc-item-num\">4.5&nbsp;&nbsp;</span><code>[code-2]</code> Implementing dropout in a network</a></span></li><li><span><a href=\"#[task-1]-Initialization-in-TensorFlow\" data-toc-modified-id=\"[task-1]-Initialization-in-TensorFlow-4.6\"><span class=\"toc-item-num\">4.6&nbsp;&nbsp;</span><code>[task-1]</code> Initialization in TensorFlow</a></span></li><li><span><a href=\"#[task-2]-Defining-the-model-and-loss-function\" data-toc-modified-id=\"[task-2]-Defining-the-model-and-loss-function-4.7\"><span class=\"toc-item-num\">4.7&nbsp;&nbsp;</span><code>[task-2]</code> Defining the model and loss function</a></span></li><li><span><a href=\"#[task-3]-Training-neural-networks-with-TensorFlow\" data-toc-modified-id=\"[task-3]-Training-neural-networks-with-TensorFlow-4.8\"><span class=\"toc-item-num\">4.8&nbsp;&nbsp;</span><code>[task-3]</code> Training neural networks with TensorFlow</a></span></li></ul></li><li><span><a href=\"#Requirements\" data-toc-modified-id=\"Requirements-5\"><span class=\"toc-item-num\">5&nbsp;&nbsp;</span>Requirements</a></span></li></ul></div>"
   ]
  },
  {
   "cell_type": "markdown",
   "metadata": {},
   "source": [
    "# Dense layers"
   ]
  },
  {
   "cell_type": "markdown",
   "metadata": {},
   "source": [
    "## `[note-1]` The linear regression model\n",
    "\n",
    "![The linear regression model](../Figures/1.%20The%20linear%20regression%20model.jpg)"
   ]
  },
  {
   "cell_type": "markdown",
   "metadata": {},
   "source": [
    "## `[note-2]` What is a neural network?\n",
    "\n",
    "* A dense layer applies weights to all nodes from the previous layer.\n",
    "\n",
    "![What is a neural network](../Figures/2.%20What%20is%20a%20neural%20network.jpg)"
   ]
  },
  {
   "cell_type": "markdown",
   "metadata": {},
   "source": [
    "## `[code-1]` A simple dense layer\n",
    "\n",
    "![A simple dense layer](../Figures/3.%20A%20simple%20dense%20layer.jpg)"
   ]
  },
  {
   "cell_type": "code",
   "execution_count": 1,
   "metadata": {
    "ExecuteTime": {
     "end_time": "2021-05-19T21:28:37.931588Z",
     "start_time": "2021-05-19T21:28:27.714199Z"
    }
   },
   "outputs": [],
   "source": [
    "import tensorflow as tf"
   ]
  },
  {
   "cell_type": "code",
   "execution_count": 2,
   "metadata": {
    "ExecuteTime": {
     "end_time": "2021-05-19T21:28:37.941317Z",
     "start_time": "2021-05-19T21:28:37.935857Z"
    }
   },
   "outputs": [],
   "source": [
    "# Define inputs (features)\n",
    "inputs = tf.constant([[1, 35]], tf.float32)"
   ]
  },
  {
   "cell_type": "code",
   "execution_count": 3,
   "metadata": {
    "ExecuteTime": {
     "end_time": "2021-05-19T21:28:37.953987Z",
     "start_time": "2021-05-19T21:28:37.947991Z"
    }
   },
   "outputs": [],
   "source": [
    "# Define weights\n",
    "weights = tf.Variable([[-0.05], [-0.01]])"
   ]
  },
  {
   "cell_type": "code",
   "execution_count": 4,
   "metadata": {
    "ExecuteTime": {
     "end_time": "2021-05-19T21:28:37.964556Z",
     "start_time": "2021-05-19T21:28:37.960394Z"
    }
   },
   "outputs": [],
   "source": [
    "# Define the bias\n",
    "bias = tf.Variable([0.5])"
   ]
  },
  {
   "cell_type": "code",
   "execution_count": 5,
   "metadata": {
    "ExecuteTime": {
     "end_time": "2021-05-19T21:28:37.987538Z",
     "start_time": "2021-05-19T21:28:37.970692Z"
    }
   },
   "outputs": [
    {
     "data": {
      "text/plain": [
       "<tf.Tensor: shape=(1, 1), dtype=float32, numpy=array([[-0.4]], dtype=float32)>"
      ]
     },
     "execution_count": 5,
     "metadata": {},
     "output_type": "execute_result"
    }
   ],
   "source": [
    "# Multiply inputs (features) by the weights\n",
    "product = tf.matmul(inputs, weights)\n",
    "\n",
    "product"
   ]
  },
  {
   "cell_type": "code",
   "execution_count": 6,
   "metadata": {
    "ExecuteTime": {
     "end_time": "2021-05-19T21:28:38.001489Z",
     "start_time": "2021-05-19T21:28:37.993191Z"
    }
   },
   "outputs": [
    {
     "data": {
      "text/plain": [
       "<tf.Tensor: shape=(1, 1), dtype=float32, numpy=array([[0.5249792]], dtype=float32)>"
      ]
     },
     "execution_count": 6,
     "metadata": {},
     "output_type": "execute_result"
    }
   ],
   "source": [
    "# Define dense layer\n",
    "dense = tf.keras.activations.sigmoid(product + bias)\n",
    "\n",
    "dense"
   ]
  },
  {
   "cell_type": "markdown",
   "metadata": {},
   "source": [
    "## `[code-2]` Defining a complete model\n",
    "\n",
    "![Defining a complete model](../Figures/4.%20Defining%20a%20complete%20model.jpg)"
   ]
  },
  {
   "cell_type": "code",
   "execution_count": 7,
   "metadata": {
    "ExecuteTime": {
     "end_time": "2021-05-19T21:28:38.029342Z",
     "start_time": "2021-05-19T21:28:38.007735Z"
    }
   },
   "outputs": [],
   "source": [
    "import pandas as pd\n",
    "import tensorflow as tf\n",
    "\n",
    "data = pd.read_csv(\"../Datasets/1. Borrower features_1.csv\", header=None)"
   ]
  },
  {
   "cell_type": "code",
   "execution_count": 8,
   "metadata": {
    "ExecuteTime": {
     "end_time": "2021-05-19T21:28:38.059723Z",
     "start_time": "2021-05-19T21:28:38.048676Z"
    }
   },
   "outputs": [
    {
     "data": {
      "text/plain": [
       "TensorShape([100, 10])"
      ]
     },
     "execution_count": 8,
     "metadata": {},
     "output_type": "execute_result"
    }
   ],
   "source": [
    "# Define input (features) layer\n",
    "inputs = tf.constant(data, tf.float32)\n",
    "\n",
    "inputs.shape"
   ]
  },
  {
   "cell_type": "code",
   "execution_count": 9,
   "metadata": {
    "ExecuteTime": {
     "end_time": "2021-05-19T21:28:38.142105Z",
     "start_time": "2021-05-19T21:28:38.070588Z"
    }
   },
   "outputs": [
    {
     "data": {
      "text/plain": [
       "TensorShape([100, 10])"
      ]
     },
     "execution_count": 9,
     "metadata": {},
     "output_type": "execute_result"
    }
   ],
   "source": [
    "# Define first dense layer\n",
    "dense1 = tf.keras.layers.Dense(10, activation='sigmoid')(inputs)\n",
    "\n",
    "dense1.shape"
   ]
  },
  {
   "cell_type": "code",
   "execution_count": 10,
   "metadata": {
    "ExecuteTime": {
     "end_time": "2021-05-19T21:28:38.165485Z",
     "start_time": "2021-05-19T21:28:38.146194Z"
    }
   },
   "outputs": [
    {
     "data": {
      "text/plain": [
       "TensorShape([100, 5])"
      ]
     },
     "execution_count": 10,
     "metadata": {},
     "output_type": "execute_result"
    }
   ],
   "source": [
    "# Define second dense layer\n",
    "dense2 = tf.keras.layers.Dense(5, activation='sigmoid')(dense1)\n",
    "\n",
    "dense2.shape"
   ]
  },
  {
   "cell_type": "code",
   "execution_count": 11,
   "metadata": {
    "ExecuteTime": {
     "end_time": "2021-05-19T21:28:38.185518Z",
     "start_time": "2021-05-19T21:28:38.169494Z"
    }
   },
   "outputs": [
    {
     "data": {
      "text/plain": [
       "TensorShape([100, 1])"
      ]
     },
     "execution_count": 11,
     "metadata": {},
     "output_type": "execute_result"
    }
   ],
   "source": [
    "# Define output (predictions) layer\n",
    "outputs = tf.keras.layers.Dense(1, activation='sigmoid')(dense2)\n",
    "\n",
    "outputs.shape"
   ]
  },
  {
   "cell_type": "markdown",
   "metadata": {},
   "source": [
    "## `[note-3]` High-level versus low-level approach\n",
    "\n",
    "* **High-level approach**:\n",
    "\n",
    "    * high-level API operations\n",
    "    \n",
    "    * example:\n",
    "\n",
    "        ```\n",
    "        dense = tensorflow.keras.layers.Dense(10, activation='sigmoid')(inputs)\n",
    "        ```\n",
    "\n",
    "* **Low-level approach**:\n",
    "\n",
    "    * linear-algebraic operations\n",
    "    \n",
    "    * example:\n",
    "\n",
    "        ```\n",
    "        prod = tensorflow.matmul(inputs, weights)\n",
    "        dense = tensorflow.keras.activations.sigmoid(prod + bias)\n",
    "        ```"
   ]
  },
  {
   "cell_type": "markdown",
   "metadata": {},
   "source": [
    "## `[task-1]` The linear algebra of dense layers\n",
    "\n",
    "$\\blacktriangleright$ **Task diagram**\n",
    "\n",
    "![The linear algebra of dense layers](../Figures/5.%20The%20linear%20algebra%20of%20dense%20layers.png)"
   ]
  },
  {
   "cell_type": "markdown",
   "metadata": {},
   "source": [
    "$\\blacktriangleright$ **Package pre-loading**"
   ]
  },
  {
   "cell_type": "code",
   "execution_count": 12,
   "metadata": {
    "ExecuteTime": {
     "end_time": "2021-05-19T21:28:38.196908Z",
     "start_time": "2021-05-19T21:28:38.190391Z"
    }
   },
   "outputs": [],
   "source": [
    "import numpy as np\n",
    "from tensorflow import Variable, ones, matmul, keras"
   ]
  },
  {
   "cell_type": "markdown",
   "metadata": {},
   "source": [
    "$\\blacktriangleright$ **Data pre-loading**"
   ]
  },
  {
   "cell_type": "code",
   "execution_count": 13,
   "metadata": {
    "ExecuteTime": {
     "end_time": "2021-05-19T21:28:38.211726Z",
     "start_time": "2021-05-19T21:28:38.204122Z"
    }
   },
   "outputs": [],
   "source": [
    "borrower_features = np.array([[2., 2., 43.]], dtype=np.float32)"
   ]
  },
  {
   "cell_type": "markdown",
   "metadata": {},
   "source": [
    "$\\blacktriangleright$ **Task practice 1/2**"
   ]
  },
  {
   "cell_type": "code",
   "execution_count": 14,
   "metadata": {
    "ExecuteTime": {
     "end_time": "2021-05-19T21:28:38.234222Z",
     "start_time": "2021-05-19T21:28:38.216097Z"
    }
   },
   "outputs": [
    {
     "name": "stdout",
     "output_type": "stream",
     "text": [
      "\n",
      " prediction: 0.9525741338729858\n",
      "\n",
      " actual: 1\n"
     ]
    }
   ],
   "source": [
    "# From previous step\n",
    "bias1 = Variable(1.0)\n",
    "weights1 = Variable(ones((3, 2)))\n",
    "product1 = matmul(borrower_features, weights1)\n",
    "dense1 = keras.activations.sigmoid(product1 + bias1)\n",
    "\n",
    "# Initialize bias2 and weights2\n",
    "bias2 = Variable(1.0)\n",
    "weights2 = Variable(ones((2, 1)))\n",
    "\n",
    "# Perform matrix multiplication of dense1 and weights2\n",
    "product2 = matmul(dense1, weights2)\n",
    "\n",
    "# Apply activation to product2 + bias2 and print the prediction\n",
    "prediction = keras.activations.sigmoid(product2 + bias2)\n",
    "print('\\n prediction: {}'.format(prediction.numpy()[0, 0]))\n",
    "print('\\n actual: 1')"
   ]
  },
  {
   "cell_type": "markdown",
   "metadata": {
    "ExecuteTime": {
     "end_time": "2021-05-17T11:15:37.711019Z",
     "start_time": "2021-05-17T11:15:37.705711Z"
    }
   },
   "source": [
    "$\\blacktriangleright$ **Task practice 2/2**"
   ]
  },
  {
   "cell_type": "code",
   "execution_count": 15,
   "metadata": {
    "ExecuteTime": {
     "end_time": "2021-05-19T21:28:38.266959Z",
     "start_time": "2021-05-19T21:28:38.251426Z"
    }
   },
   "outputs": [
    {
     "name": "stdout",
     "output_type": "stream",
     "text": [
      "\n",
      " prediction: 0.9525741338729858\n",
      "\n",
      " actual: 1\n"
     ]
    }
   ],
   "source": [
    "# From previous step\n",
    "bias1 = Variable(1.0)\n",
    "weights1 = Variable(ones((3, 2)))\n",
    "product1 = matmul(borrower_features, weights1)\n",
    "dense1 = keras.activations.sigmoid(product1 + bias1)\n",
    "\n",
    "# Initialize bias2 and weights2\n",
    "bias2 = Variable(1.0)\n",
    "weights2 = Variable(ones((2, 1)))\n",
    "\n",
    "# Perform matrix multiplication of dense1 and weights2\n",
    "product2 = matmul(dense1, weights2)\n",
    "\n",
    "# Apply activation to product2 + bias2 and print the prediction\n",
    "prediction = keras.activations.sigmoid(product2 + bias2)\n",
    "print('\\n prediction: {}'.format(prediction.numpy()[0, 0]))\n",
    "print('\\n actual: 1')"
   ]
  },
  {
   "cell_type": "markdown",
   "metadata": {},
   "source": [
    "## `[task-2]` The low-level approach with multiple examples\n",
    "\n",
    "$\\blacktriangleright$ **Task instruction**\n",
    "\n",
    "\\begin{equation*}products1\\ =\\ \\begin{bmatrix}\\ 3 & 3 & 23 \\\\ 2 & 1 & 24 \\\\ 1 & 1 &   49 \\\\ 1 & 1 & 49 \\\\ 2 & 1 & 29\\ \\end{bmatrix}\\ \\begin{bmatrix}\\ -0.6 & 0.6 \\\\ 0.8 & -0.3 \\\\ -0.09 & -0.08\\ \\end{bmatrix}\\end{equation*}"
   ]
  },
  {
   "cell_type": "markdown",
   "metadata": {
    "ExecuteTime": {
     "end_time": "2021-05-16T21:22:45.269760Z",
     "start_time": "2021-05-16T21:22:45.260425Z"
    }
   },
   "source": [
    "$\\blacktriangleright$ **Package pre-loading**"
   ]
  },
  {
   "cell_type": "code",
   "execution_count": 16,
   "metadata": {
    "ExecuteTime": {
     "end_time": "2021-05-19T21:28:38.274020Z",
     "start_time": "2021-05-19T21:28:38.270490Z"
    }
   },
   "outputs": [],
   "source": [
    "from tensorflow import constant, float32"
   ]
  },
  {
   "cell_type": "markdown",
   "metadata": {},
   "source": [
    "$\\blacktriangleright$ **Data pre-loading**"
   ]
  },
  {
   "cell_type": "code",
   "execution_count": 17,
   "metadata": {
    "ExecuteTime": {
     "end_time": "2021-05-19T21:28:38.328048Z",
     "start_time": "2021-05-19T21:28:38.286465Z"
    }
   },
   "outputs": [],
   "source": [
    "borrower_features = constant([[3., 3., 23.], [2., 1., 24.], [1., 1., 49.],\n",
    "                              [1., 1., 49.], [2., 1., 29.]],\n",
    "                             dtype=float32)\n",
    "bias1 = constant([0.1], dtype=float32)"
   ]
  },
  {
   "cell_type": "markdown",
   "metadata": {},
   "source": [
    "$\\blacktriangleright$ **Task practice**"
   ]
  },
  {
   "cell_type": "code",
   "execution_count": 18,
   "metadata": {
    "ExecuteTime": {
     "end_time": "2021-05-19T21:28:38.347360Z",
     "start_time": "2021-05-19T21:28:38.334989Z"
    }
   },
   "outputs": [
    {
     "name": "stdout",
     "output_type": "stream",
     "text": [
      "\n",
      " shape of borrower_features:  (5, 3)\n",
      "\n",
      " shape of weights1:  (3, 2)\n",
      "\n",
      " shape of bias1:  (1,)\n",
      "\n",
      " shape of dense1:  (5, 2)\n"
     ]
    }
   ],
   "source": [
    "# Compute the product of borrower_features and weights1\n",
    "products1 = matmul(borrower_features, weights1)\n",
    "\n",
    "# Apply a sigmoid activation function to products1 + bias1\n",
    "dense1 = keras.activations.sigmoid(products1 + bias1)\n",
    "\n",
    "# Print the shapes of borrower_features, weights1, bias1, and dense1\n",
    "print('\\n shape of borrower_features: ', borrower_features.shape)\n",
    "print('\\n shape of weights1: ', weights1.shape)\n",
    "print('\\n shape of bias1: ', bias1.shape)\n",
    "print('\\n shape of dense1: ', dense1.shape)"
   ]
  },
  {
   "cell_type": "markdown",
   "metadata": {},
   "source": [
    "## `[task-3]` Using the dense layer operation\n",
    "\n",
    "$\\blacktriangleright$ **Task diagram**\n",
    "\n",
    "![Using the dense layer operation](../Figures/6.%20Using%20the%20dense%20layer%20operation.png)"
   ]
  },
  {
   "cell_type": "markdown",
   "metadata": {},
   "source": [
    "$\\blacktriangleright$ **Package pre-loading**"
   ]
  },
  {
   "cell_type": "code",
   "execution_count": 19,
   "metadata": {
    "ExecuteTime": {
     "end_time": "2021-05-19T21:28:39.938393Z",
     "start_time": "2021-05-19T21:28:39.931297Z"
    }
   },
   "outputs": [],
   "source": [
    "import pandas as pd"
   ]
  },
  {
   "cell_type": "markdown",
   "metadata": {},
   "source": [
    "$\\blacktriangleright$ **Data pre-loading**"
   ]
  },
  {
   "cell_type": "code",
   "execution_count": 20,
   "metadata": {
    "ExecuteTime": {
     "end_time": "2021-05-19T21:28:41.146300Z",
     "start_time": "2021-05-19T21:28:41.137905Z"
    }
   },
   "outputs": [],
   "source": [
    "df = pd.read_csv(\"../Datasets/1. Borrower features_1.csv\", header=None)\n",
    "borrower_features = constant(df, dtype=float32)"
   ]
  },
  {
   "cell_type": "markdown",
   "metadata": {},
   "source": [
    "$\\blacktriangleright$ **Task practice**"
   ]
  },
  {
   "cell_type": "code",
   "execution_count": 21,
   "metadata": {
    "ExecuteTime": {
     "end_time": "2021-05-19T21:28:42.085991Z",
     "start_time": "2021-05-19T21:28:42.066617Z"
    }
   },
   "outputs": [
    {
     "name": "stdout",
     "output_type": "stream",
     "text": [
      "\n",
      " shape of dense1:  (100, 7)\n",
      "\n",
      " shape of dense2:  (100, 3)\n",
      "\n",
      " shape of predictions:  (100, 1)\n"
     ]
    }
   ],
   "source": [
    "# Define the first dense layer\n",
    "dense1 = keras.layers.Dense(7, activation='sigmoid')(borrower_features)\n",
    "\n",
    "# Define a dense layer with 3 output nodes\n",
    "dense2 = keras.layers.Dense(3, activation='sigmoid')(dense1)\n",
    "\n",
    "# Define a dense layer with 1 output node\n",
    "predictions = keras.layers.Dense(1, activation='sigmoid')(dense2)\n",
    "\n",
    "# Print the shapes of dense1, dense2, and predictions\n",
    "print('\\n shape of dense1: ', dense1.shape)\n",
    "print('\\n shape of dense2: ', dense2.shape)\n",
    "print('\\n shape of predictions: ', predictions.shape)"
   ]
  },
  {
   "cell_type": "markdown",
   "metadata": {},
   "source": [
    "# Activation functions"
   ]
  },
  {
   "cell_type": "markdown",
   "metadata": {},
   "source": [
    "## `[note-1]` What is an activation function?\n",
    "\n",
    "* **Components of a typically hidden layer**:\n",
    "\n",
    "    * **linear**: matrix multiplication\n",
    "    \n",
    "    * **nonlinear**: activation function"
   ]
  },
  {
   "cell_type": "markdown",
   "metadata": {},
   "source": [
    "## `[note-2]` Why nonlinearities are important\n",
    "\n",
    "![Why nonlinearities are important](../Figures/7.%20Why%20nonlinearities%20are%20important.jpg)"
   ]
  },
  {
   "cell_type": "markdown",
   "metadata": {},
   "source": [
    "## `[code-1]` A simple example"
   ]
  },
  {
   "cell_type": "code",
   "execution_count": 22,
   "metadata": {
    "ExecuteTime": {
     "end_time": "2021-05-19T21:28:45.645154Z",
     "start_time": "2021-05-19T21:28:45.641245Z"
    }
   },
   "outputs": [],
   "source": [
    "import numpy as np\n",
    "import tensorflow as tf\n",
    "\n",
    "# Define example borrower features\n",
    "young, old = 0.3, 0.6\n",
    "low_bill, high_bill = 0.1, 0.5"
   ]
  },
  {
   "cell_type": "code",
   "execution_count": 23,
   "metadata": {
    "ExecuteTime": {
     "end_time": "2021-05-19T21:28:45.702219Z",
     "start_time": "2021-05-19T21:28:45.698019Z"
    }
   },
   "outputs": [],
   "source": [
    "# Apply matrix multiplication step for all feature combinations\n",
    "young_high = 1.0 * young + 2.0 * high_bill\n",
    "young_low = 1.0 * young + 2.0 * low_bill\n",
    "old_high = 1.0 * old + 2.0 * high_bill\n",
    "old_low = 1.0 * old + 2.0 * low_bill"
   ]
  },
  {
   "cell_type": "code",
   "execution_count": 24,
   "metadata": {
    "ExecuteTime": {
     "end_time": "2021-05-19T21:28:45.763443Z",
     "start_time": "2021-05-19T21:28:45.759696Z"
    }
   },
   "outputs": [
    {
     "name": "stdout",
     "output_type": "stream",
     "text": [
      "0.8\n",
      "0.8\n"
     ]
    }
   ],
   "source": [
    "# Difference in default predictions for young\n",
    "print(young_high - young_low)\n",
    "\n",
    "# Difference in default predictions for old\n",
    "print(old_high - old_low)"
   ]
  },
  {
   "cell_type": "code",
   "execution_count": 25,
   "metadata": {
    "ExecuteTime": {
     "end_time": "2021-05-19T21:28:45.827268Z",
     "start_time": "2021-05-19T21:28:45.820495Z"
    }
   },
   "outputs": [
    {
     "name": "stdout",
     "output_type": "stream",
     "text": [
      "0.16337562\n",
      "0.14204395\n"
     ]
    }
   ],
   "source": [
    "# Difference in default predictions for young\n",
    "print(\n",
    "    tf.keras.activations.sigmoid(young_high).numpy() -\n",
    "    tf.keras.activations.sigmoid(young_low).numpy())\n",
    "\n",
    "# Difference in default predictions for old\n",
    "print(\n",
    "    tf.keras.activations.sigmoid(old_high).numpy() -\n",
    "    tf.keras.activations.sigmoid(old_low).numpy())"
   ]
  },
  {
   "cell_type": "markdown",
   "metadata": {},
   "source": [
    "## `[note-3]` The sigmoid activation function\n",
    "\n",
    "* **Sigmoid activation function**:\n",
    "\n",
    "    * binary classification\n",
    "    \n",
    "    * low-level: `tensorflow.keras.activations.sigmoid()`\n",
    "    \n",
    "    * high-level: `'sigmoid'`\n",
    "\n",
    "![The sigmoid activation function](../Figures/8.%20The%20sigmoid%20activation%20function.jpg)"
   ]
  },
  {
   "cell_type": "markdown",
   "metadata": {},
   "source": [
    "## `[note-4]` The relu activation function\n",
    "\n",
    "* **ReLu activation function**:\n",
    "\n",
    "    * hidden layers\n",
    "    \n",
    "    * low-level: `tensorflow.keras.activations.relu()`\n",
    "    \n",
    "    * high-level: `'relu'`\n",
    "\n",
    "![The relu activation function](../Figures/9.%20The%20relu%20activation%20function.jpg)"
   ]
  },
  {
   "cell_type": "markdown",
   "metadata": {},
   "source": [
    "## `[note-5]` The softmax activation function\n",
    "\n",
    "* **So max activation function**:\n",
    "\n",
    "    * output layer (>2 classes)\n",
    "    \n",
    "    * low-level: `tensorflow.keras.activations.softmax()`\n",
    "    \n",
    "    * high-level: `'softmax'`"
   ]
  },
  {
   "cell_type": "markdown",
   "metadata": {},
   "source": [
    "## `[code-2]` Activation functions in neural networks"
   ]
  },
  {
   "cell_type": "code",
   "execution_count": 26,
   "metadata": {
    "ExecuteTime": {
     "end_time": "2021-05-19T21:28:49.103930Z",
     "start_time": "2021-05-19T21:28:49.097692Z"
    }
   },
   "outputs": [],
   "source": [
    "import pandas as pd\n",
    "import tensorflow as tf\n",
    "\n",
    "df = pd.read_csv(\"../Datasets/1. Borrower features_1.csv\", header=None)\n",
    "borrower_features = constant(df, dtype=float32)"
   ]
  },
  {
   "cell_type": "code",
   "execution_count": 27,
   "metadata": {
    "ExecuteTime": {
     "end_time": "2021-05-19T21:28:49.145920Z",
     "start_time": "2021-05-19T21:28:49.141448Z"
    }
   },
   "outputs": [
    {
     "data": {
      "text/plain": [
       "TensorShape([100, 10])"
      ]
     },
     "execution_count": 27,
     "metadata": {},
     "output_type": "execute_result"
    }
   ],
   "source": [
    "# Define input layer\n",
    "inputs = tf.constant(borrower_features, tf.float32)\n",
    "\n",
    "inputs.shape"
   ]
  },
  {
   "cell_type": "code",
   "execution_count": 28,
   "metadata": {
    "ExecuteTime": {
     "end_time": "2021-05-19T21:28:49.192919Z",
     "start_time": "2021-05-19T21:28:49.184421Z"
    }
   },
   "outputs": [
    {
     "data": {
      "text/plain": [
       "TensorShape([100, 16])"
      ]
     },
     "execution_count": 28,
     "metadata": {},
     "output_type": "execute_result"
    }
   ],
   "source": [
    "# Define dense layer 1\n",
    "dense1 = tf.keras.layers.Dense(16, activation='relu')(inputs)\n",
    "\n",
    "dense1.shape"
   ]
  },
  {
   "cell_type": "code",
   "execution_count": 29,
   "metadata": {
    "ExecuteTime": {
     "end_time": "2021-05-19T21:28:49.237987Z",
     "start_time": "2021-05-19T21:28:49.231121Z"
    }
   },
   "outputs": [
    {
     "data": {
      "text/plain": [
       "TensorShape([100, 8])"
      ]
     },
     "execution_count": 29,
     "metadata": {},
     "output_type": "execute_result"
    }
   ],
   "source": [
    "# Define dense layer 2\n",
    "dense2 = tf.keras.layers.Dense(8, activation='sigmoid')(dense1)\n",
    "\n",
    "dense2.shape"
   ]
  },
  {
   "cell_type": "code",
   "execution_count": 30,
   "metadata": {
    "ExecuteTime": {
     "end_time": "2021-05-19T21:28:49.287516Z",
     "start_time": "2021-05-19T21:28:49.278922Z"
    }
   },
   "outputs": [
    {
     "data": {
      "text/plain": [
       "TensorShape([100, 4])"
      ]
     },
     "execution_count": 30,
     "metadata": {},
     "output_type": "execute_result"
    }
   ],
   "source": [
    "# Define output layer\n",
    "outputs = tf.keras.layers.Dense(4, activation='softmax')(dense2)\n",
    "\n",
    "outputs.shape"
   ]
  },
  {
   "cell_type": "markdown",
   "metadata": {},
   "source": [
    "## `[task-1]` Binary classification problems\n",
    "\n",
    "$\\blacktriangleright$ **Package pre-loading**"
   ]
  },
  {
   "cell_type": "code",
   "execution_count": 31,
   "metadata": {
    "ExecuteTime": {
     "end_time": "2021-05-19T21:28:49.992952Z",
     "start_time": "2021-05-19T21:28:49.990387Z"
    }
   },
   "outputs": [],
   "source": [
    "import numpy as np\n",
    "from tensorflow import constant, float32, keras"
   ]
  },
  {
   "cell_type": "markdown",
   "metadata": {},
   "source": [
    "$\\blacktriangleright$ **Data pre-loading**"
   ]
  },
  {
   "cell_type": "code",
   "execution_count": 32,
   "metadata": {
    "ExecuteTime": {
     "end_time": "2021-05-19T21:28:50.716913Z",
     "start_time": "2021-05-19T21:28:50.685043Z"
    }
   },
   "outputs": [],
   "source": [
    "bill_amounts = np.loadtxt('../Datasets/2. Bill amounts.csv', delimiter=',')\n",
    "default = np.loadtxt('../Datasets/3. Target variable.csv',\n",
    "                     delimiter=',').reshape(-1, 1)"
   ]
  },
  {
   "cell_type": "markdown",
   "metadata": {},
   "source": [
    "$\\blacktriangleright$ **Task practice**"
   ]
  },
  {
   "cell_type": "code",
   "execution_count": 33,
   "metadata": {
    "ExecuteTime": {
     "end_time": "2021-05-19T21:28:51.466388Z",
     "start_time": "2021-05-19T21:28:51.451594Z"
    }
   },
   "outputs": [
    {
     "name": "stdout",
     "output_type": "stream",
     "text": [
      "[[-1. ]\n",
      " [-1. ]\n",
      " [-0.5]\n",
      " [-1. ]\n",
      " [-1. ]]\n"
     ]
    }
   ],
   "source": [
    "# Construct input layer from features\n",
    "inputs = constant(bill_amounts, float32)\n",
    "\n",
    "# Define first dense layer\n",
    "dense1 = keras.layers.Dense(3, activation='relu')(inputs)\n",
    "\n",
    "# Define second dense layer\n",
    "dense2 = keras.layers.Dense(2, activation='relu')(dense1)\n",
    "\n",
    "# Define output layer\n",
    "outputs = keras.layers.Dense(1, activation='sigmoid')(dense2)\n",
    "\n",
    "# Print error for first five examples\n",
    "error = default[:5] - outputs.numpy()[:5]\n",
    "print(error)"
   ]
  },
  {
   "cell_type": "markdown",
   "metadata": {
    "ExecuteTime": {
     "end_time": "2021-05-18T07:08:21.434916Z",
     "start_time": "2021-05-18T07:08:21.428296Z"
    }
   },
   "source": [
    "## `[task-2]` Multiclass classification problems\n",
    "\n",
    "$\\blacktriangleright$ **Data pre-loading**"
   ]
  },
  {
   "cell_type": "code",
   "execution_count": 34,
   "metadata": {
    "ExecuteTime": {
     "end_time": "2021-05-19T21:28:52.167812Z",
     "start_time": "2021-05-19T21:28:52.160001Z"
    }
   },
   "outputs": [],
   "source": [
    "borrower_features = np.loadtxt('../Datasets/4. Borrower features_2.csv',\n",
    "                               delimiter=',')"
   ]
  },
  {
   "cell_type": "markdown",
   "metadata": {
    "ExecuteTime": {
     "end_time": "2021-05-18T07:29:18.729428Z",
     "start_time": "2021-05-18T07:29:18.703431Z"
    }
   },
   "source": [
    "$\\blacktriangleright$ **Task practice**"
   ]
  },
  {
   "cell_type": "code",
   "execution_count": 35,
   "metadata": {
    "ExecuteTime": {
     "end_time": "2021-05-19T21:28:52.869937Z",
     "start_time": "2021-05-19T21:28:52.856747Z"
    }
   },
   "outputs": [
    {
     "name": "stdout",
     "output_type": "stream",
     "text": [
      "[[0.06243817 0.54185206 0.14691114 0.06045261 0.05461662 0.13372938]\n",
      " [0.01545628 0.64581126 0.15009885 0.01498455 0.06913529 0.10451375]\n",
      " [0.05539401 0.23801012 0.10152476 0.08377895 0.19635153 0.32494062]\n",
      " [0.10296474 0.28955185 0.14519176 0.1481675  0.14371204 0.17041208]\n",
      " [0.07468604 0.46778667 0.15461381 0.08048306 0.07160775 0.15082256]]\n"
     ]
    }
   ],
   "source": [
    "# Construct input layer from borrower features\n",
    "inputs = constant(borrower_features, float32)\n",
    "\n",
    "# Define first dense layer\n",
    "dense1 = keras.layers.Dense(10, activation='sigmoid')(inputs)\n",
    "\n",
    "# Define second dense layer\n",
    "dense2 = keras.layers.Dense(8, activation='relu')(dense1)\n",
    "\n",
    "# Define output layer\n",
    "outputs = keras.layers.Dense(6, activation='softmax')(dense2)\n",
    "\n",
    "# Print first five predictions\n",
    "print(outputs.numpy()[:5])"
   ]
  },
  {
   "cell_type": "markdown",
   "metadata": {},
   "source": [
    "# Optimizers"
   ]
  },
  {
   "cell_type": "markdown",
   "metadata": {},
   "source": [
    "## `[note-1]` How to find a minimum\n",
    "\n",
    "![How to find a minimum](../Figures/10.%20How%20to%20find%20a%20minimum.jpg)"
   ]
  },
  {
   "cell_type": "markdown",
   "metadata": {},
   "source": [
    "## `[note-2]` The gradient descent optimizer\n",
    "\n",
    "* **Stochastic gradient descent (SGD) optimizer**:\n",
    "\n",
    "    * `tensorflow.keras.optimizers.SGD()`\n",
    "    \n",
    "    * `learning_rate`\n",
    "\n",
    "* **Simple and easy to interpret**."
   ]
  },
  {
   "cell_type": "markdown",
   "metadata": {},
   "source": [
    "## `[note-3]` The RMSprop optimizer\n",
    "\n",
    "* **Root mean squared (RMS) propagation optimizer**:\n",
    "\n",
    "    * applies different learning rates to each feature\n",
    "    \n",
    "    * `tensorflow.keras.optimizers.RMSprop()`\n",
    "    \n",
    "    * `learning_rate`\n",
    "    \n",
    "    * `momentum`\n",
    "    \n",
    "    * `decay`\n",
    "\n",
    "* **Allows for momentum to both build and decay**."
   ]
  },
  {
   "cell_type": "markdown",
   "metadata": {},
   "source": [
    "## `[note-4]` The adam optimizer\n",
    "\n",
    "* **Adaptive moment (adam) optimizer**:\n",
    "\n",
    "    * `tensorflow.keras.optimizers.Adam()`\n",
    "    \n",
    "    * `learning_rate`\n",
    "    \n",
    "    * `beta_1`\n",
    "\n",
    "* **Performs well with default parameter values**."
   ]
  },
  {
   "cell_type": "markdown",
   "metadata": {},
   "source": [
    "## `[code-1]` A complete example"
   ]
  },
  {
   "cell_type": "code",
   "execution_count": 36,
   "metadata": {
    "ExecuteTime": {
     "end_time": "2021-05-19T21:28:56.936345Z",
     "start_time": "2021-05-19T21:28:56.912582Z"
    }
   },
   "outputs": [],
   "source": [
    "import numpy as np\n",
    "import tensorflow as tf\n",
    "\n",
    "borrower_features = tf.constant(\n",
    "    np.loadtxt('../Datasets/2. Bill amounts.csv', delimiter=','), tf.float32)\n",
    "\n",
    "\n",
    "# Define the model function\n",
    "def model(bias, weights, features=borrower_features):\n",
    "    product = tf.matmul(features, weights)\n",
    "    return tf.keras.activations.sigmoid(product + bias)"
   ]
  },
  {
   "cell_type": "code",
   "execution_count": 37,
   "metadata": {
    "ExecuteTime": {
     "end_time": "2021-05-19T21:28:56.975438Z",
     "start_time": "2021-05-19T21:28:56.963603Z"
    }
   },
   "outputs": [],
   "source": [
    "default = tf.constant(\n",
    "    np.loadtxt('../Datasets/3. Target variable.csv',\n",
    "               delimiter=',').reshape(-1, 1), tf.float32)\n",
    "\n",
    "\n",
    "# Compute the predicted values and loss\n",
    "def loss_function(bias, weights, targets=default, features=borrower_features):\n",
    "    predictions = model(bias, weights)\n",
    "    return tf.keras.losses.binary_crossentropy(targets, predictions)"
   ]
  },
  {
   "cell_type": "code",
   "execution_count": 38,
   "metadata": {
    "ExecuteTime": {
     "end_time": "2021-05-19T21:28:57.028540Z",
     "start_time": "2021-05-19T21:28:57.010344Z"
    }
   },
   "outputs": [
    {
     "data": {
      "text/plain": [
       "<tf.Variable 'UnreadVariable' shape=() dtype=int64, numpy=1>"
      ]
     },
     "execution_count": 38,
     "metadata": {},
     "output_type": "execute_result"
    }
   ],
   "source": [
    "bias = tf.Variable(tf.random.normal([1], 0, 1, tf.float32))\n",
    "weights = tf.Variable(tf.random.normal([3, 1], 0, 1, tf.float32))\n",
    "\n",
    "# Minimize the loss function with RMS propagation\n",
    "opt = tf.keras.optimizers.RMSprop(learning_rate=0.01, momentum=0.9)\n",
    "opt.minimize(lambda: loss_function(bias, weights), var_list=[bias, weights])"
   ]
  },
  {
   "cell_type": "markdown",
   "metadata": {},
   "source": [
    "## `[task-1]` The dangers of local minima\n",
    "\n",
    "$\\blacktriangleright$ **Task diagram**\n",
    "\n",
    "![The dangers of local minima](../Figures/11.%20The%20dangers%20of%20local%20minima.png)"
   ]
  },
  {
   "cell_type": "markdown",
   "metadata": {},
   "source": [
    "$\\blacktriangleright$ **Package pre-loading**"
   ]
  },
  {
   "cell_type": "code",
   "execution_count": 39,
   "metadata": {
    "ExecuteTime": {
     "end_time": "2021-05-19T21:28:58.568988Z",
     "start_time": "2021-05-19T21:28:58.562058Z"
    }
   },
   "outputs": [],
   "source": [
    "from math import pi\n",
    "from tensorflow import math, Variable, float32, keras\n",
    "from tensorflow.math import divide"
   ]
  },
  {
   "cell_type": "markdown",
   "metadata": {},
   "source": [
    "$\\blacktriangleright$ **Code pre-loading**"
   ]
  },
  {
   "cell_type": "code",
   "execution_count": 40,
   "metadata": {
    "ExecuteTime": {
     "end_time": "2021-05-19T21:28:59.376084Z",
     "start_time": "2021-05-19T21:28:59.373424Z"
    }
   },
   "outputs": [],
   "source": [
    "def loss_function(x):\n",
    "    return 4.0 * math.cos(x - 1) + divide(math.cos(2.0 * pi * x), x)"
   ]
  },
  {
   "cell_type": "markdown",
   "metadata": {},
   "source": [
    "$\\blacktriangleright$ **Task practice**"
   ]
  },
  {
   "cell_type": "code",
   "execution_count": 41,
   "metadata": {
    "ExecuteTime": {
     "end_time": "2021-05-19T21:29:00.452165Z",
     "start_time": "2021-05-19T21:29:00.164727Z"
    }
   },
   "outputs": [
    {
     "name": "stdout",
     "output_type": "stream",
     "text": [
      "4.3801394 0.42052683\n"
     ]
    }
   ],
   "source": [
    "# Initialize x_1 and x_2\n",
    "x_1 = Variable(6.0, float32)\n",
    "x_2 = Variable(0.3, float32)\n",
    "\n",
    "# Define the optimization operation\n",
    "opt = keras.optimizers.SGD(learning_rate=0.01)\n",
    "\n",
    "for j in range(100):\n",
    "    # Perform minimization using the loss function and x_1\n",
    "    opt.minimize(lambda: loss_function(x_1), var_list=[x_1])\n",
    "    # Perform minimization using the loss function and x_2\n",
    "    opt.minimize(lambda: loss_function(x_2), var_list=[x_2])\n",
    "\n",
    "# Print x_1 and x_2 as numpy arrays\n",
    "print(x_1.numpy(), x_2.numpy())"
   ]
  },
  {
   "cell_type": "markdown",
   "metadata": {},
   "source": [
    "## `[task-2]` Avoiding local minima\n",
    "\n",
    "$\\blacktriangleright$ **Task diagram**\n",
    "\n",
    "![Avoiding local minima](../Figures/12.%20Avoiding%20local%20minima.png)"
   ]
  },
  {
   "cell_type": "markdown",
   "metadata": {},
   "source": [
    "$\\blacktriangleright$ **Task practice**"
   ]
  },
  {
   "cell_type": "code",
   "execution_count": 42,
   "metadata": {
    "ExecuteTime": {
     "end_time": "2021-05-19T21:29:01.960058Z",
     "start_time": "2021-05-19T21:29:01.613032Z"
    }
   },
   "outputs": [
    {
     "name": "stdout",
     "output_type": "stream",
     "text": [
      "4.3150263 0.4205261\n"
     ]
    }
   ],
   "source": [
    "# Initialize x_1 and x_2\n",
    "x_1 = Variable(0.05, float32)\n",
    "x_2 = Variable(0.05, float32)\n",
    "\n",
    "# Define the optimization operation for opt_1 and opt_2\n",
    "opt_1 = keras.optimizers.RMSprop(learning_rate=0.01, momentum=0.99)\n",
    "opt_2 = keras.optimizers.RMSprop(learning_rate=0.01, momentum=0.00)\n",
    "\n",
    "for j in range(100):\n",
    "    opt_1.minimize(lambda: loss_function(x_1), var_list=[x_1])\n",
    "    # Define the minimization operation for opt_2\n",
    "    opt_2.minimize(lambda: loss_function(x_2), var_list=[x_2])\n",
    "\n",
    "# Print x_1 and x_2 as numpy arrays\n",
    "print(x_1.numpy(), x_2.numpy())"
   ]
  },
  {
   "cell_type": "markdown",
   "metadata": {},
   "source": [
    "# Training a network in TensorFlow"
   ]
  },
  {
   "cell_type": "markdown",
   "metadata": {},
   "source": [
    "## `[note-1]` Random initializers\n",
    "\n",
    "* **Often need to initialize thousands of variables**:\n",
    "\n",
    "    * `tensorflow.ones()` may perform poorly\n",
    "    \n",
    "    * tedious and difficult to initialize variables individually\n",
    "\n",
    "* **Alternatively, draw initial values from distribution**:\n",
    "\n",
    "    * normal(`tensorflow.keras.initializers.RandomNormal()`)\n",
    "    \n",
    "    * uniform(`tensorflow.keras.initializers.RandomUniform()`)\n",
    "    \n",
    "    * Glorot initializer(`tensorflow.keras.initializers.GlorotNormal()` or `tensorflow.keras.initializers.GlorotUniform()`)\n",
    "\n",
    "![Random initializers](../Figures/13.%20Random%20initializers.jpg)"
   ]
  },
  {
   "cell_type": "markdown",
   "metadata": {},
   "source": [
    "## `[code-1]` Initializing variables in TensorFlow"
   ]
  },
  {
   "cell_type": "code",
   "execution_count": 43,
   "metadata": {
    "ExecuteTime": {
     "end_time": "2021-05-19T21:29:03.751016Z",
     "start_time": "2021-05-19T21:29:03.735336Z"
    }
   },
   "outputs": [],
   "source": [
    "import tensorflow as tf\n",
    "\n",
    "# Define 500x500 random normal variable\n",
    "weights = tf.Variable(tf.random.normal([500, 500]))\n",
    "\n",
    "# Define 500x500 truncated random normal variable\n",
    "weights = tf.Variable(tf.random.truncated_normal([500, 500]))"
   ]
  },
  {
   "cell_type": "code",
   "execution_count": 44,
   "metadata": {
    "ExecuteTime": {
     "end_time": "2021-05-19T21:29:03.788453Z",
     "start_time": "2021-05-19T21:29:03.783698Z"
    }
   },
   "outputs": [],
   "source": [
    "# Define a dense layer with the default initializer\n",
    "dense = tf.keras.layers.Dense(32, activation='relu')\n",
    "\n",
    "# Define a dense layer with the zeros initializer\n",
    "dense = tf.keras.layers.Dense(32,\n",
    "                              activation='relu',\n",
    "                              kernel_initializer='zeros')"
   ]
  },
  {
   "cell_type": "markdown",
   "metadata": {
    "ExecuteTime": {
     "end_time": "2021-05-19T19:04:36.878786Z",
     "start_time": "2021-05-19T19:04:36.731078Z"
    }
   },
   "source": [
    "## `[note-2]` Neural networks and overfitting\n",
    "\n",
    "![Neural networks and overfitting](../Figures/14.%20Neural%20networks%20and%20overfitting.jpg)"
   ]
  },
  {
   "cell_type": "markdown",
   "metadata": {},
   "source": [
    "## `[note-3]` Applying dropout\n",
    "\n",
    "![Applying dropout](../Figures/15.%20Applying%20dropout.jpg)"
   ]
  },
  {
   "cell_type": "markdown",
   "metadata": {},
   "source": [
    "## `[code-2]` Implementing dropout in a network"
   ]
  },
  {
   "cell_type": "code",
   "execution_count": 45,
   "metadata": {
    "ExecuteTime": {
     "end_time": "2021-05-19T21:29:05.961211Z",
     "start_time": "2021-05-19T21:29:05.938124Z"
    }
   },
   "outputs": [],
   "source": [
    "import numpy as np\n",
    "import tensorflow as tf\n",
    "\n",
    "borrower_features = np.loadtxt('../Datasets/2. Bill amounts.csv',\n",
    "                               delimiter=',')\n",
    "\n",
    "# Define input data\n",
    "inputs = np.array(borrower_features, np.float32)"
   ]
  },
  {
   "cell_type": "code",
   "execution_count": 46,
   "metadata": {
    "ExecuteTime": {
     "end_time": "2021-05-19T21:29:05.991982Z",
     "start_time": "2021-05-19T21:29:05.984631Z"
    }
   },
   "outputs": [],
   "source": [
    "# Define dense layer 1\n",
    "dense1 = tf.keras.layers.Dense(32, activation='relu')(inputs)"
   ]
  },
  {
   "cell_type": "code",
   "execution_count": 47,
   "metadata": {
    "ExecuteTime": {
     "end_time": "2021-05-19T21:29:06.037971Z",
     "start_time": "2021-05-19T21:29:06.028740Z"
    }
   },
   "outputs": [
    {
     "data": {
      "text/plain": [
       "TensorShape([3000, 16])"
      ]
     },
     "execution_count": 47,
     "metadata": {},
     "output_type": "execute_result"
    }
   ],
   "source": [
    "# Define dense layer 2\n",
    "dense2 = tf.keras.layers.Dense(16, activation='relu')(dense1)\n",
    "\n",
    "dense2.shape"
   ]
  },
  {
   "cell_type": "code",
   "execution_count": 48,
   "metadata": {
    "ExecuteTime": {
     "end_time": "2021-05-19T21:29:06.081575Z",
     "start_time": "2021-05-19T21:29:06.075776Z"
    }
   },
   "outputs": [
    {
     "data": {
      "text/plain": [
       "TensorShape([3000, 16])"
      ]
     },
     "execution_count": 48,
     "metadata": {},
     "output_type": "execute_result"
    }
   ],
   "source": [
    "# Apply dropout operation\n",
    "dropout1 = tf.keras.layers.Dropout(0.25)(dense2)\n",
    "\n",
    "dropout1.shape"
   ]
  },
  {
   "cell_type": "code",
   "execution_count": 49,
   "metadata": {
    "ExecuteTime": {
     "end_time": "2021-05-19T21:29:06.124871Z",
     "start_time": "2021-05-19T21:29:06.119163Z"
    }
   },
   "outputs": [],
   "source": [
    "# Define output layer\n",
    "outputs = tf.keras.layers.Dense(1, activation='sigmoid')(dropout1)"
   ]
  },
  {
   "cell_type": "markdown",
   "metadata": {},
   "source": [
    "## `[task-1]` Initialization in TensorFlow\n",
    "\n",
    "$\\blacktriangleright$ **Package pre-loading**"
   ]
  },
  {
   "cell_type": "code",
   "execution_count": 50,
   "metadata": {
    "ExecuteTime": {
     "end_time": "2021-05-19T21:29:06.914693Z",
     "start_time": "2021-05-19T21:29:06.911974Z"
    }
   },
   "outputs": [],
   "source": [
    "from tensorflow import Variable, random, ones"
   ]
  },
  {
   "cell_type": "markdown",
   "metadata": {},
   "source": [
    "$\\blacktriangleright$ **Task practice**"
   ]
  },
  {
   "cell_type": "code",
   "execution_count": 51,
   "metadata": {
    "ExecuteTime": {
     "end_time": "2021-05-19T21:29:07.655343Z",
     "start_time": "2021-05-19T21:29:07.649506Z"
    }
   },
   "outputs": [],
   "source": [
    "# Define the layer 1 weights\n",
    "w1 = Variable(random.normal([23, 7]))\n",
    "\n",
    "# Initialize the layer 1 bias\n",
    "b1 = Variable(ones([7]))\n",
    "\n",
    "# Define the layer 2 weights\n",
    "w2 = Variable(random.normal([7, 1]))\n",
    "\n",
    "# Define the layer 2 bias\n",
    "b2 = Variable(0.0)"
   ]
  },
  {
   "cell_type": "markdown",
   "metadata": {},
   "source": [
    "## `[task-2]` Defining the model and loss function\n",
    "\n",
    "$\\blacktriangleright$ **Package pre-loading**"
   ]
  },
  {
   "cell_type": "code",
   "execution_count": 52,
   "metadata": {
    "ExecuteTime": {
     "end_time": "2021-05-19T21:29:08.496252Z",
     "start_time": "2021-05-19T21:29:08.486644Z"
    }
   },
   "outputs": [],
   "source": [
    "import numpy as np\n",
    "from tensorflow import constant, float32, keras, matmul"
   ]
  },
  {
   "cell_type": "markdown",
   "metadata": {},
   "source": [
    "$\\blacktriangleright$ **Data pre-loading**"
   ]
  },
  {
   "cell_type": "code",
   "execution_count": 53,
   "metadata": {
    "ExecuteTime": {
     "end_time": "2021-05-19T21:29:09.323558Z",
     "start_time": "2021-05-19T21:29:09.251821Z"
    }
   },
   "outputs": [],
   "source": [
    "borrower_features = constant(\n",
    "    np.loadtxt('../Datasets/5. Borrower features_3.csv', delimiter=','),\n",
    "    float32)\n",
    "default = constant(\n",
    "    np.loadtxt('../Datasets/3. Target variable.csv',\n",
    "               delimiter=',').reshape(-1, 1), float32)"
   ]
  },
  {
   "cell_type": "markdown",
   "metadata": {},
   "source": [
    "$\\blacktriangleright$ **Task practice**"
   ]
  },
  {
   "cell_type": "code",
   "execution_count": 54,
   "metadata": {
    "ExecuteTime": {
     "end_time": "2021-05-19T21:29:10.001311Z",
     "start_time": "2021-05-19T21:29:09.997337Z"
    }
   },
   "outputs": [],
   "source": [
    "# Define the model\n",
    "def model(w1, b1, w2, b2, features=borrower_features):\n",
    "    # Apply relu activation functions to layer 1\n",
    "    layer1 = keras.activations.relu(matmul(features, w1) + b1)\n",
    "    # Apply dropout\n",
    "    dropout = keras.layers.Dropout(0.25)(layer1)\n",
    "    return keras.activations.sigmoid(matmul(dropout, w2) + b2)\n",
    "\n",
    "\n",
    "# Define the loss function\n",
    "def loss_function(w1, b1, w2, b2, features=borrower_features, targets=default):\n",
    "    predictions = model(w1, b1, w2, b2)\n",
    "    # Pass targets and predictions to the cross entropy loss\n",
    "    return keras.losses.binary_crossentropy(targets, predictions)"
   ]
  },
  {
   "cell_type": "markdown",
   "metadata": {},
   "source": [
    "## `[task-3]` Training neural networks with TensorFlow\n",
    "\n",
    "$\\blacktriangleright$ **Package pre-loading**"
   ]
  },
  {
   "cell_type": "code",
   "execution_count": 55,
   "metadata": {
    "ExecuteTime": {
     "end_time": "2021-05-19T21:29:11.859269Z",
     "start_time": "2021-05-19T21:29:10.755527Z"
    }
   },
   "outputs": [],
   "source": [
    "from pandas import DataFrame, crosstab\n",
    "import matplotlib.pyplot as plt\n",
    "from seaborn import heatmap"
   ]
  },
  {
   "cell_type": "markdown",
   "metadata": {},
   "source": [
    "$\\blacktriangleright$ **Data pre-loading**"
   ]
  },
  {
   "cell_type": "code",
   "execution_count": 56,
   "metadata": {
    "ExecuteTime": {
     "end_time": "2021-05-19T21:29:11.880971Z",
     "start_time": "2021-05-19T21:29:11.861523Z"
    }
   },
   "outputs": [],
   "source": [
    "test_features = constant(\n",
    "    np.loadtxt('../Datasets/6. Test features.csv', delimiter=','), float32)\n",
    "test_targets = constant(\n",
    "    np.loadtxt('../Datasets/7. Test targets.csv',\n",
    "               delimiter=',').reshape(-1, 1), float32)"
   ]
  },
  {
   "cell_type": "markdown",
   "metadata": {},
   "source": [
    "$\\blacktriangleright$ **Code pre-loading**"
   ]
  },
  {
   "cell_type": "code",
   "execution_count": 57,
   "metadata": {
    "ExecuteTime": {
     "end_time": "2021-05-19T21:29:12.334595Z",
     "start_time": "2021-05-19T21:29:12.329668Z"
    }
   },
   "outputs": [],
   "source": [
    "opt = keras.optimizers.Adam(learning_rate=0.1)\n",
    "\n",
    "\n",
    "def confusion_matrix(default, model_predictions):\n",
    "    df = DataFrame(np.hstack([default,\n",
    "                              model_predictions.numpy() > 0.5]),\n",
    "                   columns=['Actual', 'Predicted'])\n",
    "    confusion_matrix = crosstab(df['Actual'],\n",
    "                                df['Predicted'],\n",
    "                                rownames=['Actual'],\n",
    "                                colnames=['Predicted'])\n",
    "    heatmap(confusion_matrix, cmap=\"Greys\", fmt=\"d\", annot=True, cbar=False)\n",
    "    plt.show()"
   ]
  },
  {
   "cell_type": "markdown",
   "metadata": {
    "ExecuteTime": {
     "end_time": "2021-05-19T19:41:16.924757Z",
     "start_time": "2021-05-19T19:41:16.919795Z"
    }
   },
   "source": [
    "$\\blacktriangleright$ **Task practice**"
   ]
  },
  {
   "cell_type": "code",
   "execution_count": 58,
   "metadata": {
    "ExecuteTime": {
     "end_time": "2021-05-19T21:29:14.190048Z",
     "start_time": "2021-05-19T21:29:13.148701Z"
    }
   },
   "outputs": [
    {
     "data": {
      "image/png": "[encoded data removed]",
      "text/plain": [
       "<Figure size 432x288 with 1 Axes>"
      ]
     },
     "metadata": {
      "needs_background": "light"
     },
     "output_type": "display_data"
    }
   ],
   "source": [
    "# Train the model\n",
    "for j in range(100):\n",
    "    # Complete the optimizer\n",
    "    opt.minimize(lambda: loss_function(w1, b1, w2, b2),\n",
    "                 var_list=[w1, b1, w2, b2])\n",
    "\n",
    "# Make predictions with model\n",
    "model_predictions = model(w1, b1, w2, b2, test_features)\n",
    "\n",
    "# Construct the confusion matrix\n",
    "confusion_matrix(test_targets, model_predictions)"
   ]
  },
  {
   "cell_type": "markdown",
   "metadata": {},
   "source": [
    "# Requirements"
   ]
  },
  {
   "cell_type": "code",
   "execution_count": 59,
   "metadata": {
    "ExecuteTime": {
     "end_time": "2021-05-19T21:29:14.436742Z",
     "start_time": "2021-05-19T21:29:14.425513Z"
    }
   },
   "outputs": [
    {
     "name": "stdout",
     "output_type": "stream",
     "text": [
      "#########################\n",
      "##                     ##\n",
      "##  python==3.7.9      ##\n",
      "##  tensorflow==2.4.1  ##\n",
      "##  pandas==1.2.1      ##\n",
      "##  numpy==1.19.5      ##\n",
      "##  matplotlib==3.3.4  ##\n",
      "##  seaborn==0.11.0    ##\n",
      "##                     ##\n",
      "#########################\n"
     ]
    }
   ],
   "source": [
    "from platform import python_version\n",
    "import matplotlib\n",
    "import seaborn\n",
    "\n",
    "python_version = ('python=={}'.format(python_version()))\n",
    "tensorflow_version = ('tensorflow=={}'.format(tf.__version__))\n",
    "pandas_version = ('pandas=={}'.format(pd.__version__))\n",
    "numpy_version = ('numpy=={}'.format(np.__version__))\n",
    "matplotlib_version = ('matplotlib=={}'.format(matplotlib.__version__))\n",
    "seaborn_version = ('seaborn=={}'.format(seaborn.__version__))\n",
    "\n",
    "writepath = '../../requirements.txt'\n",
    "requirements = []\n",
    "packages = [\n",
    "    tensorflow_version, pandas_version, numpy_version, matplotlib_version,\n",
    "    seaborn_version\n",
    "]\n",
    "\n",
    "try:\n",
    "    with open(writepath, 'r+') as file:\n",
    "        for line in file:\n",
    "            requirements.append(line.strip('\\n'))\n",
    "except:\n",
    "    with open(writepath, 'w+') as file:\n",
    "        for line in file:\n",
    "            requirements.append(line.strip('\\n'))\n",
    "\n",
    "with open(writepath, 'a') as file:\n",
    "    for package in packages:\n",
    "        if package not in requirements:\n",
    "            file.write(package + '\\n')\n",
    "\n",
    "max_characters = len(python_version)\n",
    "for package in packages:\n",
    "    if max(max_characters, len(package)) > max_characters:\n",
    "        max_characters = max(max_characters, len(package))\n",
    "\n",
    "print('#' * (max_characters + 8))\n",
    "print('#' * 2 + ' ' * (max_characters + 4) + '#' * 2)\n",
    "print('#' * 2 + ' ' * 2 + python_version + ' ' *\n",
    "      (max_characters - len(python_version) + 2) + '#' * 2)\n",
    "for package in packages:\n",
    "    print('#' * 2 + ' ' * 2 + package + ' ' *\n",
    "          (max_characters - len(package) + 2) + '#' * 2)\n",
    "print('#' * 2 + ' ' * (max_characters + 4) + '#' * 2)\n",
    "print('#' * (max_characters + 8))"
   ]
  }
 ],
 "metadata": {
  "kernelspec": {
   "display_name": "Python 3",
   "language": "python",
   "name": "python3"
  },
  "language_info": {
   "codemirror_mode": {
    "name": "ipython",
    "version": 3
   },
   "file_extension": ".py",
   "mimetype": "text/x-python",
   "name": "python",
   "nbconvert_exporter": "python",
   "pygments_lexer": "ipython3",
   "version": "3.7.9"
  },
  "latex_envs": {
   "LaTeX_envs_menu_present": true,
   "autoclose": true,
   "autocomplete": true,
   "bibliofile": "biblio.bib",
   "cite_by": "apalike",
   "current_citInitial": 1,
   "eqLabelWithNumbers": true,
   "eqNumInitial": 1,
   "hotkeys": {
    "equation": "Ctrl-E",
    "itemize": "Ctrl-I"
   },
   "labels_anchors": false,
   "latex_user_defs": false,
   "report_style_numbering": true,
   "user_envs_cfg": true
  },
  "nbTranslate": {
   "displayLangs": [
    "*"
   ],
   "hotkey": "alt-t",
   "langInMainMenu": true,
   "sourceLang": "en",
   "targetLang": "fr",
   "useGoogleTranslate": true
  },
  "toc": {
   "base_numbering": 1,
   "nav_menu": {},
   "number_sections": true,
   "sideBar": true,
   "skip_h1_title": false,
   "title_cell": "Table of Contents",
   "title_sidebar": "Contents",
   "toc_cell": true,
   "toc_position": {
    "height": "calc(100% - 180px)",
    "left": "10px",
    "top": "150px",
    "width": "287.969px"
   },
   "toc_section_display": true,
   "toc_window_display": true
  },
  "varInspector": {
   "cols": {
    "lenName": 16,
    "lenType": 16,
    "lenVar": 40
   },
   "kernels_config": {
    "python": {
     "delete_cmd_postfix": "",
     "delete_cmd_prefix": "del ",
     "library": "var_list.py",
     "varRefreshCmd": "print(var_dic_list())"
    },
    "r": {
     "delete_cmd_postfix": ") ",
     "delete_cmd_prefix": "rm(",
     "library": "var_list.r",
     "varRefreshCmd": "cat(var_dic_list()) "
    }
   },
   "types_to_exclude": [
    "module",
    "function",
    "builtin_function_or_method",
    "instance",
    "_Feature"
   ],
   "window_display": true
  }
 },
 "nbformat": 4,
 "nbformat_minor": 4
}
