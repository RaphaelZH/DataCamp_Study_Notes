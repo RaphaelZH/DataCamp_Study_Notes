{
 "cells": [
  {
   "cell_type": "markdown",
   "metadata": {
    "toc": true
   },
   "source": [
    "<h1>Table of Contents<span class=\"tocSkip\"></span></h1>\n",
    "<div class=\"toc\"><ul class=\"toc-item\"><li><span><a href=\"#Dense-layers\" data-toc-modified-id=\"Dense-layers-1\"><span class=\"toc-item-num\">1&nbsp;&nbsp;</span>Dense layers</a></span><ul class=\"toc-item\"><li><span><a href=\"#[note-1]-The-linear-regression-model\" data-toc-modified-id=\"[note-1]-The-linear-regression-model-1.1\"><span class=\"toc-item-num\">1.1&nbsp;&nbsp;</span><code>[note-1]</code> The linear regression model</a></span></li><li><span><a href=\"#[note-2]-What-is-a-neural-network?\" data-toc-modified-id=\"[note-2]-What-is-a-neural-network?-1.2\"><span class=\"toc-item-num\">1.2&nbsp;&nbsp;</span><code>[note-2]</code> What is a neural network?</a></span></li><li><span><a href=\"#[code-1]-A-simple-dense-layer\" data-toc-modified-id=\"[code-1]-A-simple-dense-layer-1.3\"><span class=\"toc-item-num\">1.3&nbsp;&nbsp;</span><code>[code-1]</code> A simple dense layer</a></span></li><li><span><a href=\"#[code-2]-Defining-a-complete-model\" data-toc-modified-id=\"[code-2]-Defining-a-complete-model-1.4\"><span class=\"toc-item-num\">1.4&nbsp;&nbsp;</span><code>[code-2]</code> Defining a complete model</a></span></li><li><span><a href=\"#[note-3]-High-level-versus-low-level-approach\" data-toc-modified-id=\"[note-3]-High-level-versus-low-level-approach-1.5\"><span class=\"toc-item-num\">1.5&nbsp;&nbsp;</span><code>[note-3]</code> High-level versus low-level approach</a></span></li><li><span><a href=\"#[task-1]-The-linear-algebra-of-dense-layers\" data-toc-modified-id=\"[task-1]-The-linear-algebra-of-dense-layers-1.6\"><span class=\"toc-item-num\">1.6&nbsp;&nbsp;</span><code>[task-1]</code> The linear algebra of dense layers</a></span></li><li><span><a href=\"#[task-2]-The-low-level-approach-with-multiple-examples\" data-toc-modified-id=\"[task-2]-The-low-level-approach-with-multiple-examples-1.7\"><span class=\"toc-item-num\">1.7&nbsp;&nbsp;</span><code>[task-2]</code> The low-level approach with multiple examples</a></span></li><li><span><a href=\"#[task-3]-Using-the-dense-layer-operation\" data-toc-modified-id=\"[task-3]-Using-the-dense-layer-operation-1.8\"><span class=\"toc-item-num\">1.8&nbsp;&nbsp;</span><code>[task-3]</code> Using the dense layer operation</a></span></li></ul></li><li><span><a href=\"#Activation-functions\" data-toc-modified-id=\"Activation-functions-2\"><span class=\"toc-item-num\">2&nbsp;&nbsp;</span>Activation functions</a></span><ul class=\"toc-item\"><li><span><a href=\"#[note-1]-What-is-an-activation-function?\" data-toc-modified-id=\"[note-1]-What-is-an-activation-function?-2.1\"><span class=\"toc-item-num\">2.1&nbsp;&nbsp;</span><code>[note-1]</code> What is an activation function?</a></span></li><li><span><a href=\"#[note-2]-Why-nonlinearities-are-important\" data-toc-modified-id=\"[note-2]-Why-nonlinearities-are-important-2.2\"><span class=\"toc-item-num\">2.2&nbsp;&nbsp;</span><code>[note-2]</code> Why nonlinearities are important</a></span></li><li><span><a href=\"#[code-1]-A-simple-example\" data-toc-modified-id=\"[code-1]-A-simple-example-2.3\"><span class=\"toc-item-num\">2.3&nbsp;&nbsp;</span><code>[code-1]</code> A simple example</a></span></li><li><span><a href=\"#[note-3]-The-sigmoid-activation-function\" data-toc-modified-id=\"[note-3]-The-sigmoid-activation-function-2.4\"><span class=\"toc-item-num\">2.4&nbsp;&nbsp;</span><code>[note-3]</code> The sigmoid activation function</a></span></li><li><span><a href=\"#[note-4]-The-relu-activation-function\" data-toc-modified-id=\"[note-4]-The-relu-activation-function-2.5\"><span class=\"toc-item-num\">2.5&nbsp;&nbsp;</span><code>[note-4]</code> The relu activation function</a></span></li><li><span><a href=\"#[note-5]-The-softmax-activation-function\" data-toc-modified-id=\"[note-5]-The-softmax-activation-function-2.6\"><span class=\"toc-item-num\">2.6&nbsp;&nbsp;</span><code>[note-5]</code> The softmax activation function</a></span></li><li><span><a href=\"#[code-2]-Activation-functions-in-neural-networks\" data-toc-modified-id=\"[code-2]-Activation-functions-in-neural-networks-2.7\"><span class=\"toc-item-num\">2.7&nbsp;&nbsp;</span><code>[code-2]</code> Activation functions in neural networks</a></span></li></ul></li><li><span><a href=\"#Requirements\" data-toc-modified-id=\"Requirements-3\"><span class=\"toc-item-num\">3&nbsp;&nbsp;</span>Requirements</a></span></li></ul></div>"
   ]
  },
  {
   "cell_type": "markdown",
   "metadata": {},
   "source": [
    "# Dense layers"
   ]
  },
  {
   "attachments": {},
   "cell_type": "markdown",
   "metadata": {},
   "source": [
    "## `[note-1]` The linear regression model\n",
    "\n",
    "![The linear regression model](../Figures/1.%20The%20linear%20regression%20model.jpg)"
   ]
  },
  {
   "cell_type": "markdown",
   "metadata": {},
   "source": [
    "## `[note-2]` What is a neural network?\n",
    "\n",
    "* A dense layer applies weights to all nodes from the previous layer.\n",
    "\n",
    "![What is a neural network](../Figures/2.%20What%20is%20a%20neural%20network.jpg)"
   ]
  },
  {
   "cell_type": "markdown",
   "metadata": {},
   "source": [
    "## `[code-1]` A simple dense layer\n",
    "\n",
    "![A simple dense layer](../Figures/3.%20A%20simple%20dense%20layer.jpg)"
   ]
  },
  {
   "cell_type": "code",
   "execution_count": 1,
   "metadata": {
    "ExecuteTime": {
     "end_time": "2021-05-17T15:43:31.482099Z",
     "start_time": "2021-05-17T15:43:23.277690Z"
    }
   },
   "outputs": [],
   "source": [
    "import tensorflow as tf"
   ]
  },
  {
   "cell_type": "code",
   "execution_count": 2,
   "metadata": {
    "ExecuteTime": {
     "end_time": "2021-05-17T15:43:31.515041Z",
     "start_time": "2021-05-17T15:43:31.484481Z"
    }
   },
   "outputs": [],
   "source": [
    "# Define inputs (features)\n",
    "inputs = tf.constant([[1, 35]], tf.float32)"
   ]
  },
  {
   "cell_type": "code",
   "execution_count": 3,
   "metadata": {
    "ExecuteTime": {
     "end_time": "2021-05-17T15:43:31.559335Z",
     "start_time": "2021-05-17T15:43:31.520806Z"
    }
   },
   "outputs": [],
   "source": [
    "# Define weights\n",
    "weights = tf.Variable([[-0.05], [-0.01]])"
   ]
  },
  {
   "cell_type": "code",
   "execution_count": 4,
   "metadata": {
    "ExecuteTime": {
     "end_time": "2021-05-17T15:43:31.565968Z",
     "start_time": "2021-05-17T15:43:31.562522Z"
    }
   },
   "outputs": [],
   "source": [
    "# Define the bias\n",
    "bias = tf.Variable([0.5])"
   ]
  },
  {
   "cell_type": "code",
   "execution_count": 5,
   "metadata": {
    "ExecuteTime": {
     "end_time": "2021-05-17T15:43:31.578826Z",
     "start_time": "2021-05-17T15:43:31.568025Z"
    }
   },
   "outputs": [
    {
     "data": {
      "text/plain": [
       "<tf.Tensor: shape=(1, 1), dtype=float32, numpy=array([[-0.4]], dtype=float32)>"
      ]
     },
     "execution_count": 5,
     "metadata": {},
     "output_type": "execute_result"
    }
   ],
   "source": [
    "# Multiply inputs (features) by the weights\n",
    "product = tf.matmul(inputs, weights)\n",
    "\n",
    "product"
   ]
  },
  {
   "cell_type": "code",
   "execution_count": 6,
   "metadata": {
    "ExecuteTime": {
     "end_time": "2021-05-17T15:43:31.587824Z",
     "start_time": "2021-05-17T15:43:31.582046Z"
    }
   },
   "outputs": [
    {
     "data": {
      "text/plain": [
       "<tf.Tensor: shape=(1, 1), dtype=float32, numpy=array([[0.5249792]], dtype=float32)>"
      ]
     },
     "execution_count": 6,
     "metadata": {},
     "output_type": "execute_result"
    }
   ],
   "source": [
    "# Define dense layer\n",
    "dense = tf.keras.activations.sigmoid(product + bias)\n",
    "\n",
    "dense"
   ]
  },
  {
   "cell_type": "markdown",
   "metadata": {},
   "source": [
    "## `[code-2]` Defining a complete model\n",
    "\n",
    "![Defining a complete model](../Figures/4.%20Defining%20a%20complete%20model.jpg)"
   ]
  },
  {
   "cell_type": "code",
   "execution_count": 7,
   "metadata": {
    "ExecuteTime": {
     "end_time": "2021-05-17T15:43:31.598099Z",
     "start_time": "2021-05-17T15:43:31.590493Z"
    }
   },
   "outputs": [],
   "source": [
    "import pandas as pd\n",
    "import tensorflow as tf\n",
    "\n",
    "data = pd.read_csv(\"../Datasets/1. Borrower features.csv\", header=None)"
   ]
  },
  {
   "cell_type": "code",
   "execution_count": 8,
   "metadata": {
    "ExecuteTime": {
     "end_time": "2021-05-17T15:43:31.616339Z",
     "start_time": "2021-05-17T15:43:31.611313Z"
    }
   },
   "outputs": [
    {
     "data": {
      "text/plain": [
       "TensorShape([100, 10])"
      ]
     },
     "execution_count": 8,
     "metadata": {},
     "output_type": "execute_result"
    }
   ],
   "source": [
    "# Define input (features) layer\n",
    "inputs = tf.constant(data, tf.float32)\n",
    "\n",
    "inputs.shape"
   ]
  },
  {
   "cell_type": "code",
   "execution_count": 9,
   "metadata": {
    "ExecuteTime": {
     "end_time": "2021-05-17T15:43:31.672864Z",
     "start_time": "2021-05-17T15:43:31.619910Z"
    }
   },
   "outputs": [
    {
     "data": {
      "text/plain": [
       "TensorShape([100, 10])"
      ]
     },
     "execution_count": 9,
     "metadata": {},
     "output_type": "execute_result"
    }
   ],
   "source": [
    "# Define first dense layer\n",
    "dense1 = tf.keras.layers.Dense(10, activation='sigmoid')(inputs)\n",
    "\n",
    "dense1.shape"
   ]
  },
  {
   "cell_type": "code",
   "execution_count": 10,
   "metadata": {
    "ExecuteTime": {
     "end_time": "2021-05-17T15:43:31.694102Z",
     "start_time": "2021-05-17T15:43:31.676305Z"
    }
   },
   "outputs": [
    {
     "data": {
      "text/plain": [
       "TensorShape([100, 5])"
      ]
     },
     "execution_count": 10,
     "metadata": {},
     "output_type": "execute_result"
    }
   ],
   "source": [
    "# Define second dense layer\n",
    "dense2 = tf.keras.layers.Dense(5, activation='sigmoid')(dense1)\n",
    "\n",
    "dense2.shape"
   ]
  },
  {
   "cell_type": "code",
   "execution_count": 11,
   "metadata": {
    "ExecuteTime": {
     "end_time": "2021-05-17T15:43:31.715039Z",
     "start_time": "2021-05-17T15:43:31.703566Z"
    }
   },
   "outputs": [
    {
     "data": {
      "text/plain": [
       "TensorShape([100, 1])"
      ]
     },
     "execution_count": 11,
     "metadata": {},
     "output_type": "execute_result"
    }
   ],
   "source": [
    "# Define output (predictions) layer\n",
    "outputs = tf.keras.layers.Dense(1, activation='sigmoid')(dense2)\n",
    "\n",
    "outputs.shape"
   ]
  },
  {
   "cell_type": "markdown",
   "metadata": {},
   "source": [
    "## `[note-3]` High-level versus low-level approach\n",
    "\n",
    "* **High-level approach**:\n",
    "\n",
    "    * high-level API operations\n",
    "    \n",
    "    * example:\n",
    "\n",
    "        ```\n",
    "        dense = tensorflow.keras.layers.Dense(10, activation='sigmoid')(inputs)\n",
    "        ```\n",
    "\n",
    "* **Low-level approach**:\n",
    "\n",
    "    * linear-algebraic operations\n",
    "    \n",
    "    * example:\n",
    "\n",
    "        ```\n",
    "        prod = tensorflow.matmul(inputs, weights)\n",
    "        dense = tensorflow.keras.activations.sigmoid(prod + bias)\n",
    "        ```"
   ]
  },
  {
   "cell_type": "markdown",
   "metadata": {},
   "source": [
    "## `[task-1]` The linear algebra of dense layers\n",
    "\n",
    "$\\blacktriangleright$ **Task diagram**\n",
    "\n",
    "![The linear algebra of dense layers](../Figures/5.%20The%20linear%20algebra%20of%20dense%20layers.png)"
   ]
  },
  {
   "cell_type": "markdown",
   "metadata": {},
   "source": [
    "$\\blacktriangleright$ **Package pre-loading**"
   ]
  },
  {
   "cell_type": "code",
   "execution_count": 12,
   "metadata": {
    "ExecuteTime": {
     "end_time": "2021-05-17T15:43:31.727096Z",
     "start_time": "2021-05-17T15:43:31.719056Z"
    }
   },
   "outputs": [],
   "source": [
    "import numpy as np\n",
    "from tensorflow import Variable, ones, matmul, keras"
   ]
  },
  {
   "cell_type": "markdown",
   "metadata": {},
   "source": [
    "$\\blacktriangleright$ **Data pre-loading**"
   ]
  },
  {
   "cell_type": "code",
   "execution_count": 13,
   "metadata": {
    "ExecuteTime": {
     "end_time": "2021-05-17T15:43:31.753741Z",
     "start_time": "2021-05-17T15:43:31.738876Z"
    }
   },
   "outputs": [],
   "source": [
    "borrower_features = np.array([[2., 2., 43.]], dtype=np.float32)"
   ]
  },
  {
   "cell_type": "markdown",
   "metadata": {},
   "source": [
    "$\\blacktriangleright$ **Task practice 1/2**"
   ]
  },
  {
   "cell_type": "code",
   "execution_count": 14,
   "metadata": {
    "ExecuteTime": {
     "end_time": "2021-05-17T15:43:31.782114Z",
     "start_time": "2021-05-17T15:43:31.759350Z"
    }
   },
   "outputs": [
    {
     "name": "stdout",
     "output_type": "stream",
     "text": [
      "\n",
      " prediction: 0.9525741338729858\n",
      "\n",
      " actual: 1\n"
     ]
    }
   ],
   "source": [
    "# From previous step\n",
    "bias1 = Variable(1.0)\n",
    "weights1 = Variable(ones((3, 2)))\n",
    "product1 = matmul(borrower_features, weights1)\n",
    "dense1 = keras.activations.sigmoid(product1 + bias1)\n",
    "\n",
    "# Initialize bias2 and weights2\n",
    "bias2 = Variable(1.0)\n",
    "weights2 = Variable(ones((2, 1)))\n",
    "\n",
    "# Perform matrix multiplication of dense1 and weights2\n",
    "product2 = matmul(dense1, weights2)\n",
    "\n",
    "# Apply activation to product2 + bias2 and print the prediction\n",
    "prediction = keras.activations.sigmoid(product2 + bias2)\n",
    "print('\\n prediction: {}'.format(prediction.numpy()[0, 0]))\n",
    "print('\\n actual: 1')"
   ]
  },
  {
   "cell_type": "markdown",
   "metadata": {
    "ExecuteTime": {
     "end_time": "2021-05-17T11:15:37.711019Z",
     "start_time": "2021-05-17T11:15:37.705711Z"
    }
   },
   "source": [
    "$\\blacktriangleright$ **Task practice 2/2**"
   ]
  },
  {
   "cell_type": "code",
   "execution_count": 15,
   "metadata": {
    "ExecuteTime": {
     "end_time": "2021-05-17T15:43:31.800083Z",
     "start_time": "2021-05-17T15:43:31.787427Z"
    }
   },
   "outputs": [
    {
     "name": "stdout",
     "output_type": "stream",
     "text": [
      "\n",
      " prediction: 0.9525741338729858\n",
      "\n",
      " actual: 1\n"
     ]
    }
   ],
   "source": [
    "# From previous step\n",
    "bias1 = Variable(1.0)\n",
    "weights1 = Variable(ones((3, 2)))\n",
    "product1 = matmul(borrower_features, weights1)\n",
    "dense1 = keras.activations.sigmoid(product1 + bias1)\n",
    "\n",
    "# Initialize bias2 and weights2\n",
    "bias2 = Variable(1.0)\n",
    "weights2 = Variable(ones((2, 1)))\n",
    "\n",
    "# Perform matrix multiplication of dense1 and weights2\n",
    "product2 = matmul(dense1, weights2)\n",
    "\n",
    "# Apply activation to product2 + bias2 and print the prediction\n",
    "prediction = keras.activations.sigmoid(product2 + bias2)\n",
    "print('\\n prediction: {}'.format(prediction.numpy()[0, 0]))\n",
    "print('\\n actual: 1')"
   ]
  },
  {
   "cell_type": "markdown",
   "metadata": {},
   "source": [
    "## `[task-2]` The low-level approach with multiple examples\n",
    "\n",
    "$\\blacktriangleright$ **Task instruction**\n",
    "\n",
    "\\begin{equation*}products1\\ =\\ \\begin{bmatrix}\\ 3 & 3 & 23 \\\\ 2 & 1 & 24 \\\\ 1 & 1 &   49 \\\\ 1 & 1 & 49 \\\\ 2 & 1 & 29\\ \\end{bmatrix}\\ \\begin{bmatrix}\\ -0.6 & 0.6 \\\\ 0.8 & -0.3 \\\\ -0.09 & -0.08\\ \\end{bmatrix}\\end{equation*}"
   ]
  },
  {
   "cell_type": "markdown",
   "metadata": {
    "ExecuteTime": {
     "end_time": "2021-05-16T21:22:45.269760Z",
     "start_time": "2021-05-16T21:22:45.260425Z"
    }
   },
   "source": [
    "$\\blacktriangleright$ **Package pre-loading**"
   ]
  },
  {
   "cell_type": "code",
   "execution_count": 16,
   "metadata": {
    "ExecuteTime": {
     "end_time": "2021-05-17T15:43:31.808884Z",
     "start_time": "2021-05-17T15:43:31.802993Z"
    }
   },
   "outputs": [],
   "source": [
    "from tensorflow import constant, float32"
   ]
  },
  {
   "cell_type": "markdown",
   "metadata": {},
   "source": [
    "$\\blacktriangleright$ **Data pre-loading**"
   ]
  },
  {
   "cell_type": "code",
   "execution_count": 17,
   "metadata": {
    "ExecuteTime": {
     "end_time": "2021-05-17T15:43:31.816990Z",
     "start_time": "2021-05-17T15:43:31.813135Z"
    }
   },
   "outputs": [],
   "source": [
    "borrower_features = constant([[3., 3., 23.], [2., 1., 24.], [1., 1., 49.],\n",
    "                              [1., 1., 49.], [2., 1., 29.]],\n",
    "                             dtype=float32)\n",
    "bias1 = constant([0.1], dtype=float32)"
   ]
  },
  {
   "cell_type": "markdown",
   "metadata": {},
   "source": [
    "$\\blacktriangleright$ **Task practice**"
   ]
  },
  {
   "cell_type": "code",
   "execution_count": 18,
   "metadata": {
    "ExecuteTime": {
     "end_time": "2021-05-17T15:43:31.827739Z",
     "start_time": "2021-05-17T15:43:31.821905Z"
    }
   },
   "outputs": [
    {
     "name": "stdout",
     "output_type": "stream",
     "text": [
      "\n",
      " shape of borrower_features:  (5, 3)\n",
      "\n",
      " shape of weights1:  (3, 2)\n",
      "\n",
      " shape of bias1:  (1,)\n",
      "\n",
      " shape of dense1:  (5, 2)\n"
     ]
    }
   ],
   "source": [
    "# Compute the product of borrower_features and weights1\n",
    "products1 = matmul(borrower_features, weights1)\n",
    "\n",
    "# Apply a sigmoid activation function to products1 + bias1\n",
    "dense1 = keras.activations.sigmoid(products1 + bias1)\n",
    "\n",
    "# Print the shapes of borrower_features, weights1, bias1, and dense1\n",
    "print('\\n shape of borrower_features: ', borrower_features.shape)\n",
    "print('\\n shape of weights1: ', weights1.shape)\n",
    "print('\\n shape of bias1: ', bias1.shape)\n",
    "print('\\n shape of dense1: ', dense1.shape)"
   ]
  },
  {
   "cell_type": "markdown",
   "metadata": {},
   "source": [
    "## `[task-3]` Using the dense layer operation\n",
    "\n",
    "$\\blacktriangleright$ **Task diagram**\n",
    "\n",
    "![Using the dense layer operation](../Figures/6.%20Using%20the%20dense%20layer%20operation.png)"
   ]
  },
  {
   "cell_type": "markdown",
   "metadata": {},
   "source": [
    "$\\blacktriangleright$ **Package pre-loading**"
   ]
  },
  {
   "cell_type": "code",
   "execution_count": 19,
   "metadata": {
    "ExecuteTime": {
     "end_time": "2021-05-17T15:43:31.835261Z",
     "start_time": "2021-05-17T15:43:31.830559Z"
    }
   },
   "outputs": [],
   "source": [
    "import pandas as pd"
   ]
  },
  {
   "cell_type": "markdown",
   "metadata": {},
   "source": [
    "$\\blacktriangleright$ **Data pre-loading**"
   ]
  },
  {
   "cell_type": "code",
   "execution_count": 20,
   "metadata": {
    "ExecuteTime": {
     "end_time": "2021-05-17T15:43:31.855228Z",
     "start_time": "2021-05-17T15:43:31.843277Z"
    }
   },
   "outputs": [],
   "source": [
    "df = pd.read_csv(\"../Datasets/1. Borrower features.csv\", header=None)\n",
    "borrower_features = constant(df, dtype=float32)"
   ]
  },
  {
   "cell_type": "markdown",
   "metadata": {},
   "source": [
    "$\\blacktriangleright$ **Task practice**"
   ]
  },
  {
   "cell_type": "code",
   "execution_count": 27,
   "metadata": {
    "ExecuteTime": {
     "end_time": "2021-05-17T20:55:24.471704Z",
     "start_time": "2021-05-17T20:55:24.062529Z"
    }
   },
   "outputs": [
    {
     "name": "stdout",
     "output_type": "stream",
     "text": [
      "\n",
      " shape of dense1:  (100, 7)\n",
      "\n",
      " shape of dense2:  (100, 3)\n",
      "\n",
      " shape of predictions:  (100, 1)\n"
     ]
    }
   ],
   "source": [
    "# Define the first dense layer\n",
    "dense1 = keras.layers.Dense(7, activation='sigmoid')(borrower_features)\n",
    "\n",
    "# Define a dense layer with 3 output nodes\n",
    "dense2 = keras.layers.Dense(3, activation='sigmoid')(dense1)\n",
    "\n",
    "# Define a dense layer with 1 output node\n",
    "predictions = keras.layers.Dense(1, activation='sigmoid')(dense2)\n",
    "\n",
    "# Print the shapes of dense1, dense2, and predictions\n",
    "print('\\n shape of dense1: ', dense1.shape)\n",
    "print('\\n shape of dense2: ', dense2.shape)\n",
    "print('\\n shape of predictions: ', predictions.shape)"
   ]
  },
  {
   "cell_type": "markdown",
   "metadata": {},
   "source": [
    "# Activation functions"
   ]
  },
  {
   "cell_type": "markdown",
   "metadata": {},
   "source": [
    "## `[note-1]` What is an activation function?\n",
    "\n",
    "* **Components of a typical hidden layer**:\n",
    "\n",
    "    * **linear**: matrix multiplication\n",
    "    \n",
    "    * **nonlinear**: activation function"
   ]
  },
  {
   "cell_type": "markdown",
   "metadata": {},
   "source": [
    "## `[note-2]` Why nonlinearities are important\n",
    "\n",
    "![Why nonlinearities are important](../Figures/7.%20Why%20nonlinearities%20are%20important.jpg)"
   ]
  },
  {
   "cell_type": "markdown",
   "metadata": {},
   "source": [
    "## `[code-1]` A simple example"
   ]
  },
  {
   "cell_type": "code",
   "execution_count": 28,
   "metadata": {
    "ExecuteTime": {
     "end_time": "2021-05-17T21:10:53.800053Z",
     "start_time": "2021-05-17T21:10:53.790328Z"
    }
   },
   "outputs": [],
   "source": [
    "import numpy as np\n",
    "import tensorflow as tf\n",
    "\n",
    "# Define example borrower features\n",
    "young, old = 0.3, 0.6\n",
    "low_bill, high_bill = 0.1, 0.5"
   ]
  },
  {
   "cell_type": "code",
   "execution_count": 29,
   "metadata": {
    "ExecuteTime": {
     "end_time": "2021-05-17T21:10:55.876133Z",
     "start_time": "2021-05-17T21:10:55.870351Z"
    }
   },
   "outputs": [],
   "source": [
    "# Apply matrix multiplication step for all feature combinations\n",
    "young_high = 1.0 * young + 2.0 * high_bill\n",
    "young_low = 1.0 * young + 2.0 * low_bill\n",
    "old_high = 1.0 * old + 2.0 * high_bill\n",
    "old_low = 1.0 * old + 2.0 * low_bill"
   ]
  },
  {
   "cell_type": "code",
   "execution_count": 30,
   "metadata": {
    "ExecuteTime": {
     "end_time": "2021-05-17T21:11:23.937589Z",
     "start_time": "2021-05-17T21:11:23.933544Z"
    }
   },
   "outputs": [
    {
     "name": "stdout",
     "output_type": "stream",
     "text": [
      "0.8\n",
      "0.8\n"
     ]
    }
   ],
   "source": [
    "# Difference in default predictions for young\n",
    "print(young_high - young_low)\n",
    "\n",
    "# Difference in default predictions for old\n",
    "print(old_high - old_low)"
   ]
  },
  {
   "cell_type": "code",
   "execution_count": 31,
   "metadata": {
    "ExecuteTime": {
     "end_time": "2021-05-17T21:11:48.781904Z",
     "start_time": "2021-05-17T21:11:48.763537Z"
    }
   },
   "outputs": [
    {
     "name": "stdout",
     "output_type": "stream",
     "text": [
      "0.16337562\n",
      "0.14204395\n"
     ]
    }
   ],
   "source": [
    "# Difference in default predictions for young\n",
    "print(\n",
    "    tf.keras.activations.sigmoid(young_high).numpy() -\n",
    "    tf.keras.activations.sigmoid(young_low).numpy())\n",
    "\n",
    "# Difference in default predictions for old\n",
    "print(\n",
    "    tf.keras.activations.sigmoid(old_high).numpy() -\n",
    "    tf.keras.activations.sigmoid(old_low).numpy())"
   ]
  },
  {
   "cell_type": "markdown",
   "metadata": {},
   "source": [
    "## `[note-3]` The sigmoid activation function\n",
    "\n",
    "* **Sigmoid activation function**:\n",
    "\n",
    "    * binary classification\n",
    "    \n",
    "    * low-level: `tensorflow.keras.activations.sigmoid()`\n",
    "    \n",
    "    * high-level: `'sigmoid'`\n",
    "\n",
    "![The sigmoid activation function](../Figures/8.%20The%20sigmoid%20activation%20function.jpg)"
   ]
  },
  {
   "cell_type": "markdown",
   "metadata": {},
   "source": [
    "## `[note-4]` The relu activation function\n",
    "\n",
    "* **ReLu activation function**:\n",
    "\n",
    "    * hidden layers\n",
    "    \n",
    "    * low-level: `tensorflow.keras.activations.relu()`\n",
    "    \n",
    "    * high-level: `'relu'`\n",
    "\n",
    "![The relu activation function](../Figures/9.%20The%20relu%20activation%20function.jpg)"
   ]
  },
  {
   "cell_type": "markdown",
   "metadata": {},
   "source": [
    "## `[note-5]` The softmax activation function\n",
    "\n",
    "* **So max activation function**:\n",
    "\n",
    "    * output layer (>2 classes)\n",
    "    \n",
    "    * low-level: `tensorflow.keras.activations.softmax()`\n",
    "    \n",
    "    * high-level: `'softmax'`"
   ]
  },
  {
   "cell_type": "markdown",
   "metadata": {},
   "source": [
    "## `[code-2]` Activation functions in neural networks"
   ]
  },
  {
   "cell_type": "code",
   "execution_count": 32,
   "metadata": {
    "ExecuteTime": {
     "end_time": "2021-05-17T21:37:01.131572Z",
     "start_time": "2021-05-17T21:37:01.086964Z"
    }
   },
   "outputs": [],
   "source": [
    "import pandas as pd\n",
    "import tensorflow as tf\n",
    "\n",
    "df = pd.read_csv(\"../Datasets/1. Borrower features.csv\", header=None)\n",
    "borrower_features = constant(df, dtype=float32)"
   ]
  },
  {
   "cell_type": "code",
   "execution_count": 37,
   "metadata": {
    "ExecuteTime": {
     "end_time": "2021-05-17T21:37:24.411929Z",
     "start_time": "2021-05-17T21:37:24.405644Z"
    }
   },
   "outputs": [
    {
     "data": {
      "text/plain": [
       "TensorShape([100, 10])"
      ]
     },
     "execution_count": 37,
     "metadata": {},
     "output_type": "execute_result"
    }
   ],
   "source": [
    "# Define input layer\n",
    "inputs = tf.constant(borrower_features, tf.float32)\n",
    "\n",
    "inputs.shape"
   ]
  },
  {
   "cell_type": "code",
   "execution_count": 38,
   "metadata": {
    "ExecuteTime": {
     "end_time": "2021-05-17T21:37:31.569991Z",
     "start_time": "2021-05-17T21:37:31.559067Z"
    }
   },
   "outputs": [
    {
     "data": {
      "text/plain": [
       "TensorShape([100, 16])"
      ]
     },
     "execution_count": 38,
     "metadata": {},
     "output_type": "execute_result"
    }
   ],
   "source": [
    "# Define dense layer 1\n",
    "dense1 = tf.keras.layers.Dense(16, activation='relu')(inputs)\n",
    "\n",
    "dense1.shape"
   ]
  },
  {
   "cell_type": "code",
   "execution_count": 39,
   "metadata": {
    "ExecuteTime": {
     "end_time": "2021-05-17T21:37:44.418127Z",
     "start_time": "2021-05-17T21:37:44.407158Z"
    }
   },
   "outputs": [
    {
     "data": {
      "text/plain": [
       "TensorShape([100, 8])"
      ]
     },
     "execution_count": 39,
     "metadata": {},
     "output_type": "execute_result"
    }
   ],
   "source": [
    "# Define dense layer 2\n",
    "dense2 = tf.keras.layers.Dense(8, activation='sigmoid')(dense1)\n",
    "\n",
    "dense2.shape"
   ]
  },
  {
   "cell_type": "code",
   "execution_count": 40,
   "metadata": {
    "ExecuteTime": {
     "end_time": "2021-05-17T21:37:54.092021Z",
     "start_time": "2021-05-17T21:37:54.081511Z"
    }
   },
   "outputs": [
    {
     "data": {
      "text/plain": [
       "TensorShape([100, 4])"
      ]
     },
     "execution_count": 40,
     "metadata": {},
     "output_type": "execute_result"
    }
   ],
   "source": [
    "# Define output layer\n",
    "outputs = tf.keras.layers.Dense(4, activation='softmax')(dense2)\n",
    "\n",
    "outputs.shape"
   ]
  },
  {
   "cell_type": "markdown",
   "metadata": {},
   "source": [
    "## `[task-1]` Binary classification problems\n",
    "\n",
    "\n",
    "\n"
   ]
  },
  {
   "cell_type": "code",
   "execution_count": null,
   "metadata": {},
   "outputs": [],
   "source": []
  },
  {
   "cell_type": "code",
   "execution_count": null,
   "metadata": {},
   "outputs": [],
   "source": []
  },
  {
   "cell_type": "code",
   "execution_count": null,
   "metadata": {},
   "outputs": [],
   "source": []
  },
  {
   "cell_type": "code",
   "execution_count": null,
   "metadata": {},
   "outputs": [],
   "source": []
  },
  {
   "cell_type": "markdown",
   "metadata": {},
   "source": [
    "# Requirements"
   ]
  },
  {
   "cell_type": "code",
   "execution_count": 26,
   "metadata": {
    "ExecuteTime": {
     "end_time": "2021-05-17T15:43:32.401617Z",
     "start_time": "2021-05-17T15:43:31.941927Z"
    }
   },
   "outputs": [
    {
     "name": "stdout",
     "output_type": "stream",
     "text": [
      "############################\n",
      "##                        ##\n",
      "##  python==3.7.9         ##\n",
      "##  numpy==1.19.5         ##\n",
      "##  pandas==1.2.1         ##\n",
      "##  tensorflow==2.4.1     ##\n",
      "##  scikit-learn==0.24.1  ##\n",
      "##                        ##\n",
      "############################\n"
     ]
    }
   ],
   "source": [
    "from platform import python_version\n",
    "import sklearn\n",
    "\n",
    "python_version = ('python=={}'.format(python_version()))\n",
    "numpy_version = ('numpy=={}'.format(np.__version__))\n",
    "pandas_version = ('pandas=={}'.format(pd.__version__))\n",
    "tensorflow_version = ('tensorflow=={}'.format(tf.__version__))\n",
    "scikit_learn_version = ('scikit-learn=={}'.format(sklearn.__version__))\n",
    "\n",
    "writepath = '../../requirements.txt'\n",
    "requirements = []\n",
    "packages = [\n",
    "    numpy_version, pandas_version, tensorflow_version, scikit_learn_version\n",
    "]\n",
    "\n",
    "try:\n",
    "    with open(writepath, 'r+') as file:\n",
    "        for line in file:\n",
    "            requirements.append(line.strip('\\n'))\n",
    "except:\n",
    "    with open(writepath, 'w+') as file:\n",
    "        for line in file:\n",
    "            requirements.append(line.strip('\\n'))\n",
    "\n",
    "with open(writepath, 'a') as file:\n",
    "    for package in packages:\n",
    "        if package not in requirements:\n",
    "            file.write(package + '\\n')\n",
    "\n",
    "max_characters = len(python_version)\n",
    "for package in packages:\n",
    "    if max(max_characters, len(package)) > max_characters:\n",
    "        max_characters = max(max_characters, len(package))\n",
    "\n",
    "print('#' * (max_characters + 8))\n",
    "print('#' * 2 + ' ' * (max_characters + 4) + '#' * 2)\n",
    "print('#' * 2 + ' ' * 2 + python_version + ' ' *\n",
    "      (max_characters - len(python_version) + 2) + '#' * 2)\n",
    "for package in packages:\n",
    "    print('#' * 2 + ' ' * 2 + package + ' ' *\n",
    "          (max_characters - len(package) + 2) + '#' * 2)\n",
    "print('#' * 2 + ' ' * (max_characters + 4) + '#' * 2)\n",
    "print('#' * (max_characters + 8))"
   ]
  }
 ],
 "metadata": {
  "kernelspec": {
   "display_name": "Python 3",
   "language": "python",
   "name": "python3"
  },
  "language_info": {
   "codemirror_mode": {
    "name": "ipython",
    "version": 3
   },
   "file_extension": ".py",
   "mimetype": "text/x-python",
   "name": "python",
   "nbconvert_exporter": "python",
   "pygments_lexer": "ipython3",
   "version": "3.7.9"
  },
  "latex_envs": {
   "LaTeX_envs_menu_present": true,
   "autoclose": true,
   "autocomplete": true,
   "bibliofile": "biblio.bib",
   "cite_by": "apalike",
   "current_citInitial": 1,
   "eqLabelWithNumbers": true,
   "eqNumInitial": 1,
   "hotkeys": {
    "equation": "Ctrl-E",
    "itemize": "Ctrl-I"
   },
   "labels_anchors": false,
   "latex_user_defs": false,
   "report_style_numbering": true,
   "user_envs_cfg": true
  },
  "nbTranslate": {
   "displayLangs": [
    "*"
   ],
   "hotkey": "alt-t",
   "langInMainMenu": true,
   "sourceLang": "en",
   "targetLang": "fr",
   "useGoogleTranslate": true
  },
  "toc": {
   "base_numbering": 1,
   "nav_menu": {},
   "number_sections": true,
   "sideBar": true,
   "skip_h1_title": false,
   "title_cell": "Table of Contents",
   "title_sidebar": "Contents",
   "toc_cell": true,
   "toc_position": {
    "height": "calc(100% - 180px)",
    "left": "10px",
    "top": "150px",
    "width": "287.986px"
   },
   "toc_section_display": true,
   "toc_window_display": true
  },
  "varInspector": {
   "cols": {
    "lenName": 16,
    "lenType": 16,
    "lenVar": 40
   },
   "kernels_config": {
    "python": {
     "delete_cmd_postfix": "",
     "delete_cmd_prefix": "del ",
     "library": "var_list.py",
     "varRefreshCmd": "print(var_dic_list())"
    },
    "r": {
     "delete_cmd_postfix": ") ",
     "delete_cmd_prefix": "rm(",
     "library": "var_list.r",
     "varRefreshCmd": "cat(var_dic_list()) "
    }
   },
   "types_to_exclude": [
    "module",
    "function",
    "builtin_function_or_method",
    "instance",
    "_Feature"
   ],
   "window_display": true
  }
 },
 "nbformat": 4,
 "nbformat_minor": 4
}
