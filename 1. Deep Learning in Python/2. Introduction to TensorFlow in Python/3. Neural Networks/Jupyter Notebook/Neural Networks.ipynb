{
 "cells": [
  {
   "cell_type": "markdown",
   "metadata": {
    "toc": true
   },
   "source": [
    "<h1>Table of Contents<span class=\"tocSkip\"></span></h1>\n",
    "<div class=\"toc\"><ul class=\"toc-item\"><li><span><a href=\"#Input-data\" data-toc-modified-id=\"Input-data-1\"><span class=\"toc-item-num\">1&nbsp;&nbsp;</span>Input data</a></span><ul class=\"toc-item\"><li><span><a href=\"#[note-1]-Importing-data-for-use-in-TensorFlow\" data-toc-modified-id=\"[note-1]-Importing-data-for-use-in-TensorFlow-1.1\"><span class=\"toc-item-num\">1.1&nbsp;&nbsp;</span><code>[note-1]</code> Importing data for use in TensorFlow</a></span></li><li><span><a href=\"#[code-1]-How-to-import-and-convert-data\" data-toc-modified-id=\"[code-1]-How-to-import-and-convert-data-1.2\"><span class=\"toc-item-num\">1.2&nbsp;&nbsp;</span><code>[code-1]</code> How to import and convert data</a></span></li><li><span><a href=\"#[note-2]-Parameters-of-read_csv()\" data-toc-modified-id=\"[note-2]-Parameters-of-read_csv()-1.3\"><span class=\"toc-item-num\">1.3&nbsp;&nbsp;</span><code>[note-2]</code> Parameters of <code>read_csv()</code></a></span></li><li><span><a href=\"#[note-3]-Using-mixed-type-datasets\" data-toc-modified-id=\"[note-3]-Using-mixed-type-datasets-1.4\"><span class=\"toc-item-num\">1.4&nbsp;&nbsp;</span><code>[note-3]</code> Using mixed type datasets</a></span></li><li><span><a href=\"#[code-2]-Setting-the-data-type\" data-toc-modified-id=\"[code-2]-Setting-the-data-type-1.5\"><span class=\"toc-item-num\">1.5&nbsp;&nbsp;</span><code>[code-2]</code> Setting the data type</a></span></li><li><span><a href=\"#[task-1]-Load-data-using-pandas\" data-toc-modified-id=\"[task-1]-Load-data-using-pandas-1.6\"><span class=\"toc-item-num\">1.6&nbsp;&nbsp;</span><code>[task-1]</code> Load data using pandas</a></span></li><li><span><a href=\"#[task-2]-Setting-the-data-type\" data-toc-modified-id=\"[task-2]-Setting-the-data-type-1.7\"><span class=\"toc-item-num\">1.7&nbsp;&nbsp;</span><code>[task-2]</code> Setting the data type</a></span></li></ul></li><li><span><a href=\"#Loss-functions\" data-toc-modified-id=\"Loss-functions-2\"><span class=\"toc-item-num\">2&nbsp;&nbsp;</span>Loss functions</a></span><ul class=\"toc-item\"><li><span><a href=\"#[note-1]-Introduction-to-loss-functions\" data-toc-modified-id=\"[note-1]-Introduction-to-loss-functions-2.1\"><span class=\"toc-item-num\">2.1&nbsp;&nbsp;</span><code>[note-1]</code> Introduction to loss functions</a></span></li><li><span><a href=\"#[note-2]-Common-loss-functions-in-TensorFlow\" data-toc-modified-id=\"[note-2]-Common-loss-functions-in-TensorFlow-2.2\"><span class=\"toc-item-num\">2.2&nbsp;&nbsp;</span><code>[note-2]</code> Common loss functions in TensorFlow</a></span></li><li><span><a href=\"#[note-3]-Why-is-it-in-need-to-care-about-loss-functions?\" data-toc-modified-id=\"[note-3]-Why-is-it-in-need-to-care-about-loss-functions?-2.3\"><span class=\"toc-item-num\">2.3&nbsp;&nbsp;</span><code>[note-3]</code> Why is it in need to care about loss functions?</a></span></li><li><span><a href=\"#[code-1]-Defining-a-loss-function\" data-toc-modified-id=\"[code-1]-Defining-a-loss-function-2.4\"><span class=\"toc-item-num\">2.4&nbsp;&nbsp;</span><code>[code-1]</code> Defining a loss function</a></span></li><li><span><a href=\"#[task-1]-Loss-functions-in-TensorFlow\" data-toc-modified-id=\"[task-1]-Loss-functions-in-TensorFlow-2.5\"><span class=\"toc-item-num\">2.5&nbsp;&nbsp;</span><code>[task-1]</code> Loss functions in TensorFlow</a></span></li><li><span><a href=\"#[task-2]-Modifying-the-loss-function\" data-toc-modified-id=\"[task-2]-Modifying-the-loss-function-2.6\"><span class=\"toc-item-num\">2.6&nbsp;&nbsp;</span><code>[task-2]</code> Modifying the loss function</a></span></li></ul></li><li><span><a href=\"#Linear-regression\" data-toc-modified-id=\"Linear-regression-3\"><span class=\"toc-item-num\">3&nbsp;&nbsp;</span>Linear regression</a></span><ul class=\"toc-item\"><li><span><a href=\"#[note-1]-What-is-linear-regression?\" data-toc-modified-id=\"[note-1]-What-is-linear-regression?-3.1\"><span class=\"toc-item-num\">3.1&nbsp;&nbsp;</span><code>[note-1]</code> What is linear regression?</a></span></li><li><span><a href=\"#[note-2]-The-linear-regression-model\" data-toc-modified-id=\"[note-2]-The-linear-regression-model-3.2\"><span class=\"toc-item-num\">3.2&nbsp;&nbsp;</span><code>[note-2]</code> The linear regression model</a></span></li><li><span><a href=\"#[code-1]-Linear-regression-in-TensorFlow\" data-toc-modified-id=\"[code-1]-Linear-regression-in-TensorFlow-3.3\"><span class=\"toc-item-num\">3.3&nbsp;&nbsp;</span><code>[code-1]</code> Linear regression in TensorFlow</a></span></li><li><span><a href=\"#[task-1]-Set-up-a-linear-regression\" data-toc-modified-id=\"[task-1]-Set-up-a-linear-regression-3.4\"><span class=\"toc-item-num\">3.4&nbsp;&nbsp;</span><code>[task-1]</code> Set up a linear regression</a></span></li><li><span><a href=\"#[task-2]-Train-a-linear-model\" data-toc-modified-id=\"[task-2]-Train-a-linear-model-3.5\"><span class=\"toc-item-num\">3.5&nbsp;&nbsp;</span><code>[task-2]</code> Train a linear model</a></span></li><li><span><a href=\"#[task-3]-Multiple-linear-regression\" data-toc-modified-id=\"[task-3]-Multiple-linear-regression-3.6\"><span class=\"toc-item-num\">3.6&nbsp;&nbsp;</span><code>[task-3]</code> Multiple linear regression</a></span></li></ul></li><li><span><a href=\"#Batch-training\" data-toc-modified-id=\"Batch-training-4\"><span class=\"toc-item-num\">4&nbsp;&nbsp;</span>Batch training</a></span><ul class=\"toc-item\"><li><span><a href=\"#[note-1]-What-is-batch-training?\" data-toc-modified-id=\"[note-1]-What-is-batch-training?-4.1\"><span class=\"toc-item-num\">4.1&nbsp;&nbsp;</span><code>[note-1]</code> What is batch training?</a></span></li><li><span><a href=\"#[note-2]-The-chunksize-parameter\" data-toc-modified-id=\"[note-2]-The-chunksize-parameter-4.2\"><span class=\"toc-item-num\">4.2&nbsp;&nbsp;</span><code>[note-2]</code> The <code>chunksize</code> parameter</a></span></li><li><span><a href=\"#[code-1]-The-chunksize-parameter\" data-toc-modified-id=\"[code-1]-The-chunksize-parameter-4.3\"><span class=\"toc-item-num\">4.3&nbsp;&nbsp;</span><code>[code-1]</code> The <code>chunksize</code> parameter</a></span></li><li><span><a href=\"#[code-2]-Training-a-linear-model-in-batches\" data-toc-modified-id=\"[code-2]-Training-a-linear-model-in-batches-4.4\"><span class=\"toc-item-num\">4.4&nbsp;&nbsp;</span><code>[code-2]</code> Training a linear model in batches</a></span></li><li><span><a href=\"#[note-3]-Full-sample-versus-batch-training\" data-toc-modified-id=\"[note-3]-Full-sample-versus-batch-training-4.5\"><span class=\"toc-item-num\">4.5&nbsp;&nbsp;</span><code>[note-3]</code> Full sample versus batch training</a></span></li><li><span><a href=\"#[task-1]-Preparing-to-batch-train\" data-toc-modified-id=\"[task-1]-Preparing-to-batch-train-4.6\"><span class=\"toc-item-num\">4.6&nbsp;&nbsp;</span><code>[task-1]</code> Preparing to batch train</a></span></li><li><span><a href=\"#[task-2]-Training-a-linear-model-in-batches\" data-toc-modified-id=\"[task-2]-Training-a-linear-model-in-batches-4.7\"><span class=\"toc-item-num\">4.7&nbsp;&nbsp;</span><code>[task-2]</code> Training a linear model in batches</a></span></li></ul></li><li><span><a href=\"#Requirements\" data-toc-modified-id=\"Requirements-5\"><span class=\"toc-item-num\">5&nbsp;&nbsp;</span>Requirements</a></span></li></ul></div>"
   ]
  },
  {
   "cell_type": "markdown",
   "metadata": {},
   "source": [
    "# Input data"
   ]
  },
  {
   "cell_type": "markdown",
   "metadata": {},
   "source": [
    "# Requirements"
   ]
  },
  {
   "cell_type": "code",
   "execution_count": 46,
   "metadata": {
    "ExecuteTime": {
     "end_time": "2021-05-15T22:04:15.909782Z",
     "start_time": "2021-05-15T22:04:15.890234Z"
    }
   },
   "outputs": [
    {
     "name": "stdout",
     "output_type": "stream",
     "text": [
      "############################\n",
      "##                        ##\n",
      "##  python==3.7.9         ##\n",
      "##  numpy==1.19.5         ##\n",
      "##  pandas==1.2.1         ##\n",
      "##  tensorflow==2.4.1     ##\n",
      "##  scikit-learn==0.24.1  ##\n",
      "##                        ##\n",
      "############################\n"
     ]
    }
   ],
   "source": [
    "from platform import python_version\n",
    "import sklearn\n",
    "\n",
    "python_version = ('python=={}'.format(python_version()))\n",
    "numpy_version = ('numpy=={}'.format(np.__version__))\n",
    "pandas_version = ('pandas=={}'.format(pd.__version__))\n",
    "tensorflow_version = ('tensorflow=={}'.format(tf.__version__))\n",
    "scikit_learn_version = ('scikit-learn=={}'.format(sklearn.__version__))\n",
    "\n",
    "writepath = '../../requirements.txt'\n",
    "requirements = []\n",
    "packages = [\n",
    "    numpy_version, pandas_version, tensorflow_version, scikit_learn_version\n",
    "]\n",
    "\n",
    "try:\n",
    "    with open(writepath, 'r+') as file:\n",
    "        for line in file:\n",
    "            requirements.append(line.strip('\\n'))\n",
    "except:\n",
    "    with open(writepath, 'w+') as file:\n",
    "        for line in file:\n",
    "            requirements.append(line.strip('\\n'))\n",
    "\n",
    "with open(writepath, 'a') as file:\n",
    "    for package in packages:\n",
    "        if package not in requirements:\n",
    "            file.write(package + '\\n')\n",
    "\n",
    "max_characters = len(python_version)\n",
    "for package in packages:\n",
    "    if max(max_characters, len(package)) > max_characters:\n",
    "        max_characters = max(max_characters, len(package))\n",
    "\n",
    "print('#' * (max_characters + 8))\n",
    "print('#' * 2 + ' ' * (max_characters + 4) + '#' * 2)\n",
    "print('#' * 2 + ' ' * 2 + python_version + ' ' *\n",
    "      (max_characters - len(python_version) + 2) + '#' * 2)\n",
    "for package in packages:\n",
    "    print('#' * 2 + ' ' * 2 + package + ' ' *\n",
    "          (max_characters - len(package) + 2) + '#' * 2)\n",
    "print('#' * 2 + ' ' * (max_characters + 4) + '#' * 2)\n",
    "print('#' * (max_characters + 8))"
   ]
  }
 ],
 "metadata": {
  "kernelspec": {
   "display_name": "Python 3",
   "language": "python",
   "name": "python3"
  },
  "language_info": {
   "codemirror_mode": {
    "name": "ipython",
    "version": 3
   },
   "file_extension": ".py",
   "mimetype": "text/x-python",
   "name": "python",
   "nbconvert_exporter": "python",
   "pygments_lexer": "ipython3",
   "version": "3.7.9"
  },
  "latex_envs": {
   "LaTeX_envs_menu_present": true,
   "autoclose": true,
   "autocomplete": true,
   "bibliofile": "biblio.bib",
   "cite_by": "apalike",
   "current_citInitial": 1,
   "eqLabelWithNumbers": true,
   "eqNumInitial": 1,
   "hotkeys": {
    "equation": "Ctrl-E",
    "itemize": "Ctrl-I"
   },
   "labels_anchors": false,
   "latex_user_defs": false,
   "report_style_numbering": true,
   "user_envs_cfg": true
  },
  "nbTranslate": {
   "displayLangs": [
    "*"
   ],
   "hotkey": "alt-t",
   "langInMainMenu": true,
   "sourceLang": "en",
   "targetLang": "fr",
   "useGoogleTranslate": true
  },
  "toc": {
   "base_numbering": 1,
   "nav_menu": {},
   "number_sections": true,
   "sideBar": true,
   "skip_h1_title": false,
   "title_cell": "Table of Contents",
   "title_sidebar": "Contents",
   "toc_cell": true,
   "toc_position": {
    "height": "calc(100% - 180px)",
    "left": "10px",
    "top": "150px",
    "width": "287.986px"
   },
   "toc_section_display": true,
   "toc_window_display": true
  },
  "varInspector": {
   "cols": {
    "lenName": 16,
    "lenType": 16,
    "lenVar": 40
   },
   "kernels_config": {
    "python": {
     "delete_cmd_postfix": "",
     "delete_cmd_prefix": "del ",
     "library": "var_list.py",
     "varRefreshCmd": "print(var_dic_list())"
    },
    "r": {
     "delete_cmd_postfix": ") ",
     "delete_cmd_prefix": "rm(",
     "library": "var_list.r",
     "varRefreshCmd": "cat(var_dic_list()) "
    }
   },
   "types_to_exclude": [
    "module",
    "function",
    "builtin_function_or_method",
    "instance",
    "_Feature"
   ],
   "window_display": true
  }
 },
 "nbformat": 4,
 "nbformat_minor": 4
}
