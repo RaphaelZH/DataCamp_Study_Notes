{
 "cells": [
  {
   "cell_type": "markdown",
   "metadata": {
    "ExecuteTime": {
     "end_time": "2020-07-24T11:20:21.989524Z",
     "start_time": "2020-07-24T11:20:12.960881Z"
    }
   },
   "source": [
    "```\n",
    "#############################################\n",
    "##                                         ##\n",
    "##  Natural Language Processing in Python  ##\n",
    "##                                         ##\n",
    "#############################################\n",
    "\n",
    "§2 Sentiment Analysis in Python\n",
    "\n",
    "§2.1 Sentiment analysis nuts and bolts\n",
    "```"
   ]
  },
  {
   "cell_type": "markdown",
   "metadata": {},
   "source": [
    "# Sentiment analysis types and approaches"
   ]
  },
  {
   "cell_type": "markdown",
   "metadata": {},
   "source": [
    "## What are levels of granularity?\n",
    "\n",
    "* Document level.\n",
    "\n",
    "* Sentence level.\n",
    "\n",
    "* Aspect level."
   ]
  },
  {
   "cell_type": "markdown",
   "metadata": {},
   "source": [
    "## What are the types of sentiment analysis algorithms?\n",
    "\n",
    "* Rule/lexicon-based, e.g.,\n",
    "\n",
    "    * *'nice': +2, 'good': +1, 'terrible': -3 ...*\n",
    "\n",
    "* Automatic/machine learning."
   ]
  },
  {
   "cell_type": "markdown",
   "metadata": {},
   "source": [
    "## Code of the valence of a sentence:"
   ]
  },
  {
   "cell_type": "code",
   "execution_count": 1,
   "metadata": {
    "ExecuteTime": {
     "end_time": "2021-02-07T19:54:27.235311Z",
     "start_time": "2021-02-07T19:54:27.232094Z"
    }
   },
   "outputs": [],
   "source": [
    "text = \"Today was a good day.\""
   ]
  },
  {
   "cell_type": "code",
   "execution_count": 2,
   "metadata": {
    "ExecuteTime": {
     "end_time": "2021-02-07T19:54:29.994135Z",
     "start_time": "2021-02-07T19:54:27.251956Z"
    }
   },
   "outputs": [
    {
     "data": {
      "text/plain": [
       "Sentiment(polarity=0.7, subjectivity=0.6000000000000001)"
      ]
     },
     "execution_count": 2,
     "metadata": {},
     "output_type": "execute_result"
    }
   ],
   "source": [
    "from textblob import TextBlob\n",
    "\n",
    "my_valence = TextBlob(text)\n",
    "my_valence.sentiment"
   ]
  },
  {
   "cell_type": "markdown",
   "metadata": {},
   "source": [
    "## What are the differences between automated or rule-based?\n",
    "\n",
    "* Automated/machine learning:\n",
    "\n",
    "    * rely on having labeled historical data\n",
    "    \n",
    "    * might take a while to train\n",
    "    \n",
    "    * latest machine learning models can be quite powerful\n",
    "\n",
    "* Rule/lexicon-based:\n",
    "\n",
    "    * rely on manually crafted valence scores\n",
    "\n",
    "    * different words might have different polarity in different contexts\n",
    "\n",
    "    * can be quite fast"
   ]
  },
  {
   "cell_type": "markdown",
   "metadata": {},
   "source": [
    "## Practice exercises for sentiment analysis types and approaches:\n",
    "\n",
    "$\\blacktriangleright$ **Data pre-loading:**"
   ]
  },
  {
   "cell_type": "code",
   "execution_count": 3,
   "metadata": {
    "ExecuteTime": {
     "end_time": "2021-02-07T19:54:30.005681Z",
     "start_time": "2021-02-07T19:54:29.996778Z"
    }
   },
   "outputs": [],
   "source": [
    "two_cities = 'It was the best of times, it was the worst of times, \\\n",
    "it was the age of wisdom, it was the age of foolishness, \\\n",
    "it was the epoch of belief, it was the epoch of incredulity, \\\n",
    "it was the season of Light, it was the season of Darkness, \\\n",
    "it was the spring of hope, it was the winter of despair, \\\n",
    "we had everything before us, we had nothing before us, \\\n",
    "we were all going direct to Heaven, we were all going direct the other way – \\\n",
    "in short, the period was so far like the present period, \\\n",
    "that some of its noisiest authorities insisted on its being received, \\\n",
    "for good or for evil, in the superlative degree of comparison only.'"
   ]
  },
  {
   "cell_type": "markdown",
   "metadata": {},
   "source": [
    "$\\blacktriangleright$ **Tale of Two Cities' sentiment detection practice:**"
   ]
  },
  {
   "cell_type": "code",
   "execution_count": 4,
   "metadata": {
    "ExecuteTime": {
     "end_time": "2021-02-07T19:54:30.045989Z",
     "start_time": "2021-02-07T19:54:30.009261Z"
    }
   },
   "outputs": [
    {
     "name": "stdout",
     "output_type": "stream",
     "text": [
      "Sentiment(polarity=0.022916666666666658, subjectivity=0.5895833333333332)\n"
     ]
    }
   ],
   "source": [
    "# Import the required packages\n",
    "from textblob import TextBlob\n",
    "\n",
    "# Create a textblob object\n",
    "blob_two_cities = TextBlob(two_cities)\n",
    "\n",
    "# Print out the sentiment\n",
    "print(blob_two_cities.sentiment)"
   ]
  },
  {
   "cell_type": "markdown",
   "metadata": {},
   "source": [
    "$\\blacktriangleright$ **Data re-pre-loading:**"
   ]
  },
  {
   "cell_type": "code",
   "execution_count": 5,
   "metadata": {
    "ExecuteTime": {
     "end_time": "2021-02-07T19:54:30.057369Z",
     "start_time": "2021-02-07T19:54:30.053076Z"
    }
   },
   "outputs": [],
   "source": [
    "annak = 'Happy families are all alike; \\\n",
    "every unhappy family is unhappy in its own way'\n",
    "\n",
    "catcher = \"If you really want to hear about it, \\\n",
    "the first thing you'll probably want to know is where I was born, \\\n",
    "and what my lousy childhood was like, \\\n",
    "and how my parents were occupied and all before they had me, \\\n",
    "and all that David Copperfield kind of crap, \\\n",
    "but I don't feel like going into it, if you want to know the truth.\""
   ]
  },
  {
   "cell_type": "markdown",
   "metadata": {},
   "source": [
    "$\\blacktriangleright$ **Two strings' sentiment comparison practice:**"
   ]
  },
  {
   "cell_type": "code",
   "execution_count": 6,
   "metadata": {
    "ExecuteTime": {
     "end_time": "2021-02-07T19:54:30.072100Z",
     "start_time": "2021-02-07T19:54:30.062589Z"
    }
   },
   "outputs": [
    {
     "name": "stdout",
     "output_type": "stream",
     "text": [
      "Sentiment of annak:  Sentiment(polarity=0.05000000000000002, subjectivity=0.95)\n",
      "Sentiment of catcher:  Sentiment(polarity=-0.05, subjectivity=0.5466666666666666)\n"
     ]
    }
   ],
   "source": [
    "# Import the required packages\n",
    "from textblob import TextBlob\n",
    "\n",
    "# Create a textblob object\n",
    "blob_annak = TextBlob(annak)\n",
    "blob_catcher = TextBlob(catcher)\n",
    "\n",
    "# Print out the sentiment\n",
    "print('Sentiment of annak: ', blob_annak.sentiment)\n",
    "print('Sentiment of catcher: ', blob_catcher.sentiment)"
   ]
  },
  {
   "cell_type": "markdown",
   "metadata": {},
   "source": [
    "$\\blacktriangleright$ **Data re-pre-loading:**"
   ]
  },
  {
   "cell_type": "code",
   "execution_count": 7,
   "metadata": {
    "ExecuteTime": {
     "end_time": "2021-02-07T19:54:30.082422Z",
     "start_time": "2021-02-07T19:54:30.077325Z"
    }
   },
   "outputs": [],
   "source": [
    "titanic = open('ref3. A movie review of Titanic.txt').read()"
   ]
  },
  {
   "cell_type": "markdown",
   "metadata": {
    "ExecuteTime": {
     "end_time": "2020-12-19T22:02:33.692343Z",
     "start_time": "2020-12-19T22:02:33.687220Z"
    }
   },
   "source": [
    "$\\blacktriangleright$ **A movie review's sentiment detection practice:**"
   ]
  },
  {
   "cell_type": "code",
   "execution_count": 8,
   "metadata": {
    "ExecuteTime": {
     "end_time": "2021-02-07T19:54:30.114014Z",
     "start_time": "2021-02-07T19:54:30.091065Z"
    }
   },
   "outputs": [
    {
     "name": "stdout",
     "output_type": "stream",
     "text": [
      "Sentiment(polarity=0.2024748060772906, subjectivity=0.4518248900857597)\n"
     ]
    }
   ],
   "source": [
    "# Import the required packages\n",
    "from textblob import TextBlob\n",
    "\n",
    "# Create a textblob object\n",
    "blob_titanic = TextBlob(titanic)\n",
    "\n",
    "# Print out its sentiment\n",
    "print(blob_titanic.sentiment)"
   ]
  },
  {
   "cell_type": "markdown",
   "metadata": {},
   "source": [
    "## Version checking:"
   ]
  },
  {
   "cell_type": "code",
   "execution_count": 9,
   "metadata": {
    "ExecuteTime": {
     "end_time": "2021-02-07T19:54:30.134563Z",
     "start_time": "2021-02-07T19:54:30.125956Z"
    }
   },
   "outputs": [
    {
     "name": "stdout",
     "output_type": "stream",
     "text": [
      "The Python version is 3.7.9.\n",
      "The pandas version is 0.15.3.\n"
     ]
    }
   ],
   "source": [
    "import sys\n",
    "import textblob\n",
    "\n",
    "print('The Python version is {}.'.format(sys.version.split()[0]))\n",
    "print('The pandas version is {}.'.format(textblob.__version__))"
   ]
  }
 ],
 "metadata": {
  "kernelspec": {
   "display_name": "Python 3",
   "language": "python",
   "name": "python3"
  },
  "language_info": {
   "codemirror_mode": {
    "name": "ipython",
    "version": 3
   },
   "file_extension": ".py",
   "mimetype": "text/x-python",
   "name": "python",
   "nbconvert_exporter": "python",
   "pygments_lexer": "ipython3",
   "version": "3.7.9"
  },
  "latex_envs": {
   "LaTeX_envs_menu_present": true,
   "autoclose": true,
   "autocomplete": true,
   "bibliofile": "biblio.bib",
   "cite_by": "apalike",
   "current_citInitial": 1,
   "eqLabelWithNumbers": true,
   "eqNumInitial": 1,
   "hotkeys": {
    "equation": "Ctrl-E",
    "itemize": "Ctrl-I"
   },
   "labels_anchors": false,
   "latex_user_defs": false,
   "report_style_numbering": true,
   "user_envs_cfg": true
  },
  "nbTranslate": {
   "displayLangs": [
    "*"
   ],
   "hotkey": "alt-t",
   "langInMainMenu": true,
   "sourceLang": "en",
   "targetLang": "fr",
   "useGoogleTranslate": true
  },
  "toc": {
   "base_numbering": 1,
   "nav_menu": {},
   "number_sections": true,
   "sideBar": true,
   "skip_h1_title": false,
   "title_cell": "Table of Contents",
   "title_sidebar": "Contents",
   "toc_cell": false,
   "toc_position": {
    "height": "calc(100% - 180px)",
    "left": "10px",
    "top": "150px",
    "width": "288px"
   },
   "toc_section_display": true,
   "toc_window_display": true
  },
  "varInspector": {
   "cols": {
    "lenName": 16,
    "lenType": 16,
    "lenVar": 40
   },
   "kernels_config": {
    "python": {
     "delete_cmd_postfix": "",
     "delete_cmd_prefix": "del ",
     "library": "var_list.py",
     "varRefreshCmd": "print(var_dic_list())"
    },
    "r": {
     "delete_cmd_postfix": ") ",
     "delete_cmd_prefix": "rm(",
     "library": "var_list.r",
     "varRefreshCmd": "cat(var_dic_list()) "
    }
   },
   "types_to_exclude": [
    "module",
    "function",
    "builtin_function_or_method",
    "instance",
    "_Feature"
   ],
   "window_display": true
  }
 },
 "nbformat": 4,
 "nbformat_minor": 4
}
