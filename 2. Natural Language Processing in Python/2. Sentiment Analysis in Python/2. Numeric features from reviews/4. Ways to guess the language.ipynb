{
 "cells": [
  {
   "cell_type": "markdown",
   "metadata": {
    "ExecuteTime": {
     "end_time": "2020-07-24T11:20:21.989524Z",
     "start_time": "2020-07-24T11:20:12.960881Z"
    }
   },
   "source": [
    "```\n",
    "#############################################\n",
    "##                                         ##\n",
    "##  Natural Language Processing in Python  ##\n",
    "##                                         ##\n",
    "#############################################\n",
    "\n",
    "§2 Sentiment Analysis in Python\n",
    "\n",
    "§2.2 Numeric features from reviews\n",
    "```"
   ]
  },
  {
   "cell_type": "markdown",
   "metadata": {},
   "source": [
    "# Ways to guess the language"
   ]
  },
  {
   "cell_type": "markdown",
   "metadata": {},
   "source": [
    "## Code of detecting the language of a string in Python:"
   ]
  },
  {
   "cell_type": "code",
   "execution_count": 1,
   "metadata": {
    "ExecuteTime": {
     "end_time": "2021-02-10T00:15:45.799921Z",
     "start_time": "2021-02-10T00:15:45.278732Z"
    }
   },
   "outputs": [
    {
     "data": {
      "text/plain": [
       "[es:0.9999959368839131]"
      ]
     },
     "execution_count": 1,
     "metadata": {},
     "output_type": "execute_result"
    }
   ],
   "source": [
    "from langdetect import detect_langs\n",
    "\n",
    "foreign = 'Este libro ha sido uno de los mejores libros que he leido.'\n",
    "detect_langs(foreign)"
   ]
  },
  {
   "cell_type": "markdown",
   "metadata": {},
   "source": [
    "## How to detect the language of a column?\n",
    "\n",
    "* The point of detecting a column's language is to detect each of the strings' language and capture the most likely language in a new column."
   ]
  },
  {
   "cell_type": "markdown",
   "metadata": {},
   "source": [
    "## Code of detecting the language of a column:"
   ]
  },
  {
   "cell_type": "code",
   "execution_count": 8,
   "metadata": {
    "ExecuteTime": {
     "end_time": "2021-02-10T00:27:12.417791Z",
     "start_time": "2021-02-10T00:27:12.339264Z"
    }
   },
   "outputs": [
    {
     "data": {
      "text/html": [
       "<div>\n",
       "<style scoped>\n",
       "    .dataframe tbody tr th:only-of-type {\n",
       "        vertical-align: middle;\n",
       "    }\n",
       "\n",
       "    .dataframe tbody tr th {\n",
       "        vertical-align: top;\n",
       "    }\n",
       "\n",
       "    .dataframe thead th {\n",
       "        text-align: right;\n",
       "    }\n",
       "</style>\n",
       "<table border=\"1\" class=\"dataframe\">\n",
       "  <thead>\n",
       "    <tr style=\"text-align: right;\">\n",
       "      <th></th>\n",
       "      <th>score</th>\n",
       "      <th>review</th>\n",
       "    </tr>\n",
       "  </thead>\n",
       "  <tbody>\n",
       "    <tr>\n",
       "      <th>0</th>\n",
       "      <td>1</td>\n",
       "      <td>Stuning even for the non-gamer: This sound tr...</td>\n",
       "    </tr>\n",
       "    <tr>\n",
       "      <th>1</th>\n",
       "      <td>1</td>\n",
       "      <td>The best soundtrack ever to anything.: I'm re...</td>\n",
       "    </tr>\n",
       "    <tr>\n",
       "      <th>2</th>\n",
       "      <td>1</td>\n",
       "      <td>Amazing!: This soundtrack is my favorite musi...</td>\n",
       "    </tr>\n",
       "    <tr>\n",
       "      <th>3</th>\n",
       "      <td>1</td>\n",
       "      <td>Excellent Soundtrack: I truly like this sound...</td>\n",
       "    </tr>\n",
       "    <tr>\n",
       "      <th>4</th>\n",
       "      <td>1</td>\n",
       "      <td>Remember, Pull Your Jaw Off The Floor After H...</td>\n",
       "    </tr>\n",
       "  </tbody>\n",
       "</table>\n",
       "</div>"
      ],
      "text/plain": [
       "   score                                             review\n",
       "0      1   Stuning even for the non-gamer: This sound tr...\n",
       "1      1   The best soundtrack ever to anything.: I'm re...\n",
       "2      1   Amazing!: This soundtrack is my favorite musi...\n",
       "3      1   Excellent Soundtrack: I truly like this sound...\n",
       "4      1   Remember, Pull Your Jaw Off The Floor After H..."
      ]
     },
     "execution_count": 8,
     "metadata": {},
     "output_type": "execute_result"
    }
   ],
   "source": [
    "reviews_all = pd.read_csv('ref2. Amazon product reviews sample.csv')[[\n",
    "    'score', 'review'\n",
    "]]\n",
    "reviews_all = reviews_all.iloc[:100, ]\n",
    "reviews = reviews_all.copy()\n",
    "reviews.head()"
   ]
  },
  {
   "cell_type": "code",
   "execution_count": 9,
   "metadata": {
    "ExecuteTime": {
     "end_time": "2021-02-10T00:27:16.579695Z",
     "start_time": "2021-02-10T00:27:16.200038Z"
    }
   },
   "outputs": [
    {
     "data": {
      "text/plain": [
       "['[en', '0.9999977888138222]']"
      ]
     },
     "execution_count": 9,
     "metadata": {},
     "output_type": "execute_result"
    }
   ],
   "source": [
    "from langdetect import detect_langs\n",
    "\n",
    "languages = []\n",
    "for row in range(len(reviews)):\n",
    "    languages.append(detect_langs(reviews.iloc[row, 1]))\n",
    "\n",
    "# Transform the first list to a string and split on a colon\n",
    "str(languages[0]).split(':')"
   ]
  },
  {
   "cell_type": "code",
   "execution_count": 10,
   "metadata": {
    "ExecuteTime": {
     "end_time": "2021-02-10T00:27:19.112361Z",
     "start_time": "2021-02-10T00:27:19.100157Z"
    }
   },
   "outputs": [
    {
     "data": {
      "text/plain": [
       "'[en'"
      ]
     },
     "execution_count": 10,
     "metadata": {},
     "output_type": "execute_result"
    }
   ],
   "source": [
    "str(languages[0]).split(':')[0]"
   ]
  },
  {
   "cell_type": "code",
   "execution_count": 11,
   "metadata": {
    "ExecuteTime": {
     "end_time": "2021-02-10T00:27:27.071883Z",
     "start_time": "2021-02-10T00:27:27.065733Z"
    }
   },
   "outputs": [
    {
     "data": {
      "text/plain": [
       "'en'"
      ]
     },
     "execution_count": 11,
     "metadata": {},
     "output_type": "execute_result"
    }
   ],
   "source": [
    "str(languages[0]).split(':')[0][1:]"
   ]
  },
  {
   "cell_type": "code",
   "execution_count": 12,
   "metadata": {
    "ExecuteTime": {
     "end_time": "2021-02-10T00:28:30.042971Z",
     "start_time": "2021-02-10T00:28:30.034580Z"
    }
   },
   "outputs": [],
   "source": [
    "languages = [str(lang).split(':')[0][1:] for lang in languages]\n",
    "reviews['language'] = languages"
   ]
  },
  {
   "cell_type": "markdown",
   "metadata": {},
   "source": [
    "## Practice exercises for ways to guess the language:\n",
    "\n",
    "$\\blacktriangleright$ **Data pre-loading:**"
   ]
  },
  {
   "cell_type": "code",
   "execution_count": 13,
   "metadata": {
    "ExecuteTime": {
     "end_time": "2021-02-10T00:32:21.053085Z",
     "start_time": "2021-02-10T00:32:21.050152Z"
    }
   },
   "outputs": [],
   "source": [
    "foreign = 'La histoire rendu étai fidèle, excellent, et grand.'"
   ]
  },
  {
   "cell_type": "markdown",
   "metadata": {},
   "source": [
    "$\\blacktriangleright$ **Identify the language of a string:**"
   ]
  },
  {
   "cell_type": "code",
   "execution_count": 14,
   "metadata": {
    "ExecuteTime": {
     "end_time": "2021-02-10T00:33:09.836901Z",
     "start_time": "2021-02-10T00:33:09.819516Z"
    }
   },
   "outputs": [
    {
     "name": "stdout",
     "output_type": "stream",
     "text": [
      "[fr:0.9999978976418259]\n"
     ]
    }
   ],
   "source": [
    "# Import the language detection function and package\n",
    "from langdetect import detect_langs\n",
    "\n",
    "# Detect the language of the foreign string\n",
    "print(detect_langs(foreign))"
   ]
  },
  {
   "cell_type": "markdown",
   "metadata": {},
   "source": [
    "$\\blacktriangleright$ **Data re-pre-loading:**"
   ]
  },
  {
   "cell_type": "code",
   "execution_count": 15,
   "metadata": {
    "ExecuteTime": {
     "end_time": "2021-02-10T00:34:53.494233Z",
     "start_time": "2021-02-10T00:34:53.490769Z"
    }
   },
   "outputs": [],
   "source": [
    "sentences = [\n",
    "    'La histoire rendu étai fidèle, excellent, et grand.',\n",
    "    'Excelente muy recomendable.',\n",
    "    'It had a leak from day one but the return and exchange process was very \\\n",
    "    quick.'\n",
    "]"
   ]
  },
  {
   "cell_type": "markdown",
   "metadata": {},
   "source": [
    "$\\blacktriangleright$ **Detect language of a list of strings:**"
   ]
  },
  {
   "cell_type": "code",
   "execution_count": 16,
   "metadata": {
    "ExecuteTime": {
     "end_time": "2021-02-10T00:37:42.263076Z",
     "start_time": "2021-02-10T00:37:42.234988Z"
    }
   },
   "outputs": [
    {
     "name": "stdout",
     "output_type": "stream",
     "text": [
      "The detected languages are:  [[fr:0.9999993711914149], [es:0.9999949129956007], [en:0.9999979663771886]]\n"
     ]
    }
   ],
   "source": [
    "from langdetect import detect_langs\n",
    "\n",
    "languages = []\n",
    "\n",
    "# Loop over the sentences in the list and detect their language\n",
    "for sentence in range(len(sentences)):\n",
    "    languages.append(detect_langs(sentences[sentence]))\n",
    "\n",
    "print('The detected languages are: ', languages)"
   ]
  },
  {
   "cell_type": "markdown",
   "metadata": {},
   "source": [
    "$\\blacktriangleright$ **Data re-pre-loading:**"
   ]
  },
  {
   "cell_type": "code",
   "execution_count": 27,
   "metadata": {
    "ExecuteTime": {
     "end_time": "2021-02-10T00:50:16.592764Z",
     "start_time": "2021-02-10T00:50:16.508276Z"
    }
   },
   "outputs": [],
   "source": [
    "reviews_all = pd.read_csv('ref2. Amazon product reviews sample.csv')[[\n",
    "    'score', 'review'\n",
    "]]\n",
    "\n",
    "reviews_all = reviews_all.iloc[[\n",
    "    1249, 1259, 1260, 1261, 1639, 1745, 2316, 2486, 2760, 2903, 2908, 3318,\n",
    "    3694, 4820, 4914, 5720, 5875, 5901, 6234, 6631, 7078, 7307, 7888, 7983,\n",
    "    8018, 8340, 9265, 9422, 9624\n",
    "]]\n",
    "\n",
    "non_english_reviews = reviews_all.copy()"
   ]
  },
  {
   "cell_type": "markdown",
   "metadata": {},
   "source": [
    "$\\blacktriangleright$ **Language detection of product reviews:**"
   ]
  },
  {
   "cell_type": "code",
   "execution_count": 29,
   "metadata": {
    "ExecuteTime": {
     "end_time": "2021-02-10T00:52:01.174172Z",
     "start_time": "2021-02-10T00:52:00.952873Z"
    }
   },
   "outputs": [
    {
     "name": "stdout",
     "output_type": "stream",
     "text": [
      "      score                                             review language\n",
      "1249      1   Il grande ritorno!: E' dai tempi del tour di ...       it\n",
      "1259      1   La reencarnación vista por un científico: El ...       es\n",
      "1260      1   Excelente Libro / Amazing book!!: Este libro ...       es\n",
      "1261      1   Magnifico libro: Brian Weiss ha dejado una ma...       es\n",
      "1639      1   El libro mas completo que existe para nosotra...       es\n"
     ]
    }
   ],
   "source": [
    "from langdetect import detect_langs\n",
    "languages = [] \n",
    "\n",
    "# Loop over the rows of the dataset and append  \n",
    "for row in range(len(non_english_reviews)):\n",
    "    languages.append(detect_langs(non_english_reviews.iloc[row, 1]))\n",
    "\n",
    "# Clean the list by splitting     \n",
    "languages = [str(lang).split(':')[0][1:] for lang in languages]\n",
    "\n",
    "# Assign the list to a new feature \n",
    "non_english_reviews['language'] = languages\n",
    "\n",
    "print(non_english_reviews.head())"
   ]
  }
 ],
 "metadata": {
  "kernelspec": {
   "display_name": "Python 3",
   "language": "python",
   "name": "python3"
  },
  "language_info": {
   "codemirror_mode": {
    "name": "ipython",
    "version": 3
   },
   "file_extension": ".py",
   "mimetype": "text/x-python",
   "name": "python",
   "nbconvert_exporter": "python",
   "pygments_lexer": "ipython3",
   "version": "3.7.9"
  },
  "latex_envs": {
   "LaTeX_envs_menu_present": true,
   "autoclose": true,
   "autocomplete": true,
   "bibliofile": "biblio.bib",
   "cite_by": "apalike",
   "current_citInitial": 1,
   "eqLabelWithNumbers": true,
   "eqNumInitial": 1,
   "hotkeys": {
    "equation": "Ctrl-E",
    "itemize": "Ctrl-I"
   },
   "labels_anchors": false,
   "latex_user_defs": false,
   "report_style_numbering": true,
   "user_envs_cfg": true
  },
  "nbTranslate": {
   "displayLangs": [
    "*"
   ],
   "hotkey": "alt-t",
   "langInMainMenu": true,
   "sourceLang": "en",
   "targetLang": "fr",
   "useGoogleTranslate": true
  },
  "toc": {
   "base_numbering": 1,
   "nav_menu": {},
   "number_sections": true,
   "sideBar": true,
   "skip_h1_title": false,
   "title_cell": "Table of Contents",
   "title_sidebar": "Contents",
   "toc_cell": false,
   "toc_position": {
    "height": "calc(100% - 180px)",
    "left": "10px",
    "top": "150px",
    "width": "246px"
   },
   "toc_section_display": true,
   "toc_window_display": true
  },
  "varInspector": {
   "cols": {
    "lenName": 16,
    "lenType": 16,
    "lenVar": 40
   },
   "kernels_config": {
    "python": {
     "delete_cmd_postfix": "",
     "delete_cmd_prefix": "del ",
     "library": "var_list.py",
     "varRefreshCmd": "print(var_dic_list())"
    },
    "r": {
     "delete_cmd_postfix": ") ",
     "delete_cmd_prefix": "rm(",
     "library": "var_list.r",
     "varRefreshCmd": "cat(var_dic_list()) "
    }
   },
   "types_to_exclude": [
    "module",
    "function",
    "builtin_function_or_method",
    "instance",
    "_Feature"
   ],
   "window_display": true
  }
 },
 "nbformat": 4,
 "nbformat_minor": 4
}
