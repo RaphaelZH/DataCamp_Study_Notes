{
 "cells": [
  {
   "cell_type": "markdown",
   "metadata": {
    "ExecuteTime": {
     "end_time": "2020-07-24T11:20:21.989524Z",
     "start_time": "2020-07-24T11:20:12.960881Z"
    }
   },
   "source": [
    "```\n",
    "#############################################\n",
    "##                                         ##\n",
    "##  Natural Language Processing in Python  ##\n",
    "##                                         ##\n",
    "#############################################\n",
    "\n",
    "§1 Introduction to Natural Language Processing in Python\n",
    "\n",
    "§1.2 Simple topic identification\n",
    "```"
   ]
  },
  {
   "cell_type": "markdown",
   "metadata": {},
   "source": [
    "# Tf-idf with gensim"
   ]
  },
  {
   "cell_type": "markdown",
   "metadata": {},
   "source": [
    "## What is tf-idf?\n",
    "\n",
    "* Tf-idf means term frequency - inverse document frequency.\n",
    "\n",
    "* Allow determining the most important words in each document.\n",
    "\n",
    "* Each corpus may have shared words beyond just stopwords.\n",
    "\n",
    "* These words should be down-weighted in importance.\n",
    "\n",
    "* Example:\n",
    "\n",
    "    * *\"sky\" from the theme of astronomy*\n",
    "\n",
    "* Ensures most common words don't show up as keywords.\n",
    "\n",
    "* Keep document specific frequent words weighted high."
   ]
  },
  {
   "cell_type": "markdown",
   "metadata": {},
   "source": [
    "## What is the tf-idf formula?\n",
    "\n",
    "* $w_{i, j} = tf_{i, j} \\times \\log{\\left( \\frac{N}{df_{i}} \\right)}$\n",
    "\n",
    "    * $w_{i, j}$ = tf-idf weight for token $i$ in document $j$\n",
    "\n",
    "    * $tf_{i, j}$ = number of occurences of token $i$ in document $j$\n",
    "\n",
    "    * $df_{i}$ = number of documents that contain token $i$\n",
    "\n",
    "    * $N$ = total number of documents"
   ]
  },
  {
   "cell_type": "markdown",
   "metadata": {},
   "source": [
    "## Code of tf-idf with gensim:"
   ]
  },
  {
   "cell_type": "code",
   "execution_count": 1,
   "metadata": {
    "ExecuteTime": {
     "end_time": "2021-01-17T22:35:17.065236Z",
     "start_time": "2021-01-17T22:35:09.499581Z"
    }
   },
   "outputs": [],
   "source": [
    "from gensim.corpora.dictionary import Dictionary\n",
    "from nltk.tokenize import word_tokenize\n",
    "\n",
    "my_documents = [\n",
    "    'The movie was about a spaceship and aliens.',\n",
    "    'I really liked the movie!',\n",
    "    'Awesome action scenes, but boring characters.',\n",
    "    'The movie was awful! I hate alien films.',\n",
    "    'Space is cool! I liked the movie.',\n",
    "    'More space films, please!',\n",
    "]\n",
    "\n",
    "tokenized_docs = [word_tokenize(doc.lower()) for doc in my_documents]\n",
    "dictionary = Dictionary(tokenized_docs)\n",
    "corpus = [dictionary.doc2bow(doc) for doc in tokenized_docs]"
   ]
  },
  {
   "cell_type": "code",
   "execution_count": 2,
   "metadata": {
    "ExecuteTime": {
     "end_time": "2021-01-17T22:35:17.143745Z",
     "start_time": "2021-01-17T22:35:17.102816Z"
    }
   },
   "outputs": [
    {
     "data": {
      "text/plain": [
       "[(5, 0.1746298276735174),\n",
       " (7, 0.1746298276735174),\n",
       " (9, 0.1746298276735174),\n",
       " (10, 0.29853166221463673),\n",
       " (11, 0.47316148988815415),\n",
       " (12, 0.7716931521027908)]"
      ]
     },
     "execution_count": 2,
     "metadata": {},
     "output_type": "execute_result"
    }
   ],
   "source": [
    "from gensim.models.tfidfmodel import TfidfModel\n",
    "\n",
    "tfidf = TfidfModel(corpus)\n",
    "tfidf[corpus[1]]"
   ]
  },
  {
   "cell_type": "markdown",
   "metadata": {},
   "source": [
    "## Practice question for what is tf-idf:\n",
    "\n",
    "* To calculate the tf-idf weight for the word \"computer\", which appears five times in a document containing 100 words. Given a corpus containing 200 documents, with 20 documents mentioning the word \"computer\", so tf-idf can be calculated by multiplying term frequency with inverse document frequency.\n",
    "\n",
    "* Notes:\n",
    "\n",
    "    * term frequency = percentage share of the word compared to all tokens in the document\n",
    "\n",
    "    * inverse document frequency = logarithm of the total number of documents in a corpus divided by the number of documents containing the term\n",
    "\n",
    "* Which of the below options is correct?\n",
    "\n",
    "    $\\boxtimes$ (5 / 100) * log(200 / 20)\n",
    "\n",
    "    $\\Box$ (5 * 100) / log(200 * 20)\n",
    "\n",
    "    $\\Box$ (20 / 5) * log(200 / 20)\n",
    "\n",
    "    $\\Box$ (200 * 5) * log(400 / 5)"
   ]
  },
  {
   "cell_type": "markdown",
   "metadata": {},
   "source": [
    "## Practice exercises for tf-idf with gensim:\n",
    "\n",
    "$\\blacktriangleright$ **Package pre-loading:**"
   ]
  },
  {
   "cell_type": "code",
   "execution_count": 3,
   "metadata": {
    "ExecuteTime": {
     "end_time": "2021-01-17T22:35:17.209339Z",
     "start_time": "2021-01-17T22:35:17.192097Z"
    }
   },
   "outputs": [],
   "source": [
    "import zipfile\n",
    "\n",
    "from nltk import word_tokenize\n",
    "\n",
    "from gensim.corpora.dictionary import Dictionary\n",
    "from gensim.models.tfidfmodel import TfidfModel"
   ]
  },
  {
   "cell_type": "markdown",
   "metadata": {},
   "source": [
    "$\\blacktriangleright$ **Data pre-loading:**"
   ]
  },
  {
   "cell_type": "code",
   "execution_count": 4,
   "metadata": {
    "ExecuteTime": {
     "end_time": "2021-01-17T22:35:19.628378Z",
     "start_time": "2021-01-17T22:35:17.231140Z"
    }
   },
   "outputs": [],
   "source": [
    "file_name = 'ref4. Wikipedia articles.zip'\n",
    "with zipfile.ZipFile(file_name, 'r') as archive:\n",
    "    files = [\n",
    "        archive.read(name) for name in archive.namelist()\n",
    "        if name.endswith('.txt')\n",
    "    ]\n",
    "\n",
    "doc_tokens = [word_tokenize(file.decode(\"utf-8\")) for file in files]\n",
    "articles = []\n",
    "stopwords = open('ref2. English stopwords.txt').read()\n",
    "english_stops = word_tokenize(stopwords)\n",
    "for i in range(len(doc_tokens)):\n",
    "    lower_tokens = [t.lower() for t in doc_tokens[i]]\n",
    "    alphanumeric_only = [t for t in lower_tokens if t.isalnum()]\n",
    "    no_stops = [t for t in alphanumeric_only if t not in english_stops]\n",
    "    articles.append(no_stops)\n",
    "\n",
    "dictionary = Dictionary(articles)\n",
    "corpus = [dictionary.doc2bow(article) for article in articles]\n",
    "\n",
    "doc = corpus[4]"
   ]
  },
  {
   "cell_type": "markdown",
   "metadata": {},
   "source": [
    "$\\blacktriangleright$ **Wikipedia tf-idf practice:**"
   ]
  },
  {
   "cell_type": "code",
   "execution_count": 5,
   "metadata": {
    "ExecuteTime": {
     "end_time": "2021-01-17T22:35:19.731868Z",
     "start_time": "2021-01-17T22:35:19.652095Z"
    }
   },
   "outputs": [
    {
     "name": "stdout",
     "output_type": "stream",
     "text": [
      "[(13, 0.021411676334320492), (24, 0.01738903055915624), (43, 0.00805356588388867), (45, 0.021821227698039212), (50, 0.01376766181415054)]\n"
     ]
    }
   ],
   "source": [
    "# Create a new TfidfModel using the corpus: tfidf\n",
    "tfidf = TfidfModel(corpus)\n",
    "\n",
    "# Calculate the tfidf weights of doc: tfidf_weights\n",
    "tfidf_weights = tfidf[doc]\n",
    "\n",
    "# Print the first five weights\n",
    "print(tfidf_weights[:5])"
   ]
  },
  {
   "cell_type": "code",
   "execution_count": 6,
   "metadata": {
    "ExecuteTime": {
     "end_time": "2021-01-17T22:35:19.892122Z",
     "start_time": "2021-01-17T22:35:19.754745Z"
    }
   },
   "outputs": [
    {
     "name": "stdout",
     "output_type": "stream",
     "text": [
      "[(13, 0.021411676334320492), (24, 0.01738903055915624), (43, 0.00805356588388867), (45, 0.021821227698039212), (50, 0.01376766181415054)]\n",
      "compiled 0.2182122769803921\n",
      "compilation 0.21353333707313848\n",
      "eiffel 0.17794444756094874\n",
      "abstraction 0.1745698215843137\n",
      "intermediate 0.16521194176980647\n"
     ]
    }
   ],
   "source": [
    "# Create a new TfidfModel using the corpus: tfidf\n",
    "tfidf = TfidfModel(corpus)\n",
    "\n",
    "# Calculate the tfidf weights of doc: tfidf_weights\n",
    "tfidf_weights = tfidf[doc]\n",
    "\n",
    "# Print the first five weights\n",
    "print(tfidf_weights[:5])\n",
    "\n",
    "# Sort the weights from highest to lowest: sorted_tfidf_weights\n",
    "sorted_tfidf_weights = sorted(tfidf_weights, key=lambda w: w[1], reverse=True)\n",
    "\n",
    "# Print the top 5 weighted words\n",
    "for term_id, weight in sorted_tfidf_weights[:5]:\n",
    "    print(dictionary.get(term_id), weight)"
   ]
  }
 ],
 "metadata": {
  "kernelspec": {
   "display_name": "Python 3",
   "language": "python",
   "name": "python3"
  },
  "language_info": {
   "codemirror_mode": {
    "name": "ipython",
    "version": 3
   },
   "file_extension": ".py",
   "mimetype": "text/x-python",
   "name": "python",
   "nbconvert_exporter": "python",
   "pygments_lexer": "ipython3",
   "version": "3.7.6"
  },
  "latex_envs": {
   "LaTeX_envs_menu_present": true,
   "autoclose": true,
   "autocomplete": true,
   "bibliofile": "biblio.bib",
   "cite_by": "apalike",
   "current_citInitial": 1,
   "eqLabelWithNumbers": true,
   "eqNumInitial": 1,
   "hotkeys": {
    "equation": "Ctrl-E",
    "itemize": "Ctrl-I"
   },
   "labels_anchors": false,
   "latex_user_defs": false,
   "report_style_numbering": true,
   "user_envs_cfg": true
  },
  "nbTranslate": {
   "displayLangs": [
    "*"
   ],
   "hotkey": "alt-t",
   "langInMainMenu": true,
   "sourceLang": "en",
   "targetLang": "fr",
   "useGoogleTranslate": true
  },
  "toc": {
   "base_numbering": 1,
   "nav_menu": {},
   "number_sections": true,
   "sideBar": true,
   "skip_h1_title": false,
   "title_cell": "Table of Contents",
   "title_sidebar": "Contents",
   "toc_cell": false,
   "toc_position": {
    "height": "calc(100% - 180px)",
    "left": "10px",
    "top": "150px",
    "width": "288px"
   },
   "toc_section_display": true,
   "toc_window_display": true
  },
  "varInspector": {
   "cols": {
    "lenName": 16,
    "lenType": 16,
    "lenVar": 40
   },
   "kernels_config": {
    "python": {
     "delete_cmd_postfix": "",
     "delete_cmd_prefix": "del ",
     "library": "var_list.py",
     "varRefreshCmd": "print(var_dic_list())"
    },
    "r": {
     "delete_cmd_postfix": ") ",
     "delete_cmd_prefix": "rm(",
     "library": "var_list.r",
     "varRefreshCmd": "cat(var_dic_list()) "
    }
   },
   "types_to_exclude": [
    "module",
    "function",
    "builtin_function_or_method",
    "instance",
    "_Feature"
   ],
   "window_display": true
  }
 },
 "nbformat": 4,
 "nbformat_minor": 4
}
