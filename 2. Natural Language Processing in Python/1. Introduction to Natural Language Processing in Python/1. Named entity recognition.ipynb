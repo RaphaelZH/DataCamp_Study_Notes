{
 "cells": [
  {
   "cell_type": "markdown",
   "metadata": {
    "ExecuteTime": {
     "end_time": "2020-07-24T11:20:21.989524Z",
     "start_time": "2020-07-24T11:20:12.960881Z"
    }
   },
   "source": [
    "```\n",
    "#############################################\n",
    "##                                         ##\n",
    "##  Natural Language Processing in Python  ##\n",
    "##                                         ##\n",
    "#############################################\n",
    "\n",
    "§1 Introduction to Natural Language Processing in Python\n",
    "\n",
    "§1.3 Named-entity recognition\n",
    "```"
   ]
  },
  {
   "cell_type": "markdown",
   "metadata": {},
   "source": [
    "# Named entity recognition"
   ]
  },
  {
   "cell_type": "markdown",
   "metadata": {},
   "source": [
    "## What is bag-of-words?\n",
    "\n",
    "* It is a basic method for finding topics in a text.\n",
    "\n",
    "* Need first to create tokens using tokenization.\n",
    "\n",
    "* And then count up all the tokens.\n",
    "\n",
    "* The more frequent a word, the more important it might be.\n",
    "\n",
    "* It can be a great way to determine the significant words in a text."
   ]
  },
  {
   "cell_type": "markdown",
   "metadata": {},
   "source": [
    "## Code of bag-of-words in Python:"
   ]
  },
  {
   "cell_type": "code",
   "execution_count": 1,
   "metadata": {
    "ExecuteTime": {
     "end_time": "2021-01-13T13:22:07.028904Z",
     "start_time": "2021-01-13T13:22:01.264589Z"
    }
   },
   "outputs": [
    {
     "data": {
      "text/plain": [
       "Counter({'The': 3,\n",
       "         'cat': 3,\n",
       "         'is': 2,\n",
       "         'in': 1,\n",
       "         'the': 3,\n",
       "         'box': 3,\n",
       "         '.': 3,\n",
       "         'likes': 1,\n",
       "         'over': 1})"
      ]
     },
     "execution_count": 1,
     "metadata": {},
     "output_type": "execute_result"
    }
   ],
   "source": [
    "from nltk.tokenize import word_tokenize\n",
    "from collections import Counter\n",
    "\n",
    "Counter(\n",
    "    word_tokenize(\"\"\"The cat is in the box. The cat likes the box. \\\n",
    "The box is over the cat.\"\"\"))"
   ]
  },
  {
   "cell_type": "code",
   "execution_count": 2,
   "metadata": {
    "ExecuteTime": {
     "end_time": "2021-01-13T13:22:07.044749Z",
     "start_time": "2021-01-13T13:22:07.036493Z"
    }
   },
   "outputs": [
    {
     "data": {
      "text/plain": [
       "[('The', 3), ('cat', 3)]"
      ]
     },
     "execution_count": 2,
     "metadata": {},
     "output_type": "execute_result"
    }
   ],
   "source": [
    "counter = Counter(\n",
    "    word_tokenize(\"\"\"The cat is in the box. The cat likes the box. \\\n",
    "    The box is over the cat.\"\"\"))\n",
    "counter.most_common(2)"
   ]
  },
  {
   "cell_type": "markdown",
   "metadata": {},
   "source": [
    "## Practice question for bag-of-words picker:\n",
    "\n",
    "* It's time for a quick check on the understanding of bag-of-words. Which of the below options, with basic NLTK tokenization, map the bag-of-words for the following text?\n",
    "\n",
    "    > \"The cat is in the box. The cat box.\"\n",
    "    \n",
    "    $\\Box$ `('the', 3), ('box.', 2), ('cat', 2), ('is', 1)`.\n",
    "\n",
    "    $\\Box$ `('The', 3), ('box', 2), ('cat', 2), ('is', 1), ('in', 1), ('.', 1)`.\n",
    "    \n",
    "    $\\Box$ `('the', 3), ('cat box', 1), ('cat', 1), ('box', 1), ('is', 1), ('in', 1)`.\n",
    "        \n",
    "    $\\boxtimes$ `('The', 2), ('box', 2), ('.', 2), ('cat', 2), ('is', 1), ('in', 1), ('the', 1)`."
   ]
  },
  {
   "cell_type": "markdown",
   "metadata": {},
   "source": [
    "$\\blacktriangleright$ **Question-solving method:**"
   ]
  },
  {
   "cell_type": "code",
   "execution_count": 3,
   "metadata": {
    "ExecuteTime": {
     "end_time": "2021-01-13T13:22:07.066332Z",
     "start_time": "2021-01-13T13:22:07.055159Z"
    }
   },
   "outputs": [
    {
     "data": {
      "text/plain": [
       "Counter({'The': 2, 'cat': 2, 'is': 1, 'in': 1, 'the': 1, 'box': 2, '.': 2})"
      ]
     },
     "execution_count": 3,
     "metadata": {},
     "output_type": "execute_result"
    }
   ],
   "source": [
    "from nltk.tokenize import word_tokenize\n",
    "from collections import Counter\n",
    "\n",
    "Counter(word_tokenize(\"The cat is in the box. The cat box.\"))"
   ]
  },
  {
   "cell_type": "markdown",
   "metadata": {},
   "source": [
    "## Practice exercises for word counts with bag-of-words:\n",
    "\n",
    "$\\blacktriangleright$ **Package pre-loading:**"
   ]
  },
  {
   "cell_type": "code",
   "execution_count": 4,
   "metadata": {
    "ExecuteTime": {
     "end_time": "2021-01-13T13:22:07.085230Z",
     "start_time": "2021-01-13T13:22:07.079965Z"
    }
   },
   "outputs": [],
   "source": [
    "from nltk import word_tokenize"
   ]
  },
  {
   "cell_type": "markdown",
   "metadata": {},
   "source": [
    "$\\blacktriangleright$ **Data pre-loading:**"
   ]
  },
  {
   "cell_type": "code",
   "execution_count": 5,
   "metadata": {
    "ExecuteTime": {
     "end_time": "2021-01-13T13:22:07.100901Z",
     "start_time": "2021-01-13T13:22:07.095085Z"
    }
   },
   "outputs": [],
   "source": [
    "article = open('ref1. Wikipedia article - Debugging.txt').read()"
   ]
  },
  {
   "cell_type": "markdown",
   "metadata": {},
   "source": [
    "$\\blacktriangleright$ **Bag-of-words `Counter` building practice:**"
   ]
  },
  {
   "cell_type": "code",
   "execution_count": 6,
   "metadata": {
    "ExecuteTime": {
     "end_time": "2021-01-13T13:22:07.252048Z",
     "start_time": "2021-01-13T13:22:07.109542Z"
    }
   },
   "outputs": [
    {
     "name": "stdout",
     "output_type": "stream",
     "text": [
      "[(',', 151), ('the', 150), ('.', 89), ('of', 81), (\"''\", 66), ('to', 63), ('a', 60), ('``', 47), ('in', 44), ('and', 41)]\n"
     ]
    }
   ],
   "source": [
    "# Import Counter\n",
    "from collections import Counter\n",
    "\n",
    "# Tokenize the article: tokens\n",
    "tokens = word_tokenize(article)\n",
    "\n",
    "# Convert the tokens into lowercase: lower_tokens\n",
    "lower_tokens = [t.lower() for t in tokens]\n",
    "\n",
    "# Create a Counter with the lowercase tokens: bow_simple\n",
    "bow_simple = Counter(lower_tokens)\n",
    "\n",
    "# Print the 10 most common tokens\n",
    "print(bow_simple.most_common(10))"
   ]
  },
  {
   "cell_type": "markdown",
   "metadata": {
    "ExecuteTime": {
     "end_time": "2020-07-24T11:20:21.989524Z",
     "start_time": "2020-07-24T11:20:12.960881Z"
    }
   },
   "source": [
    "```\n",
    "#############################################\n",
    "##                                         ##\n",
    "##  Natural Language Processing in Python  ##\n",
    "##                                         ##\n",
    "#############################################\n",
    "\n",
    "§1 Introduction to Natural Language Processing in Python\n",
    "\n",
    "§1.2 Simple topic identification\n",
    "```"
   ]
  },
  {
   "cell_type": "markdown",
   "metadata": {},
   "source": [
    "# Simple text preprocessing"
   ]
  },
  {
   "cell_type": "markdown",
   "metadata": {},
   "source": [
    "## Why preprocess?\n",
    "\n",
    "* When performing machine learning or other statistical methods, it could help make for better input data.\n",
    "\n",
    "* Examples:\n",
    "\n",
    "\t* *tokenization to create a bag of words*\n",
    "\n",
    "\t* *lowercasing words*\n",
    "\n",
    "* Lemmatization/Stemming:\n",
    "\n",
    "\t* shorten words to their root stems\n",
    "\n",
    "* Remove stop words, punctuation, or unwanted tokens.\n",
    "\n",
    "* Good to experiment with different approaches."
   ]
  },
  {
   "cell_type": "markdown",
   "metadata": {},
   "source": [
    "## Code of text preprocessing with Python:"
   ]
  },
  {
   "cell_type": "code",
   "execution_count": 7,
   "metadata": {
    "ExecuteTime": {
     "end_time": "2021-01-13T13:22:08.860829Z",
     "start_time": "2021-01-13T13:22:08.854279Z"
    }
   },
   "outputs": [],
   "source": [
    "from nltk.tokenize import word_tokenize\n",
    "from collections import Counter"
   ]
  },
  {
   "cell_type": "code",
   "execution_count": 8,
   "metadata": {
    "ExecuteTime": {
     "end_time": "2021-01-13T13:22:08.993943Z",
     "start_time": "2021-01-13T13:22:08.973271Z"
    }
   },
   "outputs": [
    {
     "data": {
      "text/plain": [
       "[('cat', 3), ('box', 3)]"
      ]
     },
     "execution_count": 8,
     "metadata": {},
     "output_type": "execute_result"
    }
   ],
   "source": [
    "from nltk.corpus import stopwords\n",
    "\n",
    "text = \"\"\"The cat is in the box. The cat likes the box.\n",
    "The box is over the cat.\"\"\"\n",
    "tokens = [w for w in word_tokenize(text.lower()) if w.isalpha()]\n",
    "no_stops = [t for t in tokens if t not in stopwords.words('english')]\n",
    "Counter(no_stops).most_common(2)"
   ]
  },
  {
   "cell_type": "code",
   "execution_count": 9,
   "metadata": {
    "ExecuteTime": {
     "end_time": "2021-01-13T13:22:14.958030Z",
     "start_time": "2021-01-13T13:22:09.096322Z"
    }
   },
   "outputs": [
    {
     "name": "stdout",
     "output_type": "stream",
     "text": [
      "['cat', 'dog', 'bird', 'common', 'pet', 'fish']\n"
     ]
    }
   ],
   "source": [
    "from nltk.stem import WordNetLemmatizer\n",
    "\n",
    "text = \"\"\"Cats, dogs and birds are common pets. So are fish.\"\"\"\n",
    "tokens = [w for w in word_tokenize(text.lower()) if w.isalpha()]\n",
    "no_stops = [t for t in tokens if t not in stopwords.words('english')]\n",
    "wordnet_lemmatizer = WordNetLemmatizer()\n",
    "lemmatized = [wordnet_lemmatizer.lemmatize(t) for t in no_stops]\n",
    "print(lemmatized)"
   ]
  },
  {
   "cell_type": "markdown",
   "metadata": {},
   "source": [
    "## Practice question for text preprocessing steps:\n",
    "\n",
    "* Which of the following are useful text preprocessing steps?\n",
    "    \n",
    "    $\\Box$ Stems, spelling corrections, lowercase.\n",
    "    \n",
    "    $\\boxtimes$ Lemmatization, lowercasing, removing unwanted tokens.\n",
    "\n",
    "    $\\Box$ Removing stop words, leaving in capital words.\n",
    "    \n",
    "    $\\Box$ Strip stop words, word endings and digits."
   ]
  },
  {
   "cell_type": "markdown",
   "metadata": {},
   "source": [
    "## Practice exercises for simple text preprocessing:\n",
    "\n",
    "$\\blacktriangleright$ **Package pre-loading:**"
   ]
  },
  {
   "cell_type": "code",
   "execution_count": 10,
   "metadata": {
    "ExecuteTime": {
     "end_time": "2021-01-13T13:22:14.985041Z",
     "start_time": "2021-01-13T13:22:14.971058Z"
    }
   },
   "outputs": [],
   "source": [
    "from nltk import word_tokenize\n",
    "from nltk.corpus import stopwords\n",
    "from collections import Counter"
   ]
  },
  {
   "cell_type": "markdown",
   "metadata": {},
   "source": [
    "$\\blacktriangleright$ **Data pre-loading:**"
   ]
  },
  {
   "cell_type": "code",
   "execution_count": 11,
   "metadata": {
    "ExecuteTime": {
     "end_time": "2021-01-13T13:22:15.075636Z",
     "start_time": "2021-01-13T13:22:15.001217Z"
    }
   },
   "outputs": [],
   "source": [
    "article = open('ref1. Wikipedia article - Debugging.txt').read()\n",
    "tokens = word_tokenize(article)\n",
    "lower_tokens = [t.lower() for t in tokens]\n",
    "english_stops = stopwords.words('english')"
   ]
  },
  {
   "cell_type": "markdown",
   "metadata": {},
   "source": [
    "$\\blacktriangleright$ **Text preprocessing practice:**"
   ]
  },
  {
   "cell_type": "code",
   "execution_count": 12,
   "metadata": {
    "ExecuteTime": {
     "end_time": "2021-01-13T13:22:15.116389Z",
     "start_time": "2021-01-13T13:22:15.086918Z"
    }
   },
   "outputs": [
    {
     "name": "stdout",
     "output_type": "stream",
     "text": [
      "[('debugging', 40), ('system', 25), ('bug', 17), ('software', 16), ('problem', 15), ('tool', 15), ('computer', 14), ('process', 13), ('term', 13), ('debugger', 13)]\n"
     ]
    }
   ],
   "source": [
    "# Import WordNetLemmatizer\n",
    "from nltk.stem import WordNetLemmatizer\n",
    "\n",
    "# Retain alphabetic words: alpha_only\n",
    "alpha_only = [t for t in lower_tokens if t.isalpha()]\n",
    "\n",
    "# Remove all stop words: no_stops\n",
    "no_stops = [t for t in alpha_only if t not in english_stops]\n",
    "\n",
    "# Instantiate the WordNetLemmatizer\n",
    "wordnet_lemmatizer = WordNetLemmatizer()\n",
    "\n",
    "# Lemmatize all tokens into a new list: lemmatized\n",
    "lemmatized = [wordnet_lemmatizer.lemmatize(t) for t in no_stops]\n",
    "\n",
    "# Create the bag-of-words: bow\n",
    "bow = Counter(lemmatized)\n",
    "\n",
    "# Print the 10 most common tokens\n",
    "print(bow.most_common(10))"
   ]
  },
  {
   "cell_type": "markdown",
   "metadata": {
    "ExecuteTime": {
     "end_time": "2020-07-24T11:20:21.989524Z",
     "start_time": "2020-07-24T11:20:12.960881Z"
    }
   },
   "source": [
    "```\n",
    "#############################################\n",
    "##                                         ##\n",
    "##  Natural Language Processing in Python  ##\n",
    "##                                         ##\n",
    "#############################################\n",
    "\n",
    "§1 Introduction to Natural Language Processing in Python\n",
    "\n",
    "§1.2 Simple topic identification\n",
    "```"
   ]
  },
  {
   "cell_type": "markdown",
   "metadata": {},
   "source": [
    "# Introduction to gensim"
   ]
  },
  {
   "cell_type": "markdown",
   "metadata": {},
   "source": [
    "## What is gensim?\n",
    "\n",
    "* It is a popular open-source NLP library.\n",
    "\n",
    "* It uses top academic models to perform complex tasks:\n",
    "\n",
    "\t* building document or word vectors\n",
    "\n",
    "\t* performing topic identification and document comparison"
   ]
  },
  {
   "cell_type": "markdown",
   "metadata": {},
   "source": [
    "## What is a word vector?\n",
    "\n",
    "![What is a word vector](ref2.%20What%20is%20a%20word%20vector.jpg)"
   ]
  },
  {
   "cell_type": "markdown",
   "metadata": {},
   "source": [
    "## Code of creating a gensim corpus:"
   ]
  },
  {
   "cell_type": "code",
   "execution_count": 13,
   "metadata": {
    "ExecuteTime": {
     "end_time": "2021-01-13T13:22:16.490049Z",
     "start_time": "2021-01-13T13:22:16.048424Z"
    }
   },
   "outputs": [],
   "source": [
    "from gensim.corpora.dictionary import Dictionary\n",
    "from nltk.tokenize import word_tokenize\n",
    "\n",
    "my_documents = [\n",
    "    'The movie was about a spaceship and aliens.',\n",
    "    'I really liked the movie!',\n",
    "    'Awesome action scenes, but boring characters.',\n",
    "    'The movie was awful! I hate alien films.',\n",
    "    'Space is cool! I liked the movie.',\n",
    "    'More space films, please!',\n",
    "]"
   ]
  },
  {
   "cell_type": "code",
   "execution_count": 14,
   "metadata": {
    "ExecuteTime": {
     "end_time": "2021-01-13T13:22:16.526992Z",
     "start_time": "2021-01-13T13:22:16.512024Z"
    }
   },
   "outputs": [
    {
     "data": {
      "text/plain": [
       "{'.': 0,\n",
       " 'a': 1,\n",
       " 'about': 2,\n",
       " 'aliens': 3,\n",
       " 'and': 4,\n",
       " 'movie': 5,\n",
       " 'spaceship': 6,\n",
       " 'the': 7,\n",
       " 'was': 8,\n",
       " '!': 9,\n",
       " 'i': 10,\n",
       " 'liked': 11,\n",
       " 'really': 12,\n",
       " ',': 13,\n",
       " 'action': 14,\n",
       " 'awesome': 15,\n",
       " 'boring': 16,\n",
       " 'but': 17,\n",
       " 'characters': 18,\n",
       " 'scenes': 19,\n",
       " 'alien': 20,\n",
       " 'awful': 21,\n",
       " 'films': 22,\n",
       " 'hate': 23,\n",
       " 'cool': 24,\n",
       " 'is': 25,\n",
       " 'space': 26,\n",
       " 'more': 27,\n",
       " 'please': 28}"
      ]
     },
     "execution_count": 14,
     "metadata": {},
     "output_type": "execute_result"
    }
   ],
   "source": [
    "tokenized_docs = [word_tokenize(doc.lower()) for doc in my_documents]\n",
    "\n",
    "dictionary = Dictionary(tokenized_docs)\n",
    "dictionary.token2id"
   ]
  },
  {
   "cell_type": "code",
   "execution_count": 15,
   "metadata": {
    "ExecuteTime": {
     "end_time": "2021-01-13T13:22:16.559096Z",
     "start_time": "2021-01-13T13:22:16.548072Z"
    }
   },
   "outputs": [
    {
     "data": {
      "text/plain": [
       "[[(0, 1), (1, 1), (2, 1), (3, 1), (4, 1), (5, 1), (6, 1), (7, 1), (8, 1)],\n",
       " [(5, 1), (7, 1), (9, 1), (10, 1), (11, 1), (12, 1)],\n",
       " [(0, 1), (13, 1), (14, 1), (15, 1), (16, 1), (17, 1), (18, 1), (19, 1)],\n",
       " [(0, 1),\n",
       "  (5, 1),\n",
       "  (7, 1),\n",
       "  (8, 1),\n",
       "  (9, 1),\n",
       "  (10, 1),\n",
       "  (20, 1),\n",
       "  (21, 1),\n",
       "  (22, 1),\n",
       "  (23, 1)],\n",
       " [(0, 1), (5, 1), (7, 1), (9, 1), (10, 1), (11, 1), (24, 1), (25, 1), (26, 1)],\n",
       " [(9, 1), (13, 1), (22, 1), (26, 1), (27, 1), (28, 1)]]"
      ]
     },
     "execution_count": 15,
     "metadata": {},
     "output_type": "execute_result"
    }
   ],
   "source": [
    "corpus = [dictionary.doc2bow(doc) for doc in tokenized_docs]\n",
    "corpus"
   ]
  },
  {
   "cell_type": "markdown",
   "metadata": {
    "ExecuteTime": {
     "end_time": "2021-01-11T02:11:23.343543Z",
     "start_time": "2021-01-11T02:11:23.317669Z"
    }
   },
   "source": [
    "## What are the advantages of creating a gensim corpus?\n",
    "\n",
    "* First of all, gensim models can be easily saved, updated, and reused.\n",
    "\n",
    "* Secondly, the dictionary created can also be updated.\n",
    "\n",
    "* Lastly, the more advanced and feature-rich bag-of-words can be used in future exercises."
   ]
  },
  {
   "cell_type": "markdown",
   "metadata": {},
   "source": [
    "## Practice question for word vectors:\n",
    "\n",
    "* What are word vectors, and how do they help with NLP?\n",
    "    \n",
    "    $\\Box$ They are similar to bags of words, just with numbers. You use them to count how many tokens there are.\n",
    "    \n",
    "    $\\Box$ Word vectors are sparse arrays representing bigrams in the corpora. You can use them to compare two sets of words to one another.\n",
    "\n",
    "    $\\boxtimes$ Word vectors are multi-dimensional mathematical representations of words created using deep learning methods. They give us insight into relationships between words in a corpus.\n",
    "    \n",
    "    $\\Box$ Word vectors don't actually help NLP and are just hype."
   ]
  },
  {
   "cell_type": "markdown",
   "metadata": {},
   "source": [
    "## Practice exercises for introduction to gensim:\n",
    "\n",
    "$\\blacktriangleright$ **Package pre-loading:**"
   ]
  },
  {
   "cell_type": "code",
   "execution_count": 16,
   "metadata": {
    "ExecuteTime": {
     "end_time": "2021-01-13T13:22:18.366071Z",
     "start_time": "2021-01-13T13:22:18.361389Z"
    }
   },
   "outputs": [],
   "source": [
    "import zipfile\n",
    "\n",
    "from nltk import word_tokenize\n",
    "from nltk.corpus import stopwords"
   ]
  },
  {
   "cell_type": "markdown",
   "metadata": {},
   "source": [
    "$\\blacktriangleright$ **Data pre-loading:**"
   ]
  },
  {
   "cell_type": "code",
   "execution_count": 17,
   "metadata": {
    "ExecuteTime": {
     "end_time": "2021-01-13T13:22:21.356749Z",
     "start_time": "2021-01-13T13:22:19.064145Z"
    }
   },
   "outputs": [],
   "source": [
    "file_name = 'ref3. Wikipedia articles.zip'\n",
    "with zipfile.ZipFile(file_name, 'r') as archive:\n",
    "    files = [\n",
    "        archive.read(name) for name in archive.namelist()\n",
    "        if name.endswith('.txt')\n",
    "    ]\n",
    "\n",
    "doc_tokens = [word_tokenize(file.decode(\"utf-8\")) for file in files]\n",
    "\n",
    "articles = []\n",
    "english_stops = stopwords.words('english')\n",
    "for i in range(len(doc_tokens)):\n",
    "    lower_tokens = [t.lower() for t in doc_tokens[i]]\n",
    "    alphanumeric_only = [t for t in lower_tokens if t.isalnum()]\n",
    "    no_stops = [t for t in alphanumeric_only if t not in english_stops]\n",
    "    articles.append(no_stops)"
   ]
  },
  {
   "cell_type": "markdown",
   "metadata": {},
   "source": [
    "$\\blacktriangleright$ **Gensim corpus creating and querying practice:**"
   ]
  },
  {
   "cell_type": "code",
   "execution_count": 18,
   "metadata": {
    "ExecuteTime": {
     "end_time": "2021-01-13T13:22:21.620898Z",
     "start_time": "2021-01-13T13:22:21.387036Z"
    }
   },
   "outputs": [
    {
     "name": "stdout",
     "output_type": "stream",
     "text": [
      "computer\n",
      "[(13, 2), (24, 1), (43, 1), (44, 6), (45, 1), (50, 1), (58, 1), (59, 1), (61, 7), (75, 1)]\n"
     ]
    }
   ],
   "source": [
    "# Import Dictionary\n",
    "from gensim.corpora.dictionary import Dictionary\n",
    "\n",
    "# Create a Dictionary from the articles: dictionary\n",
    "dictionary = Dictionary(articles)\n",
    "\n",
    "# Select the id for \"computer\": computer_id\n",
    "computer_id = dictionary.token2id.get(\"computer\")\n",
    "\n",
    "# Use computer_id with the dictionary to print the word\n",
    "print(dictionary.get(computer_id))\n",
    "\n",
    "# Create a MmCorpus: corpus\n",
    "corpus = [dictionary.doc2bow(article) for article in articles]\n",
    "\n",
    "# Print the first 10 word ids with their frequency counts from the fifth document\n",
    "print(corpus[4][:10])"
   ]
  },
  {
   "cell_type": "markdown",
   "metadata": {},
   "source": [
    "$\\blacktriangleright$ **Package pre-loading:**"
   ]
  },
  {
   "cell_type": "code",
   "execution_count": 19,
   "metadata": {
    "ExecuteTime": {
     "end_time": "2021-01-13T13:22:21.655549Z",
     "start_time": "2021-01-13T13:22:21.650137Z"
    }
   },
   "outputs": [],
   "source": [
    "from collections import defaultdict\n",
    "import itertools"
   ]
  },
  {
   "cell_type": "markdown",
   "metadata": {
    "ExecuteTime": {
     "end_time": "2021-01-12T00:01:27.575723Z",
     "start_time": "2021-01-12T00:01:26.112537Z"
    }
   },
   "source": [
    "$\\blacktriangleright$ **Gensim bag-of-words practice:**"
   ]
  },
  {
   "cell_type": "code",
   "execution_count": 20,
   "metadata": {
    "ExecuteTime": {
     "end_time": "2021-01-13T13:22:21.696139Z",
     "start_time": "2021-01-13T13:22:21.666415Z"
    }
   },
   "outputs": [
    {
     "name": "stdout",
     "output_type": "stream",
     "text": [
      "language 54\n",
      "programming 39\n",
      "languages 30\n",
      "code 22\n",
      "computer 15\n"
     ]
    }
   ],
   "source": [
    "# Save the fifth document: doc\n",
    "doc = corpus[4]\n",
    "\n",
    "# Sort the doc for frequency: bow_doc\n",
    "bow_doc = sorted(doc, key=lambda w: w[1], reverse=True)\n",
    "\n",
    "# Print the top 5 words of the document alongside the count\n",
    "for word_id, word_count in bow_doc[:5]:\n",
    "    print(dictionary.get(word_id), word_count)\n",
    "\n",
    "# Create the defaultdict: total_word_count\n",
    "total_word_count = defaultdict(int)\n",
    "for word_id, word_count in itertools.chain.from_iterable(corpus):\n",
    "    total_word_count[word_id] += word_count"
   ]
  },
  {
   "cell_type": "code",
   "execution_count": 21,
   "metadata": {
    "ExecuteTime": {
     "end_time": "2021-01-13T13:22:21.765299Z",
     "start_time": "2021-01-13T13:22:21.720868Z"
    }
   },
   "outputs": [
    {
     "name": "stdout",
     "output_type": "stream",
     "text": [
      "language 54\n",
      "programming 39\n",
      "languages 30\n",
      "code 22\n",
      "computer 15\n",
      "computer 598\n",
      "software 450\n",
      "cite 322\n",
      "ref 259\n",
      "code 235\n"
     ]
    }
   ],
   "source": [
    "# Save the fifth document: doc\n",
    "doc = corpus[4]\n",
    "\n",
    "# Sort the doc for frequency: bow_doc\n",
    "bow_doc = sorted(doc, key=lambda w: w[1], reverse=True)\n",
    "\n",
    "# Print the top 5 words of the document alongside the count\n",
    "for word_id, word_count in bow_doc[:5]:\n",
    "    print(dictionary.get(word_id), word_count)\n",
    "\n",
    "# Create the defaultdict: total_word_count\n",
    "total_word_count = defaultdict(int)\n",
    "for word_id, word_count in itertools.chain.from_iterable(corpus):\n",
    "    total_word_count[word_id] += word_count\n",
    "\n",
    "# Create a sorted list from the defaultdict: sorted_word_count\n",
    "sorted_word_count = sorted(total_word_count.items(),\n",
    "                           key=lambda w: w[1],\n",
    "                           reverse=True)\n",
    "\n",
    "# Print the top 5 words across all documents alongside the count\n",
    "for word_id, word_count in sorted_word_count[:5]:\n",
    "    print(dictionary.get(word_id), word_count)"
   ]
  },
  {
   "cell_type": "markdown",
   "metadata": {
    "ExecuteTime": {
     "end_time": "2020-07-24T11:20:21.989524Z",
     "start_time": "2020-07-24T11:20:12.960881Z"
    }
   },
   "source": [
    "```\n",
    "#############################################\n",
    "##                                         ##\n",
    "##  Natural Language Processing in Python  ##\n",
    "##                                         ##\n",
    "#############################################\n",
    "\n",
    "§1 Introduction to Natural Language Processing in Python\n",
    "\n",
    "§1.2 Simple topic identification\n",
    "```"
   ]
  },
  {
   "cell_type": "markdown",
   "metadata": {},
   "source": [
    "# Tf-idf with gensim"
   ]
  },
  {
   "cell_type": "markdown",
   "metadata": {},
   "source": [
    "## What is tf-idf?\n",
    "\n",
    "* Tf-idf means term frequency - inverse document frequency.\n",
    "\n",
    "* Allow determining the most important words in each document.\n",
    "\n",
    "* Each corpus may have shared words beyond just stopwords.\n",
    "\n",
    "* These words should be down-weighted in importance.\n",
    "\n",
    "* Example:\n",
    "\n",
    "    * *\"sky\" from the theme of astronomy*\n",
    "\n",
    "* Ensures most common words don't show up as keywords.\n",
    "\n",
    "* Keep document specific frequent words weighted high."
   ]
  },
  {
   "cell_type": "markdown",
   "metadata": {},
   "source": [
    "## What is the tf-idf formula?\n",
    "\n",
    "* $w_{i, j} = tf_{i, j} \\times \\log{\\left( \\frac{N}{df_{i}} \\right)}$\n",
    "\n",
    "    * $w_{i, j}$ = tf-idf weight for token $i$ in document $j$\n",
    "\n",
    "    * $tf_{i, j}$ = number of occurences of token $i$ in document $j$\n",
    "\n",
    "    * $df_{i}$ = number of documents that contain token $i$\n",
    "\n",
    "    * $N$ = total number of documents"
   ]
  },
  {
   "cell_type": "markdown",
   "metadata": {},
   "source": [
    "## Code of tf-idf with gensim:"
   ]
  },
  {
   "cell_type": "code",
   "execution_count": 22,
   "metadata": {
    "ExecuteTime": {
     "end_time": "2021-01-13T13:22:25.094713Z",
     "start_time": "2021-01-13T13:22:25.083281Z"
    }
   },
   "outputs": [],
   "source": [
    "from gensim.corpora.dictionary import Dictionary\n",
    "from nltk.tokenize import word_tokenize\n",
    "\n",
    "my_documents = [\n",
    "    'The movie was about a spaceship and aliens.',\n",
    "    'I really liked the movie!',\n",
    "    'Awesome action scenes, but boring characters.',\n",
    "    'The movie was awful! I hate alien films.',\n",
    "    'Space is cool! I liked the movie.',\n",
    "    'More space films, please!',\n",
    "]\n",
    "\n",
    "tokenized_docs = [word_tokenize(doc.lower()) for doc in my_documents]\n",
    "dictionary = Dictionary(tokenized_docs)\n",
    "corpus = [dictionary.doc2bow(doc) for doc in tokenized_docs]"
   ]
  },
  {
   "cell_type": "code",
   "execution_count": 23,
   "metadata": {
    "ExecuteTime": {
     "end_time": "2021-01-13T13:22:25.206994Z",
     "start_time": "2021-01-13T13:22:25.199494Z"
    }
   },
   "outputs": [
    {
     "data": {
      "text/plain": [
       "[(5, 0.1746298276735174),\n",
       " (7, 0.1746298276735174),\n",
       " (9, 0.1746298276735174),\n",
       " (10, 0.29853166221463673),\n",
       " (11, 0.47316148988815415),\n",
       " (12, 0.7716931521027908)]"
      ]
     },
     "execution_count": 23,
     "metadata": {},
     "output_type": "execute_result"
    }
   ],
   "source": [
    "from gensim.models.tfidfmodel import TfidfModel\n",
    "\n",
    "tfidf = TfidfModel(corpus)\n",
    "tfidf[corpus[1]]"
   ]
  },
  {
   "cell_type": "markdown",
   "metadata": {},
   "source": [
    "## Practice question for what is tf-idf:\n",
    "\n",
    "* To calculate the tf-idf weight for the word \"computer\", which appears five times in a document containing 100 words. Given a corpus containing 200 documents, with 20 documents mentioning the word \"computer\", so tf-idf can be calculated by multiplying term frequency with inverse document frequency.\n",
    "\n",
    "* Notes:\n",
    "\n",
    "    * term frequency = percentage share of the word compared to all tokens in the document\n",
    "\n",
    "    * inverse document frequency = logarithm of the total number of documents in a corpus divided by the number of documents containing the term\n",
    "\n",
    "* Which of the below options is correct?\n",
    "\n",
    "    $\\boxtimes$ (5 / 100) * log(200 / 20)\n",
    "\n",
    "    $\\Box$ (5 * 100) / log(200 * 20)\n",
    "\n",
    "    $\\Box$ (20 / 5) * log(200 / 20)\n",
    "\n",
    "    $\\Box$ (200 * 5) * log(400 / 5)"
   ]
  },
  {
   "cell_type": "markdown",
   "metadata": {},
   "source": [
    "## Practice exercises for tf-idf with gensim:\n",
    "\n",
    "$\\blacktriangleright$ **Package pre-loading:**"
   ]
  },
  {
   "cell_type": "code",
   "execution_count": 24,
   "metadata": {
    "ExecuteTime": {
     "end_time": "2021-01-13T13:22:26.415643Z",
     "start_time": "2021-01-13T13:22:26.410325Z"
    }
   },
   "outputs": [],
   "source": [
    "import zipfile\n",
    "\n",
    "from nltk import word_tokenize\n",
    "from nltk.corpus import stopwords\n",
    "\n",
    "from gensim.corpora.dictionary import Dictionary\n",
    "from gensim.models.tfidfmodel import TfidfModel"
   ]
  },
  {
   "cell_type": "markdown",
   "metadata": {},
   "source": [
    "$\\blacktriangleright$ **Data pre-loading:**"
   ]
  },
  {
   "cell_type": "code",
   "execution_count": 25,
   "metadata": {
    "ExecuteTime": {
     "end_time": "2021-01-13T13:22:29.861510Z",
     "start_time": "2021-01-13T13:22:27.134023Z"
    }
   },
   "outputs": [],
   "source": [
    "file_name = 'ref3. Wikipedia articles.zip'\n",
    "with zipfile.ZipFile(file_name, 'r') as archive:\n",
    "    files = [\n",
    "        archive.read(name) for name in archive.namelist()\n",
    "        if name.endswith('.txt')\n",
    "    ]\n",
    "\n",
    "doc_tokens = [word_tokenize(file.decode(\"utf-8\")) for file in files]\n",
    "articles = []\n",
    "english_stops = stopwords.words('english')\n",
    "for i in range(len(doc_tokens)):\n",
    "    lower_tokens = [t.lower() for t in doc_tokens[i]]\n",
    "    alphanumeric_only = [t for t in lower_tokens if t.isalnum()]\n",
    "    no_stops = [t for t in alphanumeric_only if t not in english_stops]\n",
    "    articles.append(no_stops)\n",
    "\n",
    "dictionary = Dictionary(articles)\n",
    "corpus = [dictionary.doc2bow(article) for article in articles]\n",
    "\n",
    "doc = corpus[4]"
   ]
  },
  {
   "cell_type": "markdown",
   "metadata": {},
   "source": [
    "$\\blacktriangleright$ **Wikipedia tf-idf practice:"
   ]
  },
  {
   "cell_type": "code",
   "execution_count": 26,
   "metadata": {
    "ExecuteTime": {
     "end_time": "2021-01-13T13:22:29.986542Z",
     "start_time": "2021-01-13T13:22:29.880007Z"
    }
   },
   "outputs": [
    {
     "name": "stdout",
     "output_type": "stream",
     "text": [
      "[(13, 0.021411676334320492), (24, 0.01738903055915624), (43, 0.00805356588388867), (45, 0.021821227698039212), (50, 0.01376766181415054)]\n"
     ]
    }
   ],
   "source": [
    "# Create a new TfidfModel using the corpus: tfidf\n",
    "tfidf = TfidfModel(corpus)\n",
    "\n",
    "# Calculate the tfidf weights of doc: tfidf_weights\n",
    "tfidf_weights = tfidf[doc]\n",
    "\n",
    "# Print the first five weights\n",
    "print(tfidf_weights[:5])"
   ]
  },
  {
   "cell_type": "code",
   "execution_count": 27,
   "metadata": {
    "ExecuteTime": {
     "end_time": "2021-01-13T13:22:30.116781Z",
     "start_time": "2021-01-13T13:22:30.004587Z"
    }
   },
   "outputs": [
    {
     "name": "stdout",
     "output_type": "stream",
     "text": [
      "[(13, 0.021411676334320492), (24, 0.01738903055915624), (43, 0.00805356588388867), (45, 0.021821227698039212), (50, 0.01376766181415054)]\n",
      "compiled 0.2182122769803921\n",
      "compilation 0.21353333707313848\n",
      "eiffel 0.17794444756094874\n",
      "abstraction 0.1745698215843137\n",
      "intermediate 0.16521194176980647\n"
     ]
    }
   ],
   "source": [
    "# Create a new TfidfModel using the corpus: tfidf\n",
    "tfidf = TfidfModel(corpus)\n",
    "\n",
    "# Calculate the tfidf weights of doc: tfidf_weights\n",
    "tfidf_weights = tfidf[doc]\n",
    "\n",
    "# Print the first five weights\n",
    "print(tfidf_weights[:5])\n",
    "\n",
    "# Sort the weights from highest to lowest: sorted_tfidf_weights\n",
    "sorted_tfidf_weights = sorted(tfidf_weights, key=lambda w: w[1], reverse=True)\n",
    "\n",
    "# Print the top 5 weighted words\n",
    "for term_id, weight in sorted_tfidf_weights[:5]:\n",
    "    print(dictionary.get(term_id), weight)"
   ]
  }
 ],
 "metadata": {
  "kernelspec": {
   "display_name": "Python 3",
   "language": "python",
   "name": "python3"
  },
  "language_info": {
   "codemirror_mode": {
    "name": "ipython",
    "version": 3
   },
   "file_extension": ".py",
   "mimetype": "text/x-python",
   "name": "python",
   "nbconvert_exporter": "python",
   "pygments_lexer": "ipython3",
   "version": "3.7.6"
  },
  "latex_envs": {
   "LaTeX_envs_menu_present": true,
   "autoclose": true,
   "autocomplete": true,
   "bibliofile": "biblio.bib",
   "cite_by": "apalike",
   "current_citInitial": 1,
   "eqLabelWithNumbers": true,
   "eqNumInitial": 1,
   "hotkeys": {
    "equation": "Ctrl-E",
    "itemize": "Ctrl-I"
   },
   "labels_anchors": false,
   "latex_user_defs": false,
   "report_style_numbering": true,
   "user_envs_cfg": true
  },
  "nbTranslate": {
   "displayLangs": [
    "*"
   ],
   "hotkey": "alt-t",
   "langInMainMenu": true,
   "sourceLang": "en",
   "targetLang": "fr",
   "useGoogleTranslate": true
  },
  "toc": {
   "base_numbering": 1,
   "nav_menu": {},
   "number_sections": true,
   "sideBar": true,
   "skip_h1_title": false,
   "title_cell": "Table of Contents",
   "title_sidebar": "Contents",
   "toc_cell": false,
   "toc_position": {
    "height": "calc(100% - 180px)",
    "left": "10px",
    "top": "150px",
    "width": "288px"
   },
   "toc_section_display": true,
   "toc_window_display": true
  },
  "varInspector": {
   "cols": {
    "lenName": 16,
    "lenType": 16,
    "lenVar": 40
   },
   "kernels_config": {
    "python": {
     "delete_cmd_postfix": "",
     "delete_cmd_prefix": "del ",
     "library": "var_list.py",
     "varRefreshCmd": "print(var_dic_list())"
    },
    "r": {
     "delete_cmd_postfix": ") ",
     "delete_cmd_prefix": "rm(",
     "library": "var_list.r",
     "varRefreshCmd": "cat(var_dic_list()) "
    }
   },
   "types_to_exclude": [
    "module",
    "function",
    "builtin_function_or_method",
    "instance",
    "_Feature"
   ],
   "window_display": true
  }
 },
 "nbformat": 4,
 "nbformat_minor": 4
}
