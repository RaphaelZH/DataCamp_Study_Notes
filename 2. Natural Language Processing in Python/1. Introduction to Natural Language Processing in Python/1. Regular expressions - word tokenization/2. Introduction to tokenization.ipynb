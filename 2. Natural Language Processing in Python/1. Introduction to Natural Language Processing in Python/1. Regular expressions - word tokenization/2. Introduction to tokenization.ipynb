{
 "cells": [
  {
   "cell_type": "markdown",
   "metadata": {
    "ExecuteTime": {
     "end_time": "2020-07-24T11:20:21.989524Z",
     "start_time": "2020-07-24T11:20:12.960881Z"
    }
   },
   "source": [
    "```\n",
    "#############################################\n",
    "##                                         ##\n",
    "##  Natural Language Processing in Python  ##\n",
    "##                                         ##\n",
    "#############################################\n",
    "\n",
    "§1 Introduction to Natural Language Processing in Python\n",
    "\n",
    "§1.1 Regular expressions & word tokenization\n",
    "```"
   ]
  },
  {
   "cell_type": "markdown",
   "metadata": {},
   "source": [
    "# Introduction to tokenization"
   ]
  },
  {
   "cell_type": "markdown",
   "metadata": {},
   "source": [
    "## What is tokenization?\n",
    "\n",
    "* It turns a string or document into tokens (smaller chunks).\n",
    "\n",
    "* It's one step in preparing a text for NLP.\n",
    "\n",
    "* It has many different theories and rules.\n",
    "\n",
    "* Users can create their own rules using regular expressions.\n",
    "\n",
    "* There are some examples:\n",
    "\n",
    "\t* *breaking out words or sentences*\n",
    "    \n",
    "\t* *separating punctuation*\n",
    "    \n",
    "\t* *separating all hashtags in a tweet*"
   ]
  },
  {
   "cell_type": "markdown",
   "metadata": {},
   "source": [
    "## What is the `NLTK` library?\n",
    "\n",
    "* `NLTK`: Natural Language Toolkit"
   ]
  },
  {
   "cell_type": "markdown",
   "metadata": {},
   "source": [
    "## Code of the `NLTK` library:"
   ]
  },
  {
   "cell_type": "code",
   "execution_count": 1,
   "metadata": {
    "ExecuteTime": {
     "end_time": "2020-12-28T02:24:01.060477Z",
     "start_time": "2020-12-28T02:23:57.636666Z"
    }
   },
   "outputs": [
    {
     "data": {
      "text/plain": [
       "['Hi', 'there', '!']"
      ]
     },
     "execution_count": 1,
     "metadata": {},
     "output_type": "execute_result"
    }
   ],
   "source": [
    "from nltk.tokenize import word_tokenize\n",
    "\n",
    "word_tokenize(\"Hi there!\")"
   ]
  },
  {
   "cell_type": "markdown",
   "metadata": {
    "ExecuteTime": {
     "end_time": "2020-12-20T20:08:55.570909Z",
     "start_time": "2020-12-20T20:08:55.565185Z"
    }
   },
   "source": [
    "## Why tokenize?\n",
    "\n",
    "* Easier to map part of speech.\n",
    "\n",
    "* To match common words.\n",
    "\n",
    "* To remove unwanted tokens.\n",
    "\n",
    "* E.g., \n",
    "\n",
    "    ```\n",
    "    >>> word_tokenize(\"I don't like Sam's shoes.\")\n",
    "    ['I', 'do', \"n't\", 'like', 'Sam', \"'s\", 'shoes', '.']\n",
    "    ```"
   ]
  },
  {
   "cell_type": "markdown",
   "metadata": {},
   "source": [
    "## What are the other `NLTK` tokenizers?\n",
    "\n",
    "* `sent_tokenize`: tokenize a document into sentences.\n",
    "\n",
    "* `regexp_tokenize`: tokenize a string or document based on a regular expression pattern.\n",
    "\n",
    "* `TweetTokenizer`: special class just for tweet tokenization, allowing separate hashtags, mentions, and lots of exclamation points, such as '!!!'."
   ]
  },
  {
   "cell_type": "markdown",
   "metadata": {},
   "source": [
    "## Code of regex practice (the difference between `re.search()` and `re.match()`):"
   ]
  },
  {
   "cell_type": "code",
   "execution_count": 2,
   "metadata": {
    "ExecuteTime": {
     "end_time": "2020-12-28T02:24:01.070123Z",
     "start_time": "2020-12-28T02:24:01.064708Z"
    }
   },
   "outputs": [
    {
     "data": {
      "text/plain": [
       "<re.Match object; span=(0, 3), match='abc'>"
      ]
     },
     "execution_count": 2,
     "metadata": {},
     "output_type": "execute_result"
    }
   ],
   "source": [
    "import re\n",
    "\n",
    "re.match('abc', 'abcde')"
   ]
  },
  {
   "cell_type": "code",
   "execution_count": 3,
   "metadata": {
    "ExecuteTime": {
     "end_time": "2020-12-28T02:24:01.089064Z",
     "start_time": "2020-12-28T02:24:01.078357Z"
    }
   },
   "outputs": [
    {
     "data": {
      "text/plain": [
       "<re.Match object; span=(0, 3), match='abc'>"
      ]
     },
     "execution_count": 3,
     "metadata": {},
     "output_type": "execute_result"
    }
   ],
   "source": [
    "re.search('abc', 'abcde')"
   ]
  },
  {
   "cell_type": "code",
   "execution_count": 4,
   "metadata": {
    "ExecuteTime": {
     "end_time": "2020-12-28T02:24:01.097205Z",
     "start_time": "2020-12-28T02:24:01.093342Z"
    }
   },
   "outputs": [],
   "source": [
    "re.match('cd', 'abcde')"
   ]
  },
  {
   "cell_type": "code",
   "execution_count": 5,
   "metadata": {
    "ExecuteTime": {
     "end_time": "2020-12-28T02:24:01.107194Z",
     "start_time": "2020-12-28T02:24:01.100607Z"
    }
   },
   "outputs": [
    {
     "data": {
      "text/plain": [
       "<re.Match object; span=(2, 4), match='cd'>"
      ]
     },
     "execution_count": 5,
     "metadata": {},
     "output_type": "execute_result"
    }
   ],
   "source": [
    "re.search('cd', 'abcde')"
   ]
  },
  {
   "cell_type": "markdown",
   "metadata": {},
   "source": [
    "## Practice exercises for introduction to tokenization:\n",
    "\n",
    "$\\blacktriangleright$ **Data pre-loading:**"
   ]
  },
  {
   "cell_type": "code",
   "execution_count": 6,
   "metadata": {
    "ExecuteTime": {
     "end_time": "2020-12-28T02:24:01.114419Z",
     "start_time": "2020-12-28T02:24:01.109887Z"
    }
   },
   "outputs": [],
   "source": [
    "scene_one = open(\"ref2. Monty Python and the Holy Grail.txt\").read()"
   ]
  },
  {
   "cell_type": "markdown",
   "metadata": {
    "ExecuteTime": {
     "end_time": "2020-12-19T22:02:33.692343Z",
     "start_time": "2020-12-19T22:02:33.687220Z"
    }
   },
   "source": [
    "$\\blacktriangleright$ **`NLTK` word tokenization with practice:**"
   ]
  },
  {
   "cell_type": "code",
   "execution_count": 7,
   "metadata": {
    "ExecuteTime": {
     "end_time": "2020-12-28T02:24:01.319354Z",
     "start_time": "2020-12-28T02:24:01.117831Z"
    }
   },
   "outputs": [
    {
     "name": "stdout",
     "output_type": "stream",
     "text": [
      "{'of', 'bother', 'scratch', 'delirious', 'pounds', 'Unfortunately', 'Surely', 'zoosh', 'Listen', 'chance', \"'forgive\", 'Quickly', 'formed', 'pass', 'snuff', 'Assyria', 'CRONE', 'carried', '..', 'did', 'eis', 'employed', 'logically', 'Yeah', 'Our', 'valor', 'end', 'wave', 'weighs', 'force', 'enough', 'eyes', 'saved', 'ca', 'chosen', 'want', 'miss', 'else', 'Cherries', 'bridges', 'HEAD', 'face', 'pestilence', 'really', 'remember', 'guiding', 'spake', 'girl', 'tree', 'God', 'Back', 'try', 'approacheth', 'undressing', 'water', 'workers', 'taken', 'history', 'lair', 'Chaste', 'temperate', 'counting', 'favor', 'rescue', 'owns', 'nostrils', 's', 'oo', 'Tim', 'Uh', 'Blue', 'Which', 'suddenly', 'master', 'soon', 'Put', 'lot', 'thwonk', 'icy', 'illustrious', 'scrape', 'pause', 'demand', 'unclog', 'Practice', 'chu', 'stone', 'outdated', 'quite', 'badger', 'breadth', 'witness', 'food', 'plain', \"'Dennis\", 'drink', 'wooden', 'KNIGHTS', 'Midget', 'retold', 'filth', 'tough', 'into', \"C'est\", 'frozen', 'yet', 'ferocity', 'she', 'samite', 'bits', 'no', 'carving', 'Mmm', 'STUNNER', 'suppose', 'bows', 'Ask', 'sons', 'luck', 'baby', 'Nine', 'through', 'color', 'entrance', 'Book', 'stuffed', 'enjoying', 'Piglet', 'boil', 'lobbed', 'bride', 'pig-dogs', 'is', 'previous', 'peasant', 'carry', 'Clear', 'Pure', 'Beyond', 'proceed', 'How', \"d'you\", 'Excuse', 'also', 'Bravely', 'many', 'SENTRY', 'see', 'Follow', 'Gable', 'CAMERAMAN', 'folk', 'spoken', 'thanks', 'naughty', 'oral', 'name', 'ptoo', '3', 'mistake', 'CRASH', 'medical', 'Uugh', 'advancing', 'tropical', 'Aagh', 'Yeaah', 'husk', 'its', 'out', 'Quite', 'awfully', 'Not-appearing-in-this-film', 'yourself', 'indefatigable', 'fellows', 'still', 'siren', 'sacred', 'middle', 'object', 'feathers', 'high-pitched', 'beyond', 'Dennis', 'stops', 'tired', 'dull', 'ere', 'against', 'scimitar', 'wart', 'felt', 'minute', \"'S\", 'dance', 'exploiting', 'dare', 'Action', 'drilllll', 'from', 'yours', 'collective', 'Umhm', 'farcical', 'o', 'DENNIS', 'government', 'foot', 'pound', 'foul', 'ratios', 'explain', '18', 'WOMAN', 'Tale', 'flights', 'rhymes', 'aloft', 'pure', 'Zoot', 'tinder', 'dancing', 'She', 'command', 'grail-shaped', 'supposed', 'Bones', 'orangutans', 'Away', \"n't\", 'may', 'mate', 'ninepence', 'ALL', 'True', 'blood', 'ways', 'ceremony', 'NI', \"'Ecky-ecky-ecky-ecky-pikang-zoop-boing-goodem-zoo-owli-zhiv\", 'Lead', 'Idiom', 'vache', 'walk', 'leave', 'distress', 'sex', 'obviously', 'ha', 'class', 'biters', 'taunt', 'Dramatically', 'Ridden', \"'em\", 'Knight', 'Stand', 'beat', 'A', 'getting', 'Guy', 'executive', \"'uuggggggh\", 'keep', 'clop', 'hospitality', 'returns', 'outrageous', 'glad', 'HERBERT', 'worked', ']', 'Splendid', 'Too', 'accompanied', 'Yay', 'Gallahad', 'now', 'watch', 'leap', 'TIM', 'rodent', \"'til\", 'sawwwww', 'left', 'very', 'after', 'dressed', 'moment', 'eh', 'never', 'outside', '.', 'Seek', 'war', \"'Man\", 'flint', 'FATHER', 'Firstly', 'bloody', '21', 'Exactly', 'fooling', 'Oooohoohohooo', 'requiem', 'wrong', 'say', 'week', 'Aaaah', 'sign', 'Every', 'pull', 'Let', 'scholar', 'Look', 'happy', 'life', 'look', 'Hyy', 'wound', 'mashed', 'tonight', 'word', 'slightly', 'someone', 'ROGER', 'either', 'hamster', 'behold', 'ungallant', 'ZOOT', 'hang', 'oh', 'consulted', 'welcome', 'parts', 'scared', 'dona', 'Aggh', 'dragging', 'whispering', 'cough', 'keen', 'blow', 'looks', 'Order', 'burn', 'chickened', 'breath', 'moistened', 'hiyaah', 'supports', 'thud', 'split', 'private', 'heard', 'Spring', ',', 'only', '6', 'gay', 'mile', 'Thy', 'And', 'Ages', 'MONKS', 'Caerbannog', 'pulp', 'training', 'side', 'looked', 'cross', 'Walk', 'duck', 'Table', 'haste', 'words', 'French', 'Far', 'started', 'grips', 'dark', 'Will', 'n', 'witches', 'whop', 'saw', 'an', 'dine', 'vote', 'underwear', 'Tall', 'score', 'SECOND', 'made', 'what', 'Four', 'ours', 'dying', 'throat', 'You', 'lads', 'Erm', 'shivering', 'because', 'wide', 'work', 'Why', 'your', 'Hiyya', 'somebody', '2', 'Cider', 'properly', 'roar', 'Yapping', 'bless', 'second', 'than', 'Himself', 'lad', 'when', 'ni', 'mightiest', 'feast', 'Supreme', 'direction', 'unhealthy', 'nice', 'Remove', 'tail', 'sponge', 'strange', 'setting', 'art', 'keeper', 'miserable', 'wood', 'going', 'Bread', 'general', 'Winston', 'Aaaaaaaah', 'scene', 'even', 'so', 'stupid', 'occasion', 'clang', 'excepting', 'Please', 'ounce', 'does', 'clear', 'power', \"'Erbert\", 'laughing', 'less', 'fly', 'WIFE', 'carved', 'eccentric', 'task', 'yes', 'gallantly', 'built', 'listen', ';', 'knees-bent', 'MIDDLE', 'PATSY', 'Recently', 'magne', 'answers', 'MAN', 'quick', 'gurgle', 'emperor', 'Huyah', 'Anarcho-syndicalism', 'Thank', 'Allo', 'rode', 'curtains', 'far', 'window-dresser', 'nearer', 'clad', 'Would', 'rather', 'quarrel', 'defeat', 'Dragon', 'newt', 'bells', 'HEADS', 'two', 'note', 'horn', 'Picture', 'one', 'stop', 'great', 'bastards', 'feel', 'compared', 'treat', 'W', 'daughter', 'influential', 'sell', 'sometimes', 'pig', 'nobody', 'streak', 'KING', 'held', 'B', 'seems', 'biggest', 'warmer', 'goes', 'able', 'oooh', 'lovely', 'coconut', 'broken', 'More', 'CART-MASTER', 'bang', 'nick', 'differences', 'about', 'y', 'having', 'ai', 'Un', 'land', 'Galahad', 'aside', 'dappy', 'give', 'says', 'Auuuuuuuugh', 'routines', 'be', 'Where', 'Ayy', 'surprise', 'line', 'bathing', 'Brother', 'longer', 'shelter', 'enchanter', 'fifty', \"'T\", 'person', 'Prince', 'gained', 'language', 'conclusions', 'autonomous', 'havin', 'leads', 'PRINCE', 'bladders', 'risk', 'completely', 'actually', 'whoever', 'Steady', 'lying', 'Joseph', 'scott', 'by', 'eight', 'OTHER', 'Victory', 'VILLAGER', 'automatically', 'resting', 'Aaaaugh', 'nine', 'Alice', 'depart', 'CARTOON', 'Thpppppt', 'push', 'model', 'ooh', 'bois', 'fallen', 'MIDGET', 'riding', 'trough', 'angels', 'pen', 'Say', 'Dappy', 'use', 'apart', 'prevent', 'run', 'walking', 'day', 'donaeis', 'fire', 'her', 'seldom', 'woods', 'Ooh', 'distributing', 'jokes', 'uuggggggh', 'not', 'teeth', 'bravely', 'ever', 'things', 'squeak', 'liege', 'Autumn', 'affairs', 'trade', 'Divine', 'k-niggets', 'three', 'woosh', 'basis', 'sweet', 'bottoms', 'sent', 'uh', 'bravest', 'nothing', 'totally', 'long', 'maybe', 'the-not-quite-so-brave-as-Sir-Lancelot', 'Angnor', \"'aaaah\", 'Providence', 'Perhaps', 'weather', 'Eh', 'Roger', 'lapin', 'profane', 'haaa', 'Help', 'Waa', \"'anging\", 'warning', 'knight', 'wipers', \"'Course\", 'ignore', 'Have', 'chastity', 'Hello', 'Pull', 'terrible', 'flesh', 'Amen', 'Lancelot', 'Message', 'Patsy', 'used', 'bird', 'Augh', 'SUN', 'continue', 'creature', '?', 'violence', 'ill.', 'tracts', 'more', '20', 'wonderful', 'tackle', 'wings', 'Ewing', 'k-nnniggets', 'LUCKY', 'Welcome', 'pansy', 'laden', 'hmm', 'Therefore', \"'shrubberies\", 'always', 'As', 'GOD', 'without', 'Yeaaah', 'taking', 'Ulk', 'mangled', '#', 'weapon', 'liver', 'wants', 'assault', 'ye', 'pack', \"'round\", 'Stop', 'draw', 'considerable', 'act', 'Not', 'forced', 'Mercea', 'anything', 'Launcelot', 'i', 'BORS', 'are', 'Great', 'sonny', 'Tell', 'Anthrax', 'mad', 'cruel', 'Ives', 'spank', 'Doctor', 'creeper', 'took', 'foe', 'covered', 'May', 'forward', 'oui', 'stayed', 'Uuh', 'giggle', 'creak', 'knock', 'woman', 'Charge', 'Torment', 'easy', 'let', 'dictating', 'Saint', 'vain', 'Bring', 'chord', 'fold', 'GREEN', 'cereals', 'lord', 'invincible', 'headed', 'speak', 'cart', 'wield', 'dub', 'accent', 'varletesses', 'strongest', 'animator', 'burned', 'own', 'doctors', 'set', 'Neee-wom', 'clunk', 'scots', 'Maynard', 'Aaauugh', 'At', 'Lie', 'together', 'those', 'Bloody', 'crone', 'become', 'exciting', 'town', 'arms', 'glory', 'wan', 'b', 'wedding', \"'Morning\", 'clack', 'Hmm', 'Enchanter', 'servant', 'Armaments', 'strategy', 'thought', 'rrrr', 'cadeau', 'BEDEVERE', 'Aaah', 'indeed', 'Cornwall', 'praised', 'pray', 'the', 'at', \"'s\", 'sister', 'w', 'separate', 'alight', 'Uhh', 'and', 'go', 'tiny', '7', 'on', 'awaits', 'swallows', 'has', 'big', 'cover', 'yel', 'starling', 'need', 'main', 'fortune', 'capital', 'kings', 'thirty-seven', 'vital', 'Gawain', 'sorry', 'wayy', 'necessary', 'tap-dancing', 'imprisoned', 'bad', '9', 'reached', 'persons', 'bridgekeeper', 'Hallo', 'DINGO', 'crying', 'rabbit', 'smelt', 'aquatic', 'lady', 'AMAZING', 'appease', 'None', 'had', 'guest', 'bite', 'Black', 'dangerous', 'awaaay', 'dear', \"'old\", 'certainly', 'proved', 'turns', 'summon', 'snore', 'Bridge', 'snap', 'If', 'types-a', 'Old', 'In', 'Does', 'watery', 'nice-a', 'idiom', 'can', 'gravy', 'CRAPPER', 'aaugh', '22', 'courage', 'father', 'OF', 'warm', 'court', 'bringing', 'that', 'sight', 'south', 'masses', 'union', 'pweeng', 'shalt', \"'\", 'head', 'known', 'every', 'PARTY', 'nor', 'NARRATOR', 'if', 'country', 'along', 'creep', 'guards', 'north', 'What', 'night', 'conclusion', 'ho', 'inferior', 'snows', 'twenty-four', 'Schools', 'ham', 'sniff', '24', 'brush', 'manner', 'right', 'strength', 'scarper', 'shows', 'should', 'dad', 'Umm', 'perpetuates', 'ANIMATOR', 'sigh', 'haw', 'Silence', 'Defeat', 'impeccable', 'another', 'somewhere', '14', \"'Aauuuuugh\", 'Psalms', 'anyway', 'gra', 'bit', 'here', 'pram', 'Or', '13', 'Chapter', 'inherent', 'bridge', 'ladies', 'anyone', 'Hiyah', 'OLD', 'illegitimate-faced', 'commands', 'spanked', 'formidable', 'grovel', 'basic', 'suspenseful', 'meeting', 'little', 'lonely', 'women', 'WITCH', 'keepers', 'Must', 'excuse', 'traveller', 'Hoo', 'Monsieur', 'problem', 'understanding', 'hell', 'carve', 'told', 'Ho', 'VOICE', 'Olfin', 'ponds', 'knocked', 'we', 'cheesy', 'coming', 'least', 'horrendous', 'real', 'forty-three', 'rope', 'laurels', 'Thppt', 'dungeon', 'looking', 'bonk', 'Fine', 'lobbest', 'since', 'near', 'mandate', 'know', 'search', 'named', 'hills', 'bold', 'ethereal', 'convinced', '5', 'stew', 'plan', '--', 'home', 'shall', 'Bad', 'Supposing', 'Oui', 'Cut', 'Anyway', 'mooo', 'Leaving', 'present', '19', 'Death', 'finds', 'heroic', 'allowed', 'bunny', 'Mine', 'straight', 'silly', 'Sir', 'Fiends', 'suffice', 'vests', 'English', 'outwit', 'north-east', 'freedom', 'hee', 'Attila', 'disheartened', 'their', 'Really', 'inside', 'All', 'splash', 'Those', 'legendary', 'PERSON', 'body', 'Even', 'Rather', '15', 'shit', 'witch', 'changed', 'SIR', 'couple', 'Grenade', 'visually', 'un', 'remain', 'swords', 'Until', 'armed', 'path', 'tea', 'plover', 'count', 'aptly', 'air-speed', 'vouchsafed', 'But', 'brunettes', 'approaching', 'Jesus', 'Oooh', 'son', 'argue', 'Excalibur', 'Hurry', \"'Oooooooh\", 'Herbert', 'supreme', 'Very', 'Mind', 'PRINCESS', 'out-clever', 'Heee', 'Hill', 'agree', 'chickening', 'climes', 'towards', 'rest', 'shut', 'reared', 'makes', 'BROTHER', 'Guards', 'Did', 'bowels', 'mean', 'VILLAGERS', 'Holy', 'leaps', 'these', 'like', 'hand', \"'is\", 'sword', 'hospital', 'Brave', 'Bristol', 'raped', 'mystic', 'That', 'bring', 'anarcho-syndicalist', 'wise', 'presence', 'down', 'but', 'Father', 'better', 'last', 'preserving', 'DEAD', 'they', 'crossed', 'point', 'vicious', 'apologise', 'some', 'Ay', 'thou', 'got', 'effect', '[', 'too', 'mac', 'spooky', 'earth', 'Thsss', 'vary', 'auuuuuuuugh', 'Beast', 'j', 'cop', 'between', 'Try', 'required', 'accomplished', 'good', 'purpose', 'needs', 'wounded', 'HISTORIAN', 'economic', 'it', 'science', 'lucky', 'personally', 'Ahh', 'scenes', 'They', 'king-a', 'valiant', 'Over', 'happens', 'whom', 'major', 'medieval', 'reads', 'matter', 'suit', 'off', 'today', 'regulations', 'sense', 'way', 'triumphs', 'sort', 'bi-weekly', 'forest', 'Hah', '...', 'lives', 'ROBIN', 'bosom', 'high', 'Almighty', 'runes', 'Aauuuves', 'gouged', 'um', 'door-opening', 'nose', 'Anybody', 'finest', 'Lucky', 'van', 'holy', 'Hang', 'Oooo', 'Sorry', 'INSPECTOR', 'relics', 'impersonate', 'Whoa', 'Thppppt', 'alive', 'request', 'kick', 'tragic', 'therefore', 'case', 'duty', 'everyone', 'bed-wetting', 'Iiiiives', 'bangin', 'tart', 'floats', 'RIGHT', 'lost', 'Never', 'packing', 'reasonable', 'FRENCH', 'full', 'footwork', 'remembered', 'GUESTS', 'sink', 'LEFT', 'Do', 'people', 'order', 'glass', 'pussy', 'Make', 'Prepare', 'Between', 'sample', 'attend', 'Actually', 'kills', 'refuse', 'come', 'kingdom', 'armor', 'large', 'Ector', 'for', 'Nador', 'pointy', 'any', 'Together', 'smack', 'Quick', 'question', 'African', \"'Ni\", 'quests', 'Ni', 'assist', 'carries', 'lambs', 'eats', 'wedlock', 'Halt', 'temptation', 'mayest', 'repressed', 'bitching', 'crash', 'found', '4', 'ride', 'said', 'jump', 'arrange', 'could', 'this', 'learning', 'blondes', 'Could', 'halves', 'resumes', 'next', 'Shh', 'rejoicing', 'rewr', 'Huh', 'flight', 'strewn', 'brave', 'nearly', 'up', 'On', 'been', 'daring', 'harmless', 'stress', 'answer', 'Castle', 'Aaauggh', 'largest', 'give-away', 'Burn', 'called', 'as', 'nineteen-and-a-half', 'sod', 'thank', 'stay', 'fruit', 'young', 'LAUNCELOT', 'Meanwhile', 'Come', 'adversary', 'guard', 'particular', 'Shrubber', 'lie', 'anywhere', 'strangers', 'averting', 'time', 'By', 'Hiyaah', 'period', 'velocity', 'king', 'Loimbard', 'went', 'sire', 'wherein', 'whinny', 'grin', 'something', 'Nay', 'cope', 'scribble', 'gentle', 'bond', 'With', 'Lady', 'business', 'Forward', 'who', 'bleeder', \"'cause\", 'banana-shaped', \"'it\", 'other', 'became', '8', 'frighten', 'two-thirds', 'MINSTREL', 'Aaagh', 'afraid', 'sharp', \"'re\", 'blessing', 'hopeless', 'wait', 'Iesu', 'kill', 'questions', '17', 'under', 'Britons', 'later', 'small', 'us', 'electric', 'mumble', 'police', 'awhile', 'silence', 'turned', 'For', 'tit', 'mangy', 'hello', 'Peng', 'Off', 'mayhem', 'committed', 'dictatorship', 'fourth', 'Winter', 'charged', 'think', 'European', 'Badon', \"'m\", 'stretched', 'Heh', 'simple', 'etc', 'git', 'Arthur', 'de', '23', 'humble', 'favorite', 'met', 'autocracy', 'marrying', 'radio', 'examine', 'GALAHAD', 'asks', 'false', 'Thpppt', 'signifying', 'hear', 'while', 'knows', 'Keep', 'gone', 'band', 'clllank', 'everything', 'Y', 'officer', '(', 'discovered', 'absolutely', 'beside', 'man', 'first', 'Camelot', 'unsingable', 'feet', 'making', 'sank', 'pissing', 'Alright', 'time-a', 'GUEST', 'tear', 'Most', 'strand', 'empty', 'buy', 'va.', 'grail', 'handle', 'No', 'successful', 'Good', 'thy', 'seek', 'spam', 'depressing', 'BLACK', 'wiper', 'p', 'Twenty-one', 'maintain', 'Grail', 'chest', 'guided', 'a', 'majority', 'Hm', 'death', 'Lake', 'place', 'liar', 'ones', 'Mother', 'scales', 'castanets', 'third', 'types', 'twang', 'change', 'Summer', 'horse', 'men', 'married', 'Hic', 'find', 'valleys', 'late', \"'ll\", 'telling', 'Lord', 'interested', 'understand', 'mine', 'migrate', 'shrubbery', 'himself', 'Running', 'thine', 'ARTHUR', 'Aah', 'fell', 'This', 'dressing', 'four', 'progress', 'Ninepence', 'his', 'thonk', 'behaviour', 'testicles', 'comin', 'ARMY', 'Quiet', 'Mud', '10', 'legally', 'enter', 'beacon', 'mer', 'well', 'breakfast', 'Riiight', \"'aaggggh\", 'looney', 'noise', 'grenade', 'Oh', 'Bors', 'carp', 'Pendragon', 'blanket', 'immediately', 'kneeling', 'chanting', 'daft', 'Yes', 'dress', 'Arimathea', 'Everything', 'soiled', 'move', 'seen', 'throughout', 'particularly', 'wet', 'zone', 'mother', 'Then', 'Packing', 'Bon', 'Shrubberies', 'five', 'Two', 'deeds', 'tie', 'England', 'performance', 'mortally', 'knew', 'help', 'whose', 'twong', 'Hey', 'brain', 'CONCORDE', 'utterly', 'protect', 'minutes', 'imperialist', 'hundred-and-fifty', 'bid', 'commune', 'hast', 'there', 'Bravest', 'fought', 'sacrifice', 'Nu', 'am', 'confuse', 'afoot', 'Knights', 'Thee', 'he', 'talk', 'times', 'chops', 'self-perpetuating', 'higher', 'wo', 'might', 'done', 'Greetings', 'baaaa', 'wind', 'wicked', 'Rheged', 'Here', 'clap', 'two-level', 'door', 'Use', 'The', 'One', 'relax', 'spirit', 'derives', 'worst', 'Hya', 'knights', 'suggesting', 'rocks', 'limbs', 'boys', \"'ni\", 'bleed', 'e', 'Um', 'Since', 'safety', 'Eternal', 'Thou', 'Britain', 'working', 'retreat', 'ruffians', 'Run', 'warned', 'ran', 'special', 'coconuts', 'Forgive', 'away', 'guarded', 'helpful', 'same', 'bint', 'join', 'decided', \"'Ere\", 'chorus', 'again', 'Aramaic', 'Ow', 'sneaking', 'g', 'social', 'Uther', 'which', 'my', 'ENCHANTER', 'See', 'aaaaaah', 'string', 'table', 'attack', 'hat', 'each', 'Hee', '!', 'elderberries', 'tell', 'gave', 'fine', 'closest', 'tale', 'Five', 'idea', 'tops', 'please', 'dramatic', 'Am', 'sun', 'using', 'removed', 'amazes', 'worthy', 'open', 'offensive', 'living', 'When', 'herring', 'bugger-folk', 'send', 'Consult', 'Aaaaaah', 'jam', ')', 'course', 'boom', 'howl', 'ask', 'Like', 'put', 'Aaaugh', 'Battle', 'expensive', \"'Til\", 'fight', 'stab', 'Honestly', 'behind', 'purely', 'much', 'I', 'avenged', 'taunting', 'stand', 'passing', 'WINSTON', 'alarm', 'PIGLET', 'hoo', 'pond', 'merger', 'return', 'BRIDGEKEEPER', 'sworn', 'dead', 'awaaaaay', 'Go', 'Shut', 'whether', 'over', 'forget', 'Hoa', 'test', 'round', 'in', 'intermission', 'although', 'terribly', 'Well', 'follow', 'Eee', 'Pie', 'waste', 'were', 'Crapper', 'dirty', 'suffered', 'danger', 'na', 'fwump', 'voluntarily', 'LOVELY', 'nervous', 'SOLDIER', 'Be', 'Chop', 'friend', 'MAYNARD', 'We', 'hall', 'Right', \"'First\", 'acting', 'fair', 'My', 'CROWD', 'Haw', 'RANDOM', 'handsome', 'CHARACTERS', 'temptress', 'song', 'domine', 'how', 'Nothing', 'auntie', 'evil', 'Aauuugh', 'sequin', 'unarmed', 'rock', 'binding', 'given', 'internal', 'Concorde', 'doors', 'threw', 'must', 'THE', 'seem', 'twenty', 'bum', 'ready', 'joyful', 'get', 'Three', 'Peril', 'Just', 'shrubber', 'u', 'Round', 'DIRECTOR', 'Tower', 'Hooray', 'donkey-bottom', 'Saxons', 'Chicken', 'hidden', 'beautiful', 'system', 'diaphragm', 'swallow', 'them', 'headoff', 'Antioch', 'Shall', 'An', \"e'er\", 'problems', 'clue', 'smashing', 'Iiiives', 'Aaaaaaaaah', 'aunties', 'Churches', 'fatal', 'music', 'gon', 'Build', 'N', 'slash', 'build', 'martin', 'ehh', 'trusty', 'Dis-mount', 'you', 'There', 'unladen', 'room', 'sir', 'peril', 'Stay', \"'To\", 'so-called', 'Camaaaaaargue', 'burst', 'bones', 'CUSTOMER', 'writing', 'swamp', 'kicked', 'Pin', 'Today', 'k-nnnnniggets', \"'Here\", 'all', 'Hold', '11', 'asking', 'Get', 'Princess', 'around', 'opera', 'Are', 'best', 'sheep', 'Wait', 'meant', 'Agh', 'travellers', 'Swamp', 'It', 'Explain', 'ridden', 'spanking', 'dunno', 'worry', 'Yup', 'quiet', 'soft', 'back', 'lose', 'huge', 'smashed', 'birds', 'decision', 'doing', 'defeator', 'GUARDS', 'Ohh', 'SHRUBBER', 'new', 'marry', 'purest', 'grip', 'guests', 'bad-tempered', 'show', 'passed', 'take', 'Clark', 'classes', 'KNIGHT', 'heart', 'seemed', 'will', 'yellow', 'Robin', 'worried', 'cut', 'animal', 'cost', 'just', 'forth', 'sing', 'nasty', 'ju', \"'ve\", 'or', 'fled', 'single-handed', 'bats', 'la', \"'d\", 'buggered', 'Chickennn', 'OFFICER', 'have', 'Silly', 'shrubberies', 'minstrels', 'bet', 'He', 'Hand', 'entering', 'lunged', 'anchovies', 'escape', '1', 'splat', 'our', 'Wood', 'Said', 'names', 'castle', 'weight', 'dogma', 'killer', 'Speak', 'rich', 'Huy', 'Wayy', 'heads', 'bed', 'His', 'society', 'further', 'worse', 'him', 'clank', 'wishes', 'l', 'Apples', 'heh', 'quest', 'ratified', 'trumpets', 'sure', 'Frank', 'throwing', 'Open', 'such', 'heeh', 'non-migratory', 'almost', 'verses', 'already', 'frontal', 'fart', 'cartoon', 'Robinson', '16', 'dynamite', 'old', 'pay', 'expect', 'groveling', 'France', 'recover', 'buggering', 'most', 'would', 'nibble', 'bicker', 'once', 'PRISONER', 'perilous', 'died', 'centuries', 'sovereign', 'Court', 'leg', 'cave', 'c', 'Aauuggghhh', 'quack', 'do', 'doubt', 'Quoi', 'stood', 'kind', 'Skip', 'feint', 'pimples', 'er', 'ugly', 'twin', 'King', 'U', 'Other', 'penalty', 'trouble', 'brought', 'me', 'design', 'thump', ':', 'example', 'was', 'entered', 'Once', 'BRIDE', 'with', 'lies', 'running', 'year', 'uhh', 'busy', 'yelling', 'outdoors', 'punishment', 'Thursday', 'live', 'why', 'elbows', 'sixteen', 'earthquakes', 'length', 'mooooooo', 'uuup', 'discovers', 'Dingo', 'islands', 'Woa', 'lived', 'Ha', 'certain', 'CHARACTER', 'Ah', 'eat', 'cast', 'Gorge', 'call', 'honored', 'kneecaps', 'Throw', 'ordinary', 'SCENE', 'die', 'sad', 'thing', 'Bedevere', 'where', 'bottom', 'Of', 'make', 'mercy', 'number', 'Found', 'legs', 'house', 'Farewell', 'dorsal', 'eisrequiem', 'Looks', 'sloths', 'tiny-brained', 'being', 'O', 'Behold', 'arrows', 'yeah', 'individually', 'winter', 'arm', 'killed', 'repressing', 'singing', 'bastard', 'identical', 'carrying', 'Fetchez', 'beds', '12', 'biscuits', 'cry', 'Now', 'enemies', 'eet', 'deal', 'to', 'Bedwere', 'Man', 'easily', 'hacked', 'wounding', 'GUARD', 'To', 'Christ', 'mud', 'then', \"'sorry\", 'So', 'Is', 'Your', 'shimmering', 'GIRLS', 'unplugged', 'nightfall', 'raised', 'settles', 'saying', 'Who', 'until', 'upon'}\n"
     ]
    }
   ],
   "source": [
    "# Import necessary modules\n",
    "from nltk.tokenize import sent_tokenize\n",
    "from nltk.tokenize import word_tokenize\n",
    "\n",
    "# Split scene_one into sentences: sentences\n",
    "sentences = sent_tokenize(scene_one)\n",
    "\n",
    "# Use word_tokenize to tokenize the fourth sentence: tokenized_sent\n",
    "tokenized_sent = word_tokenize(sentences[3])\n",
    "\n",
    "# Make a set of unique tokens in the entire scene: unique_tokens\n",
    "unique_tokens = set(word_tokenize(scene_one))\n",
    "\n",
    "# Print the unique tokens result\n",
    "print(unique_tokens)"
   ]
  },
  {
   "cell_type": "markdown",
   "metadata": {},
   "source": [
    "$\\blacktriangleright$ **Package pre-loading:**"
   ]
  },
  {
   "cell_type": "code",
   "execution_count": 8,
   "metadata": {
    "ExecuteTime": {
     "end_time": "2020-12-28T02:24:01.326954Z",
     "start_time": "2020-12-28T02:24:01.323516Z"
    }
   },
   "outputs": [],
   "source": [
    "import re"
   ]
  },
  {
   "cell_type": "markdown",
   "metadata": {},
   "source": [
    "$\\blacktriangleright$ **Regex (`re.search()`) practice:**"
   ]
  },
  {
   "cell_type": "code",
   "execution_count": 9,
   "metadata": {
    "ExecuteTime": {
     "end_time": "2020-12-28T02:24:01.334893Z",
     "start_time": "2020-12-28T02:24:01.331095Z"
    }
   },
   "outputs": [
    {
     "name": "stdout",
     "output_type": "stream",
     "text": [
      "580 588\n"
     ]
    }
   ],
   "source": [
    "# Search for the first occurrence of \"coconuts\" in scene_one: match\n",
    "match = re.search(\"coconuts\", scene_one)\n",
    "\n",
    "# Print the start and end indexes of match\n",
    "print(match.start(), match.end())"
   ]
  },
  {
   "cell_type": "code",
   "execution_count": 10,
   "metadata": {
    "ExecuteTime": {
     "end_time": "2020-12-28T02:24:01.342394Z",
     "start_time": "2020-12-28T02:24:01.337768Z"
    }
   },
   "outputs": [
    {
     "name": "stdout",
     "output_type": "stream",
     "text": [
      "<re.Match object; span=(9, 32), match='[wind] [clop clop clop]'>\n"
     ]
    }
   ],
   "source": [
    "# Write a regular expression to search for anything in square brackets: pattern1\n",
    "pattern1 = r\"\\[.*\\]\"\n",
    "\n",
    "# Use re.search to find the first text in square brackets\n",
    "print(re.search(pattern1, scene_one))"
   ]
  },
  {
   "cell_type": "code",
   "execution_count": 11,
   "metadata": {
    "ExecuteTime": {
     "end_time": "2020-12-28T02:24:01.349477Z",
     "start_time": "2020-12-28T02:24:01.344798Z"
    }
   },
   "outputs": [
    {
     "name": "stdout",
     "output_type": "stream",
     "text": [
      "<re.Match object; span=(0, 7), match='ARTHUR:'>\n"
     ]
    }
   ],
   "source": [
    "# Find the script notation at the beginning of the fourth sentence and print it\n",
    "pattern2 = r\"[\\w\\s#]+:\"\n",
    "print(re.match(pattern2, sentences[3]))"
   ]
  }
 ],
 "metadata": {
  "kernelspec": {
   "display_name": "Python 3",
   "language": "python",
   "name": "python3"
  },
  "language_info": {
   "codemirror_mode": {
    "name": "ipython",
    "version": 3
   },
   "file_extension": ".py",
   "mimetype": "text/x-python",
   "name": "python",
   "nbconvert_exporter": "python",
   "pygments_lexer": "ipython3",
   "version": "3.7.6"
  },
  "latex_envs": {
   "LaTeX_envs_menu_present": true,
   "autoclose": true,
   "autocomplete": true,
   "bibliofile": "biblio.bib",
   "cite_by": "apalike",
   "current_citInitial": 1,
   "eqLabelWithNumbers": true,
   "eqNumInitial": 1,
   "hotkeys": {
    "equation": "Ctrl-E",
    "itemize": "Ctrl-I"
   },
   "labels_anchors": false,
   "latex_user_defs": false,
   "report_style_numbering": true,
   "user_envs_cfg": true
  },
  "nbTranslate": {
   "displayLangs": [
    "*"
   ],
   "hotkey": "alt-t",
   "langInMainMenu": true,
   "sourceLang": "en",
   "targetLang": "fr",
   "useGoogleTranslate": true
  },
  "toc": {
   "base_numbering": 1,
   "nav_menu": {},
   "number_sections": true,
   "sideBar": true,
   "skip_h1_title": false,
   "title_cell": "Table of Contents",
   "title_sidebar": "Contents",
   "toc_cell": false,
   "toc_position": {
    "height": "calc(100% - 180px)",
    "left": "10px",
    "top": "150px",
    "width": "288px"
   },
   "toc_section_display": true,
   "toc_window_display": true
  },
  "varInspector": {
   "cols": {
    "lenName": 16,
    "lenType": 16,
    "lenVar": 40
   },
   "kernels_config": {
    "python": {
     "delete_cmd_postfix": "",
     "delete_cmd_prefix": "del ",
     "library": "var_list.py",
     "varRefreshCmd": "print(var_dic_list())"
    },
    "r": {
     "delete_cmd_postfix": ") ",
     "delete_cmd_prefix": "rm(",
     "library": "var_list.r",
     "varRefreshCmd": "cat(var_dic_list()) "
    }
   },
   "types_to_exclude": [
    "module",
    "function",
    "builtin_function_or_method",
    "instance",
    "_Feature"
   ],
   "window_display": true
  }
 },
 "nbformat": 4,
 "nbformat_minor": 4
}
