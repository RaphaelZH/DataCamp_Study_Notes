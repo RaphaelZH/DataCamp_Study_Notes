{
 "cells": [
  {
   "cell_type": "markdown",
   "metadata": {
    "ExecuteTime": {
     "end_time": "2020-07-24T11:20:21.989524Z",
     "start_time": "2020-07-24T11:20:12.960881Z"
    }
   },
   "source": [
    "```\n",
    "#############################################\n",
    "##                                         ##\n",
    "##  Natural Language Processing in Python  ##\n",
    "##                                         ##\n",
    "#############################################\n",
    "\n",
    "§1 Introduction to Natural Language Processing in Python\n",
    "\n",
    "§1.1 Regular expressions & word tokenization\n",
    "```"
   ]
  },
  {
   "cell_type": "markdown",
   "metadata": {},
   "source": [
    "# Introduction to tokenization"
   ]
  },
  {
   "cell_type": "markdown",
   "metadata": {},
   "source": [
    "## What is tokenization?\n",
    "\n",
    "* It turns a string or document into tokens (smaller chunks).\n",
    "\n",
    "* It's one step in preparing a text for NLP.\n",
    "\n",
    "* It has many different theories and rules.\n",
    "\n",
    "* Users can create their own rules using regular expressions.\n",
    "\n",
    "* There are some examples:\n",
    "\n",
    "\t* *breaking out words or sentences*\n",
    "    \n",
    "\t* *separating punctuation*\n",
    "    \n",
    "\t* *separating all hashtags in a tweet*"
   ]
  },
  {
   "cell_type": "markdown",
   "metadata": {},
   "source": [
    "## What is the `NLTK` library?\n",
    "\n",
    "* `NLTK`: Natural Language Toolkit"
   ]
  },
  {
   "cell_type": "markdown",
   "metadata": {},
   "source": [
    "## Code of the `NLTK` library:"
   ]
  },
  {
   "cell_type": "code",
   "execution_count": 1,
   "metadata": {
    "ExecuteTime": {
     "end_time": "2020-12-21T23:34:29.767941Z",
     "start_time": "2020-12-21T23:34:25.936780Z"
    }
   },
   "outputs": [
    {
     "data": {
      "text/plain": [
       "['Hi', 'there', '!']"
      ]
     },
     "execution_count": 1,
     "metadata": {},
     "output_type": "execute_result"
    }
   ],
   "source": [
    "from nltk.tokenize import word_tokenize\n",
    "\n",
    "word_tokenize(\"Hi there!\")"
   ]
  },
  {
   "cell_type": "markdown",
   "metadata": {
    "ExecuteTime": {
     "end_time": "2020-12-20T20:08:55.570909Z",
     "start_time": "2020-12-20T20:08:55.565185Z"
    }
   },
   "source": [
    "## Why tokenize?\n",
    "\n",
    "* Easier to map part of speech.\n",
    "\n",
    "* To match common words.\n",
    "\n",
    "* To remove unwanted tokens.\n",
    "\n",
    "* E.g., \n",
    "\n",
    "    ```\n",
    "    >>> word_tokenize(\"I don't like Sam's shoes.\")\n",
    "    ['I', 'do', \"n't\", 'like', 'Sam', \"'s\", 'shoes', '.']\n",
    "    ```"
   ]
  },
  {
   "cell_type": "markdown",
   "metadata": {},
   "source": [
    "## What are the other `NLTK` tokenizers?\n",
    "\n",
    "* `sent_tokenize`: tokenize a document into sentences.\n",
    "\n",
    "* `regexp_tokenize`: tokenize a string or document based on a regular expression pattern.\n",
    "\n",
    "* `TweetTokenizer`: special class just for tweet tokenization, allowing separate hashtags, mentions, and lots of exclamation points, such as '!!!'."
   ]
  },
  {
   "cell_type": "markdown",
   "metadata": {},
   "source": [
    "## Code of regex practice (the difference between `re.search()` and `re.match()`):"
   ]
  },
  {
   "cell_type": "code",
   "execution_count": 2,
   "metadata": {
    "ExecuteTime": {
     "end_time": "2020-12-21T23:34:29.779941Z",
     "start_time": "2020-12-21T23:34:29.770482Z"
    }
   },
   "outputs": [
    {
     "data": {
      "text/plain": [
       "<re.Match object; span=(0, 3), match='abc'>"
      ]
     },
     "execution_count": 2,
     "metadata": {},
     "output_type": "execute_result"
    }
   ],
   "source": [
    "import re\n",
    "\n",
    "re.match('abc', 'abcde')"
   ]
  },
  {
   "cell_type": "code",
   "execution_count": 3,
   "metadata": {
    "ExecuteTime": {
     "end_time": "2020-12-21T23:34:29.794533Z",
     "start_time": "2020-12-21T23:34:29.785077Z"
    }
   },
   "outputs": [
    {
     "data": {
      "text/plain": [
       "<re.Match object; span=(0, 3), match='abc'>"
      ]
     },
     "execution_count": 3,
     "metadata": {},
     "output_type": "execute_result"
    }
   ],
   "source": [
    "re.search('abc', 'abcde')"
   ]
  },
  {
   "cell_type": "code",
   "execution_count": 4,
   "metadata": {
    "ExecuteTime": {
     "end_time": "2020-12-21T23:34:29.804652Z",
     "start_time": "2020-12-21T23:34:29.800619Z"
    }
   },
   "outputs": [],
   "source": [
    "re.match('cd', 'abcde')"
   ]
  },
  {
   "cell_type": "code",
   "execution_count": 5,
   "metadata": {
    "ExecuteTime": {
     "end_time": "2020-12-21T23:34:29.812148Z",
     "start_time": "2020-12-21T23:34:29.806946Z"
    }
   },
   "outputs": [
    {
     "data": {
      "text/plain": [
       "<re.Match object; span=(2, 4), match='cd'>"
      ]
     },
     "execution_count": 5,
     "metadata": {},
     "output_type": "execute_result"
    }
   ],
   "source": [
    "re.search('cd', 'abcde')"
   ]
  },
  {
   "cell_type": "markdown",
   "metadata": {},
   "source": [
    "## Practice exercises for introduction to tokenization:\n",
    "\n",
    "$\\blacktriangleright$ **Data pre-loading:**"
   ]
  },
  {
   "cell_type": "code",
   "execution_count": 6,
   "metadata": {
    "ExecuteTime": {
     "end_time": "2020-12-21T23:34:29.826740Z",
     "start_time": "2020-12-21T23:34:29.814370Z"
    }
   },
   "outputs": [],
   "source": [
    "scene_one = open(\"ref2. Monty Python and the Holy Grail.txt\").read()"
   ]
  },
  {
   "cell_type": "markdown",
   "metadata": {
    "ExecuteTime": {
     "end_time": "2020-12-19T22:02:33.692343Z",
     "start_time": "2020-12-19T22:02:33.687220Z"
    }
   },
   "source": [
    "$\\blacktriangleright$ **`NLTK` word tokenization with practice:**"
   ]
  },
  {
   "cell_type": "code",
   "execution_count": 7,
   "metadata": {
    "ExecuteTime": {
     "end_time": "2020-12-21T23:34:30.037956Z",
     "start_time": "2020-12-21T23:34:29.829877Z"
    }
   },
   "outputs": [
    {
     "name": "stdout",
     "output_type": "stream",
     "text": [
      "{'cross', '19', 'Erm', 'What', 'tie', 'WITCH', 'lambs', 'Iiiives', 'union', 'mac', 'Arthur', 'snows', 'rocks', 'Put', 'vache', 'footwork', 'the-not-quite-so-brave-as-Sir-Lancelot', 'lunged', 'Keep', 'Haw', 'Aaah', 'holy', 'slash', '9', 'uuup', 'TIM', 'CROWD', 'Must', 'singing', 'Chickennn', 'did', 'dorsal', 'All', 'Anarcho-syndicalism', 'night', 'burst', 'setting', 'died', 'dull', 'daring', 'intermission', 'said', 'Not-appearing-in-this-film', 'glory', 'cost', 'questions', 'humble', 'excepting', 'whom', 'Bedevere', 'whop', 'ARMY', 'Heee', 'effect', 'GALAHAD', 'Launcelot', 'migrate', 'But', 'shit', 'bosom', 'pussy', 'k-niggets', 'thought', 'certain', 'die', 'south', 'room', 'basis', 'Listen', 'being', 'ere', 'crying', 'seems', 'around', 'BEDEVERE', 'Umhm', 'mer', 'stayed', 'back', 'sword', 'tropical', 'kneeling', 'favorite', 'Hm', 'lovely', 'very', 'chosen', 'nothing', 'real', \"'m\", 'Cider', 'mandate', 'triumphs', 'quack', 'LAUNCELOT', 'count', 'illegitimate-faced', ')', 'new', 'banana-shaped', 'Looks', 'question', 'Go', 'couple', 'enemies', 'Burn', 'it', 'Thy', 'Action', 'Prepare', 'blessing', 'side', 'Hooray', 'lose', 'blanket', 'this', 'supreme', 'was', 'This', 'Uhh', 'quiet', 'Everything', 'coconut', 'herring', 'woods', 'Have', \"'S\", 'shelter', 'MINSTREL', 'auuuuuuuugh', 'An', 'at', 'door-opening', 'until', 'Do', 'inside', 'easy', \"'T\", 'example', 'Ewing', 'used', 'dynamite', 'try', 'bats', 'c', 'scott', '24', 'persons', 'which', \"'Morning\", 'fallen', 'shut', 'burn', 'BRIDGEKEEPER', 'elderberries', 'rewr', 'Pull', 'two-thirds', 'drink', 'Gable', 'making', 'lived', 'I', 'B', 'rest', 'nine', 'filth', 'Come', 'fled', 'quite', 'ninepence', 'eyes', 'moment', \"'d\", 'power', 'tonight', 'bladders', 'beside', 'mistake', 'yes', 'Psalms', 'sire', 'pounds', 'earth', 'Since', 'minutes', 'horse', 'zone', 'aptly', 'Your', 'scots', 'Now', 'Caerbannog', 'ho', 'mortally', 'further', 'flesh', 'comin', 'went', 'worst', 'dancing', 'foul', 'glad', 'duty', 'handsome', ';', \"C'est\", 'long', 'times', 'Doctor', 'chastity', 'keeper', 'names', 'there', 'kneecaps', 'PRINCESS', 'Excalibur', 'leads', 'gurgle', 'Monsieur', 'FATHER', 'wings', 'Arimathea', 'fly', 'woosh', 'nibble', 'blood', 'shows', 'worthy', 'wave', 'looking', 'home', 'later', 'mayest', 'chickening', 'underwear', 'sawwwww', 'ungallant', 'VOICE', 'Mmm', 'Aaaaaaaah', 'ran', 'SHRUBBER', 'Three', 'saw', 'lost', 'watery', 'lucky', 'arrange', 'Neee-wom', 'Pure', 'ugly', 'cadeau', 'clank', 'Good', 'tree', 'stone', 'Away', 'favor', 'Splendid', 'mud', 'learning', 'problem', 'ratified', 'Brother', 'got', 'court', 'burned', 'worried', 'PERSON', 'dare', 'plover', 'Pie', 'man', 'Ahh', 'Make', 'Angnor', 'beautiful', 'Cornwall', 'think', 'smack', 'number', 'worked', 'warned', 'pass', 'autocracy', 'Knight', 'asking', 'behaviour', 'Charge', 'Twenty-one', 'wrong', 'GUARD', 'impeccable', 'outside', 'Alright', 'bad-tempered', 'straight', 'miss', 'Dingo', 'move', 'Exactly', 'successful', 'floats', 'collective', 'breadth', 'yourself', 'marry', 'Umm', 'Ulk', 'discovered', 'dad', 'samite', 'town', 'Other', \"'cause\", 'bones', 'pray', 'sell', 'warning', 'regulations', 'Hmm', 'somewhere', 'magne', 'grovel', 'Right', 'purest', 'bang', 'convinced', 'each', 'once', 'these', 'autonomous', 'Iesu', 'carved', 'name', 'Fetchez', 'raped', 'girl', 'join', 'excuse', 'French', 'Said', 'own', 'temptress', 'Fine', 'answers', 'be', 'consulted', 'Aauuggghhh', 'stand', 'Chop', 'kicked', 'MAN', 'but', 'bastard', 'shivering', 'affairs', 'danger', 'And', 'Recently', 'aloft', 'Look', 'forest', 'her', 'tough', 'CHARACTER', 'Shrubberies', 'carried', 'Those', 'Sorry', 'parts', 'Hang', 'France', 'general', 'Tim', 'We', 'using', 'Allo', 'anywhere', 'silly', 'For', 'A', 'Castle', 'maintain', 'BROTHER', 'finds', 'Oooh', 'weather', 'Is', 'changed', 'PIGLET', 'separate', 'African', 'Too', 'snuff', 'eat', 'Did', 'talk', 'high-pitched', 'bridgekeeper', 'first', 'kingdom', 'place', \"'aaggggh\", 'bows', 'hiyaah', 'Honestly', 'am', 'LUCKY', 'clang', 'held', '10', 'Four', 'those', 'undressing', 'wherein', 'entered', 'Message', 'another', 'impersonate', 'lad', 'Hah', 'between', 'So', 'oral', 'GREEN', 'Bones', 'Hello', 'with', 'eis', 'is', 'soon', 'centuries', 'Ives', 'To', 'Like', 'boys', 'laughing', 'quick', 'aunties', 'keen', 'electric', \"'it\", \"'Ere\", 'praised', 'tea', 'Aaagh', 'temptation', 'lonely', 'Huh', 'Winter', 'wield', 'shrubbery', 'twenty-four', 'year', 'forty-three', \"'til\", 'continue', 'dear', 'squeak', 'ARTHUR', 'uhh', 'anything', 'outdated', 'scene', 'to', 'soiled', 'where', 'headoff', 'flint', 'Guy', 'suffered', 'curtains', 'cheesy', 'imperialist', 'spanked', 'knock', 'Well', 'purely', 'stupid', 'terribly', \"e'er\", 'sign', 'That', 'look', 'suit', 'Uther', 'Mind', 'carrying', 'does', 'legally', 'anyone', 'tackle', 'dungeon', 'CAMERAMAN', 'bangin', 'bleed', '22', 'Let', 'chanting', 'Be', 'dangerous', 'have', 'er', 'now', 'as', 'me', 'master', 'European', 'bit', 'mayhem', 'help', 'see', 'do', 'make', 'may', 'warmer', 'foot', 'Aauuuves', 'accomplished', 'Aah', 'men', 'lord', 'passing', 'Hiyaah', 'removed', 'wedding', 'BORS', 'stab', 'escape', 'down', 'crossed', 'off', 'get', 'Olfin', 'done', 'interested', 'Wayy', 'sun', 'invincible', 'Aagh', 'seek', 'present', 'moistened', 'Run', 'KNIGHTS', 'outwit', 'creature', 'force', 'Nay', 'away', 'joyful', 'OLD', 'answer', 'Am', 'vain', 'sworn', 'too', 'By', 'telling', 'particularly', 'suddenly', 'English', 'strength', 'thine', 'Defeat', 'language', 'please', 'resumes', 'life', 'formed', 'WOMAN', 'ju', 'utterly', 'Concorde', 'Who', 'totally', 'suppose', 'hamster', 'alight', 'Will', 'Hill', 'OFFICER', 'Build', 'forget', 'Order', 'temperate', 'sample', 'third', 'castanets', 'uh', 'Spring', 'into', 'settles', 'its', 'either', 'bed-wetting', 'pound', 'carry', 'made', 'van', 'His', 'about', 'On', 'newt', 'wart', 'Ni', 'KING', 'Clear', 'time-a', 'refuse', 'Schools', 'Camaaaaaargue', 'says', 'words', 'giggle', 'bridge', 'hall', 'needs', 'Running', 'earthquakes', 'cover', 'RIGHT', 'already', 'breakfast', 'dead', \"'sorry\", 'she', 'lads', 'order', 'dressed', \"'Til\", \"'Ni\", 'profane', 'climes', 'hang', 'bravely', 'pen', 'ruffians', 'orangutans', 'kings', 'aside', 'because', 'NARRATOR', 'wet', 'proceed', 'private', 'simple', 'PRINCE', 'domine', 'Quoi', 'bet', 'advancing', 'Supreme', 'Gallahad', 'Yeaah', 'repressing', 'spam', 'folk', 'pimples', 'CUSTOMER', 'unplugged', 'everyone', 'single-handed', '13', 'spake', 'their', 'rrrr', 'Aaaaaaaaah', 'only', 'dark', 'beyond', 'legs', \"'Ecky-ecky-ecky-ecky-pikang-zoop-boing-goodem-zoo-owli-zhiv\", 'along', 'Aramaic', 'largest', 'gra', 'Bad', 'beat', 'closest', 'Use', 'farcical', 'Ridden', 'Thee', 'happy', 'meant', 'trusty', 'test', 'suggesting', 'wan', 'rescue', 'beds', 'eisrequiem', 'Eternal', 'fair', 'Armaments', '..', 'thanks', 'brain', 'SOLDIER', 'cop', 'friend', 'There', 'rich', 'tell', 'taunting', '4', 'MONKS', 'bring', 'previous', 'Round', 'In', 'SUN', 'bond', 'fifty', 'while', 'Gawain', 'since', 'find', 'Aaaugh', 'full', 'tit', 'knew', 'presence', 'enchanter', 'even', 'cart', 'sharp', 'actually', 'Hiyya', 'Beyond', 'Then', 'warm', 'point', 'haw', 'matter', 'Mother', 'pig', \"'ll\", 'again', \"'em\", 'resting', 'avenged', 'GIRLS', 'could', 'dappy', 'performance', 'Eh', 'drilllll', 'north-east', 'Open', 'Ha', 'etc', 'Walk', 'inferior', 'Aauuugh', 'heh', 'hast', 'eats', 'PRISONER', 'near', 'today', 'Eee', 'split', 'death', 'easily', 'boom', 'VILLAGERS', 'far', 'all', 'Aggh', 'Attila', 'knows', \"d'you\", 'knees-bent', 'pig-dogs', 'gravy', 'Auuuuuuuugh', 'CRASH', 'house', 'arrows', 'witch', 'sight', 'thou', 'fatal', 'Thpppppt', 'vouchsafed', 'brunettes', 'guest', 'My', 'distributing', 'weapon', 'bravest', 'late', 'dress', 'committed', 'fell', 'naughty', 'married', 'howl', 'breath', 'strange', 'limbs', 'ours', 'sense', 'commune', 'sequin', 'Lead', 'frighten', 'Yapping', '16', 'spoken', 'guarded', 'n', 'anarcho-syndicalist', 'finest', 'ni', 'Remove', 'took', 'Picture', 'sorry', 'turns', 'sort', 'God', 'Practice', 'helpful', 'Shall', 'here', 'such', 'terrible', 'safety', 'threw', 'Pendragon', \"'forgive\", 'Bors', 'told', 'Britons', 'sonny', 'come', \"'old\", 'bid', 'badger', 'sure', 'Yay', 'exciting', 'mumble', 'BRIDE', 'awaits', 'charged', 'biters', 'amazes', 'LEFT', 'Get', 'course', 'STUNNER', 'valleys', 'beacon', 'Please', 'really', 'apart', 'Ay', 'chance', 'traveller', 'how', 'Court', 'minute', 'brought', 'individually', 'bitching', 'rock', 'properly', 'Which', 'kick', 'ham', 'horrendous', 'Almighty', 'art', 'When', 'velocity', 'my', 'stress', 'object', 'crone', 'argue', 'haste', 'Roger', 'They', 'hospital', 'left', 'throat', 'averting', 'GOD', 'cut', 'la', '6', 'buy', 'fooling', 'Uh', 'HERBERT', 'Hya', 'two', 'miserable', 'leave', 'accompanied', 'found', 'Thank', '14', 'plain', 'open', 'flights', 'line', 'Bravest', 'thank', 'thy', 'sank', 'Old', 'are', 'Wait', 'business', 'Cut', 'grin', 'sacred', 'proved', 'dramatic', 'awfully', 'of', 'Rather', 'remember', 'b', 'cope', 'recover', 'Thppppt', 'Ah', 'Robin', '#', 'history', 'last', 'himself', 'trouble', 'end', 'forward', 'clad', 'scrape', 'living', 'least', 'Say', 'working', 'smashed', 'Heh', 'returns', 'call', 'fart', 'derives', 'use', '17', 'Actually', 'chu', 'signifying', 'evil', 'pweeng', 'Welcome', 'tops', 'saved', 'Lucky', 'confuse', 'Just', 'ridden', 'air-speed', \"'round\", 'door', 'soft', 'scimitar', 'understand', 'forced', 'agree', 'identical', 'hoo', 'go', 'ones', 'counting', 'bleeder', 'Until', 'MAYNARD', 'snap', 'getting', 'Shh', \"'anging\", '21', \"'aaaah\", 'witness', 'dance', 'remain', 'major', 'mate', 'majority', 'strongest', 'throughout', 'Oui', 'from', 'Bedwere', 'Consult', 'pull', 'Follow', 'twenty', 'ratios', 'Autumn', 'design', 'upon', 'OF', 'grenade', 'ZOOT', 'Once', 'swords', 'heroic', '11', 'Bread', 'creep', 'face', 'sacrifice', 'bite', 'baaaa', 'round', 'peril', 'hello', 'problems', 'scared', 'anchovies', 'must', 'e', 'occasion', 'lies', 'ptoo', 'raised', 'his', 'bits', 'donkey-bottom', 'Robinson', 'nice-a', 'spanking', 'None', 'looked', 'put', 'second', 'Back', 'guards', '12', 'lobbest', 'water', '3', 'sons', 'rode', 'stay', 'wise', 'hopeless', 'sing', 'ANIMATOR', 'creak', 'unclog', 'Amen', 'attend', 'taken', 'vital', 'Shrubber', 'return', 'leaps', 'You', 'ever', 'Lord', 'Hallo', 'Peril', 'snore', 'remembered', 'um', 'someone', 'How', 'what', 'started', 'Anthrax', 'spank', 'sniff', 'less', 'then', 'daft', 'land', 'bed', 'Off', 'immediately', 'eight', 'reasonable', 'four', 'islands', 'legendary', 'tale', 'an', 'Two', 'Thpppt', 'decided', 'foe', 'Galahad', 'table', 'discovers', 'ounce', 'Even', 'tinder', 'relics', 'winter', 'handle', 'middle', 'Grail', 'chops', 'Cherries', 'Bon', 'inherent', 'Sir', 'necessary', 'bottom', 'zoosh', 'fine', 'some', 'empty', 'Woa', 'pissing', 'thud', 'bringing', 'sigh', 'task', 'scholar', 'act', '8', 'enter', 'conclusion', 'behold', 'Hoo', 'opera', ']', \"'Here\", 'not', 'testicles', 'voluntarily', 'delirious', 'built', 'just', 'head', 'certainly', 'looney', 'FRENCH', 'special', 'Or', 'aquatic', 'were', 'Ohh', 'five', 'women', 'high', 'rejoicing', 'heeh', 'gallantly', 'fwump', 'Hold', 'duck', 'Winston', 'Zoot', 'packing', 'Seek', 'Riiight', 'Saint', 'biscuits', 'valiant', 'together', 'although', 'nasty', 'oooh', 'hills', 'CONCORDE', 'work', 'time', 'shrubberies', 'splat', 'p', 'hmm', 'coconuts', 'Britain', 'heads', 'Lake', 'met', 'demand', 'Death', 'i', 'Would', 'bathing', 'aaaaaah', 'W', 'thump', 'mercy', 'seldom', '?', 'Help', 'next', 'Ayy', 'they', 'Idiom', 'Silly', \"'Erbert\", 'nose', 'way', 'two-level', 'Most', 'sixteen', 'doctors', 'social', '5', 'Packing', 'differences', \"n't\", 'after', 'better', 'ceremony', 'heart', 'Forgive', 'CRONE', 'fourth', 'push', 'day', 'CHARACTERS', 'luck', 'penalty', 'HEAD', 'courage', 'No', 'mangy', 'know', 'wood', 'model', 'With', 'Bravely', 'Speak', 'gay', 'big', 'Are', 'people', 'grip', 'Why', 'behind', 'going', 'jump', 'merger', 'search', 'Shut', 'repressed', 'one', 'sneaking', 'feel', 'carries', 'approacheth', 'elbows', 'wants', 'streak', 'outrageous', 'Hoa', 'Stay', 'coming', 'PATSY', 'laurels', 'Antioch', 'medical', 'wounded', 'swamp', 'scales', 'unladen', 'hand', 'higher', 'fellows', 'Aaaaaah', 'hear', 'chorus', 'particular', 'vicious', 'Waa', 'pram', 'waste', 'plan', 'Swamp', '23', 'rather', 'Tall', 'them', 'send', 'sheep', 'non-migratory', 'arms', 'glass', 'trumpets', '!', 'hacked', 'ill.', 'Alice', 'Prince', 'distress', 'Crapper', 'bother', 'If', 'clllank', 'Lancelot', 'Lady', 'eet', 'Hey', 'ooh', 'varletesses', 'doing', 'Churches', 'medieval', 'Saxons', 'Whoa', 'blow', 'mightiest', 'Tale', 'trough', 'scratch', 'dine', 'armor', 'Brave', 'capital', 'Dis-mount', 'will', 'draw', 'employed', 'hell', \"'Aauuuuugh\", 'True', 'whether', 'WIFE', 'towards', 'many', 'g', 'liar', 'dub', 'knocked', 'sweet', 'visually', 'known', 'Quick', 'daughter', 'Clark', 'radio', 'requiem', 'he', 'lie', \"'ve\", 'bridges', 'keepers', 'marrying', 'Uugh', 'enough', 'length', 'routines', 'clop', 'case', 'Wood', 'MIDGET', 'dragging', 'bad', 'period', 'shall', 'anyway', 'gentle', 'git', 'food', 'Ages', 'Ow', 'smelt', 'kills', 'creeper', 'rabbit', 'depressing', 'much', 'Summer', 'Hand', 'reared', 'lot', 'Great', 'direction', 'y', 'should', 'VILLAGER', 'SCENE', 'young', 'liver', 'Chapter', 'asks', 'gained', 'self-perpetuating', 'mangled', 'Stand', 'request', 'personally', 'Never', 'adversary', 'disheartened', 'clear', 'rope', 'Christ', 'tired', 'rodent', 'Found', 'frozen', 'manner', 'j', 'unhealthy', 'u', 'always', 'knights', 'gon', 'mashed', '[', 'almost', 'birds', 'Hyy', 'large', 'It', 'dunno', \"'is\", 'week', 'Could', 'eccentric', 'Oh', 'executive', 'lobbed', 'mooooooo', 'runes', 'afraid', 'sovereign', 'boil', 'SIR', 'Ask', 'Herbert', 'cast', 'speak', 'buggered', 'watch', 'na', 'fire', 'tart', 'nightfall', 'Tower', 'Um', 'lapin', 'Hurry', 'spooky', 'depart', 'wind', 'Thursday', 'song', 'deal', 'up', 'we', 'NI', 'Mud', 'Supposing', 'Quickly', 'indefatigable', 'Dennis', 'fruit', 'bonk', 'sent', 'running', 'body', 'jam', \"'\", 'tail', 'diaphragm', 'absolutely', 'Apples', 'strangers', 'Bridge', 'bugger-folk', 'automatically', 'sister', 'sink', 'mine', 'fought', 'ha', 'Bloody', 'LOVELY', 'lair', 'N', 'ladies', 'well', 'Uuh', 'thwonk', '(', 'pause', 'o', 'wait', 'whispering', 'He', 'heard', 'stew', 'valor', 'idea', 'internal', 'eh', 'chord', ':', 'and', 'bells', 'lying', 'Where', 'seemed', 'sir', 'mooo', 'WINSTON', 'CARTOON', 'CRAPPER', 'Victory', 'types', 'Himself', 'pansy', 'hundred-and-fifty', 'vests', 'auntie', 'starling', 'path', 'somebody', 'Oooo', 'splash', 'Table', 'king', 'laden', 'horn', 'gone', 'animal', 'never', 'explain', 'sloths', 'Camelot', 'INSPECTOR', 'understanding', 'pestilence', 'walking', 'strewn', 'cruel', \"'s\", 'country', 'say', 'alarm', 'Thou', 'Huyah', 'taking', 'Torment', 'KNIGHT', 'wooden', 'Iiiiives', 'out-clever', 'us', 'against', 'fight', 'Dragon', 'Midget', 'basic', 'progress', 'seem', 'armed', 'DENNIS', 'unarmed', 'in', 'wo', 'saying', 'expensive', 'tiny', 'assault', 'halves', 'whose', 'scenes', 'freedom', \"'Man\", 'pointy', 'cave', 'ways', 'King', 'welcome', 'Ooh', 'Maynard', 'let', 'twang', 'Frank', 'grail', 'MIDDLE', 'k-nnnnniggets', 'under', 'wicked', 'oo', 'wipers', 'risk', 'frontal', \"'To\", 'de', 'aaugh', 'compared', 'nearly', 'Peng', 'Halt', 'grips', 'GUESTS', 'bless', \"'First\", 'feast', 'exploiting', 'Hee', 'Battle', 'reached', 'feint', 'when', 'RANDOM', 'feet', '18', 'awhile', 'thing', 'logically', 'Over', 'person', 'string', 'yet', 'named', 'ask', 'buggering', 'keep', 'arm', 'wedlock', 'illustrious', 'passed', 'CART-MASTER', 'give', 'Enchanter', 'noise', 'nick', 'brave', 'given', 'dictatorship', 'bloody', 'Providence', 'perpetuates', 'accent', 'everything', 'science', 'color', 'At', 'police', 'throwing', 'tragic', 'donaeis', 'three', 'through', 'Ho', 'nostrils', 'ignore', 'happens', 'guests', \"'shrubberies\", 'apologise', 'able', 'prevent', 'Very', 'false', 'ordinary', 'hat', 'writing', 'set', 'retold', 'treat', 'relax', 'Throw', 'Try', 'nineteen-and-a-half', 'become', 'Anyway', '--', 'makes', 'icy', 'Assyria', 'like', 'broken', 'Anybody', 'stuffed', 'stop', 'stretched', 'bi-weekly', 'yellow', 'summon', 'would', 'Loimbard', 'guiding', 'teeth', 'attack', \"'Course\", 'father', 'music', 'defeat', 'Yes', 'give-away', 'masses', 'oh', 'Dappy', 'Badon', 'Aaauggh', 'brush', 'imprisoned', 'stood', 'cry', 'leg', 'Mercea', 'wounding', 'Bring', 'Surely', 'mother', 'classes', 'ponds', 'yours', 'bride', 'that', 'biggest', 'entrance', 'mystic', 'bastards', 'Nu', \"'Dennis\", 'mad', 'reads', 'shalt', 'him', 'Forward', 'doors', '15', 'approaching', 'kind', 'take', 'goes', 'wiper', 'l', 'Holy', 'Book', 'mile', 'worse', 'swallow', 'emperor', 'been', 'Therefore', 'bum', 'live', 'honored', 'note', 'GUARDS', 'than', 'Unfortunately', 'DINGO', 'might', 'considerable', 'defeator', 'twin', 'verses', 'angels', 'cartoon', 'good', 'things', 'slightly', 'thirty-seven', 'wide', 'feathers', 'punishment', 'mean', 'Jesus', '1', 'dirty', 'gave', 'un', 'Of', 'Thppt', 'cough', 'roar', 'Yup', 'quarrel', 'Does', 'need', 'still', 'Yeah', 'headed', 'main', 'Blue', 'riding', 'binding', 'commands', 'run', 'examine', 'gouged', 'Farewell', 'She', 'Really', 'therefore', 'decision', 'suspenseful', 'nor', 'types-a', 'sometimes', 'weight', 'acting', 'trade', 'husk', 's', 'Hic', 'Excuse', 'bois', 'va.', 'Between', 'build', 'Patsy', 'outdoors', 'bird', 'Chaste', 'whoever', 'called', 'vary', 'uuggggggh', 'baby', 'Ector', 'command', 'ENCHANTER', 'clunk', 'government', 'Perhaps', 'Guards', 'more', 'ca', 'Silence', 'guard', 'Behold', 'ye', 'Knights', 'OTHER', 'strand', 'nice', 'Quiet', 'shrubber', 'for', 'ferocity', 'forth', 'Tell', 'clap', 'Steady', 'bunny', 'Y', 'Agh', 'chest', 'wonderful', 'w', 'Bristol', 'allowed', 'can', 'sex', 'tap-dancing', 'BLACK', 'Together', 'One', 'also', 'looks', 'lives', 'hee', 'sponge', 'hospitality', 'silence', 'turned', 'flight', 'awaaaaay', 'you', 'tear', 'ready', 'appease', 'fortune', 'killer', 'pay', 'oui', 'shimmering', 'SENTRY', 'fold', 'As', 'castle', 'economic', 'pulp', 'no', 'preserving', 'liege', 'rhymes', 'ROBIN', 'expect', 'Nothing', 'ethereal', 'deeds', 'great', 'ride', 'clack', 'nearer', 'unsingable', 'dogma', 'completely', 'Joseph', 'Augh', 'ALL', 'out', 'England', 'wound', 'over', 'GUEST', 'right', 'Un', 'perilous', 'idiom', '7', 'vote', 'best', 'Far', 'Man', 'why', 'or', 'Aaaaugh', 'Yeaaah', 'clue', 'Meanwhile', 'ROGER', 'officer', 'Beast', 'any', 'want', 'DIRECTOR', 'surprise', 'ai', 'peasant', 'carving', 'your', 'suffice', 'system', 'sad', 'pack', 'May', 'travellers', 'if', 'martin', 'ehh', 'smashing', 'class', 'thonk', 'the', 'crash', 'guided', 'bicker', 'busy', 'scribble', 'alive', 'HEADS', 'swallows', 'purpose', 'yel', 'violence', 'harmless', 'maybe', 'carve', 'supports', 'Dramatically', '.', 'More', 'owns', \"'re\", 'yeah', 'formidable', 'Chicken', 'listen', 'Nine', 'Lie', 'tracts', 'Skip', 'felt', 'word', 'spirit', 'killed', 'minstrels', 'Aaauugh', 'dona', 'else', 'score', 'Piglet', 'had', 'weighs', 'training', 'influential', 'woman', 'meeting', 'blondes', 'strategy', 'worry', 'war', 'awaaay', 'Divine', 'Not', 'something', 'groveling', \"'Oooooooh\", 'animator', 'doubt', 'Leaving', 'old', 'Father', 'dictating', 'Aaaah', 'workers', '...', 'most', 'son', 'having', 'change', 'whinny', 'Five', 'Our', 'has', 'Fiends', 'Explain', 'wishes', 'bottoms', 'other', 'PARTY', 'Ninepence', 'Rheged', 'bold', 'so', 'by', 'retreat', 'indeed', 'k-nnniggets', 'offensive', 'DEAD', 'Mine', 'afoot', 'protect', 'jokes', 'lady', 'Thsss', 'kill', 'show', 'chickened', 'supposed', 'leap', 'enjoying', 'king-a', 'Nador', 'taunt', '20', 'siren', 'Pin', 'longer', 'every', 'wayy', 'stops', 'THE', 'sod', 'Today', 'nervous', 'tiny-brained', 'society', 'O', 'carp', 'covered', 'hidden', 'Gorge', 'entering', 'Here', 'SECOND', 'scarper', 'pond', 'Grenade', 'haaa', 'Every', 'Huy', 'Firstly', 'Black', 'Hiyah', 'HISTORIAN', 'dying', 'servant', 'cereals', 'havin', 'a', 'so-called', 'U', 'bint', 'knight', '2', 'bowels', 'AMAZING', 'twong', 'pure', \"'uuggggggh\", 'See', 'on', 'Oooohoohohooo', 'Stop', 'who', 'same', 'huge', 'window-dresser', 'grail-shaped', \"'ni\", 'Quite', 'little', ',', 'required', 'Princess', 'without', 'band', 'became', 'north', 'witches', 'yelling', 'walk', 'small', 'conclusions', 'Greetings', 'nobody', 'quest', 'The', 'follow', 'quests', 'our', 'assist', 'dressing', 'obviously', 'seen'}\n"
     ]
    }
   ],
   "source": [
    "# Import necessary modules\n",
    "from nltk.tokenize import sent_tokenize\n",
    "from nltk.tokenize import word_tokenize\n",
    "\n",
    "# Split scene_one into sentences: sentences\n",
    "sentences = sent_tokenize(scene_one)\n",
    "\n",
    "# Use word_tokenize to tokenize the fourth sentence: tokenized_sent\n",
    "tokenized_sent = word_tokenize(sentences[3])\n",
    "\n",
    "# Make a set of unique tokens in the entire scene: unique_tokens\n",
    "unique_tokens = set(word_tokenize(scene_one))\n",
    "\n",
    "# Print the unique tokens result\n",
    "print(unique_tokens)"
   ]
  },
  {
   "cell_type": "markdown",
   "metadata": {},
   "source": [
    "$\\blacktriangleright$ **Package pre-loading:**"
   ]
  },
  {
   "cell_type": "code",
   "execution_count": 8,
   "metadata": {
    "ExecuteTime": {
     "end_time": "2020-12-21T23:34:30.045999Z",
     "start_time": "2020-12-21T23:34:30.043189Z"
    }
   },
   "outputs": [],
   "source": [
    "import re"
   ]
  },
  {
   "cell_type": "markdown",
   "metadata": {},
   "source": [
    "$\\blacktriangleright$ **Regex (`re.search()`) practice:**"
   ]
  },
  {
   "cell_type": "code",
   "execution_count": 9,
   "metadata": {
    "ExecuteTime": {
     "end_time": "2020-12-21T23:34:30.055956Z",
     "start_time": "2020-12-21T23:34:30.050693Z"
    }
   },
   "outputs": [
    {
     "name": "stdout",
     "output_type": "stream",
     "text": [
      "580 588\n"
     ]
    }
   ],
   "source": [
    "# Search for the first occurrence of \"coconuts\" in scene_one: match\n",
    "match = re.search(\"coconuts\", scene_one)\n",
    "\n",
    "# Print the start and end indexes of match\n",
    "print(match.start(), match.end())"
   ]
  }
 ],
 "metadata": {
  "kernelspec": {
   "display_name": "Python 3",
   "language": "python",
   "name": "python3"
  },
  "language_info": {
   "codemirror_mode": {
    "name": "ipython",
    "version": 3
   },
   "file_extension": ".py",
   "mimetype": "text/x-python",
   "name": "python",
   "nbconvert_exporter": "python",
   "pygments_lexer": "ipython3",
   "version": "3.7.6"
  },
  "latex_envs": {
   "LaTeX_envs_menu_present": true,
   "autoclose": true,
   "autocomplete": true,
   "bibliofile": "biblio.bib",
   "cite_by": "apalike",
   "current_citInitial": 1,
   "eqLabelWithNumbers": true,
   "eqNumInitial": 1,
   "hotkeys": {
    "equation": "Ctrl-E",
    "itemize": "Ctrl-I"
   },
   "labels_anchors": false,
   "latex_user_defs": false,
   "report_style_numbering": true,
   "user_envs_cfg": true
  },
  "nbTranslate": {
   "displayLangs": [
    "*"
   ],
   "hotkey": "alt-t",
   "langInMainMenu": true,
   "sourceLang": "en",
   "targetLang": "fr",
   "useGoogleTranslate": true
  },
  "toc": {
   "base_numbering": 1,
   "nav_menu": {},
   "number_sections": true,
   "sideBar": true,
   "skip_h1_title": false,
   "title_cell": "Table of Contents",
   "title_sidebar": "Contents",
   "toc_cell": false,
   "toc_position": {
    "height": "calc(100% - 180px)",
    "left": "10px",
    "top": "150px",
    "width": "288px"
   },
   "toc_section_display": true,
   "toc_window_display": true
  },
  "varInspector": {
   "cols": {
    "lenName": 16,
    "lenType": 16,
    "lenVar": 40
   },
   "kernels_config": {
    "python": {
     "delete_cmd_postfix": "",
     "delete_cmd_prefix": "del ",
     "library": "var_list.py",
     "varRefreshCmd": "print(var_dic_list())"
    },
    "r": {
     "delete_cmd_postfix": ") ",
     "delete_cmd_prefix": "rm(",
     "library": "var_list.r",
     "varRefreshCmd": "cat(var_dic_list()) "
    }
   },
   "types_to_exclude": [
    "module",
    "function",
    "builtin_function_or_method",
    "instance",
    "_Feature"
   ],
   "window_display": true
  }
 },
 "nbformat": 4,
 "nbformat_minor": 4
}
