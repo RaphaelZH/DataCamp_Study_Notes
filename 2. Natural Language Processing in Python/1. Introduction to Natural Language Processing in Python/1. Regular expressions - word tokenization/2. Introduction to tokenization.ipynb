{
 "cells": [
  {
   "cell_type": "markdown",
   "metadata": {
    "ExecuteTime": {
     "end_time": "2020-07-24T11:20:21.989524Z",
     "start_time": "2020-07-24T11:20:12.960881Z"
    }
   },
   "source": [
    "```\n",
    "#############################################\n",
    "##                                         ##\n",
    "##  Natural Language Processing in Python  ##\n",
    "##                                         ##\n",
    "#############################################\n",
    "\n",
    "§1 Introduction to Natural Language Processing in Python\n",
    "\n",
    "§1.1 Regular expressions & word tokenization\n",
    "```"
   ]
  },
  {
   "cell_type": "markdown",
   "metadata": {},
   "source": [
    "# Introduction to tokenization"
   ]
  },
  {
   "cell_type": "markdown",
   "metadata": {},
   "source": [
    "## What is tokenization?\n",
    "\n",
    "* It turns a string or document into tokens (smaller chunks).\n",
    "\n",
    "* It's one step in preparing a text for NLP.\n",
    "\n",
    "* It has many different theories and rules.\n",
    "\n",
    "* Users can create their own rules using regular expressions.\n",
    "\n",
    "* There are some examples:\n",
    "\n",
    "\t* *breaking out words or sentences*\n",
    "    \n",
    "\t* *separating punctuation*\n",
    "    \n",
    "\t* *separating all hashtags in a tweet*"
   ]
  },
  {
   "cell_type": "markdown",
   "metadata": {},
   "source": [
    "## What is the NLTK library?\n",
    "\n",
    "* NLTK: Natural Language Toolkit"
   ]
  },
  {
   "cell_type": "markdown",
   "metadata": {},
   "source": [
    "## Code of the NLTK library:"
   ]
  },
  {
   "cell_type": "code",
   "execution_count": 12,
   "metadata": {
    "ExecuteTime": {
     "end_time": "2020-12-31T22:14:49.678621Z",
     "start_time": "2020-12-31T22:14:49.673188Z"
    }
   },
   "outputs": [
    {
     "data": {
      "text/plain": [
       "['Hi', 'there', '!']"
      ]
     },
     "execution_count": 12,
     "metadata": {},
     "output_type": "execute_result"
    }
   ],
   "source": [
    "from nltk.tokenize import word_tokenize\n",
    "\n",
    "word_tokenize(\"Hi there!\")"
   ]
  },
  {
   "cell_type": "markdown",
   "metadata": {
    "ExecuteTime": {
     "end_time": "2020-12-20T20:08:55.570909Z",
     "start_time": "2020-12-20T20:08:55.565185Z"
    }
   },
   "source": [
    "## Why tokenize?\n",
    "\n",
    "* Easier to map part of speech.\n",
    "\n",
    "* To match common words.\n",
    "\n",
    "* To remove unwanted tokens.\n",
    "\n",
    "* E.g., \n",
    "\n",
    "    ```\n",
    "    >>> word_tokenize(\"I don't like Sam's shoes.\")\n",
    "    ['I', 'do', \"n't\", 'like', 'Sam', \"'s\", 'shoes', '.']\n",
    "    ```"
   ]
  },
  {
   "cell_type": "markdown",
   "metadata": {},
   "source": [
    "## What are the other NLTK tokenizers?\n",
    "\n",
    "* `sent_tokenize`: tokenize a document into sentences.\n",
    "\n",
    "* `regexp_tokenize`: tokenize a string or document based on a regular expression pattern.\n",
    "\n",
    "* `TweetTokenizer`: special class just for tweet tokenization, allowing separate hashtags, mentions, and lots of exclamation points, such as '!!!'."
   ]
  },
  {
   "cell_type": "markdown",
   "metadata": {},
   "source": [
    "## Code of regex practice (the difference between `re.search()` and `re.match()`):"
   ]
  },
  {
   "cell_type": "code",
   "execution_count": 13,
   "metadata": {
    "ExecuteTime": {
     "end_time": "2020-12-31T22:14:49.689553Z",
     "start_time": "2020-12-31T22:14:49.684722Z"
    }
   },
   "outputs": [
    {
     "data": {
      "text/plain": [
       "<re.Match object; span=(0, 3), match='abc'>"
      ]
     },
     "execution_count": 13,
     "metadata": {},
     "output_type": "execute_result"
    }
   ],
   "source": [
    "import re\n",
    "\n",
    "re.match('abc', 'abcde')"
   ]
  },
  {
   "cell_type": "code",
   "execution_count": 14,
   "metadata": {
    "ExecuteTime": {
     "end_time": "2020-12-31T22:14:49.698491Z",
     "start_time": "2020-12-31T22:14:49.692454Z"
    }
   },
   "outputs": [
    {
     "data": {
      "text/plain": [
       "<re.Match object; span=(0, 3), match='abc'>"
      ]
     },
     "execution_count": 14,
     "metadata": {},
     "output_type": "execute_result"
    }
   ],
   "source": [
    "re.search('abc', 'abcde')"
   ]
  },
  {
   "cell_type": "code",
   "execution_count": 15,
   "metadata": {
    "ExecuteTime": {
     "end_time": "2020-12-31T22:14:49.721084Z",
     "start_time": "2020-12-31T22:14:49.701957Z"
    }
   },
   "outputs": [],
   "source": [
    "re.match('cd', 'abcde')"
   ]
  },
  {
   "cell_type": "code",
   "execution_count": 16,
   "metadata": {
    "ExecuteTime": {
     "end_time": "2020-12-31T22:14:49.736445Z",
     "start_time": "2020-12-31T22:14:49.725759Z"
    }
   },
   "outputs": [
    {
     "data": {
      "text/plain": [
       "<re.Match object; span=(2, 4), match='cd'>"
      ]
     },
     "execution_count": 16,
     "metadata": {},
     "output_type": "execute_result"
    }
   ],
   "source": [
    "re.search('cd', 'abcde')"
   ]
  },
  {
   "cell_type": "markdown",
   "metadata": {},
   "source": [
    "## Practice exercises for introduction to tokenization:\n",
    "\n",
    "$\\blacktriangleright$ **Data pre-loading:**"
   ]
  },
  {
   "cell_type": "code",
   "execution_count": 17,
   "metadata": {
    "ExecuteTime": {
     "end_time": "2020-12-31T22:14:49.756820Z",
     "start_time": "2020-12-31T22:14:49.740648Z"
    }
   },
   "outputs": [],
   "source": [
    "scene_one = open(\"ref2. Monty Python and the Holy Grail.txt\").read()"
   ]
  },
  {
   "cell_type": "markdown",
   "metadata": {
    "ExecuteTime": {
     "end_time": "2020-12-19T22:02:33.692343Z",
     "start_time": "2020-12-19T22:02:33.687220Z"
    }
   },
   "source": [
    "$\\blacktriangleright$ **NLTK word tokenization with practice:**"
   ]
  },
  {
   "cell_type": "code",
   "execution_count": 18,
   "metadata": {
    "ExecuteTime": {
     "end_time": "2020-12-31T22:14:50.062791Z",
     "start_time": "2020-12-31T22:14:49.759759Z"
    }
   },
   "outputs": [
    {
     "name": "stdout",
     "output_type": "stream",
     "text": [
      "{'duty', 'Amen', 'pond', 'buggered', 'horn', 'Put', 'bathing', 'Ni', 'pay', 'Quite', 'lot', 'quests', 'social', 'scarper', 'flint', 'telling', 'his', 'pestilence', 'since', 'merger', 'remain', 'deeds', 'Bedwere', 'heeh', 'cave', 'heard', 'shrubber', 'tired', 'but', 'danger', 'Apples', 'persons', 'committed', 'chosen', '16', 'had', 'Which', 'dressed', 'shalt', 'burst', 'clap', 'plain', 'Skip', 'sworn', 'clank', 'under', '7', 'suggesting', 'weight', 'Shut', 'Grail', 'Uugh', 'sad', 'Aaaaaaaah', 'uuggggggh', 'N', 'take', 'vital', 'Hmm', 'asks', 'influential', 'Pull', 'runes', 'Hand', 'Iiiives', 'Gorge', 'Round', 'supposed', 'creak', 'business', 'body', 'such', 'singing', 'Gawain', 'Look', 'ever', 'bad', 'mayhem', 'reared', 'vests', 'Monsieur', 'food', 'Nay', 'looney', 'aaugh', 'ROGER', 'Ay', 'Court', 'watch', 'Robinson', 'which', 'bonk', 'saw', 'hidden', 'problems', 'meeting', 'husk', 'allowed', 'havin', 'master', 'oooh', 'thy', 'forth', 'tell', 'Come', 'gouged', 'sometimes', 'should', 'entering', 'chastity', 'weapon', 'Dramatically', 'individually', 'Chickennn', 'Looks', 'ferocity', 'soft', 'creeper', 'model', 'naughty', 'filth', 'surprise', 'laden', 'formed', 'rest', 'prevent', 'sort', 'Packing', 'scales', 'after', 'Idiom', 'My', 'executive', 'anyway', 'wonderful', 'leads', 'sample', 'sniff', 'water', 'affairs', 'O', 'fatal', 'tinder', 'vain', 'HEADS', 'PRINCESS', 'haaa', 'bridges', 'couple', 'Hoo', 'dull', 'working', 'mine', 'Chaste', 'gone', 'anarcho-syndicalist', 'pack', 'cartoon', 'DIRECTOR', 'hopeless', 'heart', 'RIGHT', 'depressing', 'dorsal', 'heh', 'elderberries', 'silence', 'whoever', 'CUSTOMER', 'bit', 'forest', 'wounded', 'woman', 'DEAD', 'find', 'nobody', 'beautiful', '...', 'pansy', '.', 'mandate', 'Twenty-one', 'happy', 'Oui', 'Cornwall', 'would', 'dona', 'twong', 'CARTOON', 'stayed', 'Umhm', 'going', 'Silence', 'makes', 'carve', 'already', 'really', 'say', 'Hah', 'also', 'None', 'types', 'CART-MASTER', 'majority', 'died', 'keeper', 'bats', 'Bones', 'lair', 'matter', 'their', 'length', 'legendary', 'WOMAN', 'Make', 'na', 'grenade', 'collective', 'binding', 'Thpppppt', 'OFFICER', 'week', \"'aaaah\", '10', 'yet', 'refuse', 'off', 'velocity', 'class', \"'Ere\", 'Everything', 'easily', 'walking', 'In', 'Alright', 'Rheged', 'assault', 'autocracy', \"'Morning\", 'More', 'please', 'eh', 'die', 'looked', 'keepers', 'awhile', 'cope', 'grips', 'k-nnniggets', 'hast', 'varletesses', 'fallen', 'doctors', 'charged', 'number', 'follow', 'Almighty', 'masses', 'profane', 'oh', 'um', 'lucky', 'Huh', 'purely', 'Thppt', 'straight', 'hundred-and-fifty', 'bring', 'Say', 'weather', 'imperialist', 'ponds', 'Winter', 'scots', 'Britons', 'auuuuuuuugh', 'imprisoned', 'from', 'in', 'la', 'brush', 'ROBIN', 'Herbert', 'dictating', 'killer', 'Order', 'martin', 'absolutely', 'twin', 'Great', 'Message', 'burn', 'VILLAGERS', 'STUNNER', 'line', 'wants', 'Even', 'ha', 'Y', 'young', 'Anarcho-syndicalism', 'Gallahad', 'legally', 'Why', 'j', 'Ahh', 'head', 'parts', 'sir', \"'Course\", 'teeth', 'approacheth', 'worse', 'tear', 'Eternal', 'Help', 'lapin', 'internal', 'seemed', 'Aauuuves', 'raped', 'twang', 'sharp', 'strategy', 'Brave', 'mystic', 'Launcelot', 'names', 'those', 'va.', 'servant', 'ENCHANTER', 'Actually', 'glass', 'scared', 'Five', 'Here', 'Lake', 'successful', 'terrible', 'fart', 'asking', 'knocked', 'VOICE', 'intermission', 'got', 'ride', 'wide', 'plover', 'lived', 'taken', 'Hya', 'Peril', 'Camelot', 'alarm', 'Joseph', 'laughing', 'castanets', 'Chapter', 'MIDGET', 'talk', 'repressed', 'crash', 'tale', 'luck', 'almost', 'Hyy', 'brain', 'wo', 'knight', 'Perhaps', 'separate', 'shit', 'Do', 'centuries', 'sex', 'two-thirds', 'peasant', 'Honestly', 'leap', 'sign', 'domine', 'THE', 'mud', 'snuff', 'o', 'pointy', 'certain', 'worthy', 'Aaauggh', 'n', 'meant', 'thine', 'wind', 'ethereal', 'horrendous', 'doubt', 'end', 'Castle', 'whose', 'So', 'Bread', 'This', 'able', 'if', 'Hello', 'coconut', 'high-pitched', 'stuffed', 'south', 'became', 'Quoi', 'guards', 'witches', 'Anthrax', 'eet', 'when', 'gentle', 'bleed', 'tie', 'unhealthy', 'er', 'His', 'Wait', \"e'er\", 'Gable', 'ARTHUR', 'distributing', 'An', 'Keep', 'Far', 'nice-a', '2', 'snows', 'although', 'Ages', 'swords', 'lunged', 'side', 'biters', 'marrying', 'Thank', 'temptress', 'Alice', 'eight', 'Uh', 'unsingable', 'along', 'riding', 'Just', 'Ooh', 'moistened', 'lonely', 'English', 'Ridden', 'Ewing', 'sweet', 'Churches', 'rabbit', 'at', 'its', 'van', 'town', 'Hee', 'siren', 'I', 'huge', 'clang', 'thou', 'kind', 'war', 'wave', 'bangin', 'over', 'handle', 'It', 'pig-dogs', 'laurels', 'might', 'hospital', 'Angnor', 'afoot', 'hiyaah', 'aside', 'hand', \"'ni\", '!', 'appease', 'Whoa', 'Go', '18', 'ladies', 'covered', 'mumble', 'protect', 'sonny', 'Knights', 'particular', 'French', 'give-away', 'hello', 'baby', 'think', 'explain', 'chest', 'met', 'Practice', 'away', \"'Erbert\", 'expensive', 'Man', 'glory', 'the', 'knights', 'BEDEVERE', 'taking', 'Prepare', 'rejoicing', 'settles', 'Too', 'silly', 'y', 'economic', 'trade', 'underwear', 'Aggh', 'Found', 'up', 'Himself', 'stretched', 'Today', 'large', 'answer', 'CHARACTER', 'Um', 'Walk', 'Psalms', 'Defeat', 'wet', 'jam', 'gained', 'here', '17', 'name', 'tiny-brained', 'scratch', 'frighten', 'tea', 'heroic', \"'S\", 'nearly', 'averting', 'one', 'What', 'l', 'sorry', 'act', 'nineteen-and-a-half', 'Lucky', 'my', 'rhymes', 'want', 'Aaagh', 'she', 'Really', 'soon', \"'sorry\", 'invincible', 'force', 'spanked', 'aunties', 'chord', 'ceremony', 'father', 'raised', 'Thou', 'ere', 'science', 'GUESTS', 'band', 'remember', 'feet', 'exploiting', 'types-a', 'resumes', 'regulations', 'He', 'Ho', \"'it\", 'banana-shaped', 'Thppppt', 'purpose', 'Swamp', 'strength', 'mooooooo', 'woods', 'shall', 'PIGLET', 'Use', 'join', 'it', 'towards', 'haste', 'Let', 'WIFE', 'hospitality', 'foot', 'eisrequiem', '..', 'fire', 'wait', 'bows', 'requiem', 'Black', 'am', 'pounds', 'beds', 'risk', 'burned', 'fled', 'fifty', 'hall', 'Other', 'made', 'g', 'Brother', 'badger', 'walk', 'blessing', 'quarrel', 'Hic', 'boys', 'clack', 'single-handed', 'twenty-four', 'Olfin', 'preserving', 'sponge', 'Get', 'thirty-seven', 'Yes', 'voluntarily', 'BROTHER', 'u', 'Providence', 'smashed', 'as', 'outdated', 'nine', 'grail-shaped', 'fold', 'bottoms', 'personally', 'entrance', 'Ask', 'anything', 'worry', 'thank', 'tackle', 'note', 'deal', 'so', 'Neee-wom', 'differences', 'offensive', 'taunting', 'Are', 'easy', 'Aah', 'men', 'awfully', 'Aaaaaah', 'keen', 'day', 'idea', 'seem', 'knew', 'wicked', 'guarded', 'bridge', 'spake', 'liar', 'shimmering', 'gallantly', 'wound', 'bint', 'tap-dancing', 'comin', 'inherent', 'not', 'Ayy', 'fought', 'problem', 'running', 'of', '11', 'Have', 'Book', 'daughter', 'nightfall', '13', 'Nine', 'was', 'sink', \"'ve\", 'e', 'arms', 'uh', 'Waa', 'your', 'peril', 'they', 'give', \"'uuggggggh\", 'chops', 'Clear', 'dance', 'behold', 'Bad', 'heads', 'system', 'lads', 'girl', 'wooden', 'basis', 'Am', 'need', 'words', 'Eh', \"'\", 'are', 'pig', 'armed', 'Antioch', 'Try', 'upon', 'late', 'folk', 'harmless', 'bite', 'search', 'mashed', 'Or', 'throwing', '9', 'snore', 'Iiiiives', 'Hooray', 'Thpppt', 'grin', 'entered', 'Not', 'uhh', '14', 'Beast', 'sheep', 'went', 'fruit', 'W', 'gra', 'frontal', 'automatically', 'Picture', 'Lead', 'chance', 'understanding', \"'Til\", 'Grenade', 'Zoot', 'learning', 'open', 'BORS', 'Two', 'Aauuggghhh', 'Cider', 'k-nnnnniggets', \"'First\", 'Behold', \"'em\", 'presence', 'cart', 'left', 'found', 'How', 'man', 'second', 'some', 'ANIMATOR', 'mile', 'lying', 'Ulk', 'SENTRY', 'cruel', 'woosh', 'proceed', 'May', 'Assyria', 'Chicken', 'Pie', 'bastards', 'biggest', 'four', 'argue', 'song', 'GUARDS', 'another', 'routines', 'women', 'helpful', 'A', 'design', 'Caerbannog', 'Loimbard', 'without', 'place', 'shrubbery', 'Maynard', 'warm', '20', 'pass', 'around', 'zoosh', 'music', 'assist', 'GUARD', 'Shh', 'behind', 'Over', 'Tall', 'warmer', 'ungallant', 'totally', 'CROWD', 'private', 'Torment', 'things', 'sword', 'perpetuates', 'way', 'bugger-folk', 'eat', 'too', 'cover', 'ho', 'room', 'swamp', 'scene', 'boom', 'between', 'ehh', 'necessary', 'Aaaugh', 'felt', 'her', 'coming', 'dynamite', 'See', 'Bedevere', 'setting', 'best', 'compared', 'tart', 'use', 'avenged', 'breadth', 'big', 'king-a', 'ones', 'African', 'chu', 'tragic', 'tree', 'Thee', 'listen', '24', 'being', 'Stand', 'never', 'through', 'getting', 'discovers', \"'is\", 'tops', 'SIR', 'ridden', 'supports', 'chorus', 'Excuse', 'bird', 'Dingo', 'spank', 'real', 'creep', 'eccentric', 'basic', 'swallow', 'defeator', 'splash', 'everything', 'five', 'stab', 'When', 'bicker', 'Very', 'Charge', 'stand', 'times', 'derives', 'git', 'wipers', 'Run', 'animal', 'back', 'retold', 'strongest', \"C'est\", 'may', 'ask', 'Fiends', 'present', 'round', 'friend', 'removed', 'aaaaaah', 'dub', 'making', 'let', 'rock', 'escape', 'Cut', 'ptoo', 'far', 'Divine', \"'forgive\", 'small', 'bang', 'good', 'GREEN', 'Three', 'sawwwww', 'courage', 'nothing', 'farcical', 'warning', 'split', 'saying', 'We', 'aloft', 'donkey-bottom', 'wood', 'trumpets', 'gay', 'case', 'other', 'recover', 'Did', 'oral', 'goes', 'NI', 'Yay', 'CHARACTERS', 'waste', 'mangled', 'shrubberies', 'run', 'answers', 'oui', 'looking', 'kill', 'wayy', 'tonight', 'Huy', 'Chop', 'object', 'Galahad', 'Peng', 'nose', 'They', 'is', 'Quickly', 'thud', 'mightiest', 'Frank', 'even', 'Oh', 'very', 'while', 'Consult', 'little', 'Agh', 'bravest', 'DINGO', 'Shrubberies', 'considerable', 'boil', 'attend', '1', 'smashing', 'gon', 'summon', 'unclog', 'Would', 'last', 'immediately', 'build', 'Uuh', 'Never', 'carrying', 'kneeling', 'sneaking', 'bold', 'long', 'Aaaah', 'commands', 'sixteen', 'miss', 'pissing', 'power', 'ju', 'so-called', 'many', 'people', 'rocks', 'cross', 'lad', 'SECOND', 'Until', 'path', 'could', '3', 'PARTY', 'threw', 'vouchsafed', 'go', 'safety', 'forced', 'Schools', \"'shrubberies\", 'limbs', 'previous', '15', 'ran', 'Pin', 'Firstly', 'does', 'night', 'MIDDLE', 'Farewell', 'word', 'time-a', 'yours', '[', 'depart', 'kings', '22', 'Huyah', 'w', 'quest', 'Beyond', 'coconuts', 'awaaaaay', 'Mmm', 'dirty', 'True', 'scrape', 'Of', 'Concorde', 'Follow', 'dragging', 'auntie', 'unarmed', 'Surely', \"'ll\", 'HISTORIAN', 'great', '8', 'Mine', 'about', 'rewr', 'lobbed', '23', \"'Aauuuuugh\", 'haw', 'relax', 'Where', 'convinced', 'reached', 'government', 'glad', 'LAUNCELOT', 'Pure', 'bridgekeeper', 'bunny', 'commune', 'Meanwhile', 'earthquakes', 'special', 'pause', 'bois', 'inferior', 'slash', 'splat', 'Arthur', 'Yeaaah', 'Bors', \"'aaggggh\", 'dressing', 'sister', \"'til\", 'Thy', 'test', 'understand', 'Tower', ',', 'favor', 'As', 'slightly', 'fight', 'forget', 'used', 'Victory', 'them', 'mother', 'whop', 'Doctor', 'exciting', 'frozen', 'bi-weekly', 'empty', 'knock', 'By', 'face', 'ai', 'Woa', 'Said', 'With', 'ALL', 'vote', 'nibble', 'carries', 'grip', 'task', 'Dennis', 'ruffians', 'old', 'CRONE', 'trouble', 'employed', ':', 'Remove', 'Then', 'MINSTREL', 'lie', 'carp', 'year', 'behaviour', 'outside', 'Pendragon', 'bum', 'packing', 'grail', 'wrong', 'Ow', 'with', 'our', 'accomplished', 'Exactly', 'penalty', 'armor', 'enter', 'foe', 'chickened', 'push', 'yellow', 'come', 'stupid', 'Crapper', 'duck', 'supreme', 'zone', 'Fetchez', 'kingdom', 'Wood', 'Hold', 'proved', 'turns', 'to', 'liver', 'mayest', 'quick', 'quiet', 'Seek', 'strand', 'Mercea', 'Listen', 'idiom', 'guided', 'uuup', 'continue', 'Does', 'advancing', 'kick', 'bless', 'nearer', 'Sorry', 'married', '?', 'get', \"'Ecky-ecky-ecky-ecky-pikang-zoop-boing-goodem-zoo-owli-zhiv\", 'out', 'counting', 'winter', 'Battle', 'rrrr', 'drink', 'scholar', 'false', 'streak', 'workers', 'Lord', 'c', 'Augh', 'until', 'witch', \"'To\", 'help', 'LEFT', 'bringing', 'he', 'Explain', 'point', 'earth', 'thing', 'WINSTON', 'Who', 'At', 'hat', 'jump', 'speak', 'repressing', \"'m\", 'needs', 'bladders', 'happens', 'buggering', 'less', 'worried', 'vache', 'enough', 'LUCKY', 'certainly', 'union', 'try', 'wield', 'manner', 'Aaauugh', 'set', 'someone', 'course', 'ooh', 'emperor', 'pimples', 'worst', 'reads', ']', 'LOVELY', 'She', 'BLACK', 'mangy', 'nasty', 'living', 'right', 'ready', 'rich', 'Lie', 'window-dresser', 'ignore', 'suddenly', 'remembered', \"'round\", 'nice', 'stress', 'whinny', 'triumphs', 'by', 'b', 'Quiet', 'tracts', 'dogma', 'delirious', 'dictatorship', 'clllank', 'bravely', 'how', 'brunettes', 'Off', 'later', 'icy', 'beacon', 'Heee', 'mean', 'Tell', 'gurgle', 'Halt', 'punishment', 'why', 'DENNIS', 'Stay', 'self-perpetuating', 'dear', 'doors', 'Lancelot', 'suit', 'Hiyya', 'bother', 'wedlock', 'Well', 'ordinary', 'full', 'no', 'visually', 'leave', 'CRAPPER', 'dress', 'violence', 'work', 'Table', 'flesh', 'SCENE', 'CAMERAMAN', 'ounce', 'count', 'finest', 'hills', 'Yeaah', 'daring', 'maintain', 'always', 'Badon', 'dying', 'afraid', 'must', 'sell', 'nervous', 'well', 'be', 'alight', 'spoken', 'house', 'Nothing', 'first', 'Four', 'Patsy', 'Dis-mount', 'blood', 'example', 'hacked', 'much', 'writing', 'door', 'Anybody', 'GOD', 'returns', 'thonk', 'PERSON', 'consulted', 'apologise', 'KNIGHT', 'Hang', 'floats', 'new', 'Clark', 'stood', 'valleys', 'taunt', 'CONCORDE', 'minute', 'Since', 'Midget', 'decision', 'leaps', 'quite', 'BRIDGEKEEPER', 'tough', 'Bravely', 'spirit', 'beside', 'Aaaaugh', 'yeah', 'Christ', 'cereals', 'lovely', 'owns', 'bells', 'court', 'drilllll', 'killed', 'crone', 'freedom', 'shut', 'humble', 'throughout', 'Hiyaah', 'examine', 'better', 'whom', 'dramatic', 'interested', 'rope', 'unladen', 'Robin', 'dangerous', 'breakfast', 'hamster', 'what', 'person', 'magne', 'smack', 'grovel', 'fwump', 'ninepence', 'Therefore', 'ca', 'Leaving', 'occasion', 'adversary', 'daft', 'suspenseful', 'clop', 'tropical', 'TIM', 'favorite', 'move', 'like', 'strange', 'flights', 'did', 'Oooohoohohooo', 'training', 'Aaah', 'been', 'effect', 'score', 'third', 'sire', 'trough', 'Bring', 'command', 'PATSY', '(', 'minstrels', 'dead', 'evil', 'i', 'Back', 'bloody', 'something', 'these', 'properly', 'Attila', \"n't\", 'worked', 'foul', 'on', 'cough', 'Jesus', 'sun', 'squeak', 'headoff', 'we', 'ham', 'tail', 'carved', 'took', 'howl', 'wings', 'pussy', 'more', 'Heh', 'yes', 'legs', 'hmm', 'guest', 'bottom', 'Could', 'climes', 'direction', 'Nador', 'questions', 'using', 'there', 'called', \"'s\", 'distress', 'mac', 'VILLAGER', 'feast', 'three', 'fooling', 'WITCH', 'footwork', 'sons', 'mate', 'donaeis', 'Hoa', 'rather', 'dare', 'Supreme', 'Will', 'Lady', '6', 'Action', 'Saxons', 'Umm', 'look', 'hoo', 'MONKS', 'wiper', 'Recently', 'indefatigable', 'having', 'nor', 'King', 'sing', 'excepting', 'migrate', 'OTHER', 'Haw', 'dungeon', 'every', 'Rather', 'seldom', 'feel', 'table', 'make', 'Excalibur', 'longer', 'Supposing', 'Good', 'opera', 'yelling', 'mer', 'simple', 'trusty', 'time', 'Ives', 'Shrubber', 'sequin', 'Winston', 'thanks', 'Summer', 'Right', 'handsome', 'passing', 'next', 'BRIDE', 'praised', 'testicles', 'treat', 'samite', 'further', 'vary', 'spam', 'awaaay', 'largest', 'ratios', 'turned', 'fourth', 'diaphragm', 'buy', 'blanket', 'north-east', 'autonomous', 'gave', 'Piglet', 'Burn', 'air-speed', 'done', 'bits', 'Camaaaaaargue', 'bond', 'orangutans', \"'Oooooooh\", 'noise', 'king', 'enjoying', 'out-clever', 'illustrious', 'closest', 'will', 'sigh', 'classes', 'accent', 'And', 'beat', 'welcome', 'somewhere', 'see', 'held', 'yourself', 'Yup', 'impeccable', 'door-opening', 'wounding', 'two', 'crying', 'Splendid', 'particularly', 'change', 'Auuuuuuuugh', 'Oooo', 'jokes', 'bleeder', 'Now', 'Build', 'Please', 'groveling', 'the-not-quite-so-brave-as-Sir-Lancelot', 'MAN', 'snap', 'breath', 'decided', 'warned', 'Once', 'passed', 'Bon', 'Prince', 'mistake', 'approaching', '12', 'Your', 'bastard', 'started', 'Blue', '4', 'Bloody', 'return', 'pray', 'live', 'Running', 'strangers', 'wise', 'mortally', 'identical', 'Sir', 'busy', 'miserable', 'elbows', 'any', 'or', 'changed', 'valiant', 'seems', 'Aagh', 'stew', 'weighs', 'bed-wetting', 'U', \"'Man\", 'anyone', 'wishes', 'dunno', 'Fine', 'birds', 'Throw', 'guiding', 'Must', \"'d\", 'fly', 'fellows', 'attack', 'Shall', 'crossed', 'Speak', 'once', '--', 'OLD', 'still', 'moment', 'Erm', 'Oooh', 'Like', 'actually', 'defeat', 'clad', 'sense', 'hang', \"'cause\", 'pound', 'against', 'FRENCH', 'On', 'KNIGHTS', 'scimitar', 'indeed', 'Silly', 'higher', 'everyone', 'finds', 'own', 'You', 'Hm', 'expect', 'suppose', 'same', 'scenes', 'joyful', 'fair', 'obviously', 'required', 'CRASH', 'clue', 'outwit', 'Be', 'cadeau', '5', 'animator', 'Riiight', '19', 'string', 'country', 'For', 'Death', 'son', 'ours', 'fell', 'arm', 'retreat', 'radio', 'unplugged', 'carry', 'wherein', 'holy', 'draw', 'call', 'illegitimate-faced', 'starling', 'officer', 'dine', 'dad', 'forward', 'k-niggets', 'saved', 'biscuits', 'strewn', 'guard', '21', 'MAYNARD', 'scott', 'send', 'Mud', 'sight', 'accompanied', 'That', 'known', 'blondes', 'sacred', 'twenty', 'cry', 'p', 'then', 'whether', 'feathers', 'gravy', 'acting', 'No', 'discovered', 'bones', 'traveller', 'Every', 'tiny', 'us', 'signifying', 'blow', 'roar', 'sovereign', 'aquatic', 'enchanter', 'aptly', 'arrange', 'Nu', 'Arimathea', 'seen', 'cost', 'bosom', 'Is', 'Father', 'therefore', 'rescue', 'marry', 'wan', 'All', 'himself', 'sank', 'sure', 'minutes', 'ni', 'outdoors', 'you', 'formidable', 'chanting', 'seek', 'today', 'flight', 'resting', 'confuse', 'sacrifice', 's', 'near', 'Not-appearing-in-this-film', 'One', 'pram', 'stay', 'Together', 'feint', 'ways', 'ZOOT', 'said', 'demand', 'who', 'cheesy', 'Dappy', 'an', 'AMAZING', \"'Ni\", 'put', 'shows', 'Iesu', 'awaits', 'Steady', 'PRISONER', 'honored', 'Autumn', 'pull', 'curtains', 'utterly', 'named', 'FATHER', 'England', 'perilous', 'have', 'Eee', 'lobbest', 'Guards', 'built', 'verses', 'stone', \"'T\", 'least', 'Anyway', 'wedding', 'Mother', 'islands', 'sent', 'Stop', 'Ha', 'liege', 'OF', 'smelt', 'for', 'progress', 'Ohh', 'keep', 'Those', 'Britain', 'thwonk', 'angels', 'spooky', 'terribly', 'cut', 'Hurry', 'vicious', 'general', 'KING', 'Away', 'land', 'art', 'Bravest', 'purest', 'middle', 'stops', 'fine', 'wart', 'Greetings', 'anchovies', 'lady', 'If', 'NARRATOR', 'disheartened', \"'re\", 'now', 'either', 'period', 'order', 'kills', 'pweeng', 'beyond', 'rodent', 'all', 'newt', 'carving', 'clear', 'main', 'medical', 'request', 'Hill', 'outrageous', 'leg', 'Princess', 'soiled', 'completely', 'eis', 'INSPECTOR', 'scribble', 'cop', 'GALAHAD', 'bride', 'Ector', 'thought', 'color', 'shelter', 'Aramaic', 'can', 'Old', 'yel', 'Un', 'this', 'hee', 'Yeah', 'etc', \"'anging\", 'SUN', 'ill.', 'Mind', 'Allo', 'Guy', 'into', 'me', 'mad', 'lord', 'SHRUBBER', 'RANDOM', 'most', 'Roger', 'ye', 'Ah', 'Yapping', 'Hallo', \"'old\", 'guests', 'brought', 'cast', 'Hiyah', 'has', 'doing', 'north', 'dappy', 'anywhere', 'arrows', 'ratified', 'were', 'Holy', 'GUEST', 'Uhh', 'just', 'shivering', 'HEAD', 'Dragon', 'knows', 'language', 'pure', 'bad-tempered', 'pen', 'history', 'quack', 'temperate', 'told', 'throat', 'swallows', 'sloths', 'fortune', 'plan', 'Most', 'alive', 'stop', 'a', 'death', 'Unfortunately', 'rode', 'home', 'GIRLS', '#', 'maybe', 'somebody', 'The', 'ARMY', 'headed', 'reasonable', 'Welcome', 'high', 'again', 'major', 'giggle', 'down', 'suffered', 'valor', \"'Here\", 'apart', 'nick', 'Armaments', 'Forward', 'forty-three', 'medieval', 'together', 'show', 'question', 'amazes', 'undressing', 'life', 'witness', 'PRINCE', 'given', 'mercy', 'European', 'France', 'B', 'eats', 'Bristol', 'bowels', 'creature', 'conclusions', 'Tale', \"d'you\", 'society', 'where', 'lies', 'temptation', 'travellers', 'lose', 'Cherries', 'SOLDIER', 'dancing', 'bed', 'Ninepence', 'pulp', 'police', 'kicked', 'Wayy', 'electric', 'knees-bent', 'spanking', 'Quick', 'Tim', ';', 'suffice', 'each', 'whispering', 'But', 'To', 'halves', 'Saint', 'lambs', 'Knight', 'non-migratory', 'There', ')', 'nostrils', 'clunk', 'broken', 'inside', 'him', 'sod', 'conclusion', 'horse', 'de', 'chickening', 'Forgive', 'God', 'bid', 'kneecaps', 'Aauuugh', 'castle', 'brave', 'performance', 'than', 'tit', 'Enchanter', 'looks', 'un', 'Hey', 'hell', 'because', 'lives', 'impersonate', 'excuse', 'thump', 'logically', 'lost', 'Aaaaaaaaah', 'Bridge', 'Between', 'mooo', 'Thursday', 'else', 'Uther', 'ugly', 'hear', 'relics', 'Spring', 'capital', 'herring', 'dark', 'carried', 'and', 'HERBERT', 'do', 'only', 'oo', \"'Dennis\", 'Thsss', 'says', 'agree', 'Our', 'know', 'watery', 'bet', 'baaaa', 'two-level', 'enemies', 'eyes', 'Open', 'that', 'bitching', 'become'}\n"
     ]
    }
   ],
   "source": [
    "# Import necessary modules\n",
    "from nltk.tokenize import sent_tokenize\n",
    "from nltk.tokenize import word_tokenize\n",
    "\n",
    "# Split scene_one into sentences: sentences\n",
    "sentences = sent_tokenize(scene_one)\n",
    "\n",
    "# Use word_tokenize to tokenize the fourth sentence: tokenized_sent\n",
    "tokenized_sent = word_tokenize(sentences[3])\n",
    "\n",
    "# Make a set of unique tokens in the entire scene: unique_tokens\n",
    "unique_tokens = set(word_tokenize(scene_one))\n",
    "\n",
    "# Print the unique tokens result\n",
    "print(unique_tokens)"
   ]
  },
  {
   "cell_type": "markdown",
   "metadata": {},
   "source": [
    "$\\blacktriangleright$ **Package pre-loading:**"
   ]
  },
  {
   "cell_type": "code",
   "execution_count": 19,
   "metadata": {
    "ExecuteTime": {
     "end_time": "2020-12-31T22:14:50.068210Z",
     "start_time": "2020-12-31T22:14:50.064888Z"
    }
   },
   "outputs": [],
   "source": [
    "import re"
   ]
  },
  {
   "cell_type": "markdown",
   "metadata": {},
   "source": [
    "$\\blacktriangleright$ **Regex (`re.search()`) practice:**"
   ]
  },
  {
   "cell_type": "code",
   "execution_count": 20,
   "metadata": {
    "ExecuteTime": {
     "end_time": "2020-12-31T22:14:50.074252Z",
     "start_time": "2020-12-31T22:14:50.070148Z"
    }
   },
   "outputs": [
    {
     "name": "stdout",
     "output_type": "stream",
     "text": [
      "580 588\n"
     ]
    }
   ],
   "source": [
    "# Search for the first occurrence of \"coconuts\" in scene_one: match\n",
    "match = re.search(\"coconuts\", scene_one)\n",
    "\n",
    "# Print the start and end indexes of match\n",
    "print(match.start(), match.end())"
   ]
  },
  {
   "cell_type": "code",
   "execution_count": 21,
   "metadata": {
    "ExecuteTime": {
     "end_time": "2020-12-31T22:14:50.082310Z",
     "start_time": "2020-12-31T22:14:50.078070Z"
    }
   },
   "outputs": [
    {
     "name": "stdout",
     "output_type": "stream",
     "text": [
      "<re.Match object; span=(9, 32), match='[wind] [clop clop clop]'>\n"
     ]
    }
   ],
   "source": [
    "# Write a regular expression to search for anything in square brackets: pattern1\n",
    "pattern1 = r\"\\[.*\\]\"\n",
    "\n",
    "# Use re.search to find the first text in square brackets\n",
    "print(re.search(pattern1, scene_one))"
   ]
  },
  {
   "cell_type": "code",
   "execution_count": 22,
   "metadata": {
    "ExecuteTime": {
     "end_time": "2020-12-31T22:14:50.089858Z",
     "start_time": "2020-12-31T22:14:50.084840Z"
    }
   },
   "outputs": [
    {
     "name": "stdout",
     "output_type": "stream",
     "text": [
      "<re.Match object; span=(0, 7), match='ARTHUR:'>\n"
     ]
    }
   ],
   "source": [
    "# Find the script notation at the beginning of the fourth sentence and print it\n",
    "pattern2 = r\"[\\w\\s#]+:\"\n",
    "print(re.match(pattern2, sentences[3]))"
   ]
  }
 ],
 "metadata": {
  "kernelspec": {
   "display_name": "Python 3",
   "language": "python",
   "name": "python3"
  },
  "language_info": {
   "codemirror_mode": {
    "name": "ipython",
    "version": 3
   },
   "file_extension": ".py",
   "mimetype": "text/x-python",
   "name": "python",
   "nbconvert_exporter": "python",
   "pygments_lexer": "ipython3",
   "version": "3.7.6"
  },
  "latex_envs": {
   "LaTeX_envs_menu_present": true,
   "autoclose": true,
   "autocomplete": true,
   "bibliofile": "biblio.bib",
   "cite_by": "apalike",
   "current_citInitial": 1,
   "eqLabelWithNumbers": true,
   "eqNumInitial": 1,
   "hotkeys": {
    "equation": "Ctrl-E",
    "itemize": "Ctrl-I"
   },
   "labels_anchors": false,
   "latex_user_defs": false,
   "report_style_numbering": true,
   "user_envs_cfg": true
  },
  "nbTranslate": {
   "displayLangs": [
    "*"
   ],
   "hotkey": "alt-t",
   "langInMainMenu": true,
   "sourceLang": "en",
   "targetLang": "fr",
   "useGoogleTranslate": true
  },
  "toc": {
   "base_numbering": 1,
   "nav_menu": {},
   "number_sections": true,
   "sideBar": true,
   "skip_h1_title": false,
   "title_cell": "Table of Contents",
   "title_sidebar": "Contents",
   "toc_cell": false,
   "toc_position": {
    "height": "calc(100% - 180px)",
    "left": "10px",
    "top": "150px",
    "width": "288px"
   },
   "toc_section_display": true,
   "toc_window_display": true
  },
  "varInspector": {
   "cols": {
    "lenName": 16,
    "lenType": 16,
    "lenVar": 40
   },
   "kernels_config": {
    "python": {
     "delete_cmd_postfix": "",
     "delete_cmd_prefix": "del ",
     "library": "var_list.py",
     "varRefreshCmd": "print(var_dic_list())"
    },
    "r": {
     "delete_cmd_postfix": ") ",
     "delete_cmd_prefix": "rm(",
     "library": "var_list.r",
     "varRefreshCmd": "cat(var_dic_list()) "
    }
   },
   "types_to_exclude": [
    "module",
    "function",
    "builtin_function_or_method",
    "instance",
    "_Feature"
   ],
   "window_display": true
  }
 },
 "nbformat": 4,
 "nbformat_minor": 4
}
