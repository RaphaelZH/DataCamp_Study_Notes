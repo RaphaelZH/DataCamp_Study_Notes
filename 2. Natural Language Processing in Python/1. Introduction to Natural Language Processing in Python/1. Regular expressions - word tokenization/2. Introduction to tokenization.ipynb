{
 "cells": [
  {
   "cell_type": "markdown",
   "metadata": {
    "ExecuteTime": {
     "end_time": "2020-07-24T11:20:21.989524Z",
     "start_time": "2020-07-24T11:20:12.960881Z"
    }
   },
   "source": [
    "```\n",
    "#############################################\n",
    "##                                         ##\n",
    "##  Natural Language Processing in Python  ##\n",
    "##                                         ##\n",
    "#############################################\n",
    "\n",
    "§1 Introduction to Natural Language Processing in Python\n",
    "\n",
    "§1.1 Regular expressions & word tokenization\n",
    "```"
   ]
  },
  {
   "cell_type": "markdown",
   "metadata": {},
   "source": [
    "# Introduction to tokenization"
   ]
  },
  {
   "cell_type": "markdown",
   "metadata": {},
   "source": [
    "## What is tokenization?\n",
    "\n",
    "* It turns a string or document into tokens (smaller chunks).\n",
    "\n",
    "* It's one step in preparing a text for NLP.\n",
    "\n",
    "* It has many different theories and rules.\n",
    "\n",
    "* Users can create their own rules using regular expressions.\n",
    "\n",
    "* There are some examples:\n",
    "\n",
    "\t* *breaking out words or sentences*\n",
    "    \n",
    "\t* *separating punctuation*\n",
    "    \n",
    "\t* *separating all hashtags in a tweet*"
   ]
  },
  {
   "cell_type": "markdown",
   "metadata": {},
   "source": [
    "## What is the `NLTK` library?\n",
    "\n",
    "* `NLTK`: Natural Language Toolkit"
   ]
  },
  {
   "cell_type": "markdown",
   "metadata": {},
   "source": [
    "## Code of the `NLTK` library:"
   ]
  },
  {
   "cell_type": "code",
   "execution_count": 1,
   "metadata": {
    "ExecuteTime": {
     "end_time": "2020-12-24T22:32:23.724054Z",
     "start_time": "2020-12-24T22:32:18.893725Z"
    }
   },
   "outputs": [
    {
     "data": {
      "text/plain": [
       "['Hi', 'there', '!']"
      ]
     },
     "execution_count": 1,
     "metadata": {},
     "output_type": "execute_result"
    }
   ],
   "source": [
    "from nltk.tokenize import word_tokenize\n",
    "\n",
    "word_tokenize(\"Hi there!\")"
   ]
  },
  {
   "cell_type": "markdown",
   "metadata": {
    "ExecuteTime": {
     "end_time": "2020-12-20T20:08:55.570909Z",
     "start_time": "2020-12-20T20:08:55.565185Z"
    }
   },
   "source": [
    "## Why tokenize?\n",
    "\n",
    "* Easier to map part of speech.\n",
    "\n",
    "* To match common words.\n",
    "\n",
    "* To remove unwanted tokens.\n",
    "\n",
    "* E.g., \n",
    "\n",
    "    ```\n",
    "    >>> word_tokenize(\"I don't like Sam's shoes.\")\n",
    "    ['I', 'do', \"n't\", 'like', 'Sam', \"'s\", 'shoes', '.']\n",
    "    ```"
   ]
  },
  {
   "cell_type": "markdown",
   "metadata": {},
   "source": [
    "## What are the other `NLTK` tokenizers?\n",
    "\n",
    "* `sent_tokenize`: tokenize a document into sentences.\n",
    "\n",
    "* `regexp_tokenize`: tokenize a string or document based on a regular expression pattern.\n",
    "\n",
    "* `TweetTokenizer`: special class just for tweet tokenization, allowing separate hashtags, mentions, and lots of exclamation points, such as '!!!'."
   ]
  },
  {
   "cell_type": "markdown",
   "metadata": {},
   "source": [
    "## Code of regex practice (the difference between `re.search()` and `re.match()`):"
   ]
  },
  {
   "cell_type": "code",
   "execution_count": 2,
   "metadata": {
    "ExecuteTime": {
     "end_time": "2020-12-24T22:32:23.760093Z",
     "start_time": "2020-12-24T22:32:23.741031Z"
    }
   },
   "outputs": [
    {
     "data": {
      "text/plain": [
       "<re.Match object; span=(0, 3), match='abc'>"
      ]
     },
     "execution_count": 2,
     "metadata": {},
     "output_type": "execute_result"
    }
   ],
   "source": [
    "import re\n",
    "\n",
    "re.match('abc', 'abcde')"
   ]
  },
  {
   "cell_type": "code",
   "execution_count": 3,
   "metadata": {
    "ExecuteTime": {
     "end_time": "2020-12-24T22:32:23.787951Z",
     "start_time": "2020-12-24T22:32:23.776899Z"
    }
   },
   "outputs": [
    {
     "data": {
      "text/plain": [
       "<re.Match object; span=(0, 3), match='abc'>"
      ]
     },
     "execution_count": 3,
     "metadata": {},
     "output_type": "execute_result"
    }
   ],
   "source": [
    "re.search('abc', 'abcde')"
   ]
  },
  {
   "cell_type": "code",
   "execution_count": 4,
   "metadata": {
    "ExecuteTime": {
     "end_time": "2020-12-24T22:32:23.813910Z",
     "start_time": "2020-12-24T22:32:23.807285Z"
    }
   },
   "outputs": [],
   "source": [
    "re.match('cd', 'abcde')"
   ]
  },
  {
   "cell_type": "code",
   "execution_count": 5,
   "metadata": {
    "ExecuteTime": {
     "end_time": "2020-12-24T22:32:23.831697Z",
     "start_time": "2020-12-24T22:32:23.819914Z"
    }
   },
   "outputs": [
    {
     "data": {
      "text/plain": [
       "<re.Match object; span=(2, 4), match='cd'>"
      ]
     },
     "execution_count": 5,
     "metadata": {},
     "output_type": "execute_result"
    }
   ],
   "source": [
    "re.search('cd', 'abcde')"
   ]
  },
  {
   "cell_type": "markdown",
   "metadata": {},
   "source": [
    "## Practice exercises for introduction to tokenization:\n",
    "\n",
    "$\\blacktriangleright$ **Data pre-loading:**"
   ]
  },
  {
   "cell_type": "code",
   "execution_count": 6,
   "metadata": {
    "ExecuteTime": {
     "end_time": "2020-12-24T22:32:23.885078Z",
     "start_time": "2020-12-24T22:32:23.847652Z"
    }
   },
   "outputs": [],
   "source": [
    "scene_one = open(\"ref2. Monty Python and the Holy Grail.txt\").read()"
   ]
  },
  {
   "cell_type": "markdown",
   "metadata": {
    "ExecuteTime": {
     "end_time": "2020-12-19T22:02:33.692343Z",
     "start_time": "2020-12-19T22:02:33.687220Z"
    }
   },
   "source": [
    "$\\blacktriangleright$ **`NLTK` word tokenization with practice:**"
   ]
  },
  {
   "cell_type": "code",
   "execution_count": 7,
   "metadata": {
    "ExecuteTime": {
     "end_time": "2020-12-24T22:32:24.270159Z",
     "start_time": "2020-12-24T22:32:23.889967Z"
    }
   },
   "outputs": [
    {
     "name": "stdout",
     "output_type": "stream",
     "text": [
      "{'minutes', 'protect', 'smashing', 'distributing', 'spirit', 'bridge', 'valleys', 'merger', 'mandate', 'men', 'so', 'Between', 'internal', 'Anthrax', 'bint', 'being', 'safety', 'badger', 'did', 'footwork', 'miserable', 'amazes', 'our', 'Princess', 'angels', 'tail', 'Quickly', 'awaits', 'BROTHER', 'decided', \"'round\", 'nostrils', 'There', 'sixteen', 'seen', 'Clark', 'WOMAN', 'At', 'fold', 'really', 'full', 'leads', 'wedding', 'awaaay', 'Pendragon', 'CHARACTERS', 'eats', 'Excuse', 'Aaaaaaaaah', 'it', 'cast', 'banana-shaped', 'Which', \"'anging\", 'oh', 'slightly', 'Quoi', 'donaeis', 'run', \"'em\", 'writing', 'ruffians', 'CRAPPER', 'are', 'duck', 'My', 'supports', \"n't\", 'Hah', 'everyone', 'training', 'Victory', 'trumpets', 'Hoo', 'makes', 'somewhere', 'Order', 'cereals', 'Uh', \"'m\", 'medical', 'better', 'tree', 'hospital', 'suddenly', 'reasonable', 'Lie', 'flights', 'yourself', 'course', 'saying', 'sister', 'mother', 'haste', 'music', 'further', 'using', 'forth', 'Iesu', 'big', '15', 'progress', 'individually', 'roar', 'talk', 'back', 'Idiom', 'classes', 'dangerous', 'autonomous', 'Gawain', 'discovers', 'daring', 'Tell', 'pansy', 'pay', 'Honestly', 'gouged', 'Eee', 'GOD', 'GREEN', 'Guy', 'ill.', 'leg', 'empty', 'twang', 'many', 'Auuuuuuuugh', 'moment', 'Run', 'bugger-folk', 'Of', 'fooling', 'brunettes', 'fellows', 'social', 'real', 'air-speed', 'anchovies', 'tie', 'round', 'SCENE', 'silence', 'note', 'after', 'filth', 'anything', 'Maynard', 'Pin', 'with', 'bit', 'body', 'happy', 'Umm', 'cadeau', 'thwonk', 'was', 'looks', 'charged', 'risk', 'woman', 'tackle', 'long', 'AMAZING', 'clank', 'performance', 'ninepence', 'Fine', 'basic', '10', 'Shh', 'stretched', 'trusty', 'uuggggggh', 'carving', 'attend', 'previous', 'handsome', 'Silence', 'chorus', 'suffered', 'Yeaah', 'country', 'guard', 'His', 'through', 'persons', 'expect', 'eat', 'meant', \"'First\", 'ever', 'medieval', 'quests', 'tear', 'flight', 'object', 'zone', 'her', 'shrubber', 'Are', 'tired', 'called', 'ladies', 'Bring', 'in', 'It', 'master', 'worry', 'oooh', 'un', 'rescue', 'Tim', 'confuse', 'lies', 'Ooh', 'afoot', 'mooooooo', 'ere', 'quick', 'feathers', 'thud', 'valiant', 'running', 'your', 'order', 'guarded', 'supposed', 'derives', 'PRISONER', 'thine', 'understand', 'clllank', 'cart', 'Christ', 'explain', 'them', 'lair', 'Use', 'parts', 'just', 'Old', 'forest', 'why', 'scarper', 'freedom', 'VILLAGER', 'worse', 'More', 'Once', 'velocity', 'sight', 'adversary', 'making', 'dine', 'soon', 'eh', 'defeat', 'settles', 'anyway', 'Must', 'NI', 'same', \"'it\", 'apart', 'grenade', 'aquatic', 'beacon', 'although', 'head', 'taunting', 'vary', 'Since', 'yours', 'Yay', 'his', 'sample', 'lost', 'later', 'Does', 'north-east', 'felt', 'wet', 'higher', 'Most', 'k-nnniggets', 'strategy', 'passed', 'suggesting', 'cost', 'those', 'enter', 'middle', 'creature', 'terribly', 'They', 'hall', 'Lucky', 'varletesses', 'bird', 'a', 'Off', 'we', 'bi-weekly', '?', 'CAMERAMAN', 'awfully', 'Bridge', 'were', 'exploiting', 'ooh', 'guards', 'two-thirds', 'auuuuuuuugh', 'haw', 'c', 'va.', 'words', 'luck', \"'Til\", 'um', 'meeting', 'stupid', 'Tale', 'Action', 'gay', 'power', 'agree', 'depressing', 'utterly', \"'Ecky-ecky-ecky-ecky-pikang-zoop-boing-goodem-zoo-owli-zhiv\", 'home', 'compared', \"'Erbert\", 'Anyway', 'started', 'bottom', 'Spring', 'hast', 'Practice', 'sacred', 'Explain', 'its', 'e', 'do', 'upon', 'types', 'particularly', 'most', 'favor', 'Psalms', 'Perhaps', 'found', 'FATHER', 'dressed', 'heh', 'eccentric', 'returns', 'supreme', 'fly', 'GUEST', 'boom', 'Follow', 'has', 'One', 'Thpppppt', 'unhealthy', 'approaching', 'conclusion', 'This', 'If', 'say', 'foul', 'killed', 'deal', 'GUESTS', 'castanets', 'Eh', 'orangutans', 'removed', 'BEDEVERE', 'mayest', 'out-clever', 'employed', 'TIM', 'suspenseful', '1', 'spoken', 'dungeon', 'curtains', 'Did', 'Hee', 'whether', 'king', 'plan', 'nightfall', 'beside', 'sheep', \"'ll\", 'bosom', 'Ow', 'Look', 'vache', 'carry', 'Now', 'totally', 'Swamp', 'trouble', '12', 'Cider', 'pound', 'auntie', 'ceremony', 'witches', \"'d\", 'noise', \"'To\", 'band', 'yel', 'Round', 'yeah', 'chastity', 'SECOND', 'Uhh', 'sent', 'swamp', 'gurgle', 'wooden', 'properly', 'blondes', 'Cherries', 'French', 'Mind', 'good', 'class', 'vital', 'living', 'broken', 'quiet', 'dictating', 'discovered', 'MIDDLE', 'Aaah', 'wants', 'STUNNER', 'give-away', 'mine', 'bloody', 'looked', 'advancing', 'names', 'pig-dogs', 'this', 'WINSTON', 'Uther', 'wood', 'animator', 'pestilence', 'eisrequiem', 'Huyah', 'inferior', 'said', 'KNIGHTS', 'fart', 'Open', 'watch', 'DENNIS', 'kings', 'lose', 'am', 'dragging', \"'ve\", 'PARTY', 'finds', 'fire', 'rich', 'Yup', 'walk', 'make', 'enough', 'together', 'friend', 'rhymes', 'Oui', 'stand', 'p', 'mile', 'Olfin', 'bring', 'carrying', 'period', 'nineteen-and-a-half', 'hamster', '.', 'open', 'until', 'other', 'third', 'ready', 'time', 'Be', 'imperialist', 'their', 'uh', 'Un', 'summon', 'gallantly', 'Hic', 'wind', 'How', 'off', 'reads', 'closest', 'unarmed', 'brought', 'autocracy', 'is', 'Recently', 'foot', 'Man', 'With', 'horse', 'squeak', 'became', 'worked', 'etc', 'because', 'English', 'tough', 'there', 'preserving', 'married', 'runes', 'alight', \"'Oooooooh\", 'Our', 'slash', \"'cause\", 'testicles', 'terrible', 'main', '7', 'rodent', 'one', 'always', 'migrate', 'singing', 'Dingo', 'Five', 'pond', 'mystic', 'packing', 'to', 'PIGLET', 'Silly', 'outdoors', 'bridgekeeper', 'O', 'favorite', 'knock', 'cope', 'Today', 'changed', 'tell', 'required', 'A', 'approacheth', 'zoosh', 'dance', 'punishment', 'be', 'waste', 'anyone', 'creak', 'Y', 'Brave', 'needs', 'Thou', 'hacked', 'Monsieur', 'Walk', 'ARMY', 'gravy', 'tiny', 'major', 'learning', 'rock', 'got', 'er', 'ai', 'Leaving', 'mooo', 'Please', 'swords', 'rrrr', 'tracts', 'somebody', 'walking', 'KNIGHT', 'cartoon', 'Apples', 'sign', \"'shrubberies\", 'cop', \"'is\", 'bringing', 'RIGHT', 'awhile', 'resting', 'pull', '5', '9', 'man', 'vests', 'Ewing', 'Shrubberies', 'at', 'tropical', 'hand', 'rejoicing', 'Until', 'nice-a', 'Whoa', '..', 'CUSTOMER', 'things', 'Aauuugh', 'ye', 'OTHER', 'coming', 'creeper', 'knight', 'perilous', 'design', 'use', 'giggle', 'DINGO', 'swallows', 'majority', 'bleeder', 'Burn', 'clear', 'raised', 'g', 'hmm', 'Gorge', 'all', \"'re\", 'Thursday', 'tiny-brained', 'inside', 'resumes', 'differences', 'sneaking', 'Halt', 'right', 'She', 'domine', 'MAYNARD', 'system', 'Say', 'mad', 'Steady', 'reached', 'government', '16', 'Get', 'very', 'suffice', 'Knights', 'hills', 'oral', 'Beyond', 'icy', 'afraid', 'Roger', 'Dis-mount', '24', 'bother', 'ways', 'scimitar', 'by', 'woosh', 'lobbed', 'fruit', 'Hang', 'Castle', 'grail-shaped', 'Twenty-one', 'remain', 'chance', 'entering', 'about', 'soft', 'mac', 'PRINCESS', 'k-niggets', 'bathing', 'wedlock', '20', 'na', 'no', 'Thy', 'Let', 'breath', 'Away', 'Two', 'Rheged', 'behold', 'Aaauugh', 'sloths', 'raped', 'Quick', 'guiding', 'o', 'strewn', 'PERSON', 'when', 'daughter', 'I', 'swallow', 'flesh', 'None', 'Riiight', 'Angnor', 'wherein', \"'forgive\", 'art', 'Crapper', 'Britons', 'CART-MASTER', 'Midget', 'does', 'sad', 'Himself', 'never', 'crying', 'leaps', 'says', 'Zoot', 'Quiet', 'Battle', 'Launcelot', 'life', 'bid', 'weather', 'horrendous', 'accompanied', 'live', 'counting', 'dressing', 'some', 'Book', 'the', 'carved', 'repressing', 'presence', 'wo', 'remember', 'Badon', 'carp', 'worthy', 'recover', 'Welcome', 'tonight', 'ponds', 'cut', 'dunno', 'Winston', 'And', 'of', 'nearly', 'perpetuates', 'Eternal', 'workers', 'demand', 'BLACK', 'fought', 'path', 'night', 'chu', 'for', 'away', 'de', 'less', 'holy', 'forty-three', 'weighs', 'Bloody', 'old', 'WITCH', 'masses', 'get', 'unplugged', 'snap', 'gon', 'Yes', 'that', 'pig', 'floats', 'beautiful', 'separate', 'they', 'bravest', 'four', 'trade', 'crash', 'knees-bent', 'awaaaaay', 'avenged', 'capital', 'oo', 'Lord', 'wrong', 'yellow', 'gra', 'violence', 'Arimathea', 'score', 'warmer', 'Running', 'intermission', 'Why', 'Anybody', 'feast', 'tragic', 'Found', 'Attila', 'LEFT', 'hiyaah', 'Heh', 'Is', 'mightiest', 'mistake', 'laden', 'bangin', 'special', 'unclog', 'Lady', 'Throw', 'force', 'Lancelot', 'Go', 'behaviour', 'tart', '#', '(', 'took', 'Bravest', 'kill', 'looking', '17', 'Augh', '2', 'elbows', 'OLD', 'collective', 'general', 'Haw', 'j', 'Hand', 'teeth', 'blanket', 'hundred-and-fifty', 'Patsy', 'who', 'Aaaaugh', 'relics', 'coconut', 'plover', 'simple', 'dark', 'wiper', 'knights', 'late', 'second', 'longer', 'pointy', 'committed', 'dorsal', 'splash', 'snows', 'ounce', 'yelling', 'thy', 'sex', 'ca', 'WIFE', 'whom', 'purest', 'Supreme', 'comin', \"d'you\", 'splat', 'To', 'south', 'Erm', 'Ridden', 'saved', 'thanks', 'GUARD', 'doctors', 'draw', 'legendary', 'averting', 'invincible', 'smashed', 'Hooray', 'able', 'CHARACTER', 'Who', 'eyes', 'Unfortunately', 'Aaaaaah', 'Saxons', 'understanding', 'streak', 'Hallo', 'death', '3', 'everything', 'Great', 'In', 'But', 'Antioch', 'snuff', 'bed-wetting', 'remembered', 'shelter', 'enchanter', 'hello', 'line', 'Shall', 'haaa', 'much', 'quest', 'manner', 'Build', 'wait', 'undressing', 'Thsss', 'formidable', 'dramatic', 'keeper', 'him', 'sons', 'ALL', 'and', 'ignore', 'easily', 'influential', 'something', 'havin', 'eight', 'Hiyah', 'England', 'effect', 'Bors', 'grip', 'So', 'couple', 'crossed', 'quite', 'Three', 'commune', 'Wayy', 'accomplished', 'spanked', 'done', 'woods', 'Will', 'CRASH', 'bad-tempered', 'great', 'sometimes', 'spanking', 'pack', '22', 'way', 'Aggh', 'now', 'Armaments', 'cross', 'anywhere', 'Sorry', 'bless', 'been', 'wicked', 'dona', 'buggered', 'May', 'Mine', 'gone', 'case', 'least', 'Cut', 'breakfast', 'actually', 'seemed', 's', 'Ha', 'turned', 'biscuits', 'task', 'bottoms', 'miss', 'mumble', 'baaaa', 'jokes', ')', 'young', 'change', 'hang', 'held', 'dad', 'n', 'hopeless', \"'til\", 'you', 'setting', 'time-a', 'hoo', 'also', 'scales', 'tap-dancing', 'dead', 'Thpppt', 'search', 'speak', 'day', 'killer', 'dying', 'ethereal', 'burst', \"'aaaah\", 'Aaaah', 'going', 'Wait', 'Iiiives', 'Hurry', 'illustrious', 'courage', \"e'er\", 'indefatigable', 'servant', 'Winter', 'plain', 'stab', 'Camaaaaaargue', 'formed', 'seem', 'idiom', 'tea', 'sing', 'mer', 'chops', 'coconuts', 'donkey-bottom', 'Iiiiives', 'scenes', 'nobody', 'shimmering', 'scribble', 'name', 'Father', 'two', 'around', 'clack', 'might', 'chickened', 'while', 'Mercea', 'court', 'Come', 'breadth', 'Behold', 'vicious', '11', 'Brother', 'Oooh', 'ferocity', 'strand', 'huge', 'drilllll', 'Gallahad', 'song', 'castle', 'scratch', 'hidden', 'surprise', 'want', 'Keep', 'ours', 'grail', 'Bones', 'naughty', 'argue', 'turns', 'Oh', 'Uuh', 'Ninepence', 'successful', 'seems', 'Umhm', 'Agh', 'someone', 'gentle', 'MINSTREL', 'Help', 'triumphs', 'Put', 'high-pitched', 'mean', 'history', 'praised', 'Thppt', 'carries', 'wart', 'twenty', 'liar', 'frighten', 'ham', 'Saint', '[', 'scholar', 'may', 'answers', 'Ahh', 'into', 'length', 'king-a', 'Summer', 'knows', 'kicked', 'sacrifice', 'saw', 'pray', 'look', 'Jesus', 'try', 'listen', \"'T\", 'Far', 'almost', 'relax', 'Torment', 'girl', 'Waa', 'opera', 'impersonate', 'Anarcho-syndicalism', 'ha', 'All', 'forget', 'ARTHUR', 'pass', 'wan', 'Every', 'duty', 'direction', 'Fiends', 'proceed', 'types-a', 'sonny', 'W', 'identical', 'outdated', 'Not', 'here', 'not', 'Robin', 'idea', 'earth', 'scott', 'need', 'Hill', 'shut', 'Ages', 'Concorde', 'year', 'immediately', 'alarm', 'would', 'Mother', 'gained', 'keen', 'high', 'straight', 'Even', 'even', 'die', 'aaugh', 'shivering', 'Aaagh', 'dogma', 'side', 'sell', 'Very', 'Pie', 'Nine', 'pause', 'cheesy', 'weight', 'snore', 'Yeaaah', ';', 'CONCORDE', 'INSPECTOR', \"'S\", 'Alright', 'ho', 'bats', 'LUCKY', 'armed', 'peril', 'winter', 'penalty', 'cover', 'crone', 'strongest', 'stayed', 'Skip', 'first', 'window-dresser', 'mashed', 'can', 'officer', 'ni', 'Hya', 'certainly', 'last', 'sink', 'bum', 'What', 'my', 'call', 'place', 'set', 'samite', 'acting', 'riding', 'looney', 'interested', 'an', 'us', 'watery', 'Hoa', 'Greetings', ',', 'quack', 'elderberries', '13', 'mortally', 'laurels', 'brush', 'Aauuuves', 'Do', 'bladders', 'kingdom', 'daft', 'excuse', 'chanting', 'self-perpetuating', 'Said', 'nick', 'automatically', 'hat', 'disheartened', 'allowed', 'keepers', 'Pure', 'signifying', 'ugly', 'Hm', 'built', 'tinder', 'Too', 'legally', 'SHRUBBER', 'went', 'Ector', 'horn', 'heart', 'Woa', 'Thank', 'By', 'economic', 'Aagh', 'fair', 'You', 'stood', 'another', 'Uugh', 'water', 'Robinson', 'hear', 'little', 'see', 'wounded', 'purely', 'Or', 'warm', 'suit', 'humble', 'Splendid', 'ju', 'Yeah', 'pen', 'assault', 'bet', 'Here', 'whispering', 'stuffed', 'left', 'retold', 'Therefore', 'let', 'scots', 'from', 'Oooohoohohooo', 'obviously', 'Peng', 'kills', 'Galahad', 'had', 'Knight', 'eis', 'mate', 'glory', 'so-called', 'ordinary', 'bastards', 'the-not-quite-so-brave-as-Sir-Lancelot', 'stone', 'bitching', 'Piglet', \"'\", 'occasion', 'Beast', 'easy', 'matter', 'named', 'marry', 'what', 'lovely', 'carried', 'become', 'decision', 'shows', 'laughing', 'face', 'more', 'farcical', 'dancing', 'find', 'Aah', 'every', 'Listen', 'eet', 'retreat', 'enjoying', 'fine', 'clap', 'fortune', 'bold', 'Four', 'liver', 'pussy', 'bastard', 'Tower', 'creep', 'kneeling', 'vouchsafed', 'Loimbard', 'Hmm', 'Surely', 'oui', 'small', 'strange', 'request', 'taken', 'arrows', 'cry', 'lives', 'mayhem', 'entered', 'requiem', 'European', 'wield', 'magne', 'rather', 'CROWD', 'absolutely', 'fifty', 'Stand', 'Cornwall', 'bite', 'BORS', 'given', 'Together', 'bells', 'union', 'Ives', 'table', 'Heee', 'Prince', 'beds', 'arrange', 'mangled', 'l', 'regulations', 'indeed', 'split', 'five', 'sword', 'asking', 'nor', 'weapon', 'dub', 'as', 'ungallant', 'whoever', 'Oooo', 'cave', 'reared', 'SOLDIER', 'like', 'move', 'wise', '18', 'Nay', 'continue', 'bonk', 'door', 'Herbert', 'lambs', 'pimples', 'thonk', 'chickening', 'RANDOM', 'affairs', 'pulp', 'act', 'Dappy', 'Message', 'nervous', 'clad', 'ROGER', 'scared', 'FRENCH', 'seek', 'dear', 'goes', 'against', 'Alice', 'handle', \"'old\", 'once', 'either', 'scrape', 'Consult', 'imprisoned', 'Looks', 'well', 'sire', 'business', 'nine', 'bad', 'point', 'questions', 'deeds', 'bride', 'two-level', 'next', 'told', 'answer', '...', 'Providence', 'Tall', 'escape', 'burn', 'personally', 'Exactly', 'up', 'suppose', 'society', 'Supposing', 'Aaauggh', 'lady', 'vote', ':', 'fwump', 'Huh', 'ZOOT', 'wipers', 'buggering', 'whinny', 'Am', 'Charge', 'question', 'follow', 'arms', 'rocks', 'CARTOON', 'Meanwhile', 'thought', 'birds', 'Hiyaah', 'Pull', 'sniff', 'than', 'yet', 'outwit', 'private', 'guests', 'count', 'telling', 'along', 'push', 'north', 'particular', 'twin', 'Chapter', 'exciting', 'hell', 'known', 'temptress', 'clunk', 'Thppppt', 'HISTORIAN', 'each', 'binding', 'armor', 'lad', '19', 'Peril', 'routines', 'but', 'Allo', 'Camelot', 'land', 'getting', 'folk', 'considerable', 'alive', 'ENCHANTER', 'apologise', 'temperate', 'Huy', 'Make', 'offensive', 'owns', 'maintain', 'inherent', 'MAN', 'ran', 'Other', 'door-opening', 'sweet', 'delirious', 'Chicken', \"'uuggggggh\", 'stops', 'Forward', 'frontal', 'jam', 'already', 'arm', 'Nador', 'father', 'As', 'son', 'chest', 'Almighty', 'Hyy', 'baby', 'smack', 'ridden', 'la', 'Hey', 'work', 'finest', 'forced', 'headed', 'electric', 'attack', 'k-nnnnniggets', 'repressed', 'nothing', 'NARRATOR', 'bones', \"'Course\", 'thou', 'Quite', 'example', 'husk', 'evil', 'false', 'Guards', 'twong', 'Forgive', 'U', 'guest', 'problems', 'ratified', 'Ah', 'burned', 'warned', '23', 'Enchanter', 'logically', 'Stay', 'aunties', 'could', 'asks', 'purpose', 'thing', 'Bon', 'helpful', 'go', \"'ni\", 'Farewell', 'outside', 'visually', 'Packing', 'Over', 'rewr', 'help', 'people', 'bang', 'join', 'Blue', 'lapin', 'Autumn', 'BRIDE', 'Ask', 'nibble', 'outrageous', 'biggest', 'strangers', 'died', 'word', 'u', 'diaphragm', 'hospitality', 'Britain', 'lot', 'uuup', 'consulted', 'blow', 'Chickennn', 'DIRECTOR', 'temptation', 'DEAD', 'Caerbannog', 'police', 'will', 'True', 'witness', 'new', 'war', 'sorry', 'VILLAGERS', 'stress', 'Aauuggghhh', 'nasty', 'give', 'foe', 'stop', 'blessing', 'OF', 'Holy', 'dirty', 'dynamite', 'expensive', 'throwing', 'heads', 'number', 'ehh', 'HEADS', 'food', 'far', 'radio', \"C'est\", 'feet', 'harmless', 'chosen', 'whose', 'Bread', '14', 'danger', 'Hiyya', 'Bristol', 'Lake', 'throughout', 'Arthur', 'clue', 'today', 'Ayy', 'Frank', 'depart', 'worst', 'bravely', 'bleed', 'Everything', 'Then', 'appease', 'Dragon', 'Lead', 'made', 'non-migratory', 'groveling', 'keep', 'valor', 'any', 'CRONE', 'shalt', 'When', 'Rather', 'KING', 'over', 'The', 'ratios', 'aptly', '21', 'heard', 'sir', 'person', 'GIRLS', 'shit', 'threw', 'towards', 'me', 'enemies', 'Divine', 'bridges', 'sequin', 'kick', 'out', 'town', 'sun', 'too', 'aaaaaah', 'lived', 'mud', 'ones', 'convinced', 'Fetchez', 'large', 'trough', 'knew', 'Schools', 'own', 'throat', 'honored', 'pounds', 'house', 'Doctor', 'how', 'spank', 'ptoo', 'OFFICER', 'herring', 'Sir', 'animal', 'No', 'present', 'Really', 'doors', 'happens', 'cruel', 'legs', 'busy', 'impeccable', '8', 'spooky', 'frozen', 'seldom', 'again', 'ride', 'MIDGET', 'uhh', 'Black', 'Have', 'accent', 'fatal', \"'aaggggh\", 'carve', 'end', 'That', 'witch', 'ROBIN', 'treat', 'stay', 'rest', 'Aaaugh', 'beat', 'Assyria', 'bed', 'fourth', 'forward', 'near', 'Death', 'He', 'Ay', 'heeh', 'defeator', ']', 'headoff', 'come', 'Grenade', 'where', 'doubt', 'basis', 'sawwwww', 'rabbit', 'wave', 'women', 'w', 'Aaaaaaaah', 'bond', 'three', 'behind', 'lobbest', 'bows', 'shrubberies', 'dappy', 'boil', 'single-handed', 'such', 'test', 'halves', 'rope', 'gave', 'HERBERT', 'or', 'Hello', 'Ulk', 'dare', 'between', 'GALAHAD', 'stew', 'blood', 'Would', 'Mmm', 'Actually', 'Churches', 'hee', 'profane', 'week', 'Right', 'conclusions', 'whop', 'Firstly', 'thump', 'African', 'siren', 'Dennis', 'travellers', 'pram', 'On', 'PATSY', 'know', '4', 'language', 'dictatorship', 'Shrubber', 'take', 'spake', 'Table', 'Speak', 'bicker', 'guided', 'van', 'HEAD', 'sank', 'dress', 'Try', 'buy', 'minute', 'fight', 'bowels', 'Not-appearing-in-this-film', 'fell', 'sense', 'earthquakes', 'Could', 'unsingable', 'limbs', 'traveller', 'dull', 'Never', 'tale', 'LOVELY', 'Bad', 'still', 'Ho', 'twenty-four', 'since', 'yes', 'ANIMATOR', 'flint', 'worried', 'Gable', 'marrying', 'model', 'passing', 'largest', 'times', 'joyful', 'tops', 'bunny', 'down', 'God', 'sharp', \"'Ere\", 'completely', 'Grail', \"'Dennis\", 'Clear', 'mercy', 'wings', 'aloft', 'i', 'beyond', 'lonely', 'howl', 'wayy', 'peasant', 'Seek', 'illegitimate-faced', 'Mud', 'put', 'PRINCE', 'clang', 'Yapping', 'if', 'strength', '6', 'science', 'lads', 'rode', 'martin', 'minstrels', 'sovereign', 'leave', 'VOICE', \"'s\", \"'Ni\", 'Remove', 'without', 'welcome', 'git', 'kind', 'lunged', 'unladen', '!', 'having', 'sigh', 'SUN', 'voluntarily', 'N', 'used', 'pweeng', 'knocked', 'Nu', 'wonderful', 'GUARDS', 'fallen', 'return', 'must', 'jump', 'examine', 'thirty-seven', 'wound', 'moistened', \"'Aauuuuugh\", 'Shut', 'kneecaps', 'maybe', 'Ni', 'sod', 'THE', 'problem', 'she', 'assist', 'nearer', 'taunt', 'Just', 'thank', 'Wood', 'feel', 'b', 'lie', 'SIR', 'command', 'fled', 'grovel', 'commands', 'Well', 'Bedwere', 'Chaste', 'France', 'LAUNCELOT', 'feint', 'SENTRY', 'Hold', 'shall', 'Those', 'Thee', 'anarcho-syndicalist', 'aside', 'MONKS', 'boys', 'distress', 'glass', 'color', 'doing', 'think', 'Amen', 'wishes', 'Stop', '--', 'B', 'prevent', 'send', 'tit', 'We', 'liege', 'wounding', 'entrance', 'Chop', 'build', 'only', 'See', 'cough', 'Picture', 'Prepare', 'For', \"'Here\", 'best', 'An', 'biters', 'Bravely', 'Like', \"'sorry\", 'sponge', 'please', 'Aramaic', 'islands', 'centuries', 'Dramatically', \"'Man\", 'y', 'Your', 'nose', 'covered', 'spam', 'have', 'bois', 'newt', 'King', 'lying', 'bits', 'underwear', 'which', 'then', 'shrubbery', 'Bedevere', 'sort', 'Neee-wom', 'sworn', 'Defeat', 'Where', 'proved', 'should', 'grin', 'under', 'emperor', 'silly', 'lucky', 'Ohh', 'scene', 'excepting', 'refuse', 'mangy', 'show', 'drink', 'Court', 'pissing', 'Good', 'certain', 'smelt', 'climes', 'these', 'warning', 'quarrel', 'Excalibur', 'met', 'working', 'sure', 'brain', 'else', 'nice', 'therefore', \"'Morning\", 'taking', 'verses', 'BRIDGEKEEPER', 'necessary', 'grips', 'vain', 'ask', 'chord', 'soiled', 'Joseph', 'wide', 'Nothing', 'lord', 'glad', 'himself', 'room', 'executive', 'clop', 'on', 'brave', 'string', 'Back', 'pure', 'starling', 'he', 'heroic', 'leap', 'Um'}\n"
     ]
    }
   ],
   "source": [
    "# Import necessary modules\n",
    "from nltk.tokenize import sent_tokenize\n",
    "from nltk.tokenize import word_tokenize\n",
    "\n",
    "# Split scene_one into sentences: sentences\n",
    "sentences = sent_tokenize(scene_one)\n",
    "\n",
    "# Use word_tokenize to tokenize the fourth sentence: tokenized_sent\n",
    "tokenized_sent = word_tokenize(sentences[3])\n",
    "\n",
    "# Make a set of unique tokens in the entire scene: unique_tokens\n",
    "unique_tokens = set(word_tokenize(scene_one))\n",
    "\n",
    "# Print the unique tokens result\n",
    "print(unique_tokens)"
   ]
  },
  {
   "cell_type": "markdown",
   "metadata": {},
   "source": [
    "$\\blacktriangleright$ **Package pre-loading:**"
   ]
  },
  {
   "cell_type": "code",
   "execution_count": 8,
   "metadata": {
    "ExecuteTime": {
     "end_time": "2020-12-24T22:32:24.292700Z",
     "start_time": "2020-12-24T22:32:24.282717Z"
    }
   },
   "outputs": [],
   "source": [
    "import re"
   ]
  },
  {
   "cell_type": "markdown",
   "metadata": {},
   "source": [
    "$\\blacktriangleright$ **Regex (`re.search()`) practice:**"
   ]
  },
  {
   "cell_type": "code",
   "execution_count": 9,
   "metadata": {
    "ExecuteTime": {
     "end_time": "2020-12-24T22:32:24.310368Z",
     "start_time": "2020-12-24T22:32:24.304215Z"
    }
   },
   "outputs": [
    {
     "name": "stdout",
     "output_type": "stream",
     "text": [
      "580 588\n"
     ]
    }
   ],
   "source": [
    "# Search for the first occurrence of \"coconuts\" in scene_one: match\n",
    "match = re.search(\"coconuts\", scene_one)\n",
    "\n",
    "# Print the start and end indexes of match\n",
    "print(match.start(), match.end())"
   ]
  },
  {
   "cell_type": "code",
   "execution_count": 10,
   "metadata": {
    "ExecuteTime": {
     "end_time": "2020-12-24T22:32:24.326891Z",
     "start_time": "2020-12-24T22:32:24.313892Z"
    }
   },
   "outputs": [
    {
     "name": "stdout",
     "output_type": "stream",
     "text": [
      "<re.Match object; span=(9, 32), match='[wind] [clop clop clop]'>\n"
     ]
    }
   ],
   "source": [
    "# Write a regular expression to search for anything in square brackets: pattern1\n",
    "pattern1 = r\"\\[.*\\]\"\n",
    "\n",
    "# Use re.search to find the first text in square brackets\n",
    "print(re.search(pattern1, scene_one))"
   ]
  },
  {
   "cell_type": "code",
   "execution_count": 11,
   "metadata": {
    "ExecuteTime": {
     "end_time": "2020-12-24T22:32:24.340624Z",
     "start_time": "2020-12-24T22:32:24.329944Z"
    }
   },
   "outputs": [
    {
     "name": "stdout",
     "output_type": "stream",
     "text": [
      "<re.Match object; span=(0, 7), match='ARTHUR:'>\n"
     ]
    }
   ],
   "source": [
    "# Find the script notation at the beginning of the fourth sentence and print it\n",
    "pattern2 = r\"[\\w\\s#]+:\"\n",
    "print(re.match(pattern2, sentences[3]))"
   ]
  }
 ],
 "metadata": {
  "kernelspec": {
   "display_name": "Python 3",
   "language": "python",
   "name": "python3"
  },
  "language_info": {
   "codemirror_mode": {
    "name": "ipython",
    "version": 3
   },
   "file_extension": ".py",
   "mimetype": "text/x-python",
   "name": "python",
   "nbconvert_exporter": "python",
   "pygments_lexer": "ipython3",
   "version": "3.7.6"
  },
  "latex_envs": {
   "LaTeX_envs_menu_present": true,
   "autoclose": true,
   "autocomplete": true,
   "bibliofile": "biblio.bib",
   "cite_by": "apalike",
   "current_citInitial": 1,
   "eqLabelWithNumbers": true,
   "eqNumInitial": 1,
   "hotkeys": {
    "equation": "Ctrl-E",
    "itemize": "Ctrl-I"
   },
   "labels_anchors": false,
   "latex_user_defs": false,
   "report_style_numbering": true,
   "user_envs_cfg": true
  },
  "nbTranslate": {
   "displayLangs": [
    "*"
   ],
   "hotkey": "alt-t",
   "langInMainMenu": true,
   "sourceLang": "en",
   "targetLang": "fr",
   "useGoogleTranslate": true
  },
  "toc": {
   "base_numbering": 1,
   "nav_menu": {},
   "number_sections": true,
   "sideBar": true,
   "skip_h1_title": false,
   "title_cell": "Table of Contents",
   "title_sidebar": "Contents",
   "toc_cell": false,
   "toc_position": {
    "height": "calc(100% - 180px)",
    "left": "10px",
    "top": "150px",
    "width": "288px"
   },
   "toc_section_display": true,
   "toc_window_display": true
  },
  "varInspector": {
   "cols": {
    "lenName": 16,
    "lenType": 16,
    "lenVar": 40
   },
   "kernels_config": {
    "python": {
     "delete_cmd_postfix": "",
     "delete_cmd_prefix": "del ",
     "library": "var_list.py",
     "varRefreshCmd": "print(var_dic_list())"
    },
    "r": {
     "delete_cmd_postfix": ") ",
     "delete_cmd_prefix": "rm(",
     "library": "var_list.r",
     "varRefreshCmd": "cat(var_dic_list()) "
    }
   },
   "types_to_exclude": [
    "module",
    "function",
    "builtin_function_or_method",
    "instance",
    "_Feature"
   ],
   "window_display": true
  }
 },
 "nbformat": 4,
 "nbformat_minor": 4
}
