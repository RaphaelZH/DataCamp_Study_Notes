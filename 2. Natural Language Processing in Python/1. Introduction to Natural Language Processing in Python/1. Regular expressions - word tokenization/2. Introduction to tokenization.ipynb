{
 "cells": [
  {
   "cell_type": "markdown",
   "metadata": {
    "ExecuteTime": {
     "end_time": "2020-07-24T11:20:21.989524Z",
     "start_time": "2020-07-24T11:20:12.960881Z"
    }
   },
   "source": [
    "```\n",
    "#############################################\n",
    "##                                         ##\n",
    "##  Natural Language Processing in Python  ##\n",
    "##                                         ##\n",
    "#############################################\n",
    "\n",
    "§1 Introduction to Natural Language Processing in Python\n",
    "\n",
    "§1.1 Regular expressions & word tokenization\n",
    "```"
   ]
  },
  {
   "cell_type": "markdown",
   "metadata": {},
   "source": [
    "# Introduction to tokenization"
   ]
  },
  {
   "cell_type": "markdown",
   "metadata": {},
   "source": [
    "## What is tokenization?\n",
    "\n",
    "* It turns a string or document into tokens (smaller chunks).\n",
    "\n",
    "* It's one step in preparing a text for NLP.\n",
    "\n",
    "* It has many different theories and rules.\n",
    "\n",
    "* Users can create their own rules using regular expressions.\n",
    "\n",
    "* There are some examples:\n",
    "\n",
    "\t* *breaking out words or sentences*\n",
    "    \n",
    "\t* *separating punctuation*\n",
    "    \n",
    "\t* *separating all hashtags in a tweet*"
   ]
  },
  {
   "cell_type": "markdown",
   "metadata": {},
   "source": [
    "## What is the `NLTK` library?\n",
    "\n",
    "* `NLTK`: Natural Language Toolkit"
   ]
  },
  {
   "cell_type": "markdown",
   "metadata": {},
   "source": [
    "## Code of the `NLTK` library:"
   ]
  },
  {
   "cell_type": "code",
   "execution_count": 1,
   "metadata": {
    "ExecuteTime": {
     "end_time": "2020-12-28T00:11:01.818090Z",
     "start_time": "2020-12-28T00:10:57.532884Z"
    }
   },
   "outputs": [
    {
     "data": {
      "text/plain": [
       "['Hi', 'there', '!']"
      ]
     },
     "execution_count": 1,
     "metadata": {},
     "output_type": "execute_result"
    }
   ],
   "source": [
    "from nltk.tokenize import word_tokenize\n",
    "\n",
    "word_tokenize(\"Hi there!\")"
   ]
  },
  {
   "cell_type": "markdown",
   "metadata": {
    "ExecuteTime": {
     "end_time": "2020-12-20T20:08:55.570909Z",
     "start_time": "2020-12-20T20:08:55.565185Z"
    }
   },
   "source": [
    "## Why tokenize?\n",
    "\n",
    "* Easier to map part of speech.\n",
    "\n",
    "* To match common words.\n",
    "\n",
    "* To remove unwanted tokens.\n",
    "\n",
    "* E.g., \n",
    "\n",
    "    ```\n",
    "    >>> word_tokenize(\"I don't like Sam's shoes.\")\n",
    "    ['I', 'do', \"n't\", 'like', 'Sam', \"'s\", 'shoes', '.']\n",
    "    ```"
   ]
  },
  {
   "cell_type": "markdown",
   "metadata": {},
   "source": [
    "## What are the other `NLTK` tokenizers?\n",
    "\n",
    "* `sent_tokenize`: tokenize a document into sentences.\n",
    "\n",
    "* `regexp_tokenize`: tokenize a string or document based on a regular expression pattern.\n",
    "\n",
    "* `TweetTokenizer`: special class just for tweet tokenization, allowing separate hashtags, mentions, and lots of exclamation points, such as '!!!'."
   ]
  },
  {
   "cell_type": "markdown",
   "metadata": {},
   "source": [
    "## Code of regex practice (the difference between `re.search()` and `re.match()`):"
   ]
  },
  {
   "cell_type": "code",
   "execution_count": 2,
   "metadata": {
    "ExecuteTime": {
     "end_time": "2020-12-28T00:11:01.848018Z",
     "start_time": "2020-12-28T00:11:01.833632Z"
    }
   },
   "outputs": [
    {
     "data": {
      "text/plain": [
       "<re.Match object; span=(0, 3), match='abc'>"
      ]
     },
     "execution_count": 2,
     "metadata": {},
     "output_type": "execute_result"
    }
   ],
   "source": [
    "import re\n",
    "\n",
    "re.match('abc', 'abcde')"
   ]
  },
  {
   "cell_type": "code",
   "execution_count": 3,
   "metadata": {
    "ExecuteTime": {
     "end_time": "2020-12-28T00:11:01.876638Z",
     "start_time": "2020-12-28T00:11:01.860694Z"
    }
   },
   "outputs": [
    {
     "data": {
      "text/plain": [
       "<re.Match object; span=(0, 3), match='abc'>"
      ]
     },
     "execution_count": 3,
     "metadata": {},
     "output_type": "execute_result"
    }
   ],
   "source": [
    "re.search('abc', 'abcde')"
   ]
  },
  {
   "cell_type": "code",
   "execution_count": 4,
   "metadata": {
    "ExecuteTime": {
     "end_time": "2020-12-28T00:11:01.890880Z",
     "start_time": "2020-12-28T00:11:01.883592Z"
    }
   },
   "outputs": [],
   "source": [
    "re.match('cd', 'abcde')"
   ]
  },
  {
   "cell_type": "code",
   "execution_count": 5,
   "metadata": {
    "ExecuteTime": {
     "end_time": "2020-12-28T00:11:01.914996Z",
     "start_time": "2020-12-28T00:11:01.901198Z"
    }
   },
   "outputs": [
    {
     "data": {
      "text/plain": [
       "<re.Match object; span=(2, 4), match='cd'>"
      ]
     },
     "execution_count": 5,
     "metadata": {},
     "output_type": "execute_result"
    }
   ],
   "source": [
    "re.search('cd', 'abcde')"
   ]
  },
  {
   "cell_type": "markdown",
   "metadata": {},
   "source": [
    "## Practice exercises for introduction to tokenization:\n",
    "\n",
    "$\\blacktriangleright$ **Data pre-loading:**"
   ]
  },
  {
   "cell_type": "code",
   "execution_count": 6,
   "metadata": {
    "ExecuteTime": {
     "end_time": "2020-12-28T00:11:01.949617Z",
     "start_time": "2020-12-28T00:11:01.927890Z"
    }
   },
   "outputs": [],
   "source": [
    "scene_one = open(\"ref2. Monty Python and the Holy Grail.txt\").read()"
   ]
  },
  {
   "cell_type": "markdown",
   "metadata": {
    "ExecuteTime": {
     "end_time": "2020-12-19T22:02:33.692343Z",
     "start_time": "2020-12-19T22:02:33.687220Z"
    }
   },
   "source": [
    "$\\blacktriangleright$ **`NLTK` word tokenization with practice:**"
   ]
  },
  {
   "cell_type": "code",
   "execution_count": 7,
   "metadata": {
    "ExecuteTime": {
     "end_time": "2020-12-28T00:11:02.410520Z",
     "start_time": "2020-12-28T00:11:01.962348Z"
    }
   },
   "outputs": [
    {
     "name": "stdout",
     "output_type": "stream",
     "text": [
      "{\"'round\", 'hospitality', 'tiny-brained', 'illustrious', 'anywhere', 'dressing', '..', 'l', 'largest', 'Here', 'good', 'Badon', 'Bravest', 'very', 'the', 'decision', 'has', 'bicker', 'leg', 'breakfast', 'Keep', 'Oooohoohohooo', 'Hoo', 'suffered', 'joyful', 'badger', 'stayed', 'guests', 'Wood', 'hundred-and-fifty', 'they', 'U', 'sweet', 'lucky', '(', 'Consult', 'spooky', 'guest', 'boom', 'told', 'Dis-mount', 'best', 'in', 'Together', 'Tell', 'Shrubberies', 'Hiyya', 'snore', 'bows', 'may', 'worthy', 'medical', 'Thpppt', 'repressed', 'legally', 'liar', 'animal', 'packing', 'git', 'economic', '13', 'nearer', 'Dappy', 'separate', 'tinder', 'out', 'needs', 'quiet', 'Midget', 'sure', 'mud', 'PATSY', 'fine', 'held', 'PRINCE', 'baby', 'hacked', 'quest', 'police', 'outwit', 'armed', 'stood', 'art', 'Over', 'Clear', 'uh', 'Aaagh', 'three', 'bunny', 'week', 'Grail', 'Picture', 'Yeaaah', 'unplugged', 'luck', 'round', 'accompanied', 'Listen', 'pond', 'cadeau', 'Action', 'problem', 'did', 'Make', 'apologise', 'setting', 'looked', 'woods', 'five', 'Why', 'these', 'yourself', 'GUARD', 'compared', 'Ector', 'Walk', 'split', 'clop', 'bits', 'cope', 'a', 'send', 'aptly', 'WITCH', 'vache', 'always', 'sovereign', 'Yeah', 'de', 'alarm', 'watch', 'Peril', 'dine', 'castle', 'each', 'underwear', 'friend', '!', 'laurels', 'Torment', 'Eee', 'etc', 'shut', 'people', 'brain', 'country', 'Nu', 'draw', 'conclusion', '?', 'dappy', 'Hello', 'certainly', 'bold', 'real', 'Three', 'whop', 'mandate', 'headed', 'have', ':', 'awaits', \"'Ecky-ecky-ecky-ecky-pikang-zoop-boing-goodem-zoo-owli-zhiv\", 'Did', 'bones', 'velocity', 'Anybody', 'humble', 'Well', 'My', \"'d\", 'servant', 'vicious', 'refuse', 'excuse', 'invincible', 'lot', 'bed-wetting', 'Brother', 'miss', 'bleed', 'science', 'living', 'forty-three', 'committed', 'wherein', 'Not', 'bois', 'masses', 'inherent', 'other', 'Mmm', 'Dingo', 'seems', 'doing', 'killed', 'Quiet', 'suggesting', 'walking', 'man', 'yelling', 'afraid', '7', 'simple', 'By', '#', 'disheartened', 'pen', 'singing', 'birds', 'rodent', 'France', 'bother', 'whose', 'Say', 'God', 'since', 'why', 'changed', 'Alright', 'again', 'her', 'Dragon', 'hamster', 'pram', 'rejoicing', 'straight', 'accent', 'any', 'SECOND', 'bird', 'work', 'Guy', 'Attila', 'strewn', 'questions', 'keep', 'lying', 'HISTORIAN', 'times', 'Ha', 'treat', 'gay', 'return', 'migrate', 'history', 'Iiiiives', 'agree', 'come', 'scrape', 'arrange', 'protect', 'Found', 'knights', 'closest', 'Iiiives', 'individually', 'Fetchez', 'husk', 'maybe', 'splat', 'period', 'just', 'Bristol', 'nothing', 'CARTOON', 'owns', 'looking', 'presence', 'cover', 'ooh', 'end', 'nineteen-and-a-half', 'Aaaaaaaaah', 'baaaa', 'howl', 'mad', 'strange', 'blessing', 'Bad', 'recover', 'foe', 'take', 'van', 'middle', 'all', 'knows', 'full', \"'Man\", 'Ulk', 'wo', 'averting', 'donkey-bottom', 'FRENCH', 'sight', 'reared', 'weighs', 'feathers', 'Oooo', 'spank', 'passed', 'woosh', 'aaaaaah', 'dead', 'night', 'eat', 'hell', 'Between', \"'To\", 'tea', 'absolutely', 'AMAZING', 'home', 'Quoi', 'twenty', 'every', 'scene', 'yellow', 'He', 'know', 'the-not-quite-so-brave-as-Sir-Lancelot', 'heeh', 'Ni', 'reads', \"'uuggggggh\", 'purely', 'Hang', 'you', 'basis', 'spoken', 'internal', 'kill', 'Lake', 'acting', 'cop', 'water', 'halves', 'ninepence', 'arms', 'voluntarily', 'autonomous', 'old', 'OF', 'Do', 'outdoors', 'snuff', 'Camelot', 'should', 'Twenty-one', 'jokes', 'use', 'bint', 'terribly', 'throughout', 'cross', '8', 'At', 'imperialist', 'attack', 'makes', 'as', 'Robinson', 'bottom', 'GIRLS', 'previous', 'Therefore', 'heroic', 'Charge', 'Table', 'carp', 'Camaaaaaargue', 'aloft', 'power', 'valor', 'ponds', 'lambs', 'sign', 'Chicken', 'next', 'Death', 'Winston', 'Pure', 'Supposing', 'want', 'enter', 'chops', \"'til\", \"'\", 'chorus', 'Thpppppt', 'Swamp', 'evil', 'Get', 'returns', 's', 'than', 'Oh', 'Aauuggghhh', 'entered', 'Tall', 'enjoying', 'smashing', 'busy', 'Never', 'sample', 'marry', 'African', 'scarper', 'at', 'he', 'follow', 'freedom', 'Meanwhile', 'get', 'heart', 'look', 'says', 'impersonate', 'witness', 'fourth', 'Bring', 'SCENE', 'wonderful', 'A', 'able', 'cut', '23', 'wrong', 'footwork', 'totally', 'bats', 'aaugh', 'carries', 'are', 'making', 'union', 'cart', 'carve', 'dunno', 'o', 'NARRATOR', 'bringing', 'pansy', 'somewhere', 'Angnor', 'minstrels', 'banana-shaped', 'violence', 'Wayy', 'question', 'Umhm', 'Which', 'Now', 'help', 'snap', 'Herbert', 'roar', 'tail', 'undressing', 'looks', 'indeed', 'W', 'beautiful', 'arm', 'rest', 'trouble', 'emperor', 'dogma', 'Court', 'Behold', 'happy', 'Welcome', 'although', 'zone', 'surprise', 'radio', 'moment', 'became', 'were', 'sonny', 'training', 'place', 'ran', 'scott', 'clllank', 'telling', 'risk', 'thought', 'shrubbery', 'dictating', 'bugger-folk', 'soiled', 'fell', 'fatal', 'personally', 'witch', 'kick', 'CRASH', 'eh', '.', 'worried', 'count', 'shrubber', 'PIGLET', 'ordinary', 'Right', 'bonk', 'Of', 'Is', \"'First\", 'relax', '17', 'business', 'jump', 'MIDGET', 'bed', 'twong', 'day', 'sire', 'Thank', 'routines', \"'Here\", 'wiper', 'hiyaah', 'last', 'face', 'sacred', 'strangers', 'suffice', 'Perhaps', 'OLD', 'Dennis', 'bowels', 'ALL', 'resting', 'Victory', 'Lord', 'certain', 'Concorde', 'NI', 'GALAHAD', 'dance', 'BLACK', 'find', 'we', 'Gorge', 'pussy', 'earth', 'far', '15', 'GUEST', 'considerable', 'kingdom', 'haste', 'Lie', 'Thppt', 'travellers', 'Today', 'Shut', 'lose', 'called', 'b', '--', 'Pendragon', 'those', 'shelter', 'taken', 'Yup', 'further', 'Quickly', 'band', 'therefore', 'Anarcho-syndicalism', 'soft', 'glory', 'jam', 'Fine', 'Really', 'Since', 'ptoo', 'quick', 'scales', 'martin', 'We', 'understand', 'medieval', '3', 'ways', '...', 'Other', 'somebody', 'asking', 'pull', 'MIDDLE', 'gra', 'got', 'Heh', 'stretched', '24', 'bond', 'Quick', 'an', 'social', 'Every', 'horrendous', 'Remove', 'bravest', 'purpose', 'magne', 'escape', 'over', 'brunettes', 'sloths', 'system', 'Sir', 'small', 'wield', 'guard', 'sort', 'scratch', 'trough', 'heads', 'weight', 'Hand', 'fart', '16', 'answer', 'more', 'kills', 'completely', 'Cut', 'Our', 'King', 'gave', 'our', 'affairs', 'favorite', 'obviously', 'Assyria', 'capital', 'command', 'alive', 'Himself', 'occasion', 'huge', 'can', 'blood', 'In', 'with', 'government', 'be', 'mangy', 'tops', 'bangin', 'your', 'Old', 'ai', 'seldom', 'rewr', '20', 'unsingable', 'still', 'town', 'valiant', 'entering', 'breadth', 'pounds', 'er', 'Packing', 'requiem', 'Idiom', 'such', 'attend', 'design', 'On', 'indefatigable', 'clear', 'wan', 'His', 'scholar', 'g', 'force', 'Aggh', 'anarcho-syndicalist', 'expect', 'strongest', 'gouged', 'into', 'Beyond', 'wishes', 'illegitimate-faced', 'ruffians', 'Gallahad', 'today', \"'Oooooooh\", 'coming', 'by', 'yel', 'INSPECTOR', 'samite', 'daughter', 'basic', 'cave', 'Ages', 'Hill', 'Stand', 'knock', 'Practice', 'And', 'food', 'perpetuates', 'Thou', 'aquatic', \"'ni\", 'Hm', 'stress', 'idea', 'nightfall', 'horn', 'Loimbard', 'dying', 'profane', 'Winter', 'sod', 'honored', 'Bread', 'yet', 'Iesu', 'CROWD', 'required', 'does', 'horse', 'allowed', 'dona', \"'ll\", 'merger', 'between', 'Hooray', 'am', 'of', 'major', 'behaviour', 'Crapper', 'knew', 'BROTHER', 'removed', 'chest', 'moistened', 'dangerous', 'biters', 'lived', 'house', 'Enchanter', 'scots', 'knocked', 'Dramatically', 'sworn', \"'forgive\", 'biscuits', 'bosom', 'sad', 'bells', 'biggest', 'minute', 'rhymes', 'when', 'will', 'safety', 'lads', 'thanks', 'war', 'strategy', 'ridden', 'tackle', 'eet', 'Ewing', 'only', 'Must', 'runes', 'mayest', 'dare', 'approaching', 'while', 'Aauuuves', 'another', 'scenes', 'hospital', 'grenade', 'logically', 'un', 'chastity', 'Stay', 'Bors', 'Honestly', 'shit', 'anyone', 'CHARACTER', 'self-perpetuating', 'necessary', 'tracts', 'mercy', 'pig-dogs', 'donaeis', 'Running', 'spam', 'nine', 'commands', 'temptress', 'Prince', 'For', 'Saint', 'influential', 'newt', 'sir', 'leave', 'crash', 'pray', \"'m\", 'had', 'because', 'eight', 'See', 'them', 'couple', 'vary', 'GUARDS', 'many', 'stand', 'oh', 'Agh', 'king', 'using', 'stops', 'gained', 'holy', 'automatically', 'Hah', 'orangutans', 'fought', 'object', 'fellows', 'it', 'u', 'burn', 'turned', 'pissing', 'who', 'haaa', 'which', 'Your', 'climes', 'Y', 'buggering', 'soon', 'bridges', 'found', 'tropical', 'ladies', 'shivering', 'proceed', 'wounding', 'wise', 'STUNNER', \"'aaaah\", 'side', 'Like', 'sank', 'easily', 'Exactly', 'k-nnnnniggets', 'SUN', 'keepers', 'distributing', 'purest', 'remember', 'smashed', 'meant', 'LUCKY', 'sometimes', 'Ahh', 'Steady', 'meeting', 'They', 'Hyy', 'Chaste', 'auntie', 'Ives', 'Hmm', 'May', 'gone', 'lobbed', 'chickened', 'bridgekeeper', 'length', 'Not-appearing-in-this-film', 'rode', 'stone', 'tired', 'nervous', 'Firstly', 'made', 'Hold', 'w', 'Uh', 'Round', 'big', 'out-clever', 'men', 'herring', 'fooling', 'Great', 'thwonk', 'Black', 'case', 'enemies', 'assault', 'PRINCESS', 'With', 'really', 'Yes', 'clue', 'started', 'son', 'grips', 'triumphs', 'handsome', 'Hallo', 'Excuse', 'cruel', 'Holy', 'reached', 'continue', 'testicles', ';', 'fire', 'dramatic', 'verses', 'heard', 'bid', 'PRISONER', 'Even', 'n', 'music', '9', 'Ay', 'Aauuugh', 'until', 'mooo', 'mortally', 'warning', 'Lucky', 'GREEN', 'ca', 'seek', 'vain', 'vests', 'outdated', 'earthquakes', 'hmm', 'going', 'SIR', '10', 'cry', 'Patsy', 'Heee', 'courage', 'gravy', 'Grenade', 'visually', 'preserving', 'test', 'him', 'after', 'Ow', 'make', 'Fiends', 'without', 'Thppppt', 'armor', 'his', 'effect', 'trade', 'call', 'Haw', 'Man', 'eyes', 'derives', 'mightiest', 'HEAD', 'Castle', 'SHRUBBER', 'nick', 'penalty', 'guarded', 'swallows', 'types-a', 'back', 'N', 'little', 'lord', 'beside', 'dub', 'HEADS', 'Defeat', 'tragic', 'too', 'rich', 'bravely', 'na', 'plain', 'BEDEVERE', 'Build', 'Rather', 'ounce', 'girl', 'table', 'unladen', 'sent', 'harmless', 'towards', 'advancing', 'forward', 'whoever', 'lair', 'peril', 'perilous', 'O', 'kneecaps', 'tonight', 'lady', 'supreme', 'Four', 'mile', 'RIGHT', 'discovers', 'Hiyah', 'liege', 'Autumn', 'Tale', 'warmer', 'Please', 'oooh', 'Silence', 'off', 'Zoot', 'Uther', 'autocracy', 'haw', 'Be', 'Throw', 'bi-weekly', 'same', 'auuuuuuuugh', 'fortune', 'vital', 'GUESTS', 'frighten', 'anchovies', 'Unfortunately', 'its', 'large', 'near', 'PERSON', 'unarmed', 'set', 'carving', 'Frank', 'Monsieur', 'electric', 'exploiting', 'live', 'ENCHANTER', 'enchanter', 'rope', 'zoosh', 'pack', 'Oooh', 'warned', 'Recently', 'against', 'swords', 'Olfin', 'Maynard', 'yes', 'woman', 'miserable', 'Doctor', 'uuggggggh', 'Hiyaah', 'B', 'noise', 'spanked', 'is', 'Battle', 'not', 'words', 'built', 'settles', 'some', 'flights', 'nice', 'tough', 'bit', 'how', 'fwump', 'mac', 'ready', 'least', 'body', 'forced', 'young', 'or', 'Waa', 'something', 'feel', \"'Erbert\", 'amazes', 'behold', 'England', 'great', 'Follow', 'guided', 'Open', 'used', 'Have', 'sigh', 'Piglet', 'Pin', 'thy', 'twin', 'Where', '6', 'saved', 'avenged', 'carrying', 'names', 'formed', 'whom', 'Almighty', 'If', 'ceremony', 'single-handed', 'throwing', 'Hoa', 'felt', 'weapon', 'Knights', 'counting', 'farcical', 'Far', 'Amen', 'note', 'Hic', 'Neee-wom', 'Pull', 'two-level', 'mistake', 'clack', \"'anging\", 'already', 'i', 'burst', 'forest', 'favor', 'stop', 'Prepare', 'Aaaugh', 'third', 'sequin', 'carved', 'Huh', 'Umm', 'retold', 'tale', 'kind', 'swamp', 'explain', 'Ninepence', 'accomplished', 'wart', 'awhile', 'Then', 'guards', 'where', 'ratified', 'enough', 'DENNIS', 'wayy', 'Huy', 'must', 'now', 'room', 'on', 'scribble', 'creak', 'Britons', 'utterly', 'give', 'thou', 'OTHER', 'never', 'person', 'bastards', 'yours', 'sponge', 'eis', 'flint', 'aunties', 'here', 'Shh', 'appease', 'would', 'went', 'THE', 'saying', 'one', 'Uuh', 'waste', 'Gable', 'plover', 'string', 'marrying', 'sorry', 'learning', 'Mud', 'Actually', 'comin', \"'Til\", 'aside', 'knight', 'ferocity', 'Splendid', 'progress', 'lost', 'lies', 'me', 'siren', 'clad', 'do', 'Woa', 'even', 'suit', 'sawwwww', \"n't\", 'false', 'Skip', 'two-thirds', 'shalt', 'bitching', 'True', 'majority', 'Greetings', 'sun', 'classes', 'idiom', 'Until', 'class', 'asks', 'push', 'Hey', 'pulp', 'performance', 'private', 'might', 'bleeder', 'Help', 'kneeling', 'ho', 'sex', 'carry', 'Said', 'pause', 'welcome', 'curtains', 'air-speed', 'new', 'either', 'Use', 'and', 'rabbit', 'Quite', 'sink', 'Farewell', 'bite', 'dorsal', 'tiny', 'leap', 'wants', 'helpful', 'How', 'general', 'bathing', 'keeper', 'present', 'Apples', 'blow', 'entrance', 'ugly', 'successful', 'most', 'HERBERT', 'pweeng', 'The', 'fruit', 'late', 'ride', 'else', '14', 'chord', 'ethereal', 'creeper', 'glass', 'anyway', 'grail', 'maintain', 'defeator', 'guiding', 'tap-dancing', 'done', 'Lead', 'gurgle', 'window-dresser', 'temperate', 'Rheged', 'Who', 'hidden', 'die', 'raped', 'Too', 'away', 'fallen', \"e'er\", 'Or', 'inside', 'finds', 'Launcelot', 'pure', \"'S\", 'everyone', 'but', 'Lady', 'MINSTREL', 'um', 'animator', 'ham', 'married', 'Two', 'everything', 'WOMAN', 'see', 'later', 'nearly', 'This', 'brought', 'down', '22', 'Tim', 'fled', 'act', 'Beast', 'fifty', 'Britain', 'ratios', 'imprisoned', 'binding', 'castanets', 'put', 'differences', 'mangled', 'said', 'for', 'hee', 'boil', 'eisrequiem', 'duck', 'snows', 'mate', 'second', 'Augh', 'retreat', 'stay', 'sacrifice', 'slightly', 'k-nnniggets', 'Mother', 'think', 'That', 'Speak', 'BORS', 'quite', 'right', 'chanting', 'course', 'eats', 'so', 'Forgive', 'Put', 'Spring', 'delirious', 'under', 'proved', 'higher', 'CUSTOMER', 'Divine', 'dear', 'Would', 'SOLDIER', 'gon', 'ZOOT', 'Ayy', 'leaps', 'executive', 'beyond', 'Try', 'outrageous', 'Alice', 'brave', 'particularly', 'Ridden', 'run', 'pay', 'European', 'She', 'charged', 'la', 'LEFT', 'speak', 'hall', 'thank', 'Arimathea', 'CART-MASTER', 'Book', 'trusty', 'ere', 'SENTRY', 'doors', 'None', 'main', 'much', 'duty', 'smack', 'Chapter', 'lonely', 'door', 'score', 'exciting', 'argue', 'Saxons', 'about', 'winter', 'Off', 'I', 'wide', 'quests', 'domine', 'remembered', 'CAMERAMAN', 'shall', 'took', 'breath', 'Am', 'less', 'Sorry', 'mystic', 'being', 'formidable', 'forget', 'ask', 'thonk', 'signifying', \"'s\", 'French', 'broken', 'open', 'once', 'doctors', 'known', 'passing', 'stupid', 'impeccable', 'dragging', 'pig', 'ARMY', 'folk', 'LOVELY', 'up', 'language', 'Churches', 'Shall', 'So', 'what', 'thump', 'could', 'identical', 'lovely', 'long', ',', 'consulted', 'fair', 'punishment', 'grovel', 'alight', 'ever', 'nor', 'types', 'minutes', \"'aaggggh\", 'Come', 'BRIDGEKEEPER', 'limbs', 'y', 'nasty', 'MAYNARD', 'Mercea', 'beds', 'Explain', 'show', 'himself', 'non-migratory', 'lobbest', 'land', \"'Aauuuuugh\", 'year', 'Aaaaugh', 'line', 'taunting', 'bad', 'mumble', 'sheep', \"'is\", 'Peng', 'oral', 'Aah', 'Looks', 'groveling', 'tree', 'An', 'praised', 'killer', 'Erm', 'Bravely', 'Burn', 'beacon', 'persons', 'collective', 'traveller', 'Look', 'thud', 'sell', 'remain', 'word', 'hopeless', 'women', 'build', 'boys', 'understanding', 'Aaaah', '19', 'running', 'cereals', 'south', 'Antioch', 'hand', 'mashed', 'if', 'wind', 'WIFE', 'examine', 'happens', 'tit', 'thing', 'Ask', 'oui', 'chosen', 'Message', 'Are', \"'Course\", 'Mind', 'shrubberies', 'MONKS', 'feint', 'wedding', 'cough', 'song', 'employed', 'let', \"'it\", 'starling', 'suddenly', 'spirit', 'assist', 'Once', 'rrrr', 'empty', 'through', 'wedlock', 'Bloody', 'clank', 'c', 'centuries', 'supposed', 'Thee', 'dull', 'life', 'danger', 'move', 'give-away', 'nostrils', 'sharp', 'Good', 'ARTHUR', 'king-a', 'met', 'distress', 'vouchsafed', 'summon', 'laughing', 'ha', 'also', 'writing', 'awaaaaay', 'FATHER', 'wound', \"C'est\", 'parts', 'Five', 'Nay', 'Lancelot', 'spake', 'quarrel', 'offensive', 'elderberries', '18', 'Knight', 'immediately', '12', 'Armaments', 'daring', 'Very', 'swallow', 'laden', 'Cider', 'wounded', 'bless', 'strand', 'interested', 'j', 'ones', 'VOICE', 'riding', 'What', 'gallantly', 'DINGO', '11', 'k-niggets', 'streak', 'pound', 'working', 'Chickennn', 'Most', 'mayhem', 'Forward', 'KING', 'wipers', 'been', 'point', 'Un', 'slash', 'CONCORDE', '[', 'inferior', 'time', 'master', 'properly', 'Yay', 'Schools', 'four', 'But', 'VILLAGER', 'mean', 'resumes', 'pass', 'death', 'angels', 'leads', 'Cherries', 'ju', 'Uhh', 'English', 'bring', 'Brave', 'daft', 'that', 'together', 'intermission', 'longer', 'threw', 'first', 'Whoa', 'taking', 'Bones', 'decided', 'opera', 'nobody', 'islands', 'coconut', 'squeak', 'Those', 'ROGER', 'sneaking', 'taunt', 'crossed', 'sense', 'tell', 'having', 'time-a', 'strength', 'Bon', 'north-east', 'suppose', 'lunged', 'LAUNCELOT', 'reasonable', 'join', 'Yapping', 'spanking', 'listen', 'RANDOM', 'Aramaic', 'twang', 'arrows', 'Guards', 'Hurry', 'doubt', 'name', 'workers', 'manner', 'Ah', 'frontal', 'Stop', 'fly', 'shows', 'bottoms', 'Go', 'deeds', 'KNIGHT', 'All', 'wave', 'va.', 'Back', 'temptation', 'Silly', \"'shrubberies\", ')', 'demand', 'lives', 'havin', 'suspenseful', 'uhh', 'gentle', 'plan', 'DIRECTOR', 'sixteen', \"'sorry\", 'headoff', 'feet', 'head', 'finest', 'hear', 'coconuts', 'Robin', 'Supreme', 'depressing', 'worse', 'request', 'flight', 'Galahad', 'rock', 'foot', 'Halt', 'apart', 'particular', 'high', 'my', 'worst', 'sword', 'sing', 'seemed', 'adversary', 'walk', 'There', 'depart', '2', 'splash', 'lad', 'mother', 'actually', 'Eh', 'Blue', 'society', 'One', 'Pie', 'commune', 'color', 'relics', 'e', 'matter', 'us', 'given', 'drilllll', '5', 'Princess', 'talk', 'uuup', 'scared', 'someone', 'direction', 'naughty', 'Aaauggh', 'change', 'Aaaaaah', 'path', 'teeth', 'DEAD', 'liver', 'there', 'It', 'search', 'Yeaah', 'unhealthy', 'north', 'seen', 'getting', 'creature', 'bum', 'You', 'Auuuuuuuugh', 'bladders', 'excepting', 'hills', 'this', 'raised', 'carried', 'task', 'become', 'dynamite', 'Bedevere', 'then', 'throat', 'Away', 'legs', 'Shrubber', 'Thy', 'Caerbannog', 'cartoon', 'KNIGHTS', 'wet', 'flesh', 'Will', 'frozen', 'hat', ']', 'ni', 'blondes', 'yeah', 'Clark', 'kicked', 'varletesses', 'p', 'their', 'Roger', 'clap', 'VILLAGERS', '4', 'Psalms', 'Aaaaaaaah', 'ROBIN', 'PARTY', 'wooden', 'repressing', 'unclog', 'icy', 'bang', 'oo', 'dressed', 'nice-a', 'Gawain', 'heh', 'dark', 'Order', 'Providence', 'grin', 'discovered', 'Anyway', 'pestilence', 'hoo', 'from', 'Father', 'dictatorship', 'nose', 'go', 'bastard', 'problems', 'Aaah', 'to', 'nibble', 'Aagh', 'around', 'worked', 'example', 'CRAPPER', 'handle', 'Bridge', 'Nador', 'Mine', 'tie', 'burned', 'Everything', \"'old\", 'upon', 'keen', 'rocks', 'Thsss', 'almost', 'Surely', 'Excalibur', 'confuse', 'order', 'Ooh', 'blanket', 'Oui', 'forth', 'Allo', 'Let', 'clunk', 'cheesy', \"'Ere\", 'feast', 'court', 'terrible', 'valleys', 'chance', 'model', 'conclusions', 'awfully', \"'Ni\", 'Summer', 'Hya', 'outside', 'trumpets', 'Just', 'filth', 'grip', 'weather', 'answers', 'Seek', 'ANIMATOR', 'ill.', 'dancing', 'sniff', 'so-called', 'Cornwall', 'pointy', 'high-pitched', 'Chop', 'things', 'ungallant', 'clang', 'GOD', 'witches', 'dirty', 'giggle', 'OFFICER', 'thine', 'whether', 'More', 'expensive', 'say', \"'em\", 'drink', 'CHARACTERS', 'hang', 'father', 'Nothing', 'cast', 'approacheth', 'stab', 'creep', 'Could', 'died', 'ehh', 'wings', 'Arthur', \"'ve\", 'lapin', '1', 'wicked', 'silence', 'turns', 'dress', 'bet', 'bridge', 'No', 'fight', 'whinny', 'goes', 'elbows', 'hast', 'pimples', 'grail-shaped', '21', \"'Morning\", 'Leaving', 'cost', 'Uugh', 'along', 'awaaay', 'kings', 'need', 'warm', 'was', 'special', 'crying', 'shimmering', 'number', 'well', 'thirty-seven', 'Eternal', 'looney', 'better', 'chickening', 'brush', 'ignore', 'convinced', 'supports', 'Run', 'As', 'buggered', 'To', 'TIM', 'dad', 'When', 'she', 'prevent', 'behind', 'BRIDE', 'Um', 'bad-tempered', 'diaphragm', 'left', 'wait', 'whispering', 'peasant', 'crone', 'Jesus', 'deal', 'Huyah', 'try', 'lie', 'Aaauugh', 'named', 'anything', 'knees-bent', 'fold', 'like', 'bride', 'wood', 'mine', \"d'you\", 'covered', 'mer', 'dungeon', 'legendary', 'MAN', 'smelt', 'ours', 'Thursday', 'hello', 'Does', 'rescue', 'Anthrax', 'Tower', 'floats', 'mooooooo', 'buy', 'vote', 'way', 'Ho', 'eccentric', 'Bedwere', 'Hee', \"'T\", 'beat', 'silly', 'afoot', 'door-opening', 'foul', 'officer', 'two', 'Wait', 'own', 'saw', 'Joseph', 'sons', \"'cause\", 'please', 'quack', 'tart', 'CRONE', 'Nine', \"'Dennis\", 'ye', 'glad', 'Christ', 'Riiight', 'worry', 'no', 'stew', 'defeat', 'rather', 'seem', \"'re\", 'watery', 'Ohh', 'bloody', 'chu', 'sister', 'WINSTON', 'easy', 'tear', 'twenty-four', 'scimitar', 'stuffed', 'regulations'}\n"
     ]
    }
   ],
   "source": [
    "# Import necessary modules\n",
    "from nltk.tokenize import sent_tokenize\n",
    "from nltk.tokenize import word_tokenize\n",
    "\n",
    "# Split scene_one into sentences: sentences\n",
    "sentences = sent_tokenize(scene_one)\n",
    "\n",
    "# Use word_tokenize to tokenize the fourth sentence: tokenized_sent\n",
    "tokenized_sent = word_tokenize(sentences[3])\n",
    "\n",
    "# Make a set of unique tokens in the entire scene: unique_tokens\n",
    "unique_tokens = set(word_tokenize(scene_one))\n",
    "\n",
    "# Print the unique tokens result\n",
    "print(unique_tokens)"
   ]
  },
  {
   "cell_type": "markdown",
   "metadata": {},
   "source": [
    "$\\blacktriangleright$ **Package pre-loading:**"
   ]
  },
  {
   "cell_type": "code",
   "execution_count": 8,
   "metadata": {
    "ExecuteTime": {
     "end_time": "2020-12-28T00:11:02.443284Z",
     "start_time": "2020-12-28T00:11:02.433449Z"
    }
   },
   "outputs": [],
   "source": [
    "import re"
   ]
  },
  {
   "cell_type": "markdown",
   "metadata": {},
   "source": [
    "$\\blacktriangleright$ **Regex (`re.search()`) practice:**"
   ]
  },
  {
   "cell_type": "code",
   "execution_count": 9,
   "metadata": {
    "ExecuteTime": {
     "end_time": "2020-12-28T00:11:02.456947Z",
     "start_time": "2020-12-28T00:11:02.452159Z"
    }
   },
   "outputs": [
    {
     "name": "stdout",
     "output_type": "stream",
     "text": [
      "580 588\n"
     ]
    }
   ],
   "source": [
    "# Search for the first occurrence of \"coconuts\" in scene_one: match\n",
    "match = re.search(\"coconuts\", scene_one)\n",
    "\n",
    "# Print the start and end indexes of match\n",
    "print(match.start(), match.end())"
   ]
  },
  {
   "cell_type": "code",
   "execution_count": 10,
   "metadata": {
    "ExecuteTime": {
     "end_time": "2020-12-28T00:11:02.478280Z",
     "start_time": "2020-12-28T00:11:02.466358Z"
    }
   },
   "outputs": [
    {
     "name": "stdout",
     "output_type": "stream",
     "text": [
      "<re.Match object; span=(9, 32), match='[wind] [clop clop clop]'>\n"
     ]
    }
   ],
   "source": [
    "# Write a regular expression to search for anything in square brackets: pattern1\n",
    "pattern1 = r\"\\[.*\\]\"\n",
    "\n",
    "# Use re.search to find the first text in square brackets\n",
    "print(re.search(pattern1, scene_one))"
   ]
  },
  {
   "cell_type": "code",
   "execution_count": 11,
   "metadata": {
    "ExecuteTime": {
     "end_time": "2020-12-28T00:11:02.498439Z",
     "start_time": "2020-12-28T00:11:02.487073Z"
    }
   },
   "outputs": [
    {
     "name": "stdout",
     "output_type": "stream",
     "text": [
      "<re.Match object; span=(0, 7), match='ARTHUR:'>\n"
     ]
    }
   ],
   "source": [
    "# Find the script notation at the beginning of the fourth sentence and print it\n",
    "pattern2 = r\"[\\w\\s#]+:\"\n",
    "print(re.match(pattern2, sentences[3]))"
   ]
  }
 ],
 "metadata": {
  "kernelspec": {
   "display_name": "Python 3",
   "language": "python",
   "name": "python3"
  },
  "language_info": {
   "codemirror_mode": {
    "name": "ipython",
    "version": 3
   },
   "file_extension": ".py",
   "mimetype": "text/x-python",
   "name": "python",
   "nbconvert_exporter": "python",
   "pygments_lexer": "ipython3",
   "version": "3.7.6"
  },
  "latex_envs": {
   "LaTeX_envs_menu_present": true,
   "autoclose": true,
   "autocomplete": true,
   "bibliofile": "biblio.bib",
   "cite_by": "apalike",
   "current_citInitial": 1,
   "eqLabelWithNumbers": true,
   "eqNumInitial": 1,
   "hotkeys": {
    "equation": "Ctrl-E",
    "itemize": "Ctrl-I"
   },
   "labels_anchors": false,
   "latex_user_defs": false,
   "report_style_numbering": true,
   "user_envs_cfg": true
  },
  "nbTranslate": {
   "displayLangs": [
    "*"
   ],
   "hotkey": "alt-t",
   "langInMainMenu": true,
   "sourceLang": "en",
   "targetLang": "fr",
   "useGoogleTranslate": true
  },
  "toc": {
   "base_numbering": 1,
   "nav_menu": {},
   "number_sections": true,
   "sideBar": true,
   "skip_h1_title": false,
   "title_cell": "Table of Contents",
   "title_sidebar": "Contents",
   "toc_cell": false,
   "toc_position": {
    "height": "calc(100% - 180px)",
    "left": "10px",
    "top": "150px",
    "width": "288px"
   },
   "toc_section_display": true,
   "toc_window_display": true
  },
  "varInspector": {
   "cols": {
    "lenName": 16,
    "lenType": 16,
    "lenVar": 40
   },
   "kernels_config": {
    "python": {
     "delete_cmd_postfix": "",
     "delete_cmd_prefix": "del ",
     "library": "var_list.py",
     "varRefreshCmd": "print(var_dic_list())"
    },
    "r": {
     "delete_cmd_postfix": ") ",
     "delete_cmd_prefix": "rm(",
     "library": "var_list.r",
     "varRefreshCmd": "cat(var_dic_list()) "
    }
   },
   "types_to_exclude": [
    "module",
    "function",
    "builtin_function_or_method",
    "instance",
    "_Feature"
   ],
   "window_display": true
  }
 },
 "nbformat": 4,
 "nbformat_minor": 4
}
