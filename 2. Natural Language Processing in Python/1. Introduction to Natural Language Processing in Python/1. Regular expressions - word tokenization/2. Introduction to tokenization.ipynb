{
 "cells": [
  {
   "cell_type": "markdown",
   "metadata": {
    "ExecuteTime": {
     "end_time": "2020-07-24T11:20:21.989524Z",
     "start_time": "2020-07-24T11:20:12.960881Z"
    }
   },
   "source": [
    "```\n",
    "#############################################\n",
    "##                                         ##\n",
    "##  Natural Language Processing in Python  ##\n",
    "##                                         ##\n",
    "#############################################\n",
    "\n",
    "§1 Introduction to Natural Language Processing in Python\n",
    "\n",
    "§1.1 Regular expressions & word tokenization\n",
    "```"
   ]
  },
  {
   "cell_type": "markdown",
   "metadata": {},
   "source": [
    "# Introduction to tokenization"
   ]
  },
  {
   "cell_type": "markdown",
   "metadata": {},
   "source": [
    "## What is tokenization?\n",
    "\n",
    "* It turns a string or document into tokens (smaller chunks).\n",
    "\n",
    "* It's one step in preparing a text for NLP.\n",
    "\n",
    "* It has many different theories and rules.\n",
    "\n",
    "* Users can create their own rules using regular expressions.\n",
    "\n",
    "* There are some examples:\n",
    "\n",
    "\t* *breaking out words or sentences*\n",
    "    \n",
    "\t* *separating punctuation*\n",
    "    \n",
    "\t* *separating all hashtags in a tweet*"
   ]
  },
  {
   "cell_type": "markdown",
   "metadata": {},
   "source": [
    "## What is the `NLTK` library?\n",
    "\n",
    "* `NLTK`: Natural Language Toolkit"
   ]
  },
  {
   "cell_type": "markdown",
   "metadata": {},
   "source": [
    "## Code of the `NLTK` library:"
   ]
  },
  {
   "cell_type": "code",
   "execution_count": 1,
   "metadata": {
    "ExecuteTime": {
     "end_time": "2020-12-25T00:30:19.563158Z",
     "start_time": "2020-12-25T00:30:16.399873Z"
    }
   },
   "outputs": [
    {
     "data": {
      "text/plain": [
       "['Hi', 'there', '!']"
      ]
     },
     "execution_count": 1,
     "metadata": {},
     "output_type": "execute_result"
    }
   ],
   "source": [
    "from nltk.tokenize import word_tokenize\n",
    "\n",
    "word_tokenize(\"Hi there!\")"
   ]
  },
  {
   "cell_type": "markdown",
   "metadata": {
    "ExecuteTime": {
     "end_time": "2020-12-20T20:08:55.570909Z",
     "start_time": "2020-12-20T20:08:55.565185Z"
    }
   },
   "source": [
    "## Why tokenize?\n",
    "\n",
    "* Easier to map part of speech.\n",
    "\n",
    "* To match common words.\n",
    "\n",
    "* To remove unwanted tokens.\n",
    "\n",
    "* E.g., \n",
    "\n",
    "    ```\n",
    "    >>> word_tokenize(\"I don't like Sam's shoes.\")\n",
    "    ['I', 'do', \"n't\", 'like', 'Sam', \"'s\", 'shoes', '.']\n",
    "    ```"
   ]
  },
  {
   "cell_type": "markdown",
   "metadata": {},
   "source": [
    "## What are the other `NLTK` tokenizers?\n",
    "\n",
    "* `sent_tokenize`: tokenize a document into sentences.\n",
    "\n",
    "* `regexp_tokenize`: tokenize a string or document based on a regular expression pattern.\n",
    "\n",
    "* `TweetTokenizer`: special class just for tweet tokenization, allowing separate hashtags, mentions, and lots of exclamation points, such as '!!!'."
   ]
  },
  {
   "cell_type": "markdown",
   "metadata": {},
   "source": [
    "## Code of regex practice (the difference between `re.search()` and `re.match()`):"
   ]
  },
  {
   "cell_type": "code",
   "execution_count": 2,
   "metadata": {
    "ExecuteTime": {
     "end_time": "2020-12-25T00:30:19.572865Z",
     "start_time": "2020-12-25T00:30:19.566450Z"
    }
   },
   "outputs": [
    {
     "data": {
      "text/plain": [
       "<re.Match object; span=(0, 3), match='abc'>"
      ]
     },
     "execution_count": 2,
     "metadata": {},
     "output_type": "execute_result"
    }
   ],
   "source": [
    "import re\n",
    "\n",
    "re.match('abc', 'abcde')"
   ]
  },
  {
   "cell_type": "code",
   "execution_count": 3,
   "metadata": {
    "ExecuteTime": {
     "end_time": "2020-12-25T00:30:19.619819Z",
     "start_time": "2020-12-25T00:30:19.585616Z"
    }
   },
   "outputs": [
    {
     "data": {
      "text/plain": [
       "<re.Match object; span=(0, 3), match='abc'>"
      ]
     },
     "execution_count": 3,
     "metadata": {},
     "output_type": "execute_result"
    }
   ],
   "source": [
    "re.search('abc', 'abcde')"
   ]
  },
  {
   "cell_type": "code",
   "execution_count": 4,
   "metadata": {
    "ExecuteTime": {
     "end_time": "2020-12-25T00:30:19.664115Z",
     "start_time": "2020-12-25T00:30:19.630998Z"
    }
   },
   "outputs": [],
   "source": [
    "re.match('cd', 'abcde')"
   ]
  },
  {
   "cell_type": "code",
   "execution_count": 5,
   "metadata": {
    "ExecuteTime": {
     "end_time": "2020-12-25T00:30:19.709149Z",
     "start_time": "2020-12-25T00:30:19.683750Z"
    }
   },
   "outputs": [
    {
     "data": {
      "text/plain": [
       "<re.Match object; span=(2, 4), match='cd'>"
      ]
     },
     "execution_count": 5,
     "metadata": {},
     "output_type": "execute_result"
    }
   ],
   "source": [
    "re.search('cd', 'abcde')"
   ]
  },
  {
   "cell_type": "markdown",
   "metadata": {},
   "source": [
    "## Practice exercises for introduction to tokenization:\n",
    "\n",
    "$\\blacktriangleright$ **Data pre-loading:**"
   ]
  },
  {
   "cell_type": "code",
   "execution_count": 6,
   "metadata": {
    "ExecuteTime": {
     "end_time": "2020-12-25T00:30:19.723886Z",
     "start_time": "2020-12-25T00:30:19.717002Z"
    }
   },
   "outputs": [],
   "source": [
    "scene_one = open(\"ref2. Monty Python and the Holy Grail.txt\").read()"
   ]
  },
  {
   "cell_type": "markdown",
   "metadata": {
    "ExecuteTime": {
     "end_time": "2020-12-19T22:02:33.692343Z",
     "start_time": "2020-12-19T22:02:33.687220Z"
    }
   },
   "source": [
    "$\\blacktriangleright$ **`NLTK` word tokenization with practice:**"
   ]
  },
  {
   "cell_type": "code",
   "execution_count": 7,
   "metadata": {
    "ExecuteTime": {
     "end_time": "2020-12-25T00:30:20.149560Z",
     "start_time": "2020-12-25T00:30:19.728849Z"
    }
   },
   "outputs": [
    {
     "name": "stdout",
     "output_type": "stream",
     "text": [
      "{'ho', 'unhealthy', 'quiet', 'repressing', 'high', 'good', 'wan', 'classes', 'recover', 'excepting', 'system', 'everyone', 'apart', 'someone', 'ridden', 'Knights', 'slash', 'ask', 'thonk', 'Amen', 'capital', 'forced', 'than', 'remain', 'thank', 'reasonable', 'minute', 'I', 'donaeis', 'Together', 'Camelot', 'pound', 'streak', 'forest', 'punishment', 'bats', 'open', 'gay', 'something', 'Churches', 'understand', 'Ay', 'properly', 'MAN', 'buy', 'remembered', 'keep', 'meant', 'Camaaaaaargue', 'Make', 'nothing', 'Aggh', 'GUEST', 'he', 'give-away', 'sheep', 'tear', 'carrying', 'simple', 'As', 'word', 'kills', 'bangin', 'Ni', 'For', 'even', 'kneecaps', 'father', 'only', 'feast', 'dub', 'what', 'horrendous', 'very', 'anyway', 'anchovies', 'Quite', 'asking', 'weapon', 'beautiful', 'Guards', 'earth', 'mightiest', 'starling', 'named', 'er', 'alight', 'problems', 'Speak', 'hiyaah', 'valleys', 'but', 'water', 'maybe', 'couple', 'beyond', 'trough', 'Look', 'scholar', 'distributing', 'Aaaaaaaaah', 'ZOOT', 'cough', 'SHRUBBER', 'smashed', 'shall', 'women', 'Aauuugh', 'settles', 'Chickennn', 'boom', 'risk', 'Aah', 'started', 'Hiyaah', 'birds', 'into', 'passing', 'sink', 'Very', 'in', 'many', 'taunting', 'direction', 'rest', 'bowels', 'kicked', 'employed', 'bravely', 'year', 'set', 'bottom', 'worked', 'supreme', 'Prince', '5', 'wet', 'end', 'my', 'take', \"'shrubberies\", 'hall', 'comin', 'too', 'brush', 'coconuts', 'Rather', 'compared', 'Haw', 'Well', 'Lead', '..', 'STUNNER', 'lies', 'PATSY', 'dragging', 'middle', 'society', 'questions', ',', 'two', 'move', 'Grail', 'arrange', 'come', 'bells', 'separate', 'angels', 'or', 'us', 'life', 'Hiyah', 'change', 'snuff', 'elbows', 'nervous', 'lovely', 'says', 'expensive', 'auuuuuuuugh', 'Iiiives', 'live', 'newt', 'wedding', 'history', 'line', 'va.', 'Olfin', 'Other', \"'Man\", 'minstrels', 'reached', 'disheartened', 'KNIGHTS', 'Hurry', 'acting', 'CUSTOMER', 'has', 'Hill', 'spooky', 'Table', 'biggest', 'Uhh', 'whinny', 'chu', 'husk', 'the-not-quite-so-brave-as-Sir-Lancelot', 'WINSTON', 'Knight', 'discovered', 'king-a', 'example', 'Tell', 'scenes', 'terrible', 'My', 'Black', 'Attila', 'Two', 'Eternal', 'far', 'wants', \"'m\", 'Auuuuuuuugh', 'Patsy', 'tree', 'clunk', 'baaaa', 'Thppppt', 'Lady', 'Badon', 'creep', 'saying', 'ran', 'smack', '1', 'almost', 'pond', 'actually', 'How', '!', 'Hoo', 'Our', 'grip', 'bows', 'retreat', 'who', 'man', 'blanket', 'Three', 'sloths', 'Hic', 'ALL', 'yes', 'better', 'No', 'against', 'away', 'Bridge', 'laden', 'wonderful', 'until', 'broken', 'swamp', 'more', 'depart', 'commune', 'MINSTREL', 'been', 'hopeless', 'badger', 'witch', 'Caerbannog', 'self-perpetuating', 'ponds', 'plan', 'whoever', 'chest', 'gave', 'examine', 'Aaauugh', 'done', 'an', 'Ewing', 'killed', 'breakfast', 'Providence', 'hospital', 'high-pitched', 'bridge', 'mercy', 'late', 'seems', 'k-nnnnniggets', 'baby', 'because', 'five', 'wings', 'DIRECTOR', 'ungallant', 'eccentric', 'pack', 'me', 'moment', 'bits', 'either', 'leap', 'PRINCE', 'Ives', 'arms', 'doors', 'blood', 'carries', 'room', 'sword', 'fair', 'order', 'shit', 'little', 'Hallo', 'north-east', 'since', 'masses', 'daughter', 'chastity', 'run', 'Yup', 'ways', 'burn', 'Dennis', 'Oooohoohohooo', 'threw', 'forget', 'bugger-folk', 'throwing', 'Say', 'strange', \"'aaggggh\", 'woman', 'knock', 'flight', 'Chop', 'Divine', 'no', 'being', 'clap', \"'d\", 'hmm', 'ratios', 'over', '3', 'She', 'town', 'language', 'relax', 'orangutans', 'boys', 'Shrubber', 'on', 'formidable', 'Wayy', 'time-a', 'bad', 'Hooray', 'Umm', 'agree', 'carry', 'manner', 'nearly', 'ai', 'anarcho-syndicalist', 'those', 'shivering', 'Hello', '--', 'Forward', 'ptoo', 'chorus', 'crash', 'miss', 'Or', 'Old', 'splat', 'less', 'England', 'scales', 'ROGER', \"'aaaah\", 'worse', 'bold', 'heh', 'sworn', 'wiper', 'seldom', 'round', 'hoo', 'presence', 'one', 'eisrequiem', 'Heh', '10', 'awhile', 'bastards', 'scimitar', 'full', 'sacrifice', 'Lord', 'Doctor', 'knows', 'shut', 'strand', 'quick', 'Ho', 'find', 'ENCHANTER', 'guiding', 'Holy', 'swallow', 'wield', 'Would', 'Yapping', \"'it\", 'jam', 'lady', 'bitching', 'course', 'tie', 'nine', 'with', 'biscuits', 'vouchsafed', 'under', 'Great', 'Defeat', 'accomplished', 'God', 'Fine', 'telling', 'etc', 'Ow', 'eet', 'invincible', 'tap-dancing', 'Tower', 'Stand', 'brought', 'PIGLET', 'B', 'Bravest', 'warned', 'What', 'GIRLS', 'yellow', 'CART-MASTER', 'jokes', 'bois', 'lapin', \"'Oooooooh\", 'frighten', 'out', 'am', 'mad', 'join', 'l', 'while', 'so', 'soon', 'look', 'Y', 'personally', 'said', 'glad', 'awaaay', 'smashing', 'Supposing', 'Dis-mount', 'howl', 'Over', 'Picture', 'snore', 'purest', 'Off', 'Every', 'out-clever', 'gon', 'lonely', 'pram', 'time', 'helpful', 'git', 'uhh', 'assault', 'leaps', 'Midget', 'Away', 'finest', 'scarper', '8', 'seek', 'mine', 'medical', 'quite', 'build', \"e'er\", 'limbs', 'leg', 'looney', 'dull', 'stops', 'feel', 'how', 'looking', 'tracts', 'oral', 'asks', 'ever', 'color', 'giggle', 'GUESTS', 'mooo', 'its', 'Winston', 'enchanter', 'raised', 'consulted', 'And', 'dare', 'sample', 'haaa', 'Twenty-one', 'Grenade', 'Blue', 'RANDOM', 'horse', 'bi-weekly', 'window-dresser', 'bet', \"'Morning\", 'face', 'Which', 'busy', 'accent', 'DINGO', 'Frank', 'hills', 'heart', 'trouble', 'ye', 'Five', 'hamster', 'Cut', 'cast', 'Round', 'Good', 'Mind', 'profane', 'thirty-seven', 'leads', 'Said', 'repressed', 'Get', 'Crapper', 'Be', 'Quiet', 'NARRATOR', 'b', 'become', 'fine', 'alive', 'valiant', 'at', 'suffered', 'turned', 'present', 'carved', 'request', 'Thy', 'second', 'His', 'Yeaah', 'Roger', 'nobody', 'Why', 'ounce', 'young', 'scott', 'Anthrax', 'thy', 'Britain', 'any', 'Until', 'clack', 'found', 'understanding', 'majority', 'doubt', 'ha', 'place', 'eight', 'finds', 'This', 'Splendid', 'minutes', 'CONCORDE', 'Autumn', 'plain', 'Stay', 'rewr', 'answer', 'purely', 'died', 'vicious', 'twenty', 'uuggggggh', 'woosh', 'certainly', 'TIM', 'convinced', 'liar', '.', 'k-niggets', 'safety', 'slightly', 'now', 'u', 'unclog', 'autocracy', 'wind', 'dappy', 'ca', 'pig-dogs', 'wounded', 'Packing', 'moistened', 'coming', 'vote', 'third', 'stayed', 'later', 'sequin', 'outrageous', 'lad', 'breath', 'Ohh', 'makes', 'this', 'creak', 'food', 'these', 'Apples', 'twenty-four', 'throughout', 'liege', 'advancing', 'by', 'Could', 'Beast', 'Exactly', 'types-a', 'arm', 'hell', 'stab', 'idea', 'shimmering', 'Peng', 'please', 'purpose', 'ARMY', 'Rheged', 'that', 'then', 'successful', 'smelt', 'Greetings', 'Fetchez', \"'Ere\", 'ceremony', 'formed', 'weighs', 'w', 'gra', 'donkey-bottom', 'times', 'rhymes', 'swords', 'Loimbard', '(', 'Supreme', 'stupid', 'reads', 'walk', 'HERBERT', 'depressing', 'Hey', 'Come', 'freedom', 'trusty', 'matter', 'Run', 'twin', \"'Erbert\", 'commands', 'That', 'welcome', 'MONKS', '15', 'long', 'Saint', 'make', 'Huyah', 'Launcelot', 'worry', 'Arthur', 'thine', 'Are', 'first', 'At', 'riding', 'suggesting', 'fire', 'Listen', 'between', 'treat', 'radio', 'flesh', 'Meanwhile', 'bosom', 'sister', 'for', 'Lucky', 'gravy', 'SIR', 'quest', ']', '...', 'indefatigable', 'continue', 'is', 'PRISONER', 'gurgle', 'halves', 'already', 'straight', 'him', 'back', 'house', 'mean', 'entered', 'Am', 'honored', 'bed', 'stand', 'lobbest', 'scribble', 'outwit', 'yourself', 'Uh', 'listen', 'sex', \"n't\", 'south', 'bladders', 'awaaaaay', 'put', 'why', 'have', 'expect', 'will', 'conclusions', '22', 'there', 'mer', 'behind', 'duty', 'dictatorship', 'from', 'night', 'Not', 'whether', 'silence', 'aunties', 'Maynard', 'teeth', 'able', 'after', 'Surely', 'Father', 'fight', 'Idiom', 'confuse', 'ARTHUR', 'Anarcho-syndicalism', 'pay', 'Welcome', 'through', 'Dramatically', 'Burn', 'easily', 'appease', 'so-called', 'Today', 'forward', 'floats', 'other', 'Remove', 'nibble', 'haw', 'snows', 'sure', 'Mercea', 'Riiight', 'adversary', 'bed-wetting', 'enough', \"'uuggggggh\", 'awaits', 'gained', 'learning', 'Waa', 'Behold', 'does', 'lobbed', 'dress', 'remember', 'castle', 'near', 'throat', 'squeak', 'Eee', 'GUARDS', 'say', 'sad', '2', 'dine', 'idiom', 'hat', 'song', 'bastard', 'rodent', 'forty-three', 'mayest', 'changed', 'goes', 'his', 'CAMERAMAN', 'Really', 'Found', 'seen', 'Does', 'feathers', 'GUARD', 'knew', 'wart', 'looks', 'band', 'Let', 'Do', 'considerable', 'became', 'NI', 'passed', 'CHARACTERS', 'ROBIN', 'fell', 'hello', 'glass', 'Bloody', 'banana-shaped', 'rabbit', 'In', 'breadth', 'person', 'i', 'Ask', 'yet', 'tiny-brained', 'nostrils', 'another', 'living', 'earthquakes', 'king', 'gentle', 'Aauuggghhh', 'miserable', 'logically', 'kingdom', 'accompanied', 'BRIDGEKEEPER', 'still', 'push', 'taking', 'collective', 'wipers', 'Lancelot', 'Alright', 'lair', 'e', 'sweet', 'killer', 'sight', 'string', 'sire', 'Sir', 'creeper', 'country', 'Saxons', 'heads', 'most', 'vain', 'hundred-and-fifty', \"'Ni\", 'bring', 'business', 'Firstly', 'using', 'keen', 'longer', 'Looks', 'INSPECTOR', 'Uther', 'servant', 'Uuh', 'master', \"'cause\", 'CRAPPER', 'BRIDE', 'Brother', 'lot', 'knights', 'kind', 'just', 'fellows', 'imperialist', 'visually', 'main', 'With', 'soiled', 'PERSON', 'grail-shaped', 'bother', 'afraid', 'Walk', 'Thppt', 'runes', 'nose', 'Thee', 'north', 'dunno', 'officer', 'Woa', 'your', \"'Here\", 'dear', 'Shrubberies', 'knees-bent', 'let', 'fifty', 'nineteen-and-a-half', 'Whoa', \"'T\", 'courage', 'RIGHT', 'Cornwall', 'ones', 'ruffians', 'trumpets', 'favorite', 'European', \"'ni\", 'heroic', 'Aramaic', 'suit', 'sponge', 'Bristol', 'humble', 'unsingable', 'force', 'bleed', 'sharp', 'shrubber', 'Will', 'although', 'Thpppt', 'path', 'body', 'approaching', 'suffice', 'Bring', 'aaaaaah', 'lost', 'bleeder', 'scots', 'her', 'Swamp', 'One', 'outdated', 'must', 'cadeau', 'Enchanter', 'know', 'built', 'VILLAGERS', 'DENNIS', 'way', 'executive', 'effect', 'art', 'cry', 'Nador', 'travellers', 'ANIMATOR', 'All', 'testicles', 'doing', 'Hoa', 'None', 'liver', 'terribly', 'warmer', 'oh', 'inside', 'wayy', 'worst', 'W', 'The', 'not', 'problem', 'blessing', 'Nu', 'signifying', 'heeh', 'Ridden', 'footwork', 'dirty', 'bunny', 'got', 'OF', 'rrrr', '?', 'work', 'Lie', 'wrong', 'undressing', 'dead', 'WIFE', 'also', 'dressed', 'Did', 'absolutely', 'Quick', 'SCENE', 'special', 'forth', 'sniff', 'stay', 'each', 'foul', 'Concorde', 'Must', 'Charge', 'last', 'scared', 'avenged', 'joyful', 'shrubberies', 'were', 'medieval', 'somewhere', 'binding', 'ju', \"'is\", 'rocks', 'CRONE', 'pussy', 'Keep', 'name', 'Ahh', 'writing', '20', 'inherent', 'wherein', 'identical', 'government', 'lucky', 'y', 'fatal', 'Tall', 'glory', 'nearer', 'least', 'danger', 'winter', 'best', 'real', 'police', 'non-migratory', 'chance', 'Heee', 'Aaaaaaaah', 'hee', 'covered', 'OLD', 'types', 'scene', 'huge', 'animal', 'tackle', 'sixteen', 'derives', 'drink', 'cart', 'lunged', 'spanked', 'decision', \"'til\", 'taken', 'knight', 'dynamite', 'Himself', 'autonomous', 'setting', 'off', 'noise', 'FATHER', 'easy', 'Robinson', 'dona', 'wedlock', 'as', 'wide', 'can', 'dictating', 'which', 'basic', 'pounds', 'boil', 'Torment', 'Hyy', 'cover', 'surprise', 'friend', 'watch', 'strongest', 'k-nnniggets', 'around', 'But', 'Uugh', 'Oui', 'yeah', 'Honestly', 'n', 'Oooh', 'Jesus', 'never', 'kings', 'of', 'enter', 'two-level', 'pen', 'fooling', 'Recently', 'Aaauggh', 'sigh', 'case', 'Explain', 'requiem', 'sons', 'Assyria', 'running', 'worried', 'singing', 'lads', 'Unfortunately', 'violence', 'Bors', \"'Dennis\", 'made', 'clue', 'hacked', 'empty', '24', 'France', 'thump', 'BEDEVERE', 'Christ', 'aaugh', 'Death', 'uuup', 'Tim', 'Book', 'defeator', 'BROTHER', 'internal', 'music', 'sign', 'Quoi', 'do', 'stood', 'performance', 'be', 'woods', 'Schools', 'Britons', 'PARTY', 'Chapter', 'AMAZING', 'Even', 'bridgekeeper', 'Chaste', 'pointy', 'power', 'amazes', 'sonny', 'regulations', 'call', 'yelling', 'talk', 'vary', 'farcical', 'workers', 'g', 'wooden', 'next', 'fwump', 'home', 'owns', 'frozen', 'cross', 'OFFICER', 'Once', 'apologise', 'Thpppppt', 'today', 'want', 'Antioch', ';', 'day', 'laughing', 'biters', 'dance', 'ethereal', 'might', 'grail', 'watery', 'Back', 'social', 'Neee-wom', 'Pendragon', 'Too', 'If', 'Dappy', 'harmless', 'Aaaaaah', 'lives', 'An', 'scrape', 'scratch', 'MIDDLE', 'mangy', 'Mine', 'Now', 'perilous', 'Bad', 'luck', 'duck', 'clad', 'intermission', 'ours', 'fold', 'Pin', 'opera', \"'em\", 'mile', '16', 'false', 'help', 'need', 'design', 'There', 'whop', 'supports', 'keepers', 'heard', 'Wait', 'clear', 'old', 'van', 'Never', 'flint', 'favor', 'dangerous', 'our', 'Use', 'wicked', 'Those', '14', 'carried', 'pansy', 'strategy', 'saw', 'score', \"'old\", 'eyes', 'stress', 'discovers', 'test', 'Dragon', 'tonight', 'bottoms', 'guest', 'Of', 'Yes', 'beat', 'words', 'week', 'Lake', 'land', 'note', 'zone', 'dorsal', 'utterly', 'proceed', 'kill', 'see', 'siren', 'Clear', 'tiny', 'suppose', 'behaviour', 'having', 'cartoon', 'pissing', 'air-speed', 'again', ':', 'felt', 'o', 'ehh', 'Open', 'about', 'Shh', 'she', 'raped', 'nasty', 'pestilence', 'Seek', 'laurels', 'Mud', 'act', 'VILLAGER', 'sawwwww', 'Aaah', 'dramatic', 'defeat', 'largest', 'ordinary', 'havin', 'bint', 'arrows', 'and', 'head', 'right', 'clang', 'two-thirds', 'legs', 'foot', 'bonk', 'crying', 'entering', 'you', 'held', 'Man', 'carve', 'bad-tempered', 'plover', '#', 'Between', 'suspenseful', 'required', 'Help', 'should', \"'re\", 'BORS', 'enemies', 'merger', 'went', 'spanking', 'happens', 'True', \"'S\", 'lord', 'So', 'had', 'sun', 'folk', 'it', 'grin', 'totally', 'Joseph', 'alarm', 'returns', 'Cherries', 'Bon', 'Sorry', 'quarrel', 'somebody', 'would', 'well', 'Gable', 'tale', 'marry', 'frontal', 'answers', 'bridges', 'temperate', 'swallows', 'therefore', 'SUN', 'Farewell', 'Excuse', 'Order', 'jump', 'ride', 'verses', 'refuse', 'seem', 'Shall', 'court', 'affairs', 'exciting', 'own', 'resting', 'keeper', 'making', 'names', 'BLACK', 'la', 'Since', 'headed', '6', 'crone', \"'\", 'clank', 'trade', 'THE', 'Gawain', 'Clark', 'To', 'haste', 'ooh', 'period', 'Aagh', 'fourth', 'suddenly', 'get', 'mate', 'yel', 'Galahad', 'really', 'bum', 'domine', 'Gorge', 'bit', 'Pull', 'weather', 'they', 'seemed', 'grenade', 'Huh', 'bloody', 'Hang', 'animator', 'buggering', 'Alice', 'door-opening', 'samite', 'committed', 'known', 'along', 'illegitimate-faced', \"'forgive\", 'witness', 'walking', 'KING', 'tropical', '23', 'Go', 'Just', 'pause', 'counting', 'guided', 'armor', 'pulp', 'door', '9', 'bathing', '[', 'Pure', 'shrubbery', 'awfully', 'influential', 'SOLDIER', 'hang', 'Throw', 'Armaments', 'When', 'necessary', 'ignore', 'cop', 'dancing', 'Erm', 'nick', 'Then', 'Not-appearing-in-this-film', 'eh', 'centuries', 'coconut', 'Have', 'climes', 'Hya', 'Yeah', 'down', 'chanting', 'ere', 'c', 'fruit', 'VOICE', 'Build', 'outside', 'Oh', 'Beyond', 'offensive', 'marrying', 'go', 'eats', 'roar', 'He', 'Mother', 'nice-a', 'perpetuates', 'training', 'LEFT', 'Hah', 'small', 's', 'African', 'guarded', 'splash', 'excuse', 'penalty', 'hear', 'We', 'mashed', 'decided', 'aloft', 'mangled', 'Nay', 'show', 'Yay', 'behold', 'shelter', 'Aaaah', 'here', 'holy', \"'anging\", 'N', 'general', 'summon', 'use', 'every', 'we', 'inferior', 'rather', 'legally', 'handsome', 'Everything', 'icy', 'himself', 'OTHER', 'closest', 'stew', 'bringing', 'feet', 'Anybody', 'cope', 'MIDGET', 'major', 'chord', '18', 'Actually', 'mayhem', \"C'est\", '12', 'Tale', 'tough', 'Consult', 'rich', 'stretched', 'union', 'removed', 'WITCH', '11', 'pweeng', 'ugly', 'castanets', 'Follow', 'tragic', 'chickened', 'things', 'relics', 'pull', 'bride', 'CRASH', 'dressing', 'KNIGHT', 'carving', 'GALAHAD', 'up', 'object', 'snap', 'war', 'Iiiiives', 'wishes', 'Shut', 'Halt', 'are', 'ladies', 'filth', \"'ll\", 'worthy', 'Aaagh', 'Augh', 'Four', 'distress', 'doctors', 'whispering', 'Ah', 'Steady', 'By', 'Fiends', 'follow', 'entrance', 'beacon', 'guards', 'told', 'sell', 'attack', 'all', 'demand', 'de', 'Almighty', 'else', 'A', 'varletesses', 'three', 'point', \"'sorry\", '13', 'draw', 'magne', 'ferocity', 'escape', 'creature', 'think', 'Spring', 'pimples', 'science', \"d'you\", 'imprisoned', \"'Aauuuuugh\", 'silly', 'burst', 'Eh', 'uh', \"'Course\", 'SENTRY', 'migrate', 'May', 'ham', 'them', 'witches', 'whose', 'stop', 'foe', 'proved', 'tart', 'allowed', 'Most', 'thought', 'nor', 'big', 'It', 'chickening', 'packing', 'Ha', 'vital', 'question', 'un', 'spoken', 'death', 'traveller', 'Aauuuves', 'Thsss', 'Where', 'command', 'emperor', 'hidden', 'zoosh', 'underwear', 'Un', 'getting', 'j', 'lie', 'enjoying', 'side', 'retold', 'obviously', 'wise', 'averting', 'whom', 'protect', 'looked', 'ready', 'hast', 'occasion', 'fallen', 'cheesy', 'may', 'Hiyya', 'mortally', 'new', 'curtains', 'same', 'was', 'ratified', 'rejoicing', 'ni', 'sacred', 'CHARACTER', 'where', 'spake', 'dogma', 'soft', '7', 'praised', 'model', 'pure', 'bite', 'people', 'bird', 'herring', 'thud', 'without', 'certain', 'to', 'indeed', 'Wood', '17', 'headoff', 'deeds', 'eat', 'bones', 'You', 'brave', 'Thank', 'once', 'crossed', 'sing', 'search', 'chops', 'when', 'oo', 'split', 'clop', 'some', 'auntie', 'cave', 'unplugged', 'Leaving', 'bang', 'Skip', 'single-handed', 'everything', 'flights', 'further', 'temptation', 'warning', 'progress', 'blow', 'diaphragm', 'beside', 'together', 'oooh', 'mac', 'DEAD', 'girl', 'Bedevere', 'Please', 'thing', 'kick', 'bid', 'married', 'afoot', \"'Til\", 'spirit', 'resumes', 'King', 'quack', 'sorry', 'dark', 'unladen', 'bicker', 'speak', 'legendary', 'immediately', 'kneeling', 'much', 'horn', 'great', 'hand', 'valor', 'always', 'Monsieur', 'dungeon', 'LOVELY', 'send', 'tail', 'large', 'On', 'try', 'Aaaugh', 'Court', \"'To\", 'turns', 'blondes', 'HEAD', 'taunt', 'explain', 'Peril', 'Practice', 'Pie', 'warm', \"'ve\", 'needs', 'Hand', 'count', 'Agh', 'strewn', 'GREEN', 'temptress', 'nightfall', 'guard', 'Summer', 'the', 'met', 'oui', 'Brave', 'grips', 'Excalibur', 'class', 'Ector', 'carp', 'fart', 'economic', 'mandate', 'pray', 'gone', 'outdoors', 'such', 'spank', 'ninepence', 'vests', 'sent', 'thou', 'persons', 'did', 'leave', 'armed', 'bless', 'PRINCESS', 'happy', 'individually', 'twang', \"'s\", 'basis', 'tell', 'four', 'higher', 'Running', 'Try', 'beds', 'completely', 'gallantly', 'Ayy', 'upon', 'Aaaaugh', 'stone', ')', 'quests', 'Cider', 'son', \"'round\", 'Therefore', 'naughty', 'Victory', 'Um', 'Far', 'voluntarily', 'Winter', 'Hold', 'Umhm', 'pass', 'charged', 'brain', 'parts', 'differences', 'Herbert', 'sneaking', 'aside', 'anything', 'Nine', 'wait', 'Bones', 'peril', 'rescue', 'bravest', 'Psalms', 'fled', 'particular', 'Anyway', 'Ulk', 'Forgive', 'fought', '21', '4', 'dying', 'conclusion', 'used', \"'First\", 'sir', 'shalt', 'mooooooo', 'their', 'called', 'O', 'mistake', 'daring', 'could', 'wood', 'tea', 'men', 'LAUNCELOT', 'attend', 'impersonate', 'fly', 'HEADS', 'Piglet', 'sank', 'LUCKY', 'like', 'Yeaaah', 'CROWD', 'Nothing', 'Robin', 'burned', 'working', 'buggered', 'wounding', 'sovereign', 'tired', 'fortune', 'approacheth', 'Bread', 'WOMAN', 'automatically', 'lose', 'supposed', 'peasant', 'mud', 'going', 'deal', 'Zoot', 'rock', 'lived', 'mumble', 'Guy', 'private', 'More', 'Ninepence', 'islands', 'Is', 'French', 'illustrious', 'p', 'rope', 'tops', 'evil', 'meeting', 'aquatic', 'strength', 'spam', 'na', 'preserving', 'groveling', 'hospitality', 'ill.', 'if', 'length', 'wound', 'aptly', 'GOD', 'Hmm', 'thwonk', 'thanks', 'reared', 'number', 'Angnor', 'strangers', 'SECOND', 'die', 'rode', 'shows', 'Silence', 'guests', 'assist', 'dad', 'They', 'Chicken', 'Like', 'unarmed', 'HISTORIAN', 'CARTOON', 'lambs', 'See', 'mystic', 'Silly', 'tit', 'Iesu', 'clllank', 'anyone', 'Huy', 'Arimathea', 'Oooo', 'U', 'cut', 'gouged', 'sometimes', 'Ooh', 'impeccable', 'Put', 'Hm', 'Quickly', 'Who', 'sort', '19', 'took', 'Mmm', 'bond', 'MAYNARD', 'grovel', 'Battle', 'stuffed', 'Perhaps', 'given', 'eis', 'routines', 'sod', 'mother', 'Action', 'drilllll', 'chosen', 'Right', 'previous', 'electric', 'cruel', 'argue', 'daft', 'Message', 'exploiting', 'brunettes', 'Thursday', 'saved', 'vache', 'prevent', 'return', 'maintain', 'martin', 'lying', 'sense', 'um', 'Bravely', 'English', 'Hee', 'Bedwere', 'towards', 'Castle', 'knocked', 'Gallahad', 'pig', 'wo', 'Ages', 'task', 'delirious', 'table', 'a', 'velocity', 'twong', 'cost', 'left', 'yours', 'elderberries', 'cereals', 'Princess', 'Allo', 'Here', 'particularly', 'Dingo', 'Stop', 'triumphs', 'waste', 'wave', \"'Ecky-ecky-ecky-ecky-pikang-zoop-boing-goodem-zoo-owli-zhiv\", 'FRENCH', 'Your', 'anywhere', 'handle', 'feint', 'Thou', 'give', 'Prepare', 'nice', 'tinder', 'weight', 'interested'}\n"
     ]
    }
   ],
   "source": [
    "# Import necessary modules\n",
    "from nltk.tokenize import sent_tokenize\n",
    "from nltk.tokenize import word_tokenize\n",
    "\n",
    "# Split scene_one into sentences: sentences\n",
    "sentences = sent_tokenize(scene_one)\n",
    "\n",
    "# Use word_tokenize to tokenize the fourth sentence: tokenized_sent\n",
    "tokenized_sent = word_tokenize(sentences[3])\n",
    "\n",
    "# Make a set of unique tokens in the entire scene: unique_tokens\n",
    "unique_tokens = set(word_tokenize(scene_one))\n",
    "\n",
    "# Print the unique tokens result\n",
    "print(unique_tokens)"
   ]
  },
  {
   "cell_type": "markdown",
   "metadata": {},
   "source": [
    "$\\blacktriangleright$ **Package pre-loading:**"
   ]
  },
  {
   "cell_type": "code",
   "execution_count": 8,
   "metadata": {
    "ExecuteTime": {
     "end_time": "2020-12-25T00:30:20.169643Z",
     "start_time": "2020-12-25T00:30:20.160393Z"
    }
   },
   "outputs": [],
   "source": [
    "import re"
   ]
  },
  {
   "cell_type": "markdown",
   "metadata": {},
   "source": [
    "$\\blacktriangleright$ **Regex (`re.search()`) practice:**"
   ]
  },
  {
   "cell_type": "code",
   "execution_count": 9,
   "metadata": {
    "ExecuteTime": {
     "end_time": "2020-12-25T00:30:20.184975Z",
     "start_time": "2020-12-25T00:30:20.180014Z"
    }
   },
   "outputs": [
    {
     "name": "stdout",
     "output_type": "stream",
     "text": [
      "580 588\n"
     ]
    }
   ],
   "source": [
    "# Search for the first occurrence of \"coconuts\" in scene_one: match\n",
    "match = re.search(\"coconuts\", scene_one)\n",
    "\n",
    "# Print the start and end indexes of match\n",
    "print(match.start(), match.end())"
   ]
  },
  {
   "cell_type": "code",
   "execution_count": 10,
   "metadata": {
    "ExecuteTime": {
     "end_time": "2020-12-25T00:30:20.202488Z",
     "start_time": "2020-12-25T00:30:20.189259Z"
    }
   },
   "outputs": [
    {
     "name": "stdout",
     "output_type": "stream",
     "text": [
      "<re.Match object; span=(9, 32), match='[wind] [clop clop clop]'>\n"
     ]
    }
   ],
   "source": [
    "# Write a regular expression to search for anything in square brackets: pattern1\n",
    "pattern1 = r\"\\[.*\\]\"\n",
    "\n",
    "# Use re.search to find the first text in square brackets\n",
    "print(re.search(pattern1, scene_one))"
   ]
  },
  {
   "cell_type": "code",
   "execution_count": 11,
   "metadata": {
    "ExecuteTime": {
     "end_time": "2020-12-25T00:30:20.214107Z",
     "start_time": "2020-12-25T00:30:20.208382Z"
    }
   },
   "outputs": [
    {
     "name": "stdout",
     "output_type": "stream",
     "text": [
      "<re.Match object; span=(0, 7), match='ARTHUR:'>\n"
     ]
    }
   ],
   "source": [
    "# Find the script notation at the beginning of the fourth sentence and print it\n",
    "pattern2 = r\"[\\w\\s\\#]+:\"\n",
    "print(re.match(pattern2, sentences[3]))"
   ]
  }
 ],
 "metadata": {
  "kernelspec": {
   "display_name": "Python 3",
   "language": "python",
   "name": "python3"
  },
  "language_info": {
   "codemirror_mode": {
    "name": "ipython",
    "version": 3
   },
   "file_extension": ".py",
   "mimetype": "text/x-python",
   "name": "python",
   "nbconvert_exporter": "python",
   "pygments_lexer": "ipython3",
   "version": "3.7.6"
  },
  "latex_envs": {
   "LaTeX_envs_menu_present": true,
   "autoclose": true,
   "autocomplete": true,
   "bibliofile": "biblio.bib",
   "cite_by": "apalike",
   "current_citInitial": 1,
   "eqLabelWithNumbers": true,
   "eqNumInitial": 1,
   "hotkeys": {
    "equation": "Ctrl-E",
    "itemize": "Ctrl-I"
   },
   "labels_anchors": false,
   "latex_user_defs": false,
   "report_style_numbering": true,
   "user_envs_cfg": true
  },
  "nbTranslate": {
   "displayLangs": [
    "*"
   ],
   "hotkey": "alt-t",
   "langInMainMenu": true,
   "sourceLang": "en",
   "targetLang": "fr",
   "useGoogleTranslate": true
  },
  "toc": {
   "base_numbering": 1,
   "nav_menu": {},
   "number_sections": true,
   "sideBar": true,
   "skip_h1_title": false,
   "title_cell": "Table of Contents",
   "title_sidebar": "Contents",
   "toc_cell": false,
   "toc_position": {
    "height": "calc(100% - 180px)",
    "left": "10px",
    "top": "150px",
    "width": "288px"
   },
   "toc_section_display": true,
   "toc_window_display": true
  },
  "varInspector": {
   "cols": {
    "lenName": 16,
    "lenType": 16,
    "lenVar": 40
   },
   "kernels_config": {
    "python": {
     "delete_cmd_postfix": "",
     "delete_cmd_prefix": "del ",
     "library": "var_list.py",
     "varRefreshCmd": "print(var_dic_list())"
    },
    "r": {
     "delete_cmd_postfix": ") ",
     "delete_cmd_prefix": "rm(",
     "library": "var_list.r",
     "varRefreshCmd": "cat(var_dic_list()) "
    }
   },
   "types_to_exclude": [
    "module",
    "function",
    "builtin_function_or_method",
    "instance",
    "_Feature"
   ],
   "window_display": true
  }
 },
 "nbformat": 4,
 "nbformat_minor": 4
}
