{
 "cells": [
  {
   "cell_type": "markdown",
   "metadata": {
    "ExecuteTime": {
     "end_time": "2020-07-24T11:20:21.989524Z",
     "start_time": "2020-07-24T11:20:12.960881Z"
    }
   },
   "source": [
    "```\n",
    "#############################################\n",
    "##                                         ##\n",
    "##  Natural Language Processing in Python  ##\n",
    "##                                         ##\n",
    "#############################################\n",
    "\n",
    "§1 Introduction to Natural Language Processing in Python\n",
    "\n",
    "§1.1 Regular expressions & word tokenization\n",
    "```"
   ]
  },
  {
   "cell_type": "markdown",
   "metadata": {},
   "source": [
    "# Introduction to tokenization"
   ]
  },
  {
   "cell_type": "markdown",
   "metadata": {},
   "source": [
    "## What is tokenization?\n",
    "\n",
    "* It turns a string or document into tokens (smaller chunks).\n",
    "\n",
    "* It's one step in preparing a text for NLP.\n",
    "\n",
    "* It has many different theories and rules.\n",
    "\n",
    "* Users can create their own rules using regular expressions.\n",
    "\n",
    "* There are some examples:\n",
    "\n",
    "\t* *breaking out words or sentences*\n",
    "    \n",
    "\t* *separating punctuation*\n",
    "    \n",
    "\t* *separating all hashtags in a tweet*"
   ]
  },
  {
   "cell_type": "markdown",
   "metadata": {},
   "source": [
    "## What is the `NLTK` library?\n",
    "\n",
    "* `NLTK`: Natural Language Toolkit"
   ]
  },
  {
   "cell_type": "markdown",
   "metadata": {},
   "source": [
    "## Code of the `NLTK` library:"
   ]
  },
  {
   "cell_type": "code",
   "execution_count": 1,
   "metadata": {
    "ExecuteTime": {
     "end_time": "2020-12-27T20:48:21.776466Z",
     "start_time": "2020-12-27T20:48:17.861895Z"
    }
   },
   "outputs": [
    {
     "data": {
      "text/plain": [
       "['Hi', 'there', '!']"
      ]
     },
     "execution_count": 1,
     "metadata": {},
     "output_type": "execute_result"
    }
   ],
   "source": [
    "from nltk.tokenize import word_tokenize\n",
    "\n",
    "word_tokenize(\"Hi there!\")"
   ]
  },
  {
   "cell_type": "markdown",
   "metadata": {
    "ExecuteTime": {
     "end_time": "2020-12-20T20:08:55.570909Z",
     "start_time": "2020-12-20T20:08:55.565185Z"
    }
   },
   "source": [
    "## Why tokenize?\n",
    "\n",
    "* Easier to map part of speech.\n",
    "\n",
    "* To match common words.\n",
    "\n",
    "* To remove unwanted tokens.\n",
    "\n",
    "* E.g., \n",
    "\n",
    "    ```\n",
    "    >>> word_tokenize(\"I don't like Sam's shoes.\")\n",
    "    ['I', 'do', \"n't\", 'like', 'Sam', \"'s\", 'shoes', '.']\n",
    "    ```"
   ]
  },
  {
   "cell_type": "markdown",
   "metadata": {},
   "source": [
    "## What are the other `NLTK` tokenizers?\n",
    "\n",
    "* `sent_tokenize`: tokenize a document into sentences.\n",
    "\n",
    "* `regexp_tokenize`: tokenize a string or document based on a regular expression pattern.\n",
    "\n",
    "* `TweetTokenizer`: special class just for tweet tokenization, allowing separate hashtags, mentions, and lots of exclamation points, such as '!!!'."
   ]
  },
  {
   "cell_type": "markdown",
   "metadata": {},
   "source": [
    "## Code of regex practice (the difference between `re.search()` and `re.match()`):"
   ]
  },
  {
   "cell_type": "code",
   "execution_count": 2,
   "metadata": {
    "ExecuteTime": {
     "end_time": "2020-12-27T20:48:21.784584Z",
     "start_time": "2020-12-27T20:48:21.779091Z"
    }
   },
   "outputs": [
    {
     "data": {
      "text/plain": [
       "<re.Match object; span=(0, 3), match='abc'>"
      ]
     },
     "execution_count": 2,
     "metadata": {},
     "output_type": "execute_result"
    }
   ],
   "source": [
    "import re\n",
    "\n",
    "re.match('abc', 'abcde')"
   ]
  },
  {
   "cell_type": "code",
   "execution_count": 3,
   "metadata": {
    "ExecuteTime": {
     "end_time": "2020-12-27T20:48:21.800925Z",
     "start_time": "2020-12-27T20:48:21.793464Z"
    }
   },
   "outputs": [
    {
     "data": {
      "text/plain": [
       "<re.Match object; span=(0, 3), match='abc'>"
      ]
     },
     "execution_count": 3,
     "metadata": {},
     "output_type": "execute_result"
    }
   ],
   "source": [
    "re.search('abc', 'abcde')"
   ]
  },
  {
   "cell_type": "code",
   "execution_count": 4,
   "metadata": {
    "ExecuteTime": {
     "end_time": "2020-12-27T20:48:21.809535Z",
     "start_time": "2020-12-27T20:48:21.805918Z"
    }
   },
   "outputs": [],
   "source": [
    "re.match('cd', 'abcde')"
   ]
  },
  {
   "cell_type": "code",
   "execution_count": 5,
   "metadata": {
    "ExecuteTime": {
     "end_time": "2020-12-27T20:48:21.818464Z",
     "start_time": "2020-12-27T20:48:21.812220Z"
    }
   },
   "outputs": [
    {
     "data": {
      "text/plain": [
       "<re.Match object; span=(2, 4), match='cd'>"
      ]
     },
     "execution_count": 5,
     "metadata": {},
     "output_type": "execute_result"
    }
   ],
   "source": [
    "re.search('cd', 'abcde')"
   ]
  },
  {
   "cell_type": "markdown",
   "metadata": {},
   "source": [
    "## Practice exercises for introduction to tokenization:\n",
    "\n",
    "$\\blacktriangleright$ **Data pre-loading:**"
   ]
  },
  {
   "cell_type": "code",
   "execution_count": 6,
   "metadata": {
    "ExecuteTime": {
     "end_time": "2020-12-27T20:48:21.832256Z",
     "start_time": "2020-12-27T20:48:21.820566Z"
    }
   },
   "outputs": [],
   "source": [
    "scene_one = open(\"ref2. Monty Python and the Holy Grail.txt\").read()"
   ]
  },
  {
   "cell_type": "markdown",
   "metadata": {
    "ExecuteTime": {
     "end_time": "2020-12-19T22:02:33.692343Z",
     "start_time": "2020-12-19T22:02:33.687220Z"
    }
   },
   "source": [
    "$\\blacktriangleright$ **`NLTK` word tokenization with practice:**"
   ]
  },
  {
   "cell_type": "code",
   "execution_count": 7,
   "metadata": {
    "ExecuteTime": {
     "end_time": "2020-12-27T20:48:22.073504Z",
     "start_time": "2020-12-27T20:48:21.834598Z"
    }
   },
   "outputs": [
    {
     "name": "stdout",
     "output_type": "stream",
     "text": [
      "{'cheesy', 'Bravest', 'woosh', 'fight', 'continue', 'freedom', 'Gawain', 'Even', 'fourth', 'meant', 'shimmering', 'husk', 'NARRATOR', 'easily', 'It', 'plan', 'fellows', 'whom', 'breakfast', 'they', 'considerable', 'dare', \"'old\", 'zone', 'decision', 'tart', 'sawwwww', 'whose', 'Fetchez', 'wicked', 'risk', '9', 'Where', 'unplugged', '--', 'ceremony', 'forest', 'shalt', 'aptly', \"'Morning\", 'it', 'Anthrax', 'ere', 'Hurry', '11', 'false', 'lad', 'question', 'bid', 'MAN', 'eh', 'tear', 'Aaaugh', 'Torment', \"'Ni\", 'perpetuates', 'listen', 'arrows', 'carried', 'busy', 'sword', 'hear', \"'em\", 'va.', 'heart', 'smack', 'thud', 'shelter', 'kick', 'prevent', 'join', 'string', 'tackle', 'Tim', '.', 'Joseph', 'line', 'us', 'pestilence', 'Not', 'CAMERAMAN', 'runes', 'clllank', 'together', 'un', 'French', 'valiant', 'classes', 'shall', 'killer', 'Good', 'enough', 'south', 'proved', 'eat', 'to', 'Packing', 'worked', 'Shrubber', 'breath', 'Alice', 'knows', 'domine', 'word', 'Greetings', 'done', 'lying', 'dungeon', 'Welcome', 'bells', 'until', 'spake', 'woman', 'Run', 'ca', 'bravest', 'Why', 'these', 'Said', 'Lady', 'cast', 'shrubber', 'demand', 'Gable', 'thanks', 'Ooh', 'king', 'air-speed', 'wait', 'MIDGET', 'sixteen', 'off', 'towards', 'mine', 'through', 'met', 'Since', 'maintain', 'Lord', 'said', 'tough', 'living', 'death', 'Mmm', 'late', 'Thpppppt', 'stop', 'merger', 'SIR', 'HEADS', 'headoff', 'told', 'outside', '(', 'BROTHER', 'dynamite', 'every', 'Ninepence', 'Right', 'ratified', 'score', 'wield', 'footwork', 'Beast', 'spoken', 'sharp', 'about', 'Will', 'There', 'swallow', 'Father', '?', 'fruit', 'guards', 'Try', 'real', 'servant', 'Un', 'father', 'wise', 'Frank', 'run', 'twin', 'grovel', 'Uuh', 'turns', 'heads', 'conclusions', 'trumpets', 'never', 'Beyond', 'color', \"'aaaah\", 'VILLAGERS', 'anywhere', 'sacred', 'Practice', 'song', 'mercy', 'straight', 'ready', 'keeper', 'shut', 'strange', 'Would', ',', 'Hmm', 'valor', 'WIFE', 'Launcelot', 'w', 'miss', 'accent', 'twong', 'Today', 'wants', 'wave', 'snows', 'PATSY', 'Wood', '23', 'CRASH', 'inherent', 'cruel', 'self-perpetuating', 'snap', 'explain', 'after', 'whispering', \"'forgive\", 'yes', 'mooooooo', 'Churches', 'Doctor', 'Three', 'opera', 'Jesus', 'purest', 'Heee', 'buggering', 'carry', 'Dappy', 'Thee', \"'sorry\", 'leap', 'OFFICER', 'tonight', 'Back', 'trouble', 'second', 'he', 'Aaah', 'round', 'sheep', 'telling', 'depressing', 'intermission', 'Blue', 'home', 'alive', 'aquatic', 'lair', 'riding', 'always', 'Thsss', 'Nine', 'tree', 'hell', 'night', 'foul', 'you', 'GREEN', 'gravy', 'gallantly', 'worthy', 'beautiful', 'burned', 'completely', 'Two', 'ooh', 'business', 'particular', 'eet', 'cope', 'in', 'Swamp', '15', 'door', 'model', 'groveling', 'handsome', 'oooh', 'third', 'requiem', 'hast', 'armor', 'our', 'nasty', 'tiny', 'writing', 'We', 'carved', 'Most', 'All', 'totally', 'haw', \"'uuggggggh\", 'suffered', 'art', 'lies', 'discovers', 'jump', 'Hoa', 'sire', 'fell', 'summon', 'warmer', 'strength', 'liver', 'Does', 'end', 'thought', 'cry', 'high', 'Dennis', 'Bones', 'workers', 'try', 'Looks', 'baaaa', 'history', 'vicious', 'scribble', 'sniff', 'Skip', 'LOVELY', 'impeccable', '10', 'known', 'went', '7', 'Enchanter', 'general', 'sir', 'therefore', 'sing', 'biggest', 'watery', 'mandate', 'assist', 'KNIGHTS', '!', 'VOICE', 'Ni', 'PIGLET', 'ham', 'e', 'spam', \"'Til\", 'Do', 'case', 'y', 'Bravely', 'eccentric', 'an', 'eis', 'pay', 'rope', 'mud', 'reached', 'RANDOM', 'awfully', 'that', 'bleeder', 'were', 'walk', 'stand', 'dona', 'many', 'Schools', 'temptation', 'stood', 'breadth', 'held', 'clack', 'got', 'surprise', 'GUESTS', 'mayest', 'removed', 'something', 'ones', 'retreat', 'consulted', 'Never', 'yel', 'stuffed', 'Shrubberies', 'finest', 'particularly', 'taunting', 'progress', 'centuries', 'sweet', 'Here', 'splat', 'immediately', 'mortally', 'beside', 'who', 'approacheth', 'big', 'retold', 'purpose', 'CUSTOMER', 'those', 'cereals', 'no', 'bitching', 'his', 'clop', 'More', 'go', 'heroic', 'distress', 'Guards', 'upon', 'matter', 'bad', 'profane', 'frozen', 'thirty-seven', 'largest', 'stab', 'Ask', 'Could', 'Oooh', 'floats', 'felt', 'Chapter', 'influential', 'defeat', 'Mind', 'lobbest', 'lucky', 'accompanied', 'animator', 'Use', 'Bon', 'carve', 'Princess', 'best', 'just', 'things', \"'d\", 'preserving', 'dancing', 'logically', 'house', 'b', 'think', 'leads', 'assault', 'Britain', 'handle', 'take', 'turned', 'Winter', 'actually', 'She', 'bosom', 'Iesu', 'outrageous', 'valleys', 'uhh', 'was', 'witness', \"n't\", 'taunt', 'brave', 'Hill', 'much', 'Woa', 'icy', 'Quoi', 'draw', \"'ni\", 'Gorge', 'weather', 'CHARACTER', 'become', 'huge', '24', 'Twenty-one', 'blanket', 'creature', 'blondes', 'near', 'grin', 'finds', 'their', 'Book', 'music', 'farcical', 'Eternal', 'giggle', 'set', 'me', 'large', 'king-a', 'CROWD', 'smashing', 'the', 'yeah', 'nervous', 'shivering', 'gra', 'acting', 'suggesting', 'move', 'worried', 'spirit', 'obviously', 'and', 'expect', 'Old', 'Iiiives', 'Thpppt', 'dogma', ']', 'less', 'give-away', 'men', 'such', 'horse', 'time', 'scimitar', 'He', 'WOMAN', 'scots', 'only', 'anyone', 'nor', 'aloft', 'mer', 'quick', 'seek', 'Iiiiives', 'Dramatically', 'Battle', 'tale', 'RIGHT', 'Pin', 'Everything', 'country', 'gurgle', 'Silence', 'Crapper', 'knight', 'feast', 'Speak', '22', 'beds', 'BRIDGEKEEPER', 'Away', 'sons', 'Chicken', 'ladies', 'Herbert', 'previous', 'An', 'safety', 'martin', 'gave', 'wood', 'SUN', 'longer', 'Thou', 'bring', 'Bread', 'pig-dogs', 'feel', 'Defeat', 'affairs', 'Together', 'Actually', 'squeak', 'Thy', 'enchanter', 'what', 'Hello', 'behaviour', 'dark', 'earthquakes', 'Cherries', 'Perhaps', 'At', 'Spring', 'tie', 'next', 'repressing', 'Quick', 'Eh', 'duty', 'repressed', 'rode', 'Aagh', 'animal', 'social', 'uuup', 'lapin', 'nearer', 'sent', 'further', 'Ector', 'sonny', 'scene', 'jam', 'pram', 'week', 'flint', 'executive', 'even', 'scared', 'imperialist', 'bother', 'humble', 'laurels', 'plover', 'heeh', 'pure', 'dying', 'LUCKY', 'path', 'ferocity', \"'cause\", 'food', 'bint', 'tragic', 'Excuse', 'Roger', 'Remove', 'suffice', 'ponds', 'Nay', 'sight', 'too', 'wan', 'Then', 'ways', 's', 'mashed', \"'shrubberies\", 'seldom', 'girl', 'welcome', 'purely', 'Augh', 'understanding', 'danger', 'splash', 'mumble', 'Come', 'SHRUBBER', 'refuse', 'depart', 'ratios', 'ask', 'lives', 'necessary', 'indefatigable', 'Uther', 'mayhem', 'became', 'cost', 'And', 'When', 'cough', 'dead', 'CART-MASTER', 'crash', 'being', 'Tower', 'Therefore', 'enter', 'majority', 'science', 'Robin', 'magne', 'velocity', 'Hm', 'Aauuggghhh', 'awaaay', 'SECOND', 'Farewell', 'chance', 'In', 'howl', 'utterly', 'pull', 'BLACK', 'Those', 'mightiest', 'examine', 'Mine', 'awaits', 'while', 'Yeaaah', 'dictating', 'tail', 'bladders', 'Supposing', 'certainly', 'eight', 'Riiight', 'Divine', 'shows', 'look', 'by', 'LAUNCELOT', 'entering', 'your', 'drink', 'live', 'body', 'Prepare', 'Bridge', 'trade', 'Ohh', 'illegitimate-faced', 'carp', 'made', 'himself', 'cadeau', 'for', 'u', 'stops', 'is', 'tell', 'ptoo', 'GUARDS', 'pointy', 'Four', 'samite', 'owns', 'return', 'we', 'wet', 'Armaments', 'supports', 'impersonate', 'apart', 'work', 'married', 'far', 'weighs', 'setting', 'Rheged', 'Say', 'there', 'goes', 'somebody', 'own', 'verses', 'guard', 'make', 'alarm', 'enjoying', 'travellers', 'birds', 'Peng', 'basic', 'African', 'task', 'Are', 'Clear', 'recover', 'beacon', 'again', 'A', 'fwump', 'out-clever', 'Tell', 'Honestly', 'shit', 'of', 'Have', 'Ewing', 'Himself', 'resting', 'Saint', 'Or', 'will', 'laden', 'Hallo', 'Bors', 'sign', 'dragging', 'hmm', 'wishes', 'ALL', 'trusty', 'sink', 'Arimathea', 'Huy', 'four', 'With', 'conclusion', 'unarmed', 'need', 'None', 'Go', 'sample', 'regulations', 'fire', 'Thppt', 'may', 'dictatorship', 'bite', \"'First\", 'mile', 'see', 'rabbit', 'His', 'dressed', 'CRONE', 'Ives', 'bringing', 'mistake', 'vain', 'then', 'table', 'sponge', 'Yay', 'get', 'Uugh', 'quite', 'Lie', 'legally', 'Hoo', 'raised', 'fly', 'nice-a', 'binding', 'underwear', 'Cider', 'woods', 'pweeng', 'Ha', 'diaphragm', 'time-a', 'wounding', 'Nu', 'period', 'bugger-folk', 'Message', 'HERBERT', 'Aaauggh', 'joyful', 'tit', 'looks', 'forth', 'door-opening', 'dunno', 'Peril', 'but', 'exciting', 'B', 'decided', 'whop', 'OTHER', 'n', 'hidden', 'personally', 'officer', 'raped', 'pause', 'treat', 'Summer', \"'s\", 'nine', 'spooky', 'answer', 'meeting', 'Aaagh', \"'m\", 'the-not-quite-so-brave-as-Sir-Lancelot', 'illustrious', 'Uh', 'suit', 'Dingo', 'Did', 'wooden', 'uuggggggh', 'Y', 'la', 'flights', 'waste', 'makes', 'let', 'headed', 'ran', 'at', 'Picture', 'rewr', 'automatically', 'quests', 'pussy', 'bits', 'dappy', 'very', 'rocks', 'sank', 'does', 'Umm', 'Waa', 'halves', 'same', 'Almighty', 'pig', 'using', 'scholar', 'Aaaah', 'Arthur', 'Cut', \"'\", 'carving', 'Auuuuuuuugh', 'Grail', \"'it\", 'request', 'Robinson', 'No', 'BORS', \"C'est\", 'bond', 'wedding', 'silly', 'happens', 'KNIGHT', 'scrape', 'bride', 'build', 'bleed', 'Burn', 'come', 'send', 'Table', 'eyes', 'k-niggets', 'fought', 'two-thirds', 'starling', 'help', 'seemed', 'find', 'chord', 'year', 'Ridden', 'git', 'hopeless', 'Aaaaaaaaah', 'pound', 'siren', 'buy', 'Far', 'keep', 'bastard', 'Alright', 'chanting', 'so-called', 'herring', 'comin', 'castanets', 'knock', 'sovereign', 'INSPECTOR', 'Forward', 'problems', 'Thppppt', 'gained', 'fifty', 'also', 'strangers', 'five', 'employed', 'vital', 'back', 'capital', 'Gallahad', 'call', 'crone', 'voluntarily', 'police', 'keepers', 'Seek', 'unladen', 'saved', \"'re\", 'Make', 'oh', 'sometimes', 'types-a', 'single-handed', 'three', 'easy', 'a', 'Pull', 'Bad', 'temptress', 'electric', 'fold', 'helpful', 'put', 'found', 'Your', 'forward', 'Uhh', 'names', 'na', 'more', 'tea', 'g', 'everyone', \"'Ere\", 'guided', 'Angnor', '20', 'show', 'The', 'gone', 'Get', 'throughout', 'hamster', 'sell', 'times', 'somewhere', 'bi-weekly', 'daughter', 'Yes', 'GUARD', 'compared', 'They', 'hang', 'Aauuugh', 'doors', 'proceed', 'Thursday', 'pack', 'dance', 'economic', 'might', 'unsingable', 'WINSTON', 'weapon', 'Yeaah', 'horrendous', 'lads', 'making', 'certain', 'courage', 'tops', 'class', 'Firstly', 'knew', 'Supreme', 'persons', 'GOD', 'van', 'Autumn', 'That', 'Consult', 'blessing', 'how', 'k-nnnnniggets', 'ride', 'wayy', 'ehh', 'aunties', 'Not-appearing-in-this-film', 'Surely', '5', 'horn', 'Please', 'radio', 'Camelot', 'chorus', 'bottom', 'bang', 'Fine', 'newt', 'clear', 'amazes', 'Prince', 'remember', 'bats', 'rrrr', 'Stay', 'blood', 'killed', 'biters', 'outwit', 'stretched', 'differences', 'chickened', 'Listen', 'wonderful', 'throat', \"e'er\", 'twenty', 'from', 'number', \"'aaggggh\", 'strongest', 'ye', 'badger', 'if', 'ENCHANTER', 'called', 'Very', 'minute', 'uh', 'needs', 'absolutely', 'scales', '1', 'delirious', 'Steady', 'want', 'along', 'forget', 'inferior', 'way', 'PERSON', 'autonomous', 'autocracy', 'north', 'identical', 'all', 'working', 'kings', 'sure', 'Let', 'STUNNER', 'orangutans', 'had', \"d'you\", 'Throw', 'evil', 'ill.', 'gay', 'someone', 'out', 'hand', 'alight', 'p', '16', 'Quickly', 'here', 'must', 'settles', 'last', 'quest', 'remain', 'mystic', 'stone', 'Hyy', 'idiom', 'point', 'Just', 'grail-shaped', 'good', 'Ah', 'able', 'attend', 'head', 'Between', 'still', 'Hey', 'But', 'aaaaaah', 'Psalms', 'Oooo', 'bunny', 'Hiyaah', 'Badon', 'dear', 'bum', 'expensive', 'yourself', 'argue', \"'Oooooooh\", 'quack', 'minstrels', '3', '21', 'soft', 'Help', ';', 'True', 'leave', 'throwing', 'castle', 'awhile', 'behold', 'not', 'saw', 'clap', 'Aaaaugh', 'kingdom', 'count', ':', 'pulp', 'unclog', 'CARTOON', 'One', 'hundred-and-fifty', 'singing', 'Charge', 'mooo', 'clad', 'wrong', 'aaugh', \"'Here\", 'sex', 'Like', 'tropical', 'Patsy', 'major', 'passed', 'ugly', 'protect', 'Well', 'wo', \"'is\", 'DENNIS', 'Action', 'God', 'command', 'two-level', 'reads', 'Erm', 'are', 'glad', 'Follow', 'Exactly', 'been', 'Olfin', 'CHARACTERS', 'drilllll', 'man', 'feet', 'government', 'nobody', 'SCENE', 'folk', 'Shut', \"'Aauuuuugh\", 'anyway', 'split', 'against', 'pray', 'KING', 'great', 'fooling', 'donkey-bottom', 'triumphs', 'fart', 'Ho', 'lived', 'Piglet', 'mac', 'most', 'Pure', 'worry', 'already', 'so', 'Pendragon', 'Hiyya', 'nothing', 'bows', 'Mother', 'has', 'twenty-four', 'Providence', 'O', 'person', 'rescue', 'Galahad', 'banana-shaped', 'stayed', 'fortune', 'first', 'See', 'European', 'him', 'well', 'pass', 'How', 'bonk', 'Apples', 'warning', 'scenes', 'young', 'Thank', 'offensive', 'coconuts', 'Keep', \"'Course\", 'Ulk', 'gon', 'favorite', 'Leaving', 'rather', 'MONKS', 'Mercea', 'nibble', 'terribly', 'terrible', 'auuuuuuuugh', 'LEFT', 'order', 'worse', 'derives', 'simple', 'Ages', 'say', 'oo', 'PRINCE', 'clang', 'clue', 'hacked', 'up', 'doctors', 'Be', 'thonk', 'thine', 'tap-dancing', 'Winston', 'enemies', 'nice', 'For', 'creep', 'cut', 'least', 'cross', 'would', 'bones', 'English', 'wart', 'kind', 'mother', 'I', 'length', 'formed', 'dull', 'high-pitched', 'cart', 'sister', 'says', 'away', 'Who', 'separate', \"'Ecky-ecky-ecky-ecky-pikang-zoop-boing-goodem-zoo-owli-zhiv\", 'holy', 'daft', 'yours', 'as', 'climes', 'Forgive', 'asks', 'Anarcho-syndicalism', 'islands', 'everything', 'i', 'please', 'ungallant', 'ha', 'daring', 'day', 'small', 'beat', 'around', 'Maynard', 'presence', 'GALAHAD', 'Build', 'anything', 'mean', 'almost', 'reared', 'By', 'society', 'baby', \"'Man\", 'Mud', 'really', 'feathers', 'exploiting', 'dirty', 'dangerous', 'dub', 'yet', 'Ahh', 'flight', 'Grenade', 'hills', 'temperate', 'ARMY', 'resumes', 'Victory', 'Dis-mount', 'knocked', 'bridge', 'If', 'cover', 'design', 'between', 'crossed', 'DIRECTOR', 'dorsal', 'tinder', 'idea', 'Bring', 'Round', 'ju', 'chosen', 'remembered', 'Lead', 'thwonk', 'Concorde', 'some', 'moment', \"'ve\", 'example', 'BEDEVERE', 'frontal', 'Anybody', 'changed', 'water', 'mangled', 'lady', 'main', 'Stand', 'bold', 'creeper', 'warned', 'undressing', 'scott', 'looking', 'er', 'thing', 'weight', 'know', 'Tall', 'afraid', 'Over', 'them', 'lie', 'individually', 'strewn', 'bet', 'give', 'little', 'defeator', 'harmless', 'medieval', 'talk', 'burn', 'My', 'On', 'taking', 'pimples', 'invincible', 'ignore', 'son', 'ridden', 'favor', 'basis', 'marry', 'dramatic', 'full', 'adversary', 'quarrel', 'excepting', 'boom', 'Hooray', 'lost', 'hat', 'test', 'Attila', 'place', 'Oui', 'afoot', 'Aramaic', 'training', 'other', 'Huyah', 'tired', \"'S\", 'Assyria', 'averting', 'deeds', 'doubt', 'covered', 'Idiom', 'Found', \"'Dennis\", 'emperor', 'hiyaah', 'answers', \"'til\", 'SOLDIER', 'guarded', 'Ow', 'Aaauugh', 'snore', 'wipers', 'language', 'migrate', 'MIDDLE', 'Brave', 'forced', 'wings', 'Hang', 'reasonable', 'unhealthy', 'Guy', \"'T\", 'slightly', 'Recently', 'avenged', 'heard', 'did', 'passing', 'boil', 'suddenly', 'lot', 'face', 'watch', 'shrubbery', 'lovely', 'Aggh', 'speak', 'be', 'Saxons', 'over', 'cartoon', 'Excalibur', 'push', 'bad-tempered', 'Yapping', 'bowels', 'doing', 'trough', 'ni', 'foot', 'pond', 'gentle', 'hee', 'Lancelot', 'spanked', 'advancing', 'lonely', 'bangin', 'died', 'whinny', 'lambs', 'or', 'dress', 'grip', 'supposed', 'Cornwall', 'pansy', 'silence', 'roar', 'lobbed', 'any', 'CRAPPER', 'two', 'knees-bent', 'Look', 'l', 'This', 'nick', 'varletesses', 'higher', 'DEAD', 'war', 'understand', 'sneaking', 'o', 'each', 'wherein', 'Um', 'closest', 'testicles', 'dad', 'SENTRY', 'Antioch', 'feint', '6', 'vache', 'thy', 'she', 'Unfortunately', 'can', 'j', 'WITCH', 'commands', 'MINSTREL', 'with', 'supreme', 'Running', 'Once', 'visually', 'power', 'follow', 'Clark', 'teeth', 'Chickennn', 'mad', '12', 'Hand', 'Meanwhile', 'built', 'entered', 'middle', 'ever', 'saying', 'left', 'chu', 'creak', 'penalty', 'brush', 'HISTORIAN', 'ai', 'Castle', 'town', 'die', 'Am', 'Quiet', 'grail', 'indeed', 'keen', 'without', 'once', 'Hold', 'quiet', 'learning', 'thank', 'lose', 'um', 'worst', 'lord', 'taken', 'bed', 'kneecaps', 'force', 'strand', 'fine', 'dressing', 'act', 'bottoms', 'whether', 'BRIDE', 'later', 'pounds', 'bravely', 'rock', 'new', 'NI', 'rest', 'Nothing', 'questions', 'grenade', 'Holy', 'OF', 'escape', 'chest', 'seems', 'Yup', 'peril', 'oui', 'change', 'ordinary', 'deal', 'angels', 'do', 'rich', 'sloths', 'elderberries', 'carries', 'Christ', 'Is', 'Aaaaaaaah', 'Monsieur', 'hall', 'arm', 'ROGER', 'N', 'seen', 'medical', '14', 'seem', 'What', 'rejoicing', 'right', 'looney', 'required', 'Every', 'thump', 'rodent', 'Yeah', 'routines', 'de', 'GUEST', 'twang', 'Lucky', 'wounded', 'eats', 'hospitality', 'tiny-brained', 'Until', 'behind', 'sod', 'soiled', 'system', 'rhymes', 'discovered', 'Quite', 'Oh', 'frighten', 'Pie', 'coconut', 'union', 'flesh', 'Tale', 'noise', 'Hiyah', 'kneeling', 'donaeis', 'where', 'bicker', 'window-dresser', 'France', 'pen', 'ethereal', 'coming', 'bois', 'stew', 'excuse', 'luck', 'Open', 'types', 'warm', 'Five', 'bird', 'Bristol', 'Stop', 'her', 'ninepence', 'broken', 'search', 'better', 'scratch', 'Nador', 'Great', 'W', 'Bedevere', 'soon', 'bastards', '#', 'distributing', 'Now', 'chops', 'Our', 'Caerbannog', 'than', 'when', 'marrying', 'winter', 'Haw', 'shrubberies', 'whoever', \"'To\", 'Shh', 'GIRLS', '4', 'miserable', 'yelling', 'brought', 'pissing', 'haaa', 'Allo', 'CONCORDE', '8', 'Chop', 'THE', 'arrange', 'punishment', 'havin', 'anchovies', 'old', 'my', 'band', '[', ')', 'Behold', 'charged', 'Silly', 'else', 'Aaaaaah', 'hospital', 'nightfall', 'ANIMATOR', 'Fiends', 'started', 'should', '17', 'now', 'clank', 'Rather', 'formidable', 'disheartened', 'carrying', 'liege', 'etc', 'fatal', 'Bedwere', 'auntie', 'on', 'internal', 'fled', 'Oooohoohohooo', 'Anyway', 'laughing', 'sense', 'Off', 'having', 'swallows', 'named', 'blow', 'appease', 'wound', 'PRISONER', 'happy', 'looked', 'Put', 'sworn', 'FATHER', 'given', 'packing', 'smelt', 'aside', 'stay', 'King', 'You', 'stupid', 'vests', 'eisrequiem', 'wiper', 'beyond', 'non-migratory', 'outdated', 'kills', 'Lake', 'Heh', 'Neee-wom', 'attack', 'ours', 'oral', 'court', 'duck', 'down', 'north-east', 'traveller', 'gouged', 'Knights', 'direction', 'limbs', 'people', 'confuse', 'To', 'c', 'since', 'why', 'today', 'properly', 'bit', 'ROBIN', 'stress', 'object', 'have', 'snuff', 'Man', 'sacrifice', 'witch', 'which', 'guest', 'moistened', 'committed', 'knights', 'side', 'Ay', 'brain', 'peasant', 'collective', 'Amen', 'bed-wetting', 'Hah', 'yellow', 'forty-three', 'am', 'suspenseful', 'vote', 'violence', 'brunettes', 'relax', 'FRENCH', \"'anging\", 'running', 'convinced', 'masses', 'course', 'armed', 'minutes', 'honored', 'Umhm', 'strategy', 'cave', 'wedlock', 'this', 'cop', 'haste', 'commune', 'heh', 'fallen', 'like', 'zoosh', 'into', 'Aauuuves', 'Knight', 'filth', 'nostrils', 'England', 'crying', 'Bloody', 'lunged', 'curtains', 'nineteen-and-a-half', 'bridges', 'Shall', 'Whoa', 'interested', 'nearly', 'praised', 'Walk', 'AMAZING', 'bless', 'guiding', 'naughty', 'k-nnniggets', 'leaps', 'OLD', 'words', 'Hee', 'Zoot', 'suppose', 'Court', 'Sorry', 'although', 'boys', '..', 'elbows', 'Other', 'fair', 'DINGO', 'private', 'vary', 'ARTHUR', 'clunk', 'approaching', 'glory', 'swords', 'use', 'one', '13', 'May', 'Sir', 'hoo', 'going', 'name', 'foe', 'hello', 'master', 'Hya', 'Ayy', 'leg', 'Britons', 'Death', 'either', 'bathing', 'grips', 'Midget', 'took', 'HEAD', 'glass', \"'Erbert\", 'arms', 'earth', 'problem', 'wide', 'agree', 'streak', 'Loimbard', \"'ll\", 'thou', 'note', 'mate', 'bloody', 'plain', 'returns', 'Too', 'Agh', 'scarper', 'Order', 'relics', 'guests', 'TIM', 'signifying', 'Chaste', 'perilous', 'used', 'spanking', 'sad', 'present', 'effect', 'ZOOT', 'sigh', 'vouchsafed', 'because', 'slash', 'Eee', 'Really', 'smashed', '...', 'witches', 'kicked', 'ruffians', 'land', 'Halt', 'U', 'jokes', 'dine', 'Hic', 'mangy', 'Explain', 'Splendid', 'Black', 'sort', 'entrance', 'another', 'kill', 'biscuits', 'women', 'its', 'Wayy', 'counting', 'nose', 'inside', 'threw', 'MAYNARD', 'parts', 'successful', 'Huh', 'liar', 'bridgekeeper', 'chastity', 'tracts', 'ho', 'ounce', 'maybe', 'walking', 'PARTY', 'Dragon', 'wind', 'As', 'legendary', 'sun', 'legs', 'sequin', 'getting', \"'round\", 'Camaaaaaargue', 'burst', 'friend', 'PRINCESS', 'Brother', 'room', 'anarcho-syndicalist', 'special', 'VILLAGER', 'outdoors', 'under', '19', 'awaaaaay', 'Aah', 'Must', 'couple', 'could', 'asking', 'occasion', 'allowed', 'apologise', 'buggered', 'sorry', 'empty', 'So', 'spank', 'accomplished', 'performance', 'Of', 'imprisoned', 'life', 'swamp', 'manner', '2', 'chickening', 'Which', 'open', '18', 'long', 'Wait'}\n"
     ]
    }
   ],
   "source": [
    "# Import necessary modules\n",
    "from nltk.tokenize import sent_tokenize\n",
    "from nltk.tokenize import word_tokenize\n",
    "\n",
    "# Split scene_one into sentences: sentences\n",
    "sentences = sent_tokenize(scene_one)\n",
    "\n",
    "# Use word_tokenize to tokenize the fourth sentence: tokenized_sent\n",
    "tokenized_sent = word_tokenize(sentences[3])\n",
    "\n",
    "# Make a set of unique tokens in the entire scene: unique_tokens\n",
    "unique_tokens = set(word_tokenize(scene_one))\n",
    "\n",
    "# Print the unique tokens result\n",
    "print(unique_tokens)"
   ]
  },
  {
   "cell_type": "markdown",
   "metadata": {},
   "source": [
    "$\\blacktriangleright$ **Package pre-loading:**"
   ]
  },
  {
   "cell_type": "code",
   "execution_count": 8,
   "metadata": {
    "ExecuteTime": {
     "end_time": "2020-12-27T20:48:22.080979Z",
     "start_time": "2020-12-27T20:48:22.077261Z"
    }
   },
   "outputs": [],
   "source": [
    "import re"
   ]
  },
  {
   "cell_type": "markdown",
   "metadata": {},
   "source": [
    "$\\blacktriangleright$ **Regex (`re.search()`) practice:**"
   ]
  },
  {
   "cell_type": "code",
   "execution_count": 9,
   "metadata": {
    "ExecuteTime": {
     "end_time": "2020-12-27T20:48:22.094695Z",
     "start_time": "2020-12-27T20:48:22.090797Z"
    }
   },
   "outputs": [
    {
     "name": "stdout",
     "output_type": "stream",
     "text": [
      "580 588\n"
     ]
    }
   ],
   "source": [
    "# Search for the first occurrence of \"coconuts\" in scene_one: match\n",
    "match = re.search(\"coconuts\", scene_one)\n",
    "\n",
    "# Print the start and end indexes of match\n",
    "print(match.start(), match.end())"
   ]
  },
  {
   "cell_type": "code",
   "execution_count": 10,
   "metadata": {
    "ExecuteTime": {
     "end_time": "2020-12-27T20:48:22.109103Z",
     "start_time": "2020-12-27T20:48:22.096997Z"
    }
   },
   "outputs": [
    {
     "name": "stdout",
     "output_type": "stream",
     "text": [
      "<re.Match object; span=(9, 32), match='[wind] [clop clop clop]'>\n"
     ]
    }
   ],
   "source": [
    "# Write a regular expression to search for anything in square brackets: pattern1\n",
    "pattern1 = r\"\\[.*\\]\"\n",
    "\n",
    "# Use re.search to find the first text in square brackets\n",
    "print(re.search(pattern1, scene_one))"
   ]
  },
  {
   "cell_type": "code",
   "execution_count": 11,
   "metadata": {
    "ExecuteTime": {
     "end_time": "2020-12-27T20:48:22.120004Z",
     "start_time": "2020-12-27T20:48:22.111668Z"
    }
   },
   "outputs": [
    {
     "name": "stdout",
     "output_type": "stream",
     "text": [
      "<re.Match object; span=(0, 7), match='ARTHUR:'>\n"
     ]
    }
   ],
   "source": [
    "# Find the script notation at the beginning of the fourth sentence and print it\n",
    "pattern2 = r\"[\\w\\s\\#]+:\"\n",
    "print(re.match(pattern2, sentences[3]))"
   ]
  }
 ],
 "metadata": {
  "kernelspec": {
   "display_name": "Python 3",
   "language": "python",
   "name": "python3"
  },
  "language_info": {
   "codemirror_mode": {
    "name": "ipython",
    "version": 3
   },
   "file_extension": ".py",
   "mimetype": "text/x-python",
   "name": "python",
   "nbconvert_exporter": "python",
   "pygments_lexer": "ipython3",
   "version": "3.7.6"
  },
  "latex_envs": {
   "LaTeX_envs_menu_present": true,
   "autoclose": true,
   "autocomplete": true,
   "bibliofile": "biblio.bib",
   "cite_by": "apalike",
   "current_citInitial": 1,
   "eqLabelWithNumbers": true,
   "eqNumInitial": 1,
   "hotkeys": {
    "equation": "Ctrl-E",
    "itemize": "Ctrl-I"
   },
   "labels_anchors": false,
   "latex_user_defs": false,
   "report_style_numbering": true,
   "user_envs_cfg": true
  },
  "nbTranslate": {
   "displayLangs": [
    "*"
   ],
   "hotkey": "alt-t",
   "langInMainMenu": true,
   "sourceLang": "en",
   "targetLang": "fr",
   "useGoogleTranslate": true
  },
  "toc": {
   "base_numbering": 1,
   "nav_menu": {},
   "number_sections": true,
   "sideBar": true,
   "skip_h1_title": false,
   "title_cell": "Table of Contents",
   "title_sidebar": "Contents",
   "toc_cell": false,
   "toc_position": {
    "height": "calc(100% - 180px)",
    "left": "10px",
    "top": "150px",
    "width": "288px"
   },
   "toc_section_display": true,
   "toc_window_display": true
  },
  "varInspector": {
   "cols": {
    "lenName": 16,
    "lenType": 16,
    "lenVar": 40
   },
   "kernels_config": {
    "python": {
     "delete_cmd_postfix": "",
     "delete_cmd_prefix": "del ",
     "library": "var_list.py",
     "varRefreshCmd": "print(var_dic_list())"
    },
    "r": {
     "delete_cmd_postfix": ") ",
     "delete_cmd_prefix": "rm(",
     "library": "var_list.r",
     "varRefreshCmd": "cat(var_dic_list()) "
    }
   },
   "types_to_exclude": [
    "module",
    "function",
    "builtin_function_or_method",
    "instance",
    "_Feature"
   ],
   "window_display": true
  }
 },
 "nbformat": 4,
 "nbformat_minor": 4
}
