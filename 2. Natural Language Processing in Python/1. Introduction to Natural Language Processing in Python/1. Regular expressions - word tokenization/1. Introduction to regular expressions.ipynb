{
 "cells": [
  {
   "cell_type": "markdown",
   "metadata": {
    "ExecuteTime": {
     "end_time": "2020-07-24T11:20:21.989524Z",
     "start_time": "2020-07-24T11:20:12.960881Z"
    }
   },
   "source": [
    "```\n",
    "#############################################\n",
    "##                                         ##\n",
    "##  Natural Language Processing in Python  ##\n",
    "##                                         ##\n",
    "#############################################\n",
    "\n",
    "§1 Introduction to Natural Language Processing in Python\n",
    "\n",
    "§1.1 Regular expressions & word tokenization\n",
    "```"
   ]
  },
  {
   "cell_type": "markdown",
   "metadata": {},
   "source": [
    "# Introduction to regular expressions"
   ]
  },
  {
   "cell_type": "markdown",
   "metadata": {},
   "source": [
    "## What is Natural Language Processing?\n",
    "\n",
    "* The field of study Natural Language Processing (NLP) focused on making sense of language using statistics and computers.\n",
    "\n",
    "* The basics of NLP include:\n",
    "\n",
    "    * *topic identification*\n",
    "    \n",
    "    * *text classification*\n",
    "\n",
    "* NLP applications include:\n",
    "\n",
    "    * *chatbots*\n",
    "\n",
    "    * *translation*\n",
    "\n",
    "    * *sentiment analysis*\n",
    "\n",
    "    * *and many more*"
   ]
  },
  {
   "cell_type": "markdown",
   "metadata": {},
   "source": [
    "## What exactly are regular expressions?\n",
    "\n",
    "* Strings with a special syntax\n",
    "\n",
    "* Allow matching patterns in other strings, e.g., \n",
    "\n",
    "    * *find all web links in a document*\n",
    "    \n",
    "    * *parse email addresses*\n",
    "    \n",
    "    * *remove/replace unwanted characters*"
   ]
  },
  {
   "cell_type": "markdown",
   "metadata": {},
   "source": [
    "## Code of the applications of regular expressions:"
   ]
  },
  {
   "cell_type": "code",
   "execution_count": 1,
   "metadata": {
    "ExecuteTime": {
     "end_time": "2021-02-01T02:29:01.225774Z",
     "start_time": "2021-02-01T02:29:01.206811Z"
    }
   },
   "outputs": [
    {
     "data": {
      "text/plain": [
       "<re.Match object; span=(0, 3), match='abc'>"
      ]
     },
     "execution_count": 1,
     "metadata": {},
     "output_type": "execute_result"
    }
   ],
   "source": [
    "import re\n",
    "\n",
    "re.match('abc', 'abcdef')"
   ]
  },
  {
   "cell_type": "code",
   "execution_count": 2,
   "metadata": {
    "ExecuteTime": {
     "end_time": "2021-02-01T02:29:01.346644Z",
     "start_time": "2021-02-01T02:29:01.330021Z"
    }
   },
   "outputs": [
    {
     "data": {
      "text/plain": [
       "<re.Match object; span=(0, 2), match='hi'>"
      ]
     },
     "execution_count": 2,
     "metadata": {},
     "output_type": "execute_result"
    }
   ],
   "source": [
    "word_regex = '\\w+'\n",
    "re.match(word_regex, 'hi there!')"
   ]
  },
  {
   "cell_type": "markdown",
   "metadata": {},
   "source": [
    "## What are the common regex patterns?\n",
    "\n",
    "![Common regex patterns](ref1.%20Common%20regex%20patterns.jpg)"
   ]
  },
  {
   "cell_type": "markdown",
   "metadata": {},
   "source": [
    "## How to use Python's `re` module?\n",
    "\n",
    "* `re` module:\n",
    "\n",
    "    * `split`: split a string on regex\n",
    "    \n",
    "    * `findall`: find all pa erns in a string\n",
    "    \n",
    "    * `search`: search for a pattern\n",
    "    \n",
    "    * `match`: match an entire string or substring based on a pattern\n",
    "\n",
    "* Parameterize the pattern first and parameterize the string second.\n",
    "\n",
    "* May return an iterator, string, or match object."
   ]
  },
  {
   "cell_type": "markdown",
   "metadata": {},
   "source": [
    "## Code of Python's `re` module:"
   ]
  },
  {
   "cell_type": "code",
   "execution_count": 3,
   "metadata": {
    "ExecuteTime": {
     "end_time": "2021-02-01T02:29:02.397799Z",
     "start_time": "2021-02-01T02:29:02.371527Z"
    }
   },
   "outputs": [
    {
     "data": {
      "text/plain": [
       "['Split', 'on', 'spaces.']"
      ]
     },
     "execution_count": 3,
     "metadata": {},
     "output_type": "execute_result"
    }
   ],
   "source": [
    "re.split('\\s+', 'Split on spaces.')"
   ]
  },
  {
   "cell_type": "markdown",
   "metadata": {},
   "source": [
    "## Practice question for finding out the corresponding pattern:\n",
    "\n",
    "* Which of the following regex patterns results in the following text?\n",
    "\n",
    "    ```\n",
    "    >>> my_string = \"Let's write RegEx!\"\n",
    "    >>> re.findall(PATTERN, my_string)\n",
    "    ['Let', 's', 'write', 'RegEx']\n",
    "    ```\n",
    "\n",
    "    $\\Box$ `PATTERN = r\"\\s+\"`.\n",
    "\n",
    "    $\\boxtimes$ `PATTERN = r\"\\w+\"`.\n",
    "    \n",
    "    $\\Box$ `PATTERN = r\"[a-z]\"`.\n",
    "        \n",
    "    $\\Box$ `PATTERN = r\"\\w\"`."
   ]
  },
  {
   "cell_type": "markdown",
   "metadata": {},
   "source": [
    "$\\blacktriangleright$ **Package pre-loading:**"
   ]
  },
  {
   "cell_type": "code",
   "execution_count": 4,
   "metadata": {
    "ExecuteTime": {
     "end_time": "2021-02-01T02:29:02.855876Z",
     "start_time": "2021-02-01T02:29:02.852316Z"
    }
   },
   "outputs": [],
   "source": [
    "import re"
   ]
  },
  {
   "cell_type": "markdown",
   "metadata": {},
   "source": [
    "$\\blacktriangleright$ **Data pre-loading:**"
   ]
  },
  {
   "cell_type": "code",
   "execution_count": 5,
   "metadata": {
    "ExecuteTime": {
     "end_time": "2021-02-01T02:29:03.208803Z",
     "start_time": "2021-02-01T02:29:03.204901Z"
    }
   },
   "outputs": [],
   "source": [
    "my_string = \"Let's write RegEx!\""
   ]
  },
  {
   "cell_type": "markdown",
   "metadata": {},
   "source": [
    "$\\blacktriangleright$ **Question-solving method:**"
   ]
  },
  {
   "cell_type": "code",
   "execution_count": 6,
   "metadata": {
    "ExecuteTime": {
     "end_time": "2021-02-01T02:29:03.592834Z",
     "start_time": "2021-02-01T02:29:03.585682Z"
    }
   },
   "outputs": [
    {
     "data": {
      "text/plain": [
       "[' ', ' ']"
      ]
     },
     "execution_count": 6,
     "metadata": {},
     "output_type": "execute_result"
    }
   ],
   "source": [
    "PATTERN = r\"\\s+\"\n",
    "re.findall(PATTERN, my_string)"
   ]
  },
  {
   "cell_type": "code",
   "execution_count": 7,
   "metadata": {
    "ExecuteTime": {
     "end_time": "2021-02-01T02:29:03.674605Z",
     "start_time": "2021-02-01T02:29:03.667113Z"
    }
   },
   "outputs": [
    {
     "data": {
      "text/plain": [
       "['Let', 's', 'write', 'RegEx']"
      ]
     },
     "execution_count": 7,
     "metadata": {},
     "output_type": "execute_result"
    }
   ],
   "source": [
    "PATTERN = r\"\\w+\"\n",
    "re.findall(PATTERN, my_string)"
   ]
  },
  {
   "cell_type": "code",
   "execution_count": 8,
   "metadata": {
    "ExecuteTime": {
     "end_time": "2021-02-01T02:29:03.786991Z",
     "start_time": "2021-02-01T02:29:03.778991Z"
    }
   },
   "outputs": [
    {
     "data": {
      "text/plain": [
       "['e', 't', 's', 'w', 'r', 'i', 't', 'e', 'e', 'g', 'x']"
      ]
     },
     "execution_count": 8,
     "metadata": {},
     "output_type": "execute_result"
    }
   ],
   "source": [
    "PATTERN = r\"[a-z]\"\n",
    "re.findall(PATTERN, my_string)"
   ]
  },
  {
   "cell_type": "code",
   "execution_count": 9,
   "metadata": {
    "ExecuteTime": {
     "end_time": "2021-02-01T02:29:03.838763Z",
     "start_time": "2021-02-01T02:29:03.829533Z"
    }
   },
   "outputs": [
    {
     "data": {
      "text/plain": [
       "['L', 'e', 't', 's', 'w', 'r', 'i', 't', 'e', 'R', 'e', 'g', 'E', 'x']"
      ]
     },
     "execution_count": 9,
     "metadata": {},
     "output_type": "execute_result"
    }
   ],
   "source": [
    "PATTERN = r\"\\w\"\n",
    "re.findall(PATTERN, my_string)"
   ]
  },
  {
   "cell_type": "markdown",
   "metadata": {},
   "source": [
    "## Practice exercises for introduction to regular expressions:\n",
    "\n",
    "$\\blacktriangleright$ **Package pre-loading:**"
   ]
  },
  {
   "cell_type": "code",
   "execution_count": 10,
   "metadata": {
    "ExecuteTime": {
     "end_time": "2021-02-01T02:29:04.287744Z",
     "start_time": "2021-02-01T02:29:04.283587Z"
    }
   },
   "outputs": [],
   "source": [
    "import re"
   ]
  },
  {
   "cell_type": "markdown",
   "metadata": {},
   "source": [
    "$\\blacktriangleright$ **Data pre-loading:**"
   ]
  },
  {
   "cell_type": "code",
   "execution_count": 11,
   "metadata": {
    "ExecuteTime": {
     "end_time": "2021-02-01T02:29:04.649077Z",
     "start_time": "2021-02-01T02:29:04.643526Z"
    }
   },
   "outputs": [],
   "source": [
    "my_string = \"Let's write RegEx! Won't that be fun? I sure think so. \\\n",
    "Can you find 4 sentences? Or perhaps, all 19 words?\""
   ]
  },
  {
   "cell_type": "markdown",
   "metadata": {
    "ExecuteTime": {
     "end_time": "2020-12-19T22:02:33.692343Z",
     "start_time": "2020-12-19T22:02:33.687220Z"
    }
   },
   "source": [
    "$\\blacktriangleright$ **Regular expressions (`re.split()` and `re.findall()`) practice:**"
   ]
  },
  {
   "cell_type": "code",
   "execution_count": 12,
   "metadata": {
    "ExecuteTime": {
     "end_time": "2021-02-01T02:29:05.065652Z",
     "start_time": "2021-02-01T02:29:05.057973Z"
    }
   },
   "outputs": [
    {
     "name": "stdout",
     "output_type": "stream",
     "text": [
      "[\"Let's write RegEx\", \" Won't that be fun\", ' I sure think so', ' Can you find 4 sentences', ' Or perhaps, all 19 words', '']\n",
      "['Let', 'RegEx', 'Won', 'Can', 'Or']\n",
      "[\"Let's\", 'write', 'RegEx!', \"Won't\", 'that', 'be', 'fun?', 'I', 'sure', 'think', 'so.', 'Can', 'you', 'find', '4', 'sentences?', 'Or', 'perhaps,', 'all', '19', 'words?']\n",
      "['4', '19']\n"
     ]
    }
   ],
   "source": [
    "# Write a pattern to match sentence endings: sentence_endings\n",
    "sentence_endings = r\"[\\.\\?!]\"\n",
    "\n",
    "# Split my_string on sentence endings and print the result\n",
    "print(re.split(sentence_endings, my_string))\n",
    "\n",
    "# Find all capitalized words in my_string and print the result\n",
    "capitalized_words = r\"[A-Z]\\w+\"\n",
    "print(re.findall(capitalized_words, my_string))\n",
    "\n",
    "# Split my_string on spaces and print the result\n",
    "spaces = r\"\\s+\"\n",
    "print(re.split(spaces, my_string))\n",
    "\n",
    "# Find all digits in my_string and print the result\n",
    "digits = r\"\\d+\"\n",
    "print(re.findall(digits, my_string))"
   ]
  },
  {
   "cell_type": "markdown",
   "metadata": {},
   "source": [
    "## Appendixes\n",
    "\n",
    "### Appendix A: Version Checking:"
   ]
  },
  {
   "cell_type": "code",
   "execution_count": 13,
   "metadata": {
    "ExecuteTime": {
     "end_time": "2021-02-01T02:29:05.579077Z",
     "start_time": "2021-02-01T02:29:05.570596Z"
    }
   },
   "outputs": [
    {
     "name": "stdout",
     "output_type": "stream",
     "text": [
      "The nltk version is 3.7.9 (default, Aug 31 2020, 07:22:35) \n",
      "[Clang 10.0.0 ].\n"
     ]
    }
   ],
   "source": [
    "import sys\n",
    "\n",
    "print('The nltk version is {}.'.format(sys.version))"
   ]
  },
  {
   "cell_type": "markdown",
   "metadata": {},
   "source": [
    "### Appendix B: Syntax Reference of [Python 3.7.9](https://docs.python.org/3.7):\n",
    "\n",
    "#### [`re.findall(pattern, string, flags=0)`](https://docs.python.org/3.7/library/re.html#re.findall):\n",
    "\n",
    "* Return all non-overlapping matches of `pattern` in `string`, as a list of strings. The `string` is scanned left-to-right, and matches are returned in the order found. If one or more groups are present in the pattern, return a list of groups; this will be a list of tuples if the pattern has more than one group. Empty matches are included in the result."
   ]
  },
  {
   "cell_type": "markdown",
   "metadata": {
    "ExecuteTime": {
     "end_time": "2021-01-29T02:25:50.618473Z",
     "start_time": "2021-01-29T02:25:50.561489Z"
    }
   },
   "source": [
    "#### [`re.match(pattern, string, flags=0)`](https://docs.python.org/3.7/library/re.html#re.match):\n",
    "\n",
    "* If zero or more characters at the beginning of `string` match the regular expression `pattern`, return a corresponding [match object](https://docs.python.org/3.7/library/re.html#match-objects). Return `None` if the string does not match the pattern; note that this is different from a zero-length match.\n",
    "\n",
    "* Note that even in [`MULTILINE`](https://docs.python.org/3.7/library/re.html#re.MULTILINE) mode,`re.match()` will only match at the beginning of the string and not at the beginning of each line.\n",
    "\n",
    "* If you want to locate a match anywhere in `string`, use `search()` instead (see also `search()` vs. `match()`)."
   ]
  },
  {
   "cell_type": "markdown",
   "metadata": {},
   "source": [
    "#### [`re.search(pattern, string, flags=0)`](https://docs.python.org/3.7/library/re.html#re.search):\n",
    "\n",
    "* Scan through `string` looking for the first location where the regular expression `pattern` produces a match, and return a corresponding [match object](https://docs.python.org/3.7/library/re.html#match-objects). Return `None` if no position in the string matches the pattern; note that this is different from finding a zero-length match at some point in the string."
   ]
  },
  {
   "cell_type": "markdown",
   "metadata": {},
   "source": [
    "#### [`re.split(pattern, string, maxsplit=0, flags=0)`](https://docs.python.org/3.7/library/re.html#re.split):\n",
    "\n",
    "* Split `string` by the occurrences of `pattern`. If capturing parentheses are used in `pattern`, then the text of all groups in the pattern are also returned as part of the resulting list. If `maxsplit` is nonzero, at most `maxsplit` splits occur, and the remainder of the string is returned as the final element of the list."
   ]
  },
  {
   "cell_type": "code",
   "execution_count": 14,
   "metadata": {
    "ExecuteTime": {
     "end_time": "2021-02-01T02:29:06.796032Z",
     "start_time": "2021-02-01T02:29:06.790069Z"
    }
   },
   "outputs": [
    {
     "data": {
      "text/plain": [
       "['Words', 'words', 'words', '']"
      ]
     },
     "execution_count": 14,
     "metadata": {},
     "output_type": "execute_result"
    }
   ],
   "source": [
    "re.split(r'\\W+', 'Words, words, words.')"
   ]
  },
  {
   "cell_type": "code",
   "execution_count": 15,
   "metadata": {
    "ExecuteTime": {
     "end_time": "2021-02-01T02:29:06.850285Z",
     "start_time": "2021-02-01T02:29:06.843442Z"
    }
   },
   "outputs": [
    {
     "data": {
      "text/plain": [
       "['Words', ', ', 'words', ', ', 'words', '.', '']"
      ]
     },
     "execution_count": 15,
     "metadata": {},
     "output_type": "execute_result"
    }
   ],
   "source": [
    "re.split(r'(\\W+)', 'Words, words, words.')"
   ]
  },
  {
   "cell_type": "code",
   "execution_count": 16,
   "metadata": {
    "ExecuteTime": {
     "end_time": "2021-02-01T02:29:06.896878Z",
     "start_time": "2021-02-01T02:29:06.891179Z"
    }
   },
   "outputs": [
    {
     "data": {
      "text/plain": [
       "['Words', 'words, words.']"
      ]
     },
     "execution_count": 16,
     "metadata": {},
     "output_type": "execute_result"
    }
   ],
   "source": [
    "re.split(r'\\W+', 'Words, words, words.', 1)"
   ]
  },
  {
   "cell_type": "code",
   "execution_count": 17,
   "metadata": {
    "ExecuteTime": {
     "end_time": "2021-02-01T02:29:06.962387Z",
     "start_time": "2021-02-01T02:29:06.954938Z"
    }
   },
   "outputs": [
    {
     "data": {
      "text/plain": [
       "['0', '3', '9']"
      ]
     },
     "execution_count": 17,
     "metadata": {},
     "output_type": "execute_result"
    }
   ],
   "source": [
    "re.split('[a-f]+', '0a3B9', flags=re.IGNORECASE)"
   ]
  },
  {
   "cell_type": "markdown",
   "metadata": {
    "ExecuteTime": {
     "end_time": "2021-01-29T02:25:50.618473Z",
     "start_time": "2021-01-29T02:25:50.561489Z"
    }
   },
   "source": [
    "* If there are capturing groups in the separator and it matches at the start of the string, the result will start with an empty string. The same holds for the end of the string:"
   ]
  },
  {
   "cell_type": "code",
   "execution_count": 18,
   "metadata": {
    "ExecuteTime": {
     "end_time": "2021-02-01T02:29:07.366616Z",
     "start_time": "2021-02-01T02:29:07.359547Z"
    }
   },
   "outputs": [
    {
     "data": {
      "text/plain": [
       "['', '...', 'words', ', ', 'words', '...', '']"
      ]
     },
     "execution_count": 18,
     "metadata": {},
     "output_type": "execute_result"
    }
   ],
   "source": [
    "re.split(r'(\\W+)', '...words, words...')"
   ]
  },
  {
   "cell_type": "markdown",
   "metadata": {
    "ExecuteTime": {
     "end_time": "2021-01-29T02:25:50.618473Z",
     "start_time": "2021-01-29T02:25:50.561489Z"
    }
   },
   "source": [
    "* That way, separator components are always found at the same relative indices within the result list.\n",
    "\n",
    "* Empty matches for the pattern split the string only when not adjacent to a previous empty match."
   ]
  },
  {
   "cell_type": "code",
   "execution_count": 19,
   "metadata": {
    "ExecuteTime": {
     "end_time": "2021-02-01T02:29:07.698589Z",
     "start_time": "2021-02-01T02:29:07.691040Z"
    }
   },
   "outputs": [
    {
     "data": {
      "text/plain": [
       "['', 'Words', ', ', 'words', ', ', 'words', '.']"
      ]
     },
     "execution_count": 19,
     "metadata": {},
     "output_type": "execute_result"
    }
   ],
   "source": [
    "re.split(r'\\b', 'Words, words, words.')"
   ]
  },
  {
   "cell_type": "code",
   "execution_count": 20,
   "metadata": {
    "ExecuteTime": {
     "end_time": "2021-02-01T02:29:07.757678Z",
     "start_time": "2021-02-01T02:29:07.751666Z"
    }
   },
   "outputs": [
    {
     "data": {
      "text/plain": [
       "['', '', 'w', 'o', 'r', 'd', 's', '', '']"
      ]
     },
     "execution_count": 20,
     "metadata": {},
     "output_type": "execute_result"
    }
   ],
   "source": [
    "re.split(r'\\W*', '...words...')"
   ]
  },
  {
   "cell_type": "code",
   "execution_count": 21,
   "metadata": {
    "ExecuteTime": {
     "end_time": "2021-02-01T02:29:07.835377Z",
     "start_time": "2021-02-01T02:29:07.821969Z"
    }
   },
   "outputs": [
    {
     "data": {
      "text/plain": [
       "['', '...', '', '', 'w', '', 'o', '', 'r', '', 'd', '', 's', '...', '', '', '']"
      ]
     },
     "execution_count": 21,
     "metadata": {},
     "output_type": "execute_result"
    }
   ],
   "source": [
    "re.split(r'(\\W*)', '...words...')"
   ]
  },
  {
   "cell_type": "markdown",
   "metadata": {
    "ExecuteTime": {
     "end_time": "2021-01-31T17:23:42.466547Z",
     "start_time": "2021-01-31T17:23:42.457796Z"
    }
   },
   "source": [
    "#### [`search()` vs. `match()`](https://docs.python.org/3.7/library/re.html#search-vs-match):\n",
    "\n",
    "* Python offers two different primitive operations based on regular expressions: `re.match()` checks for a match only at the beginning of the string, while `re.search()` checks for a match anywhere in the string (this is what Perl does by default).\n",
    "\n",
    "* For example:"
   ]
  },
  {
   "cell_type": "code",
   "execution_count": 22,
   "metadata": {
    "ExecuteTime": {
     "end_time": "2021-02-01T02:29:08.284565Z",
     "start_time": "2021-02-01T02:29:08.281286Z"
    }
   },
   "outputs": [],
   "source": [
    "re.match(\"c\", \"abcdef\")  # No match"
   ]
  },
  {
   "cell_type": "code",
   "execution_count": 23,
   "metadata": {
    "ExecuteTime": {
     "end_time": "2021-02-01T02:29:08.336179Z",
     "start_time": "2021-02-01T02:29:08.331185Z"
    }
   },
   "outputs": [
    {
     "data": {
      "text/plain": [
       "<re.Match object; span=(2, 3), match='c'>"
      ]
     },
     "execution_count": 23,
     "metadata": {},
     "output_type": "execute_result"
    }
   ],
   "source": [
    "re.search(\"c\", \"abcdef\")  # Match"
   ]
  },
  {
   "cell_type": "markdown",
   "metadata": {},
   "source": [
    "* Regular expressions beginning with `'^'` can be used with `search()` to restrict the match at the beginning of the string:"
   ]
  },
  {
   "cell_type": "code",
   "execution_count": 24,
   "metadata": {
    "ExecuteTime": {
     "end_time": "2021-02-01T02:29:08.695152Z",
     "start_time": "2021-02-01T02:29:08.690934Z"
    }
   },
   "outputs": [],
   "source": [
    "re.match(\"c\", \"abcdef\")  # No match"
   ]
  },
  {
   "cell_type": "code",
   "execution_count": 25,
   "metadata": {
    "ExecuteTime": {
     "end_time": "2021-02-01T02:29:08.758337Z",
     "start_time": "2021-02-01T02:29:08.753966Z"
    }
   },
   "outputs": [],
   "source": [
    "re.search(\"^c\", \"abcdef\")  # No match"
   ]
  },
  {
   "cell_type": "code",
   "execution_count": 26,
   "metadata": {
    "ExecuteTime": {
     "end_time": "2021-02-01T02:29:08.814674Z",
     "start_time": "2021-02-01T02:29:08.808424Z"
    }
   },
   "outputs": [
    {
     "data": {
      "text/plain": [
       "<re.Match object; span=(0, 1), match='a'>"
      ]
     },
     "execution_count": 26,
     "metadata": {},
     "output_type": "execute_result"
    }
   ],
   "source": [
    "re.search(\"^a\", \"abcdef\")  # Match"
   ]
  },
  {
   "cell_type": "markdown",
   "metadata": {},
   "source": [
    "* Note however that in [`MULTILINE`](https://docs.python.org/3.7/library/re.html#re.MULTILINE) mode `match()` only matches at the beginning of the string, whereas using `search()` with a regular expression beginning with `'^'` will match at the beginning of each line."
   ]
  },
  {
   "cell_type": "code",
   "execution_count": 27,
   "metadata": {
    "ExecuteTime": {
     "end_time": "2021-02-01T02:29:09.300688Z",
     "start_time": "2021-02-01T02:29:09.254774Z"
    }
   },
   "outputs": [],
   "source": [
    "re.match('X', 'A\\nB\\nX', re.MULTILINE)  # No match"
   ]
  },
  {
   "cell_type": "code",
   "execution_count": 28,
   "metadata": {
    "ExecuteTime": {
     "end_time": "2021-02-01T02:29:09.315163Z",
     "start_time": "2021-02-01T02:29:09.306497Z"
    }
   },
   "outputs": [
    {
     "data": {
      "text/plain": [
       "<re.Match object; span=(4, 5), match='X'>"
      ]
     },
     "execution_count": 28,
     "metadata": {},
     "output_type": "execute_result"
    }
   ],
   "source": [
    "re.search('^X', 'A\\nB\\nX', re.MULTILINE)  # Match"
   ]
  }
 ],
 "metadata": {
  "kernelspec": {
   "display_name": "Python 3",
   "language": "python",
   "name": "python3"
  },
  "language_info": {
   "codemirror_mode": {
    "name": "ipython",
    "version": 3
   },
   "file_extension": ".py",
   "mimetype": "text/x-python",
   "name": "python",
   "nbconvert_exporter": "python",
   "pygments_lexer": "ipython3",
   "version": "3.7.9"
  },
  "latex_envs": {
   "LaTeX_envs_menu_present": true,
   "autoclose": true,
   "autocomplete": true,
   "bibliofile": "biblio.bib",
   "cite_by": "apalike",
   "current_citInitial": 1,
   "eqLabelWithNumbers": true,
   "eqNumInitial": 1,
   "hotkeys": {
    "equation": "Ctrl-E",
    "itemize": "Ctrl-I"
   },
   "labels_anchors": false,
   "latex_user_defs": false,
   "report_style_numbering": true,
   "user_envs_cfg": true
  },
  "nbTranslate": {
   "displayLangs": [
    "*"
   ],
   "hotkey": "alt-t",
   "langInMainMenu": true,
   "sourceLang": "en",
   "targetLang": "fr",
   "useGoogleTranslate": true
  },
  "toc": {
   "base_numbering": 1,
   "nav_menu": {},
   "number_sections": true,
   "sideBar": true,
   "skip_h1_title": false,
   "title_cell": "Table of Contents",
   "title_sidebar": "Contents",
   "toc_cell": false,
   "toc_position": {
    "height": "calc(100% - 180px)",
    "left": "10px",
    "top": "150px",
    "width": "288px"
   },
   "toc_section_display": true,
   "toc_window_display": true
  },
  "varInspector": {
   "cols": {
    "lenName": 16,
    "lenType": 16,
    "lenVar": 40
   },
   "kernels_config": {
    "python": {
     "delete_cmd_postfix": "",
     "delete_cmd_prefix": "del ",
     "library": "var_list.py",
     "varRefreshCmd": "print(var_dic_list())"
    },
    "r": {
     "delete_cmd_postfix": ") ",
     "delete_cmd_prefix": "rm(",
     "library": "var_list.r",
     "varRefreshCmd": "cat(var_dic_list()) "
    }
   },
   "types_to_exclude": [
    "module",
    "function",
    "builtin_function_or_method",
    "instance",
    "_Feature"
   ],
   "window_display": true
  }
 },
 "nbformat": 4,
 "nbformat_minor": 4
}
