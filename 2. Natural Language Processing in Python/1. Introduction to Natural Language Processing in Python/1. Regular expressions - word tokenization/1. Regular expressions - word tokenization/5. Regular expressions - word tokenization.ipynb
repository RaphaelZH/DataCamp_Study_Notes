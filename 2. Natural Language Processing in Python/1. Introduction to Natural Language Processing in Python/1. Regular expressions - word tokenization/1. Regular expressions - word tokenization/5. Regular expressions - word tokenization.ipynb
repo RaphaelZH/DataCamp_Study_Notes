{
 "cells": [
  {
   "cell_type": "markdown",
   "metadata": {
    "ExecuteTime": {
     "end_time": "2020-07-24T11:20:21.989524Z",
     "start_time": "2020-07-24T11:20:12.960881Z"
    }
   },
   "source": [
    "```\n",
    "#############################################\n",
    "##                                         ##\n",
    "##  Natural Language Processing in Python  ##\n",
    "##                                         ##\n",
    "#############################################\n",
    "\n",
    "§1 Introduction to Natural Language Processing in Python\n",
    "\n",
    "§1.1 Regular expressions & word tokenization\n",
    "```"
   ]
  },
  {
   "cell_type": "markdown",
   "metadata": {},
   "source": [
    "# Introduction to regular expressions"
   ]
  },
  {
   "cell_type": "markdown",
   "metadata": {},
   "source": [
    "## What exactly are regular expressions?\n",
    "\n",
    "* Strings with a special syntax\n",
    "\n",
    "* Allow matching patterns in other strings, e.g., \n",
    "\n",
    "    * *find all web links in a document*\n",
    "    \n",
    "    * *parse email addresses*\n",
    "    \n",
    "    * *remove/replace unwanted characters*"
   ]
  },
  {
   "cell_type": "markdown",
   "metadata": {},
   "source": [
    "## Code of the applications of regular expressions:"
   ]
  },
  {
   "cell_type": "code",
   "execution_count": 1,
   "metadata": {
    "ExecuteTime": {
     "end_time": "2021-01-01T22:55:51.896026Z",
     "start_time": "2021-01-01T22:55:51.876906Z"
    }
   },
   "outputs": [
    {
     "data": {
      "text/plain": [
       "<re.Match object; span=(0, 3), match='abc'>"
      ]
     },
     "execution_count": 1,
     "metadata": {},
     "output_type": "execute_result"
    }
   ],
   "source": [
    "import re\n",
    "\n",
    "re.match('abc', 'abcdef')"
   ]
  },
  {
   "cell_type": "code",
   "execution_count": 2,
   "metadata": {
    "ExecuteTime": {
     "end_time": "2021-01-01T22:55:52.024597Z",
     "start_time": "2021-01-01T22:55:52.016480Z"
    }
   },
   "outputs": [
    {
     "data": {
      "text/plain": [
       "<re.Match object; span=(0, 2), match='hi'>"
      ]
     },
     "execution_count": 2,
     "metadata": {},
     "output_type": "execute_result"
    }
   ],
   "source": [
    "word_regex = '\\w+'\n",
    "re.match(word_regex, 'hi there!')"
   ]
  },
  {
   "cell_type": "markdown",
   "metadata": {},
   "source": [
    "## What are the common regex patterns?\n",
    "\n",
    "![Common regex patterns](ref1.%20Common%20regex%20patterns.jpg)"
   ]
  },
  {
   "cell_type": "markdown",
   "metadata": {},
   "source": [
    "## How to use Python's `re` module?\n",
    "\n",
    "* `re` module:\n",
    "\n",
    "    * `split`: split a string on regex\n",
    "    \n",
    "    * `findall`: find all pa erns in a string\n",
    "    \n",
    "    * `search`: search for a pattern\n",
    "    \n",
    "    * `match`: match an entire string or substring based on a pattern\n",
    "\n",
    "* Parameterize the pattern first and parameterize the string second.\n",
    "\n",
    "* May return an iterator, string, or match object."
   ]
  },
  {
   "cell_type": "markdown",
   "metadata": {},
   "source": [
    "## Code of Python's `re` module:"
   ]
  },
  {
   "cell_type": "code",
   "execution_count": 3,
   "metadata": {
    "ExecuteTime": {
     "end_time": "2021-01-01T22:55:54.162769Z",
     "start_time": "2021-01-01T22:55:54.156944Z"
    }
   },
   "outputs": [
    {
     "data": {
      "text/plain": [
       "['Split', 'on', 'spaces.']"
      ]
     },
     "execution_count": 3,
     "metadata": {},
     "output_type": "execute_result"
    }
   ],
   "source": [
    "re.split('\\s+', 'Split on spaces.')"
   ]
  },
  {
   "cell_type": "markdown",
   "metadata": {},
   "source": [
    "## Practice question for finding out the corresponding pattern:\n",
    "\n",
    "* Which of the following regex patterns results in the following text?\n",
    "\n",
    "    ```\n",
    "    >>> my_string = \"Let's write RegEx!\"\n",
    "    >>> re.findall(PATTERN, my_string)\n",
    "    ['Let', 's', 'write', 'RegEx']\n",
    "    ```\n",
    "\n",
    "    $\\Box$ `PATTERN = r\"\\s+\"`.\n",
    "\n",
    "    $\\boxtimes$ `PATTERN = r\"\\w+\"`.\n",
    "    \n",
    "    $\\Box$ `PATTERN = r\"[a-z]\"`.\n",
    "        \n",
    "    $\\Box$ `PATTERN = r\"\\w\"`."
   ]
  },
  {
   "cell_type": "markdown",
   "metadata": {},
   "source": [
    "$\\blacktriangleright$ **Package pre-loading:**"
   ]
  },
  {
   "cell_type": "code",
   "execution_count": 4,
   "metadata": {
    "ExecuteTime": {
     "end_time": "2021-01-01T22:55:55.324469Z",
     "start_time": "2021-01-01T22:55:55.320552Z"
    }
   },
   "outputs": [],
   "source": [
    "import re"
   ]
  },
  {
   "cell_type": "markdown",
   "metadata": {},
   "source": [
    "$\\blacktriangleright$ **Data pre-loading:**"
   ]
  },
  {
   "cell_type": "code",
   "execution_count": 5,
   "metadata": {
    "ExecuteTime": {
     "end_time": "2021-01-01T22:55:55.963118Z",
     "start_time": "2021-01-01T22:55:55.932560Z"
    }
   },
   "outputs": [],
   "source": [
    "my_string = \"Let's write RegEx!\""
   ]
  },
  {
   "cell_type": "markdown",
   "metadata": {},
   "source": [
    "$\\blacktriangleright$ **Question-solving method:**"
   ]
  },
  {
   "cell_type": "code",
   "execution_count": 6,
   "metadata": {
    "ExecuteTime": {
     "end_time": "2021-01-01T22:55:56.346058Z",
     "start_time": "2021-01-01T22:55:56.339982Z"
    }
   },
   "outputs": [
    {
     "data": {
      "text/plain": [
       "[' ', ' ']"
      ]
     },
     "execution_count": 6,
     "metadata": {},
     "output_type": "execute_result"
    }
   ],
   "source": [
    "PATTERN = r\"\\s+\"\n",
    "re.findall(PATTERN, my_string)"
   ]
  },
  {
   "cell_type": "code",
   "execution_count": 7,
   "metadata": {
    "ExecuteTime": {
     "end_time": "2021-01-01T22:55:56.425646Z",
     "start_time": "2021-01-01T22:55:56.419603Z"
    }
   },
   "outputs": [
    {
     "data": {
      "text/plain": [
       "['Let', 's', 'write', 'RegEx']"
      ]
     },
     "execution_count": 7,
     "metadata": {},
     "output_type": "execute_result"
    }
   ],
   "source": [
    "PATTERN = r\"\\w+\"\n",
    "re.findall(PATTERN, my_string)"
   ]
  },
  {
   "cell_type": "code",
   "execution_count": 8,
   "metadata": {
    "ExecuteTime": {
     "end_time": "2021-01-01T22:55:56.506020Z",
     "start_time": "2021-01-01T22:55:56.499852Z"
    }
   },
   "outputs": [
    {
     "data": {
      "text/plain": [
       "['e', 't', 's', 'w', 'r', 'i', 't', 'e', 'e', 'g', 'x']"
      ]
     },
     "execution_count": 8,
     "metadata": {},
     "output_type": "execute_result"
    }
   ],
   "source": [
    "PATTERN = r\"[a-z]\"\n",
    "re.findall(PATTERN, my_string)"
   ]
  },
  {
   "cell_type": "code",
   "execution_count": 9,
   "metadata": {
    "ExecuteTime": {
     "end_time": "2021-01-01T22:55:56.637973Z",
     "start_time": "2021-01-01T22:55:56.626129Z"
    }
   },
   "outputs": [
    {
     "data": {
      "text/plain": [
       "['L', 'e', 't', 's', 'w', 'r', 'i', 't', 'e', 'R', 'e', 'g', 'E', 'x']"
      ]
     },
     "execution_count": 9,
     "metadata": {},
     "output_type": "execute_result"
    }
   ],
   "source": [
    "PATTERN = r\"\\w\"\n",
    "re.findall(PATTERN, my_string)"
   ]
  },
  {
   "cell_type": "markdown",
   "metadata": {},
   "source": [
    "## Practice exercises for introduction to regular expressions:\n",
    "\n",
    "$\\blacktriangleright$ **Package pre-loading:**"
   ]
  },
  {
   "cell_type": "code",
   "execution_count": 10,
   "metadata": {
    "ExecuteTime": {
     "end_time": "2021-01-01T22:55:57.438647Z",
     "start_time": "2021-01-01T22:55:57.434983Z"
    }
   },
   "outputs": [],
   "source": [
    "import re"
   ]
  },
  {
   "cell_type": "markdown",
   "metadata": {},
   "source": [
    "$\\blacktriangleright$ **Data pre-loading:**"
   ]
  },
  {
   "cell_type": "code",
   "execution_count": 11,
   "metadata": {
    "ExecuteTime": {
     "end_time": "2021-01-01T22:55:57.949388Z",
     "start_time": "2021-01-01T22:55:57.945299Z"
    }
   },
   "outputs": [],
   "source": [
    "my_string = \"Let's write RegEx!  \\\n",
    "Won't that be fun?  \\\n",
    "I sure think so.  \\\n",
    "Can you find 4 sentences?  \\\n",
    "Or perhaps, all 19 words?\""
   ]
  },
  {
   "cell_type": "markdown",
   "metadata": {
    "ExecuteTime": {
     "end_time": "2020-12-19T22:02:33.692343Z",
     "start_time": "2020-12-19T22:02:33.687220Z"
    }
   },
   "source": [
    "$\\blacktriangleright$ **Regular expressions (`re.split()` and `re.findall()`) practice:**"
   ]
  },
  {
   "cell_type": "code",
   "execution_count": 12,
   "metadata": {
    "ExecuteTime": {
     "end_time": "2021-01-01T22:55:58.482390Z",
     "start_time": "2021-01-01T22:55:58.443442Z"
    }
   },
   "outputs": [
    {
     "name": "stdout",
     "output_type": "stream",
     "text": [
      "[\"Let's write RegEx\", \"  Won't that be fun\", '  I sure think so', '  Can you find 4 sentences', '  Or perhaps, all 19 words', '']\n",
      "['Let', 'RegEx', 'Won', 'Can', 'Or']\n",
      "[\"Let's\", 'write', 'RegEx!', \"Won't\", 'that', 'be', 'fun?', 'I', 'sure', 'think', 'so.', 'Can', 'you', 'find', '4', 'sentences?', 'Or', 'perhaps,', 'all', '19', 'words?']\n",
      "['4', '19']\n"
     ]
    }
   ],
   "source": [
    "# Write a pattern to match sentence endings: sentence_endings\n",
    "sentence_endings = r\"[\\.\\?!]\"\n",
    "\n",
    "# Split my_string on sentence endings and print the result\n",
    "print(re.split(sentence_endings, my_string))\n",
    "\n",
    "# Find all capitalized words in my_string and print the result\n",
    "capitalized_words = r\"[A-Z]\\w+\"\n",
    "print(re.findall(capitalized_words, my_string))\n",
    "\n",
    "# Split my_string on spaces and print the result\n",
    "spaces = r\"\\s+\"\n",
    "print(re.split(spaces, my_string))\n",
    "\n",
    "# Find all digits in my_string and print the result\n",
    "digits = r\"\\d+\"\n",
    "print(re.findall(digits, my_string))"
   ]
  },
  {
   "cell_type": "markdown",
   "metadata": {
    "ExecuteTime": {
     "end_time": "2020-07-24T11:20:21.989524Z",
     "start_time": "2020-07-24T11:20:12.960881Z"
    }
   },
   "source": [
    "```\n",
    "#############################################\n",
    "##                                         ##\n",
    "##  Natural Language Processing in Python  ##\n",
    "##                                         ##\n",
    "#############################################\n",
    "\n",
    "§1 Introduction to Natural Language Processing in Python\n",
    "\n",
    "§1.1 Regular expressions & word tokenization\n",
    "```"
   ]
  },
  {
   "cell_type": "markdown",
   "metadata": {},
   "source": [
    "# Introduction to tokenization"
   ]
  },
  {
   "cell_type": "markdown",
   "metadata": {},
   "source": [
    "## What is tokenization?\n",
    "\n",
    "* It turns a string or document into tokens (smaller chunks).\n",
    "\n",
    "* It's one step in preparing a text for NLP.\n",
    "\n",
    "* It has many different theories and rules.\n",
    "\n",
    "* Users can create their own rules using regular expressions.\n",
    "\n",
    "* There are some examples:\n",
    "\n",
    "\t* *breaking out words or sentences*\n",
    "    \n",
    "\t* *separating punctuation*\n",
    "    \n",
    "\t* *separating all hashtags in a tweet*"
   ]
  },
  {
   "cell_type": "markdown",
   "metadata": {},
   "source": [
    "## What is the NLTK library?\n",
    "\n",
    "* NLTK: Natural Language Toolkit"
   ]
  },
  {
   "cell_type": "markdown",
   "metadata": {},
   "source": [
    "## Code of the NLTK library:"
   ]
  },
  {
   "cell_type": "code",
   "execution_count": 13,
   "metadata": {
    "ExecuteTime": {
     "end_time": "2021-01-01T22:56:05.443713Z",
     "start_time": "2021-01-01T22:56:01.059733Z"
    }
   },
   "outputs": [
    {
     "data": {
      "text/plain": [
       "['Hi', 'there', '!']"
      ]
     },
     "execution_count": 13,
     "metadata": {},
     "output_type": "execute_result"
    }
   ],
   "source": [
    "from nltk.tokenize import word_tokenize\n",
    "\n",
    "word_tokenize(\"Hi there!\")"
   ]
  },
  {
   "cell_type": "markdown",
   "metadata": {
    "ExecuteTime": {
     "end_time": "2020-12-20T20:08:55.570909Z",
     "start_time": "2020-12-20T20:08:55.565185Z"
    }
   },
   "source": [
    "## Why tokenize?\n",
    "\n",
    "* Easier to map part of speech.\n",
    "\n",
    "* To match common words.\n",
    "\n",
    "* To remove unwanted tokens.\n",
    "\n",
    "* E.g., \n",
    "\n",
    "    ```\n",
    "    >>> word_tokenize(\"I don't like Sam's shoes.\")\n",
    "    ['I', 'do', \"n't\", 'like', 'Sam', \"'s\", 'shoes', '.']\n",
    "    ```"
   ]
  },
  {
   "cell_type": "markdown",
   "metadata": {},
   "source": [
    "## What are the other NLTK tokenizers?\n",
    "\n",
    "* `sent_tokenize`: tokenize a document into sentences.\n",
    "\n",
    "* `regexp_tokenize`: tokenize a string or document based on a regular expression pattern.\n",
    "\n",
    "* `TweetTokenizer`: special class just for tweet tokenization, allowing separate hashtags, mentions, and lots of exclamation points, such as '!!!'."
   ]
  },
  {
   "cell_type": "markdown",
   "metadata": {},
   "source": [
    "## Code of regex practice (the difference between `re.search()` and `re.match()`):"
   ]
  },
  {
   "cell_type": "code",
   "execution_count": 14,
   "metadata": {
    "ExecuteTime": {
     "end_time": "2021-01-01T22:56:05.461408Z",
     "start_time": "2021-01-01T22:56:05.455102Z"
    }
   },
   "outputs": [
    {
     "data": {
      "text/plain": [
       "<re.Match object; span=(0, 3), match='abc'>"
      ]
     },
     "execution_count": 14,
     "metadata": {},
     "output_type": "execute_result"
    }
   ],
   "source": [
    "import re\n",
    "\n",
    "re.match('abc', 'abcde')"
   ]
  },
  {
   "cell_type": "code",
   "execution_count": 15,
   "metadata": {
    "ExecuteTime": {
     "end_time": "2021-01-01T22:56:05.481017Z",
     "start_time": "2021-01-01T22:56:05.473293Z"
    }
   },
   "outputs": [
    {
     "data": {
      "text/plain": [
       "<re.Match object; span=(0, 3), match='abc'>"
      ]
     },
     "execution_count": 15,
     "metadata": {},
     "output_type": "execute_result"
    }
   ],
   "source": [
    "re.search('abc', 'abcde')"
   ]
  },
  {
   "cell_type": "code",
   "execution_count": 16,
   "metadata": {
    "ExecuteTime": {
     "end_time": "2021-01-01T22:56:05.494962Z",
     "start_time": "2021-01-01T22:56:05.489399Z"
    }
   },
   "outputs": [],
   "source": [
    "re.match('cd', 'abcde')"
   ]
  },
  {
   "cell_type": "code",
   "execution_count": 17,
   "metadata": {
    "ExecuteTime": {
     "end_time": "2021-01-01T22:56:05.512680Z",
     "start_time": "2021-01-01T22:56:05.503977Z"
    }
   },
   "outputs": [
    {
     "data": {
      "text/plain": [
       "<re.Match object; span=(2, 4), match='cd'>"
      ]
     },
     "execution_count": 17,
     "metadata": {},
     "output_type": "execute_result"
    }
   ],
   "source": [
    "re.search('cd', 'abcde')"
   ]
  },
  {
   "cell_type": "markdown",
   "metadata": {},
   "source": [
    "## Practice exercises for introduction to tokenization:\n",
    "\n",
    "$\\blacktriangleright$ **Data pre-loading:**"
   ]
  },
  {
   "cell_type": "code",
   "execution_count": 18,
   "metadata": {
    "ExecuteTime": {
     "end_time": "2021-01-01T22:56:05.544636Z",
     "start_time": "2021-01-01T22:56:05.526544Z"
    }
   },
   "outputs": [],
   "source": [
    "scene_one = open(\"ref2. Monty Python and the Holy Grail.txt\").read()"
   ]
  },
  {
   "cell_type": "markdown",
   "metadata": {
    "ExecuteTime": {
     "end_time": "2020-12-19T22:02:33.692343Z",
     "start_time": "2020-12-19T22:02:33.687220Z"
    }
   },
   "source": [
    "$\\blacktriangleright$ **NLTK word tokenization with practice:**"
   ]
  },
  {
   "cell_type": "code",
   "execution_count": 19,
   "metadata": {
    "ExecuteTime": {
     "end_time": "2021-01-01T22:56:06.312821Z",
     "start_time": "2021-01-01T22:56:05.548598Z"
    }
   },
   "outputs": [
    {
     "name": "stdout",
     "output_type": "stream",
     "text": [
      "{'Ewing', 'dirty', 'Yeah', 'And', 'handle', 'Erm', 'horn', 'ere', 'request', 'dorsal', 'exploiting', 'Try', ']', 'One', 'heard', 'GREEN', 'Running', 'pestilence', \"'aaggggh\", 'vache', 'Anarcho-syndicalism', 'suit', 'Over', 'Throw', 'With', 'rest', 'least', 'rodent', 'scene', 'Amen', 'Stand', 'quarrel', 'fly', 'return', 'uhh', 'mashed', 'period', 'ninepence', 'time-a', 'illegitimate-faced', 'PRINCE', 'behold', 'looking', 'water', 'unhealthy', 'Together', 'masses', 'awfully', 'will', \"'old\", 'Iiiiives', 'affairs', 'oral', 'Does', 'false', 'aquatic', 'back', 'bum', 'woosh', \"'is\", 'presence', 'Grail', 'BLACK', 'Hill', 'nice-a', 'once', 'empty', 'employed', 'assault', 'swords', 'yel', 'bid', 'routines', 'Packing', 'charged', 'your', 'elderberries', 'biggest', 'lucky', 'seem', 'ju', 'LUCKY', 'held', 'gouged', 'lord', 'Pendragon', 'died', 'woman', 'nervous', 'CHARACTERS', 'guard', 'remain', 'knights', 'favor', 'shit', 'Lady', 'hidden', 'CUSTOMER', 'smashing', 'Supreme', 'bitching', 'profane', 'Crapper', 'design', 'lived', 'Oh', 'Shall', 'bold', 'England', 'wound', \"'Ni\", 'dare', 'gave', 'feast', 'chance', 'haaa', 'attend', 'system', 'spake', 'WINSTON', 'stay', 'asks', 'yours', 'sigh', 'wait', 'doubt', 'Sir', 'call', 'work', \"'d\", 'Aah', 'most', 'high-pitched', 'signifying', 'I', 'pray', 'keeper', 'Build', 'questions', 'wipers', 'scrape', 'known', 'Very', 'Summer', 'Patsy', 'leg', 'union', 'Agh', 'ehh', 'folk', 'how', 'lapin', 'Thpppt', 'As', 'Table', 'basis', 'ever', 'sloths', 'Lead', 'sequin', 'Guy', 'thine', 'Not-appearing-in-this-film', 'walk', 'bridgekeeper', 'by', 'LAUNCELOT', 'guarded', 'when', 'bastards', 'stop', 'example', 'Death', 'ordinary', 'bring', 'shelter', 'lies', 'which', 'bless', '--', 'repressing', 'became', 'Really', 'forty-three', 'Rheged', 'Eee', 'you', 'length', 'smack', 'use', 'dogma', 'bonk', 'totally', 'wedding', 'Good', 'heeh', 'commune', 'vary', 'Hold', 'guided', 'wind', 'mud', 'daft', 'donkey-bottom', 'Saint', 'flint', 'Uhh', 'suggesting', 'consulted', 'frighten', 'non-migratory', '#', 'sacrifice', 'stayed', 'warm', 'passed', 'Have', '10', 'dangerous', 'carries', 'visually', 'escape', 'sweet', 'KING', 'courage', 'g', 'went', 'saying', 'war', 'nineteen-and-a-half', 'Hello', 'spooky', 'cross', 'mightiest', 'count', 'favorite', 'model', 'Un', 'Bristol', 'obviously', 'color', 'Burn', 'these', 'distributing', 'Hallo', 'wet', 'Action', 'CART-MASTER', 'whether', 'smashed', 'surprise', 'Now', 'Perhaps', ':', 'remembered', 'disheartened', 'body', 'recover', 'rewr', 'Divine', 'main', 'as', 'temptation', 'remember', 'Hmm', 'answer', 'ARTHUR', 'Open', 'forward', 'bed', 'shut', 'anarcho-syndicalist', 'sawwwww', 'havin', 'Bread', 'Are', 'pansy', 'meant', 'scared', 'gra', 'run', 'door', 'Knight', 'cover', 'Steady', 'quest', 'Winter', 'carved', 'master', 'ni', 'might', 'pond', 'BRIDGEKEEPER', 'seen', 'kick', 'winter', 'Blue', 'GUARDS', 'brain', 'Cider', 'drilllll', 'Charge', 'Gable', 'young', 'late', 'African', 'emperor', 'Robin', 'spanking', 'Black', 'may', 'On', 'owns', 'bite', 'dark', 'SECOND', 'witches', 'snore', 'dying', 'offensive', 'very', 'fight', 'CHARACTER', 'Bravest', 'k-nnniggets', 'snows', 'retreat', 'Caerbannog', 'whoever', 'plain', 'Camaaaaaargue', 'high', 'regulations', 'must', 'running', 'find', 'raped', 'pweeng', 'wide', 'rock', 'medieval', 'utterly', 'again', 'merger', 'Assyria', 'ROBIN', 'bugger-folk', 'well', 'plover', 'matter', 'lunged', 'shivering', 'setting', 'spanked', 'orangutans', 'him', 'busy', 'Providence', 'Dis-mount', \"'Aauuuuugh\", 'daughter', 'chickening', 'wishes', 'forth', 'eight', 'differences', 'NARRATOR', 'fourth', 'BEDEVERE', 'Greetings', 'stress', 'Churches', 'dictatorship', 'newt', 'has', 'keep', 'Hee', 'name', 'shows', 'sad', 'somebody', 'Anyway', 'CONCORDE', 'Ridden', 'ungallant', 'Quiet', 'Um', 'idiom', 'heads', 'same', 'it', 'zone', 'va.', 'centuries', 'quick', 'saved', 'baaaa', 'Prepare', 'l', 'Hiyya', 'Woa', 'scenes', 'Castle', 'Enchanter', 'penalty', 'large', 'further', 'met', 'Welcome', 'na', 'inferior', 'little', 'Huh', 'imperialist', 'SOLDIER', ';', 'rhymes', 'Mind', 'cost', \"e'er\", 'swallow', 'Thy', 'Remove', 'worse', 'inherent', 'suffered', 'aaugh', 'Auuuuuuuugh', 'groveling', 'thou', 'wonderful', 'unsingable', 'yet', 'expect', 'burn', 'band', 'spoken', 'cast', 'south', 'even', 'thirty-seven', 'What', \"'s\", 'certainly', 'Iesu', 'come', 'dead', 'anything', 'safety', 'protect', \"'Here\", 'nearly', 'Knights', 'liege', 'headoff', 'THE', 'Must', 'north-east', 'ai', 'haste', 'KNIGHTS', 'those', 'How', 'rich', 'Away', 'have', 'people', 'awhile', 'ARMY', 'vests', 'Cornwall', 'Ulk', 'mad', \"'\", 'sing', 'talk', 'rode', 'bois', '12', 'watery', 'bridges', 'Aaaaaaaah', 'object', 'treat', 'guest', 'Brave', 'set', 'towards', 'aptly', 'life', 'GUEST', 'snuff', 'knight', 'thank', 'stood', 'Riiight', 'changed', 'shall', 'bangin', 'hang', 'witch', 'window-dresser', 'can', 'joyful', 'donaeis', 'fwump', 'sacred', 'soon', 'give', 'MONKS', 'Uugh', 'keepers', 'trough', 'think', 'table', 'bastard', 'got', 'progress', 'Uuh', 'particular', 'dull', 'Thee', ')', 'today', 'speak', 'yelling', 'ha', 'doctors', 'forced', '1', 'mean', 'Hey', 'BRIDE', 'Chapter', 'lady', 'deal', 'effect', 'welcome', 'mooooooo', 'This', 'Order', 'nearer', 'So', 'food', 'tiny', 'Piglet', 'Great', 'than', 'armed', 'lad', 'bravest', \"'ni\", 'follow', 'bint', 'Hah', 'runes', 'yellow', 'government', 'looks', 'throwing', 'rescue', 'Listen', 'wayy', 'down', '4', 'great', 'father', '24', 'PRISONER', 'dungeon', 'gone', 'intermission', 'When', 'Clear', 'bride', 'tea', 'nine', 'about', 'tree', 'teeth', 'blood', 'doing', 'Shh', 'p', 'fought', 'Anybody', 'ones', 'Ooh', 'tit', 'approaching', 'deeds', 'forget', 'risk', 'fair', 'CRONE', 'grail-shaped', 'spank', 'tart', 'sonny', 'testicles', 'MIDDLE', 'vouchsafed', 'wooden', 'Your', 'Uh', 'BORS', 'someone', '(', 'naughty', \"'S\", 'samite', 'side', 'chorus', 'fled', 'accent', 'preserving', 'Far', 'fortune', 'Bridge', 'Silence', 'any', 'icy', 'Five', \"C'est\", 'problems', 'Victory', 'enchanter', 'classes', 'force', 'accomplished', 'tops', 'mystic', 'snap', 'Ohh', 'sure', 'Mother', 'legally', 'automatically', 'Rather', 'week', 'rrrr', 'LEFT', 'supreme', 'Saxons', 'Aaaaugh', 'apart', 'Arimathea', 'die', 'Anthrax', 'pig-dogs', 'feel', 'Olfin', 'Hurry', 'duty', 'jump', 'No', 'conclusions', 'My', 'splat', 'previous', 'either', 'SCENE', 'am', 'outside', 'gained', 'rocks', 'writing', 'anyone', 'chord', 'draw', 'science', 'rejoicing', 'resumes', 'liar', 'lot', 'Pin', 'capital', 'thump', 'Bloody', 'tail', 'CARTOON', 'Supposing', \"'ll\", 'because', \"'cause\", 'Galahad', 'un', 'and', 'twin', 'HISTORIAN', 'Alice', 'knew', 'manner', 'unladen', 'It', 'silly', 'twang', 'who', 'vicious', 'leads', 'sex', 'crone', 'Thpppppt', 'Consult', 'told', 'Hang', 'ho', 'dancing', 'ruffians', 'purest', 'clllank', 'Swamp', 'long', 'but', 'beds', '?', 'traveller', 'formed', 'Would', 'bet', 'outdoors', 'number', 'workers', 'vital', 'birds', 'exciting', 'cave', 'stupid', 'enemies', 'zoosh', 'Gawain', 'guards', 'wave', 'interested', 'pimples', 'bleeder', 'identical', 'TIM', 'or', 'Of', 'open', 'other', 'made', 'one', '7', 'uh', 'bottoms', 'Man', 'dictating', 'left', 'All', 'Three', 'Dragon', 'OTHER', 'home', 'art', 'Zoot', 'eat', 'away', '8', 'mayhem', 'compared', 'thing', 'tropical', 'laden', 'leap', '2', 'Off', 'Tall', 'Augh', 'right', 'scales', 'pure', 'smelt', 'But', 'clank', 'become', 'beacon', ',', 'gentle', 'some', 'day', 'unplugged', 'binding', 'full', 'amazes', 'miserable', 'much', 'more', 'say', 'bringing', 'fine', 'eis', 'maybe', 'legs', 'Monsieur', 'Even', 'at', 'duck', 'anywhere', 'Hyy', 'advancing', 'Dramatically', 'ask', 'pay', 'grin', 'language', 'Walk', 'head', 'kingdom', 'Nothing', 'they', 'enter', 'off', 'accompanied', 'tired', 'nasty', 'See', 'Then', 'mumble', 'easy', 'far', 'foe', 'OFFICER', 'her', 'Farewell', 'only', 'best', 'hospitality', 'husk', 'gallantly', 'makes', 'bats', 'so', 'tell', 'them', 'two-thirds', 'using', \"'m\", 'types-a', 'separate', 'largest', 'nobody', 'Skip', 'etc', 'badger', 'Other', 'entrance', 'last', 'y', 'Pure', 'Everything', 'Lake', 'grovel', 'glass', 'quack', 'ugly', 'wherein', 'arm', 'excuse', 'third', 'tale', 'W', 'breakfast', 'supports', 'ill.', 'Whoa', 'clack', 'Brother', 'nor', 'Two', 'verses', 'training', 'anchovies', 'breath', 'Britons', 'closest', '13', 'sons', 'old', 'north', 'working', 'understanding', 'nose', 'until', 'Hand', 'times', 'society', 'Aaah', 'guests', 'oui', 'creature', 'fold', 'was', 'Ah', 'WIFE', 'MAYNARD', 'Ninepence', 'Like', 'Yeaaah', 'peasant', 'Halt', 'word', 'eccentric', 'Practice', 'fart', 'coconuts', 'minutes', 'Eternal', 'wood', '21', 'summon', '5', 'bit', 'throat', 'pack', 'Wood', 'Lancelot', 'awaaay', 'Be', '[', 'wants', 'else', \"'it\", 'pointy', 'Book', 'aside', 'ptoo', 'convinced', 'Right', 'OF', 'proceed', 'king-a', 'lair', 'officer', 'out-clever', 'Today', 'occasion', 'Antioch', 'Thank', 'PARTY', 'heroic', 'weight', 'Aaaugh', 'girl', 'this', 's', 'packing', 'mine', 'Picture', 'whom', 'argue', 'NI', 'round', 'Once', \"'Oooooooh\", 'angels', 'legendary', 'cough', 'happens', 'trusty', 'mandate', 'together', 'Quickly', 'pause', 'inside', 'Say', 'Spring', 'VOICE', 'animator', 'around', 'its', 'logically', 'present', \"'Morning\", 'helpful', 'carried', 'ANIMATOR', 'Found', 'outdated', 'arrows', 'Thppt', 'Since', 'derives', 'knows', 'violence', 'self-perpetuating', 'pissing', 'just', 'alarm', 'case', 'w', 'out', 'bird', 'breadth', 'need', 'Unfortunately', 'pull', 'Silly', 'Please', 'For', 'finest', 'frontal', 'committed', 'listen', 'stab', 'Bors', 'bosom', 'daring', 'Lie', 'mayest', 'says', 'Tower', 'BROTHER', 'carry', 'Aramaic', 'internal', 'song', 'sire', 'dub', 'take', 'himself', 'stretched', 'every', 'thud', 'seldom', 'hell', 'Ha', 'Oooo', 'aaaaaah', 'KNIGHT', 'witness', 'unclog', 'Dennis', 'scimitar', 'could', 'see', 'never', 'bathing', 'know', 'sir', 'God', 'He', 'Here', 'Meanwhile', 'idea', 'impersonate', 'each', 'Quite', 'DEAD', 'persons', 'Frank', \"'Til\", 'weighs', 'man', '6', 'cheesy', 'Thou', 'Why', 'special', 'keen', 'sister', 'fruit', 'Come', 'PERSON', 'next', 'flights', 'worry', \"'Man\", 'ROGER', 'fifty', 'fellows', 'Badon', 'Yay', 'GOD', 'Winston', 'general', 'repressed', 'swallows', 'lambs', 'mortally', 'brush', 'eats', 'electric', 'own', 'Aaauugh', 'married', 'To', 'explain', 'Midget', 'underwear', 'kings', 'ounce', 'refuse', 'Grenade', 'Cut', 'point', 'They', 'Ho', '19', 'c', 'valor', 'dressing', 'wise', 'Nu', 'dunno', 'through', 'formidable', 'grail', 'Lord', 'send', 'O', 'being', 'Old', 'couple', 'sixteen', 'outwit', 'leave', 'sign', 'go', 'all', 'turns', 'That', 'alive', 'retold', 'hundred-and-fifty', 'Thppppt', 'silence', 'HEADS', 'bang', 'feint', 'Yapping', 'lying', 'weapon', 'good', 'autonomous', 'sovereign', 'higher', 'power', 'k-nnnnniggets', 'knocked', 'European', 'watch', 'tiny-brained', 'thought', 'mistake', 'Autumn', 'SIR', 'sponge', 'over', 'spam', 'stuffed', 'Every', 'o', 'handsome', 'cop', 'GUESTS', 'liver', 'Himself', 'join', 'biscuits', 'entered', 'Chicken', 'Schools', \"'First\", 'valleys', 'diaphragm', 'mer', 'Mmm', 'Princess', 'VILLAGER', 'peril', 'Hooray', 'strength', 'ALL', 'counting', 'he', 'needs', 'night', 'taunting', 'woods', 'expensive', 'chanting', 'Stop', 'bad-tempered', 'temperate', 'SHRUBBER', 'here', 'confuse', 'wart', 'sorry', 'dappy', 'apologise', 'b', 'reads', 'Beast', 'sell', 'please', 'Arthur', 'Tell', 'triumphs', 'slightly', 'burst', 'boom', 'Doctor', 'aloft', 'ours', \"'To\", 'harmless', 'chops', 'looney', 'history', 'biters', 'commands', 'By', 'Sorry', 'LOVELY', 'chickened', 'splash', 'Bedevere', 'gravy', 'English', 'conclusion', 'thonk', 'enough', 'RANDOM', 'Who', 'humble', 'to', 'Just', 'time', 'suspenseful', 'u', 'built', 'git', 'kneecaps', 'an', 'two-level', 'martin', 'tackle', 'particularly', 'brought', 'on', 'indeed', 'build', 'pig', 'hiyaah', 'Alright', 'Hoa', 'if', 'Let', 'straight', 'sword', 'king', 'she', 'happy', 'is', 'Looks', 'hills', 'Aagh', 'dynamite', 'yeah', 'asking', 'waste', 'Our', 'cereals', 'show', 'dona', 'end', 'everyone', 'successful', 'twenty', \"'anging\", 'N', 'reared', 'taken', 'easily', 'dressed', 'travellers', 'pounds', 'forest', 'She', 'pound', 'ponds', 'Aaaaaaaaah', 'Lucky', 'VILLAGERS', 'drink', 'bloody', 'executive', '17', 'Oooohoohohooo', 'parts', 'then', 'attack', 'creep', 'slash', 'islands', 'influential', 'proved', 'Aaauggh', 'demand', 'town', 'court', 'felt', 'Round', 'CRASH', 'big', 'Hiyah', 'kneeling', 'nick', 'CRAPPER', 'into', 'quite', 'sense', 'Hiyaah', 'Christ', 'Neee-wom', 'Use', 'Ask', 'Stay', 'mangled', 'everything', 'anyway', 'Aggh', 'cart', 'May', 'er', \"'Ecky-ecky-ecky-ecky-pikang-zoop-boing-goodem-zoo-owli-zhiv\", 'INSPECTOR', 'cruel', 'Guards', 'resting', 'lie', 'economic', 'nice', 'year', 'bad', 'Psalms', 'live', 'Court', 'bladders', 'Hm', 'done', 'Nine', 'n', 'Shut', 'ye', 'chosen', 'danger', 'singing', 'delirious', 'Splendid', 'Those', 'shimmering', 'major', 'trouble', 'requiem', 'things', 'plan', 'gon', 'appease', 'Which', 'always', 'land', 'pulp', 'Speak', 'suffice', 'grips', 'bleed', 'Tim', 'get', 'unarmed', 'valiant', 'killed', 'mile', 'alight', 'Ives', 'ran', 'seemed', 'moistened', '16', \"'Erbert\", 'started', 'oo', 'MAN', 'frozen', 'hoo', 'crash', 'collective', 'Keep', 'cadeau', 'clunk', 'certain', 'really', 'starling', 'thy', '..', 'ride', 'Honestly', 'Too', 'not', 'Recently', 'Eh', 'Exactly', 'Fetchez', 'ooh', 'squeak', 'after', '...', 'FRENCH', 'two', 'pen', 'we', 'bother', 'meeting', 'enjoying', 'floats', 'taking', 'CAMERAMAN', 'chu', 'our', 'foul', 'walking', 'lost', 'Y', 'Almighty', 'bells', 'Ay', 'um', 'allowed', 'discovers', \"'em\", 'headed', 'afraid', 'shrubbery', 'Seek', 'approacheth', 'marrying', 'Armaments', 'flight', '3', 'ignore', \"'sorry\", 'vain', 'therefore', 'four', 'friend', 'grenade', '18', 'GUARD', 'medical', 'Hya', 'upon', 'mate', 'depart', 'Where', 'blanket', 'Not', 'velocity', 'j', 'hee', 'fooling', 'Roger', 'Or', 'defeator', 'nibble', 'There', 'freedom', 'hmm', 'discovered', 'blessing', 'acting', 'like', 'path', 'carrying', 'averting', 'aunties', 'perilous', 'hamster', 'In', 'Therefore', 'horse', 'prevent', 'ethereal', 'Heh', 'cope', 'Nador', 'Aauuuves', 'up', 'individually', 'dragging', 'new', 'tonight', 'tragic', 'lovely', 'required', 'pussy', 'creak', 'radio', \"'forgive\", '14', 'were', 'farcical', 'autocracy', 'herring', 'single-handed', 'hand', 'wicked', 'DIRECTOR', 'did', 'whop', 'magne', 'moment', 'be', 'trumpets', 'afoot', 'Wait', 'elbows', 'absolutely', 'Bones', 'illustrious', 'Four', 'having', 'Excalibur', 'punishment', 'the-not-quite-so-brave-as-Sir-Lancelot', 'with', 'throughout', 'bows', 'horrendous', 'sniff', 'simple', 'scribble', 'understand', 'Never', 'real', 'able', 'laughing', 'warning', \"d'you\", 'sharp', 'Nay', 'impeccable', 'Aaaah', 'Bad', 'are', 'The', 'Fiends', 'Until', 'noise', 'test', 'worthy', 'Look', 'praised', 'now', 'while', 'PATSY', 'tap-dancing', 'what', 'Go', 'ZOOT', 'Ahh', 'blondes', 'Loimbard', 'carp', 'want', 'wounding', 'hopeless', 'soiled', 'killer', 'Mercea', 'Dingo', 'Attila', 'beautiful', 'does', 'said', 'weather', 'business', 'Leaving', 'adversary', 'later', 'Gorge', 'giggle', 'dine', 'sight', 'split', 'Aauuggghhh', 'middle', 'since', 'purpose', 'eet', 'imprisoned', 'Follow', 'quests', 'outrageous', 'B', 'HEAD', 'too', \"'Dennis\", 'place', 'Explain', 'scots', 'been', 'Fine', 'raised', 'Chickennn', 'Ector', 'warmer', 'me', 'You', 'Cherries', 'Iiiives', 'Peng', \"'Ere\", 'Jesus', 'settles', 'blow', 'trade', \"'round\", 'saw', 'rather', 'hall', 'animal', 'ratios', \"n't\", 'bottom', 'dance', 'going', 'France', 'worked', 'scott', 'guiding', 'Thsss', 'Message', 'hacked', 'pram', 'eh', 'beyond', 'yes', 'servant', 'cartoon', 'nothing', 'vote', 'armor', 'Back', 'almost', 'WOMAN', 'a', 'Quick', 'doors', 'Ni', 'already', 'broken', 'ways', 'that', 'mangy', 'None', 'something', 'defeat', 'bed-wetting', 'words', 'tear', 'Dappy', 'Tale', 'way', 'kind', 'Most', 'face', 'lives', 'maintain', \"'til\", 'cut', 'cry', 'move', 'reasonable', 'performance', 'my', 'properly', 'Said', 'tinder', 'relax', 'Put', 'foot', 'mother', 'oh', \"'re\", 'mac', 'first', 'act', 'took', 'uuggggggh', 'honored', 'jam', 'tracts', 'ham', 'goes', 'holy', 'avenged', 'music', 'gurgle', 'HERBERT', 'ceremony', 'domine', 'somewhere', 'Behold', 'DINGO', 'knees-bent', 'search', 'types', 'personally', 'soft', 'death', 'riding', 'tie', 'eyes', 'RIGHT', 'MIDGET', 'nostrils', 'bond', 'from', 'Thursday', 'Yes', 'kill', 'More', 'strongest', 'roar', 'Actually', 'minute', 'less', 'near', 'learning', 'dad', 'rope', '15', 'Waa', 'worried', 'bunny', 'beat', 'necessary', 'baby', 'women', 'Well', 'mercy', 'Umhm', 'miss', 'Chop', 'van', 'majority', 'la', 'leaps', 'clang', 'string', 'put', 'returns', 'still', 'chest', 'flesh', 'Beyond', 'Gallahad', 'Haw', 'sod', 'k-niggets', 'ratified', 'pass', 'also', 'considerable', 'fire', 'mooo', 'heart', 'undressing', 'whose', 'wrong', 'castanets', 'wounded', 'used', 'Battle', 'fatal', 'air-speed', 'their', 'suddenly', 'U', 'shrubberies', 'bi-weekly', 'glory', 'oooh', '11', 'arms', 'AMAZING', 'Do', 'Excuse', 'Twenty-one', 'If', 'scarper', 'wo', 'sneaking', 'let', 'i', 'brunettes', 'crying', 'Help', 'three', 'buggering', 'We', 'MINSTREL', 'crossed', 'boys', 'bones', 'Bring', 'line', 'although', 'Uther', 'Pull', 'terribly', 'looked', 'Father', 'Is', 'voluntarily', 'warned', 'Aaagh', 'note', 'swamp', 'why', 'in', 'continue', 'person', 'awaaaaay', 'there', 'telling', 'hello', 'strange', 'clap', 'covered', 'WITCH', 'many', 'excepting', 'bravely', 'Shrubberies', 'given', 'social', 'strand', \"'aaaah\", 'Could', 'making', 'sort', 'Robinson', 'Am', 'Clark', 'seems', 'grip', 'strategy', 'Get', \"'shrubberies\", 'French', 'examine', 'Yup', 'siren', 'Camelot', 'lose', 'King', 'carving', 'Joseph', 'whispering', 'temptress', 'sun', 'relics', 'Ayy', 'brave', 'Umm', 'push', 'taunt', 'fallen', 'huge', 'Huy', 'behaviour', 'evil', 'filth', 'howl', 'of', 'wiper', 'burned', 'tough', 'His', 'terrible', 'Bon', 'luck', 'streak', 'small', 'purely', 'buggered', 'country', 'bridge', 'five', 'lobbed', 'men', 'knock', 'varletesses', 'basic', 'shrubber', 'GIRLS', 'immediately', 'for', 'curtains', 'Heee', 'should', 'spirit', 'gay', 'hear', 'ready', 'decided', 'lobbest', 'An', 'the', 'comin', 'At', 'glad', 'Herbert', 'opera', 'found', 'awaits', \"'uuggggggh\", 'his', \"'ve\", 'private', 'Idiom', 'beside', 'Mud', 'turned', 'de', 'between', 'question', 'migrate', 'True', 'stew', 'invincible', 'sink', 'sank', 'wings', 'Peril', 'eisrequiem', 'scratch', 'Allo', 'strewn', 'give-away', 'Mine', 'worst', 'without', 'PIGLET', 'bowels', 'Launcelot', '20', 'room', 'Hoo', 'along', 'earthquakes', 'kicked', 'ladies', 'thanks', 'where', 'getting', 'Will', 'marry', 'suppose', 'strangers', 'under', 'Aaaaaah', 'assist', 'sworn', 'change', 'clear', 'stone', 'shalt', 'ferocity', 'Bedwere', 'quiet', 'reached', 'minstrels', 'removed', 'lads', 'completely', 'Forward', 'son', 'against', 'whinny', 'indefatigable', 'chastity', 'carve', 'dress', 'Pie', 'help', 'yourself', 'sheep', 'door-opening', 'living', 'wan', 'score', 'Make', 'dramatic', 'Surely', 'A', 'had', 'sample', 'names', \"'T\", 'Oui', 'wedlock', 'laurels', 'Angnor', 'SUN', 'Defeat', 'OLD', 'Ages', 'such', 'feet', 'Bravely', 'behind', 'jokes', 'actually', 'entering', 'called', 'SENTRY', 'thwonk', 'seek', 'twenty-four', 'Oooh', 'no', 'castle', 'haw', 'Aauuugh', \"'Course\", 'uuup', 'dear', 'auntie', 'make', 'STUNNER', 'supposed', 'Shrubber', 'Hic', 'better', 'wield', 'Maynard', 'named', 'Holy', 'Did', 'Concorde', 'try', 'second', 'task', 'distress', 'Britain', 'order', 'agree', 'sometimes', '23', 'problem', 'another', '!', 'would', 'hospital', 'kills', 'twong', 'footwork', 'coming', 'Prince', 'finds', 'halves', 'creeper', 'e', 'Between', 'Wayy', 'sent', 'bits', '9', 'decision', 'hast', 'direction', 'stand', 'ENCHANTER', 'FATHER', 'boil', 'look', 'Quoi', 'Run', 'CROWD', 'bicker', 'arrange', 'Firstly', 'coconut', 'climes', 'command', 'auuuuuuuugh', 'ca', 'so-called', 'buy', '.', 'Apples', 'fell', 'course', 'do', 'house', 'nightfall', 'clop', 'us', 'limbs', 'Torment', 'clad', 'feathers', 'earth', 'class', 'longer', 'ridden', 'threw', 'depressing', 'stops', 'clue', 'DENNIS', 'hat', 'lonely', 'Yeaah', 'rabbit', 'heh', 'Ow', 'banana-shaped', 'scholar', 'answers', 'Huyah', 'PRINCESS', 'Chaste', 'perpetuates', 'passing', 'Forgive', 'GALAHAD', 'police', '22'}\n"
     ]
    }
   ],
   "source": [
    "# Import necessary modules\n",
    "from nltk.tokenize import sent_tokenize\n",
    "from nltk.tokenize import word_tokenize\n",
    "\n",
    "# Split scene_one into sentences: sentences\n",
    "sentences = sent_tokenize(scene_one)\n",
    "\n",
    "# Use word_tokenize to tokenize the fourth sentence: tokenized_sent\n",
    "tokenized_sent = word_tokenize(sentences[3])\n",
    "\n",
    "# Make a set of unique tokens in the entire scene: unique_tokens\n",
    "unique_tokens = set(word_tokenize(scene_one))\n",
    "\n",
    "# Print the unique tokens result\n",
    "print(unique_tokens)"
   ]
  },
  {
   "cell_type": "markdown",
   "metadata": {},
   "source": [
    "$\\blacktriangleright$ **Package pre-loading:**"
   ]
  },
  {
   "cell_type": "code",
   "execution_count": 20,
   "metadata": {
    "ExecuteTime": {
     "end_time": "2021-01-01T22:56:06.358673Z",
     "start_time": "2021-01-01T22:56:06.355077Z"
    }
   },
   "outputs": [],
   "source": [
    "import re"
   ]
  },
  {
   "cell_type": "markdown",
   "metadata": {},
   "source": [
    "$\\blacktriangleright$ **Regex (`re.search()`) practice:**"
   ]
  },
  {
   "cell_type": "code",
   "execution_count": 21,
   "metadata": {
    "ExecuteTime": {
     "end_time": "2021-01-01T22:56:06.383843Z",
     "start_time": "2021-01-01T22:56:06.372435Z"
    }
   },
   "outputs": [
    {
     "name": "stdout",
     "output_type": "stream",
     "text": [
      "580 588\n"
     ]
    }
   ],
   "source": [
    "# Search for the first occurrence of \"coconuts\" in scene_one: match\n",
    "match = re.search(\"coconuts\", scene_one)\n",
    "\n",
    "# Print the start and end indexes of match\n",
    "print(match.start(), match.end())"
   ]
  },
  {
   "cell_type": "code",
   "execution_count": 22,
   "metadata": {
    "ExecuteTime": {
     "end_time": "2021-01-01T22:56:06.400272Z",
     "start_time": "2021-01-01T22:56:06.391198Z"
    }
   },
   "outputs": [
    {
     "name": "stdout",
     "output_type": "stream",
     "text": [
      "<re.Match object; span=(9, 32), match='[wind] [clop clop clop]'>\n"
     ]
    }
   ],
   "source": [
    "# Write a regular expression to search for anything in square brackets: pattern1\n",
    "pattern1 = r\"\\[.*\\]\"\n",
    "\n",
    "# Use re.search to find the first text in square brackets\n",
    "print(re.search(pattern1, scene_one))"
   ]
  },
  {
   "cell_type": "code",
   "execution_count": 23,
   "metadata": {
    "ExecuteTime": {
     "end_time": "2021-01-01T22:56:06.416718Z",
     "start_time": "2021-01-01T22:56:06.406306Z"
    }
   },
   "outputs": [
    {
     "name": "stdout",
     "output_type": "stream",
     "text": [
      "<re.Match object; span=(0, 7), match='ARTHUR:'>\n"
     ]
    }
   ],
   "source": [
    "# Find the script notation at the beginning of the fourth sentence and print it\n",
    "pattern2 = r\"[\\w\\s#]+:\"\n",
    "print(re.match(pattern2, sentences[3]))"
   ]
  },
  {
   "cell_type": "markdown",
   "metadata": {
    "ExecuteTime": {
     "end_time": "2020-07-24T11:20:21.989524Z",
     "start_time": "2020-07-24T11:20:12.960881Z"
    }
   },
   "source": [
    "```\n",
    "#############################################\n",
    "##                                         ##\n",
    "##  Natural Language Processing in Python  ##\n",
    "##                                         ##\n",
    "#############################################\n",
    "\n",
    "§1 Introduction to Natural Language Processing in Python\n",
    "\n",
    "§1.1 Regular expressions & word tokenization\n",
    "```"
   ]
  },
  {
   "cell_type": "markdown",
   "metadata": {},
   "source": [
    "# Advanced tokenization with NLTK and regex"
   ]
  },
  {
   "cell_type": "markdown",
   "metadata": {},
   "source": [
    "## How to make regex groups and how to indicate \"OR\"?\n",
    "\n",
    "* \"OR\" is represented using `|`.\n",
    "\n",
    "* It is possible to define a group using `()`.\n",
    "\n",
    "* It is possible to define explicit character ranges using `[]`."
   ]
  },
  {
   "cell_type": "markdown",
   "metadata": {},
   "source": [
    "## Code of regex groups and the indication of \"OR\":"
   ]
  },
  {
   "cell_type": "code",
   "execution_count": 24,
   "metadata": {
    "ExecuteTime": {
     "end_time": "2021-01-01T22:56:07.784946Z",
     "start_time": "2021-01-01T22:56:07.776867Z"
    }
   },
   "outputs": [
    {
     "data": {
      "text/plain": [
       "['He', 'has', '11', 'cats']"
      ]
     },
     "execution_count": 24,
     "metadata": {},
     "output_type": "execute_result"
    }
   ],
   "source": [
    "import re\n",
    "\n",
    "match_digits_and_words = ('(\\d+|\\w+)')\n",
    "re.findall(match_digits_and_words, 'He has 11 cats.')"
   ]
  },
  {
   "cell_type": "markdown",
   "metadata": {},
   "source": [
    "## What are regex ranges and groups?\n",
    "\n",
    "![Regex ranges and groups.jpg](ref3.%20Regex%20ranges%20and%20groups.jpg)"
   ]
  },
  {
   "cell_type": "markdown",
   "metadata": {},
   "source": [
    "## Code of character range with `re.match()`:"
   ]
  },
  {
   "cell_type": "code",
   "execution_count": 25,
   "metadata": {
    "ExecuteTime": {
     "end_time": "2021-01-01T22:56:08.796883Z",
     "start_time": "2021-01-01T22:56:08.770812Z"
    }
   },
   "outputs": [
    {
     "data": {
      "text/plain": [
       "<re.Match object; span=(0, 35), match='match lowercase spaces nums like 12'>"
      ]
     },
     "execution_count": 25,
     "metadata": {},
     "output_type": "execute_result"
    }
   ],
   "source": [
    "import re\n",
    "\n",
    "my_str = 'match lowercase spaces nums like 12, but no commas'\n",
    "re.match('[a-z0-9 ]+', my_str)"
   ]
  },
  {
   "cell_type": "markdown",
   "metadata": {
    "ExecuteTime": {
     "end_time": "2020-12-27T20:58:42.284371Z",
     "start_time": "2020-12-27T20:58:42.280148Z"
    }
   },
   "source": [
    "## Practice question for choosing a tokenizer:\n",
    "\n",
    "* Given the following string, which of the below patterns is the best tokenizer? It is better to retain sentence punctuation as separate tokens if possible but have `'#1'` remain a single token.\n",
    "\n",
    "    ```\n",
    "    my_string = \"SOLDIER #1: Found them? In Mercea? The coconut's tropical!\"\n",
    "    ```\n",
    "    \n",
    "    $\\Box$ `r\"(\\w+|\\?|!)\"`.\n",
    "\n",
    "    $\\boxtimes$ `r\"(\\w+|#\\d|\\?|!)\"`.\n",
    "    \n",
    "    $\\Box$ `r\"(#\\d\\w+\\?!)\"`.\n",
    "        \n",
    "    $\\Box$ `r\"\\s+\"`."
   ]
  },
  {
   "cell_type": "markdown",
   "metadata": {},
   "source": [
    "$\\blacktriangleright$ **Package pre-loading:**"
   ]
  },
  {
   "cell_type": "code",
   "execution_count": 26,
   "metadata": {
    "ExecuteTime": {
     "end_time": "2021-01-01T22:56:09.547210Z",
     "start_time": "2021-01-01T22:56:09.525157Z"
    }
   },
   "outputs": [],
   "source": [
    "from nltk.tokenize import regexp_tokenize"
   ]
  },
  {
   "cell_type": "markdown",
   "metadata": {},
   "source": [
    "$\\blacktriangleright$ **Data pre-loading:**"
   ]
  },
  {
   "cell_type": "code",
   "execution_count": 27,
   "metadata": {
    "ExecuteTime": {
     "end_time": "2021-01-01T22:56:09.815400Z",
     "start_time": "2021-01-01T22:56:09.811242Z"
    }
   },
   "outputs": [],
   "source": [
    "my_string = \"SOLDIER #1: Found them? In Mercea? The coconut's tropical!\"\n",
    "string = my_string\n",
    "\n",
    "pattern1 = r\"(\\w+|\\?|!)\"\n",
    "pattern2 = r\"(\\w+|#\\d|\\?|!)\"\n",
    "pattern3 = r\"(#\\d\\w+\\?!)\"\n",
    "pattern4 = r\"\\s+\""
   ]
  },
  {
   "cell_type": "markdown",
   "metadata": {},
   "source": [
    "$\\blacktriangleright$ **Question-solving method:**"
   ]
  },
  {
   "cell_type": "code",
   "execution_count": 28,
   "metadata": {
    "ExecuteTime": {
     "end_time": "2021-01-01T22:56:10.212566Z",
     "start_time": "2021-01-01T22:56:10.208093Z"
    }
   },
   "outputs": [
    {
     "name": "stdout",
     "output_type": "stream",
     "text": [
      "['SOLDIER', '1', 'Found', 'them', '?', 'In', 'Mercea', '?', 'The', 'coconut', 's', 'tropical', '!']\n"
     ]
    }
   ],
   "source": [
    "pattern = pattern1\n",
    "print(regexp_tokenize(string, pattern))"
   ]
  },
  {
   "cell_type": "code",
   "execution_count": 29,
   "metadata": {
    "ExecuteTime": {
     "end_time": "2021-01-01T22:56:10.276254Z",
     "start_time": "2021-01-01T22:56:10.272021Z"
    }
   },
   "outputs": [
    {
     "name": "stdout",
     "output_type": "stream",
     "text": [
      "['SOLDIER', '#1', 'Found', 'them', '?', 'In', 'Mercea', '?', 'The', 'coconut', 's', 'tropical', '!']\n"
     ]
    }
   ],
   "source": [
    "pattern = pattern2\n",
    "print(regexp_tokenize(string, pattern))"
   ]
  },
  {
   "cell_type": "code",
   "execution_count": 30,
   "metadata": {
    "ExecuteTime": {
     "end_time": "2021-01-01T22:56:10.434145Z",
     "start_time": "2021-01-01T22:56:10.379479Z"
    }
   },
   "outputs": [
    {
     "name": "stdout",
     "output_type": "stream",
     "text": [
      "[]\n"
     ]
    }
   ],
   "source": [
    "pattern = pattern3\n",
    "print(regexp_tokenize(string, pattern))"
   ]
  },
  {
   "cell_type": "code",
   "execution_count": 31,
   "metadata": {
    "ExecuteTime": {
     "end_time": "2021-01-01T22:56:10.450442Z",
     "start_time": "2021-01-01T22:56:10.444462Z"
    }
   },
   "outputs": [
    {
     "name": "stdout",
     "output_type": "stream",
     "text": [
      "[' ', ' ', ' ', ' ', ' ', ' ', ' ', ' ']\n"
     ]
    }
   ],
   "source": [
    "pattern = pattern4\n",
    "print(regexp_tokenize(string, pattern))"
   ]
  },
  {
   "cell_type": "markdown",
   "metadata": {},
   "source": [
    "## Practice exercises for advanced tokenization with NLTK and regex:\n",
    "\n",
    "$\\blacktriangleright$ **Data pre-loading:**"
   ]
  },
  {
   "cell_type": "code",
   "execution_count": 32,
   "metadata": {
    "ExecuteTime": {
     "end_time": "2021-01-01T22:56:10.813079Z",
     "start_time": "2021-01-01T22:56:10.809243Z"
    }
   },
   "outputs": [],
   "source": [
    "tweets = [\n",
    "    'This is the best #nlp exercise ive found online! #python',\n",
    "    '#NLP is super fun! <3 #learning', 'Thanks @datacamp :) #nlp #python'\n",
    "]"
   ]
  },
  {
   "cell_type": "markdown",
   "metadata": {},
   "source": [
    "$\\blacktriangleright$ **NLTK regex tokenization practice:**"
   ]
  },
  {
   "cell_type": "code",
   "execution_count": 33,
   "metadata": {
    "ExecuteTime": {
     "end_time": "2021-01-01T22:56:11.311401Z",
     "start_time": "2021-01-01T22:56:11.256160Z"
    }
   },
   "outputs": [],
   "source": [
    "# Import the necessary modules\n",
    "from nltk.tokenize import TweetTokenizer\n",
    "from nltk.tokenize import regexp_tokenize"
   ]
  },
  {
   "cell_type": "code",
   "execution_count": 34,
   "metadata": {
    "ExecuteTime": {
     "end_time": "2021-01-01T22:56:11.323831Z",
     "start_time": "2021-01-01T22:56:11.314664Z"
    }
   },
   "outputs": [
    {
     "name": "stdout",
     "output_type": "stream",
     "text": [
      "['#nlp', '#python']\n"
     ]
    }
   ],
   "source": [
    "# Import the necessary modules\n",
    "from nltk.tokenize import regexp_tokenize\n",
    "from nltk.tokenize import TweetTokenizer\n",
    "# Define a regex pattern to find hashtags: pattern1\n",
    "pattern1 = r\"#\\w+\"\n",
    "# Use the pattern on the first tweet in the tweets list\n",
    "hashtags = regexp_tokenize(tweets[0], pattern1)\n",
    "print(hashtags)"
   ]
  },
  {
   "cell_type": "code",
   "execution_count": 35,
   "metadata": {
    "ExecuteTime": {
     "end_time": "2021-01-01T22:56:11.333980Z",
     "start_time": "2021-01-01T22:56:11.327867Z"
    }
   },
   "outputs": [
    {
     "name": "stdout",
     "output_type": "stream",
     "text": [
      "['@datacamp', '#nlp', '#python']\n"
     ]
    }
   ],
   "source": [
    "# Import the necessary modules\n",
    "from nltk.tokenize import regexp_tokenize\n",
    "from nltk.tokenize import TweetTokenizer\n",
    "# Write a pattern that matches both mentions (@) and hashtags\n",
    "pattern2 = r\"([@#]\\w+)\"\n",
    "# Use the pattern on the last tweet in the tweets list\n",
    "mentions_hashtags = regexp_tokenize(tweets[-1], pattern2)\n",
    "print(mentions_hashtags)"
   ]
  },
  {
   "cell_type": "code",
   "execution_count": 36,
   "metadata": {
    "ExecuteTime": {
     "end_time": "2021-01-01T22:56:11.386864Z",
     "start_time": "2021-01-01T22:56:11.381237Z"
    }
   },
   "outputs": [
    {
     "name": "stdout",
     "output_type": "stream",
     "text": [
      "[['This', 'is', 'the', 'best', '#nlp', 'exercise', 'ive', 'found', 'online', '!', '#python'], ['#NLP', 'is', 'super', 'fun', '!', '<3', '#learning'], ['Thanks', '@datacamp', ':)', '#nlp', '#python']]\n"
     ]
    }
   ],
   "source": [
    "# Import the necessary modules\n",
    "from nltk.tokenize import regexp_tokenize\n",
    "from nltk.tokenize import TweetTokenizer\n",
    "# Use the TweetTokenizer to tokenize all tweets into one list\n",
    "tknzr = TweetTokenizer()\n",
    "all_tokens = [tknzr.tokenize(t) for t in tweets]\n",
    "print(all_tokens)"
   ]
  },
  {
   "cell_type": "markdown",
   "metadata": {},
   "source": [
    "$\\blacktriangleright$ **Package pre-loading:**"
   ]
  },
  {
   "cell_type": "code",
   "execution_count": 37,
   "metadata": {
    "ExecuteTime": {
     "end_time": "2021-01-01T22:56:11.819409Z",
     "start_time": "2021-01-01T22:56:11.806109Z"
    }
   },
   "outputs": [],
   "source": [
    "from nltk.tokenize import word_tokenize"
   ]
  },
  {
   "cell_type": "markdown",
   "metadata": {},
   "source": [
    "$\\blacktriangleright$ **Data re-pre-loading:**"
   ]
  },
  {
   "cell_type": "code",
   "execution_count": 38,
   "metadata": {
    "ExecuteTime": {
     "end_time": "2021-01-01T22:56:12.326173Z",
     "start_time": "2021-01-01T22:56:12.322936Z"
    }
   },
   "outputs": [],
   "source": [
    "german_text = 'Wann gehen wir Pizza essen? 🍕 Und fährst du mit Über? 🚕'"
   ]
  },
  {
   "cell_type": "markdown",
   "metadata": {},
   "source": [
    "$\\blacktriangleright$ **Non-ascii tokenization practice:**"
   ]
  },
  {
   "cell_type": "code",
   "execution_count": 39,
   "metadata": {
    "ExecuteTime": {
     "end_time": "2021-01-01T22:56:12.831538Z",
     "start_time": "2021-01-01T22:56:12.811112Z"
    }
   },
   "outputs": [
    {
     "name": "stdout",
     "output_type": "stream",
     "text": [
      "['Wann', 'gehen', 'wir', 'Pizza', 'essen', '?', '🍕', 'Und', 'fährst', 'du', 'mit', 'Über', '?', '🚕']\n",
      "['Wann', 'Pizza', 'Und', 'Über']\n",
      "['🍕', '🚕']\n"
     ]
    }
   ],
   "source": [
    "# Tokenize and print all words in german_text\n",
    "all_words = word_tokenize(german_text)\n",
    "print(all_words)\n",
    "\n",
    "# Tokenize and print only capital words\n",
    "capital_words = r\"[A-ZÜ]\\w+\"\n",
    "print(regexp_tokenize(german_text, capital_words))\n",
    "\n",
    "# Tokenize and print only emoji\n",
    "emoji = \"['\\U0001F300-\\U0001F5FF'|'\\U0001F600-\\U0001F64F'|\\\n",
    "'\\U0001F680-\\U0001F6FF'|'\\u2600-\\u26FF\\u2700-\\u27BF']\"\n",
    "\n",
    "print(regexp_tokenize(german_text, emoji))"
   ]
  },
  {
   "cell_type": "markdown",
   "metadata": {
    "ExecuteTime": {
     "end_time": "2020-07-24T11:20:21.989524Z",
     "start_time": "2020-07-24T11:20:12.960881Z"
    }
   },
   "source": [
    "```\n",
    "#############################################\n",
    "##                                         ##\n",
    "##  Natural Language Processing in Python  ##\n",
    "##                                         ##\n",
    "#############################################\n",
    "\n",
    "§1 Introduction to Natural Language Processing in Python\n",
    "\n",
    "§1.1 Regular expressions & word tokenization\n",
    "```"
   ]
  },
  {
   "cell_type": "markdown",
   "metadata": {},
   "source": [
    "# Charting word length with NLTK"
   ]
  },
  {
   "cell_type": "markdown",
   "metadata": {},
   "source": [
    "## Why is it in need to get started with matplotlib?\n",
    "\n",
    "* It is a charting library used by many open-source Python projects.\n",
    "\n",
    "* It has straightforward functionality with lots of options:\n",
    "\n",
    "    * *histograms*\n",
    "\n",
    "    * *bar charts*\n",
    "\n",
    "    * *line charts*\n",
    "\n",
    "    * *scatter plots*\n",
    "\n",
    "* And also, it has advanced functionality like 3D graphs and animations!"
   ]
  },
  {
   "cell_type": "markdown",
   "metadata": {},
   "source": [
    "## Code of plotting a histogram with matplotlib:"
   ]
  },
  {
   "cell_type": "code",
   "execution_count": 40,
   "metadata": {
    "ExecuteTime": {
     "end_time": "2021-01-01T22:56:15.340200Z",
     "start_time": "2021-01-01T22:56:14.232872Z"
    }
   },
   "outputs": [
    {
     "data": {
      "text/plain": [
       "(array([1., 0., 0., 0., 0., 2., 0., 3., 0., 1.]),\n",
       " array([1. , 1.8, 2.6, 3.4, 4.2, 5. , 5.8, 6.6, 7.4, 8.2, 9. ]),\n",
       " <BarContainer object of 10 artists>)"
      ]
     },
     "execution_count": 40,
     "metadata": {},
     "output_type": "execute_result"
    },
    {
     "data": {
      "image/png": "[encoded data removed]",
      "text/plain": [
       "<Figure size 432x288 with 1 Axes>"
      ]
     },
     "metadata": {
      "needs_background": "light"
     },
     "output_type": "display_data"
    }
   ],
   "source": [
    "from matplotlib import pyplot as plt\n",
    "\n",
    "plt.hist([1, 5, 5, 7, 7, 7, 9])"
   ]
  },
  {
   "cell_type": "code",
   "execution_count": 41,
   "metadata": {
    "ExecuteTime": {
     "end_time": "2021-01-01T22:56:15.675046Z",
     "start_time": "2021-01-01T22:56:15.348100Z"
    }
   },
   "outputs": [
    {
     "data": {
      "image/png": "[encoded data removed]",
      "text/plain": [
       "<Figure size 432x288 with 1 Axes>"
      ]
     },
     "metadata": {
      "needs_background": "light"
     },
     "output_type": "display_data"
    }
   ],
   "source": [
    "plt.hist([1, 5, 5, 7, 7, 7, 9])\n",
    "plt.show()"
   ]
  },
  {
   "cell_type": "markdown",
   "metadata": {},
   "source": [
    "## Code of combining NLP data extraction with plotting:"
   ]
  },
  {
   "cell_type": "code",
   "execution_count": 42,
   "metadata": {
    "ExecuteTime": {
     "end_time": "2021-01-01T22:56:16.057706Z",
     "start_time": "2021-01-01T22:56:15.731576Z"
    }
   },
   "outputs": [
    {
     "data": {
      "text/plain": [
       "(array([2., 0., 1., 0., 0., 0., 3., 0., 0., 1.]),\n",
       " array([1. , 1.5, 2. , 2.5, 3. , 3.5, 4. , 4.5, 5. , 5.5, 6. ]),\n",
       " <BarContainer object of 10 artists>)"
      ]
     },
     "execution_count": 42,
     "metadata": {},
     "output_type": "execute_result"
    },
    {
     "data": {
      "image/png": "[encoded data removed]",
      "text/plain": [
       "<Figure size 432x288 with 1 Axes>"
      ]
     },
     "metadata": {
      "needs_background": "light"
     },
     "output_type": "display_data"
    }
   ],
   "source": [
    "from matplotlib import pyplot as plt\n",
    "from nltk.tokenize import word_tokenize\n",
    "\n",
    "words = word_tokenize(\"This is a pretty cool tool!\")\n",
    "word_lengths = [len(w) for w in words]\n",
    "plt.hist(word_lengths)"
   ]
  },
  {
   "cell_type": "code",
   "execution_count": 43,
   "metadata": {
    "ExecuteTime": {
     "end_time": "2021-01-01T22:56:16.403550Z",
     "start_time": "2021-01-01T22:56:16.090391Z"
    }
   },
   "outputs": [
    {
     "data": {
      "image/png": "[encoded data removed]",
      "text/plain": [
       "<Figure size 432x288 with 1 Axes>"
      ]
     },
     "metadata": {
      "needs_background": "light"
     },
     "output_type": "display_data"
    }
   ],
   "source": [
    "plt.hist(word_lengths)\n",
    "plt.show()"
   ]
  },
  {
   "cell_type": "markdown",
   "metadata": {},
   "source": [
    "## Practice exercises for charting word length with NLTK:\n",
    "\n",
    "$\\blacktriangleright$ **Package pre-loading:**"
   ]
  },
  {
   "cell_type": "code",
   "execution_count": 44,
   "metadata": {
    "ExecuteTime": {
     "end_time": "2021-01-01T22:56:16.418487Z",
     "start_time": "2021-01-01T22:56:16.413691Z"
    }
   },
   "outputs": [],
   "source": [
    "import re\n",
    "from matplotlib import pyplot as plt\n",
    "from nltk.tokenize import regexp_tokenize"
   ]
  },
  {
   "cell_type": "markdown",
   "metadata": {},
   "source": [
    "$\\blacktriangleright$ **Data pre-loading:**"
   ]
  },
  {
   "cell_type": "code",
   "execution_count": 45,
   "metadata": {
    "ExecuteTime": {
     "end_time": "2021-01-01T22:56:16.455461Z",
     "start_time": "2021-01-01T22:56:16.447596Z"
    }
   },
   "outputs": [],
   "source": [
    "holy_grail = open(\"ref2. Monty Python and the Holy Grail.txt\").read()"
   ]
  },
  {
   "cell_type": "markdown",
   "metadata": {},
   "source": [
    "$\\blacktriangleright$ **Charting practice:**"
   ]
  },
  {
   "cell_type": "code",
   "execution_count": 46,
   "metadata": {
    "ExecuteTime": {
     "end_time": "2021-01-01T22:56:17.037933Z",
     "start_time": "2021-01-01T22:56:16.694186Z"
    }
   },
   "outputs": [
    {
     "data": {
      "image/png": "[encoded data removed]",
      "text/plain": [
       "<Figure size 432x288 with 1 Axes>"
      ]
     },
     "metadata": {
      "needs_background": "light"
     },
     "output_type": "display_data"
    }
   ],
   "source": [
    "# Split the script into lines: lines\n",
    "lines = holy_grail.split('\\n')\n",
    "\n",
    "# Replace all script lines for speaker\n",
    "pattern = \"[A-Z]{2,}(\\s)?(#\\d)?([A-Z]{2,})?:\"\n",
    "lines = [re.sub(pattern, '', l) for l in lines]\n",
    "\n",
    "# Tokenize each line: tokenized_lines\n",
    "tokenized_lines = [regexp_tokenize(s, '\\w+') for s in lines]\n",
    "\n",
    "# Make a frequency list of lengths: line_num_words\n",
    "line_num_words = [len(t_line) for t_line in tokenized_lines]\n",
    "\n",
    "# Plot a histogram of the line lengths\n",
    "plt.hist(line_num_words)\n",
    "\n",
    "# Show the plot\n",
    "plt.show()"
   ]
  }
 ],
 "metadata": {
  "kernelspec": {
   "display_name": "Python 3",
   "language": "python",
   "name": "python3"
  },
  "language_info": {
   "codemirror_mode": {
    "name": "ipython",
    "version": 3
   },
   "file_extension": ".py",
   "mimetype": "text/x-python",
   "name": "python",
   "nbconvert_exporter": "python",
   "pygments_lexer": "ipython3",
   "version": "3.7.6"
  },
  "latex_envs": {
   "LaTeX_envs_menu_present": true,
   "autoclose": true,
   "autocomplete": true,
   "bibliofile": "biblio.bib",
   "cite_by": "apalike",
   "current_citInitial": 1,
   "eqLabelWithNumbers": true,
   "eqNumInitial": 1,
   "hotkeys": {
    "equation": "Ctrl-E",
    "itemize": "Ctrl-I"
   },
   "labels_anchors": false,
   "latex_user_defs": false,
   "report_style_numbering": true,
   "user_envs_cfg": true
  },
  "nbTranslate": {
   "displayLangs": [
    "*"
   ],
   "hotkey": "alt-t",
   "langInMainMenu": true,
   "sourceLang": "en",
   "targetLang": "fr",
   "useGoogleTranslate": true
  },
  "toc": {
   "base_numbering": 1,
   "nav_menu": {},
   "number_sections": true,
   "sideBar": true,
   "skip_h1_title": false,
   "title_cell": "Table of Contents",
   "title_sidebar": "Contents",
   "toc_cell": false,
   "toc_position": {
    "height": "calc(100% - 180px)",
    "left": "10px",
    "top": "150px",
    "width": "288px"
   },
   "toc_section_display": true,
   "toc_window_display": true
  },
  "varInspector": {
   "cols": {
    "lenName": 16,
    "lenType": 16,
    "lenVar": 40
   },
   "kernels_config": {
    "python": {
     "delete_cmd_postfix": "",
     "delete_cmd_prefix": "del ",
     "library": "var_list.py",
     "varRefreshCmd": "print(var_dic_list())"
    },
    "r": {
     "delete_cmd_postfix": ") ",
     "delete_cmd_prefix": "rm(",
     "library": "var_list.r",
     "varRefreshCmd": "cat(var_dic_list()) "
    }
   },
   "types_to_exclude": [
    "module",
    "function",
    "builtin_function_or_method",
    "instance",
    "_Feature"
   ],
   "window_display": true
  }
 },
 "nbformat": 4,
 "nbformat_minor": 4
}
