{
 "cells": [
  {
   "cell_type": "markdown",
   "metadata": {
    "ExecuteTime": {
     "end_time": "2020-07-24T11:20:21.989524Z",
     "start_time": "2020-07-24T11:20:12.960881Z"
    }
   },
   "source": [
    "```\n",
    "#############################################\n",
    "##                                         ##\n",
    "##  Natural Language Processing in Python  ##\n",
    "##                                         ##\n",
    "#############################################\n",
    "\n",
    "§1 Introduction to Natural Language Processing in Python\n",
    "\n",
    "§1.1 Regular expressions & word tokenization\n",
    "```"
   ]
  },
  {
   "cell_type": "markdown",
   "metadata": {},
   "source": [
    "# Advanced tokenization with NLTK and regex"
   ]
  },
  {
   "cell_type": "markdown",
   "metadata": {},
   "source": [
    "## What is tokenization?\n",
    "\n",
    "* It turns a string or document into tokens (smaller chunks).\n",
    "\n",
    "* It's one step in preparing a text for NLP.\n",
    "\n",
    "* It has many different theories and rules.\n",
    "\n",
    "* Users can create their own rules using regular expressions.\n",
    "\n",
    "* There are some examples:\n",
    "\n",
    "\t* *breaking out words or sentences*\n",
    "    \n",
    "\t* *separating punctuation*\n",
    "    \n",
    "\t* *separating all hashtags in a tweet*"
   ]
  },
  {
   "cell_type": "markdown",
   "metadata": {},
   "source": [
    "## What is the `NLTK` library?\n",
    "\n",
    "* `NLTK`: Natural Language Toolkit"
   ]
  },
  {
   "cell_type": "markdown",
   "metadata": {},
   "source": [
    "## Code of the `NLTK` library:"
   ]
  },
  {
   "cell_type": "code",
   "execution_count": 1,
   "metadata": {
    "ExecuteTime": {
     "end_time": "2020-12-22T20:18:43.442529Z",
     "start_time": "2020-12-22T20:18:40.374163Z"
    }
   },
   "outputs": [
    {
     "data": {
      "text/plain": [
       "['Hi', 'there', '!']"
      ]
     },
     "execution_count": 1,
     "metadata": {},
     "output_type": "execute_result"
    }
   ],
   "source": [
    "from nltk.tokenize import word_tokenize\n",
    "\n",
    "word_tokenize(\"Hi there!\")"
   ]
  },
  {
   "cell_type": "markdown",
   "metadata": {
    "ExecuteTime": {
     "end_time": "2020-12-20T20:08:55.570909Z",
     "start_time": "2020-12-20T20:08:55.565185Z"
    }
   },
   "source": [
    "## Why tokenize?\n",
    "\n",
    "* Easier to map part of speech.\n",
    "\n",
    "* To match common words.\n",
    "\n",
    "* To remove unwanted tokens.\n",
    "\n",
    "* E.g., \n",
    "\n",
    "    ```\n",
    "    >>> word_tokenize(\"I don't like Sam's shoes.\")\n",
    "    ['I', 'do', \"n't\", 'like', 'Sam', \"'s\", 'shoes', '.']\n",
    "    ```"
   ]
  },
  {
   "cell_type": "markdown",
   "metadata": {},
   "source": [
    "## What are the other `NLTK` tokenizers?\n",
    "\n",
    "* `sent_tokenize`: tokenize a document into sentences.\n",
    "\n",
    "* `regexp_tokenize`: tokenize a string or document based on a regular expression pattern.\n",
    "\n",
    "* `TweetTokenizer`: special class just for tweet tokenization, allowing separate hashtags, mentions, and lots of exclamation points, such as '!!!'."
   ]
  },
  {
   "cell_type": "markdown",
   "metadata": {},
   "source": [
    "## Code of RegEx practice (the difference between `re.search()` and `re.match()`):"
   ]
  },
  {
   "cell_type": "code",
   "execution_count": 2,
   "metadata": {
    "ExecuteTime": {
     "end_time": "2020-12-22T20:18:43.452289Z",
     "start_time": "2020-12-22T20:18:43.445729Z"
    }
   },
   "outputs": [
    {
     "data": {
      "text/plain": [
       "<re.Match object; span=(0, 3), match='abc'>"
      ]
     },
     "execution_count": 2,
     "metadata": {},
     "output_type": "execute_result"
    }
   ],
   "source": [
    "import re\n",
    "\n",
    "re.match('abc', 'abcde')"
   ]
  },
  {
   "cell_type": "code",
   "execution_count": 3,
   "metadata": {
    "ExecuteTime": {
     "end_time": "2020-12-22T20:18:43.481917Z",
     "start_time": "2020-12-22T20:18:43.468711Z"
    }
   },
   "outputs": [
    {
     "data": {
      "text/plain": [
       "<re.Match object; span=(0, 3), match='abc'>"
      ]
     },
     "execution_count": 3,
     "metadata": {},
     "output_type": "execute_result"
    }
   ],
   "source": [
    "re.search('abc', 'abcde')"
   ]
  },
  {
   "cell_type": "code",
   "execution_count": 4,
   "metadata": {
    "ExecuteTime": {
     "end_time": "2020-12-22T20:18:43.510350Z",
     "start_time": "2020-12-22T20:18:43.501274Z"
    }
   },
   "outputs": [],
   "source": [
    "re.match('cd', 'abcde')"
   ]
  },
  {
   "cell_type": "code",
   "execution_count": 5,
   "metadata": {
    "ExecuteTime": {
     "end_time": "2020-12-22T20:18:43.526513Z",
     "start_time": "2020-12-22T20:18:43.519706Z"
    }
   },
   "outputs": [
    {
     "data": {
      "text/plain": [
       "<re.Match object; span=(2, 4), match='cd'>"
      ]
     },
     "execution_count": 5,
     "metadata": {},
     "output_type": "execute_result"
    }
   ],
   "source": [
    "re.search('cd', 'abcde')"
   ]
  },
  {
   "cell_type": "markdown",
   "metadata": {},
   "source": [
    "## Practice exercises for introduction to tokenization:\n",
    "\n",
    "$\\blacktriangleright$ **Data pre-loading:**"
   ]
  },
  {
   "cell_type": "code",
   "execution_count": 6,
   "metadata": {
    "ExecuteTime": {
     "end_time": "2020-12-22T20:18:43.548666Z",
     "start_time": "2020-12-22T20:18:43.538372Z"
    }
   },
   "outputs": [],
   "source": [
    "scene_one = open(\"ref2. Monty Python and the Holy Grail.txt\").read()"
   ]
  },
  {
   "cell_type": "markdown",
   "metadata": {
    "ExecuteTime": {
     "end_time": "2020-12-19T22:02:33.692343Z",
     "start_time": "2020-12-19T22:02:33.687220Z"
    }
   },
   "source": [
    "$\\blacktriangleright$ **`NLTK` word tokenization with practice:**"
   ]
  },
  {
   "cell_type": "code",
   "execution_count": 7,
   "metadata": {
    "ExecuteTime": {
     "end_time": "2020-12-22T20:18:43.825104Z",
     "start_time": "2020-12-22T20:18:43.559395Z"
    }
   },
   "outputs": [
    {
     "name": "stdout",
     "output_type": "stream",
     "text": [
      "{'fly', 'Sorry', 'Have', 'opera', 'ratified', 'pay', 'Walk', 'its', 'Bravely', 'everyone', 'badger', 'should', 'Uugh', 'Knights', 'two-thirds', 'approaching', 'Torment', 'sloths', 'supposed', 'an', 'taunting', 'packing', 'gurgle', 'Heh', 'bring', 'met', 'Lie', 'strategy', 'assault', 'single-handed', 'class', 'nineteen-and-a-half', 'punishment', 'RIGHT', 'Seek', 'Consult', 'although', 'pray', 'dorsal', 'Schools', 'was', 'Until', 'lived', 'woman', 'Look', 'Very', 'The', 'b', 'shrubber', 'thing', 'enough', 'Excalibur', 'empty', 'rodent', 'ni', 'science', 'sons', 'tail', 'temptress', '15', 'not', 'at', 'so-called', 'Forward', 'clap', 'banana-shaped', 'tree', 'stab', 'arms', 'Yeaaah', 'Recently', 'Guy', 'Pin', 'warm', 'make', 'earth', 'WINSTON', 'Aah', 'BRIDGEKEEPER', 'any', 'water', 'Away', 'remain', 'wide', 'plain', 'blessing', 'Dingo', 'son', 'disheartened', 'twenty', 'uh', 'carve', 'seldom', 'shut', 'bottoms', 'imprisoned', 'ZOOT', 'How', 'filth', 'suddenly', 'Concorde', 'um', 'hast', 'fire', 'Gallahad', 'baaaa', 'bois', 'Iiiives', 'Aauuuves', 'unhealthy', 'nearer', 'eyes', 'of', 'FATHER', 'taunt', 'cop', 'slash', 'France', 'object', \"'cause\", 'clop', \"'d\", 'many', \"'ni\", 'Firstly', 'Yes', 'gallantly', 'bells', 'hand', 'glass', 'most', 'worse', 'taking', 'emperor', 'Ni', 'mistake', 'twenty-four', 'Bravest', 'stress', 'Bring', '7', 'cross', 'foul', 'progress', 'Chaste', 'carving', 'indefatigable', 'give', 'say', 'chosen', 'appease', 'Thpppt', 'look', 'week', 'welcome', 'heads', 'force', 'distress', 'door-opening', 'Nay', 'illustrious', 'walking', 'biggest', 'sad', 'sort', 'spirit', 'death', 'Thursday', 'supreme', 'strangers', 'magne', 'Assyria', 'worked', 'recover', 'Steady', 'sex', 'raised', 'Auuuuuuuugh', 'mayest', 'eis', \"d'you\", 'Skip', 'pass', 'dappy', 'Stop', 'Speak', 'headoff', 'baby', 'Four', 'word', 'everything', 'lot', 'penalty', 'are', 'forward', 'knows', 'thine', 'clank', 'wet', 'brush', 'general', 'Churches', 'bird', 'twang', 'formed', 'snore', 'that', 'Said', 'sneaking', 'Pure', 'Y', 'Please', 'become', 'Eee', 'done', 'ignore', 'little', 'somebody', 'never', 'Herbert', 'these', 'point', 'awaits', 'easy', 'lovely', 'beat', 'Surely', 'scared', 'might', 'MAYNARD', 'Aggh', 'yeah', 'shrubbery', 'acting', 'language', 'Like', 'allowed', 'signifying', 'looney', 'them', 'lambs', 'repressing', 'England', 'easily', 'Behold', 'stretched', 'near', 'He', 'Build', 'two-level', 'bravely', 'Aaaaugh', 'W', 'horrendous', 'shall', 'else', \"'round\", 'gon', 'chickened', 'time-a', 'nearly', 'creep', 'cartoon', 'Why', 'needs', 'walk', 'forth', 'No', 'shrubberies', 'slightly', 'frontal', 'islands', 'Therefore', 'when', 'Arimathea', 'is', 'derives', 'after', '18', 'such', 'herring', 'bleeder', 'how', 'run', 'man', 'armor', 'chops', 'strand', 'return', 'less', 'least', 'uuup', 'Ha', 'servant', 'Yup', 'trade', 'Ector', 'Antioch', 'hat', 'call', 'closest', 'diaphragm', 'dad', 'food', 'given', 'string', 'had', 'Aramaic', 'hall', 'keen', 'only', 'mercy', 'fruit', 'am', 'Together', 'footwork', 'Far', 'gave', 'scenes', 'FRENCH', 'upon', 'Hiyah', 'Grail', 'formidable', 'clllank', 'dress', 'mumble', 'GUARDS', 'p', 'high', 'present', 'Aaaaaah', 'What', 'plover', 'automatically', 'yourself', 'ours', 'by', 'either', 'dull', 'True', 'sign', 'daughter', 'stupid', 'cover', 'Camelot', 'Robinson', 'their', 'cereals', 'BEDEVERE', 'largest', 'commune', 'Saint', 'Yapping', 'Joseph', 'Thank', 'Sir', 'warning', 'Farewell', 'here', 'differences', 'Really', 'Five', 'Swamp', 'owns', 'buy', 'biters', 'MAN', 'Launcelot', 'i', 'ROBIN', 'house', 'fine', 'makes', 'donkey-bottom', 'oral', 'mother', 'resumes', 'awhile', 'forget', 'answer', 'nightfall', 'nasty', 'Hill', 'LUCKY', 'Lady', 'quests', 'silence', 'Nine', 'put', \"'is\", 'Angnor', 'legendary', '4', 'repressed', 'NI', 'Erm', ':', 'government', 'Quoi', 'OLD', 'PATSY', 'ere', 'worthy', 'getting', 'OTHER', 'Right', 'Rather', 'CUSTOMER', 'sure', 'wise', 'show', 'Ives', 'defeat', 'Yeaah', 'gained', 'regulations', 'sent', 'Which', 'vache', 'idiom', 'best', 'Bread', 'basic', 'Keep', 'King', 'awfully', 'Iesu', 'conclusions', 'hang', 'aquatic', 'soiled', 'Divine', 'OF', 'averting', 'electric', 'pounds', 'because', 'employed', 'swamp', 'live', 'throughout', 'pussy', 'merger', 'k-niggets', 'wounding', 'Riiight', 'stayed', 'to', 'breath', 'smack', 'anywhere', '10', 'snows', 'called', 'peasant', 'until', 'aloft', 'known', 'spanking', 'Quite', 'ill.', 'SUN', 'mac', 'ride', 'Ridden', 'names', 'drilllll', 'Go', 'words', 'bastard', 'your', 'smashed', 'bunny', 'come', 'Do', 'Oooh', 'peril', 'icy', 'Tell', 'guiding', \"'Til\", 'zone', 'VOICE', 'ungallant', 'strewn', 'first', 'yellow', 'we', 'himself', 'So', 'meeting', 'worst', 'want', 'hiyaah', 'PRISONER', 'Bridge', 'exciting', 'back', 'dragging', \"'Ni\", 'Brother', 'new', \"'forgive\", 'lives', 'further', 'left', 'clack', 'could', 'two', 'lunged', 'problem', 'Oui', 'WIFE', 'Knight', 'or', 'sink', 'discovered', 'jump', \"'ve\", 'harmless', 'medieval', 'Piglet', 'safety', 'score', 'making', 'beyond', 'ARTHUR', 'Dramatically', 'Leaving', 'trusty', 'etc', 'business', 'identical', 'thump', 'An', 'winter', 'VILLAGER', 'took', 'Put', 'PERSON', 'excuse', 'real', 'Open', 'shelter', 'became', 'Hmm', 'court', 'shimmering', 'examine', 'night', 'unarmed', 'gravy', 'gouged', 'Looks', 'dear', 'liege', 'task', 'Himself', 'THE', 'Bristol', 'sequin', 'sharp', 'being', 'he', 'us', 'Grenade', 'her', 'expect', 'medical', 'impersonate', 'CHARACTER', 'got', 'verses', 'Aaaah', 'dub', 'a', 'door', 'minutes', 'training', 'nice-a', 'decision', 'whoever', 'guest', 'Cider', 'speak', 'passing', 'almost', 'For', 'bum', 'later', \"'em\", 'fooling', 'lying', 'Caerbannog', 'down', 'foot', 'angels', 'splash', 'horse', 'woosh', 'refuse', 'suffice', 'no', 'alight', 'ANIMATOR', 'personally', 'fallen', 'She', 'underwear', 'can', 'Is', 'wicked', 'O', 'beside', 'roar', 'request', 'oooh', 'spake', 'ponds', 'crone', 'Get', '12', 'Most', 'See', 'foe', 'bravest', 'bathing', 'which', 'seem', 'Bad', 'same', 'Hang', 'elbows', 'raped', 'smelt', 'afraid', 'thonk', 'vary', 'wan', 'moment', 'suggesting', 'GOD', 'MIDDLE', 'Um', \"'uuggggggh\", 'on', 'HEADS', 'legs', 'squeak', 'anchovies', 'Other', 'from', 'carved', 'something', 'confuse', 'Gable', 'wings', 'clue', 'Could', 'keep', 'indeed', 'scribble', 'Hurry', 'sing', 'Make', 'second', 'longer', 'separate', 'exploiting', 'please', 'zoosh', 'Eh', 'Uh', 'avenged', 'spooky', 'end', 'Idiom', 'giggle', 'bowels', 'spoken', 'bang', 'off', 'dark', 'pen', 'BORS', 'then', 'kicked', 'eight', 'quiet', 'Hallo', 'Meanwhile', 'daft', 'folk', 'assist', 'killer', 'around', 'evil', 'Victory', 'apart', 'up', 'forty-three', 'anything', 'bonk', 'approacheth', 'Lake', 'try', 'Splendid', 'Peng', 'Action', 'bother', 'round', 'flight', 'PRINCE', 'cough', 'certainly', 'tinder', 'they', 'leads', 'running', 'leaps', 'some', 'necessary', 'noise', 'Winston', 'frighten', 'wave', 'straight', 'anarcho-syndicalist', 'king', 'sir', 'writing', 'snap', 'Maynard', 'aaugh', 'basis', 'Now', 'heeh', '14', 'grail', 'illegitimate-faced', 'rest', 'depressing', 'dine', 'bride', 'away', 'classes', 'aptly', 'Run', 'Over', 'er', 'Jesus', 'his', 'aside', 'Huy', 'surprise', 'whinny', 'na', 'continue', 'Twenty-one', 'art', 'stay', 'SHRUBBER', 'act', 'pweeng', 'eat', 'Blue', 'stop', 'soon', 'eisrequiem', 'accent', 'held', 'Zoot', 'has', 'hidden', 'u', 'looking', 'van', 'than', 'large', 'buggering', 'TIM', 'together', \"'Here\", 'anyway', 'lapin', 'Cornwall', 'feast', 'found', 'Ulk', 'cadeau', 'proceed', 'sniff', 'manner', 'excepting', 'talk', 'beacon', 'hmm', 'table', 'really', 'Britain', 'varletesses', 'Aagh', \"'Erbert\", '(', 'Explain', 'Shrubber', '9', 'Dappy', 'DEAD', 'Your', 'Haw', 'weather', 'today', 'question', 'through', 'Hand', 'people', 'explain', 'Spring', 'retreat', '?', 'dangerous', 'set', 'singing', 'ai', 'duck', 'Not-appearing-in-this-film', \"'Course\", 'certain', 'hamster', 'know', 'effect', 'living', 'sank', \"'m\", 'Alice', 'fight', 'pansy', 'listen', 'need', 'ruffians', 'ugly', 'doubt', 'father', 'OFFICER', 'system', 'wound', 'distributing', 'case', 'KNIGHTS', 'Silence', 'Of', 'suit', 'Loimbard', 'Did', 'spank', 'war', 'Be', 'presence', 'capital', 'fought', 'Lead', 'thou', 'seen', 'affairs', 'hee', 'tops', 'nick', 'Welcome', 'bint', 'count', 'By', 'fart', 'wherein', 'fold', 'pig', 'temptation', 'bless', 'grips', 'vests', 'but', 'cart', 'aaaaaah', 'rocks', 'Thpppppt', 'heart', 'thwonk', 'blanket', 'Between', 'saw', 'Man', '5', 'note', 'totally', 'kings', 'Ay', '21', \"'s\", 'tear', 'rrrr', 'witness', 'Hooray', 'individually', 'crying', 'one', 'Neee-wom', 'Ayy', 'Beast', 'Mercea', 'imperialist', 'named', 'sheep', 'quite', 'having', 'yes', 'bed', 'Try', 'agree', 'Silly', 'tiny', 'each', 'marry', 'eccentric', 'Augh', 'newt', 'Hya', 'do', \"'old\", 'Dennis', 'good', 'Badon', 'swallows', 'ceremony', ']', 'used', 'lobbest', 'ooh', 'Great', 'cry', 'worried', 'NARRATOR', 'dunno', 'Even', 'young', 'HISTORIAN', ')', 'Greetings', 'guided', 'late', 'feathers', 'SOLDIER', 'heroic', 'Fine', 'north-east', '6', 'lord', 'convinced', 'thy', 'boom', 'sight', 'Uuh', \"'shrubberies\", 'Whoa', 'Found', 'swallow', 'donaeis', 'brought', 'far', 'worry', 'ha', 'frozen', \"'anging\", 'reached', 'Would', 'joyful', 'entrance', 'nervous', 'B', 'what', 'ye', 'color', 'settles', 'Good', 'CART-MASTER', 'covered', 'learning', 'alive', 'may', 'give-away', 'humble', 'fifty', 'There', 'Aauuggghhh', 'liver', 'RANDOM', '[', 'domine', 'dogma', 'Bedwere', \"'til\", 'outdated', 'period', 'mile', 'danger', 'witches', 'society', 'path', 'into', 'forest', 'quest', 'were', 'ridden', 'must', 'perilous', 'Christ', 'Umhm', 'PARTY', 'felt', 'so', 'higher', 'Fetchez', 'counting', 'They', 'ho', 'chickening', 'asking', 'she', 'Battle', 'keeper', 'behind', 'purely', 'returns', 'alarm', 'yelling', 'types-a', 'north', 'sire', \"'To\", 'built', 'follow', 'bottom', \"'Ecky-ecky-ecky-ecky-pikang-zoop-boing-goodem-zoo-owli-zhiv\", 'bad', 'Dis-mount', 'GUARD', 'Here', 'direction', 'Bedevere', \"'\", 'sample', 'knock', 'swords', 'band', 'velocity', 'the-not-quite-so-brave-as-Sir-Lancelot', 'kill', 'carry', 'huge', 'radio', 'smashing', 'witch', 'enemies', '13', 'wedlock', 'scene', 'dancing', 'Robin', 'another', 'ptoo', 'Father', \"n't\", 'wield', 'also', 'pestilence', 'changed', 'goes', 'scarper', 'twin', 'stone', 'triumphs', 'tale', 'knights', 'minute', 'Death', 'holy', 'e', 'wo', 'Table', 'duty', 'Once', 'INSPECTOR', 'Quiet', 'Gawain', 'snuff', 'Midget', 'executive', 'body', 'orangutans', 'and', 'questions', 'fatal', 'dynamite', 'Hah', 'finds', 'groveling', 'bangin', 'l', 'weapon', 'Charge', 'where', 'burned', 'And', 'MINSTREL', 'sawwwww', 'intermission', 'still', 'special', 'bid', 'SIR', 'seek', 'Old', 'farcical', 'Practice', 'awaaay', 'maybe', 'cope', 'Rheged', \"C'est\", 'helpful', 'CRONE', 'cruel', 'ways', 'use', 'minstrels', 'life', 'ounce', 'side', 'economic', 'Our', 'working', 'MIDGET', 'turns', 'join', 'wounded', 'feel', 'Mud', 'limbs', 'move', 'right', 'Come', 'throwing', 'WITCH', 'buggered', 'legally', 'SCENE', 'GUEST', 'trumpets', 'starling', 'Prince', 'Cherries', 'lobbed', 'burst', 'sponge', 'uuggggggh', 'kills', 'Ho', 'arrows', 'Who', 'rather', 'grenade', 'would', 'Thppppt', 'Picture', 'Throw', 'push', 'hopeless', 'havin', 'mandate', 'Providence', '23', 'lads', 'non-migratory', 'Patsy', 'wood', 'doctors', 'Excuse', 'go', 'ask', 'private', 'internal', 'sorry', 'face', 'Thppt', 'liar', 'ehh', 'more', 'Enchanter', 'vital', 'Aaah', 'N', '2', 'guarded', 'expensive', 'Exactly', 'grail-shaped', 'guards', 'whether', 'Britons', 'tart', 'mangled', 'Hold', 'resting', 'eet', 'Anybody', 'south', 'nobody', 'At', 'model', 'Follow', 'meant', 'spam', 'oh', 'better', 'bad-tempered', 'One', 'la', 'SECOND', 'chanting', 'telling', 'split', 'said', 'testicles', 'sell', 'tragic', 'hoo', 'flint', 'stew', 'particularly', 'unclog', 'gay', 'hell', 'leg', 'preserving', 'I', 'test', 'brain', 'ones', 'fled', 'Doctor', 'quack', 'runes', 'Uhh', 'whose', 'head', 'false', 'accomplished', 'reads', 'Off', 'afoot', 'looks', 'Ooh', 'Book', 'n', 'bridge', 'die', 'Those', \"'Ere\", 'summon', 'depart', 'Pie', 'headed', 'seems', 'pull', 'mud', 'main', 'twong', 'rock', 'stand', 'says', 'immediately', 'That', 'feint', 'broken', 'knees-bent', 'adversary', 'asks', 'routines', 'understand', 'whop', 'shit', 'mightiest', 'As', 'much', 'crossed', 'great', 'dressing', 'weighs', 'Tale', 'enter', 'Then', 'BROTHER', 'brunettes', '16', 'GREEN', 'mad', 'tired', 'Anthrax', 'bits', 'clad', 'mean', 'along', 'bond', 'burn', 'Uther', 'profane', 'sigh', 'WOMAN', 'master', 'quarrel', 'Order', 'Mind', 'fourth', 'CHARACTERS', 'wayy', 'Oooo', 'dramatic', 'fell', 'ready', 'be', 'chorus', 'hello', 'committed', 'streak', 'Thee', 'ladies', 'sworn', 'shivering', 'been', 'Where', 'Chicken', 'Anyway', 'union', 'saying', 'All', 'does', 'Clear', 'Aauuugh', 'happy', 'dead', 'Autumn', 'auuuuuuuugh', 'answers', 'feet', 'mooo', 'grin', 'CROWD', 'Hiyya', 'town', 'bi-weekly', 'halves', 'Shrubberies', 'Lancelot', 'freedom', 'thanks', 'majority', 'Lord', 'third', 'lair', 'yours', 'reasonable', 'pointy', 'Running', 'Bloody', 'Pull', 'Ah', 'sonny', 'LAUNCELOT', 'carrying', 'kneeling', 'suffered', 'Ages', 'breakfast', 'autonomous', 'HEAD', 'thirty-seven', 'ran', 'bows', 'sovereign', 'Actually', 'wonderful', 'Roger', 'Bors', 'jokes', 'LOVELY', 'against', ';', '19', 'His', 'This', 'simple', 'occasion', 'Let', 'outwit', 'LEFT', 'enchanter', 'CAMERAMAN', 'Hic', 'those', 'leap', 'cave', 'every', 'ham', 'coconuts', 'To', 'siren', 'Apples', 'flesh', 'pause', 'Use', 'collective', 'sweet', 'gra', 'fortune', 'English', 'luck', 'let', 'Un', 'Huyah', 'HERBERT', 'More', 'always', 'Stand', 'wiper', 'impeccable', 'When', 'turned', 'if', 'curtains', 'Hiyaah', 'bringing', 'Heee', 'Everything', 'Psalms', 'warned', 'mooooooo', 'bit', '11', 'climes', 'name', 'Thou', 'Guards', 'de', 'Court', 'hundred-and-fifty', 'un', 'Stay', 'scots', 'tit', 'kingdom', 'somewhere', 'DENNIS', 'full', 'wishes', 'Chickennn', 'work', 'courage', 'get', 'influential', 'guard', 'strange', 'out', 'coming', 'biscuits', 'vote', 'dungeon', 'scott', 'nose', 'valiant', 'seemed', 'Back', 'Thsss', 'Amen', 'We', 'Quickly', 'auntie', 'wart', 'build', 'Monsieur', \"'re\", 'beautiful', 'GUESTS', 'charged', 'bold', 'behaviour', 'STUNNER', \"'aaaah\", 'other', 'tough', 'problems', 'busy', 'completely', 'threw', 'outside', 'it', 'started', 'brave', 'GALAHAD', 'help', 'way', 'lies', 'officer', 'handle', 'Woa', 'French', 'change', 'Ow', 'all', 's', 'Halt', 'behold', 'told', 'went', 'guests', 'favorite', 'cast', 'interested', 'earthquakes', 'will', 'With', 'sixteen', 'trouble', 'bridgekeeper', 'accompanied', 'remember', 'removed', 'Well', 'Defeat', 'marrying', 'invincible', 'beds', 'window-dresser', 'bladders', 'dance', 'ju', 'Hey', 'scales', 'God', 'him', 'chu', 'knocked', 'vouchsafed', 'did', 'with', 'j', 'Am', 'animator', 'suppose', 'creature', 'conclusion', 'Mother', 'mangy', 'You', 'BRIDE', 'bet', 'lonely', 'maintain', 'year', 'inferior', 'why', 'pond', 'tropical', 'Three', 'happens', 'entered', 'k-nnniggets', 'protect', 'elderberries', 'eh', 'bloody', 'KING', 'Forgive', 'heh', 'Beyond', 'successful', 'self-perpetuating', 'chastity', 'lucky', 'binding', 'w', 'perpetuates', 'Say', 'animal', 'Tall', 'ratios', 'wooden', 'k-nnnnniggets', 'Unfortunately', 'mate', '...', 'Too', 'design', 'arm', 'unsingable', 'watch', 'parts', 'own', 'bridges', 'BLACK', 'carried', 'heard', 'If', 'sacrifice', 'rich', 'Supreme', 'Honestly', 'course', 'Agh', 'hospitality', 'Mmm', 'unplugged', 'history', 'terribly', 'too', 'died', 'sense', 'Aaauugh', 'wind', 'very', 'proved', 'ENCHANTER', 'line', 'Bon', 'terrible', 'police', 'clunk', 'VILLAGERS', 'rescue', 'oo', 'command', 'Saxons', 'AMAZING', 'this', 'last', '3', 'traveller', 'CRASH', '!', 'boil', 'valor', 'under', 'place', \"'Man\", 'long', 'in', 'castle', 'cost', 'autocracy', 'killed', 'Cut', 'PRINCESS', 'example', 'mortally', 'passed', 'required', 'four', 'as', 'tonight', 'Nu', 'woods', 'fwump', 'bitching', '17', 'Bones', 'Nothing', 'ferocity', 'sun', 'chance', 'relax', 'Armaments', 'high-pitched', 'Hee', 'kind', 'Not', 'purpose', 'wait', 'PIGLET', 'Chapter', 'made', 'number', 'Packing', 'discovers', 'KNIGHT', 'castanets', 'women', 'ALL', 'Aaaaaaaaah', 'using', 'Or', 'have', 'attend', 'tiny-brained', 'country', 'Olfin', 'Waa', 'nine', 'out-clever', 'actually', 'Are', 'Lucky', 'rewr', 'lie', 'Eternal', 'workers', 'our', 'miserable', 'Oh', 'my', 'valleys', 'requiem', 'tracts', 'argue', 'But', 'clang', 'lose', 'scholar', 'fair', 'land', 'miss', 'favor', 'bite', 'between', 'Attila', 'hospital', 'Since', 'visually', 'soft', 'Hello', 'Ohh', 'Frank', 'DINGO', 'Aaaugh', 'Ewing', 'small', 'demand', 'CARTOON', '..', 'about', 'five', 'Allo', 'commands', 'supports', \"'Dennis\", 'Huh', 'riding', 'whispering', 'pulp', 'Quick', 'voluntarily', 'doors', 'thought', 'stood', 'bugger-folk', 'laurels', 'bones', 'retold', 'Aaauggh', 'now', 'nothing', 'time', 'vicious', 'find', 'Clark', 'like', 'haste', 'delirious', 'masses', 'uhh', 'towards', 'grip', '22', '20', 'gentle', 'the', 'bicker', 'Tim', 'entering', 'wipers', 'silly', 'spanked', 'dictating', 'ethereal', 'going', 'haaa', 'Burn', 'Does', 'bed-wetting', \"'S\", 'taken', 'nice', 'search', 'think', 'howl', 'since', 'suspenseful', 'Ninepence', 'kick', 'Hm', 'Never', 'enjoying', 'advancing', 'scratch', 'carp', 'va.', 'offensive', 'Wayy', 'Shh', 'African', 'logically', \"'ll\", \"'aaggggh\", 'considerable', 'Holy', 'moistened', 'wedding', 'ordinary', 'saved', 'air-speed', 'flights', 'therefore', 'Alright', \"'it\", 'lost', 'haw', \"'Morning\", 'ca', 'hear', 'risk', 'who', 'send', 'glad', 'Will', 'well', 'major', 'reared', 'purest', 'o', 'boys', 'friend', 'May', 'Hoa', 'things', 'order', 'Wood', 'carries', 'times', 'Gorge', 'outdoors', 'compared', 'sod', 'strength', 'Camaaaaaargue', 'blood', 'prevent', 'Wait', 'sometimes', 'unladen', 'undressing', 'comin', 'creeper', 'matter', 'knew', 'None', 'CRAPPER', 'Two', 'ROGER', 'A', 'defeator', 'song', 'dressed', 'hills', 'yel', 'Thy', 'dona', 'inside', \"'Oooooooh\", \"e'er\", 'you', 'rejoicing', 'shows', 'mayhem', 'Ask', 'Perhaps', 'pram', 'take', 'types', 'inherent', 'deeds', 'Peril', 'awaaaaay', 'glory', 'It', 'Supposing', 'over', 'mine', 'armed', 'even', 'Shut', 'grovel', 'persons', 'throat', 'honored', 'Help', 'nibble', 'U', 'eats', 'y', 'CONCORDE', 'Princess', 'bats', 'naughty', 'for', 'travellers', 'cheesy', 'Just', 'Winter', 'violence', 'outrageous', 'treat', 'king-a', 'stuffed', 'Yeah', 'home', 'git', 'Must', 'doing', 'Aaagh', 'nostrils', 'Umm', 'knight', 'rabbit', 'scimitar', 'Nador', 'girl', 'there', 'Hoo', 'fellows', 'c', 'consulted', 'thud', 'My', 'floats', 'oui', 'strongest', 'decided', \"'First\", 'middle', 'lad', 'apologise', 'mashed', 'plan', 'Prepare', 'hacked', 'Dragon', 'music', 'utterly', 'MONKS', 'tap-dancing', 'sister', 'Every', 'Oooohoohohooo', 'mystic', 'Chop', 'blow', 'tea', 'understanding', 'day', 'nor', 'looked', 'finest', 'draw', 'mer', 'someone', 'forced', 'Remove', 'absolutely', 'without', 'me', 'obviously', \"'sorry\", 'pig-dogs', 'power', 'blondes', 'European', 'shalt', 'Almighty', 'tell', 'pound', 'rope', '.', 'Yay', 'social', 'Hyy', 'daring', 'ARMY', 'previous', 'DIRECTOR', 'remembered', 'pissing', 'waste', 'clear', 'drink', 'birds', 'Round', 'g', 'open', 'particular', 'Listen', 'temperate', 'bleed', 'Galahad', 'rode', 'Crapper', 'leave', 'Brave', '8', 'relics', 'Ahh', 'Mine', 'arrange', '1', 'praised', 'centuries', 'Black', '--', 'while', 'tie', 'big', 'Arthur', 'anyone', 'vain', 'In', ',', 'handsome', 'room', 'again', 'see', 'laughing', 'pack', 'bastards', 'tackle', 'chord', 'old', 'Fiends', 'pure', 'migrate', 'whom', 'escape', 'breadth', 'Anarcho-syndicalism', 'kneecaps', 'dirty', 'sword', 'deal', 'next', 'amazes', 'quick', 'creak', '24', 'chest', 'person', 'attack', 'husk', 'samite', 'three', 'warmer', 'Shall', 'crash', 'couple', 'Tower', 'Aaaaaaaah', 'men', 'Castle', 'aunties', 'yet', 'GIRLS', 'dying', 'teeth', 'dare', 'jam', 'scrape', 'properly', 'watery', 'Today', 'once', 'martin', 'setting', 'trough', 'rhymes', 'Iiiiives', 'splat', 'wants', 'bosom', 'thank', 'coconut', 'already', 'able', 'cut', 'On', 'SENTRY', 'dictatorship', 'laden', '#', \"'T\", 'pimples', 'lady', \"'Aauuuuugh\", 'just', 'stops', 'Message', 'horn', 'married', 'wrong', 'performance', 'weight', 'gone', 'length', 'keepers', 'ninepence', 'ever', 'idea', 'Summer', 'Pendragon', 'sacred'}\n"
     ]
    }
   ],
   "source": [
    "# Import necessary modules\n",
    "from nltk.tokenize import sent_tokenize\n",
    "from nltk.tokenize import word_tokenize\n",
    "\n",
    "# Split scene_one into sentences: sentences\n",
    "sentences = sent_tokenize(scene_one)\n",
    "\n",
    "# Use word_tokenize to tokenize the fourth sentence: tokenized_sent\n",
    "tokenized_sent = word_tokenize(sentences[3])\n",
    "\n",
    "# Make a set of unique tokens in the entire scene: unique_tokens\n",
    "unique_tokens = set(word_tokenize(scene_one))\n",
    "\n",
    "# Print the unique tokens result\n",
    "print(unique_tokens)"
   ]
  },
  {
   "cell_type": "markdown",
   "metadata": {},
   "source": [
    "$\\blacktriangleright$ **Package pre-loading:**"
   ]
  },
  {
   "cell_type": "code",
   "execution_count": 8,
   "metadata": {
    "ExecuteTime": {
     "end_time": "2020-12-22T20:18:43.833246Z",
     "start_time": "2020-12-22T20:18:43.830154Z"
    }
   },
   "outputs": [],
   "source": [
    "import re"
   ]
  },
  {
   "cell_type": "markdown",
   "metadata": {},
   "source": [
    "$\\blacktriangleright$ **RegEx (`re.search()`) practice:**"
   ]
  },
  {
   "cell_type": "code",
   "execution_count": 9,
   "metadata": {
    "ExecuteTime": {
     "end_time": "2020-12-22T20:18:43.846952Z",
     "start_time": "2020-12-22T20:18:43.842696Z"
    }
   },
   "outputs": [
    {
     "name": "stdout",
     "output_type": "stream",
     "text": [
      "580 588\n"
     ]
    }
   ],
   "source": [
    "# Search for the first occurrence of \"coconuts\" in scene_one: match\n",
    "match = re.search(\"coconuts\", scene_one)\n",
    "\n",
    "# Print the start and end indexes of match\n",
    "print(match.start(), match.end())"
   ]
  },
  {
   "cell_type": "code",
   "execution_count": 10,
   "metadata": {
    "ExecuteTime": {
     "end_time": "2020-12-22T20:18:43.854850Z",
     "start_time": "2020-12-22T20:18:43.850274Z"
    }
   },
   "outputs": [
    {
     "name": "stdout",
     "output_type": "stream",
     "text": [
      "<re.Match object; span=(9, 32), match='[wind] [clop clop clop]'>\n"
     ]
    }
   ],
   "source": [
    "# Write a regular expression to search for anything in square brackets: pattern1\n",
    "pattern1 = r\"\\[.*\\]\"\n",
    "\n",
    "# Use re.search to find the first text in square brackets\n",
    "print(re.search(pattern1, scene_one))"
   ]
  },
  {
   "cell_type": "code",
   "execution_count": 11,
   "metadata": {
    "ExecuteTime": {
     "end_time": "2020-12-22T20:18:43.874526Z",
     "start_time": "2020-12-22T20:18:43.857960Z"
    }
   },
   "outputs": [
    {
     "data": {
      "text/plain": [
       "\"SCENE 1: [wind] [clop clop clop] \\nKING ARTHUR: Whoa there!  [clop clop clop] \\nSOLDIER #1: Halt!  Who goes there?\\nARTHUR: It is I, Arthur, son of Uther Pendragon, from the castle of Camelot.  King of the Britons, defeator of the Saxons, sovereign of all England!\\nSOLDIER #1: Pull the other one!\\nARTHUR: I am, ...  and this is my trusty servant Patsy.  We have ridden the length and breadth of the land in search of knights who will join me in my court at Camelot.  I must speak with your lord and master.\\nSOLDIER #1: What?  Ridden on a horse?\\nARTHUR: Yes!\\nSOLDIER #1: You're using coconuts!\\nARTHUR: What?\\nSOLDIER #1: You've got two empty halves of coconut and you're bangin' 'em together.\\nARTHUR: So?  We have ridden since the snows of winter covered this land, through the kingdom of Mercea, through--\\nSOLDIER #1: Where'd you get the coconuts?\\nARTHUR: We found them.\\nSOLDIER #1: Found them?  In Mercea?  The coconut's tropical!\\nARTHUR: What do you mean?\\nSOLDIER #1: Well, this is a temperate zone.\\nARTHUR: The swallow may fly south with the sun or the house martin or the plover may seek warmer climes in winter, yet these are not strangers to our land?\\nSOLDIER #1: Are you suggesting coconuts migrate?\\nARTHUR: Not at all.  They could be carried.\\nSOLDIER #1: What?  A swallow carrying a coconut?\\nARTHUR: It could grip it by the husk!\\nSOLDIER #1: It's not a question of where he grips it!  It's a simple question of weight ratios!  A five ounce bird could not carry a one pound coconut.\\nARTHUR: Well, it doesn't matter.  Will you go and tell your master that Arthur from the Court of Camelot is here.\\nSOLDIER #1: Listen.  In order to maintain air-speed velocity, a swallow needs to beat its wings forty-three times every second, right?\\nARTHUR: Please!\\nSOLDIER #1: Am I right?\\nARTHUR: I'm not interested!\\nSOLDIER #2: It could be carried by an African swallow!\\nSOLDIER #1: Oh, yeah, an African swallow maybe, but not a European swallow.  That's my point.\\nSOLDIER #2: Oh, yeah, I agree with that.\\nARTHUR: Will you ask your master if he wants to join my court at Camelot?!\\nSOLDIER #1: But then of course a-- African swallows are non-migratory.\\nSOLDIER #2: Oh, yeah...\\nSOLDIER #1: So they couldn't bring a coconut back anyway...  [clop clop clop] \\nSOLDIER #2: Wait a minute!  Supposing two swallows carried it together?\\nSOLDIER #1: No, they'd have to have it on a line.\\nSOLDIER #2: Well, simple!  They'd just use a strand of creeper!\\nSOLDIER #1: What, held under the dorsal guiding feathers?\\nSOLDIER #2: Well, why not?\\nSCENE 2: [thud] [clang] \\nCART-MASTER: Bring out your dead!  [clang] Bring out your dead!  [clang] Bring out your dead!  [clang] Bring out your dead!  [clang] Bring out your dead!  [cough cough...] [clang] [... cough cough] Bring out your dead!  [clang] Bring out your dead!  [clang] Bring out your dead!  Ninepence.  [clang] Bring out your dead!  [clang] Bring out your dead!  [clang] Bring out...  [rewr!] ... your dead!  [rewr!] [clang] Bring out your dead!\\nCUSTOMER: Here's one.\\nCART-MASTER: Ninepence.\\nDEAD PERSON: I'm not dead!\\nCART-MASTER: What?\\nCUSTOMER: Nothing.  Here's your ninepence.\\nDEAD PERSON: I'm not dead!\\nCART-MASTER: 'Ere.  He says he's not dead!\\nCUSTOMER: Yes he is.\\nDEAD PERSON: I'm not!\\nCART-MASTER: He isn't?\\nCUSTOMER: Well, he will be soon.  He's very ill.\\nDEAD PERSON: I'm getting better!  \\nCUSTOMER: No you're not.  You'll be stone dead in a moment.\\nCART-MASTER: Oh, I can't take him like that.  It's against regulations.\\nDEAD PERSON: I don't want to go on the cart!\\nCUSTOMER: Oh, don't be such a baby.\\nCART-MASTER: I can't take him.\\nDEAD PERSON: I feel fine!\\nCUSTOMER: Well, do us a favor.\\nCART-MASTER: I can't.\\nCUSTOMER: Well, can you hang around a couple of minutes?  He won't be long.\\nCART-MASTER: No, I've got to go to the Robinson's.  They've lost nine today.\\nCUSTOMER: Well, when's your next round?\\nCART-MASTER: Thursday.\\nDEAD PERSON: I think I'll go for a walk.\\nCUSTOMER: You're not fooling anyone you know.  Look, isn't there something you can do?\\nDEAD PERSON: [singing] I feel happy...  I feel happy.  [whop] \\nCUSTOMER: Ah, thanks very much.\\nCART-MASTER: Not at all.  See you on Thursday.\\nCUSTOMER: Right.  All right.  [howl] [clop clop clop] Who's that then?\\nCART-MASTER: I dunno.  Must be a king.\\nCUSTOMER: Why?\\nCART-MASTER: He hasn't got shit all over him.\\nSCENE 3: [thud] [King Arthur music] [thud thud thud] [King Arthur music stops] \\nARTHUR: Old woman!\\nDENNIS: Man!\\nARTHUR: Man.  Sorry.  What knight live in that castle over there?\\nDENNIS: I'm thirty-seven.\\nARTHUR: I-- what?\\nDENNIS: I'm thirty-seven.  I'm not old.\\nARTHUR: Well, I can't just call you 'Man'.\\nDENNIS: Well, you could say 'Dennis'.\\nARTHUR: Well, I didn't know you were called 'Dennis'.\\nDENNIS: Well, you didn't bother to find out, did you?\\nARTHUR: I did say 'sorry' about the 'old woman', but from the behind you looked--\\nDENNIS: What I object to is that you automatically treat me like an inferior!\\nARTHUR: Well, I am king!\\nDENNIS: Oh king, eh, very nice.  And how d'you get that, eh?  By exploiting the workers!  By 'anging on to outdated imperialist dogma which perpetuates the economic and social differences in our society.  If there's ever going to be any progress with the--\\nWOMAN: Dennis, there's some lovely filth down here.  Oh!  How d'you do?\\nARTHUR: How do you do, good lady.  I am Arthur, King of the Britons.  Who's castle is that?\\nWOMAN: King of the who?\\nARTHUR: The Britons.\\nWOMAN: Who are the Britons?\\nARTHUR: Well, we all are.  We are all Britons, and I am your king.\\nWOMAN: I didn't know we had a king.  I thought we were an autonomous collective.\\nDENNIS: You're fooling yourself.  We're living in a dictatorship.  A self-perpetuating autocracy in which the working classes--\\nWOMAN: Oh, there you go, bringing class into it again.\\nDENNIS: That's what it's all about.  If only people would hear of--\\nARTHUR: Please, please good people.  I am in haste.  Who lives in that castle?\\nWOMAN: No one live there.\\nARTHUR: Then who is your lord?\\nWOMAN: We don't have a lord.\\nARTHUR: What?\\nDENNIS: I told you.  We're an anarcho-syndicalist commune.  We take it in turns to act as a sort of executive officer for the week.\\nARTHUR: Yes.\\nDENNIS: But all the decision of that officer have to be ratified at a special bi-weekly meeting--\\nARTHUR: Yes, I see.\\nDENNIS: By a simple majority in the case of purely internal affairs,--\\nARTHUR: Be quiet!\\nDENNIS: But by a two-thirds majority in the case of more major--\\nARTHUR: Be quiet!  I order you to be quiet!\\nWOMAN: Order, eh?  Who does he think he is?  Heh.\\nARTHUR: I am your king!\\nWOMAN: Well, I didn't vote for you.\\nARTHUR: You don't vote for kings.\\nWOMAN: Well, how did you become king then?\\nARTHUR: The Lady of the Lake, ... [angels sing] ... her arm clad in the purest shimmering samite, held aloft Excalibur from the bosom of the water signifying by Divine Providence that I, Arthur, was to carry Excalibur. [singing stops] That is why I am your king!\\nDENNIS: Listen, strange women lying in ponds distributing swords is no basis for a system of government.  Supreme executive power derives from a mandate from the masses, not from some farcical aquatic ceremony.\\nARTHUR: Be quiet!\\nDENNIS: Well, but you can't expect to wield supreme executive power just 'cause some watery tart threw a sword at you!\\nARTHUR: Shut up!\\nDENNIS: I mean, if I went 'round saying I was an emperor just because some moistened bint had lobbed a scimitar at me, they'd put me away!\\nARTHUR: Shut up, will you.  Shut up!\\nDENNIS: Ah, now we see the violence inherent in the system.\\nARTHUR: Shut up!\\nDENNIS: Oh!  Come and see the violence inherent in the system!  Help, help!  I'm being repressed!\\nARTHUR: Bloody peasant!\\nDENNIS: Oh, what a give-away.  Did you hear that?  Did you hear that, eh?  That's what I'm on about.  Did you see him repressing me?  You saw it, didn't you\\nSCENE 4: [King Arthur music] [music stops] \\nBLACK KNIGHT: Aaagh!  [King Arthur music] [music stops] \\nBLACK KNIGHT: Aaagh!\\nGREEN KNIGHT: Ooh! [King Arthur music] [music stops] [stab] \\nBLACK KNIGHT: Aagh!\\nGREEN KNIGHT: Oh! [King Arthur music] Ooh! [music stops] \\nBLACK KNIGHT: Aaagh! [clang] \\nBLACK KNIGHT and GREEN KNIGHT: Agh!, oh!, etc.\\nGREEN KNIGHT: Aaaaaah!  Aaaaaaaaah! [woosh] [BLACK KNIGHT kills GREEN KNIGHT] [thud] [scrape] \\nBLACK KNIGHT: Umm! [clop clop clop] \\nARTHUR: You fight with the strength of many men, Sir Knight. [pause] I am Arthur, King of the Britons. [pause] I seek the finest and the bravest knights in the land to join me in my court at Camelot. [pause] You have proved yourself worthy.  Will you join me? [pause] You make me sad.  So be it.  Come, Patsy.\\nBLACK KNIGHT: None shall pass.\\nARTHUR: What?\\nBLACK KNIGHT: None shall pass.\\nARTHUR: I have no quarrel with you, good Sir Knight, but I must cross this bridge.\\nBLACK KNIGHT: Then you shall die.\\nARTHUR: I command you, as King of the Britons, to stand aside!\\nBLACK KNIGHT: I move for no man.\\nARTHUR: So be it!\\nARTHUR and BLACK KNIGHT: Aaah!, hiyaah!, etc. [ARTHUR chops the BLACK KNIGHT's left arm off] \\nARTHUR: Now stand aside, worthy adversary.\\nBLACK KNIGHT: 'Tis but a scratch.\\nARTHUR: A scratch?  Your arm's off!\\nBLACK KNIGHT: No, it isn't.\\nARTHUR: Well, what's that then?\\nBLACK KNIGHT: I've had worse.\\nARTHUR: You liar!\\nBLACK KNIGHT: Come on, you pansy! [clang] Huyah! [clang] Hiyaah! [clang] Aaaaaaaah! [ARTHUR chops the BLACK KNIGHT's right arm off] \\nARTHUR: Victory is mine! [kneeling] We thank Thee Lord, that in Thy mer--\\nBLACK KNIGHT: Hah! [clunk] Come on then.\\nARTHUR: What?\\nBLACK KNIGHT: Have at you! [kick] \\nARTHUR: Eh.  You are indeed brave, Sir Knight, but the fight is mine.\\nBLACK KNIGHT: Oh, had enough, eh?\\nARTHUR: Look, you stupid bastard.  You've got no arms left.\\nBLACK KNIGHT: Yes I have.\\nARTHUR: Look!\\nBLACK KNIGHT: Just a flesh wound. [kick] \\nARTHUR: Look, stop that.\\nBLACK KNIGHT: Chicken! [kick] Chickennn!\\nARTHUR: Look, I'll have your leg. [kick] Right! [whop] [ARTHUR chops the BLACK KNIGHT's right leg off] \\nBLACK KNIGHT: Right.  I'll do you for that!\\nARTHUR: You'll what?\\nBLACK KNIGHT: Come here!\\nARTHUR: What are you going to do, bleed on me?\\nBLACK KNIGHT: I'm invincible!\\nARTHUR: You're a looney.\\nBLACK KNIGHT: The Black Knight always triumphs!  Have at you!  Come on then. [whop] [ARTHUR chops the BLACK KNIGHT's last leg off] \\nBLACK KNIGHT: Ooh.  All right, we'll call it a draw.\\nARTHUR: Come, Patsy.\\nBLACK KNIGHT: Oh.  Oh, I see.  Running away, eh?  You yellow bastards!  Come back here and take what's coming to you.  I'll bite your legs off\\nSCENE 5:\\nMONKS: [chanting] Pie Iesu domine, dona eis requiem. [bonk] Pie Iesu domine, ... [bonk] ... dona eis requiem. [bonk] Pie Iesu domine, ... [bonk] ... dona eis requiem.\\nCROWD: A witch!  A witch! [bonk] A witch!  A witch!\\nMONKS: [chanting] Pie Iesu domine...\\nCROWD: A witch!  A witch!  A witch!  A witch!  We've found a witch!  A witch!  A witch!  A witch!  A witch!  We've got a witch!  A witch!  A witch!  Burn her!  Burn her!  Burn her!  We've found a witch!  We've found a witch!  A witch!  A witch!  A witch!\\nVILLAGER #1: We have found a witch.  May we burn her?\\nCROWD: Burn her!  Burn!  Burn her!  Burn her!\\nBEDEVERE: How do you know she is a witch?\\nVILLAGER #2: She looks like one.\\nCROWD: Right!  Yeah!  Yeah!\\nBEDEVERE: Bring her forward.\\nWITCH: I'm not a witch.  I'm not a witch.\\nBEDEVERE: Uh, but you are dressed as one.\\nWITCH: They dressed me up like this.\\nCROWD: Augh, we didn't!  We didn't...\\nWITCH: And this isn't my nose.  It's a false one.\\nBEDEVERE: Well?\\nVILLAGER #1: Well, we did do the nose.\\nBEDEVERE: The nose?\\nVILLAGER #1: And the hat, but she is a witch!\\nVILLAGER #2: Yeah!\\nCROWD: We burn her!  Right!  Yeaaah!  Yeaah!\\nBEDEVERE: Did you dress her up like this?\\nVILLAGER #1: No!\\nVILLAGER #2 and 3: No.  No.\\nVILLAGER #2: No.\\nVILLAGER #1: No.\\nVILLAGERS #2 and #3: No.\\nVILLAGER #1: Yes.\\nVILLAGER #2: Yes.\\nVILLAGER #1: Yes.  Yeah, a bit.\\nVILLAGER #3: A bit.\\nVILLAGERS #1 and #2: A bit.\\nVILLAGER #3: A bit.\\nVILLAGER #1: She has got a wart.\\nRANDOM: [cough] \\nBEDEVERE: What makes you think she is a witch?\\nVILLAGER #3: Well, she turned me into a newt.\\nBEDEVERE: A newt?\\nVILLAGER #3: I got better.\\nVILLAGER #2: Burn her anyway!\\nVILLAGER #1: Burn!\\nCROWD: Burn her!  Burn!  Burn her! ...\\nBEDEVERE: Quiet!  Quiet!  Quiet!  Quiet!  There are ways of telling whether she is a witch.\\nVILLAGER #1: Are there?\\nVILLAGER #2: Ah?\\nVILLAGER #1: What are they?\\nCROWD: Tell us!  Tell us! ...\\nBEDEVERE: Tell me, what do you do with witches?\\nVILLAGER #2: Burn!\\nVILLAGER #1: Burn!\\nCROWD: Burn!  Burn them up!  Burn! ...\\nBEDEVERE: And what do you burn apart from witches?\\nVILLAGER #1: More witches!\\nVILLAGER #3: Shh!\\nVILLAGER #2: Wood!\\nBEDEVERE: So, why do witches burn? [pause] \\nVILLAGER #3: B--...  'cause they're made of...  wood?\\nBEDEVERE: Good!  Heh heh.\\nCROWD: Oh yeah.  Oh.\\nBEDEVERE: So, how do we tell whether she is made of wood?\\nVILLAGER #1: Build a bridge out of her.\\nBEDEVERE: Ah, but can you not also make bridges out of stone?\\nVILLAGER #1: Oh, yeah.\\nRANDOM: Oh, yeah.  True.  Uhh...\\nBEDEVERE: Does wood sink in water?\\nVILLAGER #1: No.  No.\\nVILLAGER #2: No, it floats!  It floats!\\nVILLAGER #1: Throw her into the pond!\\nCROWD: The pond!  Throw her into the pond!\\nBEDEVERE: What also floats in water?\\nVILLAGER #1: Bread!\\nVILLAGER #2: Apples!\\nVILLAGER #3: Uh, very small rocks!\\nVILLAGER #1: Cider!\\nVILLAGER #2: Uh, gra-- gravy!\\nVILLAGER #1: Cherries!\\nVILLAGER #2: Mud!\\nVILLAGER #3: Churches!  Churches!\\nVILLAGER #2: Lead!  Lead!\\nARTHUR: A duck!\\nCROWD: Oooh.\\nBEDEVERE: Exactly.  So, logically...\\nVILLAGER #1: If...  she...  weighs...  the same as a duck, ...  she's made of wood.\\nBEDEVERE: And therefore?\\nVILLAGER #2: A witch!\\nVILLAGER #1: A witch!\\nCROWD: A witch!  A witch! ...\\nVILLAGER #4: Here is a duck.  Use this duck. [quack quack quack] \\nBEDEVERE: We shall use my largest scales.\\nCROWD: Ohh!  Ohh!  Burn the witch!  Burn the witch!  Burn her!  Burn her!  Burn her!  Burn her!  Burn her!  Burn her!  Burn her!  Ahh!  Ahh...\\nBEDEVERE: Right.  Remove the supports! [whop] [clunk] [creak] \\nCROWD: A witch!  A witch!  A witch!\\nWITCH: It's a fair cop.\\nVILLAGER #3: Burn her!\\nCROWD: Burn her!  Burn her!  Burn her!  Burn!  Burn! ...\\nBEDEVERE: Who are you who are so wise in the ways of science?\\nARTHUR: I am Arthur, King of the Britons.\\nBEDEVERE: My liege!\\nARTHUR: Good Sir Knight, will you come with me to Camelot, and join us at the Round Table?\\nBEDEVERE: My liege!  I would be honored.\\nARTHUR: What is your name?\\nBEDEVERE: Bedevere, my liege.\\nARTHUR: Then I dub you Sir Bedevere, Knight of the Round Table\\nNARRATOR: The wise Sir Bedevere was the first to join King Arthur's knights, but other illustrious names were soon to follow: Sir Lancelot the Brave; Sir Gallahad the Pure; and Sir Robin the-not-quite-so-brave-as-Sir-Lancelot, who had nearly fought the Dragon of Angnor, who had nearly stood up to the vicious Chicken of Bristol, and who had personally wet himself at the Battle of Badon Hill; and the aptly named Sir Not-appearing-in-this-film.  Together they formed a band whose names and deeds were to be retold throughout the centuries: the Knights of the Round Table\\nSCENE 6: [clop clop clop] \\nSIR BEDEVERE: And that, my liege, is how we know the earth to be banana-shaped.\\nARTHUR: This new learning amazes me, Sir Bedevere.  Explain again how sheep's bladders may be employed to prevent earthquakes.\\nBEDEVERE: Oh, certainly, sir.\\nSIR LAUNCELOT: Look, my liege! [trumpets] \\nARTHUR: Camelot!\\nSIR GALAHAD: Camelot!\\nLAUNCELOT: Camelot!\\nPATSY: It's only a model.\\nARTHUR: Shh!  Knights, I bid you welcome to your new home.  Let us ride... to...  Camelot! [in medieval hall] \\nKNIGHTS: [singing] We're knights of the round table.  We dance when e'er we're able.  We do routines and chorus scenes With footwork impeccable.  We dine well here in Camelot.  We eat ham and jam and spam a lot [dancing] We're knights of the Round Table. Our shows are formidable, But many times we're given rhymes That are quite unsingable. We're opera mad in Camelot. We sing from the diaphragm a lot [in dungeon] \\nPRISONER: [clap clap clap clap] [in medieval hall] \\nKNIGHTS: [tap-dancing] In war we're tough and able, Quite indefatigable.  Between our quests we sequin vests and impersonate Clark Gable.  It's a busy life in Camelot.\\nMAN: I have to push the pram a lot [outdoors] \\nARTHUR: Well, on second thought, let's not go to Camelot.  It is a silly place.\\nKNIGHTS: Right.  Right\\nSCENE 7: [clop clop clop] [boom boom] [angels sing] \\nGOD: Arthur!  Arthur, King of the Britons!  Oh, don't grovel! [singing stops] One thing I can't stand, it's people groveling.\\nARTHUR: Sorry. [boom] \\nGOD: And don't apologise.  Every time I try to talk to someone it's 'sorry this' and 'forgive me that' and 'I'm not worthy'. [boom] What are you doing now?!\\nARTHUR: I'm averting my eyes, O Lord.\\nGOD: Well, don't.  It's like those miserable Psalms-- they're so depressing. Now knock it off!\\nARTHUR: Yes, Lord.\\nGOD: Right!  Arthur, King of the Britons, your Knights of the Round Table shall have a task to make them an example in these dark times.\\nARTHUR: Good idea, O Lord!\\nGOD: 'Course it's a good idea!  Behold! [angels sing] Arthur, this is the Holy Grail.  Look well, Arthur, for it is your sacred task to seek this grail.  That is your purpose, Arthur...  the quest for the Holy Grail. [boom] [singing stops] \\nLAUNCELOT: A blessing!  A blessing from the Lord!\\nGALAHAD: God be praised\\nSCENE 8: [King Arthur music] [clop clop clop] \\nARTHUR: Halt! [horn] Hallo! [pause] Hallo!\\nFRENCH GUARD: Allo!  Who is eet?\\nARTHUR: It is King Arthur, and these are my Knights of the Round Table.  Who's castle is this?\\nFRENCH GUARD: This is the castle of my master Guy de Loimbard.\\nARTHUR: Go and tell your master that we have been charged by God with a sacred quest.  If he will give us food and shelter for the night he can join us in our quest for the Holy Grail.\\nFRENCH GUARD: Well, I'll ask him, but I don't think he'll be very keen.  Uh, he's already got one, you see?\\nARTHUR: What?\\nGALAHAD: He says they've already got one!\\nARTHUR: Are you sure he's got one?\\nFRENCH GUARD: Oh, yes, it's very nice-a.  (I told him we already got one.)\\nARTHUR: Well, u-- um, can we come up and have a look?\\nFRENCH GUARD: Of course not!  You are English types-a!\\nARTHUR: Well, what are you then?\\nFRENCH GUARD: I'm French!  Why do think I have this outrageous accent, you silly king-a?!\\nGALAHAD: What are you doing in England?\\nFRENCH GUARD: Mind your own business!\\nARTHUR: If you will not show us the Grail, we shall take your castle by force!\\nFRENCH GUARD: You don't frighten us, English pig-dogs!  Go and boil your bottom, sons of a silly person.  I blow my nose at you, so-called Arthur King, you and all your silly English k-nnnnniggets.  Thpppppt!  Thppt! Thppt!\\nGALAHAD: What a strange person.\\nARTHUR: Now look here, my good man--\\nFRENCH GUARD: I don't wanna talk to you no more, you empty headed animal food trough wiper!  I fart in your general direction!  You mother was a hamster and your father smelt of elderberries!\\nGALAHAD: Is there someone else up there we could talk to?\\nFRENCH GUARD: No, now go away or I shall taunt you a second time-a! [sniff] \\nARTHUR: Now, this is your last chance.  I've been more than reasonable.\\nFRENCH GUARD: (Fetchez la vache.)\\nOTHER FRENCH GUARD: Quoi?\\nFRENCH GUARD: (Fetchez la vache!) [mooo] \\nARTHUR: If you do not agree to my commands, then I shall-- [twong] [mooooooo] Jesus Christ!\\nKNIGHTS: Christ! [thud] Ah!  Ohh!\\nARTHUR: Right!  Charge!\\nKNIGHTS: Charge! [mayhem] \\nFRENCH GUARD: Hey, this one is for your mother!  There you go. [mayhem] \\nFRENCH GUARD: And this one's for your dad!\\nARTHUR: Run away!\\nKNIGHTS: Run away!\\nFRENCH GUARD: Thppppt!\\nFRENCH GUARDS: [taunting] \\nLAUNCELOT: Fiends!  I'll tear them apart!\\nARTHUR: No, no.  No, no.\\nBEDEVERE: Sir!  I have a plan, sir. [later] [wind] [saw saw saw saw saw saw saw saw saw saw saw saw saw saw saw saw] [clunk] [bang] [rewr!] [squeak squeak squeak squeak squeak squeak squeak squeak squeak squeak] [rrrr rrrr rrrr] [drilllll] [sawwwww] [clunk] [crash] [clang] [squeak squeak squeak squeak squeak...] [creak] \\nFRENCH GUARDS: [whispering] C'est un lapin, lapin de bois.  Quoi?  Un cadeau.  What?  A present.  Oh, un cadeau.  Oui, oui.  Hurry.  What?  Let's go.  Oh. On y va.  Bon magne.  Over here... [squeak squeak squeak squeak squeak...] [clllank] \\nARTHUR: What happens now?\\nBEDEVERE: Well, now, uh, Launcelot, Galahad, and I, uh, wait until nightfall, and then leap out of the rabbit, taking the French, uh, by surprise.  Not only by surprise, but totally unarmed!\\nARTHUR: Who leaps out?\\nBEDEVERE: U-- u-- uh, Launcelot, Galahad, and I.  Uh, leap out of the rabbit, uh, and uh...\\nARTHUR: Ohh.\\nBEDEVERE: Oh.  Um, l-- look, i-- i-- if we built this large wooden badger-- [clank] [twong] \\nARTHUR: Run away!\\nKNIGHTS: Run away!  Run away!  Run away!  Run away!  Run away!  Run away!  Run away! [CRASH] \\nFRENCH GUARDS: Oh, haw haw haw haw!  Haw!  Haw haw heh..\\nSCENE 9: [clack] \\nVOICE: Picture for Schools, take eight.\\nDIRECTOR: Action!\\nHISTORIAN: Defeat at the castle seems to have utterly disheartened King Arthur.  The ferocity of the French taunting took him completely by surprise, and Arthur became convinced that a new strategy was required if the quest for the Holy Grail were to be brought to a successful conclusion.  Arthur, having consulted his closest knights, decided that they should separate, and search for the Grail individually. [clop clop clop] Now, this is what they did: Launcelot--\\nKNIGHT: Aaaah! [slash] [KNIGHT kills HISTORIAN] \\nHISTORIAN'S WIFE: Frank\\nSCENE 10: [trumpets] \\nNARRATOR: The Tale of Sir Robin.  So each of the knights went their separate ways.  Sir Robin rode north, through the dark forest of Ewing, accompanied by his favorite minstrels.\\nMINSTREL: [singing] Bravely bold Sir Robin, rode forth from Camelot.  He was not afraid to die, O brave Sir Robin.  He was not at all afraid to be killed in nasty ways.  Brave, brave, brave, brave Sir Robin!  He was not in the least bit scared to be mashed into a pulp, Or to have his eyes gouged out, and his elbows broken.  To have his kneecaps split, and his body burned away, And his limbs all hacked and mangled, brave Sir Robin!\\nHis head smashed in and his heart cut out, And his liver removed and his bowels unplugged, And his nostrils raped and his bottom burned off, And his pen--\\nSIR ROBIN: That's-- that's, uh-- that's enough music for now, lads.  Heh.  Looks like there's dirty work afoot.\\nDENNIS: Anarcho-syndicalism is a way of preserving freedom.\\nWOMAN: Oh, Dennis, forget about freedom.  We haven't got enough mud.\\nALL HEADS: Halt!  Who art thou?\\nMINSTREL: [singing] He is brave Sir Robin, brave Sir Robin, who--\\nROBIN: Shut up!  Um, n-- n-- n-- nobody really, I'm j-- j-- j-- ju-- just um, just passing through.\\nALL HEADS: What do you want?\\nMINSTREL: [singing] To fight and--\\nROBIN: Shut up!  Um, oo, a-- nothing, nothing really.  I, uh, j-- j-- just--just to um, just to p-- pass through, good Sir Knight.\\nALL HEADS: I'm afraid not!\\nROBIN: Ah.  W-- well, actually I-- I am a Knight of the Round Table.\\nALL HEADS: You're a Knight of the Round Table?\\nROBIN: I am.\\nLEFT HEAD: In that case I shall have to kill you.\\nMIDDLE HEAD: Shall I?\\nRIGHT HEAD: Oh, I don't think so.\\nMIDDLE HEAD: Well, what do I think?\\nLEFT HEAD: I think kill him.\\nRIGHT HEAD: Oh, let's be nice to him.\\nLEFT HEAD: Oh shut up.\\nROBIN: Perhaps I could--\\nLEFT HEAD: And you.  Oh, quick!  Get the sword out.  I want to cut his headoff!\\nRIGHT HEAD: Oh, cut your own head off!\\nMIDDLE HEAD: Yes, do us all a favor!\\nLEFT HEAD: What?\\nRIGHT HEAD: Yapping on all the time.\\nMIDDLE HEAD: You're lucky.  You're not next to him.\\nLEFT HEAD: What do you mean?\\nMIDDLE HEAD: You snore!\\nLEFT HEAD: Oh, I don't.  Anyway, you've got bad breath.\\nMIDDLE HEAD: Well it's only because you don't brush my teeth.\\nRIGHT HEAD: Oh stop bitching and let's go have tea.\\nLEFT HEAD: Oh, all right.  All right.  All right.  We'll kill him first and then have tea and biscuits.\\nMIDDLE HEAD: Yes.\\nRIGHT HEAD: Oh, not biscuits.\\nLEFT HEAD: All right.  All right, not biscuits, but let's kill him anyway.\\nALL HEADS: Right!\\nMIDDLE HEAD: He buggered off.\\nRIGHT HEAD: So he has.  He's scarper\\nMINSTREL: [singing] Brave Sir Robin ran away.\\nROBIN: No!\\nMINSTREL: [singing] Bravely ran away away.\\nROBIN: I didn't!\\nMINSTREL: [singing] When danger reared its ugly head, he bravely turned his tail and fled.\\nROBIN: No!\\nMINSTREL: [singing] Yes, brave Sir Robin turned about\\nROBIN: I didn't!\\nMINSTREL: [singing] And gallantly he chickened out, bravely taking to his feet.\\nROBIN: I never did!\\nMINSTREL: [singing] He beat a very brave retreat.\\nROBIN: All lies!\\nMINSTREL: [singing] Bravest of the brave, Sir Robin.\\nROBIN: I never\\nCARTOON MONKS: [chanting] Pie Iesu domine, dona eis requiem.\\nCARTOON CHARACTER: Heh heh heeh ooh... [twang] \\nCARTOON MONKS: [chanting] Pie Iesu domine, ...\\nCARTOON CHARACTERS: Wayy! [splash] Ho ho.  Woa, wayy! [twang] [splash] Heh heh heh heh ho!  Heh heh heh!\\nCARTOON MONKS: [chanting] ... dona eis requiem.\\nCARTOON CHARACTER: Wayy! [twang] Wayy! [twang] \\nVOICE: [whispering] Forgive me for asking.\\nCARTOON CHARACTER: Oh!  Oooo\\nSCENE 11: [trumpets] \\nNARRATOR: The Tale of Sir Galahad. [boom] [wind] [howl] [howl] [boom] [angels singing] [howl] [boom] [howl] [boom] [pound pound pound] \\nGALAHAD: Open the door!  Open the door! [pound pound pound] In the name of King Arthur, open the door! [squeak] [thump] [squeak] [boom] \\nGIRLS: Hello!\\nZOOT: Welcome gentle Sir Knight.  Welcome to the Castle Anthrax.\\nGALAHAD: The Castle Anthrax?\\nZOOT: Yes.  Oh, it's not a very good name is it?  Oh, but we are nice and we will attend to your every, every need!\\nGALAHAD: You are the keepers of the Holy Grail?\\nZOOT: The what?\\nGALAHAD: The Grail.  It is here.\\nZOOT: Oh, but you are tired, and you must rest awhile.  Midget!  Crapper!\\nMIDGET and CRAPPER: Yes, O Zoot?\\nZOOT: Prepare a bed for our guest.\\nMIDGET and CRAPPER: Oh thank you!  Thank you!  Thank you!  Thank you!  Thank you!  Thank you! ...\\nZOOT: Away, away varletesses.  The beds here are warm and soft, and very, very big.\\nGALAHAD: Well, look, I-- I-- uh--\\nZOOT: What is your name, handsome knight?\\nGALAHAD: Sir Galahad...  the Chaste.\\nZOOT: Mine is Zoot.  Just Zoot.  Oh, but come.\\nGALAHAD: Look, please!  In God's name, show me the Grail!\\nZOOT: Oh, you have suffered much.  You are delirious.\\nGALAHAD: No, look.  I have seen it!  It is here, in this--\\nZOOT: Sir Galahad!  You would not be so ungallant as to refuse our hospitality.\\nGALAHAD: Well, I-- I-- uh--\\nZOOT: Oh, I am afraid our life must seem very dull and quiet compared to yours.  We are but eight score young blondes and brunettes, all between sixteen and nineteen-and-a-half, cut off in this castle with no one to protect us.  Oooh.  It is a lonely life: bathing, dressing, undressing, making exciting underwear.  We are just not used to handsome knights.  Nay.  Nay.  Come.  Come.  You may lie here.  Oh, but you are wounded!\\nGALAHAD: No, no-- it's-- it's nothing.\\nZOOT: Oh, you must see the doctors immediately!  No, no, please!  Lie down. [clap clap] \\nPIGLET: Well, what seems to be the trouble?\\nGALAHAD: They're doctors?!\\nZOOT: Uh, they have a basic medical training, yes.\\nGALAHAD: B-- but--\\nZOOT: Oh, come, come.  You must try to rest.  Doctor Piglet!  Doctor Winston!  Practice your art.\\nWINSTON: Try to relax.\\nGALAHAD: Are you sure that's absolutely necessary?\\nPIGLET: We must examine you.\\nGALAHAD: There's nothing wrong with that!\\nPIGLET: Please.  We are doctors.\\nGALAHAD: Look!  This cannot be.  I am sworn to chastity.\\nPIGLET: Back to your bed!  At once!\\nGALAHAD: Torment me no longer.  I have seen the Grail!\\nPIGLET: There's no grail here.\\nGALAHAD: I have seen it!  I have seen it! [clank] I have seen--\\nGIRLS: Hello.\\nGALAHAD: Oh.\\nGIRLS: Hello.  Hello.  Hello.  Hello.  Hello.  Hello.  Hello.  Hello.  Hello.  Hello.  Hello.  Hello.  Hello.  Hello.  Hello.  Hello.  Hello.  Hello.  Hello.  Hello.  Hello.  Hello.  Hello.\\nGALAHAD: Zoot!\\nDINGO: No, I am Zoot's identical twin sister, Dingo.\\nGALAHAD: Oh, well, excuse me, I--\\nDINGO: Where are you going?\\nGALAHAD: I seek the Grail!  I have seen it, here in this castle!\\nDINGO: Oh no.  Oh, no!  Bad, bad Zoot!\\nGALAHAD: Well, what is it?\\nDINGO: Oh, wicked, bad, naughty Zoot!  She has been setting alight to our beacon, which, I have just remembered, is grail-shaped.  It's not the first time we've had this problem.\\nGALAHAD: It's not the real Grail?\\nDINGO: Oh, wicked, bad, naughty, evil Zoot!  She is a bad person and must pay the penalty.  Do you think this scene should have been cut?  We were so worried when the boys were writing it, but now, we're glad.  It's better than some of the previous scenes, I think.\\nLEFT HEAD: At least ours was better visually.\\nDENNIS: Well, at least ours was committed.  It wasn't just a string of pussy jokes.\\nOLD MAN: Get on with it.\\nTIM THE ENCHANTER: Yes, get on with it!\\nARMY OF KNIGHTS: Yes, get on with it!\\nDINGO: Oh, I am enjoying this scene.\\nGOD: Get on with it!\\nDINGO: [sigh] Oh, wicked, wicked Zoot.  Oh, she is a naughty person, and she must pay the penalty.  And here in Castle Anthrax, we have but one punishment for setting alight the grail-shaped beacon.  You must tie her down on a bed and spank her.\\nGIRLS: A spanking!  A spanking!\\nDINGO: You must spank her well.  And after you have spanked her, you may deal with her as you like.  And then, spank me.\\nAMAZING: And spank me.\\nSTUNNER: And me.\\nLOVELY: And me.\\nDINGO: Yes, yes, you must give us all a good spanking!\\nGIRLS: A spanking!  A spanking!  There is going to be a spanking tonight!\\nDINGO: And after the spanking, the oral sex.\\nGIRLS: The oral sex!  The oral sex!\\nGALAHAD: Well, I could stay a bit longer.\\nLAUNCELOT: Sir Galahad!\\nGALAHAD: Oh, hello.\\nLAUNCELOT: Quick!\\nGALAHAD: What?\\nLAUNCELOT: Quick!\\nGALAHAD: Why?\\nLAUNCELOT: You are in great peril!\\nDINGO: No he isn't.\\nLAUNCELOT: Silence, foul temptress!\\nGALAHAD: You know, she's got a point.\\nLAUNCELOT: Come on!  We will cover your escape!\\nGALAHAD: Look, I'm fine!\\nLAUNCELOT: Come on!\\nGIRLS: Sir Galahad!\\nGALAHAD: No.  Look, I can tackle this lot single-handed!\\nDINGO: Yes!  Let him tackle us single-handed!\\nGIRLS: Yes!  Let him tackle us single-handed!\\nLAUNCELOT: No, Sir Galahad.  Come on!\\nGALAHAD: No!  Really!  Honestly, I can cope.  I can handle this lot easily.\\nDINGO: Oh, yes.  Let him handle us easily.\\nGIRLS: Yes.  Let him handle us easily.\\nLAUNCELOT: No.  Quick!  Quick!\\nGALAHAD: Please!  I can defeat them!  There's only a hundred-and-fifty of them!\\nDINGO: Yes, yes!  He will beat us easily!  We haven't a chance.\\nGIRLS: We haven't a chance.  He will beat us easily... [boom] \\nDINGO: Oh, shit.\\nLAUNCELOT: We were in the nick of time.  You were in great peril.\\nGALAHAD: I don't think I was.\\nLAUNCELOT: Yes you were.  You were in terrible peril.\\nGALAHAD: Look, let me go back in there and face the peril.\\nLAUNCELOT: No, it's too perilous.\\nGALAHAD: Look, it's my duty as a knight to sample as much peril as I can.\\nLAUNCELOT: No, we've got to find the Holy Grail.  Come on!\\nGALAHAD: Oh, let me have just a little bit of peril?\\nLAUNCELOT: No.  It's unhealthy.\\nGALAHAD: I bet you're gay.\\nLAUNCELOT: No I'm not\\nNARRATOR: Sir Launcelot had saved Sir Galahad from almost certain temptation, but they were still no nearer the Grail.  Meanwhile, King Arthur and Sir Bedevere, not more than a swallow's flight away, had discovered something.  Oh, that's an unladen swallow's flight, obviously.  I mean, they were more than two laden swallows' flights away-- four, really, if they had a coconut on a line between them.  I mean, if the birds were walking and dragging--\\nCROWD: Get on with it!\\nNARRATOR: Oh, anyway.  On to scene twenty-four, which is a smashing scene with some lovely acting, in which Arthur discovers a vital clue, and in which there aren't any swallows, although I think you can hear a starling-- oooh\\nSCENE 12:\\nOLD MAN: Heh, hee ha ha hee hee!  Hee hee hee ha ha ha...\\nARTHUR: And this enchanter of whom you speak, he has seen the Grail?\\nOLD MAN: ... Ha ha ha ha!  Heh, hee ha ha hee!  Ha hee ha!  Ha ha ha ha...\\nARTHUR: Where does he live?\\nOLD MAN: ... Heh heh heh heh...\\nARTHUR: Old man, where does he live?\\nOLD MAN: ... Hee ha ha ha.  He knows of a cave, a cave which no man has entered.\\nARTHUR: And the Grail.  The Grail is there?\\nOLD MAN: There is much danger, for beyond the cave lies the Gorge of Eternal Peril, which no man has ever crossed.\\nARTHUR: But the Grail!  Where is the Grail?!\\nOLD MAN: Seek you the Bridge of Death.\\nARTHUR: The Bridge of Death, which leads to the Grail?\\nOLD MAN: Heh, hee hee hee hee!  Ha ha ha ha ha!  Hee ha ha..\\nSCENE 13: [spooky music] [music stops] \\nHEAD KNIGHT OF NI: Ni!\\nKNIGHTS OF NI: Ni!  Ni!  Ni!  Ni!  Ni!\\nARTHUR: Who are you?\\nHEAD KNIGHT: We are the Knights Who Say...  'Ni'!\\nRANDOM: Ni!\\nARTHUR: No!  Not the Knights Who Say 'Ni'!\\nHEAD KNIGHT: The same!\\nBEDEVERE: Who are they?\\nHEAD KNIGHT: We are the keepers of the sacred words: Ni, Peng, and Neee-wom!\\nRANDOM: Neee-wom!\\nARTHUR: Those who hear them seldom live to tell the tale!\\nHEAD KNIGHT: The Knights Who Say 'Ni' demand a sacrifice!\\nARTHUR: Knights of Ni, we are but simple travellers who seek the enchanter who lives beyond these woods.\\nHEAD KNIGHT: Ni!\\nKNIGHTS OF NI: Ni!  Ni!  Ni!  Ni!  Ni! ...\\nARTHUR: Ow!  Ow!  Ow!  Agh!\\nHEAD KNIGHT: We shall say 'ni' again to you if you do not appease us.\\nARTHUR: Well, what is it you want?\\nHEAD KNIGHT: We want...  a shrubbery! [dramatic chord] \\nARTHUR: A what?\\nKNIGHTS OF NI: Ni!  Ni!  Ni!  Ni!\\nARTHUR and PARTY: Ow!  Oh!\\nARTHUR: Please, please!  No more!  We will find you a shrubbery.\\nHEAD KNIGHT: You must return here with a shrubbery or else you will never pass through this wood alive!\\nARTHUR: O Knights of Ni, you are just and fair, and we will return with a shrubbery.\\nHEAD KNIGHT: One that looks nice.\\nARTHUR: Of course.\\nHEAD KNIGHT: And not too expensive.\\nARTHUR: Yes.\\nHEAD KNIGHT: Now...  go [trumpets] \\nCARTOON CHARACTER: Hmm hmm-- [boom] Oh!  Great scott!  Hm.  Hmm. [boom] Hm!  Hmm.  [mumble mumble mumble] [boom] [mumble mumble mumble] [boom] [mumble mumble mumble] [boom] [mumble mumble mumble] [boom] [mumble mumble mumble] [boom] [mumble mumble mumble] [boom] [mumble mumble mumble] [boom] [mumble mumble mumble] [boom] Ohh! [crash] [mumble mumble mumble] [boom] \\nSUN: Ay, up!  Thsss. [boom] Ayy, up! [boom] Thsss. [boom] Ayy, up!\\nCARTOON CHARACTER: Stop that!  Stop that! [boom] \\nSUN: Ay, up!\\nCARTOON CHARACTER: Stop that! [boom] Look on!  Clear off!  Go on!  Go away!  Go away!  Go away!  And you!  Clear off!  [sniff] \\nSUN: [mumble mumble mumble] [bells] \\nCARTOON CHARACTER: Hah.  Bloody weather\\nSCENE 14:\\nNARRATOR: The Tale of Sir Launcelot.\\nFATHER: One day, lad, all this will be yours!\\nPRINCE HERBERT: What, the curtains?\\nFATHER: No.  Not the curtains, lad.  All that you can see, stretched out over the hills and valleys of this land!  This'll be your kingdom, lad.\\nHERBERT: But Mother--\\nFATHER: Father, lad.  Father.\\nHERBERT: B-- b-- but Father, I don't want any of that.\\nFATHER: Listen, lad.  I built this kingdom up from nothing.  When I started here, all there was was swamp.  Other kings said I was daft to build a castle on a swamp, but I built it all the same, just to show 'em.  It sank into the swamp.  So, I built a second one.  That sank into the swamp.  So I built a third one.  That burned down, fell over, then sank into the swamp.  But the fourth one...  stayed up!  And that's what you're gonna get, lad: the strongest castle in these islands.\\nHERBERT: But I don't want any of that.  I'd rather--\\nFATHER: Rather what?!\\nHERBERT: I'd rather... [music] ... just...  sing!\\nFATHER: Stop that!  Stop that!  You're not going into a song while I'm here.  Now listen, lad.  In twenty minutes you're getting married to a girl whose father owns the biggest tracts of open land in Britain.\\nHERBERT: B-- but I don't want land.\\nFATHER: Listen, Alice,--\\nHERBERT: Herbert.\\nFATHER: 'Erbert.  We live in a bloody swamp.  We need all the land we can get.\\nHERBERT: But-- but I don't like her.\\nFATHER: Don't like her?!  What's wrong with her?!  She's beautiful.  She's rich.  She's got huge...  tracts o' land.\\nHERBERT: I know, but I want the-- the girl that I marry to have...  [music] ... a certain...  special...  something!\\nFATHER: Cut that out!  Cut that out!  Look, you're marrying Princess Lucky, so you'd better get used to the idea! [smack] Guards!  Make sure the Prince doesn't leave this room until I come and get him.\\nGUARD #1: Not to leave the room even if you come and get him.\\nGUARD #2: Hic!\\nFATHER: No, no.  Until I come and get him.\\nGUARD #1: Until you come and get him, we're not to enter the room.\\nFATHER: No, no.  No.  You stay in the room and make sure he doesn't leave.\\nGUARD #1: And you'll come and get him.\\nGUARD #2: Hic!\\nFATHER: Right.\\nGUARD #1: We don't need to do anything, apart from just stop him entering the room.\\nFATHER: No, no.  Leaving the room.\\nGUARD #1: Leaving the room.  Yes. [sniff] \\nFATHER: All right?\\nGUARD #1: Right.\\nGUARD #2: Hic!\\nFATHER: Right.\\nGUARD #1: Oh, if-- if-- if-- uhh-- if-- if-- w-- ehh-- i-- if-- if we--\\nFATHER: Yes?  What is it?\\nGUARD #1: Oh, i-- if-- i-- oh--\\nFATHER: Look, it's quite simple.\\nGUARD #1: Uh...\\nFATHER: You just stay here, and make sure 'e doesn't leave the room.  Alright?\\nGUARD #2: Hic!\\nFATHER: Right.\\nGUARD #1: Oh, I remember.  Uhh, can he leave the room with us?\\nFATHER: N-- no no.  No.  You just keep him in here, and make sure he--\\nGUARD #1: Oh, yes.  We'll keep him in here, obviously.  But if he had to leave and we were with him--\\nFATHER: No, no, no, no.  Just keep him in here--\\nGUARD #1: Until you, or anyone else--\\nFATHER: No, not anyone else.  Just me.\\nGUARD #1: Just you.\\nGUARD #2: Hic!\\nFATHER: Get back.\\nGUARD #1: Get back.\\nFATHER: All right?\\nGUARD #1: Right.  We'll stay here until you get back.\\nGUARD #2: Hic!\\nFATHER: And, uh, make sure he doesn't leave.\\nGUARD #1: What?\\nFATHER: Make sure 'e doesn't leave.\\nGUARD #1: The Prince?\\nFATHER: Yes.  Make sure 'e doesn't leave.\\nGUARD #1: Oh, yes, of course.  \\nGUARD #2: Hic!\\nGUARD #1: Ah.  I thought you meant him.  You know, it seemed a bit daft me havin' to guard him when he's a guard.\\nFATHER: Is that clear?\\nGUARD #2: Hic!\\nGUARD #1: Oh, quite clear.  No problems.\\nFATHER: Right.  Where are you going?\\nGUARD #1: We're coming with you.\\nFATHER: No, no.  I want you to stay here and make sure 'e doesn't leave.\\nGUARD #1: Oh, I see.  Right.\\nHERBERT: But Father!\\nFATHER: Shut your noise, you!  And get that suit on! [music] And no singing!\\nGUARD #2: Hic!\\nFATHER: Oh, go and get a glass of water. [clank] [scribble scribble scribble fold fold] [twong]\\nSCENE 15:\\nLAUNCELOT: Well taken, Concorde!\\nCONCORDE: Thank you, sir!  Most kind.\\nLAUNCELOT: And again!  Over we go!  Good.  Steady!  And now, the big one!  Uuh!  Come on, Concorde! [thwonk] \\nCONCORDE: Message for you, sir. [fwump] \\nLAUNCELOT: Concorde!  Concorde!  Speak to me!  'To whoever finds this note: I have been imprisoned by my father, who wishes me to marry against my will.  Please, please, please come and rescue me.  I am in the Tall Tower of Swamp Castle.' At last!  A call!  A cry of distress!  This could be the sign that leads us to the Holy Grail!  Brave, brave Concorde, you shall not have died in vain!\\nCONCORDE: Uh, I'm-- I'm not quite dead, sir.\\nLAUNCELOT: Well, you shall not have been mortally wounded in vain!\\nCONCORDE: I-- I-- I think I c-- I could pull through, sir.\\nLAUNCELOT: Oh, I see.\\nCONCORDE: Actually, I think I'm all right to come with you, sir--\\nLAUNCELOT: No, no, sweet Concorde!  Stay here!  I will send help as soon as I have accomplished a daring and heroic rescue in my own particular...  [sigh] \\nCONCORDE: Idiom, sir?\\nLAUNCELOT: Idiom!\\nCONCORDE: No, I feel fine, actually, sir.\\nLAUNCELOT: Farewell, sweet Concorde!\\nCONCORDE: I'll, um, I'll just stay here then.  Shall I, sir?  Yeah\\nSCENE 16: [inside castle] \\nPRINCESS LUCKY and GIRLS: [giggle giggle giggle] [outside castle] \\nGUEST: 'Morning!\\nSENTRY #1: 'Morning.\\nSENTRY #2: Oooh.\\nSENTRY #1: [ptoo] \\nLAUNCELOT: Ha ha!  Hiyya!\\nSENTRY #2: Hey!\\nLAUNCELOT: Hiyya!, Ha!, etc.\\nPRINCESS LUCKY and GIRLS: [giggle giggle giggle] \\nLAUNCELOT: Ha ha!  Huy!\\nGUESTS: Uuh!  Aaah!\\nLAUNCELOT: Ha ha!  And take this!  Aah!  Hiyah!  Aah!  Aaah!  Hyy!  Hya!  Hiyya!  Ha! ...\\nGUARD #1: Now, you're not allowed to enter the room-- aaugh!\\nLAUNCELOT: O fair one, behold your humble servant Sir Launcelot of Camelot.  I have come to take y-- Oh, I'm terribly sorry.\\nHERBERT: You got my note!\\nLAUNCELOT: Uh, well, I-- I got a-- a note.\\nHERBERT: You've come to rescue me!\\nLAUNCELOT: Uh, well, no.  You see, I hadn't--\\nHERBERT: I knew someone would.  I knew that somewhere out there...  [music] \\nLAUNCELOT: Well, I--\\nHERBERT: ... there must be...  someone...\\nFATHER: Stop that!  Stop that!  Stop it!  Stop it!  Who are you?\\nHERBERT: I'm your son!\\nFATHER: No, not you.\\nLAUNCELOT: Uh, I am Sir Launcelot, sir.\\nHERBERT: He's come to rescue me, Father.\\nLAUNCELOT: Well, let's not jump to conclusions.\\nFATHER: Did you kill all those guards?\\nLAUNCELOT: Uh...  Oh, yes.  Sorry.\\nFATHER: They cost fifty pounds each!\\nLAUNCELOT: Well, I'm awfully sorry.  Um, I really can explain everything.\\nHERBERT: Don't be afraid of him, Sir Launcelot.  I've got a rope all ready.\\nFATHER: You killed eight wedding guests in all!\\nLAUNCELOT: Well, uh, you see, the thing is, I thought your son was a lady.\\nFATHER: I can understand that.\\nHERBERT: Hurry, Sir Launcelot!  Hurry!\\nFATHER: Shut up!  You only killed the bride's father, that's all!\\nLAUNCELOT: Well, I really didn't mean to...\\nFATHER: Didn't mean to?!  You put your sword right through his head!\\nLAUNCELOT: Oh, dear.  Is he all right?\\nFATHER: You even kicked the bride in the chest!  This is going to cost me a fortune!\\nLAUNCELOT: Well, I can explain.  I was in the forest, um, riding north from Camelot, when I got this note, you see--\\nFATHER: Camelot?  Are you from, uh, Camelot?\\nHERBERT: Hurry, Sir Launcelot!\\nLAUNCELOT: Uh, I am a Knight of King Arthur, sir.\\nFATHER: Very nice castle, Camelot.  Uh, very good pig country...\\nLAUNCELOT: Is it?\\nHERBERT: Hurry!  I'm ready!\\nFATHER: Would you, uh, like to come and have a drink?\\nLAUNCELOT: Well, that-- that's, uh, awfully nice of you, ...\\nHERBERT: I am ready!\\nLAUNCELOT: ... um, I mean to be so understanding. [thonk] Um, ... [woosh] \\nHERBERT: Oooh!\\nLAUNCELOT: ... I'm afraid when I'm in this idiom, I sometimes get a bit, uh, sort of carried away.\\nFATHER: Oh, don't worry about that.\\nHERBERT: Oooh! [splat] \\nSCENE 17:\\nGUESTS: [crying] \\nFATHER: Well, this is the main hall.  We're going to have all this knocked through, and made into one big, uh, living room.\\nGUEST: There he is!\\nFATHER: Oh, bloody hell.\\nLAUNCELOT: Ha ha ha!  Hey!  Ha ha!\\nFATHER: Hold it!  Stop it!  Hold it!  Hold it!  Hold it!  Hold it!  Hold it!  Please!\\nLAUNCELOT: Sorry.  Sorry.  You see what I mean?  I just get carried away.  I'm really most awfully sorry.  Sorry!  Sorry, everyone.\\nGUEST #1: He's killed the best man!\\nGUESTS: [yelling] \\nFATHER: Hold it!  Hold it!  Please!  Hold it!  This is Sir Launcelot from the Court of Camelot, a very brave and influential knight, and my special guest here today.\\nLAUNCELOT: Hello.\\nGUEST: He killed my auntie!\\nGUESTS: [yelling] \\nFATHER: Please!  Please!  This is supposed to be a happy occasion!  Let's not bicker and argue about who killed who.  We are here today to witness the union of two young people in the joyful bond of the holy wedlock.  Unfortunately, one of them, my son Herbert, has just fallen to his death.\\nGUESTS: Oh!  Oh no!\\nFATHER: But I don't want to think I've not lost a son, so much as...  gained a daughter! [clap clap clap] For, since the tragic death of her father--\\nGUEST #2: He's not quite dead!\\nFATHER: Since the near fatal wounding of her father--\\nGUEST #2: He's getting better!\\nFATHER: For, since her own father, who, when he seemed about to recover, suddenly felt the icy hand of death upon him.\\nBRIDE'S FATHER: Uugh!\\nGUEST #2: Oh, he's died!\\nFATHER: And I want his only daughter to look upon me as her old dad, in a very real, and legally binding sense. [clap clap clap] And I feel sure that the merger-- er, the union between the Princess and the brave, but dangerous, Sir Launcelot of Camelot--\\nLAUNCELOT: What?\\nGUEST #2: Look!  The dead Prince!\\nGUESTS: Oooh!  The dead Prince!\\nCONCORDE: He's not quite dead.\\nHERBERT: No, I feel much better.\\nFATHER: You fell out of the Tall Tower, you creep!\\nHERBERT: No, I was saved at the last minute.\\nFATHER: How?!\\nHERBERT: Well, I'll tell you. [music] \\nFATHER: Not like that!  Not like that!  No!  Stop it!\\nGUESTS: [singing] He's going to tell!  He's going to tell! ...\\nFATHER: Shut uuup!\\nGUESTS: [singing] He's going to tell! ...\\nFATHER: Shut up!\\nGUESTS: [singing] He's going to tell! ...\\nFATHER: Shut up!\\nGUESTS: [singing] He's going to tell! ...\\nFATHER: Not like that!\\nGUESTS: [singing] He's going to tell!  He's going to tell!  He's going to tell!  He's going to tell! ...\\nCONCORDE: Quickly, sir!\\nGUESTS: [singing] He's going to tell! ...\\nCONCORDE: Come this way!\\nGUESTS: [singing] He's going to tell!  He's going to tell! ...\\nLAUNCELOT: No!  It's not right for my idiom!\\nGUESTS: [singing] He's going to tell about his great escape...\\nLAUNCELOT: I must escape more...  [sigh] \\nGUESTS: [singing] Oh, he fell a long, long way...\\nCONCORDE: Dramatically, sir?\\nLAUNCELOT: Dramatically!\\nGUESTS: [singing] But he's here with us today...\\nLAUNCELOT: Heee!  Hoa! [crash] Hoo!\\nGUESTS: [singing] What a wonderful escape!\\nLAUNCELOT: Excuse me.  Could, uh-- could somebody give me a push, please\\nSCENE 18: [King Arthur music] [clop clop clop] [rewr!  rewr!  rewr!  rewr!  rewr!  rewr!] \\nARTHUR: Old crone! [rewr!] [music stops] Is there anywhere in this town where we could buy a shrubbery? [dramatic chord] \\nOLD CRONE: Who sent you?\\nARTHUR: The Knights Who Say 'Ni'.\\nCRONE: Aggh!  No!  Never!  We have no shrubberies here.\\nARTHUR: If you do not tell us where we can buy a shrubbery, my friend and I will say...  we will say...  'ni'.\\nCRONE: Agh!  Do your worst!\\nARTHUR: Very well!  If you will not assist us voluntarily, ...  ni!\\nCRONE: No!  Never!  No shrubberies!\\nARTHUR: Ni!\\nCRONE: [cough] \\nBEDEVERE: Nu!\\nARTHUR: No, no, no, no...\\nBEDEVERE: Nu!\\nARTHUR: No, it's not that, it's 'ni'.\\nBEDEVERE: Nu!\\nARTHUR: No, no-- 'ni'.  You're not doing it properly.  No.\\nBEDEVERE: Ni!\\nARTHUR and BEDEVERE: Ni!\\nARTHUR: That's it.  That's it.  You've got it.\\nARTHUR and BEDEVERE: Ni!\\nCRONE: Ohh!\\nBEDEVERE: Ni!\\nARTHUR: Ni!\\nCRONE: Agh!\\nBEDEVERE: Ni!\\nARTHUR: Ni!\\nBEDEVERE: Ni!\\nARTHUR: Ni!\\nBEDEVERE: Ni!\\nROGER THE SHRUBBER: Are you saying 'ni' to that old woman?\\nARTHUR: Erm, yes.\\nROGER: Oh, what sad times are these when passing ruffians can 'ni' at will to old ladies.  There is a pestilence upon this land.  Nothing is sacred. Even those who arrange and design shrubberies are under considerable economic stress at this period in history.\\nARTHUR: Did you say 'shrubberies'?\\nROGER: Yes.  Shrubberies are my trade.  I am a shrubber.  My name is Roger the Shrubber.  I arrange, design, and sell shrubberies.\\nBEDEVERE: Ni!\\nARTHUR: No!  No, no, no!  No\\nSCENE 19:\\nARTHUR: O Knights of Ni, we have brought you your shrubbery.  May we go now?\\nHEAD KNIGHT: It is a good shrubbery.  I like the laurels particularly.  But there is one small problem.\\nARTHUR: What is that?\\nHEAD KNIGHT: We are now...  no longer the Knights Who Say 'Ni'.\\nKNIGHTS OF NI: Ni!  Shh!\\nHEAD KNIGHT: Shh!  We are now the Knights Who Say 'Ecky-ecky-ecky-ecky-pikang-zoop-boing-goodem-zoo-owli-zhiv'.\\nRANDOM: Ni!\\nHEAD KNIGHT: Therefore, we must give you a test.\\nARTHUR: What is this test, O Knights of-- Knights Who 'Til Recently Said 'Ni'?\\nHEAD KNIGHT: Firstly, you must find...  another shrubbery! [dramatic chord] \\nARTHUR: Not another shrubbery!\\nRANDOM: Ni!\\nHEAD KNIGHT: Then, when you have found the shrubbery, you must place it here beside this shrubbery, only slightly higher so you get the two-level effect with a little path running down the middle.\\nKNIGHTS OF NI: A path!  A path!  A path!  Ni!  Shh!  Ni!  Ni!  Ni!  Shh!  Shh! ...\\nHEAD KNIGHT: Then, when you have found the shrubbery, you must cut down the mightiest tree in the forest...  with...  a herring! [dramatic chord] \\nARTHUR: We shall do no such thing!\\nHEAD KNIGHT: Oh, please!\\nARTHUR: Cut down a tree with a herring?  It can't be done.\\nKNIGHTS OF NI: Aaaugh!  Aaaugh!\\nHEAD KNIGHT: Augh!  Ohh!  Don't say that word.\\nARTHUR: What word?\\nHEAD KNIGHT: I cannot tell, suffice to say is one of the words the Knights of Ni cannot hear.\\nARTHUR: How can we not say the word if you don't tell us what it is?\\nKNIGHTS OF NI: Aaaaugh!\\nHEAD KNIGHT: You said it again!\\nARTHUR: What, 'is'?\\nKNIGHTS OF NI: Agh!  No, not 'is'.\\nHEAD KNIGHT: No, not 'is'.  You wouldn't get vary far in life not saying 'is'.\\nKNIGHTS OF NI: No, not 'is'.  Not 'is'.\\nBEDEVERE: My liege, it's Sir Robin!\\nMINSTREL: [singing] Packing it in and packing it up, And sneaking away and buggering up, And chickening out and pissing off home, Yes, bravely he is throwing in the sponge.\\nARTHUR: Sir Robin!\\nROBIN: My liege!  It's good to see you.\\nHEAD KNIGHT: Now he's said the word!  \\nARTHUR: Surely you've not given up your quest for the Holy Grail?\\nMINSTREL: [singing] He is sneaking away and buggering up--\\nROBIN: Shut up!  No, no.  No.  Far from it.\\nHEAD KNIGHT: He said the word again!\\nKNIGHTS OF NI: Aaaaugh!\\nROBIN: I was looking for it.\\nKNIGHTS OF NI: Aaaaugh!\\nROBIN: Uh, here-- here in this forest.\\nARTHUR: No, it is far from this place.\\nKNIGHTS OF NI: Aaaaugh!\\nHEAD KNIGHT: Aaaaugh!  Stop saying the word!  The word...\\nARTHUR: Oh, stop it!\\nKNIGHTS OF NI: ... we cannot hear!\\nHEAD KNIGHT: Ow!  He said it again!\\nARTHUR: Patsy!\\nHEAD KNIGHT: Wait!  I said it!  I said it! [clop clop clop] Ooh!  I said it again!  And there again!  That's three 'it's!  Ohh!\\nKNIGHTS OF NI: Aaaaugh\\nNARRATOR: And so, Arthur and Bedevere and Sir Robin set out on their search to find the enchanter of whom the old man had spoken in scene twenty-four.  Beyond the forest they met Launcelot and Galahad, and there was much rejoicing.\\nKNIGHTS: Yay!  Yay! [woosh] \\nNARRATOR: In the frozen land of Nador, they were forced to eat Robin's minstrels.\\nMINSTREL: [high-pitched] Get back!  Eee!\\nNARRATOR: And there was much rejoicing.\\nKNIGHTS: Yay!\\nNARRATOR: A year passed.\\nCARTOON CHARACTER: [shivering] \\nNARRATOR: Winter changed into Spring.\\nCARTOON CHARACTER: Mmm, nice.\\nNARRATOR: Spring changed into Summer.\\nCARTOON CHARACTER: Oh.  Ahh.\\nNARRATOR: Summer changed back into Winter.\\nCARTOON CHARACTER: Oh?\\nNARRATOR: And Winter gave Spring and Summer a miss and went straight on into Autumn.\\nCARTOON CHARACTER: Aah. [snap] Oh!  Waa!\\nNARRATOR: Until one day..\\nSCENE 20: [King Arthur music] [clop clop clop] [music stops] [boom] \\nKNIGHTS: Eh.  Oh.  See it?  Oh.  Oh.\\nARTHUR: Knights!  Forward! [boom boom boom boom boom] [squeak] [boom boom boom boom] What manner of man are you that can summon up fire without flint or tinder?\\nTIM THE ENCHANTER: I...  am an enchanter.\\nARTHUR: By what name are you known?\\nTIM: There are some who call me...  Tim?\\nARTHUR: Greetings, Tim the Enchanter.\\nTIM: Greetings, King Arthur!\\nARTHUR: You know my name?\\nTIM: I do. [zoosh] You seek the Holy Grail!\\nARTHUR: That is our quest.  You know much that is hidden, O Tim.\\nTIM: Quite. [pweeng boom] [clap clap clap] \\nROBIN: Oh.\\nARTHUR: Yes, we're-- we're looking for the Holy Grail.  Our quest is to find the Holy Grail.\\nKNIGHTS: Yeah.  Yes.  It is.  It is.  Yeah.  Yup.  Yup.  Hm.\\nARTHUR: And so we're-- we're-- we're-- we're looking for it.\\nBEDEVERE: Yes, we are.\\nGALAHAD: Yeah.  \\nROBIN: We are.  We are.\\nBEDEVERE: We have been for some time.\\nROBIN: Ages.\\nBEDEVERE: Umhm.\\nARTHUR: Uh-- uh, so, uh, anything that you could do to, uh-- to help, would be...  very...  helpful.\\nGALAHAD: Look, can you tell us where-- [boom] \\nARTHUR: Fine.  Um, I don't want to waste any more of your time, but, uh, I don't suppose you could, uh, tell us where we might find a, um-- find a, uh-- a, um-- a, uh--\\nTIM: A what...?\\nARTHUR: A g-- a-- a g-- a g-- a-- a g--\\nTIM: A grail?!\\nARTHUR: Yes, I think so.\\nROBIN: Y-- y-- yes.\\nARTHUR: Yes.\\nGALAHAD: Yup.\\nKNIGHTS: That's it...\\nTIM: Yes!\\nROBIN: Oh.\\nARTHUR: Oh.  Thank you.\\nROBIN: Ahh.\\nGALAHAD: Oh.  Fine.\\nARTHUR: Thank you.\\nROBIN: Splendid.\\nKNIGHTS: Aah... [boom pweeng boom boom] \\nARTHUR: Look, um, you're a busy man, uh--\\nTIM: Yes, I can help you find the Holy Grail.\\nKNIGHTS: Oh, thank you.  Oh...\\nTIM: To the north there lies a cave-- the cave of Caerbannog-- wherein, carved in mystic runes upon the very living rock, the last words of Olfin Bedwere of Rheged... [boom] ... make plain the last resting place of the most Holy Grail.\\nARTHUR: Where could we find this cave, O Tim?\\nTIM: Follow.  But!  Follow only if ye be men of valor, for the entrance to this cave is guarded by a creature so foul, so cruel that no man yet has fought with it and lived!  Bones of full fifty men lie strewn about its lair.  So, brave knights, if you do doubt your courage or your strength, come no further, for death awaits you all with nasty, big, pointy teeth.\\nARTHUR: What an eccentric performance\\nSCENE 21: [clop clop clop] [whinny whinny] \\nGALAHAD: They're nervous, sire.\\nARTHUR: Then we'd best leave them here and carry on on foot.  Dis-mount!\\nTIM: Behold the cave of Caerbannog!\\nARTHUR: Right!  Keep me covered.\\nGALAHAD: What with?\\nARTHUR: W-- just keep me covered.\\nTIM: Too late! [dramatic chord] \\nARTHUR: What?\\nTIM: There he is!\\nARTHUR: Where?\\nTIM: There!\\nARTHUR: What, behind the rabbit?\\nTIM: It is the rabbit!\\nARTHUR: You silly sod!\\nTIM: What?\\nARTHUR: You got us all worked up!\\nTIM: Well, that's no ordinary rabbit.\\nARTHUR: Ohh.\\nTIM: That's the most foul, cruel, and bad-tempered rodent you ever set eyes on.\\nROBIN: You tit!  I soiled my armor I was so scared!\\nTIM: Look, that rabbit's got a vicious streak a mile wide; it's a killer!\\nGALAHAD: Get stuffed!\\nTIM: He'll do you up a treat mate!\\nGALAHAD: Oh, yeah?\\nROBIN: You mangy scots git!\\nTIM: I'm warning you!\\nROBIN: What's he do, nibble your bum?\\nTIM: He's got huge, sharp-- eh-- he can leap about-- look at the bones!\\nARTHUR: Go on, Bors.  Chop his head off!\\nBORS: Right!  Silly little bleeder.  One rabbit stew comin' right up!\\nTIM: Look! [squeak] \\nBORS: Aaaugh! [dramatic chord] [clunk] \\nARTHUR: Jesus Christ!\\nTIM: I warned you!\\nROBIN: I done it again!\\nTIM: I warned you, but did you listen to me?  Oh, no, you knew it all, didn't you?  Oh, it's just a harmless little bunny, isn't it?  Well, it's always the same.  I always tell them--\\nARTHUR: Oh, shut up!\\nTIM: Do they listen to me?\\nARTHUR: Right!\\nTIM: Oh, no...\\nKNIGHTS: Charge! [squeak squeak squeak] \\nKNIGHTS: Aaaaugh!, Aaaugh!, etc.\\nARTHUR: Run away!  Run away!\\nKNIGHTS: Run away!  Run away! ...\\nTIM: Ha ha ha ha!  Ha haw haw!  Ha!  Ha ha!\\nARTHUR: Right.  How many did we lose?\\nLAUNCELOT: Gawain.\\nGALAHAD: Ector.\\nARTHUR: And Bors.  That's five.\\nGALAHAD: Three, sir.\\nARTHUR: Three.  Three.  And we'd better not risk another frontal assault.  That rabbit's dynamite.\\nROBIN: Would it help to confuse it if we run away more?\\nARTHUR: Oh, shut up and go and change your armor.\\nGALAHAD: Let us taunt it!  It may become so cross that it will make a mistake.\\nARTHUR: Like what?\\nGALAHAD: Well...  ooh.\\nLAUNCELOT: Have we got bows?\\nARTHUR: No.\\nLAUNCELOT: We have the Holy Hand Grenade.\\nARTHUR: Yes, of course!  The Holy Hand Grenade of Antioch!  'Tis one of the sacred relics Brother Maynard carries with him!  Brother Maynard!  Bring up the Holy Hand Grenade!\\nMONKS: [chanting] Pie Iesu domine, dona eis requiem.  Pie Iesu domine, donaeis requiem.  Pie Iesu domine, dona eis requiem.  Pie Iesu domine, dona eisrequiem.\\nARTHUR: How does it, um-- how does it work?\\nLAUNCELOT: I know not, my liege.\\nARTHUR: Consult the Book of Armaments!\\nBROTHER MAYNARD: Armaments, Chapter Two, verses Nine to Twenty-one.\\nSECOND BROTHER: And Saint Attila raised the hand grenade up on high, saying,'O Lord, bless this thy hand grenade that with it thou mayest blow thine enemies to tiny bits, in thy mercy.' And the Lord did grin, and the people did feast upon the lambs and sloths and carp and anchovies and orangutans and breakfast cereals and fruit bats and large chu--\\nMAYNARD: Skip a bit, Brother.\\nSECOND BROTHER: And the Lord spake, saying, 'First shalt thou take out the Holy Pin.  Then, shalt thou count to three, no more, no less.  Three shalt be the number thou shalt count, and the number of the counting shall be three.  Four shalt thou not count, nor either count thou two, excepting that thou then proceed to three.  Five is right out.  Once the number three, being the third number, be reached, then lobbest thou thy Holy Hand Grenade of Antioch towards thy foe, who, being naughty in my sight, shall snuff it.'\\nMAYNARD: Amen.\\nKNIGHTS: Amen.\\nARTHUR: Right!  One...  two...  five!\\nGALAHAD: Three, sir!\\nARTHUR: Three! [angels sing] [boom] \\nSCENE 22:\\nARTHUR: There!  Look!\\nLAUNCELOT: What does it say?\\nGALAHAD: What language is that?\\nARTHUR: Brother Maynard!  You are a scholar.\\nMAYNARD: It's Aramaic!\\nGALAHAD: Of course!  Joseph of Arimathea!\\nLAUNCELOT: 'Course!\\nARTHUR: What does it say?\\nMAYNARD: It reads, 'Here may be found the last words of Joseph of Arimathea.  He who is valiant and pure of spirit may find the Holy Grail in the Castle of uuggggggh'.\\nARTHUR: What?\\nMAYNARD: '...  the Castle of uuggggggh'.\\nBEDEVERE: What is that?\\nMAYNARD: He must have died while carving it.\\nLAUNCELOT: Oh, come on!\\nMAYNARD: Well, that's what it says.\\nARTHUR: Look, if he was dying, he wouldn't bother to carve 'aaggggh'.  He'd just say it!\\nMAYNARD: Well, that's what's carved in the rock!\\nGALAHAD: Perhaps he was dictating.\\nARTHUR: Oh, shut up.  Well, does it say anything else?\\nMAYNARD: No.  Just, 'uuggggggh'.\\nLAUNCELOT: Aauuggghhh.\\nARTHUR: Aaauggh.\\nBEDEVERE: Do you suppose he meant the Camaaaaaargue?\\nGALAHAD: Where's that?\\nBEDEVERE: France, I think.\\nLAUNCELOT: Isn't there a Saint Aauuuves in Cornwall?\\nARTHUR: No, that's Saint Ives.\\nLAUNCELOT: Oh, yes.  Saint Iiiives.\\nKNIGHTS: Iiiiives.\\nBEDEVERE: Oooohoohohooo!\\nLAUNCELOT: No, no.  'Aauuuuugh', at the back of the throat.  Aauuugh.\\nBEDEVERE: N-- no.  No, no, no, no.  'Oooooooh', in surprise and alarm.\\nLAUNCELOT: Oh, you mean sort of a 'aaaah'!\\nBEDEVERE: Yes, but I-- aaaaaah!\\nARTHUR: Oooh!\\nGALAHAD: My God! [dramatic chord] [roar] \\nMAYNARD: It's the legendary Black Beast of Aaauugh! [Black Beast of Aaauugh eats BROTHER MAYNARD] \\nBEDEVERE: That's it!  That's it!\\nARTHUR: Run away!\\nKNIGHTS: Run away! [roar] Run away!  Run awaaay!  Run awaaaaay! [roar] Keep running! [boom] [roar] Shh!  Shh!  Shh!  Shh!  Shh!  Shh!  Shh!  Shh! ...\\nBEDEVERE: We've lost him. [roar] \\nKNIGHTS: Aagh!\\nNARRATOR: As the horrendous Black Beast lunged forward, escape for Arthur and his knights seemed hopeless, when suddenly, the animator suffered a fatal heart attack.\\nANIMATOR: Ulk! [thump] \\nNARRATOR: The cartoon peril was no more.  The quest for Holy Grail could continue.\\nSCENE 23: [gurgle] \\nGALAHAD: There it is!\\nARTHUR: The Bridge of Death!\\nROBIN: Oh, great.\\nARTHUR: Look!  There's the old man from scene twenty-four!\\nBEDEVERE: What is he doing here?\\nARTHUR: He is the keeper of the Bridge of Death.  He asks each traveller five questions--\\nGALAHAD: Three questions.\\nARTHUR: Three questions.  He who answers the five questions--\\nGALAHAD: Three questions.\\nARTHUR: Three questions may cross in safety.\\nROBIN: What if you get a question wrong?\\nARTHUR: Then you are cast into the Gorge of Eternal Peril.\\nROBIN: Oh, I won't go.\\nGALAHAD: Who's going to answer the questions?\\nARTHUR: Sir Robin!\\nROBIN: Yes?\\nARTHUR: Brave Sir Robin, you go.\\nROBIN: Hey!  I've got a great idea.  Why doesn't Launcelot go?\\nLAUNCELOT: Yes.  Let me go, my liege.  I will take him single-handed.  I shall make a feint to the north-east that s--\\nARTHUR: No, no.  No.  Hang on!  Hang on!  Hang on!  Just answer the five questions--\\nGALAHAD: Three questions.\\nARTHUR: Three questions as best you can.  And we shall watch...  and pray.\\nLAUNCELOT: I understand, my liege.\\nARTHUR: Good luck, brave Sir Launcelot.  God be with you.\\nBRIDGEKEEPER: Stop!  Who would cross the Bridge of Death must answer me these questions three, ere the other side he see.\\nLAUNCELOT: Ask me the questions, bridgekeeper.  I am not afraid.\\nBRIDGEKEEPER: What is your name?\\nLAUNCELOT: My name is Sir Launcelot of Camelot.\\nBRIDGEKEEPER: What is your quest?\\nLAUNCELOT: To seek the Holy Grail.\\nBRIDGEKEEPER: What is your favorite color?\\nLAUNCELOT: Blue.\\nBRIDGEKEEPER: Right.  Off you go.\\nLAUNCELOT: Oh, thank you.  Thank you very much.\\nROBIN: That's easy!\\nBRIDGEKEEPER: Stop!  Who approacheth the Bridge of Death must answer me these questions three, ere the other side he see.\\nROBIN: Ask me the questions, bridgekeeper.  I'm not afraid.\\nBRIDGEKEEPER: What is your name?\\nROBIN: Sir Robin of Camelot.\\nBRIDGEKEEPER: What is your quest?\\nROBIN: To seek the Holy Grail.\\nBRIDGEKEEPER: What is the capital of Assyria?\\nROBIN: I don't know that!  Auuuuuuuugh!\\nBRIDGEKEEPER: Stop!  What is your name?\\nGALAHAD: Sir Galahad of Camelot.\\nBRIDGEKEEPER: What is your quest?\\nGALAHAD: I seek the Grail.\\nBRIDGEKEEPER: What is your favorite color?\\nGALAHAD: Blue.  No yel-- auuuuuuuugh!\\nBRIDGEKEEPER: Hee hee heh.  Stop!  What is your name?\\nARTHUR: It is Arthur, King of the Britons.\\nBRIDGEKEEPER: What is your quest?\\nARTHUR: To seek the Holy Grail.\\nBRIDGEKEEPER: What is the air-speed velocity of an unladen swallow?\\nARTHUR: What do you mean?  An African or European swallow?\\nBRIDGEKEEPER: Huh?  I-- I don't know that!  Auuuuuuuugh!\\nBEDEVERE: How do know so much about swallows?\\nARTHUR: Well, you have to know these things when you're a king, you know. [suspenseful music] [music suddenly stops] [intermission] [suspenseful music resumes]\\nSCENE 24:\\nARTHUR: Launcelot!  Launcelot!  Launcelot!\\nBEDEVERE: Launcelot!  Launcelot!\\nARTHUR: Launcelot! [police radio] Launcelot!\\nBEDEVERE: Launcelot!  Launcelot! [angels sing] [singing stops] [ethereal music] \\nARTHUR: The Castle Aaagh.  Our quest is at an end!  God be praised!  Almighty God, we thank Thee that Thou hast vouchsafed to us the most holy-- [twong] [baaaa] Jesus Christ! [thud] \\nFRENCH GUARD: Allo, dappy English k-niggets and Monsieur Arthur King, who has the brain of a duck, you know.  So, we French fellows outwit you a second time!\\nARTHUR: How dare you profane this place with your presence!  I command you, in the name of the Knights of Camelot, to open the doors of this sacred castle, to which God Himself has guided us!\\nFRENCH GUARD: How you English say, 'I one more time, mac, unclog my nose in your direction', sons of a window-dresser!  So, you think you could out-clever us French folk with your silly knees-bent running about advancing behaviour?!  I wave my private parts at your aunties, you cheesy lot of second hand electric donkey-bottom biters.\\nARTHUR: In the name of the Lord, we demand entrance to this sacred castle!\\nFRENCH GUARD: No chance, English bed-wetting types.  I burst my pimples at you and call your door-opening request a silly thing, you tiny-brained wipers of other people's bottoms!\\nARTHUR: If you do not open this door, we shall take this castle by force! [splat] In the name of God and the glory of our-- [splat] \\nFRENCH GUARDS: [laughing] \\nARTHUR: Agh.  Right!  That settles it!\\nFRENCH GUARD: Yes, depart a lot at this time, and cut the approaching any more or we fire arrows at the tops of your heads and make castanets out of your testicles already!  Ha ha haaa ha!\\nARTHUR: Walk away.  Just ignore them.\\nFRENCH GUARD: And now, remain gone, illegitimate-faced bugger-folk!  And, if you think you got a nasty taunting this time, you ain't heard nothing yet, dappy English k-nnniggets!  Thpppt!\\nFRENCH GUARDS: [taunting] \\nARTHUR: We shall attack at once!\\nBEDEVERE: Yes, my liege!\\nARTHUR: Stand by for attack! [exciting music] [music stops] [silence] French persons!\\nFRENCH GUARDS: [taunting] ... Dappy! ...\\nARTHUR: Today the blood of many a valiant knight shall be avenged.  In the name of God, ...\\nFRENCH GUARDS: Hoo hoo!  Ohh, ha ha ha ha ha! ...\\nARTHUR: ... we shall not stop our fight 'til each one of you lies dead, and the Holy Grail returns to those whom God has chosen!\\nFRENCH GUARDS: ... Ha ha ha! ...\\nARTHUR: Charge!\\nARMY OF KNIGHTS: Hooray! [police siren] \\nHISTORIAN'S WIFE: Yes.  They're the ones.  I'm sure.\\nINSPECTOR: Come on.  Anybody armed must go too.\\nOFFICER #1: All right.  Come on.  Back.\\nHISTORIAN'S WIFE: Get that one.\\nOFFICER #1: Back.  Right away.  Just...  pull it off.  Come on.  Come along.\\nINSPECTOR: Put this man in the van.\\nOFFICER #1: Clear off.  Come on.\\nBEDEVERE: With whom?\\nINSPECTOR: Which one?\\nOFFICER #1: Oh-- this one.\\nINSPECTOR: Come on.  Put him in the van.\\nOFFICER #2: Get a blanket.\\nOFFICER #1: We have no hospital.\\nRANDOM: Ahh. [squeak] \\nRANDOM: Ooh.\\nOFFICER #1: Come on.  Back.  Riiight back.  Come on!\\nOFFICER #2: Run along!  Run along!\\nOFFICER #1: Pull that off.  My, that's an offensive weapon, that is.\\nOFFICER #2: Come on.  Back with 'em.  Back.  Right.  Come along.\\nINSPECTOR: Everything? [squeak] \\nOFFICER #1: All right, sonny.  That's enough.  Just pack that in. [crash] \\nCAMERAMAN: Christ!\""
      ]
     },
     "execution_count": 11,
     "metadata": {},
     "output_type": "execute_result"
    }
   ],
   "source": [
    "scene_one"
   ]
  },
  {
   "cell_type": "code",
   "execution_count": 12,
   "metadata": {
    "ExecuteTime": {
     "end_time": "2020-12-22T20:18:43.890353Z",
     "start_time": "2020-12-22T20:18:43.878071Z"
    }
   },
   "outputs": [
    {
     "name": "stdout",
     "output_type": "stream",
     "text": [
      "<re.Match object; span=(0, 7), match='ARTHUR:'>\n"
     ]
    }
   ],
   "source": [
    "# Find the script notation at the beginning of the fourth sentence and print it\n",
    "pattern2 = r\"[\\w\\s]+:\"\n",
    "print(re.match(pattern2, sentences[3]))"
   ]
  }
 ],
 "metadata": {
  "kernelspec": {
   "display_name": "Python 3",
   "language": "python",
   "name": "python3"
  },
  "language_info": {
   "codemirror_mode": {
    "name": "ipython",
    "version": 3
   },
   "file_extension": ".py",
   "mimetype": "text/x-python",
   "name": "python",
   "nbconvert_exporter": "python",
   "pygments_lexer": "ipython3",
   "version": "3.7.6"
  },
  "latex_envs": {
   "LaTeX_envs_menu_present": true,
   "autoclose": true,
   "autocomplete": true,
   "bibliofile": "biblio.bib",
   "cite_by": "apalike",
   "current_citInitial": 1,
   "eqLabelWithNumbers": true,
   "eqNumInitial": 1,
   "hotkeys": {
    "equation": "Ctrl-E",
    "itemize": "Ctrl-I"
   },
   "labels_anchors": false,
   "latex_user_defs": false,
   "report_style_numbering": true,
   "user_envs_cfg": true
  },
  "nbTranslate": {
   "displayLangs": [
    "*"
   ],
   "hotkey": "alt-t",
   "langInMainMenu": true,
   "sourceLang": "en",
   "targetLang": "fr",
   "useGoogleTranslate": true
  },
  "toc": {
   "base_numbering": 1,
   "nav_menu": {},
   "number_sections": true,
   "sideBar": true,
   "skip_h1_title": false,
   "title_cell": "Table of Contents",
   "title_sidebar": "Contents",
   "toc_cell": false,
   "toc_position": {
    "height": "calc(100% - 180px)",
    "left": "10px",
    "top": "150px",
    "width": "288px"
   },
   "toc_section_display": true,
   "toc_window_display": true
  },
  "varInspector": {
   "cols": {
    "lenName": 16,
    "lenType": 16,
    "lenVar": 40
   },
   "kernels_config": {
    "python": {
     "delete_cmd_postfix": "",
     "delete_cmd_prefix": "del ",
     "library": "var_list.py",
     "varRefreshCmd": "print(var_dic_list())"
    },
    "r": {
     "delete_cmd_postfix": ") ",
     "delete_cmd_prefix": "rm(",
     "library": "var_list.r",
     "varRefreshCmd": "cat(var_dic_list()) "
    }
   },
   "types_to_exclude": [
    "module",
    "function",
    "builtin_function_or_method",
    "instance",
    "_Feature"
   ],
   "window_display": true
  }
 },
 "nbformat": 4,
 "nbformat_minor": 4
}
