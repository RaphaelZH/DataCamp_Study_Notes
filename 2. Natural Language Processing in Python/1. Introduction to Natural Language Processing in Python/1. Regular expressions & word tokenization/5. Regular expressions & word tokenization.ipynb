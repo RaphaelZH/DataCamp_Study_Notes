{
 "cells": [
  {
   "cell_type": "markdown",
   "metadata": {
    "ExecuteTime": {
     "end_time": "2020-07-24T11:20:21.989524Z",
     "start_time": "2020-07-24T11:20:12.960881Z"
    }
   },
   "source": [
    "```\n",
    "#############################################\n",
    "##                                         ##\n",
    "##  Natural Language Processing in Python  ##\n",
    "##                                         ##\n",
    "#############################################\n",
    "\n",
    "§1 Introduction to Natural Language Processing in Python\n",
    "\n",
    "§1.1 Regular expressions & word tokenization\n",
    "```"
   ]
  },
  {
   "cell_type": "markdown",
   "metadata": {},
   "source": [
    "# Introduction to regular expressions"
   ]
  },
  {
   "cell_type": "markdown",
   "metadata": {},
   "source": [
    "## What exactly are regular expressions?\n",
    "\n",
    "* Strings with a special syntax\n",
    "\n",
    "* Allow matching patterns in other strings, e.g., \n",
    "\n",
    "    * *find all web links in a document*\n",
    "    \n",
    "    * *parse email addresses*\n",
    "    \n",
    "    * *remove/replace unwanted characters*"
   ]
  },
  {
   "cell_type": "markdown",
   "metadata": {},
   "source": [
    "## Code of the applications of regular expressions:"
   ]
  },
  {
   "cell_type": "code",
   "execution_count": 1,
   "metadata": {
    "ExecuteTime": {
     "end_time": "2021-01-01T23:22:19.370679Z",
     "start_time": "2021-01-01T23:22:19.310865Z"
    }
   },
   "outputs": [
    {
     "data": {
      "text/plain": [
       "<re.Match object; span=(0, 3), match='abc'>"
      ]
     },
     "execution_count": 1,
     "metadata": {},
     "output_type": "execute_result"
    }
   ],
   "source": [
    "import re\n",
    "\n",
    "re.match('abc', 'abcdef')"
   ]
  },
  {
   "cell_type": "code",
   "execution_count": 2,
   "metadata": {
    "ExecuteTime": {
     "end_time": "2021-01-01T23:22:19.379482Z",
     "start_time": "2021-01-01T23:22:19.374760Z"
    }
   },
   "outputs": [
    {
     "data": {
      "text/plain": [
       "<re.Match object; span=(0, 2), match='hi'>"
      ]
     },
     "execution_count": 2,
     "metadata": {},
     "output_type": "execute_result"
    }
   ],
   "source": [
    "word_regex = '\\w+'\n",
    "re.match(word_regex, 'hi there!')"
   ]
  },
  {
   "cell_type": "markdown",
   "metadata": {},
   "source": [
    "## What are the common regex patterns?\n",
    "\n",
    "![Common regex patterns](ref1.%20Common%20regex%20patterns.jpg)"
   ]
  },
  {
   "cell_type": "markdown",
   "metadata": {},
   "source": [
    "## How to use Python's `re` module?\n",
    "\n",
    "* `re` module:\n",
    "\n",
    "    * `split`: split a string on regex\n",
    "    \n",
    "    * `findall`: find all pa erns in a string\n",
    "    \n",
    "    * `search`: search for a pattern\n",
    "    \n",
    "    * `match`: match an entire string or substring based on a pattern\n",
    "\n",
    "* Parameterize the pattern first and parameterize the string second.\n",
    "\n",
    "* May return an iterator, string, or match object."
   ]
  },
  {
   "cell_type": "markdown",
   "metadata": {},
   "source": [
    "## Code of Python's `re` module:"
   ]
  },
  {
   "cell_type": "code",
   "execution_count": 3,
   "metadata": {
    "ExecuteTime": {
     "end_time": "2021-01-01T23:22:20.496747Z",
     "start_time": "2021-01-01T23:22:20.490338Z"
    }
   },
   "outputs": [
    {
     "data": {
      "text/plain": [
       "['Split', 'on', 'spaces.']"
      ]
     },
     "execution_count": 3,
     "metadata": {},
     "output_type": "execute_result"
    }
   ],
   "source": [
    "re.split('\\s+', 'Split on spaces.')"
   ]
  },
  {
   "cell_type": "markdown",
   "metadata": {},
   "source": [
    "## Practice question for finding out the corresponding pattern:\n",
    "\n",
    "* Which of the following regex patterns results in the following text?\n",
    "\n",
    "    ```\n",
    "    >>> my_string = \"Let's write RegEx!\"\n",
    "    >>> re.findall(PATTERN, my_string)\n",
    "    ['Let', 's', 'write', 'RegEx']\n",
    "    ```\n",
    "\n",
    "    $\\Box$ `PATTERN = r\"\\s+\"`.\n",
    "\n",
    "    $\\boxtimes$ `PATTERN = r\"\\w+\"`.\n",
    "    \n",
    "    $\\Box$ `PATTERN = r\"[a-z]\"`.\n",
    "        \n",
    "    $\\Box$ `PATTERN = r\"\\w\"`."
   ]
  },
  {
   "cell_type": "markdown",
   "metadata": {},
   "source": [
    "$\\blacktriangleright$ **Package pre-loading:**"
   ]
  },
  {
   "cell_type": "code",
   "execution_count": 4,
   "metadata": {
    "ExecuteTime": {
     "end_time": "2021-01-01T23:22:21.358912Z",
     "start_time": "2021-01-01T23:22:21.298577Z"
    }
   },
   "outputs": [],
   "source": [
    "import re"
   ]
  },
  {
   "cell_type": "markdown",
   "metadata": {},
   "source": [
    "$\\blacktriangleright$ **Data pre-loading:**"
   ]
  },
  {
   "cell_type": "code",
   "execution_count": 5,
   "metadata": {
    "ExecuteTime": {
     "end_time": "2021-01-01T23:22:21.657894Z",
     "start_time": "2021-01-01T23:22:21.649675Z"
    }
   },
   "outputs": [],
   "source": [
    "my_string = \"Let's write RegEx!\""
   ]
  },
  {
   "cell_type": "markdown",
   "metadata": {},
   "source": [
    "$\\blacktriangleright$ **Question-solving method:**"
   ]
  },
  {
   "cell_type": "code",
   "execution_count": 6,
   "metadata": {
    "ExecuteTime": {
     "end_time": "2021-01-01T23:22:22.165182Z",
     "start_time": "2021-01-01T23:22:22.156069Z"
    }
   },
   "outputs": [
    {
     "data": {
      "text/plain": [
       "[' ', ' ']"
      ]
     },
     "execution_count": 6,
     "metadata": {},
     "output_type": "execute_result"
    }
   ],
   "source": [
    "PATTERN = r\"\\s+\"\n",
    "re.findall(PATTERN, my_string)"
   ]
  },
  {
   "cell_type": "code",
   "execution_count": 7,
   "metadata": {
    "ExecuteTime": {
     "end_time": "2021-01-01T23:22:22.207915Z",
     "start_time": "2021-01-01T23:22:22.199629Z"
    }
   },
   "outputs": [
    {
     "data": {
      "text/plain": [
       "['Let', 's', 'write', 'RegEx']"
      ]
     },
     "execution_count": 7,
     "metadata": {},
     "output_type": "execute_result"
    }
   ],
   "source": [
    "PATTERN = r\"\\w+\"\n",
    "re.findall(PATTERN, my_string)"
   ]
  },
  {
   "cell_type": "code",
   "execution_count": 8,
   "metadata": {
    "ExecuteTime": {
     "end_time": "2021-01-01T23:22:22.273222Z",
     "start_time": "2021-01-01T23:22:22.263837Z"
    }
   },
   "outputs": [
    {
     "data": {
      "text/plain": [
       "['e', 't', 's', 'w', 'r', 'i', 't', 'e', 'e', 'g', 'x']"
      ]
     },
     "execution_count": 8,
     "metadata": {},
     "output_type": "execute_result"
    }
   ],
   "source": [
    "PATTERN = r\"[a-z]\"\n",
    "re.findall(PATTERN, my_string)"
   ]
  },
  {
   "cell_type": "code",
   "execution_count": 9,
   "metadata": {
    "ExecuteTime": {
     "end_time": "2021-01-01T23:22:22.357202Z",
     "start_time": "2021-01-01T23:22:22.348719Z"
    }
   },
   "outputs": [
    {
     "data": {
      "text/plain": [
       "['L', 'e', 't', 's', 'w', 'r', 'i', 't', 'e', 'R', 'e', 'g', 'E', 'x']"
      ]
     },
     "execution_count": 9,
     "metadata": {},
     "output_type": "execute_result"
    }
   ],
   "source": [
    "PATTERN = r\"\\w\"\n",
    "re.findall(PATTERN, my_string)"
   ]
  },
  {
   "cell_type": "markdown",
   "metadata": {},
   "source": [
    "## Practice exercises for introduction to regular expressions:\n",
    "\n",
    "$\\blacktriangleright$ **Package pre-loading:**"
   ]
  },
  {
   "cell_type": "code",
   "execution_count": 10,
   "metadata": {
    "ExecuteTime": {
     "end_time": "2021-01-01T23:22:22.834871Z",
     "start_time": "2021-01-01T23:22:22.831520Z"
    }
   },
   "outputs": [],
   "source": [
    "import re"
   ]
  },
  {
   "cell_type": "markdown",
   "metadata": {},
   "source": [
    "$\\blacktriangleright$ **Data pre-loading:**"
   ]
  },
  {
   "cell_type": "code",
   "execution_count": 11,
   "metadata": {
    "ExecuteTime": {
     "end_time": "2021-01-01T23:22:23.296365Z",
     "start_time": "2021-01-01T23:22:23.292376Z"
    }
   },
   "outputs": [],
   "source": [
    "my_string = \"Let's write RegEx!  \\\n",
    "Won't that be fun?  \\\n",
    "I sure think so.  \\\n",
    "Can you find 4 sentences?  \\\n",
    "Or perhaps, all 19 words?\""
   ]
  },
  {
   "cell_type": "markdown",
   "metadata": {
    "ExecuteTime": {
     "end_time": "2020-12-19T22:02:33.692343Z",
     "start_time": "2020-12-19T22:02:33.687220Z"
    }
   },
   "source": [
    "$\\blacktriangleright$ **Regular expressions (`re.split()` and `re.findall()`) practice:**"
   ]
  },
  {
   "cell_type": "code",
   "execution_count": 12,
   "metadata": {
    "ExecuteTime": {
     "end_time": "2021-01-01T23:22:23.794972Z",
     "start_time": "2021-01-01T23:22:23.751427Z"
    }
   },
   "outputs": [
    {
     "name": "stdout",
     "output_type": "stream",
     "text": [
      "[\"Let's write RegEx\", \"  Won't that be fun\", '  I sure think so', '  Can you find 4 sentences', '  Or perhaps, all 19 words', '']\n",
      "['Let', 'RegEx', 'Won', 'Can', 'Or']\n",
      "[\"Let's\", 'write', 'RegEx!', \"Won't\", 'that', 'be', 'fun?', 'I', 'sure', 'think', 'so.', 'Can', 'you', 'find', '4', 'sentences?', 'Or', 'perhaps,', 'all', '19', 'words?']\n",
      "['4', '19']\n"
     ]
    }
   ],
   "source": [
    "# Write a pattern to match sentence endings: sentence_endings\n",
    "sentence_endings = r\"[\\.\\?!]\"\n",
    "\n",
    "# Split my_string on sentence endings and print the result\n",
    "print(re.split(sentence_endings, my_string))\n",
    "\n",
    "# Find all capitalized words in my_string and print the result\n",
    "capitalized_words = r\"[A-Z]\\w+\"\n",
    "print(re.findall(capitalized_words, my_string))\n",
    "\n",
    "# Split my_string on spaces and print the result\n",
    "spaces = r\"\\s+\"\n",
    "print(re.split(spaces, my_string))\n",
    "\n",
    "# Find all digits in my_string and print the result\n",
    "digits = r\"\\d+\"\n",
    "print(re.findall(digits, my_string))"
   ]
  },
  {
   "cell_type": "markdown",
   "metadata": {
    "ExecuteTime": {
     "end_time": "2020-07-24T11:20:21.989524Z",
     "start_time": "2020-07-24T11:20:12.960881Z"
    }
   },
   "source": [
    "```\n",
    "#############################################\n",
    "##                                         ##\n",
    "##  Natural Language Processing in Python  ##\n",
    "##                                         ##\n",
    "#############################################\n",
    "\n",
    "§1 Introduction to Natural Language Processing in Python\n",
    "\n",
    "§1.1 Regular expressions & word tokenization\n",
    "```"
   ]
  },
  {
   "cell_type": "markdown",
   "metadata": {},
   "source": [
    "# Introduction to tokenization"
   ]
  },
  {
   "cell_type": "markdown",
   "metadata": {},
   "source": [
    "## What is tokenization?\n",
    "\n",
    "* It turns a string or document into tokens (smaller chunks).\n",
    "\n",
    "* It's one step in preparing a text for NLP.\n",
    "\n",
    "* It has many different theories and rules.\n",
    "\n",
    "* Users can create their own rules using regular expressions.\n",
    "\n",
    "* There are some examples:\n",
    "\n",
    "\t* *breaking out words or sentences*\n",
    "    \n",
    "\t* *separating punctuation*\n",
    "    \n",
    "\t* *separating all hashtags in a tweet*"
   ]
  },
  {
   "cell_type": "markdown",
   "metadata": {},
   "source": [
    "## What is the NLTK library?\n",
    "\n",
    "* NLTK: Natural Language Toolkit"
   ]
  },
  {
   "cell_type": "markdown",
   "metadata": {},
   "source": [
    "## Code of the NLTK library:"
   ]
  },
  {
   "cell_type": "code",
   "execution_count": 13,
   "metadata": {
    "ExecuteTime": {
     "end_time": "2021-01-01T23:22:30.659624Z",
     "start_time": "2021-01-01T23:22:25.741158Z"
    }
   },
   "outputs": [
    {
     "data": {
      "text/plain": [
       "['Hi', 'there', '!']"
      ]
     },
     "execution_count": 13,
     "metadata": {},
     "output_type": "execute_result"
    }
   ],
   "source": [
    "from nltk.tokenize import word_tokenize\n",
    "\n",
    "word_tokenize(\"Hi there!\")"
   ]
  },
  {
   "cell_type": "markdown",
   "metadata": {
    "ExecuteTime": {
     "end_time": "2020-12-20T20:08:55.570909Z",
     "start_time": "2020-12-20T20:08:55.565185Z"
    }
   },
   "source": [
    "## Why tokenize?\n",
    "\n",
    "* Easier to map part of speech.\n",
    "\n",
    "* To match common words.\n",
    "\n",
    "* To remove unwanted tokens.\n",
    "\n",
    "* E.g., \n",
    "\n",
    "    ```\n",
    "    >>> word_tokenize(\"I don't like Sam's shoes.\")\n",
    "    ['I', 'do', \"n't\", 'like', 'Sam', \"'s\", 'shoes', '.']\n",
    "    ```"
   ]
  },
  {
   "cell_type": "markdown",
   "metadata": {},
   "source": [
    "## What are the other NLTK tokenizers?\n",
    "\n",
    "* `sent_tokenize`: tokenize a document into sentences.\n",
    "\n",
    "* `regexp_tokenize`: tokenize a string or document based on a regular expression pattern.\n",
    "\n",
    "* `TweetTokenizer`: special class just for tweet tokenization, allowing separate hashtags, mentions, and lots of exclamation points, such as '!!!'."
   ]
  },
  {
   "cell_type": "markdown",
   "metadata": {},
   "source": [
    "## Code of regex practice (the difference between `re.search()` and `re.match()`):"
   ]
  },
  {
   "cell_type": "code",
   "execution_count": 14,
   "metadata": {
    "ExecuteTime": {
     "end_time": "2021-01-01T23:22:30.677661Z",
     "start_time": "2021-01-01T23:22:30.670344Z"
    }
   },
   "outputs": [
    {
     "data": {
      "text/plain": [
       "<re.Match object; span=(0, 3), match='abc'>"
      ]
     },
     "execution_count": 14,
     "metadata": {},
     "output_type": "execute_result"
    }
   ],
   "source": [
    "import re\n",
    "\n",
    "re.match('abc', 'abcde')"
   ]
  },
  {
   "cell_type": "code",
   "execution_count": 15,
   "metadata": {
    "ExecuteTime": {
     "end_time": "2021-01-01T23:22:30.698391Z",
     "start_time": "2021-01-01T23:22:30.685981Z"
    }
   },
   "outputs": [
    {
     "data": {
      "text/plain": [
       "<re.Match object; span=(0, 3), match='abc'>"
      ]
     },
     "execution_count": 15,
     "metadata": {},
     "output_type": "execute_result"
    }
   ],
   "source": [
    "re.search('abc', 'abcde')"
   ]
  },
  {
   "cell_type": "code",
   "execution_count": 16,
   "metadata": {
    "ExecuteTime": {
     "end_time": "2021-01-01T23:22:30.727965Z",
     "start_time": "2021-01-01T23:22:30.722712Z"
    }
   },
   "outputs": [],
   "source": [
    "re.match('cd', 'abcde')"
   ]
  },
  {
   "cell_type": "code",
   "execution_count": 17,
   "metadata": {
    "ExecuteTime": {
     "end_time": "2021-01-01T23:22:30.744267Z",
     "start_time": "2021-01-01T23:22:30.734322Z"
    }
   },
   "outputs": [
    {
     "data": {
      "text/plain": [
       "<re.Match object; span=(2, 4), match='cd'>"
      ]
     },
     "execution_count": 17,
     "metadata": {},
     "output_type": "execute_result"
    }
   ],
   "source": [
    "re.search('cd', 'abcde')"
   ]
  },
  {
   "cell_type": "markdown",
   "metadata": {},
   "source": [
    "## Practice exercises for introduction to tokenization:\n",
    "\n",
    "$\\blacktriangleright$ **Data pre-loading:**"
   ]
  },
  {
   "cell_type": "code",
   "execution_count": 18,
   "metadata": {
    "ExecuteTime": {
     "end_time": "2021-01-01T23:22:30.766205Z",
     "start_time": "2021-01-01T23:22:30.754933Z"
    }
   },
   "outputs": [],
   "source": [
    "scene_one = open(\"ref2. Monty Python and the Holy Grail.txt\").read()"
   ]
  },
  {
   "cell_type": "markdown",
   "metadata": {
    "ExecuteTime": {
     "end_time": "2020-12-19T22:02:33.692343Z",
     "start_time": "2020-12-19T22:02:33.687220Z"
    }
   },
   "source": [
    "$\\blacktriangleright$ **NLTK word tokenization with practice:**"
   ]
  },
  {
   "cell_type": "code",
   "execution_count": 19,
   "metadata": {
    "ExecuteTime": {
     "end_time": "2021-01-01T23:22:31.425435Z",
     "start_time": "2021-01-01T23:22:30.780600Z"
    }
   },
   "outputs": [
    {
     "name": "stdout",
     "output_type": "stream",
     "text": [
      "{'Which', 'up', 'footwork', 'heads', 'working', 'boys', 'bad', 'Angnor', 'mate', 'carry', 'mystic', 'GUARDS', 'favorite', 'Anthrax', 'pure', \"'Til\", 'they', 'whoever', 'water', 'Right', 'climes', 'unclog', 'domine', 'sacred', 'goes', 'must', 'but', 'Ooh', 'feint', 'Hooray', 'donaeis', 'gurgle', 'actually', 'wan', 'meant', ']', 'blessing', 'MINSTREL', 'in', 'mistake', 'Aaah', 'taking', 'Augh', 'girl', 'avenged', 'examine', 'Skip', 'obviously', 'door', 'oh', 'pounds', 'Aaauugh', 'anchovies', 'shall', 'spam', 'seems', 'Huy', 'doing', 'four', 'unarmed', 'body', 'centuries', 'brought', 'watery', 'k-niggets', 'perilous', 'stress', 'suggesting', 'fwump', 'committed', 'clllank', 'huge', 'behold', 'conclusions', 'True', 'repressed', 'pray', 'daughter', 'identical', \"'is\", 'open', 'Walk', 'perpetuates', 'force', 'rest', 'employed', 'music', 'called', 'awhile', 'crash', 'i', 'throughout', 'Yup', 'death', 'beds', 'fallen', 'Very', 'hospital', 'wedding', 'smack', 'Dennis', 'tonight', 'ANIMATOR', 'comin', 'VOICE', 'illustrious', 'French', 'wedlock', 'Silence', 'fellows', 'rescue', 'cheesy', 'line', 'yelling', 'singing', 'without', 'spank', 'Aaagh', 'after', 'Court', 'Anyway', 'glass', 'knights', 'Blue', 'Gable', 'burn', 'chance', 'daring', 'dona', 'setting', 'keep', 'pussy', 'pay', 'Never', 'Nothing', \"d'you\", 'Round', 'Dragon', 'CAMERAMAN', 'who', 'wounded', 'Packing', 'Firstly', 'wise', 'Thy', 'Lady', 'Aaaaaaaaah', 'Beyond', 'worried', 'everything', 'waste', 'clunk', 'chickened', 'lads', 'um', 'Whoa', 'carried', 'That', 'trade', 'e', 'sun', 'blanket', 'bats', 'known', 'large', 'My', 'single-handed', 'leave', 'dorsal', 'into', 'farcical', 'liver', 'favor', \"'T\", '8', 'elderberries', 'search', 'swallows', 'act', 'KNIGHTS', 'Quickly', 'sworn', 'high-pitched', 'someone', 'ROBIN', 'Winter', \"e'er\", 'thirty-seven', 'DINGO', 'headed', 'accomplished', 'twenty-four', 'Pie', 'ungallant', 'sir', 'mangled', 'you', 'bite', 'If', 'wings', 'aside', 'least', 'interested', 'sonny', 'is', 'yel', 'Ha', 'crossed', 'Ay', 'Aramaic', 'Recently', 'listen', 'Bors', 'enjoying', 'rodent', 'mad', 'late', 'power', 'beacon', 'donkey-bottom', 'verses', 'kneecaps', 'LEFT', 'underwear', 'Assyria', 'die', 'Nay', 'internal', 'hello', 'splat', 'SIR', 'successful', 'Shall', 'OTHER', 'ever', 'eis', 'CRONE', 'varletesses', 'BORS', 'help', 'afraid', 'Arimathea', 'foot', 'Consult', 'hell', '16', 'bless', 'third', 'yellow', 'curtains', 'aquatic', 'mashed', 'Rather', 'fifty', 'taunt', 'magne', 'lying', 'Aaaaaah', 'being', 'scimitar', 'than', 'silence', 'hamster', 'dressed', \"'Morning\", 'Today', 'tackle', 'cart', 'laurels', 'herring', 'smashing', 'For', 'bastards', 'packing', 'maintain', 'Death', 'for', 'north-east', \"'ve\", 'pansy', 'cadeau', 'starling', 'logically', 'carving', 'PERSON', 'To', 'writing', 'plain', 'again', 'chest', 'keeper', 'a', 'hospitality', 'bride', 'clap', 'each', 'temperate', 'lobbest', 'foe', 'gallantly', 'feet', 'travellers', 'At', 'gra', 'nasty', 'such', 'African', 'will', 'Alright', 'resumes', 'hee', 'The', 'repressing', 'father', 'haste', 'excepting', 'oui', 'derives', 'found', 'limbs', 'strange', 'yours', 'nearly', 'Hiyaah', 'great', 'sneaking', 'Say', 'and', 'Oui', 'two-level', 'passed', 'bridgekeeper', 'mightiest', 'there', 'worked', 'Back', 'WITCH', 'imperialist', 'vary', 'am', 'with', 'Providence', 'off', 'chosen', 'creak', 'required', 'Un', ';', 'those', 'soft', 'ptoo', 'behind', 'hidden', 'far', 'tiny', 'One', 'unplugged', 'BRIDE', 'Put', 'design', 'giggle', 'nervous', '--', 'eat', 'scenes', 'throwing', 'much', 'society', 'badger', 'town', 'beyond', 'simple', 'yes', 'many', 'FRENCH', 'stood', 'LOVELY', 'resting', 'Mud', 'U', 'Shut', 'best', '20', 'anyone', 'please', 'ehh', 'masses', 'guiding', 'Gawain', 'then', 'Try', 'depressing', 'pack', 'died', 'nostrils', 'mean', 'sheep', 'Haw', 'She', 'started', 'give', 'ROGER', 'court', 'right', \"'Oooooooh\", 'Grenade', 'follow', 'wipers', 'courage', 'Steady', 'pound', 'MIDDLE', 'duty', 'wave', 'ham', 'own', 'GIRLS', 'CONCORDE', 'Action', 'every', 'ones', 'lunged', 'by', 'wishes', 'English', \"C'est\", 'weight', 'routines', 'witch', 'cry', 'clank', 'aloft', 'ere', 'frozen', 'together', 'Ninepence', 'guards', 'friend', 'buggered', 'only', 'groveling', 'immediately', 'expect', 'science', 'roar', 'what', 'legendary', 'expensive', 'CHARACTERS', 'delirious', 'Waa', 'never', 'Chop', 'Silly', 'Dingo', 'reads', 'Everything', 'Gallahad', 'testicles', 'Every', 'unhealthy', 'officer', 'Summer', 'Umhm', 'eccentric', \"'First\", 'sequin', 'moistened', 'fourth', 'bint', 'flights', 'had', 'SECOND', 'Where', 'knocked', 'wounding', 'could', 'differences', 'parts', 'noise', 'thwonk', 'MIDGET', 'suffice', 'purely', 'no', 'certainly', 'retold', 'gay', 'Most', 'vote', 'settles', 'fart', 'understanding', 'himself', 'depart', 'consulted', 'Bread', 'Quite', 'alarm', 'va.', 'hoo', 'teeth', 'flint', 'ye', 'wet', 'Hang', 'Crapper', 'worthy', 'NI', 'nothing', 'Bad', 'drilllll', 'or', 'minute', 'Launcelot', 'better', 'Hiyya', 'Hmm', 'stone', 'absolutely', 'turns', 'fooling', 'Thppppt', 'once', 'room', 'Huyah', 'u', 'jump', 'color', 'moment', 'my', 'empty', 'Make', 'near', 'There', 'How', 'demand', 'Armaments', 'knew', 'keen', 'sponge', 'wind', 'bicker', 'make', 'made', 'Psalms', 'round', 'idea', 'tear', 'MAN', 'preserving', 'hmm', 'bi-weekly', 'Are', 'grail-shaped', 'clang', 'face', 'Mercea', 'ninepence', 'tale', 'Olfin', 'set', 'are', 'use', 'bird', ',', 'Speak', 'velocity', 'aaaaaah', 'whinny', '23', \"'ni\", 'wicked', 'warned', 'unsingable', 'penalty', 'warning', 'persons', 'wants', 'Aaaaugh', 'stab', 'private', 'brain', 'Eternal', 'trouble', 'test', 'When', 'kill', 'Bristol', 'week', 'weighs', 'whop', 'else', 'fortune', 'bad-tempered', 'SHRUBBER', 'doors', 'soiled', 'bravest', '...', 'just', 'utterly', 'assault', 'its', 'PRINCE', 'swamp', 'says', 'quiet', 'nor', 'entering', 'mayest', 'pass', 'Quiet', 'apart', 'daft', 'ethereal', 'second', 'chickening', 'SENTRY', 'today', 'Explain', 'entrance', 'appease', 'Bravely', 'asking', 'Tower', 'stayed', 'It', 'cartoon', 'Throw', 'Shrubberies', 'heard', 'anarcho-syndicalist', '4', 'Leaving', 'vain', 'oral', 'Oooo', 'build', 'bond', 'outdoors', 'watch', 'ai', 'lonely', 'his', 'tinder', 'us', 'pull', \"'aaggggh\", 'three', 'Bedevere', 'say', 'King', 'Follow', 'tired', 'good', 'SOLDIER', 'saved', 'Said', 'bleeder', 'Bravest', 'Excalibur', 'get', 'newt', 'dramatic', 'sight', 'dine', 'Apples', 'arms', 'animal', 'wiper', 'longer', ')', 'done', 'temptress', 'purpose', 'disheartened', 'Why', 'sink', 'suit', 'previous', 'period', 'time', 'eyes', 'His', 'Far', 'Saxons', 'impeccable', \"'cause\", 'MONKS', 'well', 'c', 'answer', 'task', 'bleed', 'Fiends', 'helpful', 'sense', 'run', \"'Aauuuuugh\", 'wart', 's', 'enough', 'sell', \"'Erbert\", 'supports', 'samite', 'sing', 'clue', 'chu', 'adversary', 'weapon', 'Two', 'able', 'outdated', 'Once', 'Honestly', 'seemed', 'flesh', 'Since', 'totally', 'Off', 'As', 'Sir', 'master', 'Dramatically', 'feast', 'Hello', 'outwit', 'became', 'rocks', 'dying', 'taunting', 'mine', 'castanets', 'ride', 'tail', 'oo', 'floats', 'running', 'ceremony', 'sister', 'suppose', 'dirty', 'haaa', 'Auuuuuuuugh', ':', 'old', 'INSPECTOR', 'slightly', 'man', 'bunny', 'suspenseful', 'bum', 'going', 'Anybody', 'DENNIS', 'bottoms', 'at', 'vache', 'excuse', 'Uuh', 'somewhere', 'already', 'remembered', 'y', 'capital', 'left', 'hat', 'seem', 'BROTHER', 'dragging', 'about', 'deeds', 'afoot', 'retreat', 'table', 'stretched', 'eisrequiem', 'really', 'full', 'Surely', 'gon', 'Piglet', 'vicious', 'given', 'Your', 'LUCKY', \"'aaaah\", 'towards', 'cruel', 'Too', 'Be', 'ratified', 'Picture', 'basic', 'silly', 'Over', 'types', 'bugger-folk', 'k-nnnnniggets', 'Eh', 'until', 'enchanter', 'You', 'rhymes', 'scribble', 'trough', 'so-called', 'of', 'uuggggggh', 'order', 'Do', 'Saint', 'thanks', \"'round\", 'Away', 'vests', 'witness', 'presence', 'bowels', 'banana-shaped', 'ridden', 'Pure', 'bladders', 'fair', 'dictatorship', 'supreme', 'Monsieur', 'union', 'Holy', 'present', \"'shrubberies\", 'ferocity', 'Mmm', 'five', 'worse', 'streak', 'Heh', 'door-opening', '15', 'Meanwhile', 'night', 'way', 'BEDEVERE', 'took', 'mangy', 'sometimes', 'Galahad', 'nose', 'averting', 'mooooooo', 'etc', 'O', 'CRASH', 'PARTY', 'know', 'Fine', 'window-dresser', '13', 'Is', 'Guards', 'blood', 'dress', 'plan', 'castle', 'she', 'Concorde', 'CARTOON', 'RIGHT', 'mud', 'sire', '9', 'proceed', 'request', 'AMAZING', 'Cider', 'either', 'pen', 'amazes', 'Pull', 'confuse', 'bangin', 'raised', 'kneeling', 'TIM', 'safety', 'protect', 'Thee', 'an', 'invincible', 'liar', 'looks', 'to', 'any', 'Hm', 'dark', 'Britain', 'PATSY', 'new', 'Aauuugh', 'Between', 'stupid', 'strand', 'requiem', 'tragic', 'deal', 'pointy', 'special', 'HEAD', 'eight', 'Roger', 'women', 'performance', 'N', 'workers', 'young', 'Wait', 'has', 'Did', 'collective', 'auntie', 'bid', 'havin', \"'uuggggggh\", 'Look', 'non-migratory', 'decision', 'tart', 'Five', 'small', 'Midget', 'spake', \"'To\", 'chord', 'violence', 'uuup', 'bridges', 'pestilence', 'formidable', 'Could', 'Wood', 'Ask', 'b', 'year', 'still', 'thonk', 'CUSTOMER', 'main', 'guarded', 'GUARD', 'Ni', 'course', 'knows', 'Grail', 'used', 'hast', 'kills', 'pram', 'terribly', 'Tale', 'shivering', 'dub', 'kick', 'walk', 'wield', 'discovered', 'see', 'matter', 'miserable', 'threw', 'Build', 'chorus', 'quite', 'g', 'Old', 'sigh', 'MAYNARD', 'manner', 'sloths', 'Churches', 'bows', 'accompanied', 'Robin', 'hiyaah', 'necessary', 'Even', 'grip', 'seen', 'Our', 'remember', 'Must', 'Hallo', 'danger', 'sent', 'sod', 'built', 'armor', 'shut', 'Hold', 'swallow', 'Badon', 'bottom', 'Hey', 'closest', 'Hoa', 'Lancelot', 'dare', 'he', 'said', 'on', 'leaps', 'sweet', 'p', 'apologise', 'smashed', 'Will', 'whether', 'Woa', 'Bedwere', 'along', 'elbows', 'country', 'yourself', 'Alice', 'named', 'defeat', 'majority', 'spooky', 'WINSTON', 'But', 'w', 'knight', 'shrubber', 'forty-three', 'living', 'home', 'head', 'become', 'understand', 'cover', 'minutes', 'Christ', 'Robinson', 'folk', 'Nine', 'considerable', 'Nu', 'tell', 'exciting', 'gouged', 'Man', 'occasion', 'Stop', 'around', 'stop', 'lies', 'path', 'would', 'coconuts', 'king', 'guest', 'discovers', 'owns', 'were', '3', 'met', 'Pin', 'Castle', 'intermission', 'sign', 'sovereign', 'VILLAGERS', 'rrrr', 'Chicken', 'commands', 'kind', 'orangutans', '(', 'put', 'pissing', 'GREEN', 'let', '21', 'shimmering', 'names', 'pulp', 'ready', 'Together', 'ca', 'bravely', 'since', 'kings', 'Cherries', 'Like', 'Tell', 'Hurry', 'spanking', 'tit', \"'m\", 'continue', 'Attila', 'ha', 'lucky', 'later', 'Aggh', 'trumpets', 'wait', 'killer', 'Battle', 'Am', 'if', 'out', 'scots', 'Ector', 'breadth', 'Eee', 'dunno', 'Mind', 'wayy', 'now', 'weather', 'Britons', 'Thppt', 'brunettes', 'pause', 'Joseph', 'n', 'wo', \"'re\", 'Not', 'dogma', 'Burn', 'scarper', 'these', 'scene', 'Um', 'Ohh', 'Beast', 'May', 'Aah', 'I', 'couple', 'bringing', 'Knight', 'commune', 'bridge', 'mumble', 'burst', 'thought', 'frontal', 'CART-MASTER', 'our', 'makes', 'FATHER', \"'old\", 'winter', 'Lake', 'distress', 'carved', 'ways', 'sharp', 'land', 'lord', 'harmless', 'OLD', 'war', 'legs', 'j', 'Defeat', 'wooden', 'God', 'Greetings', 'kicked', 'Nador', 'thump', 'government', 'away', 'Aauuuves', 'ignore', \"'Here\", 'shit', 'humble', 'Bon', 'north', 'RANDOM', 'Schools', 'Stay', 'distributing', 'oooh', 'number', 'might', 'saying', 'brush', 'bit', 'sample', 'Use', 'even', 'stuffed', 'always', 'Keep', 'guard', 'Well', 'scrape', 'Autumn', 'Thsss', 'economic', 'push', 'business', 'nineteen-and-a-half', 'On', 'GOD', 'Antioch', 'icy', 'Aauuggghhh', 'Or', 'sad', 'In', 'quarrel', 'fled', 'dance', 'under', 'armed', 'acting', 'woods', 'Lead', 'false', 'biggest', 'forget', 'husk', 'un', 'spanked', 'meeting', 'Peril', 'Jesus', 'diaphragm', 'we', 'down', 'sex', 'wide', 'lady', 'WIFE', 'Ho', 'vital', 'real', 'ni', 'affairs', \"'sorry\", 'grin', 'spoken', 'buy', 'want', 'medieval', 'Get', 'refuse', 'executive', 'agree', 'aptly', 'less', 'rock', 'scholar', '.', 'beautiful', 'howl', 'idiom', 'grovel', 'married', 'OF', 'sword', 'call', 'bits', 'Order', 'Agh', 'GUESTS', 'Wayy', 'example', 'Forgive', 'They', 'Please', 'lad', 'horn', 'Arthur', 'carve', 'Swamp', 'direction', 'advancing', 'GUEST', 'bois', 'Seek', 'shalt', 'may', 'remain', 'inside', 'split', 'la', 'offensive', 'hundred-and-fifty', 'defeator', 'lose', 'exploiting', 'back', 'personally', 'arrows', 'ladies', 'birds', 'social', 'assist', 'entered', 'strangers', 'this', 'Run', 'word', 'carrying', 'worry', 'zone', 'angels', 'bold', 'worst', 'Mine', 'like', 'ENCHANTER', 'Brother', 'praised', 'Prepare', 'pig', 'major', 'relics', 'time-a', 'handle', 'SUN', 'twin', 'Stand', 'told', 'ho', 'point', 'Shrubber', 'cut', 'What', 'leads', 'Uh', 'Neee-wom', 'move', 'grips', 'rope', 'laughing', 'chops', 'fly', 'treat', 'triumphs', 'covered', \"'Ni\", 'telling', 'THE', 'walking', 'dappy', 'Not-appearing-in-this-film', '[', 'find', 'GALAHAD', 'zoosh', 'case', 'tree', 'recover', 'Those', 'Tall', 'England', 'drink', 'warmer', 'No', 'reared', 'profane', 'from', 'twong', 'awaits', 'jam', 'fatal', 'Hic', 'not', 'grenade', 'knees-bent', 'dungeon', 'KING', 'Camaaaaaargue', 'Mother', 'thing', 'approaching', 'tea', 'nice-a', 'risk', 'Hiyah', 'somebody', 'And', 'islands', 'Found', 'been', 'person', 'high', 'rewr', 'hand', 'air-speed', 'aunties', 'pond', 'Hill', 'enter', 'STUNNER', 'purest', 'Hyy', 'traveller', 'lived', 'ugly', 'marrying', 'holy', 'son', 'almost', 'Y', 'me', 'things', 'quests', 'bitching', 'lambs', 'outside', 'other', 'words', 'effect', 'can', 'supposed', 'everyone', 'mayhem', 'We', 'mooo', 'Frank', 'Until', 'Hoo', 'stand', 'Fetchez', 'Great', 'ran', 'band', 'creeper', 'Charge', 'An', 'lost', '14', 'Bridge', 'bother', 'Brave', '11', 'Allo', 'Lie', 'quick', 'hopeless', 'PRISONER', 'bloody', 'Spring', 'Supreme', 'marry', 'WOMAN', 'forward', 'sort', 'busy', 'Actually', 'Splendid', 'fell', 'Looks', 'learning', 'ZOOT', 'hacked', 'the-not-quite-so-brave-as-Sir-Lancelot', 'spirit', 'most', 'hall', 'whispering', '10', 'Message', 'basis', \"'S\", 'NARRATOR', 'little', 'reasonable', 'warm', 'Who', 'convinced', 'Bones', 'cross', 'awaaaaay', 'last', 'think', 'turned', 'bed', 'Ayy', 'alive', 'nobody', 'shrubbery', 'leg', 'biscuits', 'show', 'people', 'Himself', 'DEAD', 'the', 'give-away', 'forced', 'dead', 'riding', 'guests', 'beat', 'Chickennn', 'got', 'shelter', 'emperor', 'valleys', 'completely', 'snows', 'Herbert', 'indefatigable', 'radio', 'stay', 'clad', 'Lord', 'that', 'therefore', 'filth', '7', 'binding', 'your', 'wrong', 'visually', 'beside', 'Yeah', 'ounce', 'smelt', 'Iiiiives', 'crying', 'largest', 'lair', 'nice', 'undressing', 'gentle', 'Iesu', '!', 'Quick', 'Peng', 'crone', 'shows', 'food', 'system', 'legally', 'training', 'baby', 'impersonate', '24', 'Divine', 'Aagh', 'Of', 'keepers', 'glad', 'Four', 'CROWD', 'rabbit', 'buggering', 'joyful', 'PIGLET', 'horse', 'twang', 'suffered', 'doubt', 'boil', 'Cut', 'fire', 'Heee', 'illegitimate-faced', 'very', 'proved', 'finest', 'Oh', 'dad', 'doctors', 'l', 'happy', 'answers', 'tropical', 'men', 'uh', 'VILLAGER', 'Ives', 'lobbed', 'saw', 'tough', 'guided', 'grail', 'hang', 'foul', 'Good', \"'ll\", 'sank', \"'Ecky-ecky-ecky-ecky-pikang-zoop-boing-goodem-zoo-owli-zhiv\", 'duck', 'end', 'certain', '12', 'autonomous', 'scared', 'cop', 'See', 'mile', 'er', 'Therefore', 'count', 'Here', 'surprise', 'Running', 'felt', 'naughty', 'thy', 'Pendragon', 'Maynard', 'taken', 'Sorry', 'lot', 'KNIGHT', 'Then', 'European', 'dictating', 'return', 'lie', 'sixteen', 'draw', 'haw', 'removed', 'Zoot', 'object', 'Unfortunately', 'suddenly', 'Hya', 'na', 'go', 'pweeng', 'place', 'Now', 'length', 'terrible', 'Idiom', 'dangerous', 'it', 'heeh', 'charged', 'join', 'look', 'lapin', 'prevent', 'Winston', 'gravy', 'Erm', 'Gorge', 'rather', 'Yeaah', 'question', 'B', 'thine', 'easy', 'Uther', 'Supposing', 'looking', 'compared', 'change', 'Patsy', '?', 'nearer', 'Hand', 'police', 'dull', 'did', 'two-thirds', 'merger', 'git', 'twenty', 'strongest', 'clear', 'servant', \"'forgive\", 'art', 'clop', 'eats', 'types-a', 'how', 'inherent', 'should', 'nightfall', 'LAUNCELOT', 'all', 'nine', 'middle', 'earthquakes', 'trusty', 'peasant', 'Yes', 'whom', 'anyway', 'string', 'hear', '..', 'OFFICER', 'him', 'Behold', 'carries', 'kingdom', 'biters', 'need', 'Farewell', 'snap', 'Ow', 'Would', 'frighten', \"'em\", 'boom', 'Thou', 'Bloody', 'Torment', 'which', 'was', 'quest', 'o', 'arm', 'against', 'tops', 'Uugh', 'Twenty-one', 'Knights', '19', 'pig-dogs', 'creep', 'minstrels', 'mercy', 'Ridden', 'side', 'times', 'progress', 'Iiiives', 'sniff', 'allowed', 'runes', 'cave', 'Caerbannog', 'ju', 'gave', 'mandate', 'her', 'sorry', 'shrubberies', 'Tim', 'Dappy', 'Amen', 'having', 'wherein', 'luck', 'try', 'further', 'squeak', 'Chapter', 'scales', 'Halt', 'HERBERT', 'Three', 'yeah', 'higher', 'bosom', 'feathers', 'Father', 'formed', 'Open', 'burned', 'note', 'soon', 'glory', 'ARTHUR', 'does', 'come', 'flight', 'looney', 'because', 'seek', 'Black', 'maybe', 'ARMY', 'finds', 'W', '#', 'Clear', \"'anging\", 'Chaste', 'cough', 'bones', 'Aaaah', 'happens', '2', 'Riiight', 'anywhere', 'witches', 'one', 'More', 'earth', 'temptation', 'Welcome', 'forth', 'HISTORIAN', 'hills', 'passing', 'Prince', 'carp', 'tracts', 'throat', 'woman', 'anything', 'sacrifice', 'bastard', 'killed', 'knock', 'forest', 'Remove', 'Let', 'eet', 'heroic', 'auuuuuuuugh', 'live', 'coming', 'particular', 'leap', \"'Ere\", 'so', 'strategy', 'arrange', 'looked', 'classes', 'Princess', 'another', 'sure', 'vouchsafed', 'where', '17', 'strength', 'fruit', 'conclusion', 'awfully', 'Ah', 'easily', 'although', 'alight', 'Thank', 'bonk', 'general', 'nibble', 'strewn', 'All', 'liege', 'fought', 'Help', 'life', 'van', 'Other', 'language', 'regulations', 'something', 'mortally', 'Oooohoohohooo', \"n't\", 'fine', 'Camelot', 'making', 'evil', 'HEADS', 'raped', 'rode', 'cost', 'None', 'Yay', 'king-a', 'SCENE', 'why', 'Ewing', 'properly', 'Go', 'enemies', 'here', 'Clark', 'autocracy', 'Exactly', 'Ahh', 'bet', 'summon', 'some', 'imprisoned', 'quack', 'Enchanter', 'valor', 'cereals', 'migrate', 'through', 'particularly', 'Rheged', 'Ulk', 'handsome', 'sawwwww', 'woosh', 'south', 'out-clever', 'thou', 'Hah', 'their', 'individually', 'command', 'punishment', 'snuff', 'Bring', 'scott', 'attend', 'fight', 'dynamite', 'Cornwall', 'ask', 'By', 'k-nnniggets', '22', 'baaaa', 'whose', 'uhh', 'same', 'Book', 'Doctor', 'ponds', 'be', \"'Man\", 'heh', 'straight', 'Guy', '18', 'With', 'Yeaaah', 'cast', 'inferior', 'miss', 'horrendous', 'bang', 'returns', 'Victory', 'long', 'over', 'France', 'song', 'more', 'them', 'Quoi', 'as', 'So', 'held', 'Table', \"'\", 'splash', 'medical', 'blondes', 'Excuse', 'aaugh', 'animator', 'BRIDGEKEEPER', 'outrageous', 'This', 'automatically', 'nick', 'awaaay', 'Thpppt', 'class', 'rejoicing', 'feel', 'breakfast', 'Aaauggh', 'rich', 'clack', 'ratios', 'relax', 'problems', 'fold', 'talk', 'Thpppppt', 'de', 'stew', 'A', 'reached', 'questions', \"'d\", 'tiny-brained', 'influential', 'asks', 'escape', 'name', 'signifying', 'separate', 'changed', 'lives', 'pimples', 'Ages', 'gone', 'Loimbard', 'cope', 'heart', 'chastity', 'needs', 'plover', 'Come', 'coconut', 'decided', 'Aaaaaaaah', \"'til\", 'approacheth', 'ruffians', 'Really', 'siren', 'honored', 'Thursday', 'mother', 'jokes', 'argue', 'eh', 'mer', 'bells', 'Does', 'explain', 'wound', '5', 'ooh', \"'it\", 'creature', 'Shh', 'when', 'Almighty', 'speak', 'seldom', 'headoff', 'upon', 'indeed', 'voluntarily', 'ALL', 'Anarcho-syndicalism', 'Perhaps', 'first', \"'Course\", '1', 'CHARACTER', '6', 'ill.', 'went', 'behaviour', 'Forward', 'next', 'accent', 'breath', 'between', 'while', 'two', 'bring', 'using', \"'Dennis\", 'gained', 'day', 'house', 'take', 'swords', 'unladen', 'blow', 'sons', 'model', 'do', 'work', 'ordinary', 'thud', 'dancing', 'broken', 'CRAPPER', 'history', 'Listen', 'Yapping', 'problem', 'wonderful', 'wood', 'getting', 'send', 'bed-wetting', 'have', 'tie', 'halves', 'too', 'yet', 'scratch', 'dressing', 'Oooh', 'dear', 'counting', \"'s\", 'tap-dancing', 'lovely', 'BLACK', 'stops', 'Uhh', 'PRINCESS', 'chanting', 'He', 'laden', 'electric', 'opera', 'also', 'ours', 'Umm', 'Just', 'Lucky', 'Huh', 'Practice', 'DIRECTOR', 'snore', 'martin', 'valiant', 'Aaaugh', 'welcome', 'brave', 'mac', 'bathing', 'Hee', 'Dis-mount', 'self-perpetuating', 'score', 'slash', 'big', 'Have', 'thank', 'attack', 'peril', 'freedom'}\n"
     ]
    }
   ],
   "source": [
    "# Import necessary modules\n",
    "from nltk.tokenize import sent_tokenize\n",
    "from nltk.tokenize import word_tokenize\n",
    "\n",
    "# Split scene_one into sentences: sentences\n",
    "sentences = sent_tokenize(scene_one)\n",
    "\n",
    "# Use word_tokenize to tokenize the fourth sentence: tokenized_sent\n",
    "tokenized_sent = word_tokenize(sentences[3])\n",
    "\n",
    "# Make a set of unique tokens in the entire scene: unique_tokens\n",
    "unique_tokens = set(word_tokenize(scene_one))\n",
    "\n",
    "# Print the unique tokens result\n",
    "print(unique_tokens)"
   ]
  },
  {
   "cell_type": "markdown",
   "metadata": {},
   "source": [
    "$\\blacktriangleright$ **Package pre-loading:**"
   ]
  },
  {
   "cell_type": "code",
   "execution_count": 20,
   "metadata": {
    "ExecuteTime": {
     "end_time": "2021-01-01T23:22:31.475477Z",
     "start_time": "2021-01-01T23:22:31.471826Z"
    }
   },
   "outputs": [],
   "source": [
    "import re"
   ]
  },
  {
   "cell_type": "markdown",
   "metadata": {},
   "source": [
    "$\\blacktriangleright$ **Regex (`re.search()`) practice:**"
   ]
  },
  {
   "cell_type": "code",
   "execution_count": 21,
   "metadata": {
    "ExecuteTime": {
     "end_time": "2021-01-01T23:22:31.495286Z",
     "start_time": "2021-01-01T23:22:31.487151Z"
    }
   },
   "outputs": [
    {
     "name": "stdout",
     "output_type": "stream",
     "text": [
      "580 588\n"
     ]
    }
   ],
   "source": [
    "# Search for the first occurrence of \"coconuts\" in scene_one: match\n",
    "match = re.search(\"coconuts\", scene_one)\n",
    "\n",
    "# Print the start and end indexes of match\n",
    "print(match.start(), match.end())"
   ]
  },
  {
   "cell_type": "code",
   "execution_count": 22,
   "metadata": {
    "ExecuteTime": {
     "end_time": "2021-01-01T23:22:31.517030Z",
     "start_time": "2021-01-01T23:22:31.503694Z"
    }
   },
   "outputs": [
    {
     "name": "stdout",
     "output_type": "stream",
     "text": [
      "<re.Match object; span=(9, 32), match='[wind] [clop clop clop]'>\n"
     ]
    }
   ],
   "source": [
    "# Write a regular expression to search for anything in square brackets: pattern1\n",
    "pattern1 = r\"\\[.*\\]\"\n",
    "\n",
    "# Use re.search to find the first text in square brackets\n",
    "print(re.search(pattern1, scene_one))"
   ]
  },
  {
   "cell_type": "code",
   "execution_count": 23,
   "metadata": {
    "ExecuteTime": {
     "end_time": "2021-01-01T23:22:31.531897Z",
     "start_time": "2021-01-01T23:22:31.522999Z"
    }
   },
   "outputs": [
    {
     "name": "stdout",
     "output_type": "stream",
     "text": [
      "<re.Match object; span=(0, 7), match='ARTHUR:'>\n"
     ]
    }
   ],
   "source": [
    "# Find the script notation at the beginning of the fourth sentence and print it\n",
    "pattern2 = r\"[\\w\\s#]+:\"\n",
    "print(re.match(pattern2, sentences[3]))"
   ]
  },
  {
   "cell_type": "markdown",
   "metadata": {
    "ExecuteTime": {
     "end_time": "2020-07-24T11:20:21.989524Z",
     "start_time": "2020-07-24T11:20:12.960881Z"
    }
   },
   "source": [
    "```\n",
    "#############################################\n",
    "##                                         ##\n",
    "##  Natural Language Processing in Python  ##\n",
    "##                                         ##\n",
    "#############################################\n",
    "\n",
    "§1 Introduction to Natural Language Processing in Python\n",
    "\n",
    "§1.1 Regular expressions & word tokenization\n",
    "```"
   ]
  },
  {
   "cell_type": "markdown",
   "metadata": {},
   "source": [
    "# Advanced tokenization with NLTK and regex"
   ]
  },
  {
   "cell_type": "markdown",
   "metadata": {},
   "source": [
    "## How to make regex groups and how to indicate \"OR\"?\n",
    "\n",
    "* \"OR\" is represented using `|`.\n",
    "\n",
    "* It is possible to define a group using `()`.\n",
    "\n",
    "* It is possible to define explicit character ranges using `[]`."
   ]
  },
  {
   "cell_type": "markdown",
   "metadata": {},
   "source": [
    "## Code of regex groups and the indication of \"OR\":"
   ]
  },
  {
   "cell_type": "code",
   "execution_count": 24,
   "metadata": {
    "ExecuteTime": {
     "end_time": "2021-01-01T23:22:31.981955Z",
     "start_time": "2021-01-01T23:22:31.898712Z"
    }
   },
   "outputs": [
    {
     "data": {
      "text/plain": [
       "['He', 'has', '11', 'cats']"
      ]
     },
     "execution_count": 24,
     "metadata": {},
     "output_type": "execute_result"
    }
   ],
   "source": [
    "import re\n",
    "\n",
    "match_digits_and_words = ('(\\d+|\\w+)')\n",
    "re.findall(match_digits_and_words, 'He has 11 cats.')"
   ]
  },
  {
   "cell_type": "markdown",
   "metadata": {},
   "source": [
    "## What are regex ranges and groups?\n",
    "\n",
    "![Regex ranges and groups.jpg](ref3.%20Regex%20ranges%20and%20groups.jpg)"
   ]
  },
  {
   "cell_type": "markdown",
   "metadata": {},
   "source": [
    "## Code of character range with `re.match()`:"
   ]
  },
  {
   "cell_type": "code",
   "execution_count": 25,
   "metadata": {
    "ExecuteTime": {
     "end_time": "2021-01-01T23:22:32.687924Z",
     "start_time": "2021-01-01T23:22:32.680985Z"
    }
   },
   "outputs": [
    {
     "data": {
      "text/plain": [
       "<re.Match object; span=(0, 35), match='match lowercase spaces nums like 12'>"
      ]
     },
     "execution_count": 25,
     "metadata": {},
     "output_type": "execute_result"
    }
   ],
   "source": [
    "import re\n",
    "\n",
    "my_str = 'match lowercase spaces nums like 12, but no commas'\n",
    "re.match('[a-z0-9 ]+', my_str)"
   ]
  },
  {
   "cell_type": "markdown",
   "metadata": {
    "ExecuteTime": {
     "end_time": "2020-12-27T20:58:42.284371Z",
     "start_time": "2020-12-27T20:58:42.280148Z"
    }
   },
   "source": [
    "## Practice question for choosing a tokenizer:\n",
    "\n",
    "* Given the following string, which of the below patterns is the best tokenizer? It is better to retain sentence punctuation as separate tokens if possible but have `'#1'` remain a single token.\n",
    "\n",
    "    ```\n",
    "    my_string = \"SOLDIER #1: Found them? In Mercea? The coconut's tropical!\"\n",
    "    ```\n",
    "    \n",
    "    $\\Box$ `r\"(\\w+|\\?|!)\"`.\n",
    "\n",
    "    $\\boxtimes$ `r\"(\\w+|#\\d|\\?|!)\"`.\n",
    "    \n",
    "    $\\Box$ `r\"(#\\d\\w+\\?!)\"`.\n",
    "        \n",
    "    $\\Box$ `r\"\\s+\"`."
   ]
  },
  {
   "cell_type": "markdown",
   "metadata": {},
   "source": [
    "$\\blacktriangleright$ **Package pre-loading:**"
   ]
  },
  {
   "cell_type": "code",
   "execution_count": 26,
   "metadata": {
    "ExecuteTime": {
     "end_time": "2021-01-01T23:22:33.389121Z",
     "start_time": "2021-01-01T23:22:33.386257Z"
    }
   },
   "outputs": [],
   "source": [
    "from nltk.tokenize import regexp_tokenize"
   ]
  },
  {
   "cell_type": "markdown",
   "metadata": {},
   "source": [
    "$\\blacktriangleright$ **Data pre-loading:**"
   ]
  },
  {
   "cell_type": "code",
   "execution_count": 27,
   "metadata": {
    "ExecuteTime": {
     "end_time": "2021-01-01T23:22:34.004214Z",
     "start_time": "2021-01-01T23:22:33.961648Z"
    }
   },
   "outputs": [],
   "source": [
    "my_string = \"SOLDIER #1: Found them? In Mercea? The coconut's tropical!\"\n",
    "string = my_string\n",
    "\n",
    "pattern1 = r\"(\\w+|\\?|!)\"\n",
    "pattern2 = r\"(\\w+|#\\d|\\?|!)\"\n",
    "pattern3 = r\"(#\\d\\w+\\?!)\"\n",
    "pattern4 = r\"\\s+\""
   ]
  },
  {
   "cell_type": "markdown",
   "metadata": {},
   "source": [
    "$\\blacktriangleright$ **Question-solving method:**"
   ]
  },
  {
   "cell_type": "code",
   "execution_count": 28,
   "metadata": {
    "ExecuteTime": {
     "end_time": "2021-01-01T23:22:34.330931Z",
     "start_time": "2021-01-01T23:22:34.327025Z"
    }
   },
   "outputs": [
    {
     "name": "stdout",
     "output_type": "stream",
     "text": [
      "['SOLDIER', '1', 'Found', 'them', '?', 'In', 'Mercea', '?', 'The', 'coconut', 's', 'tropical', '!']\n"
     ]
    }
   ],
   "source": [
    "pattern = pattern1\n",
    "print(regexp_tokenize(string, pattern))"
   ]
  },
  {
   "cell_type": "code",
   "execution_count": 29,
   "metadata": {
    "ExecuteTime": {
     "end_time": "2021-01-01T23:22:34.506263Z",
     "start_time": "2021-01-01T23:22:34.474875Z"
    }
   },
   "outputs": [
    {
     "name": "stdout",
     "output_type": "stream",
     "text": [
      "['SOLDIER', '#1', 'Found', 'them', '?', 'In', 'Mercea', '?', 'The', 'coconut', 's', 'tropical', '!']\n"
     ]
    }
   ],
   "source": [
    "pattern = pattern2\n",
    "print(regexp_tokenize(string, pattern))"
   ]
  },
  {
   "cell_type": "code",
   "execution_count": 30,
   "metadata": {
    "ExecuteTime": {
     "end_time": "2021-01-01T23:22:34.516875Z",
     "start_time": "2021-01-01T23:22:34.509276Z"
    }
   },
   "outputs": [
    {
     "name": "stdout",
     "output_type": "stream",
     "text": [
      "[]\n"
     ]
    }
   ],
   "source": [
    "pattern = pattern3\n",
    "print(regexp_tokenize(string, pattern))"
   ]
  },
  {
   "cell_type": "code",
   "execution_count": 31,
   "metadata": {
    "ExecuteTime": {
     "end_time": "2021-01-01T23:22:34.544215Z",
     "start_time": "2021-01-01T23:22:34.539631Z"
    }
   },
   "outputs": [
    {
     "name": "stdout",
     "output_type": "stream",
     "text": [
      "[' ', ' ', ' ', ' ', ' ', ' ', ' ', ' ']\n"
     ]
    }
   ],
   "source": [
    "pattern = pattern4\n",
    "print(regexp_tokenize(string, pattern))"
   ]
  },
  {
   "cell_type": "markdown",
   "metadata": {},
   "source": [
    "## Practice exercises for advanced tokenization with NLTK and regex:\n",
    "\n",
    "$\\blacktriangleright$ **Data pre-loading:**"
   ]
  },
  {
   "cell_type": "code",
   "execution_count": 32,
   "metadata": {
    "ExecuteTime": {
     "end_time": "2021-01-01T23:22:35.013424Z",
     "start_time": "2021-01-01T23:22:35.009434Z"
    }
   },
   "outputs": [],
   "source": [
    "tweets = [\n",
    "    'This is the best #nlp exercise ive found online! #python',\n",
    "    '#NLP is super fun! <3 #learning', 'Thanks @datacamp :) #nlp #python'\n",
    "]"
   ]
  },
  {
   "cell_type": "markdown",
   "metadata": {},
   "source": [
    "$\\blacktriangleright$ **NLTK regex tokenization practice:**"
   ]
  },
  {
   "cell_type": "code",
   "execution_count": 33,
   "metadata": {
    "ExecuteTime": {
     "end_time": "2021-01-01T23:22:35.516872Z",
     "start_time": "2021-01-01T23:22:35.501457Z"
    }
   },
   "outputs": [],
   "source": [
    "# Import the necessary modules\n",
    "from nltk.tokenize import TweetTokenizer\n",
    "from nltk.tokenize import regexp_tokenize"
   ]
  },
  {
   "cell_type": "code",
   "execution_count": 34,
   "metadata": {
    "ExecuteTime": {
     "end_time": "2021-01-01T23:22:35.527999Z",
     "start_time": "2021-01-01T23:22:35.521411Z"
    }
   },
   "outputs": [
    {
     "name": "stdout",
     "output_type": "stream",
     "text": [
      "['#nlp', '#python']\n"
     ]
    }
   ],
   "source": [
    "# Import the necessary modules\n",
    "from nltk.tokenize import regexp_tokenize\n",
    "from nltk.tokenize import TweetTokenizer\n",
    "# Define a regex pattern to find hashtags: pattern1\n",
    "pattern1 = r\"#\\w+\"\n",
    "# Use the pattern on the first tweet in the tweets list\n",
    "hashtags = regexp_tokenize(tweets[0], pattern1)\n",
    "print(hashtags)"
   ]
  },
  {
   "cell_type": "code",
   "execution_count": 35,
   "metadata": {
    "ExecuteTime": {
     "end_time": "2021-01-01T23:22:35.619007Z",
     "start_time": "2021-01-01T23:22:35.611519Z"
    }
   },
   "outputs": [
    {
     "name": "stdout",
     "output_type": "stream",
     "text": [
      "['@datacamp', '#nlp', '#python']\n"
     ]
    }
   ],
   "source": [
    "# Import the necessary modules\n",
    "from nltk.tokenize import regexp_tokenize\n",
    "from nltk.tokenize import TweetTokenizer\n",
    "# Write a pattern that matches both mentions (@) and hashtags\n",
    "pattern2 = r\"([@#]\\w+)\"\n",
    "# Use the pattern on the last tweet in the tweets list\n",
    "mentions_hashtags = regexp_tokenize(tweets[-1], pattern2)\n",
    "print(mentions_hashtags)"
   ]
  },
  {
   "cell_type": "code",
   "execution_count": 36,
   "metadata": {
    "ExecuteTime": {
     "end_time": "2021-01-01T23:22:35.688733Z",
     "start_time": "2021-01-01T23:22:35.680201Z"
    }
   },
   "outputs": [
    {
     "name": "stdout",
     "output_type": "stream",
     "text": [
      "[['This', 'is', 'the', 'best', '#nlp', 'exercise', 'ive', 'found', 'online', '!', '#python'], ['#NLP', 'is', 'super', 'fun', '!', '<3', '#learning'], ['Thanks', '@datacamp', ':)', '#nlp', '#python']]\n"
     ]
    }
   ],
   "source": [
    "# Import the necessary modules\n",
    "from nltk.tokenize import regexp_tokenize\n",
    "from nltk.tokenize import TweetTokenizer\n",
    "# Use the TweetTokenizer to tokenize all tweets into one list\n",
    "tknzr = TweetTokenizer()\n",
    "all_tokens = [tknzr.tokenize(t) for t in tweets]\n",
    "print(all_tokens)"
   ]
  },
  {
   "cell_type": "markdown",
   "metadata": {},
   "source": [
    "$\\blacktriangleright$ **Package pre-loading:**"
   ]
  },
  {
   "cell_type": "code",
   "execution_count": 37,
   "metadata": {
    "ExecuteTime": {
     "end_time": "2021-01-01T23:22:36.213062Z",
     "start_time": "2021-01-01T23:22:36.209642Z"
    }
   },
   "outputs": [],
   "source": [
    "from nltk.tokenize import word_tokenize"
   ]
  },
  {
   "cell_type": "markdown",
   "metadata": {},
   "source": [
    "$\\blacktriangleright$ **Data re-pre-loading:**"
   ]
  },
  {
   "cell_type": "code",
   "execution_count": 38,
   "metadata": {
    "ExecuteTime": {
     "end_time": "2021-01-01T23:22:36.740070Z",
     "start_time": "2021-01-01T23:22:36.734484Z"
    }
   },
   "outputs": [],
   "source": [
    "german_text = 'Wann gehen wir Pizza essen? 🍕 Und fährst du mit Über? 🚕'"
   ]
  },
  {
   "cell_type": "markdown",
   "metadata": {},
   "source": [
    "$\\blacktriangleright$ **Non-ascii tokenization practice:**"
   ]
  },
  {
   "cell_type": "code",
   "execution_count": 39,
   "metadata": {
    "ExecuteTime": {
     "end_time": "2021-01-01T23:22:37.404694Z",
     "start_time": "2021-01-01T23:22:37.360092Z"
    }
   },
   "outputs": [
    {
     "name": "stdout",
     "output_type": "stream",
     "text": [
      "['Wann', 'gehen', 'wir', 'Pizza', 'essen', '?', '🍕', 'Und', 'fährst', 'du', 'mit', 'Über', '?', '🚕']\n",
      "['Wann', 'Pizza', 'Und', 'Über']\n",
      "['🍕', '🚕']\n"
     ]
    }
   ],
   "source": [
    "# Tokenize and print all words in german_text\n",
    "all_words = word_tokenize(german_text)\n",
    "print(all_words)\n",
    "\n",
    "# Tokenize and print only capital words\n",
    "capital_words = r\"[A-ZÜ]\\w+\"\n",
    "print(regexp_tokenize(german_text, capital_words))\n",
    "\n",
    "# Tokenize and print only emoji\n",
    "emoji = \"['\\U0001F300-\\U0001F5FF'|'\\U0001F600-\\U0001F64F'|\\\n",
    "'\\U0001F680-\\U0001F6FF'|'\\u2600-\\u26FF\\u2700-\\u27BF']\"\n",
    "\n",
    "print(regexp_tokenize(german_text, emoji))"
   ]
  },
  {
   "cell_type": "markdown",
   "metadata": {
    "ExecuteTime": {
     "end_time": "2020-07-24T11:20:21.989524Z",
     "start_time": "2020-07-24T11:20:12.960881Z"
    }
   },
   "source": [
    "```\n",
    "#############################################\n",
    "##                                         ##\n",
    "##  Natural Language Processing in Python  ##\n",
    "##                                         ##\n",
    "#############################################\n",
    "\n",
    "§1 Introduction to Natural Language Processing in Python\n",
    "\n",
    "§1.1 Regular expressions & word tokenization\n",
    "```"
   ]
  },
  {
   "cell_type": "markdown",
   "metadata": {},
   "source": [
    "# Charting word length with NLTK"
   ]
  },
  {
   "cell_type": "markdown",
   "metadata": {},
   "source": [
    "## Why is it in need to get started with matplotlib?\n",
    "\n",
    "* It is a charting library used by many open-source Python projects.\n",
    "\n",
    "* It has straightforward functionality with lots of options:\n",
    "\n",
    "    * *histograms*\n",
    "\n",
    "    * *bar charts*\n",
    "\n",
    "    * *line charts*\n",
    "\n",
    "    * *scatter plots*\n",
    "\n",
    "* And also, it has advanced functionality like 3D graphs and animations!"
   ]
  },
  {
   "cell_type": "markdown",
   "metadata": {},
   "source": [
    "## Code of plotting a histogram with matplotlib:"
   ]
  },
  {
   "cell_type": "code",
   "execution_count": 40,
   "metadata": {
    "ExecuteTime": {
     "end_time": "2021-01-01T23:22:39.802838Z",
     "start_time": "2021-01-01T23:22:38.793884Z"
    }
   },
   "outputs": [
    {
     "data": {
      "text/plain": [
       "(array([1., 0., 0., 0., 0., 2., 0., 3., 0., 1.]),\n",
       " array([1. , 1.8, 2.6, 3.4, 4.2, 5. , 5.8, 6.6, 7.4, 8.2, 9. ]),\n",
       " <BarContainer object of 10 artists>)"
      ]
     },
     "execution_count": 40,
     "metadata": {},
     "output_type": "execute_result"
    },
    {
     "data": {
      "image/png": "[encoded data removed]",
      "text/plain": [
       "<Figure size 432x288 with 1 Axes>"
      ]
     },
     "metadata": {
      "needs_background": "light"
     },
     "output_type": "display_data"
    }
   ],
   "source": [
    "from matplotlib import pyplot as plt\n",
    "\n",
    "plt.hist([1, 5, 5, 7, 7, 7, 9])"
   ]
  },
  {
   "cell_type": "code",
   "execution_count": 41,
   "metadata": {
    "ExecuteTime": {
     "end_time": "2021-01-01T23:22:40.166491Z",
     "start_time": "2021-01-01T23:22:39.815191Z"
    }
   },
   "outputs": [
    {
     "data": {
      "image/png": "[encoded data removed]",
      "text/plain": [
       "<Figure size 432x288 with 1 Axes>"
      ]
     },
     "metadata": {
      "needs_background": "light"
     },
     "output_type": "display_data"
    }
   ],
   "source": [
    "plt.hist([1, 5, 5, 7, 7, 7, 9])\n",
    "plt.show()"
   ]
  },
  {
   "cell_type": "markdown",
   "metadata": {},
   "source": [
    "## Code of combining NLP data extraction with plotting:"
   ]
  },
  {
   "cell_type": "code",
   "execution_count": 42,
   "metadata": {
    "ExecuteTime": {
     "end_time": "2021-01-01T23:22:40.504772Z",
     "start_time": "2021-01-01T23:22:40.185281Z"
    }
   },
   "outputs": [
    {
     "data": {
      "text/plain": [
       "(array([2., 0., 1., 0., 0., 0., 3., 0., 0., 1.]),\n",
       " array([1. , 1.5, 2. , 2.5, 3. , 3.5, 4. , 4.5, 5. , 5.5, 6. ]),\n",
       " <BarContainer object of 10 artists>)"
      ]
     },
     "execution_count": 42,
     "metadata": {},
     "output_type": "execute_result"
    },
    {
     "data": {
      "image/png": "[encoded data removed]",
      "text/plain": [
       "<Figure size 432x288 with 1 Axes>"
      ]
     },
     "metadata": {
      "needs_background": "light"
     },
     "output_type": "display_data"
    }
   ],
   "source": [
    "from matplotlib import pyplot as plt\n",
    "from nltk.tokenize import word_tokenize\n",
    "\n",
    "words = word_tokenize(\"This is a pretty cool tool!\")\n",
    "word_lengths = [len(w) for w in words]\n",
    "plt.hist(word_lengths)"
   ]
  },
  {
   "cell_type": "code",
   "execution_count": 43,
   "metadata": {
    "ExecuteTime": {
     "end_time": "2021-01-01T23:22:40.830570Z",
     "start_time": "2021-01-01T23:22:40.520251Z"
    }
   },
   "outputs": [
    {
     "data": {
      "image/png": "[encoded data removed]",
      "text/plain": [
       "<Figure size 432x288 with 1 Axes>"
      ]
     },
     "metadata": {
      "needs_background": "light"
     },
     "output_type": "display_data"
    }
   ],
   "source": [
    "plt.hist(word_lengths)\n",
    "plt.show()"
   ]
  },
  {
   "cell_type": "markdown",
   "metadata": {},
   "source": [
    "## Practice exercises for charting word length with NLTK:\n",
    "\n",
    "$\\blacktriangleright$ **Package pre-loading:**"
   ]
  },
  {
   "cell_type": "code",
   "execution_count": 44,
   "metadata": {
    "ExecuteTime": {
     "end_time": "2021-01-01T23:22:40.845470Z",
     "start_time": "2021-01-01T23:22:40.840651Z"
    }
   },
   "outputs": [],
   "source": [
    "import re\n",
    "from matplotlib import pyplot as plt\n",
    "from nltk.tokenize import regexp_tokenize"
   ]
  },
  {
   "cell_type": "markdown",
   "metadata": {},
   "source": [
    "$\\blacktriangleright$ **Data pre-loading:**"
   ]
  },
  {
   "cell_type": "code",
   "execution_count": 45,
   "metadata": {
    "ExecuteTime": {
     "end_time": "2021-01-01T23:22:40.869958Z",
     "start_time": "2021-01-01T23:22:40.858736Z"
    }
   },
   "outputs": [],
   "source": [
    "holy_grail = open(\"ref2. Monty Python and the Holy Grail.txt\").read()"
   ]
  },
  {
   "cell_type": "markdown",
   "metadata": {},
   "source": [
    "$\\blacktriangleright$ **Charting practice:**"
   ]
  },
  {
   "cell_type": "code",
   "execution_count": 46,
   "metadata": {
    "ExecuteTime": {
     "end_time": "2021-01-01T23:22:41.829260Z",
     "start_time": "2021-01-01T23:22:41.312915Z"
    }
   },
   "outputs": [
    {
     "data": {
      "image/png": "[encoded data removed]",
      "text/plain": [
       "<Figure size 432x288 with 1 Axes>"
      ]
     },
     "metadata": {
      "needs_background": "light"
     },
     "output_type": "display_data"
    }
   ],
   "source": [
    "# Split the script into lines: lines\n",
    "lines = holy_grail.split('\\n')\n",
    "\n",
    "# Replace all script lines for speaker\n",
    "pattern = \"[A-Z]{2,}(\\s)?(#\\d)?([A-Z]{2,})?:\"\n",
    "lines = [re.sub(pattern, '', l) for l in lines]\n",
    "\n",
    "# Tokenize each line: tokenized_lines\n",
    "tokenized_lines = [regexp_tokenize(s, '\\w+') for s in lines]\n",
    "\n",
    "# Make a frequency list of lengths: line_num_words\n",
    "line_num_words = [len(t_line) for t_line in tokenized_lines]\n",
    "\n",
    "# Plot a histogram of the line lengths\n",
    "plt.hist(line_num_words)\n",
    "\n",
    "# Show the plot\n",
    "plt.show()"
   ]
  }
 ],
 "metadata": {
  "kernelspec": {
   "display_name": "Python 3",
   "language": "python",
   "name": "python3"
  },
  "language_info": {
   "codemirror_mode": {
    "name": "ipython",
    "version": 3
   },
   "file_extension": ".py",
   "mimetype": "text/x-python",
   "name": "python",
   "nbconvert_exporter": "python",
   "pygments_lexer": "ipython3",
   "version": "3.7.6"
  },
  "latex_envs": {
   "LaTeX_envs_menu_present": true,
   "autoclose": true,
   "autocomplete": true,
   "bibliofile": "biblio.bib",
   "cite_by": "apalike",
   "current_citInitial": 1,
   "eqLabelWithNumbers": true,
   "eqNumInitial": 1,
   "hotkeys": {
    "equation": "Ctrl-E",
    "itemize": "Ctrl-I"
   },
   "labels_anchors": false,
   "latex_user_defs": false,
   "report_style_numbering": true,
   "user_envs_cfg": true
  },
  "nbTranslate": {
   "displayLangs": [
    "*"
   ],
   "hotkey": "alt-t",
   "langInMainMenu": true,
   "sourceLang": "en",
   "targetLang": "fr",
   "useGoogleTranslate": true
  },
  "toc": {
   "base_numbering": 1,
   "nav_menu": {},
   "number_sections": true,
   "sideBar": true,
   "skip_h1_title": false,
   "title_cell": "Table of Contents",
   "title_sidebar": "Contents",
   "toc_cell": false,
   "toc_position": {
    "height": "calc(100% - 180px)",
    "left": "10px",
    "top": "150px",
    "width": "288px"
   },
   "toc_section_display": true,
   "toc_window_display": true
  },
  "varInspector": {
   "cols": {
    "lenName": 16,
    "lenType": 16,
    "lenVar": 40
   },
   "kernels_config": {
    "python": {
     "delete_cmd_postfix": "",
     "delete_cmd_prefix": "del ",
     "library": "var_list.py",
     "varRefreshCmd": "print(var_dic_list())"
    },
    "r": {
     "delete_cmd_postfix": ") ",
     "delete_cmd_prefix": "rm(",
     "library": "var_list.r",
     "varRefreshCmd": "cat(var_dic_list()) "
    }
   },
   "types_to_exclude": [
    "module",
    "function",
    "builtin_function_or_method",
    "instance",
    "_Feature"
   ],
   "window_display": true
  }
 },
 "nbformat": 4,
 "nbformat_minor": 4
}
