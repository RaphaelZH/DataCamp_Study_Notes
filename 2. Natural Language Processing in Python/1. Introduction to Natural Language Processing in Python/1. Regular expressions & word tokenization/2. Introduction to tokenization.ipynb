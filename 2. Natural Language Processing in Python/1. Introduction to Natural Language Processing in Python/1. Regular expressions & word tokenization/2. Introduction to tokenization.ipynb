{
 "cells": [
  {
   "cell_type": "markdown",
   "metadata": {
    "ExecuteTime": {
     "end_time": "2020-07-24T11:20:21.989524Z",
     "start_time": "2020-07-24T11:20:12.960881Z"
    }
   },
   "source": [
    "```\n",
    "#############################################\n",
    "##                                         ##\n",
    "##  Natural Language Processing in Python  ##\n",
    "##                                         ##\n",
    "#############################################\n",
    "\n",
    "§1 Introduction to Natural Language Processing in Python\n",
    "\n",
    "§1.1 Regular expressions & word tokenization\n",
    "```"
   ]
  },
  {
   "cell_type": "markdown",
   "metadata": {},
   "source": [
    "# Introduction to tokenization"
   ]
  },
  {
   "cell_type": "markdown",
   "metadata": {},
   "source": [
    "## What is tokenization?\n",
    "\n",
    "* It turns a string or document into tokens (smaller chunks).\n",
    "\n",
    "* It's one step in preparing a text for NLP.\n",
    "\n",
    "* It has many different theories and rules.\n",
    "\n",
    "* Users can create their own rules using regular expressions.\n",
    "\n",
    "* There are some examples:\n",
    "\n",
    "\t* *breaking out words or sentences*\n",
    "    \n",
    "\t* *separating punctuation*\n",
    "    \n",
    "\t* *separating all hashtags in a tweet*"
   ]
  },
  {
   "cell_type": "markdown",
   "metadata": {},
   "source": [
    "## What is the NLTK library?\n",
    "\n",
    "* NLTK: Natural Language Toolkit"
   ]
  },
  {
   "cell_type": "markdown",
   "metadata": {},
   "source": [
    "## Code of the NLTK library:"
   ]
  },
  {
   "cell_type": "code",
   "execution_count": 1,
   "metadata": {
    "ExecuteTime": {
     "end_time": "2021-02-06T01:36:51.820974Z",
     "start_time": "2021-02-06T01:36:50.885641Z"
    }
   },
   "outputs": [
    {
     "data": {
      "text/plain": [
       "['Hi', 'there', '!']"
      ]
     },
     "execution_count": 1,
     "metadata": {},
     "output_type": "execute_result"
    }
   ],
   "source": [
    "from nltk.tokenize import word_tokenize\n",
    "\n",
    "word_tokenize(\"Hi there!\")"
   ]
  },
  {
   "cell_type": "markdown",
   "metadata": {
    "ExecuteTime": {
     "end_time": "2020-12-20T20:08:55.570909Z",
     "start_time": "2020-12-20T20:08:55.565185Z"
    }
   },
   "source": [
    "## Why tokenize?\n",
    "\n",
    "* Easier to map part of speech.\n",
    "\n",
    "* To match common words.\n",
    "\n",
    "* To remove unwanted tokens.\n",
    "\n",
    "* E.g., \n",
    "\n",
    "    ```\n",
    "    >>> word_tokenize(\"I don't like Sam's shoes.\")\n",
    "    ['I', 'do', \"n't\", 'like', 'Sam', \"'s\", 'shoes', '.']\n",
    "    ```"
   ]
  },
  {
   "cell_type": "markdown",
   "metadata": {},
   "source": [
    "## What are the other NLTK tokenizers?\n",
    "\n",
    "* `sent_tokenize`: tokenize a document into sentences.\n",
    "\n",
    "* `regexp_tokenize`: tokenize a string or document based on a regular expression pattern.\n",
    "\n",
    "* `TweetTokenizer`: special class just for tweet tokenization, allowing separate hashtags, mentions, and lots of exclamation points, such as '!!!'."
   ]
  },
  {
   "cell_type": "markdown",
   "metadata": {},
   "source": [
    "## Code of regex practice (the difference between `re.search()` and `re.match()`):"
   ]
  },
  {
   "cell_type": "code",
   "execution_count": 2,
   "metadata": {
    "ExecuteTime": {
     "end_time": "2021-02-06T01:36:51.832564Z",
     "start_time": "2021-02-06T01:36:51.825248Z"
    }
   },
   "outputs": [
    {
     "data": {
      "text/plain": [
       "<re.Match object; span=(0, 3), match='abc'>"
      ]
     },
     "execution_count": 2,
     "metadata": {},
     "output_type": "execute_result"
    }
   ],
   "source": [
    "import re\n",
    "\n",
    "re.match('abc', 'abcde')"
   ]
  },
  {
   "cell_type": "code",
   "execution_count": 3,
   "metadata": {
    "ExecuteTime": {
     "end_time": "2021-02-06T01:36:51.842791Z",
     "start_time": "2021-02-06T01:36:51.835943Z"
    }
   },
   "outputs": [
    {
     "data": {
      "text/plain": [
       "<re.Match object; span=(0, 3), match='abc'>"
      ]
     },
     "execution_count": 3,
     "metadata": {},
     "output_type": "execute_result"
    }
   ],
   "source": [
    "re.search('abc', 'abcde')"
   ]
  },
  {
   "cell_type": "code",
   "execution_count": 4,
   "metadata": {
    "ExecuteTime": {
     "end_time": "2021-02-06T01:36:51.850051Z",
     "start_time": "2021-02-06T01:36:51.845905Z"
    }
   },
   "outputs": [],
   "source": [
    "re.match('cd', 'abcde')"
   ]
  },
  {
   "cell_type": "code",
   "execution_count": 5,
   "metadata": {
    "ExecuteTime": {
     "end_time": "2021-02-06T01:36:51.877066Z",
     "start_time": "2021-02-06T01:36:51.862361Z"
    }
   },
   "outputs": [
    {
     "data": {
      "text/plain": [
       "<re.Match object; span=(2, 4), match='cd'>"
      ]
     },
     "execution_count": 5,
     "metadata": {},
     "output_type": "execute_result"
    }
   ],
   "source": [
    "re.search('cd', 'abcde')"
   ]
  },
  {
   "cell_type": "markdown",
   "metadata": {},
   "source": [
    "## Practice exercises for introduction to tokenization:\n",
    "\n",
    "$\\blacktriangleright$ **Data pre-loading:**"
   ]
  },
  {
   "cell_type": "code",
   "execution_count": 6,
   "metadata": {
    "ExecuteTime": {
     "end_time": "2021-02-06T01:36:51.892510Z",
     "start_time": "2021-02-06T01:36:51.886909Z"
    }
   },
   "outputs": [],
   "source": [
    "scene_one = open(\"ref2. Scene 1 of Monty Python and the Holy Grail.txt\").read()"
   ]
  },
  {
   "cell_type": "markdown",
   "metadata": {
    "ExecuteTime": {
     "end_time": "2020-12-19T22:02:33.692343Z",
     "start_time": "2020-12-19T22:02:33.687220Z"
    }
   },
   "source": [
    "$\\blacktriangleright$ **NLTK word tokenization with practice:**"
   ]
  },
  {
   "cell_type": "code",
   "execution_count": 7,
   "metadata": {
    "ExecuteTime": {
     "end_time": "2021-02-06T01:36:51.922210Z",
     "start_time": "2021-02-06T01:36:51.894990Z"
    }
   },
   "outputs": [
    {
     "name": "stdout",
     "output_type": "stream",
     "text": [
      "{'right', 'Uther', 'Listen', 'master', 'to', 'since', 'King', 'Yes', 'them', 'order', \"'em\", 'why', '1', 'a', 'plover', 'strand', 'are', 'simple', 'will', 'kingdom', 'sovereign', 'martin', 'tell', \"'ve\", 'go', 'this', 'grips', 'creeper', 'wind', 'mean', 'KING', 'weight', 'it', 'south', 'ratios', 'bird', 'I', 'Ridden', 'bangin', '?', 'me', 'ask', 'Camelot', 'European', 'court', 'must', 'We', \"'\", 'needs', 'swallows', 'do', 'dorsal', 'No', 'African', 'our', 'from', 'goes', 'anyway', 'got', 'sun', 'ounce', 'he', 'if', 'husk', 'defeator', '!', 'servant', 'maybe', 'Pendragon', 'suggesting', 'Please', 'times', 'you', 'But', 'join', 'A', 'castle', 'migrate', \"'m\", 'land', 'Wait', '...', 'Court', 'line', 'Arthur', 'house', 'yet', 'on', 'grip', 'five', '2', 'horse', 'may', 'carry', 'in', 'found', 'these', 'England', 'beat', 'an', 'wants', 'fly', 'Whoa', 'climes', 'that', 'where', ']', 'Are', 'tropical', 'You', 'coconut', 'Oh', 'air-speed', 'maintain', 'back', 'minute', 'SOLDIER', 'It', 'son', '.', 'lord', 'So', 'they', 'yeah', 'am', 'velocity', 'Not', 'all', 'carrying', 'Where', 'empty', 'but', '#', 'bring', 'swallow', 'is', \"'d\", 'snows', 'Saxons', ':', 'Well', 'be', 'and', 'using', 'or', 'by', 'Supposing', 'have', 'with', 'the', 'seek', 'knights', 'strangers', 'Halt', 'coconuts', 'Am', 'could', 'forty-three', 'speak', 'course', 'just', 'Found', 'does', 'ridden', 'SCENE', ',', 'your', 'Britons', 'get', 'Who', 'pound', 'other', 'ARTHUR', 'halves', 'held', 'its', 'wings', 'second', 'search', 'trusty', 'breadth', 'question', 'every', 'one', 'winter', 'who', 'Pull', \"'re\", 'covered', \"n't\", 'point', 'clop', 'The', 'In', 'length', 'of', 'carried', '[', 'under', 'temperate', 'That', '--', 'What', 'non-migratory', 'guiding', 'Will', 'Mercea', 'my', 'agree', 'here', 'then', 'feathers', 'They', 'through', 'there', 'Patsy', 'together', 'warmer', 'not', 'two', 'zone', 'interested', 'at', \"'s\", 'matter', 'use'}\n"
     ]
    }
   ],
   "source": [
    "# Import necessary modules\n",
    "from nltk.tokenize import sent_tokenize\n",
    "from nltk.tokenize import word_tokenize\n",
    "\n",
    "# Split scene_one into sentences: sentences\n",
    "sentences = sent_tokenize(scene_one)\n",
    "\n",
    "# Use word_tokenize to tokenize the fourth sentence: tokenized_sent\n",
    "tokenized_sent = word_tokenize(sentences[3])\n",
    "\n",
    "# Make a set of unique tokens in the entire scene: unique_tokens\n",
    "unique_tokens = set(word_tokenize(scene_one))\n",
    "\n",
    "# Print the unique tokens result\n",
    "print(unique_tokens)"
   ]
  },
  {
   "cell_type": "markdown",
   "metadata": {},
   "source": [
    "$\\blacktriangleright$ **Package pre-loading:**"
   ]
  },
  {
   "cell_type": "code",
   "execution_count": 8,
   "metadata": {
    "ExecuteTime": {
     "end_time": "2021-02-06T01:36:51.939511Z",
     "start_time": "2021-02-06T01:36:51.930767Z"
    }
   },
   "outputs": [],
   "source": [
    "import re"
   ]
  },
  {
   "cell_type": "markdown",
   "metadata": {},
   "source": [
    "$\\blacktriangleright$ **Regex (`re.search()`) practice:**"
   ]
  },
  {
   "cell_type": "code",
   "execution_count": 9,
   "metadata": {
    "ExecuteTime": {
     "end_time": "2021-02-06T01:36:51.963679Z",
     "start_time": "2021-02-06T01:36:51.945778Z"
    }
   },
   "outputs": [
    {
     "name": "stdout",
     "output_type": "stream",
     "text": [
      "580 588\n"
     ]
    }
   ],
   "source": [
    "# Search for the first occurrence of \"coconuts\" in scene_one: match\n",
    "match = re.search(\"coconuts\", scene_one)\n",
    "\n",
    "# Print the start and end indexes of match\n",
    "print(match.start(), match.end())"
   ]
  },
  {
   "cell_type": "code",
   "execution_count": 10,
   "metadata": {
    "ExecuteTime": {
     "end_time": "2021-02-06T01:36:51.978244Z",
     "start_time": "2021-02-06T01:36:51.973473Z"
    }
   },
   "outputs": [
    {
     "name": "stdout",
     "output_type": "stream",
     "text": [
      "<re.Match object; span=(9, 32), match='[wind] [clop clop clop]'>\n"
     ]
    }
   ],
   "source": [
    "# Write a regular expression to search for anything in square brackets: pattern1\n",
    "pattern1 = r\"\\[.*\\]\"\n",
    "\n",
    "# Use re.search to find the first text in square brackets\n",
    "print(re.search(pattern1, scene_one))"
   ]
  },
  {
   "cell_type": "code",
   "execution_count": 11,
   "metadata": {
    "ExecuteTime": {
     "end_time": "2021-02-06T01:36:52.001501Z",
     "start_time": "2021-02-06T01:36:51.984147Z"
    }
   },
   "outputs": [
    {
     "name": "stdout",
     "output_type": "stream",
     "text": [
      "<re.Match object; span=(0, 7), match='ARTHUR:'>\n"
     ]
    }
   ],
   "source": [
    "# Find the script notation at the beginning of the fourth sentence and print it\n",
    "pattern2 = r\"[\\w\\s#]+:\"\n",
    "print(re.match(pattern2, sentences[3]))"
   ]
  },
  {
   "cell_type": "markdown",
   "metadata": {},
   "source": [
    "## Version checking:"
   ]
  },
  {
   "cell_type": "code",
   "execution_count": 12,
   "metadata": {
    "ExecuteTime": {
     "end_time": "2021-02-06T01:36:52.010361Z",
     "start_time": "2021-02-06T01:36:52.004821Z"
    }
   },
   "outputs": [
    {
     "name": "stdout",
     "output_type": "stream",
     "text": [
      "The Python version is 3.7.9.\n",
      "The NLTK version is 3.5.\n"
     ]
    }
   ],
   "source": [
    "import sys\n",
    "import nltk\n",
    "\n",
    "print('The Python version is {}.'.format(sys.version.split()[0]))\n",
    "print('The NLTK version is {}.'.format(nltk.__version__))"
   ]
  }
 ],
 "metadata": {
  "kernelspec": {
   "display_name": "Python 3",
   "language": "python",
   "name": "python3"
  },
  "language_info": {
   "codemirror_mode": {
    "name": "ipython",
    "version": 3
   },
   "file_extension": ".py",
   "mimetype": "text/x-python",
   "name": "python",
   "nbconvert_exporter": "python",
   "pygments_lexer": "ipython3",
   "version": "3.7.9"
  },
  "latex_envs": {
   "LaTeX_envs_menu_present": true,
   "autoclose": true,
   "autocomplete": true,
   "bibliofile": "biblio.bib",
   "cite_by": "apalike",
   "current_citInitial": 1,
   "eqLabelWithNumbers": true,
   "eqNumInitial": 1,
   "hotkeys": {
    "equation": "Ctrl-E",
    "itemize": "Ctrl-I"
   },
   "labels_anchors": false,
   "latex_user_defs": false,
   "report_style_numbering": true,
   "user_envs_cfg": true
  },
  "nbTranslate": {
   "displayLangs": [
    "*"
   ],
   "hotkey": "alt-t",
   "langInMainMenu": true,
   "sourceLang": "en",
   "targetLang": "fr",
   "useGoogleTranslate": true
  },
  "toc": {
   "base_numbering": 1,
   "nav_menu": {},
   "number_sections": true,
   "sideBar": true,
   "skip_h1_title": false,
   "title_cell": "Table of Contents",
   "title_sidebar": "Contents",
   "toc_cell": false,
   "toc_position": {
    "height": "calc(100% - 180px)",
    "left": "10px",
    "top": "150px",
    "width": "288px"
   },
   "toc_section_display": true,
   "toc_window_display": true
  },
  "varInspector": {
   "cols": {
    "lenName": 16,
    "lenType": 16,
    "lenVar": 40
   },
   "kernels_config": {
    "python": {
     "delete_cmd_postfix": "",
     "delete_cmd_prefix": "del ",
     "library": "var_list.py",
     "varRefreshCmd": "print(var_dic_list())"
    },
    "r": {
     "delete_cmd_postfix": ") ",
     "delete_cmd_prefix": "rm(",
     "library": "var_list.r",
     "varRefreshCmd": "cat(var_dic_list()) "
    }
   },
   "types_to_exclude": [
    "module",
    "function",
    "builtin_function_or_method",
    "instance",
    "_Feature"
   ],
   "window_display": true
  }
 },
 "nbformat": 4,
 "nbformat_minor": 4
}
