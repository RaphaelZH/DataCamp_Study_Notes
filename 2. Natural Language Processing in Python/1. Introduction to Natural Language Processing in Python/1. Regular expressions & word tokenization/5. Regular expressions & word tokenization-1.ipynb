{
 "cells": [
  {
   "cell_type": "markdown",
   "metadata": {
    "ExecuteTime": {
     "end_time": "2020-07-24T11:20:21.989524Z",
     "start_time": "2020-07-24T11:20:12.960881Z"
    }
   },
   "source": [
    "```\n",
    "#############################################\n",
    "##                                         ##\n",
    "##  Natural Language Processing in Python  ##\n",
    "##                                         ##\n",
    "#############################################\n",
    "\n",
    "§1 Introduction to Natural Language Processing in Python\n",
    "\n",
    "§1.1 Regular expressions & word tokenization\n",
    "```"
   ]
  },
  {
   "cell_type": "markdown",
   "metadata": {},
   "source": [
    "# Introduction to regular expressions"
   ]
  },
  {
   "cell_type": "markdown",
   "metadata": {},
   "source": [
    "## What exactly are regular expressions?\n",
    "\n",
    "* Strings with a special syntax\n",
    "\n",
    "* Allow matching patterns in other strings, e.g., \n",
    "\n",
    "    * *find all web links in a document*\n",
    "    \n",
    "    * *parse email addresses*\n",
    "    \n",
    "    * *remove/replace unwanted characters*"
   ]
  },
  {
   "cell_type": "markdown",
   "metadata": {},
   "source": [
    "## Code of the applications of regular expressions:"
   ]
  },
  {
   "cell_type": "code",
   "execution_count": 1,
   "metadata": {
    "ExecuteTime": {
     "end_time": "2021-01-02T22:48:44.142007Z",
     "start_time": "2021-01-02T22:48:44.125369Z"
    }
   },
   "outputs": [
    {
     "data": {
      "text/plain": [
       "<re.Match object; span=(0, 3), match='abc'>"
      ]
     },
     "execution_count": 1,
     "metadata": {},
     "output_type": "execute_result"
    }
   ],
   "source": [
    "import re\n",
    "\n",
    "re.match('abc', 'abcdef')"
   ]
  },
  {
   "cell_type": "code",
   "execution_count": 2,
   "metadata": {
    "ExecuteTime": {
     "end_time": "2021-01-02T22:48:44.210611Z",
     "start_time": "2021-01-02T22:48:44.204195Z"
    }
   },
   "outputs": [
    {
     "data": {
      "text/plain": [
       "<re.Match object; span=(0, 2), match='hi'>"
      ]
     },
     "execution_count": 2,
     "metadata": {},
     "output_type": "execute_result"
    }
   ],
   "source": [
    "word_regex = '\\w+'\n",
    "re.match(word_regex, 'hi there!')"
   ]
  },
  {
   "cell_type": "markdown",
   "metadata": {},
   "source": [
    "## What are the common regex patterns?\n",
    "\n",
    "![Common regex patterns](ref1.%20Common%20regex%20patterns.jpg)"
   ]
  },
  {
   "cell_type": "markdown",
   "metadata": {},
   "source": [
    "## How to use Python's `re` module?\n",
    "\n",
    "* `re` module:\n",
    "\n",
    "    * `split`: split a string on regex\n",
    "    \n",
    "    * `findall`: find all pa erns in a string\n",
    "    \n",
    "    * `search`: search for a pattern\n",
    "    \n",
    "    * `match`: match an entire string or substring based on a pattern\n",
    "\n",
    "* Parameterize the pattern first and parameterize the string second.\n",
    "\n",
    "* May return an iterator, string, or match object."
   ]
  },
  {
   "cell_type": "markdown",
   "metadata": {},
   "source": [
    "## Code of Python's `re` module:"
   ]
  },
  {
   "cell_type": "code",
   "execution_count": 3,
   "metadata": {
    "ExecuteTime": {
     "end_time": "2021-01-02T22:48:45.515171Z",
     "start_time": "2021-01-02T22:48:45.490525Z"
    }
   },
   "outputs": [
    {
     "data": {
      "text/plain": [
       "['Split', 'on', 'spaces.']"
      ]
     },
     "execution_count": 3,
     "metadata": {},
     "output_type": "execute_result"
    }
   ],
   "source": [
    "re.split('\\s+', 'Split on spaces.')"
   ]
  },
  {
   "cell_type": "markdown",
   "metadata": {},
   "source": [
    "## Practice question for finding out the corresponding pattern:\n",
    "\n",
    "* Which of the following regex patterns results in the following text?\n",
    "\n",
    "    ```\n",
    "    >>> my_string = \"Let's write RegEx!\"\n",
    "    >>> re.findall(PATTERN, my_string)\n",
    "    ['Let', 's', 'write', 'RegEx']\n",
    "    ```\n",
    "\n",
    "    $\\Box$ `PATTERN = r\"\\s+\"`.\n",
    "\n",
    "    $\\boxtimes$ `PATTERN = r\"\\w+\"`.\n",
    "    \n",
    "    $\\Box$ `PATTERN = r\"[a-z]\"`.\n",
    "        \n",
    "    $\\Box$ `PATTERN = r\"\\w\"`."
   ]
  },
  {
   "cell_type": "markdown",
   "metadata": {},
   "source": [
    "$\\blacktriangleright$ **Package pre-loading:**"
   ]
  },
  {
   "cell_type": "code",
   "execution_count": 4,
   "metadata": {
    "ExecuteTime": {
     "end_time": "2021-01-02T22:48:46.253018Z",
     "start_time": "2021-01-02T22:48:46.250071Z"
    }
   },
   "outputs": [],
   "source": [
    "import re"
   ]
  },
  {
   "cell_type": "markdown",
   "metadata": {},
   "source": [
    "$\\blacktriangleright$ **Data pre-loading:**"
   ]
  },
  {
   "cell_type": "code",
   "execution_count": 5,
   "metadata": {
    "ExecuteTime": {
     "end_time": "2021-01-02T22:48:46.696942Z",
     "start_time": "2021-01-02T22:48:46.692832Z"
    }
   },
   "outputs": [],
   "source": [
    "my_string = \"Let's write RegEx!\""
   ]
  },
  {
   "cell_type": "markdown",
   "metadata": {},
   "source": [
    "$\\blacktriangleright$ **Question-solving method:**"
   ]
  },
  {
   "cell_type": "code",
   "execution_count": 6,
   "metadata": {
    "ExecuteTime": {
     "end_time": "2021-01-02T22:48:47.144408Z",
     "start_time": "2021-01-02T22:48:47.139074Z"
    }
   },
   "outputs": [
    {
     "data": {
      "text/plain": [
       "[' ', ' ']"
      ]
     },
     "execution_count": 6,
     "metadata": {},
     "output_type": "execute_result"
    }
   ],
   "source": [
    "PATTERN = r\"\\s+\"\n",
    "re.findall(PATTERN, my_string)"
   ]
  },
  {
   "cell_type": "code",
   "execution_count": 7,
   "metadata": {
    "ExecuteTime": {
     "end_time": "2021-01-02T22:48:47.200778Z",
     "start_time": "2021-01-02T22:48:47.195550Z"
    }
   },
   "outputs": [
    {
     "data": {
      "text/plain": [
       "['Let', 's', 'write', 'RegEx']"
      ]
     },
     "execution_count": 7,
     "metadata": {},
     "output_type": "execute_result"
    }
   ],
   "source": [
    "PATTERN = r\"\\w+\"\n",
    "re.findall(PATTERN, my_string)"
   ]
  },
  {
   "cell_type": "code",
   "execution_count": 8,
   "metadata": {
    "ExecuteTime": {
     "end_time": "2021-01-02T22:48:47.305073Z",
     "start_time": "2021-01-02T22:48:47.300495Z"
    }
   },
   "outputs": [
    {
     "data": {
      "text/plain": [
       "['e', 't', 's', 'w', 'r', 'i', 't', 'e', 'e', 'g', 'x']"
      ]
     },
     "execution_count": 8,
     "metadata": {},
     "output_type": "execute_result"
    }
   ],
   "source": [
    "PATTERN = r\"[a-z]\"\n",
    "re.findall(PATTERN, my_string)"
   ]
  },
  {
   "cell_type": "code",
   "execution_count": 9,
   "metadata": {
    "ExecuteTime": {
     "end_time": "2021-01-02T22:48:47.380210Z",
     "start_time": "2021-01-02T22:48:47.374366Z"
    }
   },
   "outputs": [
    {
     "data": {
      "text/plain": [
       "['L', 'e', 't', 's', 'w', 'r', 'i', 't', 'e', 'R', 'e', 'g', 'E', 'x']"
      ]
     },
     "execution_count": 9,
     "metadata": {},
     "output_type": "execute_result"
    }
   ],
   "source": [
    "PATTERN = r\"\\w\"\n",
    "re.findall(PATTERN, my_string)"
   ]
  },
  {
   "cell_type": "markdown",
   "metadata": {},
   "source": [
    "## Practice exercises for introduction to regular expressions:\n",
    "\n",
    "$\\blacktriangleright$ **Package pre-loading:**"
   ]
  },
  {
   "cell_type": "code",
   "execution_count": 10,
   "metadata": {
    "ExecuteTime": {
     "end_time": "2021-01-02T22:48:47.754027Z",
     "start_time": "2021-01-02T22:48:47.750723Z"
    }
   },
   "outputs": [],
   "source": [
    "import re"
   ]
  },
  {
   "cell_type": "markdown",
   "metadata": {},
   "source": [
    "$\\blacktriangleright$ **Data pre-loading:**"
   ]
  },
  {
   "cell_type": "code",
   "execution_count": 11,
   "metadata": {
    "ExecuteTime": {
     "end_time": "2021-01-02T22:48:48.134094Z",
     "start_time": "2021-01-02T22:48:48.127749Z"
    }
   },
   "outputs": [],
   "source": [
    "my_string = \"Let's write RegEx!  \\\n",
    "Won't that be fun?  \\\n",
    "I sure think so.  \\\n",
    "Can you find 4 sentences?  \\\n",
    "Or perhaps, all 19 words?\""
   ]
  },
  {
   "cell_type": "markdown",
   "metadata": {
    "ExecuteTime": {
     "end_time": "2020-12-19T22:02:33.692343Z",
     "start_time": "2020-12-19T22:02:33.687220Z"
    }
   },
   "source": [
    "$\\blacktriangleright$ **Regular expressions (`re.split()` and `re.findall()`) practice:**"
   ]
  },
  {
   "cell_type": "code",
   "execution_count": 12,
   "metadata": {
    "ExecuteTime": {
     "end_time": "2021-01-02T22:48:48.597931Z",
     "start_time": "2021-01-02T22:48:48.591094Z"
    }
   },
   "outputs": [
    {
     "name": "stdout",
     "output_type": "stream",
     "text": [
      "[\"Let's write RegEx\", \"  Won't that be fun\", '  I sure think so', '  Can you find 4 sentences', '  Or perhaps, all 19 words', '']\n",
      "['Let', 'RegEx', 'Won', 'Can', 'Or']\n",
      "[\"Let's\", 'write', 'RegEx!', \"Won't\", 'that', 'be', 'fun?', 'I', 'sure', 'think', 'so.', 'Can', 'you', 'find', '4', 'sentences?', 'Or', 'perhaps,', 'all', '19', 'words?']\n",
      "['4', '19']\n"
     ]
    }
   ],
   "source": [
    "# Write a pattern to match sentence endings: sentence_endings\n",
    "sentence_endings = r\"[\\.\\?!]\"\n",
    "\n",
    "# Split my_string on sentence endings and print the result\n",
    "print(re.split(sentence_endings, my_string))\n",
    "\n",
    "# Find all capitalized words in my_string and print the result\n",
    "capitalized_words = r\"[A-Z]\\w+\"\n",
    "print(re.findall(capitalized_words, my_string))\n",
    "\n",
    "# Split my_string on spaces and print the result\n",
    "spaces = r\"\\s+\"\n",
    "print(re.split(spaces, my_string))\n",
    "\n",
    "# Find all digits in my_string and print the result\n",
    "digits = r\"\\d+\"\n",
    "print(re.findall(digits, my_string))"
   ]
  },
  {
   "cell_type": "markdown",
   "metadata": {
    "ExecuteTime": {
     "end_time": "2020-07-24T11:20:21.989524Z",
     "start_time": "2020-07-24T11:20:12.960881Z"
    }
   },
   "source": [
    "```\n",
    "#############################################\n",
    "##                                         ##\n",
    "##  Natural Language Processing in Python  ##\n",
    "##                                         ##\n",
    "#############################################\n",
    "\n",
    "§1 Introduction to Natural Language Processing in Python\n",
    "\n",
    "§1.1 Regular expressions & word tokenization\n",
    "```"
   ]
  },
  {
   "cell_type": "markdown",
   "metadata": {},
   "source": [
    "# Introduction to tokenization"
   ]
  },
  {
   "cell_type": "markdown",
   "metadata": {},
   "source": [
    "## What is tokenization?\n",
    "\n",
    "* It turns a string or document into tokens (smaller chunks).\n",
    "\n",
    "* It's one step in preparing a text for NLP.\n",
    "\n",
    "* It has many different theories and rules.\n",
    "\n",
    "* Users can create their own rules using regular expressions.\n",
    "\n",
    "* There are some examples:\n",
    "\n",
    "\t* *breaking out words or sentences*\n",
    "    \n",
    "\t* *separating punctuation*\n",
    "    \n",
    "\t* *separating all hashtags in a tweet*"
   ]
  },
  {
   "cell_type": "markdown",
   "metadata": {},
   "source": [
    "## What is the NLTK library?\n",
    "\n",
    "* NLTK: Natural Language Toolkit"
   ]
  },
  {
   "cell_type": "markdown",
   "metadata": {},
   "source": [
    "## Code of the NLTK library:"
   ]
  },
  {
   "cell_type": "code",
   "execution_count": 13,
   "metadata": {
    "ExecuteTime": {
     "end_time": "2021-01-02T22:48:54.811643Z",
     "start_time": "2021-01-02T22:48:50.364975Z"
    }
   },
   "outputs": [
    {
     "data": {
      "text/plain": [
       "['Hi', 'there', '!']"
      ]
     },
     "execution_count": 13,
     "metadata": {},
     "output_type": "execute_result"
    }
   ],
   "source": [
    "from nltk.tokenize import word_tokenize\n",
    "\n",
    "word_tokenize(\"Hi there!\")"
   ]
  },
  {
   "cell_type": "markdown",
   "metadata": {
    "ExecuteTime": {
     "end_time": "2020-12-20T20:08:55.570909Z",
     "start_time": "2020-12-20T20:08:55.565185Z"
    }
   },
   "source": [
    "## Why tokenize?\n",
    "\n",
    "* Easier to map part of speech.\n",
    "\n",
    "* To match common words.\n",
    "\n",
    "* To remove unwanted tokens.\n",
    "\n",
    "* E.g., \n",
    "\n",
    "    ```\n",
    "    >>> word_tokenize(\"I don't like Sam's shoes.\")\n",
    "    ['I', 'do', \"n't\", 'like', 'Sam', \"'s\", 'shoes', '.']\n",
    "    ```"
   ]
  },
  {
   "cell_type": "markdown",
   "metadata": {},
   "source": [
    "## What are the other NLTK tokenizers?\n",
    "\n",
    "* `sent_tokenize`: tokenize a document into sentences.\n",
    "\n",
    "* `regexp_tokenize`: tokenize a string or document based on a regular expression pattern.\n",
    "\n",
    "* `TweetTokenizer`: special class just for tweet tokenization, allowing separate hashtags, mentions, and lots of exclamation points, such as '!!!'."
   ]
  },
  {
   "cell_type": "markdown",
   "metadata": {},
   "source": [
    "## Code of regex practice (the difference between `re.search()` and `re.match()`):"
   ]
  },
  {
   "cell_type": "code",
   "execution_count": 14,
   "metadata": {
    "ExecuteTime": {
     "end_time": "2021-01-02T22:48:54.834863Z",
     "start_time": "2021-01-02T22:48:54.826437Z"
    }
   },
   "outputs": [
    {
     "data": {
      "text/plain": [
       "<re.Match object; span=(0, 3), match='abc'>"
      ]
     },
     "execution_count": 14,
     "metadata": {},
     "output_type": "execute_result"
    }
   ],
   "source": [
    "import re\n",
    "\n",
    "re.match('abc', 'abcde')"
   ]
  },
  {
   "cell_type": "code",
   "execution_count": 15,
   "metadata": {
    "ExecuteTime": {
     "end_time": "2021-01-02T22:48:54.853632Z",
     "start_time": "2021-01-02T22:48:54.846395Z"
    }
   },
   "outputs": [
    {
     "data": {
      "text/plain": [
       "<re.Match object; span=(0, 3), match='abc'>"
      ]
     },
     "execution_count": 15,
     "metadata": {},
     "output_type": "execute_result"
    }
   ],
   "source": [
    "re.search('abc', 'abcde')"
   ]
  },
  {
   "cell_type": "code",
   "execution_count": 16,
   "metadata": {
    "ExecuteTime": {
     "end_time": "2021-01-02T22:48:54.867547Z",
     "start_time": "2021-01-02T22:48:54.862695Z"
    }
   },
   "outputs": [],
   "source": [
    "re.match('cd', 'abcde')"
   ]
  },
  {
   "cell_type": "code",
   "execution_count": 17,
   "metadata": {
    "ExecuteTime": {
     "end_time": "2021-01-02T22:48:54.884271Z",
     "start_time": "2021-01-02T22:48:54.874266Z"
    }
   },
   "outputs": [
    {
     "data": {
      "text/plain": [
       "<re.Match object; span=(2, 4), match='cd'>"
      ]
     },
     "execution_count": 17,
     "metadata": {},
     "output_type": "execute_result"
    }
   ],
   "source": [
    "re.search('cd', 'abcde')"
   ]
  },
  {
   "cell_type": "markdown",
   "metadata": {},
   "source": [
    "## Practice exercises for introduction to tokenization:\n",
    "\n",
    "$\\blacktriangleright$ **Data pre-loading:**"
   ]
  },
  {
   "cell_type": "code",
   "execution_count": 18,
   "metadata": {
    "ExecuteTime": {
     "end_time": "2021-01-02T22:48:54.908504Z",
     "start_time": "2021-01-02T22:48:54.895442Z"
    }
   },
   "outputs": [],
   "source": [
    "scene_one = open(\"ref2. Monty Python and the Holy Grail.txt\").read()"
   ]
  },
  {
   "cell_type": "markdown",
   "metadata": {
    "ExecuteTime": {
     "end_time": "2020-12-19T22:02:33.692343Z",
     "start_time": "2020-12-19T22:02:33.687220Z"
    }
   },
   "source": [
    "$\\blacktriangleright$ **NLTK word tokenization with practice:**"
   ]
  },
  {
   "cell_type": "code",
   "execution_count": 19,
   "metadata": {
    "ExecuteTime": {
     "end_time": "2021-01-02T22:48:55.427144Z",
     "start_time": "2021-01-02T22:48:54.923835Z"
    }
   },
   "outputs": [
    {
     "name": "stdout",
     "output_type": "stream",
     "text": [
      "{'suggesting', 'sharp', 'comin', 'Doctor', 'autonomous', 'whispering', 'making', 'time', 'streak', 'bother', 'HEAD', 'depressing', 'word', 'scenes', 'sigh', 'could', \"'forgive\", 'friend', 'couple', 'Have', 'ye', 'Ahh', 'dine', 'cheesy', 'wounded', 'blood', 'Really', 'split', 'problem', 'follow', 'same', 'names', 'Ow', 'man', 'her', 'own', 'escape', 'Uh', 'mayhem', 'Alright', 'confuse', 'spooky', 'keen', 'suit', 'Most', 'assault', 'quarrel', 'clack', 'MONKS', 'ARMY', 'What', 'jam', 'TIM', 'ptoo', 'n', 'quest', 'curtains', 'More', \"'Ere\", 'somebody', 'two', 'Consult', 'window-dresser', 'OTHER', 'wide', \"'Erbert\", 'behaviour', 'Tower', 'parts', 'Aaaaaaaah', 'yourself', 'Other', 'question', '5', 'sent', 'pansy', 'Idiom', 'brain', 'Jesus', 'Thpppt', 'Chickennn', 'pig', 'SECOND', 'treat', 'busy', 'CHARACTER', 'end', 'us', 'jokes', 'HERBERT', 'Uuh', 'creep', 'Winter', 'worked', 'second', 'Nador', 'None', 'sword', 'aptly', 'Beast', 'GIRLS', 'resting', 'supposed', '22', 'stupid', \"'old\", 'CHARACTERS', 'joyful', 'Oui', 'Chicken', 'frozen', 'approacheth', 'amazes', 'Welcome', 'carries', 'last', 'Thank', 'Between', 'buy', \"'s\", 'deeds', 'model', 'why', '18', 'present', 'undressing', 'forced', 'distributing', 'Yeaah', 'new', 'Nothing', 'laden', 'cope', 'Put', 'headed', 'major', 'unhealthy', '1', 'BLACK', 'certain', 'crone', 'Iiiiives', \"'Man\", 'Piglet', 'KNIGHT', 'easy', 'feel', '21', 'aloft', 'rejoicing', 'never', 'path', 'Tale', 'apart', 'Camaaaaaargue', 'send', 'sign', 'pass', 'stew', 'south', 'to', 'Bloody', 'icy', 'VILLAGERS', 'together', 'No', 'master', 'Thppt', 'reared', 'git', 'Oh', 'Dappy', 'relics', 'working', 'any', 'RANDOM', 'twong', 'progress', '15', 'wo', 'birds', 'society', 'BROTHER', 'ungallant', 'prevent', 'SIR', 'also', 'tired', 'bugger-folk', 'keeper', 'father', 'carving', 'pig-dogs', 'spanked', 'Huy', '!', 'tit', 'Three', 'Battle', 'buggering', 'shrubber', 'burned', 'tinder', 'by', 'police', 'harmless', 'changed', 'safety', 'Hmm', 'formed', 'rabbit', 'door-opening', 'four', 'turned', 'CRAPPER', 'thy', 'purest', 'winter', 'pond', 'penalty', 'chest', 'Two', 'tale', 'He', 'separate', 'feint', 'twin', 'sod', 'point', 'towards', 'Attila', 'leaps', 'spake', 'stand', \"'Ecky-ecky-ecky-ecky-pikang-zoop-boing-goodem-zoo-owli-zhiv\", 'My', 'Hoa', 'build', 'previous', 'lie', 'Nine', 'Old', 'asking', 'Bravely', 'Cut', 'stab', 'cave', 'Like', 'right', 'French', 'bad', '7', 'Bravest', 'its', 'hospital', 'really', 'repressed', 'sun', 'with', 'shrubbery', 'ill.', 'Book', 'Hah', 'Yapping', 'ninepence', 'hand', 'out-clever', 'humble', 'looking', 'oui', 'tie', 'sonny', 'packing', 'dance', 'nibble', 'beautiful', 'afoot', 'dorsal', 'conclusion', 'hidden', 'profane', 'When', 'anywhere', 'Oooh', 'arms', 'Throw', 'laurels', 'two-thirds', 'Roger', 'VOICE', 'guiding', 'excuse', 'knew', 'automatically', 'Nu', 'war', 'MIDDLE', 'ours', 'Himself', 'OLD', 'woosh', 'obviously', 'under', '--', 'told', 'Aaah', 'Joseph', 'BRIDE', 'rhymes', 'twenty-four', 'knights', 'Is', 'horrendous', 'Assyria', 'Lord', 'GOD', 'Firstly', 'Hic', 'internal', 'Aauuugh', 'opera', 'Ah', 'Leaving', 'i', 'took', 'purpose', 'Today', 'whom', '4', 'dictating', 'eccentric', 'leads', 'gon', 'hast', 'lovely', 'goes', 'of', 'On', 'PERSON', 'number', \"'Aauuuuugh\", 'eight', 'ARTHUR', 'dress', 'types-a', 'foul', 'guests', 'person', 'needs', 'Sir', 'reached', 'retreat', 'it', 'See', 'drilllll', 'Ulk', 'uhh', 'trouble', 'imprisoned', 'cough', 'moment', 'fart', 'mud', 'bringing', 'gravy', 'holy', 'tell', 'CUSTOMER', 'She', 'indeed', 'has', 'dub', 'pure', 'expect', ')', 'ehh', 'groveling', 'further', 'special', 'went', 'farcical', 'merger', 'looked', 'clang', 'count', 'Eh', 'became', 'smashing', \"'is\", 'PRISONER', 'migrate', 'GREEN', 'awhile', 'Apples', 'much', 'whoever', 'shows', 'Aaaaaah', 'Ayy', 'van', 'eyes', 'writing', 'Seek', 'some', 'Of', 'Supposing', 'glory', 'sight', 'nearly', 'Great', 'Arimathea', 'There', 'PATSY', 'nineteen-and-a-half', 'clunk', 'lost', 'warned', 'score', 'Thee', 'Bread', 'smack', 'aaugh', 'oooh', 'Gallahad', 'yes', 'Frank', 'understand', 'shall', 'If', 'medical', 'smelt', '3', 'Ho', 'Providence', 'guards', 'Aauuggghhh', 'aunties', 'ju', 'shimmering', 'True', 'act', 'table', 'stop', 'coming', 'Riiight', 'masses', 'outrageous', 'centuries', 'praised', 'nasty', 'certainly', 'brush', 'Haw', 'country', 'look', 'Rheged', 'eats', 'already', 'VILLAGER', 'glad', 'advancing', 'Gable', 'twang', 'awfully', 'purely', 'leg', 'gay', 'Hey', 'beyond', 'supreme', \"'Dennis\", 'THE', 'Quiet', 'testicles', 'around', 'third', 'oral', '8', 'Lie', 'fourth', 'verses', 'class', \"'Morning\", 'simple', 'might', 'chu', 'Go', 'Anybody', 'dona', 'too', 'liege', 'carry', 'outdoors', 'ridden', 'maybe', 'Lucky', 'seems', 'Bridge', 'else', 'scales', 'son', 'broken', 'walking', 'earth', 'angels', 'Surely', 'la', 'frontal', 'relax', 'vital', 'Oooo', 'Um', 'arm', 'spam', 'suspenseful', 'INSPECTOR', 'two-level', 'be', 'enemies', 'wicked', 'assist', 'shut', 'plain', 'DEAD', 'Sorry', 'WIFE', 'known', \"'m\", 'inherent', 'singing', 'quiet', 'bitching', 'Now', 'Brother', 'Listen', 'imperialist', 'art', 'cart', 'wiper', 'weight', 'swallows', ':', 'Hang', 'CARTOON', 'intermission', 'married', 'worry', 'interested', 'eis', 'join', 'With', 'taken', 'um', 'carrying', 'social', 'dear', 'j', 'horse', 'Grail', 'zoosh', 's', 'ENCHANTER', 'newt', 'Shall', 'therefore', 'utterly', 'Almighty', 'using', 'bottoms', 'Our', 'the-not-quite-so-brave-as-Sir-Lancelot', 'Clark', 'who', 'sworn', 'get', 'bed', 'eisrequiem', 'bells', 'They', 'Iesu', 'foot', 'everyone', 'tropical', 'Launcelot', 'pay', 'binding', 'keep', 'left', 'LAUNCELOT', 'employed', 'nostrils', 'down', 'Which', 'Bring', 'bravely', 'presence', 'SOLDIER', 'Pure', 'weather', 'bladders', 'diaphragm', 'Hiyya', 'Pie', 'idea', 'LOVELY', 'Waa', 'clop', 'BEDEVERE', 'lived', \"'First\", 'door', 'for', 'weighs', 'brave', 'pen', 'Monsieur', 'Running', 'Saint', 'tea', 'object', '19', 'Christ', 'Lady', 'illustrious', 'wait', 'Hallo', 'daughter', 'swamp', 'other', 'quite', 'best', 'dressing', 'At', 'example', 'bang', 'Cherries', 'baby', 'successful', 'lord', 'Forgive', 'absolutely', 'Clear', 'evil', 'Umm', 'Will', 'creeper', 'Since', \"n't\", 'blow', 'king', 'Aagh', 'Skip', 'teeth', 'vain', 'Fine', 'lambs', 'spoken', 'passed', 'change', 'cop', 'put', 'Spring', 'haste', 'more', 'Away', 'Ninepence', 'how', 'yellow', 'delirious', 'fortune', 'y', 'kick', 'Forward', 'pweeng', 'vests', 'hills', 'travellers', 'had', 'danger', \"'uuggggggh\", 'nearer', 'Pin', 'happens', 'apologise', 'push', 'seem', 'siren', 'A', 'expensive', 'someone', 'feathers', '10', '16', 'underwear', 'day', 'This', 'call', 'himself', 'that', 'Agh', 'donaeis', 'mer', 'coconut', 'honored', 'he', 'band', 'course', 'yeah', 'bint', 'consulted', 'Pull', 'strength', 'helpful', 'where', 'always', 'scrape', 'carp', 'seen', 'Swamp', 'splat', 'Neee-wom', 'ROBIN', 'ratified', 'just', 'quick', 'dogma', 'l', 'defeator', 'autocracy', 'little', '14', 'Halt', 'Princess', 'heeh', 'bet', 'business', 'or', 'p', 'chorus', 'Picture', 'GALAHAD', 'bows', 'you', 'hundred-and-fifty', 'history', 'fled', 'waste', 'search', 'order', 'sweet', \"'til\", 'explain', 'Thpppppt', 'mooo', 'That', 'hall', 'medieval', 'Shut', 'protect', 'Those', 'Mud', 'proceed', 'shrubberies', 'haaa', '17', '#', 'in', 'considerable', 'since', 'bottom', 'Caerbannog', 'used', 'mumble', 'help', 'slightly', 'Just', 'Galahad', 'foe', 'Ridden', 'Thsss', 'pound', 'even', 'inferior', 'Meanwhile', 'Iiiives', 'felt', 'ANIMATOR', 'GUEST', 'lot', 'bridge', 'Death', 'lies', 'Ooh', 'ca', 'ha', 'must', 'direction', 'Brave', 'Thou', 'request', 'Yes', 'perpetuates', 'wedding', 'although', 'k-nnniggets', 'Come', 'e', 'ruffians', 'outside', 'become', 'tackle', 'sneaking', 'side', 'ROGER', 'hamster', 'scott', 'Fiends', 'Did', 'wayy', 'auuuuuuuugh', 'bats', 'flights', 'Cider', 'violence', 'gone', 'quests', 'pull', 'pussy', 'auntie', 'Pendragon', 'liar', 'strangers', 'seldom', 'risk', 'maintain', 'frighten', 'Cornwall', 'alive', 'young', 'tragic', 'snore', 'bi-weekly', 'Gawain', 'stuffed', 'eet', 'anyway', 'live', 'fair', 'today', 'dying', 'straight', 'is', 'Grenade', 'meeting', 'him', 'Unfortunately', 'WINSTON', 'sorry', 'thou', 'gra', 'the', 'NARRATOR', 'Victory', 'Four', 'built', \"'aaaah\", 'string', 'Off', 'power', 'lives', 'would', 'limbs', 'shit', 'something', 'CRONE', 'warmer', 'guided', 'Aaauugh', 'wishes', 'Explain', 'quack', 'pulp', 'through', 'Antioch', 'Stop', 'N', 'Said', 'somewhere', 'living', 'ladies', 'MAN', 'bunny', 'sort', 'training', 'SENTRY', 'exploiting', 'marry', 'clear', 'fwump', 'mangy', 'nervous', 'Quickly', 'forth', \"'Course\", 'then', 'better', 'alight', 'bad-tempered', 'science', 'fifty', 'Aaaaaaaaah', 'this', 'taking', 'Concorde', 'avenged', 'they', 'lapin', 'Anarcho-syndicalism', 'dull', 'chance', 'Tell', 'punishment', 'Bedevere', 'sixteen', 'yelling', 'Summer', 'forget', 'Angnor', 'arrows', 'doors', \"'To\", 'lobbest', 'woods', 'should', 'rope', 'north-east', 'KNIGHTS', 'You', \"'T\", 'hear', 'Alice', 'ZOOT', 'suffered', 'again', 'eh', 'peasant', 'bold', 'nice-a', 'been', 'kneecaps', 'mayest', 'Aah', 'WITCH', 'silence', 'CAMERAMAN', 'Tim', 'Robin', 'bum', 'mad', 'mile', 'bleeder', 'heads', 'grenade', 'breakfast', 'Patsy', 'Aaaugh', 'Knights', 'stretched', 'runes', 'persons', 'head', 'Prince', 'Thy', 'Your', 'SHRUBBER', 'large', 'show', 'Hold', 'as', 'samite', 'thump', 'Recently', 'go', 'Beyond', 'bathing', 'Bad', 'their', 'ask', 'answer', 'creak', 'mistake', 'workers', 'name', 'halves', 'clank', 'temptress', 'year', 'things', 'chickened', 'them', 'long', 'favorite', 'wings', 'easily', 'raped', 'bravest', 'take', 'Keep', 'at', 'union', 'ceremony', 'test', 'do', 'uh', 'longer', 'remembered', 'met', 'Mercea', 'Try', 'awaits', 'va.', 'bowels', \"'shrubberies\", 'please', 'MINSTREL', 'Aauuuves', 'cast', 'scarper', 'Camelot', 'handsome', 'lady', 'Well', 'talk', 'tiny-brained', 'task', 'o', 'high', 'Uugh', 'town', 'tail', 'Table', 'biggest', 'Speak', 'elbows', 'dictatorship', 'Behold', 'kicked', 'along', 'mangled', 'Farewell', 'emperor', 'knock', 'weapon', 'draw', 'Let', 'temptation', 'cost', 'wise', 'swallow', 'worried', 'ethereal', 'wherein', 'pounds', 'warm', 'visually', 'thank', 'Hya', 'wield', 'stay', 'saved', 'FRENCH', 'un', 'thing', 'cry', 'eat', 'accomplished', 'matter', 'death', 'snows', 'requiem', 'European', 'every', 'classes', 'speak', 'rocks', 'sons', 'u', 'starling', 'cereals', 'officer', 'totally', 'lucky', 'sovereign', 'one', 'liver', 'anything', 'armor', 'round', 'buggered', 'strange', 'next', 'king-a', 'on', 'back', 'Therefore', 'our', \"'em\", 'oh', 'k-nnnnniggets', 'carried', 'luck', 'Be', 'up', '13', 'plan', 'now', 'twenty', 'all', 'nick', 'burst', '24', 'going', 'there', 'me', 'song', 'castanets', 'earthquakes', 'ride', 'give', 'Hee', 'terribly', \"'Here\", 'islands', 'from', 'crying', 'chickening', 'actually', 'was', 'a', 'bits', 'want', 'music', 'mystic', 'sheep', 'your', 'completely', 'Too', 'velocity', 'face', 'self-perpetuating', 'telling', 'Shrubber', 'an', 'snap', 'Everything', 'havin', 'words', 'flint', 'Shrubberies', 'suddenly', 'hat', 'Oooohoohohooo', 'we', 'ignore', 'breath', 'Zoot', 'so', 'clllank', 'most', 'Hiyah', 'legally', 'cover', 'SCENE', 'Round', 'she', 'yours', 'removed', 'blondes', 'DENNIS', 'impeccable', 'Hyy', 'pointy', 'Yup', 'says', 'sacrifice', 'MIDGET', 'PARTY', 'learning', 'B', 'outwit', 'fallen', 'wave', 'discovers', 'badger', 'daring', 'bois', 'sex', 'radio', 'temperate', 'near', 'have', 'gave', 'As', 'high-pitched', 'only', 'flesh', 'appease', 'see', 'largest', 'week', 'Yeah', 'Open', 'mac', 'continue', \"'re\", 'food', 'trough', 'immediately', 'deal', 'CART-MASTER', 'Honestly', 'discovered', 'Mine', 'Bors', 'dramatic', 'Looks', 'Nay', 'Whoa', 'duck', 'sponge', 'terrible', 'least', 'Hello', 'shivering', 'leave', 'thwonk', 'said', 'Autumn', 'adversary', 'grips', 'Remove', 'silly', 'unclog', 'walk', 'Chop', 'Heh', 'saying', 'Holy', 'bastards', 'defeat', 'yet', 'made', 'WOMAN', 'Bedwere', 'fine', \"'Ni\", 'note', 'bless', 'sir', 'Eternal', 'Use', 'Ay', 'held', 'what', 'thud', 'done', '.', 'night', 'pestilence', 'AMAZING', 'unladen', 'Ask', 'three', 'footwork', 'awaaaaay', 'CRASH', \"C'est\", 'Prepare', 'sacred', 'fell', 'Huyah', 'refuse', 'let', 'cartoon', \"'ll\", 'kneeling', 'perilous', 'beacon', 'house', 'moistened', 'thonk', 'traveller', 'ratios', 'fold', 'Charge', 'carved', 'bite', 'Hurry', 'place', 'Winston', 'wounding', 'hee', 'people', 'noise', 'MAYNARD', 'vouchsafed', 'animator', 'gouged', 'whinny', 'Mmm', 'offensive', 'Does', 'nose', 'glass', 'questions', 'Wood', 'unplugged', 'Ages', 'those', 'Far', 'mercy', 'decision', 'bastard', 'Rather', 'Eee', 'feast', 'An', 'empty', 'Greetings', 'executive', 'because', 'chord', 'wrong', 'sank', 'impersonate', 'pram', 'Peng', 'finest', 'na', 'Am', 'vache', 'seemed', 'without', 'Black', 'knows', 'brought', 'valor', 'air-speed', 'later', 'grail-shaped', 'worst', 'manner', 'open', 'elderberries', 'Bones', 'Must', 'nothing', 'accompanied', 'convinced', 'roar', 'Fetchez', 'dirty', 'mine', 'All', 'attend', 'bloody', 'ponds', 'OF', 'lobbed', 'come', 'warning', 'Maynard', 'minstrels', 'Huh', 'beat', 'whether', 'upon', 'duty', 'nice', 'Guards', 'Would', 'suffice', 'alarm', 'Never', 'rest', 'Splendid', 'Who', 'if', 'strategy', '6', 'Or', 'Run', 'Man', 'squeak', 'tough', 'grail', 'sequin', 'outdated', 'Saxons', 'legendary', 'Look', 'beside', 'enjoying', '(', 'five', 'period', 'PRINCESS', 'gurgle', 'sink', 'haw', 'fatal', 'am', 'Quite', 'dead', 'whose', 'tear', 'wind', 'Not-appearing-in-this-film', 'proved', 'Quick', 'bid', 'ugly', 'animal', 'particular', \"'aaggggh\", 'sing', 'bangin', 'strand', 'dragging', 'government', 'sawwwww', 'Defeat', 'thine', 'Psalms', 'nine', 'soft', 'try', 'ALL', 'snuff', 'allowed', \"'round\", 'scratch', 'Then', 'affairs', 'Lancelot', 'majority', 'sire', 'herring', 'far', 'forward', 'room', 'supports', 'nor', 'daft', 'lair', 'reads', 'anarcho-syndicalist', 'lunged', 'excepting', 'NI', 'Silence', 'closest', 'kind', 'need', 'influential', 'regulations', 'RIGHT', 'use', 'well', 'bones', 'after', 'chastity', 'Even', 'hiyaah', 'running', 'W', 'times', 'died', 'length', 'like', 'rewr', 'acting', 'spank', 'giggle', '[', 'magne', 'away', 'Ha', 'over', 'make', 'Stand', 'Britons', 'carve', 'His', 'ni', 'Until', 'here', 'zone', 'Aaaah', 'How', 'servant', 'Here', 'doctors', 'threw', 'demand', 'ounce', 'knees-bent', 'hello', 'taunting', 'rode', 'entrance', 'men', 'ever', 'Bristol', 'electric', 'blessing', 'Aaaaugh', 'sniff', '..', 'Wayy', 'single-handed', 'asks', 'than', 'design', 'give-away', 'did', 'Mind', 'Amen', 'peril', 'Heee', 'courage', 'late', 'sure', 'gained', 'ordinary', 'economic', 'chanting', 'heroic', 'mightiest', 'bridgekeeper', 'sad', 'horn', 'trusty', 'k-niggets', ']', 'African', 'understanding', 'Once', 'fight', 'behold', 'force', 'line', 'Practice', 'For', 'dappy', 'killer', 'Arthur', 'soiled', 'particularly', 'effect', 'hoo', 'forty-three', 'Olfin', 'guarded', 'scimitar', 'legs', 'clad', 'Mother', 'heh', 'girl', 'kings', 'castle', 'lose', 'smashed', 'cruel', 'think', 'routines', 'wipers', 'mandate', 'Lead', 'Over', 'clue', 'derives', 'Shh', 'command', 'does', 'another', '23', 'Please', \"'\", 'witch', 'handle', 'still', 'beds', 'Order', 'owns', 'recover', 'time-a', 'small', 'started', 'indefatigable', 'forest', 'Midget', 'Stay', 'splash', 'basic', 'performance', 'Tall', 'folk', 'soon', 'killed', 'aquatic', 'Dramatically', 'Excuse', 'drink', 'Steady', 'old', 'logically', 'happy', \"'Oooooooh\", 'freedom', 'body', 'preserving', 'strewn', 'averting', 'until', 'stayed', 'reasonable', 'yel', 'turns', 'CROWD', 'rich', 'Why', 'no', 'life', 'anchovies', 'mashed', 'main', 'wants', 'commune', 'enough', 'O', 'w', 'vote', 'So', 'strongest', 'unsingable', 'GUESTS', 'hacked', 'chosen', 'g', 'vicious', 'nightfall', 'Lake', 'riding', 'Erm', 'King', \"'ve\", 'system', 'It', 'Aramaic', 'are', 'c', 'hang', 'personally', 'non-migratory', 'middle', 'anyone', 'bed-wetting', 'basis', 'got', 'north', 'were', '9', 'while', 'throughout', 'when', 'depart', 'grovel', 'tonight', 'into', 'lads', 'doubt', 'types', \"'d\", 'rock', 'Badon', 'burn', 'Peril', '12', 'attack', 'Are', 'able', 'which', 'leap', 'uuup', 'wan', 'afraid', 'coconuts', 'hospitality', 'keepers', '2', 'fly', 'gallantly', 'Allo', 'way', 'LUCKY', 'Chaste', 'etc', 'Silly', 'fought', 'many', 'ai', 'wet', 'distress', 'climes', 'court', 'necessary', 'bride', 'DINGO', 'Father', 'brunettes', 'answers', 'May', 'Aggh', 'Burn', 'varletesses', 'bridges', ',', 'full', 'Ewing', 'rodent', 'orangutans', 'having', 'Armaments', 'wonderful', 'found', 'But', 'Packing', 'disheartened', 'triumphs', 'woman', 'meant', 'set', 'shalt', 'Castle', 'swords', 'Court', \"d'you\", 'Thursday', 'Do', 'Excalibur', 'thanks', 'voluntarily', 'Bon', 'Ector', 'biters', 'Good', 'pause', 'In', 'remember', 'To', 'b', 'blanket', 'clap', 'lad', 'say', 'collective', 'Uhh', 'capital', 'out', 'summon', 'approaching', 'listen', 'worthy', 'his', 'sell', 'HEADS', 'howl', 'repressing', 'kills', 'Aaauggh', 'case', 'Perhaps', \"'ni\", 'higher', 'dare', 'watch', 'Found', 'counting', 'heart', 'Knight', 'flight', 'wedlock', 'mortally', 'wound', \"'sorry\", 'God', 'wood', 'Britain', 'resumes', 'fruit', 'er', 'commands', 'laughing', 'getting', 'spanking', 'between', 'boom', 'makes', 'Dis-mount', 'compared', 'scene', 'LEFT', 'Every', 'Loimbard', 'enchanter', 'sloths', 'Robinson', 'knocked', 'SUN', 'sense', 'exciting', 'dangerous', 'argue', 'gentle', 'naughty', 'shelter', 'Actually', 'wooden', 'such', 'tracts', 'marrying', 'bonk', 'mean', 'lying', 'either', 'mooooooo', 'Hooray', 'grip', 'kill', 'arrange', 'The', 'decided', 'examine', 'Hill', 'Divine', 'and', 'fellows', 'first', 'not', 'scribble', 'ho', 'witness', 'sometimes', 'Build', 'Blue', 'hmm', 'doing', 'Ohh', 'dunno', 'Where', 'aside', 'thirty-seven', '11', 'chops', 'rescue', 'Twenty-one', 'know', 'die', 'everything', 'Follow', 'Enchanter', 'BRIDGEKEEPER', 'Hm', 'armed', 'dad', 'U', 'slash', 'English', 'taunt', 'minutes', 'Hand', 'setting', 'Five', 'Ni', 'witches', 'ferocity', 'dynamite', 'bird', 'almost', 'language', 'dressed', 'Herbert', '20', 'Right', 'bicker', 'these', 'plover', 'tap-dancing', 'Crapper', 'Make', 'properly', \"'S\", 'GUARD', 'By', 'bond', 'minute', 'Ives', 'filth', 'Woa', 'Chapter', 'miserable', 'water', 'finds', 'entering', 'Message', 'conclusions', 'Torment', 'Very', 'Auuuuuuuugh', 'dancing', 'Thppppt', 'return', 'pimples', 'covered', 'looks', 'home', 'Yay', 'work', 'Un', 'husk', 'We', 'will', 'Yeaaah', 'identical', \"'Til\", 'pray', 'saw', 'against', 'seek', 'uuggggggh', 'OFFICER', 'fire', 'rather', 'Dingo', 'trade', 'land', 'welcome', 'England', 'breadth', 'valleys', 'dark', 'charged', 'settles', 'ham', 'fooling', 'knight', 'PRINCE', 'false', 'cut', 'Uther', 'worse', 'Get', 'wart', 'DIRECTOR', 'enter', 'required', 'so-called', 'headoff', 'illegitimate-faced', 'can', 'boys', 'favor', 'vary', 'behind', 'inside', 'thought', 'mate', 'France', 'grin', 'HISTORIAN', 'nobody', 'Together', 'guard', 'Anthrax', 'I', 'ones', 'my', 'tiny', 'named', 'KING', 'Could', 'scholar', 'biscuits', 'GUARDS', 'differences', 'entered', 'miss', 'great', 'awaaay', 'once', 'very', 'STUNNER', 'off', 'private', 'Guy', 'less', \"'cause\", 'Say', 'bring', 'bosom', 'being', 'banana-shaped', 'spirit', 'but', 'ere', 'hell', 'sample', 'throwing', '?', 'formidable', 'rrrr', 'feet', '...', 'ran', 'pissing', 'creature', 'Walk', 'domine', 'FATHER', 'Supreme', 'cadeau', 'women', 'given', 'passing', 'Quoi', 'each', 'And', 'valiant', 'stress', 'run', 'watery', 'Y', 'good', 'Aaagh', 'unarmed', 'crossed', 'retold', 'stone', 'signifying', 'de', 'tops', ';', 'lonely', 'trumpets', 'BORS', 'occasion', 'move', 'throat', 'find', 'crash', 'looney', 'whop', 'CONCORDE', 'general', 'kingdom', 'problems', 'cross', 'about', 'pack', 'accent', 'jump', 'scots', 'martin', 'remain', 'bleed', 'agree', 'suppose', 'Back', 'boil', 'real', 'hopeless', 'Gorge', 'aaaaaah', 'heard', 'stood', 'ready', 'baaaa', 'scared', 'ways', 'Churches', 'may', 'dungeon', 'returns', 'ooh', 'Hoo', 'committed', 'called', 'Hiyaah', 'Help', 'tart', 'Dennis', 'Not', 'individually', 'big', 'Dragon', 'Action', 'Augh', 'color', 'Wait', 'tree', \"'it\", 'huge', 'Exactly', 'invincible', 'Umhm', 'raised', 'Schools', 'bit', 'stops', 'Anyway', 'floats', 'PIGLET', 'sister', 'idiom', \"'anging\", 'surprise', 'donkey-bottom', 'mother', 'oo', \"e'er\", 'guest', 'One'}\n"
     ]
    }
   ],
   "source": [
    "# Import necessary modules\n",
    "from nltk.tokenize import sent_tokenize\n",
    "from nltk.tokenize import word_tokenize\n",
    "\n",
    "# Split scene_one into sentences: sentences\n",
    "sentences = sent_tokenize(scene_one)\n",
    "\n",
    "# Use word_tokenize to tokenize the fourth sentence: tokenized_sent\n",
    "tokenized_sent = word_tokenize(sentences[3])\n",
    "\n",
    "# Make a set of unique tokens in the entire scene: unique_tokens\n",
    "unique_tokens = set(word_tokenize(scene_one))\n",
    "\n",
    "# Print the unique tokens result\n",
    "print(unique_tokens)"
   ]
  },
  {
   "cell_type": "markdown",
   "metadata": {},
   "source": [
    "$\\blacktriangleright$ **Package pre-loading:**"
   ]
  },
  {
   "cell_type": "code",
   "execution_count": 20,
   "metadata": {
    "ExecuteTime": {
     "end_time": "2021-01-02T22:48:55.473564Z",
     "start_time": "2021-01-02T22:48:55.469011Z"
    }
   },
   "outputs": [],
   "source": [
    "import re"
   ]
  },
  {
   "cell_type": "markdown",
   "metadata": {},
   "source": [
    "$\\blacktriangleright$ **Regex (`re.search()`) practice:**"
   ]
  },
  {
   "cell_type": "code",
   "execution_count": 21,
   "metadata": {
    "ExecuteTime": {
     "end_time": "2021-01-02T22:48:55.502698Z",
     "start_time": "2021-01-02T22:48:55.492020Z"
    }
   },
   "outputs": [
    {
     "name": "stdout",
     "output_type": "stream",
     "text": [
      "580 588\n"
     ]
    }
   ],
   "source": [
    "# Search for the first occurrence of \"coconuts\" in scene_one: match\n",
    "match = re.search(\"coconuts\", scene_one)\n",
    "\n",
    "# Print the start and end indexes of match\n",
    "print(match.start(), match.end())"
   ]
  },
  {
   "cell_type": "code",
   "execution_count": 22,
   "metadata": {
    "ExecuteTime": {
     "end_time": "2021-01-02T22:48:55.514278Z",
     "start_time": "2021-01-02T22:48:55.507697Z"
    }
   },
   "outputs": [
    {
     "name": "stdout",
     "output_type": "stream",
     "text": [
      "<re.Match object; span=(9, 32), match='[wind] [clop clop clop]'>\n"
     ]
    }
   ],
   "source": [
    "# Write a regular expression to search for anything in square brackets: pattern1\n",
    "pattern1 = r\"\\[.*\\]\"\n",
    "\n",
    "# Use re.search to find the first text in square brackets\n",
    "print(re.search(pattern1, scene_one))"
   ]
  },
  {
   "cell_type": "code",
   "execution_count": 23,
   "metadata": {
    "ExecuteTime": {
     "end_time": "2021-01-02T22:48:55.531611Z",
     "start_time": "2021-01-02T22:48:55.524722Z"
    }
   },
   "outputs": [
    {
     "name": "stdout",
     "output_type": "stream",
     "text": [
      "<re.Match object; span=(0, 7), match='ARTHUR:'>\n"
     ]
    }
   ],
   "source": [
    "# Find the script notation at the beginning of the fourth sentence and print it\n",
    "pattern2 = r\"[\\w\\s#]+:\"\n",
    "print(re.match(pattern2, sentences[3]))"
   ]
  },
  {
   "cell_type": "markdown",
   "metadata": {
    "ExecuteTime": {
     "end_time": "2020-07-24T11:20:21.989524Z",
     "start_time": "2020-07-24T11:20:12.960881Z"
    }
   },
   "source": [
    "```\n",
    "#############################################\n",
    "##                                         ##\n",
    "##  Natural Language Processing in Python  ##\n",
    "##                                         ##\n",
    "#############################################\n",
    "\n",
    "§1 Introduction to Natural Language Processing in Python\n",
    "\n",
    "§1.1 Regular expressions & word tokenization\n",
    "```"
   ]
  },
  {
   "cell_type": "markdown",
   "metadata": {},
   "source": [
    "# Advanced tokenization with NLTK and regex"
   ]
  },
  {
   "cell_type": "markdown",
   "metadata": {},
   "source": [
    "## How to make regex groups and how to indicate \"OR\"?\n",
    "\n",
    "* \"OR\" is represented using `|`.\n",
    "\n",
    "* It is possible to define a group using `()`.\n",
    "\n",
    "* It is possible to define explicit character ranges using `[]`."
   ]
  },
  {
   "cell_type": "markdown",
   "metadata": {},
   "source": [
    "## Code of regex groups and the indication of \"OR\":"
   ]
  },
  {
   "cell_type": "code",
   "execution_count": 24,
   "metadata": {
    "ExecuteTime": {
     "end_time": "2021-01-02T22:48:56.128119Z",
     "start_time": "2021-01-02T22:48:56.119088Z"
    }
   },
   "outputs": [
    {
     "data": {
      "text/plain": [
       "['He', 'has', '11', 'cats']"
      ]
     },
     "execution_count": 24,
     "metadata": {},
     "output_type": "execute_result"
    }
   ],
   "source": [
    "import re\n",
    "\n",
    "match_digits_and_words = ('(\\d+|\\w+)')\n",
    "re.findall(match_digits_and_words, 'He has 11 cats.')"
   ]
  },
  {
   "cell_type": "markdown",
   "metadata": {},
   "source": [
    "## What are regex ranges and groups?\n",
    "\n",
    "![Regex ranges and groups.jpg](ref3.%20Regex%20ranges%20and%20groups.jpg)"
   ]
  },
  {
   "cell_type": "markdown",
   "metadata": {},
   "source": [
    "## Code of character range with `re.match()`:"
   ]
  },
  {
   "cell_type": "code",
   "execution_count": 25,
   "metadata": {
    "ExecuteTime": {
     "end_time": "2021-01-02T22:48:56.713262Z",
     "start_time": "2021-01-02T22:48:56.707114Z"
    }
   },
   "outputs": [
    {
     "data": {
      "text/plain": [
       "<re.Match object; span=(0, 35), match='match lowercase spaces nums like 12'>"
      ]
     },
     "execution_count": 25,
     "metadata": {},
     "output_type": "execute_result"
    }
   ],
   "source": [
    "import re\n",
    "\n",
    "my_str = 'match lowercase spaces nums like 12, but no commas'\n",
    "re.match('[a-z0-9 ]+', my_str)"
   ]
  },
  {
   "cell_type": "markdown",
   "metadata": {
    "ExecuteTime": {
     "end_time": "2020-12-27T20:58:42.284371Z",
     "start_time": "2020-12-27T20:58:42.280148Z"
    }
   },
   "source": [
    "## Practice question for choosing a tokenizer:\n",
    "\n",
    "* Given the following string, which of the below patterns is the best tokenizer? It is better to retain sentence punctuation as separate tokens if possible but have `'#1'` remain a single token.\n",
    "\n",
    "    ```\n",
    "    my_string = \"SOLDIER #1: Found them? In Mercea? The coconut's tropical!\"\n",
    "    ```\n",
    "    \n",
    "    $\\Box$ `r\"(\\w+|\\?|!)\"`.\n",
    "\n",
    "    $\\boxtimes$ `r\"(\\w+|#\\d|\\?|!)\"`.\n",
    "    \n",
    "    $\\Box$ `r\"(#\\d\\w+\\?!)\"`.\n",
    "        \n",
    "    $\\Box$ `r\"\\s+\"`."
   ]
  },
  {
   "cell_type": "markdown",
   "metadata": {},
   "source": [
    "$\\blacktriangleright$ **Package pre-loading:**"
   ]
  },
  {
   "cell_type": "code",
   "execution_count": 26,
   "metadata": {
    "ExecuteTime": {
     "end_time": "2021-01-02T22:48:57.387122Z",
     "start_time": "2021-01-02T22:48:57.383943Z"
    }
   },
   "outputs": [],
   "source": [
    "from nltk.tokenize import regexp_tokenize"
   ]
  },
  {
   "cell_type": "markdown",
   "metadata": {},
   "source": [
    "$\\blacktriangleright$ **Data pre-loading:**"
   ]
  },
  {
   "cell_type": "code",
   "execution_count": 27,
   "metadata": {
    "ExecuteTime": {
     "end_time": "2021-01-02T22:48:57.727848Z",
     "start_time": "2021-01-02T22:48:57.723681Z"
    }
   },
   "outputs": [],
   "source": [
    "my_string = \"SOLDIER #1: Found them? In Mercea? The coconut's tropical!\"\n",
    "string = my_string\n",
    "\n",
    "pattern1 = r\"(\\w+|\\?|!)\"\n",
    "pattern2 = r\"(\\w+|#\\d|\\?|!)\"\n",
    "pattern3 = r\"(#\\d\\w+\\?!)\"\n",
    "pattern4 = r\"\\s+\""
   ]
  },
  {
   "cell_type": "markdown",
   "metadata": {},
   "source": [
    "$\\blacktriangleright$ **Question-solving method:**"
   ]
  },
  {
   "cell_type": "code",
   "execution_count": 28,
   "metadata": {
    "ExecuteTime": {
     "end_time": "2021-01-02T22:48:58.189261Z",
     "start_time": "2021-01-02T22:48:58.181520Z"
    }
   },
   "outputs": [
    {
     "name": "stdout",
     "output_type": "stream",
     "text": [
      "['SOLDIER', '1', 'Found', 'them', '?', 'In', 'Mercea', '?', 'The', 'coconut', 's', 'tropical', '!']\n"
     ]
    }
   ],
   "source": [
    "pattern = pattern1\n",
    "print(regexp_tokenize(string, pattern))"
   ]
  },
  {
   "cell_type": "code",
   "execution_count": 29,
   "metadata": {
    "ExecuteTime": {
     "end_time": "2021-01-02T22:48:58.258031Z",
     "start_time": "2021-01-02T22:48:58.252264Z"
    }
   },
   "outputs": [
    {
     "name": "stdout",
     "output_type": "stream",
     "text": [
      "['SOLDIER', '#1', 'Found', 'them', '?', 'In', 'Mercea', '?', 'The', 'coconut', 's', 'tropical', '!']\n"
     ]
    }
   ],
   "source": [
    "pattern = pattern2\n",
    "print(regexp_tokenize(string, pattern))"
   ]
  },
  {
   "cell_type": "code",
   "execution_count": 30,
   "metadata": {
    "ExecuteTime": {
     "end_time": "2021-01-02T22:48:58.377090Z",
     "start_time": "2021-01-02T22:48:58.373043Z"
    }
   },
   "outputs": [
    {
     "name": "stdout",
     "output_type": "stream",
     "text": [
      "[]\n"
     ]
    }
   ],
   "source": [
    "pattern = pattern3\n",
    "print(regexp_tokenize(string, pattern))"
   ]
  },
  {
   "cell_type": "code",
   "execution_count": 31,
   "metadata": {
    "ExecuteTime": {
     "end_time": "2021-01-02T22:48:58.441766Z",
     "start_time": "2021-01-02T22:48:58.436508Z"
    }
   },
   "outputs": [
    {
     "name": "stdout",
     "output_type": "stream",
     "text": [
      "[' ', ' ', ' ', ' ', ' ', ' ', ' ', ' ']\n"
     ]
    }
   ],
   "source": [
    "pattern = pattern4\n",
    "print(regexp_tokenize(string, pattern))"
   ]
  },
  {
   "cell_type": "markdown",
   "metadata": {},
   "source": [
    "## Practice exercises for advanced tokenization with NLTK and regex:\n",
    "\n",
    "$\\blacktriangleright$ **Data pre-loading:**"
   ]
  },
  {
   "cell_type": "code",
   "execution_count": 32,
   "metadata": {
    "ExecuteTime": {
     "end_time": "2021-01-02T22:48:58.898333Z",
     "start_time": "2021-01-02T22:48:58.846066Z"
    }
   },
   "outputs": [],
   "source": [
    "tweets = [\n",
    "    'This is the best #nlp exercise ive found online! #python',\n",
    "    '#NLP is super fun! <3 #learning', 'Thanks @datacamp :) #nlp #python'\n",
    "]"
   ]
  },
  {
   "cell_type": "markdown",
   "metadata": {},
   "source": [
    "$\\blacktriangleright$ **NLTK regex tokenization practice:**"
   ]
  },
  {
   "cell_type": "code",
   "execution_count": 33,
   "metadata": {
    "ExecuteTime": {
     "end_time": "2021-01-02T22:48:59.149455Z",
     "start_time": "2021-01-02T22:48:59.137639Z"
    }
   },
   "outputs": [],
   "source": [
    "# Import the necessary modules\n",
    "from nltk.tokenize import TweetTokenizer\n",
    "from nltk.tokenize import regexp_tokenize"
   ]
  },
  {
   "cell_type": "code",
   "execution_count": 34,
   "metadata": {
    "ExecuteTime": {
     "end_time": "2021-01-02T22:48:59.193522Z",
     "start_time": "2021-01-02T22:48:59.189420Z"
    }
   },
   "outputs": [
    {
     "name": "stdout",
     "output_type": "stream",
     "text": [
      "['#nlp', '#python']\n"
     ]
    }
   ],
   "source": [
    "# Import the necessary modules\n",
    "from nltk.tokenize import regexp_tokenize\n",
    "from nltk.tokenize import TweetTokenizer\n",
    "# Define a regex pattern to find hashtags: pattern1\n",
    "pattern1 = r\"#\\w+\"\n",
    "# Use the pattern on the first tweet in the tweets list\n",
    "hashtags = regexp_tokenize(tweets[0], pattern1)\n",
    "print(hashtags)"
   ]
  },
  {
   "cell_type": "code",
   "execution_count": 35,
   "metadata": {
    "ExecuteTime": {
     "end_time": "2021-01-02T22:48:59.262475Z",
     "start_time": "2021-01-02T22:48:59.256999Z"
    }
   },
   "outputs": [
    {
     "name": "stdout",
     "output_type": "stream",
     "text": [
      "['@datacamp', '#nlp', '#python']\n"
     ]
    }
   ],
   "source": [
    "# Import the necessary modules\n",
    "from nltk.tokenize import regexp_tokenize\n",
    "from nltk.tokenize import TweetTokenizer\n",
    "# Write a pattern that matches both mentions (@) and hashtags\n",
    "pattern2 = r\"([@#]\\w+)\"\n",
    "# Use the pattern on the last tweet in the tweets list\n",
    "mentions_hashtags = regexp_tokenize(tweets[-1], pattern2)\n",
    "print(mentions_hashtags)"
   ]
  },
  {
   "cell_type": "code",
   "execution_count": 36,
   "metadata": {
    "ExecuteTime": {
     "end_time": "2021-01-02T22:48:59.330914Z",
     "start_time": "2021-01-02T22:48:59.324351Z"
    }
   },
   "outputs": [
    {
     "name": "stdout",
     "output_type": "stream",
     "text": [
      "[['This', 'is', 'the', 'best', '#nlp', 'exercise', 'ive', 'found', 'online', '!', '#python'], ['#NLP', 'is', 'super', 'fun', '!', '<3', '#learning'], ['Thanks', '@datacamp', ':)', '#nlp', '#python']]\n"
     ]
    }
   ],
   "source": [
    "# Import the necessary modules\n",
    "from nltk.tokenize import regexp_tokenize\n",
    "from nltk.tokenize import TweetTokenizer\n",
    "# Use the TweetTokenizer to tokenize all tweets into one list\n",
    "tknzr = TweetTokenizer()\n",
    "all_tokens = [tknzr.tokenize(t) for t in tweets]\n",
    "print(all_tokens)"
   ]
  },
  {
   "cell_type": "markdown",
   "metadata": {},
   "source": [
    "$\\blacktriangleright$ **Package pre-loading:**"
   ]
  },
  {
   "cell_type": "code",
   "execution_count": 37,
   "metadata": {
    "ExecuteTime": {
     "end_time": "2021-01-02T22:48:59.923491Z",
     "start_time": "2021-01-02T22:48:59.914963Z"
    }
   },
   "outputs": [],
   "source": [
    "from nltk.tokenize import word_tokenize"
   ]
  },
  {
   "cell_type": "markdown",
   "metadata": {},
   "source": [
    "$\\blacktriangleright$ **Data re-pre-loading:**"
   ]
  },
  {
   "cell_type": "code",
   "execution_count": 38,
   "metadata": {
    "ExecuteTime": {
     "end_time": "2021-01-02T22:49:00.195479Z",
     "start_time": "2021-01-02T22:49:00.192026Z"
    }
   },
   "outputs": [],
   "source": [
    "german_text = 'Wann gehen wir Pizza essen? 🍕 Und fährst du mit Über? 🚕'"
   ]
  },
  {
   "cell_type": "markdown",
   "metadata": {},
   "source": [
    "$\\blacktriangleright$ **Non-ASCII tokenization practice:**"
   ]
  },
  {
   "cell_type": "code",
   "execution_count": 39,
   "metadata": {
    "ExecuteTime": {
     "end_time": "2021-01-02T22:49:00.601347Z",
     "start_time": "2021-01-02T22:49:00.594756Z"
    }
   },
   "outputs": [
    {
     "name": "stdout",
     "output_type": "stream",
     "text": [
      "['Wann', 'gehen', 'wir', 'Pizza', 'essen', '?', '🍕', 'Und', 'fährst', 'du', 'mit', 'Über', '?', '🚕']\n",
      "['Wann', 'Pizza', 'Und', 'Über']\n",
      "['🍕', '🚕']\n"
     ]
    }
   ],
   "source": [
    "# Tokenize and print all words in german_text\n",
    "all_words = word_tokenize(german_text)\n",
    "print(all_words)\n",
    "\n",
    "# Tokenize and print only capital words\n",
    "capital_words = r\"[A-ZÜ]\\w+\"\n",
    "print(regexp_tokenize(german_text, capital_words))\n",
    "\n",
    "# Tokenize and print only emoji\n",
    "emoji = \"['\\U0001F300-\\U0001F5FF'|'\\U0001F600-\\U0001F64F'|\\\n",
    "'\\U0001F680-\\U0001F6FF'|'\\u2600-\\u26FF\\u2700-\\u27BF']\"\n",
    "\n",
    "print(regexp_tokenize(german_text, emoji))"
   ]
  },
  {
   "cell_type": "markdown",
   "metadata": {
    "ExecuteTime": {
     "end_time": "2020-07-24T11:20:21.989524Z",
     "start_time": "2020-07-24T11:20:12.960881Z"
    }
   },
   "source": [
    "```\n",
    "#############################################\n",
    "##                                         ##\n",
    "##  Natural Language Processing in Python  ##\n",
    "##                                         ##\n",
    "#############################################\n",
    "\n",
    "§1 Introduction to Natural Language Processing in Python\n",
    "\n",
    "§1.1 Regular expressions & word tokenization\n",
    "```"
   ]
  },
  {
   "cell_type": "markdown",
   "metadata": {},
   "source": [
    "# Charting word length with NLTK"
   ]
  },
  {
   "cell_type": "markdown",
   "metadata": {},
   "source": [
    "## Why is it in need to get started with matplotlib?\n",
    "\n",
    "* It is a charting library used by many open-source Python projects.\n",
    "\n",
    "* It has straightforward functionality with lots of options:\n",
    "\n",
    "    * *histograms*\n",
    "\n",
    "    * *bar charts*\n",
    "\n",
    "    * *line charts*\n",
    "\n",
    "    * *scatter plots*\n",
    "\n",
    "* And also, it has advanced functionality like 3D graphs and animations!"
   ]
  },
  {
   "cell_type": "markdown",
   "metadata": {},
   "source": [
    "## Code of plotting a histogram with matplotlib:"
   ]
  },
  {
   "cell_type": "code",
   "execution_count": 40,
   "metadata": {
    "ExecuteTime": {
     "end_time": "2021-01-02T22:49:03.252101Z",
     "start_time": "2021-01-02T22:49:02.209074Z"
    }
   },
   "outputs": [
    {
     "data": {
      "text/plain": [
       "(array([1., 0., 0., 0., 0., 2., 0., 3., 0., 1.]),\n",
       " array([1. , 1.8, 2.6, 3.4, 4.2, 5. , 5.8, 6.6, 7.4, 8.2, 9. ]),\n",
       " <BarContainer object of 10 artists>)"
      ]
     },
     "execution_count": 40,
     "metadata": {},
     "output_type": "execute_result"
    },
    {
     "data": {
      "image/png": "[encoded data removed]",
      "text/plain": [
       "<Figure size 432x288 with 1 Axes>"
      ]
     },
     "metadata": {
      "needs_background": "light"
     },
     "output_type": "display_data"
    }
   ],
   "source": [
    "from matplotlib import pyplot as plt\n",
    "\n",
    "plt.hist([1, 5, 5, 7, 7, 7, 9])"
   ]
  },
  {
   "cell_type": "code",
   "execution_count": 41,
   "metadata": {
    "ExecuteTime": {
     "end_time": "2021-01-02T22:49:03.560371Z",
     "start_time": "2021-01-02T22:49:03.262531Z"
    }
   },
   "outputs": [
    {
     "data": {
      "image/png": "[encoded data removed]",
      "text/plain": [
       "<Figure size 432x288 with 1 Axes>"
      ]
     },
     "metadata": {
      "needs_background": "light"
     },
     "output_type": "display_data"
    }
   ],
   "source": [
    "plt.hist([1, 5, 5, 7, 7, 7, 9])\n",
    "plt.show()"
   ]
  },
  {
   "cell_type": "markdown",
   "metadata": {},
   "source": [
    "## Code of combining NLP data extraction with plotting:"
   ]
  },
  {
   "cell_type": "code",
   "execution_count": 42,
   "metadata": {
    "ExecuteTime": {
     "end_time": "2021-01-02T22:49:03.893665Z",
     "start_time": "2021-01-02T22:49:03.569677Z"
    }
   },
   "outputs": [
    {
     "data": {
      "text/plain": [
       "(array([2., 0., 1., 0., 0., 0., 3., 0., 0., 1.]),\n",
       " array([1. , 1.5, 2. , 2.5, 3. , 3.5, 4. , 4.5, 5. , 5.5, 6. ]),\n",
       " <BarContainer object of 10 artists>)"
      ]
     },
     "execution_count": 42,
     "metadata": {},
     "output_type": "execute_result"
    },
    {
     "data": {
      "image/png": "[encoded data removed]",
      "text/plain": [
       "<Figure size 432x288 with 1 Axes>"
      ]
     },
     "metadata": {
      "needs_background": "light"
     },
     "output_type": "display_data"
    }
   ],
   "source": [
    "from matplotlib import pyplot as plt\n",
    "from nltk.tokenize import word_tokenize\n",
    "\n",
    "words = word_tokenize(\"This is a pretty cool tool!\")\n",
    "word_lengths = [len(w) for w in words]\n",
    "plt.hist(word_lengths)"
   ]
  },
  {
   "cell_type": "code",
   "execution_count": 43,
   "metadata": {
    "ExecuteTime": {
     "end_time": "2021-01-02T22:49:04.229329Z",
     "start_time": "2021-01-02T22:49:03.919986Z"
    }
   },
   "outputs": [
    {
     "data": {
      "image/png": "[encoded data removed]",
      "text/plain": [
       "<Figure size 432x288 with 1 Axes>"
      ]
     },
     "metadata": {
      "needs_background": "light"
     },
     "output_type": "display_data"
    }
   ],
   "source": [
    "plt.hist(word_lengths)\n",
    "plt.show()"
   ]
  },
  {
   "cell_type": "markdown",
   "metadata": {},
   "source": [
    "## Practice exercises for charting word length with NLTK:\n",
    "\n",
    "$\\blacktriangleright$ **Package pre-loading:**"
   ]
  },
  {
   "cell_type": "code",
   "execution_count": 44,
   "metadata": {
    "ExecuteTime": {
     "end_time": "2021-01-02T22:49:04.244163Z",
     "start_time": "2021-01-02T22:49:04.239352Z"
    }
   },
   "outputs": [],
   "source": [
    "import re\n",
    "from matplotlib import pyplot as plt\n",
    "from nltk.tokenize import regexp_tokenize"
   ]
  },
  {
   "cell_type": "markdown",
   "metadata": {},
   "source": [
    "$\\blacktriangleright$ **Data pre-loading:**"
   ]
  },
  {
   "cell_type": "code",
   "execution_count": 45,
   "metadata": {
    "ExecuteTime": {
     "end_time": "2021-01-02T22:49:04.264073Z",
     "start_time": "2021-01-02T22:49:04.259605Z"
    }
   },
   "outputs": [],
   "source": [
    "holy_grail = open(\"ref2. Monty Python and the Holy Grail.txt\").read()"
   ]
  },
  {
   "cell_type": "markdown",
   "metadata": {},
   "source": [
    "$\\blacktriangleright$ **Charting practice:**"
   ]
  },
  {
   "cell_type": "code",
   "execution_count": 46,
   "metadata": {
    "ExecuteTime": {
     "end_time": "2021-01-02T22:49:05.283876Z",
     "start_time": "2021-01-02T22:49:04.885343Z"
    }
   },
   "outputs": [
    {
     "data": {
      "image/png": "[encoded data removed]",
      "text/plain": [
       "<Figure size 432x288 with 1 Axes>"
      ]
     },
     "metadata": {
      "needs_background": "light"
     },
     "output_type": "display_data"
    }
   ],
   "source": [
    "# Split the script into lines: lines\n",
    "lines = holy_grail.split('\\n')\n",
    "\n",
    "# Replace all script lines for speaker\n",
    "pattern = \"[A-Z]{2,}(\\s)?(#\\d)?([A-Z]{2,})?:\"\n",
    "lines = [re.sub(pattern, '', l) for l in lines]\n",
    "\n",
    "# Tokenize each line: tokenized_lines\n",
    "tokenized_lines = [regexp_tokenize(s, '\\w+') for s in lines]\n",
    "\n",
    "# Make a frequency list of lengths: line_num_words\n",
    "line_num_words = [len(t_line) for t_line in tokenized_lines]\n",
    "\n",
    "# Plot a histogram of the line lengths\n",
    "plt.hist(line_num_words)\n",
    "\n",
    "# Show the plot\n",
    "plt.show()"
   ]
  }
 ],
 "metadata": {
  "kernelspec": {
   "display_name": "Python 3",
   "language": "python",
   "name": "python3"
  },
  "language_info": {
   "codemirror_mode": {
    "name": "ipython",
    "version": 3
   },
   "file_extension": ".py",
   "mimetype": "text/x-python",
   "name": "python",
   "nbconvert_exporter": "python",
   "pygments_lexer": "ipython3",
   "version": "3.7.6"
  },
  "latex_envs": {
   "LaTeX_envs_menu_present": true,
   "autoclose": true,
   "autocomplete": true,
   "bibliofile": "biblio.bib",
   "cite_by": "apalike",
   "current_citInitial": 1,
   "eqLabelWithNumbers": true,
   "eqNumInitial": 1,
   "hotkeys": {
    "equation": "Ctrl-E",
    "itemize": "Ctrl-I"
   },
   "labels_anchors": false,
   "latex_user_defs": false,
   "report_style_numbering": true,
   "user_envs_cfg": true
  },
  "nbTranslate": {
   "displayLangs": [
    "*"
   ],
   "hotkey": "alt-t",
   "langInMainMenu": true,
   "sourceLang": "en",
   "targetLang": "fr",
   "useGoogleTranslate": true
  },
  "toc": {
   "base_numbering": 1,
   "nav_menu": {},
   "number_sections": true,
   "sideBar": true,
   "skip_h1_title": false,
   "title_cell": "Table of Contents",
   "title_sidebar": "Contents",
   "toc_cell": false,
   "toc_position": {
    "height": "calc(100% - 180px)",
    "left": "10px",
    "top": "150px",
    "width": "288px"
   },
   "toc_section_display": true,
   "toc_window_display": true
  },
  "varInspector": {
   "cols": {
    "lenName": 16,
    "lenType": 16,
    "lenVar": 40
   },
   "kernels_config": {
    "python": {
     "delete_cmd_postfix": "",
     "delete_cmd_prefix": "del ",
     "library": "var_list.py",
     "varRefreshCmd": "print(var_dic_list())"
    },
    "r": {
     "delete_cmd_postfix": ") ",
     "delete_cmd_prefix": "rm(",
     "library": "var_list.r",
     "varRefreshCmd": "cat(var_dic_list()) "
    }
   },
   "types_to_exclude": [
    "module",
    "function",
    "builtin_function_or_method",
    "instance",
    "_Feature"
   ],
   "window_display": true
  }
 },
 "nbformat": 4,
 "nbformat_minor": 4
}
